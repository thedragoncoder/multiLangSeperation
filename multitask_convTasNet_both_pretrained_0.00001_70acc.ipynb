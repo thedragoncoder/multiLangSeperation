{
  "cells": [
    {
      "cell_type": "markdown",
      "metadata": {
        "id": "WLvCxOrrKzgy"
      },
      "source": [
        "Install Libraries"
      ]
    },
    {
      "cell_type": "code",
      "execution_count": 1,
      "metadata": {
        "id": "L7Gy-iEXDU0W",
        "colab": {
          "base_uri": "https://localhost:8080/"
        },
        "outputId": "9008ceb2-276c-4c0b-c516-19b27e9e5cd2"
      },
      "outputs": [
        {
          "output_type": "stream",
          "name": "stdout",
          "text": [
            "Collecting speechbrain\n",
            "  Downloading speechbrain-1.0.3-py3-none-any.whl.metadata (24 kB)\n",
            "Collecting hyperpyyaml (from speechbrain)\n",
            "  Downloading HyperPyYAML-1.2.2-py3-none-any.whl.metadata (7.6 kB)\n",
            "Requirement already satisfied: joblib in /usr/local/lib/python3.11/dist-packages (from speechbrain) (1.5.1)\n",
            "Requirement already satisfied: numpy in /usr/local/lib/python3.11/dist-packages (from speechbrain) (2.0.2)\n",
            "Requirement already satisfied: packaging in /usr/local/lib/python3.11/dist-packages (from speechbrain) (25.0)\n",
            "Requirement already satisfied: scipy in /usr/local/lib/python3.11/dist-packages (from speechbrain) (1.15.3)\n",
            "Requirement already satisfied: sentencepiece in /usr/local/lib/python3.11/dist-packages (from speechbrain) (0.2.0)\n",
            "Requirement already satisfied: torch>=1.9 in /usr/local/lib/python3.11/dist-packages (from speechbrain) (2.6.0+cu124)\n",
            "Requirement already satisfied: torchaudio in /usr/local/lib/python3.11/dist-packages (from speechbrain) (2.6.0+cu124)\n",
            "Requirement already satisfied: tqdm in /usr/local/lib/python3.11/dist-packages (from speechbrain) (4.67.1)\n",
            "Requirement already satisfied: huggingface_hub in /usr/local/lib/python3.11/dist-packages (from speechbrain) (0.33.4)\n",
            "Requirement already satisfied: filelock in /usr/local/lib/python3.11/dist-packages (from torch>=1.9->speechbrain) (3.18.0)\n",
            "Requirement already satisfied: typing-extensions>=4.10.0 in /usr/local/lib/python3.11/dist-packages (from torch>=1.9->speechbrain) (4.14.1)\n",
            "Requirement already satisfied: networkx in /usr/local/lib/python3.11/dist-packages (from torch>=1.9->speechbrain) (3.5)\n",
            "Requirement already satisfied: jinja2 in /usr/local/lib/python3.11/dist-packages (from torch>=1.9->speechbrain) (3.1.6)\n",
            "Requirement already satisfied: fsspec in /usr/local/lib/python3.11/dist-packages (from torch>=1.9->speechbrain) (2025.3.2)\n",
            "Collecting nvidia-cuda-nvrtc-cu12==12.4.127 (from torch>=1.9->speechbrain)\n",
            "  Downloading nvidia_cuda_nvrtc_cu12-12.4.127-py3-none-manylinux2014_x86_64.whl.metadata (1.5 kB)\n",
            "Collecting nvidia-cuda-runtime-cu12==12.4.127 (from torch>=1.9->speechbrain)\n",
            "  Downloading nvidia_cuda_runtime_cu12-12.4.127-py3-none-manylinux2014_x86_64.whl.metadata (1.5 kB)\n",
            "Collecting nvidia-cuda-cupti-cu12==12.4.127 (from torch>=1.9->speechbrain)\n",
            "  Downloading nvidia_cuda_cupti_cu12-12.4.127-py3-none-manylinux2014_x86_64.whl.metadata (1.6 kB)\n",
            "Collecting nvidia-cudnn-cu12==9.1.0.70 (from torch>=1.9->speechbrain)\n",
            "  Downloading nvidia_cudnn_cu12-9.1.0.70-py3-none-manylinux2014_x86_64.whl.metadata (1.6 kB)\n",
            "Collecting nvidia-cublas-cu12==12.4.5.8 (from torch>=1.9->speechbrain)\n",
            "  Downloading nvidia_cublas_cu12-12.4.5.8-py3-none-manylinux2014_x86_64.whl.metadata (1.5 kB)\n",
            "Collecting nvidia-cufft-cu12==11.2.1.3 (from torch>=1.9->speechbrain)\n",
            "  Downloading nvidia_cufft_cu12-11.2.1.3-py3-none-manylinux2014_x86_64.whl.metadata (1.5 kB)\n",
            "Collecting nvidia-curand-cu12==10.3.5.147 (from torch>=1.9->speechbrain)\n",
            "  Downloading nvidia_curand_cu12-10.3.5.147-py3-none-manylinux2014_x86_64.whl.metadata (1.5 kB)\n",
            "Collecting nvidia-cusolver-cu12==11.6.1.9 (from torch>=1.9->speechbrain)\n",
            "  Downloading nvidia_cusolver_cu12-11.6.1.9-py3-none-manylinux2014_x86_64.whl.metadata (1.6 kB)\n",
            "Collecting nvidia-cusparse-cu12==12.3.1.170 (from torch>=1.9->speechbrain)\n",
            "  Downloading nvidia_cusparse_cu12-12.3.1.170-py3-none-manylinux2014_x86_64.whl.metadata (1.6 kB)\n",
            "Requirement already satisfied: nvidia-cusparselt-cu12==0.6.2 in /usr/local/lib/python3.11/dist-packages (from torch>=1.9->speechbrain) (0.6.2)\n",
            "Requirement already satisfied: nvidia-nccl-cu12==2.21.5 in /usr/local/lib/python3.11/dist-packages (from torch>=1.9->speechbrain) (2.21.5)\n",
            "Requirement already satisfied: nvidia-nvtx-cu12==12.4.127 in /usr/local/lib/python3.11/dist-packages (from torch>=1.9->speechbrain) (12.4.127)\n",
            "Collecting nvidia-nvjitlink-cu12==12.4.127 (from torch>=1.9->speechbrain)\n",
            "  Downloading nvidia_nvjitlink_cu12-12.4.127-py3-none-manylinux2014_x86_64.whl.metadata (1.5 kB)\n",
            "Requirement already satisfied: triton==3.2.0 in /usr/local/lib/python3.11/dist-packages (from torch>=1.9->speechbrain) (3.2.0)\n",
            "Requirement already satisfied: sympy==1.13.1 in /usr/local/lib/python3.11/dist-packages (from torch>=1.9->speechbrain) (1.13.1)\n",
            "Requirement already satisfied: mpmath<1.4,>=1.1.0 in /usr/local/lib/python3.11/dist-packages (from sympy==1.13.1->torch>=1.9->speechbrain) (1.3.0)\n",
            "Requirement already satisfied: pyyaml>=5.1 in /usr/local/lib/python3.11/dist-packages (from huggingface_hub->speechbrain) (6.0.2)\n",
            "Requirement already satisfied: requests in /usr/local/lib/python3.11/dist-packages (from huggingface_hub->speechbrain) (2.32.3)\n",
            "Requirement already satisfied: hf-xet<2.0.0,>=1.1.2 in /usr/local/lib/python3.11/dist-packages (from huggingface_hub->speechbrain) (1.1.5)\n",
            "Collecting ruamel.yaml>=0.17.28 (from hyperpyyaml->speechbrain)\n",
            "  Downloading ruamel.yaml-0.18.14-py3-none-any.whl.metadata (24 kB)\n",
            "Collecting ruamel.yaml.clib>=0.2.7 (from ruamel.yaml>=0.17.28->hyperpyyaml->speechbrain)\n",
            "  Downloading ruamel.yaml.clib-0.2.12-cp311-cp311-manylinux_2_17_x86_64.manylinux2014_x86_64.whl.metadata (2.7 kB)\n",
            "Requirement already satisfied: MarkupSafe>=2.0 in /usr/local/lib/python3.11/dist-packages (from jinja2->torch>=1.9->speechbrain) (3.0.2)\n",
            "Requirement already satisfied: charset-normalizer<4,>=2 in /usr/local/lib/python3.11/dist-packages (from requests->huggingface_hub->speechbrain) (3.4.2)\n",
            "Requirement already satisfied: idna<4,>=2.5 in /usr/local/lib/python3.11/dist-packages (from requests->huggingface_hub->speechbrain) (3.10)\n",
            "Requirement already satisfied: urllib3<3,>=1.21.1 in /usr/local/lib/python3.11/dist-packages (from requests->huggingface_hub->speechbrain) (2.4.0)\n",
            "Requirement already satisfied: certifi>=2017.4.17 in /usr/local/lib/python3.11/dist-packages (from requests->huggingface_hub->speechbrain) (2025.7.14)\n",
            "Downloading speechbrain-1.0.3-py3-none-any.whl (864 kB)\n",
            "\u001b[2K   \u001b[90m━━━━━━━━━━━━━━━━━━━━━━━━━━━━━━━━━━━━━━━━\u001b[0m \u001b[32m864.1/864.1 kB\u001b[0m \u001b[31m14.8 MB/s\u001b[0m eta \u001b[36m0:00:00\u001b[0m\n",
            "\u001b[?25hDownloading nvidia_cublas_cu12-12.4.5.8-py3-none-manylinux2014_x86_64.whl (363.4 MB)\n",
            "\u001b[2K   \u001b[90m━━━━━━━━━━━━━━━━━━━━━━━━━━━━━━━━━━━━━━━━\u001b[0m \u001b[32m363.4/363.4 MB\u001b[0m \u001b[31m3.3 MB/s\u001b[0m eta \u001b[36m0:00:00\u001b[0m\n",
            "\u001b[?25hDownloading nvidia_cuda_cupti_cu12-12.4.127-py3-none-manylinux2014_x86_64.whl (13.8 MB)\n",
            "\u001b[2K   \u001b[90m━━━━━━━━━━━━━━━━━━━━━━━━━━━━━━━━━━━━━━━━\u001b[0m \u001b[32m13.8/13.8 MB\u001b[0m \u001b[31m107.8 MB/s\u001b[0m eta \u001b[36m0:00:00\u001b[0m\n",
            "\u001b[?25hDownloading nvidia_cuda_nvrtc_cu12-12.4.127-py3-none-manylinux2014_x86_64.whl (24.6 MB)\n",
            "\u001b[2K   \u001b[90m━━━━━━━━━━━━━━━━━━━━━━━━━━━━━━━━━━━━━━━━\u001b[0m \u001b[32m24.6/24.6 MB\u001b[0m \u001b[31m71.5 MB/s\u001b[0m eta \u001b[36m0:00:00\u001b[0m\n",
            "\u001b[?25hDownloading nvidia_cuda_runtime_cu12-12.4.127-py3-none-manylinux2014_x86_64.whl (883 kB)\n",
            "\u001b[2K   \u001b[90m━━━━━━━━━━━━━━━━━━━━━━━━━━━━━━━━━━━━━━━━\u001b[0m \u001b[32m883.7/883.7 kB\u001b[0m \u001b[31m60.0 MB/s\u001b[0m eta \u001b[36m0:00:00\u001b[0m\n",
            "\u001b[?25hDownloading nvidia_cudnn_cu12-9.1.0.70-py3-none-manylinux2014_x86_64.whl (664.8 MB)\n",
            "\u001b[2K   \u001b[90m━━━━━━━━━━━━━━━━━━━━━━━━━━━━━━━━━━━━━━━━\u001b[0m \u001b[32m664.8/664.8 MB\u001b[0m \u001b[31m1.7 MB/s\u001b[0m eta \u001b[36m0:00:00\u001b[0m\n",
            "\u001b[?25hDownloading nvidia_cufft_cu12-11.2.1.3-py3-none-manylinux2014_x86_64.whl (211.5 MB)\n",
            "\u001b[2K   \u001b[90m━━━━━━━━━━━━━━━━━━━━━━━━━━━━━━━━━━━━━━━━\u001b[0m \u001b[32m211.5/211.5 MB\u001b[0m \u001b[31m11.5 MB/s\u001b[0m eta \u001b[36m0:00:00\u001b[0m\n",
            "\u001b[?25hDownloading nvidia_curand_cu12-10.3.5.147-py3-none-manylinux2014_x86_64.whl (56.3 MB)\n",
            "\u001b[2K   \u001b[90m━━━━━━━━━━━━━━━━━━━━━━━━━━━━━━━━━━━━━━━━\u001b[0m \u001b[32m56.3/56.3 MB\u001b[0m \u001b[31m42.7 MB/s\u001b[0m eta \u001b[36m0:00:00\u001b[0m\n",
            "\u001b[?25hDownloading nvidia_cusolver_cu12-11.6.1.9-py3-none-manylinux2014_x86_64.whl (127.9 MB)\n",
            "\u001b[2K   \u001b[90m━━━━━━━━━━━━━━━━━━━━━━━━━━━━━━━━━━━━━━━━\u001b[0m \u001b[32m127.9/127.9 MB\u001b[0m \u001b[31m19.4 MB/s\u001b[0m eta \u001b[36m0:00:00\u001b[0m\n",
            "\u001b[?25hDownloading nvidia_cusparse_cu12-12.3.1.170-py3-none-manylinux2014_x86_64.whl (207.5 MB)\n",
            "\u001b[2K   \u001b[90m━━━━━━━━━━━━━━━━━━━━━━━━━━━━━━━━━━━━━━━━\u001b[0m \u001b[32m207.5/207.5 MB\u001b[0m \u001b[31m3.4 MB/s\u001b[0m eta \u001b[36m0:00:00\u001b[0m\n",
            "\u001b[?25hDownloading nvidia_nvjitlink_cu12-12.4.127-py3-none-manylinux2014_x86_64.whl (21.1 MB)\n",
            "\u001b[2K   \u001b[90m━━━━━━━━━━━━━━━━━━━━━━━━━━━━━━━━━━━━━━━━\u001b[0m \u001b[32m21.1/21.1 MB\u001b[0m \u001b[31m103.3 MB/s\u001b[0m eta \u001b[36m0:00:00\u001b[0m\n",
            "\u001b[?25hDownloading HyperPyYAML-1.2.2-py3-none-any.whl (16 kB)\n",
            "Downloading ruamel.yaml-0.18.14-py3-none-any.whl (118 kB)\n",
            "\u001b[2K   \u001b[90m━━━━━━━━━━━━━━━━━━━━━━━━━━━━━━━━━━━━━━━━\u001b[0m \u001b[32m118.6/118.6 kB\u001b[0m \u001b[31m12.0 MB/s\u001b[0m eta \u001b[36m0:00:00\u001b[0m\n",
            "\u001b[?25hDownloading ruamel.yaml.clib-0.2.12-cp311-cp311-manylinux_2_17_x86_64.manylinux2014_x86_64.whl (739 kB)\n",
            "\u001b[2K   \u001b[90m━━━━━━━━━━━━━━━━━━━━━━━━━━━━━━━━━━━━━━━━\u001b[0m \u001b[32m739.1/739.1 kB\u001b[0m \u001b[31m48.1 MB/s\u001b[0m eta \u001b[36m0:00:00\u001b[0m\n",
            "\u001b[?25hInstalling collected packages: ruamel.yaml.clib, nvidia-nvjitlink-cu12, nvidia-curand-cu12, nvidia-cufft-cu12, nvidia-cuda-runtime-cu12, nvidia-cuda-nvrtc-cu12, nvidia-cuda-cupti-cu12, nvidia-cublas-cu12, ruamel.yaml, nvidia-cusparse-cu12, nvidia-cudnn-cu12, nvidia-cusolver-cu12, hyperpyyaml, speechbrain\n",
            "  Attempting uninstall: nvidia-nvjitlink-cu12\n",
            "    Found existing installation: nvidia-nvjitlink-cu12 12.5.82\n",
            "    Uninstalling nvidia-nvjitlink-cu12-12.5.82:\n",
            "      Successfully uninstalled nvidia-nvjitlink-cu12-12.5.82\n",
            "  Attempting uninstall: nvidia-curand-cu12\n",
            "    Found existing installation: nvidia-curand-cu12 10.3.6.82\n",
            "    Uninstalling nvidia-curand-cu12-10.3.6.82:\n",
            "      Successfully uninstalled nvidia-curand-cu12-10.3.6.82\n",
            "  Attempting uninstall: nvidia-cufft-cu12\n",
            "    Found existing installation: nvidia-cufft-cu12 11.2.3.61\n",
            "    Uninstalling nvidia-cufft-cu12-11.2.3.61:\n",
            "      Successfully uninstalled nvidia-cufft-cu12-11.2.3.61\n",
            "  Attempting uninstall: nvidia-cuda-runtime-cu12\n",
            "    Found existing installation: nvidia-cuda-runtime-cu12 12.5.82\n",
            "    Uninstalling nvidia-cuda-runtime-cu12-12.5.82:\n",
            "      Successfully uninstalled nvidia-cuda-runtime-cu12-12.5.82\n",
            "  Attempting uninstall: nvidia-cuda-nvrtc-cu12\n",
            "    Found existing installation: nvidia-cuda-nvrtc-cu12 12.5.82\n",
            "    Uninstalling nvidia-cuda-nvrtc-cu12-12.5.82:\n",
            "      Successfully uninstalled nvidia-cuda-nvrtc-cu12-12.5.82\n",
            "  Attempting uninstall: nvidia-cuda-cupti-cu12\n",
            "    Found existing installation: nvidia-cuda-cupti-cu12 12.5.82\n",
            "    Uninstalling nvidia-cuda-cupti-cu12-12.5.82:\n",
            "      Successfully uninstalled nvidia-cuda-cupti-cu12-12.5.82\n",
            "  Attempting uninstall: nvidia-cublas-cu12\n",
            "    Found existing installation: nvidia-cublas-cu12 12.5.3.2\n",
            "    Uninstalling nvidia-cublas-cu12-12.5.3.2:\n",
            "      Successfully uninstalled nvidia-cublas-cu12-12.5.3.2\n",
            "  Attempting uninstall: nvidia-cusparse-cu12\n",
            "    Found existing installation: nvidia-cusparse-cu12 12.5.1.3\n",
            "    Uninstalling nvidia-cusparse-cu12-12.5.1.3:\n",
            "      Successfully uninstalled nvidia-cusparse-cu12-12.5.1.3\n",
            "  Attempting uninstall: nvidia-cudnn-cu12\n",
            "    Found existing installation: nvidia-cudnn-cu12 9.3.0.75\n",
            "    Uninstalling nvidia-cudnn-cu12-9.3.0.75:\n",
            "      Successfully uninstalled nvidia-cudnn-cu12-9.3.0.75\n",
            "  Attempting uninstall: nvidia-cusolver-cu12\n",
            "    Found existing installation: nvidia-cusolver-cu12 11.6.3.83\n",
            "    Uninstalling nvidia-cusolver-cu12-11.6.3.83:\n",
            "      Successfully uninstalled nvidia-cusolver-cu12-11.6.3.83\n",
            "Successfully installed hyperpyyaml-1.2.2 nvidia-cublas-cu12-12.4.5.8 nvidia-cuda-cupti-cu12-12.4.127 nvidia-cuda-nvrtc-cu12-12.4.127 nvidia-cuda-runtime-cu12-12.4.127 nvidia-cudnn-cu12-9.1.0.70 nvidia-cufft-cu12-11.2.1.3 nvidia-curand-cu12-10.3.5.147 nvidia-cusolver-cu12-11.6.1.9 nvidia-cusparse-cu12-12.3.1.170 nvidia-nvjitlink-cu12-12.4.127 ruamel.yaml-0.18.14 ruamel.yaml.clib-0.2.12 speechbrain-1.0.3\n",
            "Collecting mir_eval\n",
            "  Downloading mir_eval-0.8.2-py3-none-any.whl.metadata (3.0 kB)\n",
            "Requirement already satisfied: numpy>=1.15.4 in /usr/local/lib/python3.11/dist-packages (from mir_eval) (2.0.2)\n",
            "Requirement already satisfied: scipy>=1.4.0 in /usr/local/lib/python3.11/dist-packages (from mir_eval) (1.15.3)\n",
            "Requirement already satisfied: decorator in /usr/local/lib/python3.11/dist-packages (from mir_eval) (4.4.2)\n",
            "Downloading mir_eval-0.8.2-py3-none-any.whl (102 kB)\n",
            "\u001b[2K   \u001b[90m━━━━━━━━━━━━━━━━━━━━━━━━━━━━━━━━━━━━━━━━\u001b[0m \u001b[32m102.8/102.8 kB\u001b[0m \u001b[31m3.0 MB/s\u001b[0m eta \u001b[36m0:00:00\u001b[0m\n",
            "\u001b[?25hInstalling collected packages: mir_eval\n",
            "Successfully installed mir_eval-0.8.2\n",
            "Collecting asteroid\n",
            "  Downloading asteroid-0.7.0-py3-none-any.whl.metadata (11 kB)\n",
            "Requirement already satisfied: numpy>=1.16.4 in /usr/local/lib/python3.11/dist-packages (from asteroid) (2.0.2)\n",
            "Requirement already satisfied: scipy>=1.10.1 in /usr/local/lib/python3.11/dist-packages (from asteroid) (1.15.3)\n",
            "Requirement already satisfied: torch>=2.0.0 in /usr/local/lib/python3.11/dist-packages (from asteroid) (2.6.0+cu124)\n",
            "Collecting asteroid-filterbanks>=0.4.0 (from asteroid)\n",
            "  Downloading asteroid_filterbanks-0.4.0-py3-none-any.whl.metadata (3.3 kB)\n",
            "Requirement already satisfied: SoundFile>=0.10.2 in /usr/local/lib/python3.11/dist-packages (from asteroid) (0.13.1)\n",
            "Requirement already satisfied: huggingface-hub>=0.0.2 in /usr/local/lib/python3.11/dist-packages (from asteroid) (0.33.4)\n",
            "Requirement already satisfied: PyYAML>=5.0 in /usr/local/lib/python3.11/dist-packages (from asteroid) (6.0.2)\n",
            "Requirement already satisfied: pandas>=0.23.4 in /usr/local/lib/python3.11/dist-packages (from asteroid) (2.2.2)\n",
            "Collecting pytorch-lightning>=2.0.0 (from asteroid)\n",
            "  Downloading pytorch_lightning-2.5.2-py3-none-any.whl.metadata (21 kB)\n",
            "Collecting torchmetrics<=0.11.4 (from asteroid)\n",
            "  Downloading torchmetrics-0.11.4-py3-none-any.whl.metadata (15 kB)\n",
            "Requirement already satisfied: torchaudio>=0.5.0 in /usr/local/lib/python3.11/dist-packages (from asteroid) (2.6.0+cu124)\n",
            "Collecting pb-bss-eval>=0.0.2 (from asteroid)\n",
            "  Downloading pb_bss_eval-0.0.2-py3-none-any.whl.metadata (3.1 kB)\n",
            "Collecting torch-stoi>=0.1.2 (from asteroid)\n",
            "  Downloading torch_stoi-0.2.3-py3-none-any.whl.metadata (3.6 kB)\n",
            "Collecting torch-optimizer<0.2.0,>=0.0.1a12 (from asteroid)\n",
            "  Downloading torch_optimizer-0.1.0-py3-none-any.whl.metadata (53 kB)\n",
            "\u001b[2K     \u001b[90m━━━━━━━━━━━━━━━━━━━━━━━━━━━━━━━━━━━━━━━━\u001b[0m \u001b[32m53.5/53.5 kB\u001b[0m \u001b[31m2.5 MB/s\u001b[0m eta \u001b[36m0:00:00\u001b[0m\n",
            "\u001b[?25hCollecting julius (from asteroid)\n",
            "  Downloading julius-0.2.7.tar.gz (59 kB)\n",
            "\u001b[2K     \u001b[90m━━━━━━━━━━━━━━━━━━━━━━━━━━━━━━━━━━━━━━━━\u001b[0m \u001b[32m59.6/59.6 kB\u001b[0m \u001b[31m5.7 MB/s\u001b[0m eta \u001b[36m0:00:00\u001b[0m\n",
            "\u001b[?25h  Preparing metadata (setup.py) ... \u001b[?25l\u001b[?25hdone\n",
            "Requirement already satisfied: typing-extensions in /usr/local/lib/python3.11/dist-packages (from asteroid-filterbanks>=0.4.0->asteroid) (4.14.1)\n",
            "Requirement already satisfied: filelock in /usr/local/lib/python3.11/dist-packages (from huggingface-hub>=0.0.2->asteroid) (3.18.0)\n",
            "Requirement already satisfied: fsspec>=2023.5.0 in /usr/local/lib/python3.11/dist-packages (from huggingface-hub>=0.0.2->asteroid) (2025.3.2)\n",
            "Requirement already satisfied: packaging>=20.9 in /usr/local/lib/python3.11/dist-packages (from huggingface-hub>=0.0.2->asteroid) (25.0)\n",
            "Requirement already satisfied: requests in /usr/local/lib/python3.11/dist-packages (from huggingface-hub>=0.0.2->asteroid) (2.32.3)\n",
            "Requirement already satisfied: tqdm>=4.42.1 in /usr/local/lib/python3.11/dist-packages (from huggingface-hub>=0.0.2->asteroid) (4.67.1)\n",
            "Requirement already satisfied: hf-xet<2.0.0,>=1.1.2 in /usr/local/lib/python3.11/dist-packages (from huggingface-hub>=0.0.2->asteroid) (1.1.5)\n",
            "Requirement already satisfied: python-dateutil>=2.8.2 in /usr/local/lib/python3.11/dist-packages (from pandas>=0.23.4->asteroid) (2.9.0.post0)\n",
            "Requirement already satisfied: pytz>=2020.1 in /usr/local/lib/python3.11/dist-packages (from pandas>=0.23.4->asteroid) (2025.2)\n",
            "Requirement already satisfied: tzdata>=2022.7 in /usr/local/lib/python3.11/dist-packages (from pandas>=0.23.4->asteroid) (2025.2)\n",
            "Collecting cached-property (from pb-bss-eval>=0.0.2->asteroid)\n",
            "  Downloading cached_property-2.0.1-py3-none-any.whl.metadata (10 kB)\n",
            "Requirement already satisfied: einops in /usr/local/lib/python3.11/dist-packages (from pb-bss-eval>=0.0.2->asteroid) (0.8.1)\n",
            "Collecting pystoi (from pb-bss-eval>=0.0.2->asteroid)\n",
            "  Downloading pystoi-0.4.1-py2.py3-none-any.whl.metadata (4.0 kB)\n",
            "Requirement already satisfied: mir-eval in /usr/local/lib/python3.11/dist-packages (from pb-bss-eval>=0.0.2->asteroid) (0.8.2)\n",
            "Collecting pesq (from pb-bss-eval>=0.0.2->asteroid)\n",
            "  Downloading pesq-0.0.4.tar.gz (38 kB)\n",
            "  Preparing metadata (setup.py) ... \u001b[?25l\u001b[?25hdone\n",
            "Collecting lightning-utilities>=0.10.0 (from pytorch-lightning>=2.0.0->asteroid)\n",
            "  Downloading lightning_utilities-0.14.3-py3-none-any.whl.metadata (5.6 kB)\n",
            "Requirement already satisfied: cffi>=1.0 in /usr/local/lib/python3.11/dist-packages (from SoundFile>=0.10.2->asteroid) (1.17.1)\n",
            "Requirement already satisfied: networkx in /usr/local/lib/python3.11/dist-packages (from torch>=2.0.0->asteroid) (3.5)\n",
            "Requirement already satisfied: jinja2 in /usr/local/lib/python3.11/dist-packages (from torch>=2.0.0->asteroid) (3.1.6)\n",
            "Requirement already satisfied: nvidia-cuda-nvrtc-cu12==12.4.127 in /usr/local/lib/python3.11/dist-packages (from torch>=2.0.0->asteroid) (12.4.127)\n",
            "Requirement already satisfied: nvidia-cuda-runtime-cu12==12.4.127 in /usr/local/lib/python3.11/dist-packages (from torch>=2.0.0->asteroid) (12.4.127)\n",
            "Requirement already satisfied: nvidia-cuda-cupti-cu12==12.4.127 in /usr/local/lib/python3.11/dist-packages (from torch>=2.0.0->asteroid) (12.4.127)\n",
            "Requirement already satisfied: nvidia-cudnn-cu12==9.1.0.70 in /usr/local/lib/python3.11/dist-packages (from torch>=2.0.0->asteroid) (9.1.0.70)\n",
            "Requirement already satisfied: nvidia-cublas-cu12==12.4.5.8 in /usr/local/lib/python3.11/dist-packages (from torch>=2.0.0->asteroid) (12.4.5.8)\n",
            "Requirement already satisfied: nvidia-cufft-cu12==11.2.1.3 in /usr/local/lib/python3.11/dist-packages (from torch>=2.0.0->asteroid) (11.2.1.3)\n",
            "Requirement already satisfied: nvidia-curand-cu12==10.3.5.147 in /usr/local/lib/python3.11/dist-packages (from torch>=2.0.0->asteroid) (10.3.5.147)\n",
            "Requirement already satisfied: nvidia-cusolver-cu12==11.6.1.9 in /usr/local/lib/python3.11/dist-packages (from torch>=2.0.0->asteroid) (11.6.1.9)\n",
            "Requirement already satisfied: nvidia-cusparse-cu12==12.3.1.170 in /usr/local/lib/python3.11/dist-packages (from torch>=2.0.0->asteroid) (12.3.1.170)\n",
            "Requirement already satisfied: nvidia-cusparselt-cu12==0.6.2 in /usr/local/lib/python3.11/dist-packages (from torch>=2.0.0->asteroid) (0.6.2)\n",
            "Requirement already satisfied: nvidia-nccl-cu12==2.21.5 in /usr/local/lib/python3.11/dist-packages (from torch>=2.0.0->asteroid) (2.21.5)\n",
            "Requirement already satisfied: nvidia-nvtx-cu12==12.4.127 in /usr/local/lib/python3.11/dist-packages (from torch>=2.0.0->asteroid) (12.4.127)\n",
            "Requirement already satisfied: nvidia-nvjitlink-cu12==12.4.127 in /usr/local/lib/python3.11/dist-packages (from torch>=2.0.0->asteroid) (12.4.127)\n",
            "Requirement already satisfied: triton==3.2.0 in /usr/local/lib/python3.11/dist-packages (from torch>=2.0.0->asteroid) (3.2.0)\n",
            "Requirement already satisfied: sympy==1.13.1 in /usr/local/lib/python3.11/dist-packages (from torch>=2.0.0->asteroid) (1.13.1)\n",
            "Requirement already satisfied: mpmath<1.4,>=1.1.0 in /usr/local/lib/python3.11/dist-packages (from sympy==1.13.1->torch>=2.0.0->asteroid) (1.3.0)\n",
            "Collecting pytorch-ranger>=0.1.1 (from torch-optimizer<0.2.0,>=0.0.1a12->asteroid)\n",
            "  Downloading pytorch_ranger-0.1.1-py3-none-any.whl.metadata (509 bytes)\n",
            "Requirement already satisfied: pycparser in /usr/local/lib/python3.11/dist-packages (from cffi>=1.0->SoundFile>=0.10.2->asteroid) (2.22)\n",
            "Requirement already satisfied: aiohttp!=4.0.0a0,!=4.0.0a1 in /usr/local/lib/python3.11/dist-packages (from fsspec[http]>=2022.5.0->pytorch-lightning>=2.0.0->asteroid) (3.11.15)\n",
            "Requirement already satisfied: setuptools in /usr/local/lib/python3.11/dist-packages (from lightning-utilities>=0.10.0->pytorch-lightning>=2.0.0->asteroid) (75.2.0)\n",
            "Requirement already satisfied: six>=1.5 in /usr/local/lib/python3.11/dist-packages (from python-dateutil>=2.8.2->pandas>=0.23.4->asteroid) (1.17.0)\n",
            "Requirement already satisfied: MarkupSafe>=2.0 in /usr/local/lib/python3.11/dist-packages (from jinja2->torch>=2.0.0->asteroid) (3.0.2)\n",
            "Requirement already satisfied: decorator in /usr/local/lib/python3.11/dist-packages (from mir-eval->pb-bss-eval>=0.0.2->asteroid) (4.4.2)\n",
            "Requirement already satisfied: charset-normalizer<4,>=2 in /usr/local/lib/python3.11/dist-packages (from requests->huggingface-hub>=0.0.2->asteroid) (3.4.2)\n",
            "Requirement already satisfied: idna<4,>=2.5 in /usr/local/lib/python3.11/dist-packages (from requests->huggingface-hub>=0.0.2->asteroid) (3.10)\n",
            "Requirement already satisfied: urllib3<3,>=1.21.1 in /usr/local/lib/python3.11/dist-packages (from requests->huggingface-hub>=0.0.2->asteroid) (2.4.0)\n",
            "Requirement already satisfied: certifi>=2017.4.17 in /usr/local/lib/python3.11/dist-packages (from requests->huggingface-hub>=0.0.2->asteroid) (2025.7.14)\n",
            "Requirement already satisfied: aiohappyeyeballs>=2.3.0 in /usr/local/lib/python3.11/dist-packages (from aiohttp!=4.0.0a0,!=4.0.0a1->fsspec[http]>=2022.5.0->pytorch-lightning>=2.0.0->asteroid) (2.6.1)\n",
            "Requirement already satisfied: aiosignal>=1.1.2 in /usr/local/lib/python3.11/dist-packages (from aiohttp!=4.0.0a0,!=4.0.0a1->fsspec[http]>=2022.5.0->pytorch-lightning>=2.0.0->asteroid) (1.4.0)\n",
            "Requirement already satisfied: attrs>=17.3.0 in /usr/local/lib/python3.11/dist-packages (from aiohttp!=4.0.0a0,!=4.0.0a1->fsspec[http]>=2022.5.0->pytorch-lightning>=2.0.0->asteroid) (25.3.0)\n",
            "Requirement already satisfied: frozenlist>=1.1.1 in /usr/local/lib/python3.11/dist-packages (from aiohttp!=4.0.0a0,!=4.0.0a1->fsspec[http]>=2022.5.0->pytorch-lightning>=2.0.0->asteroid) (1.7.0)\n",
            "Requirement already satisfied: multidict<7.0,>=4.5 in /usr/local/lib/python3.11/dist-packages (from aiohttp!=4.0.0a0,!=4.0.0a1->fsspec[http]>=2022.5.0->pytorch-lightning>=2.0.0->asteroid) (6.6.3)\n",
            "Requirement already satisfied: propcache>=0.2.0 in /usr/local/lib/python3.11/dist-packages (from aiohttp!=4.0.0a0,!=4.0.0a1->fsspec[http]>=2022.5.0->pytorch-lightning>=2.0.0->asteroid) (0.3.2)\n",
            "Requirement already satisfied: yarl<2.0,>=1.17.0 in /usr/local/lib/python3.11/dist-packages (from aiohttp!=4.0.0a0,!=4.0.0a1->fsspec[http]>=2022.5.0->pytorch-lightning>=2.0.0->asteroid) (1.20.1)\n",
            "Downloading asteroid-0.7.0-py3-none-any.whl (156 kB)\n",
            "\u001b[2K   \u001b[90m━━━━━━━━━━━━━━━━━━━━━━━━━━━━━━━━━━━━━━━━\u001b[0m \u001b[32m156.4/156.4 kB\u001b[0m \u001b[31m7.9 MB/s\u001b[0m eta \u001b[36m0:00:00\u001b[0m\n",
            "\u001b[?25hDownloading asteroid_filterbanks-0.4.0-py3-none-any.whl (29 kB)\n",
            "Downloading pb_bss_eval-0.0.2-py3-none-any.whl (14 kB)\n",
            "Downloading pytorch_lightning-2.5.2-py3-none-any.whl (825 kB)\n",
            "\u001b[2K   \u001b[90m━━━━━━━━━━━━━━━━━━━━━━━━━━━━━━━━━━━━━━━━\u001b[0m \u001b[32m825.4/825.4 kB\u001b[0m \u001b[31m26.5 MB/s\u001b[0m eta \u001b[36m0:00:00\u001b[0m\n",
            "\u001b[?25hDownloading torch_optimizer-0.1.0-py3-none-any.whl (72 kB)\n",
            "\u001b[2K   \u001b[90m━━━━━━━━━━━━━━━━━━━━━━━━━━━━━━━━━━━━━━━━\u001b[0m \u001b[32m72.5/72.5 kB\u001b[0m \u001b[31m7.3 MB/s\u001b[0m eta \u001b[36m0:00:00\u001b[0m\n",
            "\u001b[?25hDownloading torch_stoi-0.2.3-py3-none-any.whl (8.1 kB)\n",
            "Downloading torchmetrics-0.11.4-py3-none-any.whl (519 kB)\n",
            "\u001b[2K   \u001b[90m━━━━━━━━━━━━━━━━━━━━━━━━━━━━━━━━━━━━━━━━\u001b[0m \u001b[32m519.2/519.2 kB\u001b[0m \u001b[31m41.0 MB/s\u001b[0m eta \u001b[36m0:00:00\u001b[0m\n",
            "\u001b[?25hDownloading lightning_utilities-0.14.3-py3-none-any.whl (28 kB)\n",
            "Downloading pytorch_ranger-0.1.1-py3-none-any.whl (14 kB)\n",
            "Downloading cached_property-2.0.1-py3-none-any.whl (7.4 kB)\n",
            "Downloading pystoi-0.4.1-py2.py3-none-any.whl (8.2 kB)\n",
            "Building wheels for collected packages: julius, pesq\n",
            "  Building wheel for julius (setup.py) ... \u001b[?25l\u001b[?25hdone\n",
            "  Created wheel for julius: filename=julius-0.2.7-py3-none-any.whl size=21870 sha256=3d7880433555465d44f7192d4f2671448b06525002ce25c930b8409a17a5f5ad\n",
            "  Stored in directory: /root/.cache/pip/wheels/16/15/d4/edd724cefe78050a6ba3344b8b0c6672db829a799dbb9f81ff\n",
            "  Building wheel for pesq (setup.py) ... \u001b[?25l\u001b[?25hdone\n",
            "  Created wheel for pesq: filename=pesq-0.0.4-cp311-cp311-linux_x86_64.whl size=274955 sha256=85e39749fb211dd208f9e43b18c72975444e9066ccda66d451cf74395cbe74e5\n",
            "  Stored in directory: /root/.cache/pip/wheels/ae/f1/23/2698d0bf31eec2b2aa50623b5d93b6206c49c7155d0e31345d\n",
            "Successfully built julius pesq\n",
            "Installing collected packages: pesq, lightning-utilities, cached-property, pystoi, pb-bss-eval, torchmetrics, pytorch-ranger, julius, asteroid-filterbanks, torch-stoi, torch-optimizer, pytorch-lightning, asteroid\n",
            "Successfully installed asteroid-0.7.0 asteroid-filterbanks-0.4.0 cached-property-2.0.1 julius-0.2.7 lightning-utilities-0.14.3 pb-bss-eval-0.0.2 pesq-0.0.4 pystoi-0.4.1 pytorch-lightning-2.5.2 pytorch-ranger-0.1.1 torch-optimizer-0.1.0 torch-stoi-0.2.3 torchmetrics-0.11.4\n"
          ]
        }
      ],
      "source": [
        "!pip install --upgrade speechbrain\n",
        "!pip install mir_eval\n",
        "!pip install -U asteroid"
      ]
    },
    {
      "cell_type": "markdown",
      "metadata": {
        "id": "kRvbNfp-K63d"
      },
      "source": [
        "Generate data set"
      ]
    },
    {
      "cell_type": "code",
      "execution_count": 2,
      "metadata": {
        "colab": {
          "base_uri": "https://localhost:8080/"
        },
        "id": "yyRYdH_E1vqc",
        "outputId": "974a3f98-9c60-41e5-ad7f-5385496adbc1"
      },
      "outputs": [
        {
          "output_type": "stream",
          "name": "stdout",
          "text": [
            "Mounted at /content/drive\n"
          ]
        }
      ],
      "source": [
        "from google.colab import drive\n",
        "import zipfile\n",
        "drive.mount('/content/drive')\n",
        "zip_path = '/content/drive/MyDrive/Project/dataset_2500.zip'\n",
        "with zipfile.ZipFile(zip_path, \"r\") as zip_ref:\n",
        "  zip_ref.extractall('./dataset')\n",
        "results_path = '/content/drive/MyDrive/Results.zip'\n",
        "with zipfile.ZipFile(results_path, \"r\") as zip_ref:\n",
        "  zip_ref.extractall('./convTasNet')"
      ]
    },
    {
      "cell_type": "markdown",
      "metadata": {
        "id": "3rOGCKEMhw9Q"
      },
      "source": [
        "Hparams yaml File\n"
      ]
    },
    {
      "cell_type": "code",
      "execution_count": 4,
      "metadata": {
        "id": "X3gEuzUMh0PF",
        "colab": {
          "base_uri": "https://localhost:8080/"
        },
        "outputId": "48158c11-cbdb-4f85-8e82-bc0716c4eec9"
      },
      "outputs": [
        {
          "output_type": "stream",
          "name": "stdout",
          "text": [
            "mkdir: cannot create directory ‘/content/dataset/metadata’: File exists\n",
            "mkdir: cannot create directory ‘/content/dataset/metadata/test’: File exists\n",
            "mkdir: cannot create directory ‘/content/dataset/metadata/train’: File exists\n",
            "mkdir: cannot create directory ‘/content/dataset/metadata/validate’: File exists\n",
            "mv: cannot stat '/content/dataset/test/metadata.csv': No such file or directory\n",
            "mv: cannot stat '/content/dataset/train/metadata.csv': No such file or directory\n",
            "mv: cannot stat '/content/dataset/validate/metadata.csv': No such file or directory\n",
            "mkdir: cannot create directory ‘./hparams’: File exists\n",
            "cp: cannot stat '/content/drive/MyDrive/Project/results_80': No such file or directory\n"
          ]
        }
      ],
      "source": [
        "\n",
        "!mkdir /content/dataset/metadata\n",
        "!mkdir /content/dataset/metadata/test\n",
        "!mkdir /content/dataset/metadata/train\n",
        "!mkdir /content/dataset/metadata/validate\n",
        "!mv /content/dataset/test/metadata.csv /content/dataset/metadata/test/\n",
        "!mv /content/dataset/train/metadata.csv /content/dataset/metadata/train/\n",
        "!mv /content/dataset/validate/metadata.csv /content/dataset/metadata/validate/\n",
        "# !rm -rf './hparams'\n",
        "!mkdir './hparams'\n",
        "!cp '/content/drive/MyDrive/Project/sepformer.yml' './hparams/'\n",
        "!cp -r '/content/drive/MyDrive/Project/pretrained_convtasnet' './'\n",
        "!cp -r '/content/drive/MyDrive/Project/VoxLingua' './'\n",
        "# !cp '/content/drive/MyDrive/Project/conVasNet.yml' './hparams/'\n",
        "!cp '/content/drive/MyDrive/Project/conVasNet_p.yml' './hparams/'\n",
        "!cp '/content/drive/MyDrive/Project/preprocess_dynamic_mixing.py' './'\n",
        "!cp '/content/drive/MyDrive/Project/dynamic_mixing.py' './'\n",
        "!cp '/content/drive/MyDrive/Project/prepare_data.py' './'\n",
        "!cp -r '/content/drive/MyDrive/Project/results_80' './'\n",
        "# !cp -r '/content/drive/MyDrive/Project/results' './'\n",
        "!cp -r '/content/drive/MyDrive/Project/results_200' './'\n",
        "!cp '/content/drive/MyDrive/Project/conVasNet_asteroid.yml' './hparams'\n",
        "!cp '/content/drive/MyDrive/Project/label_encoder.txt' './'"
      ]
    },
    {
      "cell_type": "markdown",
      "metadata": {
        "id": "TUfwK5NkrdkV"
      },
      "source": [
        "Prepare dataset"
      ]
    },
    {
      "cell_type": "code",
      "execution_count": null,
      "metadata": {
        "id": "RaUKQYBJrbz8"
      },
      "outputs": [],
      "source": [
        "def assign_lang_label(language):\n",
        "  if language =='as':\n",
        "    return 'as: Assamese'\n",
        "\n",
        "  elif language == 'bn':\n",
        "    return 'bn: Bengali'\n",
        "\n",
        "  elif language == 'en' or language == 'Indian_eng':\n",
        "    return 'en: English'\n",
        "\n",
        "  elif language == 'gu':\n",
        "    return 'gu: Gujarati'\n",
        "\n",
        "  elif language == 'hi':\n",
        "    return 'hi: Hindi'\n",
        "\n",
        "  elif language == 'kn':\n",
        "    return 'kn: Kannada'\n",
        "\n",
        "  elif language == 'ml':\n",
        "    return 'ml: Malayalam'\n",
        "\n",
        "  elif language == 'mr':\n",
        "    return 'mr: Marathi'\n",
        "\n",
        "  elif language == 'ne':\n",
        "    return 'ne: Nepali'\n",
        "\n",
        "  elif language == 'pa':\n",
        "    return 'pa: Panjabi'\n",
        "\n",
        "  elif language == 'sa':\n",
        "    return 'sa: Sanskrit'\n",
        "\n",
        "  elif language == 'sd':\n",
        "    return 'sd: Sindhi'\n",
        "\n",
        "  elif language == 'ta':\n",
        "    return 'ta: Tamil'\n",
        "\n",
        "  elif language == 'te':\n",
        "    return 'te: Telugu'\n",
        "\n",
        "  elif language == 'ur':\n",
        "    return 'ur: Urdu'\n",
        "\n",
        "\n",
        "\n",
        "def dataio_prep(hparams):\n",
        "    \"\"\"Creates data processing pipeline\"\"\"\n",
        "\n",
        "    # 1. Define datasets\n",
        "    train_data = sb.dataio.dataset.DynamicItemDataset.from_csv(\n",
        "        csv_path=hparams[\"train_data\"],\n",
        "        replacements={\"data_root\": hparams[\"data_folder\"]},\n",
        "    )\n",
        "\n",
        "    valid_data = sb.dataio.dataset.DynamicItemDataset.from_csv(\n",
        "        csv_path=hparams[\"valid_data\"],\n",
        "        replacements={\"data_root\": hparams[\"data_folder\"]},\n",
        "    )\n",
        "\n",
        "    test_data = sb.dataio.dataset.DynamicItemDataset.from_csv(\n",
        "        csv_path=hparams[\"test_data\"],\n",
        "        replacements={\"data_root\": hparams[\"data_folder\"]},\n",
        "    )\n",
        "\n",
        "    datasets = [train_data, valid_data, test_data]\n",
        "\n",
        "    # 2. Provide audio pipelines\n",
        "\n",
        "    @sb.utils.data_pipeline.takes(\"mix_wav\")\n",
        "    @sb.utils.data_pipeline.provides(\"mix_sig\")\n",
        "    def audio_pipeline_mix(mix_wav):\n",
        "        mix_sig = sb.dataio.dataio.read_audio(mix_wav)\n",
        "        return mix_sig\n",
        "\n",
        "    @sb.utils.data_pipeline.takes(\"s1_wav\")\n",
        "    @sb.utils.data_pipeline.provides(\"s1_sig\")\n",
        "    def audio_pipeline_s1(s1_wav):\n",
        "        s1_sig = sb.dataio.dataio.read_audio(s1_wav)\n",
        "        return s1_sig\n",
        "\n",
        "    @sb.utils.data_pipeline.takes(\"s2_wav\")\n",
        "    @sb.utils.data_pipeline.provides(\"s2_sig\")\n",
        "    def audio_pipeline_s2(s2_wav):\n",
        "        s2_sig = sb.dataio.dataio.read_audio(s2_wav)\n",
        "        return s2_sig\n",
        "\n",
        "    @sb.utils.data_pipeline.takes(\"languages\")\n",
        "    @sb.utils.data_pipeline.provides(\"lang_id\")\n",
        "    def lang_id_pipeline(lang_str):\n",
        "      lang_id = lang_str.split(',')\n",
        "      # print(f\"language String = {lang_str}, lang_id = {lang_id}\")\n",
        "      lang_id = [assign_lang_label(lang) for lang in lang_id]\n",
        "      yield encode_languages(lang_id)\n",
        "\n",
        "    @sb.utils.data_pipeline.takes(\"length\")\n",
        "    @sb.utils.data_pipeline.provides(\"lens\")\n",
        "    def length_pipeline(length):\n",
        "      return length\n",
        "\n",
        "    if hparams[\"num_spks\"] == 3:\n",
        "\n",
        "        @sb.utils.data_pipeline.takes(\"s3_wav\")\n",
        "        @sb.utils.data_pipeline.provides(\"s3_sig\")\n",
        "        def audio_pipeline_s3(s3_wav):\n",
        "            s3_sig = sb.dataio.dataio.read_audio(s3_wav)\n",
        "            return s3_sig\n",
        "\n",
        "    sb.dataio.dataset.add_dynamic_item(datasets, audio_pipeline_mix)\n",
        "    sb.dataio.dataset.add_dynamic_item(datasets, audio_pipeline_s1)\n",
        "    sb.dataio.dataset.add_dynamic_item(datasets, audio_pipeline_s2)\n",
        "    sb.dataio.dataset.add_dynamic_item(datasets, lang_id_pipeline)\n",
        "    sb.dataio.dataset.add_dynamic_item(datasets, length_pipeline)\n",
        "    if hparams[\"num_spks\"] == 3:\n",
        "      sb.dataio.dataset.add_dynamic_item(datasets, audio_pipeline_s3)\n",
        "      sb.dataio.dataset.set_output_keys(datasets, [\"id\", \"mix_sig\", \"s1_sig\", \"s2_sig\", \"s3_sig\", \"lang_id\", \"lens\"])\n",
        "    else:\n",
        "      sb.dataio.dataset.set_output_keys(datasets, [\"id\", \"mix_sig\", \"s1_sig\", \"s2_sig\", \"lang_id\", \"lens\"])\n",
        "\n",
        "    return train_data, valid_data, test_data\n",
        "\n",
        "def encode_languages(language_list):\n",
        "  label = []\n",
        "\n",
        "  for lang in language_list:\n",
        "    idx = label_encoder.encode_label(lang)\n",
        "    label.append(idx)\n",
        "  label = torch.tensor(label)\n",
        "  # print(f\"Label = {label}\")\n",
        "  return label"
      ]
    },
    {
      "cell_type": "markdown",
      "metadata": {
        "id": "2MTNQ4PCLC6S"
      },
      "source": [
        "Model"
      ]
    },
    {
      "cell_type": "code",
      "execution_count": null,
      "metadata": {
        "id": "0GhUXxc4Y9o3"
      },
      "outputs": [],
      "source": [
        "import csv\n",
        "import os\n",
        "import sys\n",
        "import io\n",
        "\n",
        "import numpy as np\n",
        "import math\n",
        "import torch\n",
        "from  speechbrain.nnet.losses import PitWrapper\n",
        "import torch.nn as nn\n",
        "import torch.nn.functional as F\n",
        "import torchaudio\n",
        "import matplotlib.pyplot as plt\n",
        "from hyperpyyaml import load_hyperpyyaml\n",
        "from tqdm import tqdm\n",
        "\n",
        "import speechbrain as sb\n",
        "import speechbrain.nnet.schedulers as schedulers\n",
        "from speechbrain.utils.distributed import run_on_main\n",
        "from speechbrain.utils.logger import get_logger\n",
        "from speechbrain.utils.train_logger import FileTrainLogger\n",
        "from speechbrain.nnet.losses import bce_loss, PitWrapper\n",
        "from speechbrain.utils.metric_stats import ClassificationStats\n",
        "from speechbrain.utils.Accuracy import AccuracyStats\n",
        "\n",
        "class MultiTask(sb.Brain):\n",
        "  def on_stage_start(self, stage, epoch):\n",
        "    # if stage != sb.Stage.TRAIN:\n",
        "      # self.error_metrics = self.hparams.error_stats()\n",
        "    self.epoch_acc_p = []\n",
        "    self.epoch_acc = []\n",
        "    self.print_num =0;\n",
        "    if stage == sb.Stage.TRAIN and epoch<21:\n",
        "      self.hparams.delta_separate_loss = 1.0\n",
        "      self.hparams.delta_lang_loss = 0.0\n",
        "      for name in ['compute_features', 'embedding_model', 'classifier', 'mean_var_norm']:\n",
        "        for param in getattr(self.modules, name).parameters():\n",
        "            param.requires_grad = False\n",
        "    elif stage == sb.Stage.TRAIN and epoch == 80:\n",
        "      self.hparams.delta_separate_loss =0.8\n",
        "      self.hparams.delta_lang_loss = 0.2\n",
        "      logger.info(\"Unfreezing ECAPA\")\n",
        "      for name in ['compute_features', 'embedding_model', 'classifier', 'mean_var_norm' ]:\n",
        "          for param in getattr(self.modules, name).parameters():\n",
        "              param.requires_grad = True\n",
        "      unfrozen_params = filter(lambda p: p.requires_grad, self.modules.parameters())\n",
        "      self.optimizer = torch.optim.Adam(unfrozen_params, lr=0.00001, weight_decay=0)\n",
        "    print(f\"Delta lang loss = {self.hparams.delta_lang_loss}, Delta separate loss = {self.hparams.delta_separate_loss}\")\n",
        "    self.uttid = [0]\n",
        "    if stage in [sb.Stage.VALID, sb.Stage.TEST]:\n",
        "      self.valid_acc = AccuracyStats()\n",
        "      self.error_metrics = self.hparams.error_stats\n",
        "    self.file_logger = FileTrainLogger(\"/content/results/print_statements\")\n",
        "\n",
        "  def dump_waveform(self, waveform, name,  sample_rate=16000, out_dir=\"debug_audio\"):\n",
        "    os.makedirs(out_dir, exist_ok=True)\n",
        "\n",
        "    # Save waveform\n",
        "    path = os.path.join(out_dir, f\"{name}.wav\")\n",
        "    torchaudio.save(path, waveform.unsqueeze(0).cpu(), sample_rate)\n",
        "    wav = waveform\n",
        "    wav = wav.detach().cpu().numpy()\n",
        "    # Plot\n",
        "    plt.figure(figsize=(10, 3))\n",
        "    plt.plot(wav)\n",
        "    plt.title(name)\n",
        "    plt.tight_layout()\n",
        "    plt.savefig(os.path.join(out_dir, f\"{name}_{self.uttid[0]}.png\"))\n",
        "    plt.close()\n",
        "\n",
        "\n",
        "  def compute_forward(self, mix, targets, lang_id,  stage):\n",
        "    mix, mix_lens = mix\n",
        "    mix, mix_lens = mix.to(self.device), mix_lens.to(self.device)\n",
        "    targets = torch.stack([t.data for t in targets], dim=-1).to(self.device)\n",
        "    if stage == sb.Stage.TRAIN:\n",
        "      with torch.no_grad():\n",
        "        if self.hparams.use_speedperturb:\n",
        "            mix, targets = self.add_speed_perturb(targets, mix_lens)\n",
        "\n",
        "            mix = targets.sum(-1)\n",
        "\n",
        "        if self.hparams.use_wavedrop:\n",
        "            mix = self.hparams.drop_chunk(mix, mix_lens)\n",
        "            mix = self.hparams.drop_freq(mix)\n",
        "\n",
        "        if self.hparams.limit_training_signal_len:\n",
        "            mix, targets = self.cut_signals(mix, targets)\n",
        "    #ConvTasNet\n",
        "    est_source = self.modules.convTasNet(mix)\n",
        "    #Making two batches\n",
        "    est_source = est_source.permute(0,2,1)\n",
        "    batch_size, seq_len, num_spks = est_source.shape\n",
        "    est_source_permute = est_source.permute(2, 0, 1)  # Now shape is [num_spks, batch, time]\n",
        "    est_source_combined = est_source_permute.reshape(batch_size * num_spks, seq_len)\n",
        "    est_source_combined = est_source_combined / (est_source_combined.abs().max(dim=1, keepdim=True)[0] + 1e-8)\n",
        "    mix_len_combined = mix_lens.repeat(num_spks)\n",
        "    #ECAPA\n",
        "    feats = self.modules.compute_features(est_source_combined)\n",
        "    feats = self.modules.mean_var_norm(feats, mix_len_combined)\n",
        "    embeddings = self.modules.embedding_model(feats, mix_len_combined)\n",
        "    outputs = self.modules.classifier(embeddings)\n",
        "    pred_lang_id = outputs.view(batch_size, num_spks, -1)\n",
        "    #Check Infinite\n",
        "    if torch.isnan(embeddings).any() or torch.isnan(outputs).any():\n",
        "      print(\"Embeddings min/max:\", embeddings.min(), embeddings.max())\n",
        "      print(f\"Embeddings: {embeddings}, Embeddings length: {embeddings.shape}\")\n",
        "      print(\"Classifier output min/max:\", outputs.min(), outputs.max())\n",
        "      print(f\"outputs: {outputs}, outputs length: {outputs.shape}\")\n",
        "      print(f\"pred_lang_id: {pred_lang_id}, pred_lang_id length: {pred_lang_id.shape}\")\n",
        "    #Print\n",
        "    if self.uttid[0] % 1000 == 0:\n",
        "      probs = torch.sigmoid(pred_lang_id)  # limit how often you dump\n",
        "      target_lang = lang_id.squeeze(0)\n",
        "      pred_lang = torch.argmax(probs, dim = -1)\n",
        "      for spk_idx in range(2):\n",
        "        # print(f\"est_source: {est_source_combined}\")\n",
        "        wav = wav = est_source_combined[spk_idx]\n",
        "        self.dump_waveform(wav,f\"{stage}_{pred_lang[0]}_{target_lang}_12_utt{self.uttid[0]}_spk{spk_idx}\")\n",
        "    return est_source, targets, lang_id, mix_lens, pred_lang_id, embeddings\n",
        "\n",
        "  def lang_accuracy(self, lang_id, pred_lang_id, log):\n",
        "    # lang_id_new = lang_id.squeeze(0)\n",
        "    probs = torch.sigmoid(pred_lang_id)\n",
        "    targets = lang_id.data.squeeze(0).long()\n",
        "    # print(f\"probs = {probs}, targets = {targets}\")\n",
        "    # print(f\"probs = {probs}, pred_lang_id {pred_lang_id}\")\n",
        "    # print(f\"lang_id = {lang_id}\")\n",
        "    acc1_s = max((probs[0,targets[0]]+ probs[1,targets[1]]), (probs[0,targets[1]]+ probs[1,targets[0]]))/2\n",
        "    preds = torch.argmax(pred_lang_id, dim=-1)\n",
        "    # print(f\"preds = {preds}\")\n",
        "    # targets = torch.argmax(lang_id_new, dim=-1)\n",
        "    if(log):\n",
        "      self.file_logger.log_stats(\n",
        "          stats_meta = {\n",
        "              \"stage\": \"VALID\",\n",
        "              \"preds\": preds,\n",
        "              \"targets\": targets,\n",
        "              \"probs\": probs\n",
        "          },verbose=False\n",
        "\n",
        "      )\n",
        "    acc1_p = int(preds[0] == targets[0]) + int(preds[1] == targets[1])\n",
        "    acc2_p = int(preds[0] == targets[1]) + int(preds[1] == targets[0])\n",
        "    return acc1_s, max(acc1_p, acc2_p)/2\n",
        "\n",
        "  def compute_objectives(self, est_source, targets, lang_id, lens, pred_lang_id,stage, uttid):\n",
        "    lang_id = lang_id.data.float().to(pred_lang_id.device)\n",
        "    predicted_lang_id = pred_lang_id.squeeze(0)\n",
        "    target = lang_id.squeeze(0).long()\n",
        "    # print(f\"target = {target}, pred_lang_id = {pred_lang_id}\")\n",
        "    separate_loss = self.hparams.loss(targets, est_source)\n",
        "    lang_loss = torch.min(torch.stack([self.hparams.lang_loss(predicted_lang_id, target), self.hparams.lang_loss(predicted_lang_id,target.flip(0))]))\n",
        "    loss = self.hparams.delta_lang_loss*lang_loss + self.hparams.delta_separate_loss*separate_loss\n",
        "    return loss,lang_loss,separate_loss\n",
        "\n",
        "  def fit_batch(self,batch):\n",
        "    mixture = batch.mix_sig\n",
        "    targets = [batch.s1_sig, batch.s2_sig]\n",
        "    lang_id = batch.lang_id.data\n",
        "    self.uttid[0] = self.uttid[0] + 1\n",
        "    with torch.amp.autocast(device_type='cuda', enabled=False):\n",
        "      est_source, targets, lang_id, lens, pred_lang_id,embeddings = self.compute_forward(\n",
        "        mixture, targets, lang_id, sb.Stage.TRAIN\n",
        "      )\n",
        "      # print(f\"predictions: {pred_lang_id}, targets: {targets}\")\n",
        "      loss,lang_loss,separate_loss = self.compute_objectives(\n",
        "        est_source, targets, lang_id, lens, pred_lang_id,sb.Stage.TRAIN, self.uttid\n",
        "      )\n",
        "      if self.uttid[0]%1000 == 0:\n",
        "        self.file_logger.log_stats(stats_meta={\n",
        "            \"stage\": \"Train\",\n",
        "            \"Loss\":loss,\n",
        "            \"Lang loss\":lang_loss,\n",
        "            \"separate loss\":separate_loss,\n",
        "            \"Est_source\" :est_source,\n",
        "            \"targets\": targets,\n",
        "            \"lang_id\":lang_id,\n",
        "            \"lens\":lens,\n",
        "            \"pred_lang_id\":pred_lang_id}, verbose=False)\n",
        "\n",
        "      # print(f\"loss: {loss}\")\n",
        "      if self.hparams.threshold_byloss:\n",
        "        th = self.hparams.threshold\n",
        "        loss = loss[loss > th]\n",
        "        if loss.nelement() > 0:\n",
        "            loss = loss.mean()\n",
        "            lang_loss = lang_loss.mean()\n",
        "            separate_loss = separate_loss.mean()\n",
        "      else:\n",
        "        loss = loss.mean()\n",
        "        lang_loss = lang_loss.mean()\n",
        "        separate_loss = separate_loss.mean()\n",
        "\n",
        "    if loss.nelement() > 0 and loss < self.hparams.loss_upper_lim:\n",
        "      self.scaler.scale(loss).backward()\n",
        "      if self.hparams.clip_grad_norm >= 0:\n",
        "        self.scaler.unscale_(self.optimizer)\n",
        "        torch.nn.utils.clip_grad_norm_(\n",
        "          self.modules.parameters(),\n",
        "          self.hparams.clip_grad_norm,\n",
        "        )\n",
        "      self.scaler.step(self.optimizer)\n",
        "      self.scaler.update()\n",
        "    else:\n",
        "      self.nonfinite_count += 1\n",
        "      logger.info(\n",
        "        \"infinite loss or empty loss! it happened {} times so far - skipping this batch\".format(\n",
        "          self.nonfinite_count\n",
        "        )\n",
        "      )\n",
        "      loss.data = torch.tensor(0.0).to(self.device)\n",
        "      lang_loss.data = torch.tensor(0.0).to(self.device)\n",
        "      separate_loss.data = torch.tensor(0.0).to(self.device)\n",
        "    self.optimizer.zero_grad()\n",
        "\n",
        "    return loss.detach().cpu()\n",
        "\n",
        "\n",
        "  def evaluate_batch(self, batch, stage):\n",
        "\n",
        "    \"\"\"Computations needed for validation/test batches\"\"\"\n",
        "    snt_id = batch.id\n",
        "    mixture = batch.mix_sig\n",
        "    targets = [batch.s1_sig, batch.s2_sig]\n",
        "    lang_id = batch.lang_id.data\n",
        "    self.uttid[0] = self.uttid[0] + 1\n",
        "    if self.hparams.num_spks == 3:\n",
        "      targets.append(batch.s3_sig)\n",
        "\n",
        "    with torch.no_grad():\n",
        "      # compute_forward returns multiple values for multi-task\n",
        "      est_source, targets, lang_id, lens, pred_lang_id, embeddings = self.compute_forward(\n",
        "        mixture, targets, lang_id,  stage\n",
        "      )\n",
        "      # compute_objectives combines both tasks into a single loss\n",
        "      loss,lang_loss,separate_loss = self.compute_objectives(\n",
        "        est_source, targets, lang_id, lens, pred_lang_id, stage, self.uttid\n",
        "      )\n",
        "      lang_id = lang_id.data.float().to(pred_lang_id.device)\n",
        "      if(self.uttid[0]%20 ==0):\n",
        "        log_valid = True\n",
        "      else:\n",
        "        log_valid = False\n",
        "      # self.accuracy.append(pred_lang_id, lang_id.unsqueeze(1), lens)\n",
        "      for i in range(0,self.hparams.batch_size):\n",
        "        lang_acc_s,lang_acc_p = self.lang_accuracy(lang_id[i],pred_lang_id[i].squeeze(0),log_valid)\n",
        "        self.epoch_acc.append(lang_acc_s)\n",
        "        self.epoch_acc_p.append(lang_acc_p)\n",
        "    if stage == sb.Stage.TEST and self.hparams.save_audio:\n",
        "\n",
        "      if hasattr(self.hparams, \"n_audio_to_save\"):\n",
        "        if self.hparams.n_audio_to_save > 0:\n",
        "          self.save_audio(snt_id[0], mixture, targets, est_source)\n",
        "          self.hparams.n_audio_to_save += -1\n",
        "      else:\n",
        "        self.save_audio(snt_id[0], mixture, targets, est_source)\n",
        "\n",
        "\n",
        "    return loss.mean().detach()\n",
        "\n",
        "  def on_stage_end(self, stage, stage_loss, epoch):\n",
        "    stage_stats = {\"final_loss\": stage_loss}\n",
        "    if stage == sb.Stage.TRAIN:\n",
        "      self.train_stats = stage_stats\n",
        "      # train_loss.append(self.train_stats[\"final_loss\"])\n",
        "      file_loc = f\"/content/results_{epoch}\"\n",
        "      if(epoch%20 ==0):\n",
        "        os.rename(r\"/content/results\", file_loc)\n",
        "        !cp -r $file_loc '/content/drive/MyDrive/Project'\n",
        "        if(epoch > 20):\n",
        "          prev_file_loc = f\"/content/drive/MyDrive/Project/results_{epoch-20}\"\n",
        "          !rm -rf $prev_file_loc\n",
        "          logger.info(f\"Removed file {prev_file_loc}\")\n",
        "        os.rename(file_loc,r\"/content/results\")\n",
        "        logger.info(\"Saved file succesfully\")\n",
        "    accuracy_soft = torch.tensor(self.epoch_acc)\n",
        "    accuracy_partial = torch.tensor(self.epoch_acc_p)\n",
        "    if stage == sb.Stage.VALID:\n",
        "      if isinstance(self.hparams.lr_scheduler, schedulers.ReduceLROnPlateau):\n",
        "        current_lr, next_lr = self.hparams.lr_scheduler(\n",
        "            [self.optimizer], epoch, stage_loss\n",
        "        )\n",
        "        schedulers.update_learning_rate(self.optimizer, next_lr)\n",
        "      else:\n",
        "        # if we do not use the reducelronplateau, we do not change the lr\n",
        "        current_lr = self.hparams.optimizer.optim.param_groups[0][\"lr\"]\n",
        "\n",
        "      self.hparams.train_logger.log_stats(\n",
        "          stats_meta={\"epoch\": epoch, \"lr\": current_lr},\n",
        "          train_stats=self.train_stats,\n",
        "          valid_stats={\"final_loss\": stage_loss,\"Accuracy soft\": accuracy_soft.mean(), \"Accuracy Partial\" : accuracy_partial.mean()}\n",
        "      )\n",
        "      self.checkpointer.save_and_keep_only(\n",
        "          meta={\"final_loss\": stage_stats[\"final_loss\"]}, min_keys=[\"final_loss\"]\n",
        "      )\n",
        "    elif stage == sb.Stage.TEST:\n",
        "      self.hparams.train_logger.log_stats(\n",
        "        stats_meta={\"Epoch loaded\": self.hparams.epoch_counter.current},\n",
        "        test_stats={\"final_loss\": stage_loss, \"Accuracy soft\": accuracy_soft.mean(), \"Accuracy Partial\" : accuracy_partial.mean()},\n",
        "      )\n",
        "\n",
        "  def add_speed_perturb(self, targets, targ_lens):\n",
        "    \"\"\"Adds speed perturbation and random_shift to the input signals\"\"\"\n",
        "\n",
        "    min_len = -1\n",
        "    recombine = False\n",
        "\n",
        "    if self.hparams.use_speedperturb or self.hparams.use_rand_shift:\n",
        "      # Performing speed change (independently on each source)\n",
        "      new_targets = []\n",
        "      recombine = True\n",
        "\n",
        "      for i in range(targets.shape[-1]):\n",
        "        new_target = self.hparams.speed_perturb(targets[:, :, i])\n",
        "        new_targets.append(new_target)\n",
        "        if i == 0:\n",
        "          min_len = new_target.shape[-1]\n",
        "        else:\n",
        "          if new_target.shape[-1] < min_len:\n",
        "            min_len = new_target.shape[-1]\n",
        "\n",
        "      if self.hparams.use_rand_shift:\n",
        "        # Performing random_shift (independently on each source)\n",
        "        recombine = True\n",
        "        for i in range(targets.shape[-1]):\n",
        "            rand_shift = torch.randint(\n",
        "                self.hparams.min_shift, self.hparams.max_shift, (1,)\n",
        "            )\n",
        "            new_targets[i] = new_targets[i].to(self.device)\n",
        "            new_targets[i] = torch.roll(\n",
        "                new_targets[i], shifts=(rand_shift[0],), dims=1\n",
        "            )\n",
        "\n",
        "        # Re-combination\n",
        "        if recombine:\n",
        "            if self.hparams.use_speedperturb:\n",
        "                targets = torch.zeros(\n",
        "                    targets.shape[0],\n",
        "                    min_len,\n",
        "                    targets.shape[-1],\n",
        "                    device=targets.device,\n",
        "                    dtype=torch.float,\n",
        "                )\n",
        "            for i, new_target in enumerate(new_targets):\n",
        "                targets[:, :, i] = new_targets[i][:, 0:min_len]\n",
        "\n",
        "    mix = targets.sum(-1)\n",
        "    return mix, targets\n",
        "\n",
        "  def cut_signals(self, mixture, targets):\n",
        "      \"\"\"This function selects a random segment of a given length within the mixture.\n",
        "      The corresponding targets are selected accordingly\"\"\"\n",
        "      randstart = torch.randint(\n",
        "          0,\n",
        "          1 + max(0, mixture.shape[1] - self.hparams.training_signal_len),\n",
        "          (1,),\n",
        "      ).item()\n",
        "      targets = targets[\n",
        "          :, randstart : randstart + self.hparams.training_signal_len, :\n",
        "      ]\n",
        "      mixture = mixture[\n",
        "          :, randstart : randstart + self.hparams.training_signal_len\n",
        "      ]\n",
        "      return mixture, targets\n",
        "\n",
        "\n",
        "  def reset_layer_recursively(self, layer):\n",
        "      \"\"\"Reinitializes the parameters of the neural networks\"\"\"\n",
        "      if hasattr(layer, \"reset_parameters\"):\n",
        "          layer.reset_parameters()\n",
        "      for child_layer in layer.modules():\n",
        "          if layer != child_layer:\n",
        "              self.reset_layer_recursively(child_layer)\n",
        "\n",
        "  def save_results(self, test_data):\n",
        "\n",
        "    \"\"\"This script computes the SDR and SI-SNR metrics and saves\n",
        "    them into a csv file\"\"\"\n",
        "\n",
        "    # This package is required for SDR computation\n",
        "    from mir_eval.separation import bss_eval_sources\n",
        "\n",
        "    # Create folders where to store audio\n",
        "    save_file = os.path.join(self.hparams.output_folder, \"test_results.csv\")\n",
        "\n",
        "    # Variable init\n",
        "    all_sdrs = []\n",
        "    all_sdrs_i = []\n",
        "    all_sisnrs = []\n",
        "    all_sisnrs_i = []\n",
        "    csv_columns = [\"snt_id\", \"sdr\", \"sdr_i\", \"si-snr\", \"si-snr_i\"]\n",
        "\n",
        "    test_loader = sb.dataio.dataloader.make_dataloader(\n",
        "      test_data, **self.hparams.dataloader_opts\n",
        "    )\n",
        "\n",
        "    with open(save_file, \"w\", newline=\"\", encoding=\"utf-8\") as results_csv:\n",
        "      writer = csv.DictWriter(results_csv, fieldnames=csv_columns)\n",
        "      writer.writeheader()\n",
        "\n",
        "      # Loop over all test sentence\n",
        "      with tqdm(test_loader, dynamic_ncols=True) as t:\n",
        "          for i, batch in enumerate(t):\n",
        "            # Apply Separation\n",
        "            mixture, mix_len = batch.mix_sig\n",
        "            snt_id = batch.id\n",
        "            targets = [batch.s1_sig, batch.s2_sig]\n",
        "            lang_id = batch.lang_id\n",
        "            # lens = batch.lens\n",
        "            self.uttid[0] = self.uttid[0] + 1\n",
        "            if self.hparams.num_spks == 3:\n",
        "              targets.append(batch.s3_sig)\n",
        "\n",
        "            with torch.no_grad():\n",
        "              predictions, targets, lang_id, lens, pred_lang_id, embeddings = self.compute_forward(\n",
        "                  batch.mix_sig, targets, lang_id,  sb.Stage.TEST\n",
        "              )\n",
        "\n",
        "            # Compute SI-SNR\n",
        "            total_loss,lang_loss,sisnr = self.compute_objectives(predictions, targets,lang_id,lens,pred_lang_id, sb.Stage.TEST, self.uttid)\n",
        "\n",
        "            # Compute SI-SNR improvement\n",
        "            mixture_signal = torch.stack(\n",
        "              [mixture] * self.hparams.num_spks, dim=-1\n",
        "            )\n",
        "            mixture_signal = mixture_signal.to(targets.device)\n",
        "            total_loss,lang_loss,sisnr_baseline = self.compute_objectives(\n",
        "              mixture_signal, targets, lang_id, lens, pred_lang_id, sb.Stage.TEST, self.uttid\n",
        "            )\n",
        "            sisnr_i = sisnr - sisnr_baseline\n",
        "\n",
        "            # Compute SDR\n",
        "            ref = targets[0].t().cpu().numpy()\n",
        "            est = predictions[0].t().detach().cpu().numpy()\n",
        "            if np.any(np.all(ref == 0, axis=1)):\n",
        "              print(f\"Skipping uttid: {self.uttid[0]} as all the targets are zero\")\n",
        "              continue\n",
        "            sdr, _, _, _ = bss_eval_sources(ref,est)\n",
        "\n",
        "            sdr_baseline, _, _, _ = bss_eval_sources(ref,est)\n",
        "\n",
        "\n",
        "            sdr_i = sdr.mean() - sdr_baseline.mean()\n",
        "\n",
        "            # Saving on a csv file\n",
        "            row = {\n",
        "              \"snt_id\": snt_id[0],\n",
        "              \"sdr\": sdr.mean(),\n",
        "              \"sdr_i\": sdr_i,\n",
        "              \"si-snr\": -sisnr.item(),\n",
        "              \"si-snr_i\": -sisnr_i.item(),\n",
        "            }\n",
        "            writer.writerow(row)\n",
        "\n",
        "            # Metric Accumulation\n",
        "            all_sdrs.append(sdr.mean())\n",
        "            all_sdrs_i.append(sdr_i.mean())\n",
        "            all_sisnrs.append(-sisnr.item())\n",
        "            all_sisnrs_i.append(-sisnr_i.item())\n",
        "\n",
        "          row = {\n",
        "            \"snt_id\": \"avg\",\n",
        "            \"sdr\": np.array(all_sdrs).mean(),\n",
        "            \"sdr_i\": np.array(all_sdrs_i).mean(),\n",
        "            \"si-snr\": np.array(all_sisnrs).mean(),\n",
        "            \"si-snr_i\": np.array(all_sisnrs_i).mean(),\n",
        "          }\n",
        "          writer.writerow(row)\n",
        "\n",
        "    logger.info(\"Mean SISNR is {}\".format(np.array(all_sisnrs).mean()))\n",
        "    logger.info(\"Mean SISNRi is {}\".format(np.array(all_sisnrs_i).mean()))\n",
        "    logger.info(\"Mean SDR is {}\".format(np.array(all_sdrs).mean()))\n",
        "    logger.info(\"Mean SDRi is {}\".format(np.array(all_sisnrs_i).mean()))\n",
        "\n",
        "  def save_audio(self, snt_id, mixture, targets, predictions):\n",
        "    \"saves the test audio (mixture, targets, and estimated sources) on disk\"\n",
        "\n",
        "    # Create output folder\n",
        "    save_path = os.path.join(self.hparams.save_folder, \"audio_results\")\n",
        "    if not os.path.exists(save_path):\n",
        "      os.mkdir(save_path)\n",
        "\n",
        "    for ns in range(self.hparams.num_spks):\n",
        "      # Estimated source\n",
        "      signal = predictions[0, :, ns]\n",
        "      signal = signal / signal.abs().max()\n",
        "      save_file = os.path.join(\n",
        "        save_path, \"item{}_source{}hat.wav\".format(snt_id, ns + 1)\n",
        "      )\n",
        "      torchaudio.save(\n",
        "        save_file, signal.unsqueeze(0).cpu(), self.hparams.sample_rate\n",
        "      )\n",
        "\n",
        "      # Original source\n",
        "      signal = targets[0, :, ns]\n",
        "      signal = signal / signal.abs().max()\n",
        "      save_file = os.path.join(\n",
        "        save_path, \"item{}_source{}.wav\".format(snt_id, ns + 1)\n",
        "      )\n",
        "      torchaudio.save(\n",
        "        save_file, signal.unsqueeze(0).cpu(), self.hparams.sample_rate\n",
        "      )\n",
        "\n",
        "    # Mixture\n",
        "    signal = mixture[0][0, :]\n",
        "    signal = signal / signal.abs().max()\n",
        "    save_file = os.path.join(save_path, \"item{}_mix.wav\".format(snt_id))\n",
        "    torchaudio.save(\n",
        "      save_file, signal.unsqueeze(0).cpu(), self.hparams.sample_rate\n",
        "    )\n",
        "  # def get_language(path):\n",
        "  #   mixture = sb.dataio.dataio.read_audio(torchaudio.load())\n"
      ]
    },
    {
      "cell_type": "markdown",
      "metadata": {
        "id": "ZoJv4IAnLFmI"
      },
      "source": [
        "Main"
      ]
    },
    {
      "cell_type": "code",
      "execution_count": null,
      "metadata": {
        "colab": {
          "base_uri": "https://localhost:8080/"
        },
        "id": "INi7eq9HqIzm",
        "outputId": "3b1bde05-c4dc-49ff-c4a4-d9e290c18348"
      },
      "outputs": [
        {
          "output_type": "stream",
          "name": "stdout",
          "text": [
            "speechbrain.utils.seed - Setting seed to 1234\n",
            "speechbrain.utils.quirks - Applied quirks (see `speechbrain.utils.quirks`): [allow_tf32, disable_jit_profiling]\n",
            "speechbrain.utils.quirks - Excluded quirks specified by the `SB_DISABLE_QUIRKS` environment (comma-separated list): []\n",
            "speechbrain.core - Beginning experiment!\n",
            "speechbrain.core - Experiment folder: results/convtasnet/1234\n",
            "Creating a csv file for a custom dataset\n",
            "__main__ - Train sampling rate:16000\n",
            "speechbrain.core - Info: precision arg from hparam file is used\n",
            "speechbrain.core - Info: noprogressbar arg from hparam file is used\n",
            "speechbrain.core - Gradscaler enabled: `False`\n",
            "speechbrain.core - Using training precision: `--precision=fp32`\n",
            "speechbrain.core - Using evaluation precision: `--eval_precision=fp32`\n",
            "speechbrain.core - MultiTask Model Statistics:\n",
            "* Total Number of Trainable Parameters: 26.3M\n",
            "* Total Number of Parameters: 26.3M\n",
            "* Trainable Parameters represent 100.0000% of the total size.\n",
            "__main__ - Loading pretrained weights:<__main__.MultiTask object at 0x797a6d241f50>\n",
            "speechbrain.utils.fetching - Fetch embedding_model.ckpt: Fetching from HuggingFace Hub 'speechbrain/lang-id-voxlingua107-ecapa' if not cached\n",
            "speechbrain.utils.fetching - Fetch classifier.ckpt: Fetching from HuggingFace Hub 'speechbrain/lang-id-voxlingua107-ecapa' if not cached\n",
            "speechbrain.utils.fetching - Fetch label_encoder.txt: Fetching from HuggingFace Hub 'speechbrain/lang-id-voxlingua107-ecapa' if not cached\n",
            "speechbrain.utils.parameter_transfer - Loading pretrained files for: embedding_model, classifier, label_encoder\n",
            "speechbrain.dataio.encoder - Load called, but CategoricalEncoder is not empty. Loaded data will overwrite everything. This is normal if there is e.g. an unk label defined at init.\n",
            "speechbrain.utils.checkpoints - Loading a checkpoint from results/convtasnet/1234/save/CKPT+2025-07-19+15-53-23+00\n",
            "speechbrain.utils.epoch_loop - Going into epoch 80\n",
            "__main__ - Unfreezing ECAPA\n",
            "Delta lang loss = 0.2, Delta separate loss = 0.8\n"
          ]
        },
        {
          "output_type": "stream",
          "name": "stderr",
          "text": [
            " 97%|█████████▋| 1210/1250 [02:37<00:04,  8.30it/s, train_loss=-11.5]"
          ]
        },
        {
          "output_type": "stream",
          "name": "stdout",
          "text": [
            "__main__ - infinite loss or empty loss! it happened 1 times so far - skipping this batch\n"
          ]
        },
        {
          "output_type": "stream",
          "name": "stderr",
          "text": [
            "100%|██████████| 1250/1250 [02:43<00:00,  7.66it/s, train_loss=-11.6]\n"
          ]
        },
        {
          "output_type": "stream",
          "name": "stdout",
          "text": [
            "__main__ - Removed file /content/drive/MyDrive/Project/results_60\n",
            "__main__ - Saved file succesfully\n",
            "Delta lang loss = 0.2, Delta separate loss = 0.8\n"
          ]
        },
        {
          "output_type": "stream",
          "name": "stderr",
          "text": [
            "100%|██████████| 500/500 [00:21<00:00, 22.96it/s]"
          ]
        },
        {
          "output_type": "stream",
          "name": "stdout",
          "text": [
            "speechbrain.utils.train_logger - epoch: 80, lr: 1.00e-05 - train final_loss: -1.16e+01 - valid final_loss: -9.12e+00, valid Accuracy soft: 0.34191179275512695, valid Accuracy Partial: 0.6769999861717224\n"
          ]
        },
        {
          "output_type": "stream",
          "name": "stderr",
          "text": [
            "\n"
          ]
        },
        {
          "output_type": "stream",
          "name": "stdout",
          "text": [
            "speechbrain.utils.checkpoints - Saved an end-of-epoch checkpoint in results/convtasnet/1234/save/CKPT+2025-07-19+21-03-38+00\n",
            "speechbrain.utils.checkpoints - Deleted checkpoint in results/convtasnet/1234/save/CKPT+2025-07-19+15-53-23+00\n",
            "speechbrain.utils.epoch_loop - Going into epoch 81\n",
            "Delta lang loss = 0.2, Delta separate loss = 0.8\n"
          ]
        },
        {
          "output_type": "stream",
          "name": "stderr",
          "text": [
            " 97%|█████████▋| 1210/1250 [02:37<00:04,  8.39it/s, train_loss=-11.6]"
          ]
        },
        {
          "output_type": "stream",
          "name": "stdout",
          "text": [
            "__main__ - infinite loss or empty loss! it happened 1 times so far - skipping this batch\n"
          ]
        },
        {
          "output_type": "stream",
          "name": "stderr",
          "text": [
            "100%|██████████| 1250/1250 [02:43<00:00,  7.66it/s, train_loss=-11.6]\n"
          ]
        },
        {
          "output_type": "stream",
          "name": "stdout",
          "text": [
            "Delta lang loss = 0.2, Delta separate loss = 0.8\n"
          ]
        },
        {
          "output_type": "stream",
          "name": "stderr",
          "text": [
            "100%|██████████| 500/500 [00:21<00:00, 23.31it/s]"
          ]
        },
        {
          "output_type": "stream",
          "name": "stdout",
          "text": [
            "speechbrain.utils.train_logger - epoch: 81, lr: 1.00e-05 - train final_loss: -1.16e+01 - valid final_loss: -8.60e+00, valid Accuracy soft: 0.33123013377189636, valid Accuracy Partial: 0.6639999747276306\n"
          ]
        },
        {
          "output_type": "stream",
          "name": "stderr",
          "text": [
            "\n"
          ]
        },
        {
          "output_type": "stream",
          "name": "stdout",
          "text": [
            "speechbrain.utils.checkpoints - Saved an end-of-epoch checkpoint in results/convtasnet/1234/save/CKPT+2025-07-19+21-06-44+00\n",
            "speechbrain.utils.checkpoints - Deleted checkpoint in results/convtasnet/1234/save/CKPT+2025-07-19+21-03-38+00\n",
            "speechbrain.utils.epoch_loop - Going into epoch 82\n",
            "Delta lang loss = 0.2, Delta separate loss = 0.8\n"
          ]
        },
        {
          "output_type": "stream",
          "name": "stderr",
          "text": [
            " 97%|█████████▋| 1210/1250 [02:37<00:04,  8.52it/s, train_loss=-11.6]"
          ]
        },
        {
          "output_type": "stream",
          "name": "stdout",
          "text": [
            "__main__ - infinite loss or empty loss! it happened 1 times so far - skipping this batch\n"
          ]
        },
        {
          "output_type": "stream",
          "name": "stderr",
          "text": [
            "100%|██████████| 1250/1250 [02:43<00:00,  7.67it/s, train_loss=-11.6]\n"
          ]
        },
        {
          "output_type": "stream",
          "name": "stdout",
          "text": [
            "Delta lang loss = 0.2, Delta separate loss = 0.8\n"
          ]
        },
        {
          "output_type": "stream",
          "name": "stderr",
          "text": [
            "100%|██████████| 500/500 [00:21<00:00, 23.20it/s]"
          ]
        },
        {
          "output_type": "stream",
          "name": "stdout",
          "text": [
            "speechbrain.utils.train_logger - epoch: 82, lr: 1.00e-05 - train final_loss: -1.16e+01 - valid final_loss: -8.94e+00, valid Accuracy soft: 0.3386566638946533, valid Accuracy Partial: 0.6740000247955322\n"
          ]
        },
        {
          "output_type": "stream",
          "name": "stderr",
          "text": [
            "\n"
          ]
        },
        {
          "output_type": "stream",
          "name": "stdout",
          "text": [
            "speechbrain.utils.checkpoints - Saved an end-of-epoch checkpoint in results/convtasnet/1234/save/CKPT+2025-07-19+21-09-49+00\n",
            "speechbrain.utils.checkpoints - Deleted checkpoint in results/convtasnet/1234/save/CKPT+2025-07-19+21-06-44+00\n",
            "speechbrain.utils.epoch_loop - Going into epoch 83\n",
            "Delta lang loss = 0.2, Delta separate loss = 0.8\n"
          ]
        },
        {
          "output_type": "stream",
          "name": "stderr",
          "text": [
            " 97%|█████████▋| 1210/1250 [02:36<00:04,  8.50it/s, train_loss=-11.6]"
          ]
        },
        {
          "output_type": "stream",
          "name": "stdout",
          "text": [
            "__main__ - infinite loss or empty loss! it happened 1 times so far - skipping this batch\n"
          ]
        },
        {
          "output_type": "stream",
          "name": "stderr",
          "text": [
            "100%|██████████| 1250/1250 [02:42<00:00,  7.71it/s, train_loss=-11.6]\n"
          ]
        },
        {
          "output_type": "stream",
          "name": "stdout",
          "text": [
            "Delta lang loss = 0.2, Delta separate loss = 0.8\n"
          ]
        },
        {
          "output_type": "stream",
          "name": "stderr",
          "text": [
            "100%|██████████| 500/500 [00:21<00:00, 23.21it/s]"
          ]
        },
        {
          "output_type": "stream",
          "name": "stdout",
          "text": [
            "speechbrain.utils.train_logger - epoch: 83, lr: 1.00e-05 - train final_loss: -1.16e+01 - valid final_loss: -8.76e+00, valid Accuracy soft: 0.3349723219871521, valid Accuracy Partial: 0.6660000085830688\n"
          ]
        },
        {
          "output_type": "stream",
          "name": "stderr",
          "text": [
            "\n"
          ]
        },
        {
          "output_type": "stream",
          "name": "stdout",
          "text": [
            "speechbrain.utils.checkpoints - Saved an end-of-epoch checkpoint in results/convtasnet/1234/save/CKPT+2025-07-19+21-12-54+00\n",
            "speechbrain.utils.checkpoints - Deleted checkpoint in results/convtasnet/1234/save/CKPT+2025-07-19+21-09-49+00\n",
            "speechbrain.utils.epoch_loop - Going into epoch 84\n",
            "Delta lang loss = 0.2, Delta separate loss = 0.8\n"
          ]
        },
        {
          "output_type": "stream",
          "name": "stderr",
          "text": [
            " 97%|█████████▋| 1210/1250 [02:37<00:04,  8.45it/s, train_loss=-11.6]"
          ]
        },
        {
          "output_type": "stream",
          "name": "stdout",
          "text": [
            "__main__ - infinite loss or empty loss! it happened 1 times so far - skipping this batch\n"
          ]
        },
        {
          "output_type": "stream",
          "name": "stderr",
          "text": [
            "100%|██████████| 1250/1250 [02:42<00:00,  7.70it/s, train_loss=-11.6]\n"
          ]
        },
        {
          "output_type": "stream",
          "name": "stdout",
          "text": [
            "Delta lang loss = 0.2, Delta separate loss = 0.8\n"
          ]
        },
        {
          "output_type": "stream",
          "name": "stderr",
          "text": [
            "100%|██████████| 500/500 [00:21<00:00, 23.22it/s]"
          ]
        },
        {
          "output_type": "stream",
          "name": "stdout",
          "text": [
            "speechbrain.utils.train_logger - epoch: 84, lr: 1.00e-05 - train final_loss: -1.16e+01 - valid final_loss: -8.99e+00, valid Accuracy soft: 0.34080028533935547, valid Accuracy Partial: 0.675000011920929\n"
          ]
        },
        {
          "output_type": "stream",
          "name": "stderr",
          "text": [
            "\n"
          ]
        },
        {
          "output_type": "stream",
          "name": "stdout",
          "text": [
            "speechbrain.utils.checkpoints - Saved an end-of-epoch checkpoint in results/convtasnet/1234/save/CKPT+2025-07-19+21-15-58+00\n",
            "speechbrain.utils.checkpoints - Deleted checkpoint in results/convtasnet/1234/save/CKPT+2025-07-19+21-12-54+00\n",
            "speechbrain.utils.epoch_loop - Going into epoch 85\n",
            "Delta lang loss = 0.2, Delta separate loss = 0.8\n"
          ]
        },
        {
          "output_type": "stream",
          "name": "stderr",
          "text": [
            " 97%|█████████▋| 1210/1250 [02:36<00:04,  8.56it/s, train_loss=-11.6]"
          ]
        },
        {
          "output_type": "stream",
          "name": "stdout",
          "text": [
            "__main__ - infinite loss or empty loss! it happened 1 times so far - skipping this batch\n"
          ]
        },
        {
          "output_type": "stream",
          "name": "stderr",
          "text": [
            "100%|██████████| 1250/1250 [02:42<00:00,  7.72it/s, train_loss=-11.6]\n"
          ]
        },
        {
          "output_type": "stream",
          "name": "stdout",
          "text": [
            "Delta lang loss = 0.2, Delta separate loss = 0.8\n"
          ]
        },
        {
          "output_type": "stream",
          "name": "stderr",
          "text": [
            "100%|██████████| 500/500 [00:21<00:00, 23.40it/s]"
          ]
        },
        {
          "output_type": "stream",
          "name": "stdout",
          "text": [
            "speechbrain.utils.train_logger - epoch: 85, lr: 1.00e-05 - train final_loss: -1.16e+01 - valid final_loss: -8.68e+00, valid Accuracy soft: 0.33494341373443604, valid Accuracy Partial: 0.6650000214576721\n"
          ]
        },
        {
          "output_type": "stream",
          "name": "stderr",
          "text": [
            "\n"
          ]
        },
        {
          "output_type": "stream",
          "name": "stdout",
          "text": [
            "speechbrain.utils.checkpoints - Saved an end-of-epoch checkpoint in results/convtasnet/1234/save/CKPT+2025-07-19+21-19-03+00\n",
            "speechbrain.utils.checkpoints - Deleted checkpoint in results/convtasnet/1234/save/CKPT+2025-07-19+21-15-58+00\n",
            "speechbrain.utils.epoch_loop - Going into epoch 86\n",
            "Delta lang loss = 0.2, Delta separate loss = 0.8\n"
          ]
        },
        {
          "output_type": "stream",
          "name": "stderr",
          "text": [
            " 97%|█████████▋| 1210/1250 [02:36<00:04,  8.62it/s, train_loss=-11.6]"
          ]
        },
        {
          "output_type": "stream",
          "name": "stdout",
          "text": [
            "__main__ - infinite loss or empty loss! it happened 1 times so far - skipping this batch\n"
          ]
        },
        {
          "output_type": "stream",
          "name": "stderr",
          "text": [
            "100%|██████████| 1250/1250 [02:41<00:00,  7.72it/s, train_loss=-11.6]\n"
          ]
        },
        {
          "output_type": "stream",
          "name": "stdout",
          "text": [
            "Delta lang loss = 0.2, Delta separate loss = 0.8\n"
          ]
        },
        {
          "output_type": "stream",
          "name": "stderr",
          "text": [
            "100%|██████████| 500/500 [00:21<00:00, 23.18it/s]"
          ]
        },
        {
          "output_type": "stream",
          "name": "stdout",
          "text": [
            "speechbrain.utils.train_logger - epoch: 86, lr: 1.00e-05 - train final_loss: -1.16e+01 - valid final_loss: -9.23e+00, valid Accuracy soft: 0.35117995738983154, valid Accuracy Partial: 0.699999988079071\n"
          ]
        },
        {
          "output_type": "stream",
          "name": "stderr",
          "text": [
            "\n"
          ]
        },
        {
          "output_type": "stream",
          "name": "stdout",
          "text": [
            "speechbrain.utils.checkpoints - Saved an end-of-epoch checkpoint in results/convtasnet/1234/save/CKPT+2025-07-19+21-22-07+00\n",
            "speechbrain.utils.checkpoints - Deleted checkpoint in results/convtasnet/1234/save/CKPT+2025-07-19+21-19-03+00\n",
            "speechbrain.utils.epoch_loop - Going into epoch 87\n",
            "Delta lang loss = 0.2, Delta separate loss = 0.8\n"
          ]
        },
        {
          "output_type": "stream",
          "name": "stderr",
          "text": [
            " 97%|█████████▋| 1210/1250 [02:37<00:04,  8.53it/s, train_loss=-11.6]"
          ]
        },
        {
          "output_type": "stream",
          "name": "stdout",
          "text": [
            "__main__ - infinite loss or empty loss! it happened 1 times so far - skipping this batch\n"
          ]
        },
        {
          "output_type": "stream",
          "name": "stderr",
          "text": [
            "100%|██████████| 1250/1250 [02:42<00:00,  7.70it/s, train_loss=-11.6]\n"
          ]
        },
        {
          "output_type": "stream",
          "name": "stdout",
          "text": [
            "Delta lang loss = 0.2, Delta separate loss = 0.8\n"
          ]
        },
        {
          "output_type": "stream",
          "name": "stderr",
          "text": [
            "100%|██████████| 500/500 [00:21<00:00, 23.29it/s]"
          ]
        },
        {
          "output_type": "stream",
          "name": "stdout",
          "text": [
            "speechbrain.utils.train_logger - epoch: 87, lr: 1.00e-05 - train final_loss: -1.16e+01 - valid final_loss: -8.63e+00, valid Accuracy soft: 0.33597925305366516, valid Accuracy Partial: 0.671999990940094\n"
          ]
        },
        {
          "output_type": "stream",
          "name": "stderr",
          "text": [
            "\n"
          ]
        },
        {
          "output_type": "stream",
          "name": "stdout",
          "text": [
            "speechbrain.utils.checkpoints - Saved an end-of-epoch checkpoint in results/convtasnet/1234/save/CKPT+2025-07-19+21-25-12+00\n",
            "speechbrain.utils.checkpoints - Deleted checkpoint in results/convtasnet/1234/save/CKPT+2025-07-19+21-22-07+00\n",
            "speechbrain.utils.epoch_loop - Going into epoch 88\n",
            "Delta lang loss = 0.2, Delta separate loss = 0.8\n"
          ]
        },
        {
          "output_type": "stream",
          "name": "stderr",
          "text": [
            " 97%|█████████▋| 1210/1250 [02:36<00:04,  8.46it/s, train_loss=-11.6]"
          ]
        },
        {
          "output_type": "stream",
          "name": "stdout",
          "text": [
            "__main__ - infinite loss or empty loss! it happened 1 times so far - skipping this batch\n"
          ]
        },
        {
          "output_type": "stream",
          "name": "stderr",
          "text": [
            "100%|██████████| 1250/1250 [02:41<00:00,  7.73it/s, train_loss=-11.6]\n"
          ]
        },
        {
          "output_type": "stream",
          "name": "stdout",
          "text": [
            "Delta lang loss = 0.2, Delta separate loss = 0.8\n"
          ]
        },
        {
          "output_type": "stream",
          "name": "stderr",
          "text": [
            "100%|██████████| 500/500 [00:21<00:00, 23.30it/s]"
          ]
        },
        {
          "output_type": "stream",
          "name": "stdout",
          "text": [
            "speechbrain.utils.train_logger - epoch: 88, lr: 1.00e-05 - train final_loss: -1.16e+01 - valid final_loss: -8.71e+00, valid Accuracy soft: 0.3375187814235687, valid Accuracy Partial: 0.6779999732971191\n"
          ]
        },
        {
          "output_type": "stream",
          "name": "stderr",
          "text": [
            "\n"
          ]
        },
        {
          "output_type": "stream",
          "name": "stdout",
          "text": [
            "speechbrain.utils.checkpoints - Saved an end-of-epoch checkpoint in results/convtasnet/1234/save/CKPT+2025-07-19+21-28-16+00\n",
            "speechbrain.utils.checkpoints - Deleted checkpoint in results/convtasnet/1234/save/CKPT+2025-07-19+21-25-12+00\n",
            "speechbrain.utils.epoch_loop - Going into epoch 89\n",
            "Delta lang loss = 0.2, Delta separate loss = 0.8\n"
          ]
        },
        {
          "output_type": "stream",
          "name": "stderr",
          "text": [
            " 97%|█████████▋| 1210/1250 [02:36<00:04,  8.47it/s, train_loss=-11.6]"
          ]
        },
        {
          "output_type": "stream",
          "name": "stdout",
          "text": [
            "__main__ - infinite loss or empty loss! it happened 1 times so far - skipping this batch\n"
          ]
        },
        {
          "output_type": "stream",
          "name": "stderr",
          "text": [
            "100%|██████████| 1250/1250 [02:42<00:00,  7.71it/s, train_loss=-11.6]\n"
          ]
        },
        {
          "output_type": "stream",
          "name": "stdout",
          "text": [
            "Delta lang loss = 0.2, Delta separate loss = 0.8\n"
          ]
        },
        {
          "output_type": "stream",
          "name": "stderr",
          "text": [
            "100%|██████████| 500/500 [00:21<00:00, 23.44it/s]"
          ]
        },
        {
          "output_type": "stream",
          "name": "stdout",
          "text": [
            "speechbrain.utils.train_logger - epoch: 89, lr: 1.00e-05 - train final_loss: -1.16e+01 - valid final_loss: -9.33e+00, valid Accuracy soft: 0.35621383786201477, valid Accuracy Partial: 0.7120000123977661\n"
          ]
        },
        {
          "output_type": "stream",
          "name": "stderr",
          "text": [
            "\n"
          ]
        },
        {
          "output_type": "stream",
          "name": "stdout",
          "text": [
            "speechbrain.utils.checkpoints - Saved an end-of-epoch checkpoint in results/convtasnet/1234/save/CKPT+2025-07-19+21-31-20+00\n",
            "speechbrain.utils.checkpoints - Deleted checkpoint in results/convtasnet/1234/save/CKPT+2025-07-19+21-28-16+00\n",
            "speechbrain.utils.epoch_loop - Going into epoch 90\n",
            "Delta lang loss = 0.2, Delta separate loss = 0.8\n"
          ]
        },
        {
          "output_type": "stream",
          "name": "stderr",
          "text": [
            " 97%|█████████▋| 1210/1250 [02:35<00:04,  8.53it/s, train_loss=-11.6]"
          ]
        },
        {
          "output_type": "stream",
          "name": "stdout",
          "text": [
            "__main__ - infinite loss or empty loss! it happened 1 times so far - skipping this batch\n"
          ]
        },
        {
          "output_type": "stream",
          "name": "stderr",
          "text": [
            "100%|██████████| 1250/1250 [02:40<00:00,  7.77it/s, train_loss=-11.6]\n"
          ]
        },
        {
          "output_type": "stream",
          "name": "stdout",
          "text": [
            "Delta lang loss = 0.2, Delta separate loss = 0.8\n"
          ]
        },
        {
          "output_type": "stream",
          "name": "stderr",
          "text": [
            "100%|██████████| 500/500 [00:21<00:00, 23.51it/s]"
          ]
        },
        {
          "output_type": "stream",
          "name": "stdout",
          "text": [
            "speechbrain.utils.train_logger - epoch: 90, lr: 1.00e-05 - train final_loss: -1.16e+01 - valid final_loss: -9.45e+00, valid Accuracy soft: 0.3626633882522583, valid Accuracy Partial: 0.7200000286102295\n"
          ]
        },
        {
          "output_type": "stream",
          "name": "stderr",
          "text": [
            "\n"
          ]
        },
        {
          "output_type": "stream",
          "name": "stdout",
          "text": [
            "speechbrain.utils.checkpoints - Saved an end-of-epoch checkpoint in results/convtasnet/1234/save/CKPT+2025-07-19+21-34-23+00\n",
            "speechbrain.utils.checkpoints - Deleted checkpoint in results/convtasnet/1234/save/CKPT+2025-07-19+21-31-20+00\n",
            "speechbrain.utils.epoch_loop - Going into epoch 91\n",
            "Delta lang loss = 0.2, Delta separate loss = 0.8\n"
          ]
        },
        {
          "output_type": "stream",
          "name": "stderr",
          "text": [
            " 97%|█████████▋| 1210/1250 [02:35<00:04,  8.59it/s, train_loss=-11.6]"
          ]
        },
        {
          "output_type": "stream",
          "name": "stdout",
          "text": [
            "__main__ - infinite loss or empty loss! it happened 1 times so far - skipping this batch\n"
          ]
        },
        {
          "output_type": "stream",
          "name": "stderr",
          "text": [
            "100%|██████████| 1250/1250 [02:40<00:00,  7.78it/s, train_loss=-11.6]\n"
          ]
        },
        {
          "output_type": "stream",
          "name": "stdout",
          "text": [
            "Delta lang loss = 0.2, Delta separate loss = 0.8\n"
          ]
        },
        {
          "output_type": "stream",
          "name": "stderr",
          "text": [
            "100%|██████████| 500/500 [00:21<00:00, 23.48it/s]"
          ]
        },
        {
          "output_type": "stream",
          "name": "stdout",
          "text": [
            "speechbrain.utils.train_logger - epoch: 91, lr: 1.00e-05 - train final_loss: -1.16e+01 - valid final_loss: -9.28e+00, valid Accuracy soft: 0.35336074233055115, valid Accuracy Partial: 0.7059999704360962\n"
          ]
        },
        {
          "output_type": "stream",
          "name": "stderr",
          "text": [
            "\n"
          ]
        },
        {
          "output_type": "stream",
          "name": "stdout",
          "text": [
            "speechbrain.utils.checkpoints - Saved an end-of-epoch checkpoint in results/convtasnet/1234/save/CKPT+2025-07-19+21-37-26+00\n",
            "speechbrain.utils.checkpoints - Deleted checkpoint in results/convtasnet/1234/save/CKPT+2025-07-19+21-34-23+00\n",
            "speechbrain.utils.epoch_loop - Going into epoch 92\n",
            "Delta lang loss = 0.2, Delta separate loss = 0.8\n"
          ]
        },
        {
          "output_type": "stream",
          "name": "stderr",
          "text": [
            " 97%|█████████▋| 1210/1250 [02:35<00:04,  8.34it/s, train_loss=-11.6]"
          ]
        },
        {
          "output_type": "stream",
          "name": "stdout",
          "text": [
            "__main__ - infinite loss or empty loss! it happened 1 times so far - skipping this batch\n"
          ]
        },
        {
          "output_type": "stream",
          "name": "stderr",
          "text": [
            "100%|██████████| 1250/1250 [02:40<00:00,  7.78it/s, train_loss=-11.6]\n"
          ]
        },
        {
          "output_type": "stream",
          "name": "stdout",
          "text": [
            "Delta lang loss = 0.2, Delta separate loss = 0.8\n"
          ]
        },
        {
          "output_type": "stream",
          "name": "stderr",
          "text": [
            "100%|██████████| 500/500 [00:21<00:00, 23.53it/s]"
          ]
        },
        {
          "output_type": "stream",
          "name": "stdout",
          "text": [
            "speechbrain.utils.train_logger - epoch: 92, lr: 1.00e-05 - train final_loss: -1.16e+01 - valid final_loss: -9.42e+00, valid Accuracy soft: 0.36037373542785645, valid Accuracy Partial: 0.7160000205039978\n"
          ]
        },
        {
          "output_type": "stream",
          "name": "stderr",
          "text": [
            "\n"
          ]
        },
        {
          "output_type": "stream",
          "name": "stdout",
          "text": [
            "speechbrain.utils.checkpoints - Saved an end-of-epoch checkpoint in results/convtasnet/1234/save/CKPT+2025-07-19+21-40-29+00\n",
            "speechbrain.utils.checkpoints - Deleted checkpoint in results/convtasnet/1234/save/CKPT+2025-07-19+21-37-26+00\n",
            "speechbrain.utils.epoch_loop - Going into epoch 93\n",
            "Delta lang loss = 0.2, Delta separate loss = 0.8\n"
          ]
        },
        {
          "output_type": "stream",
          "name": "stderr",
          "text": [
            " 97%|█████████▋| 1210/1250 [02:35<00:04,  8.59it/s, train_loss=-11.6]"
          ]
        },
        {
          "output_type": "stream",
          "name": "stdout",
          "text": [
            "__main__ - infinite loss or empty loss! it happened 1 times so far - skipping this batch\n"
          ]
        },
        {
          "output_type": "stream",
          "name": "stderr",
          "text": [
            "100%|██████████| 1250/1250 [02:40<00:00,  7.77it/s, train_loss=-11.6]\n"
          ]
        },
        {
          "output_type": "stream",
          "name": "stdout",
          "text": [
            "Delta lang loss = 0.2, Delta separate loss = 0.8\n"
          ]
        },
        {
          "output_type": "stream",
          "name": "stderr",
          "text": [
            "100%|██████████| 500/500 [00:21<00:00, 23.28it/s]"
          ]
        },
        {
          "output_type": "stream",
          "name": "stdout",
          "text": [
            "speechbrain.utils.train_logger - epoch: 93, lr: 1.00e-05 - train final_loss: -1.16e+01 - valid final_loss: -9.43e+00, valid Accuracy soft: 0.3619484603404999, valid Accuracy Partial: 0.718999981880188\n"
          ]
        },
        {
          "output_type": "stream",
          "name": "stderr",
          "text": [
            "\n"
          ]
        },
        {
          "output_type": "stream",
          "name": "stdout",
          "text": [
            "speechbrain.utils.checkpoints - Saved an end-of-epoch checkpoint in results/convtasnet/1234/save/CKPT+2025-07-19+21-43-32+00\n",
            "speechbrain.utils.checkpoints - Deleted checkpoint in results/convtasnet/1234/save/CKPT+2025-07-19+21-40-29+00\n",
            "speechbrain.utils.epoch_loop - Going into epoch 94\n",
            "Delta lang loss = 0.2, Delta separate loss = 0.8\n"
          ]
        },
        {
          "output_type": "stream",
          "name": "stderr",
          "text": [
            " 97%|█████████▋| 1210/1250 [02:36<00:04,  8.63it/s, train_loss=-11.7]"
          ]
        },
        {
          "output_type": "stream",
          "name": "stdout",
          "text": [
            "__main__ - infinite loss or empty loss! it happened 1 times so far - skipping this batch\n"
          ]
        },
        {
          "output_type": "stream",
          "name": "stderr",
          "text": [
            "100%|██████████| 1250/1250 [02:41<00:00,  7.74it/s, train_loss=-11.7]\n"
          ]
        },
        {
          "output_type": "stream",
          "name": "stdout",
          "text": [
            "Delta lang loss = 0.2, Delta separate loss = 0.8\n"
          ]
        },
        {
          "output_type": "stream",
          "name": "stderr",
          "text": [
            "100%|██████████| 500/500 [00:21<00:00, 23.51it/s]"
          ]
        },
        {
          "output_type": "stream",
          "name": "stdout",
          "text": [
            "speechbrain.utils.train_logger - epoch: 94, lr: 1.00e-05 - train final_loss: -1.17e+01 - valid final_loss: -9.45e+00, valid Accuracy soft: 0.364091694355011, valid Accuracy Partial: 0.7250000238418579\n"
          ]
        },
        {
          "output_type": "stream",
          "name": "stderr",
          "text": [
            "\n"
          ]
        },
        {
          "output_type": "stream",
          "name": "stdout",
          "text": [
            "speechbrain.utils.checkpoints - Saved an end-of-epoch checkpoint in results/convtasnet/1234/save/CKPT+2025-07-19+21-46-36+00\n",
            "speechbrain.utils.checkpoints - Deleted checkpoint in results/convtasnet/1234/save/CKPT+2025-07-19+21-43-32+00\n",
            "speechbrain.utils.epoch_loop - Going into epoch 95\n",
            "Delta lang loss = 0.2, Delta separate loss = 0.8\n"
          ]
        },
        {
          "output_type": "stream",
          "name": "stderr",
          "text": [
            " 97%|█████████▋| 1210/1250 [02:35<00:04,  8.60it/s, train_loss=-11.6]"
          ]
        },
        {
          "output_type": "stream",
          "name": "stdout",
          "text": [
            "__main__ - infinite loss or empty loss! it happened 1 times so far - skipping this batch\n"
          ]
        },
        {
          "output_type": "stream",
          "name": "stderr",
          "text": [
            "100%|██████████| 1250/1250 [02:41<00:00,  7.76it/s, train_loss=-11.7]\n"
          ]
        },
        {
          "output_type": "stream",
          "name": "stdout",
          "text": [
            "Delta lang loss = 0.2, Delta separate loss = 0.8\n"
          ]
        },
        {
          "output_type": "stream",
          "name": "stderr",
          "text": [
            "100%|██████████| 500/500 [00:21<00:00, 23.35it/s]"
          ]
        },
        {
          "output_type": "stream",
          "name": "stdout",
          "text": [
            "speechbrain.utils.train_logger - epoch: 95, lr: 1.00e-05 - train final_loss: -1.17e+01 - valid final_loss: -9.43e+00, valid Accuracy soft: 0.3620374798774719, valid Accuracy Partial: 0.7239999771118164\n"
          ]
        },
        {
          "output_type": "stream",
          "name": "stderr",
          "text": [
            "\n"
          ]
        },
        {
          "output_type": "stream",
          "name": "stdout",
          "text": [
            "speechbrain.utils.checkpoints - Saved an end-of-epoch checkpoint in results/convtasnet/1234/save/CKPT+2025-07-19+21-49-39+00\n",
            "speechbrain.utils.checkpoints - Deleted checkpoint in results/convtasnet/1234/save/CKPT+2025-07-19+21-46-36+00\n",
            "speechbrain.utils.epoch_loop - Going into epoch 96\n",
            "Delta lang loss = 0.2, Delta separate loss = 0.8\n"
          ]
        },
        {
          "output_type": "stream",
          "name": "stderr",
          "text": [
            " 97%|█████████▋| 1210/1250 [02:36<00:04,  8.47it/s, train_loss=-11.7]"
          ]
        },
        {
          "output_type": "stream",
          "name": "stdout",
          "text": [
            "__main__ - infinite loss or empty loss! it happened 1 times so far - skipping this batch\n"
          ]
        },
        {
          "output_type": "stream",
          "name": "stderr",
          "text": [
            "100%|██████████| 1250/1250 [02:41<00:00,  7.75it/s, train_loss=-11.7]\n"
          ]
        },
        {
          "output_type": "stream",
          "name": "stdout",
          "text": [
            "Delta lang loss = 0.2, Delta separate loss = 0.8\n"
          ]
        },
        {
          "output_type": "stream",
          "name": "stderr",
          "text": [
            "100%|██████████| 500/500 [00:21<00:00, 23.45it/s]"
          ]
        },
        {
          "output_type": "stream",
          "name": "stdout",
          "text": [
            "speechbrain.utils.train_logger - epoch: 96, lr: 1.00e-05 - train final_loss: -1.17e+01 - valid final_loss: -9.46e+00, valid Accuracy soft: 0.36464744806289673, valid Accuracy Partial: 0.7310000061988831\n"
          ]
        },
        {
          "output_type": "stream",
          "name": "stderr",
          "text": [
            "\n"
          ]
        },
        {
          "output_type": "stream",
          "name": "stdout",
          "text": [
            "speechbrain.utils.checkpoints - Saved an end-of-epoch checkpoint in results/convtasnet/1234/save/CKPT+2025-07-19+21-52-43+00\n",
            "speechbrain.utils.checkpoints - Deleted checkpoint in results/convtasnet/1234/save/CKPT+2025-07-19+21-49-39+00\n",
            "speechbrain.utils.epoch_loop - Going into epoch 97\n",
            "Delta lang loss = 0.2, Delta separate loss = 0.8\n"
          ]
        },
        {
          "output_type": "stream",
          "name": "stderr",
          "text": [
            " 97%|█████████▋| 1210/1250 [02:36<00:04,  8.42it/s, train_loss=-11.7]"
          ]
        },
        {
          "output_type": "stream",
          "name": "stdout",
          "text": [
            "__main__ - infinite loss or empty loss! it happened 1 times so far - skipping this batch\n"
          ]
        },
        {
          "output_type": "stream",
          "name": "stderr",
          "text": [
            "100%|██████████| 1250/1250 [02:41<00:00,  7.75it/s, train_loss=-11.7]\n"
          ]
        },
        {
          "output_type": "stream",
          "name": "stdout",
          "text": [
            "Delta lang loss = 0.2, Delta separate loss = 0.8\n"
          ]
        },
        {
          "output_type": "stream",
          "name": "stderr",
          "text": [
            "100%|██████████| 500/500 [00:21<00:00, 23.41it/s]"
          ]
        },
        {
          "output_type": "stream",
          "name": "stdout",
          "text": [
            "speechbrain.utils.train_logger - epoch: 97, lr: 1.00e-05 - train final_loss: -1.17e+01 - valid final_loss: -9.43e+00, valid Accuracy soft: 0.3610817790031433, valid Accuracy Partial: 0.7250000238418579\n"
          ]
        },
        {
          "output_type": "stream",
          "name": "stderr",
          "text": [
            "\n"
          ]
        },
        {
          "output_type": "stream",
          "name": "stdout",
          "text": [
            "speechbrain.utils.checkpoints - Saved an end-of-epoch checkpoint in results/convtasnet/1234/save/CKPT+2025-07-19+21-55-46+00\n",
            "speechbrain.utils.checkpoints - Deleted checkpoint in results/convtasnet/1234/save/CKPT+2025-07-19+21-52-43+00\n",
            "speechbrain.utils.epoch_loop - Going into epoch 98\n",
            "Delta lang loss = 0.2, Delta separate loss = 0.8\n"
          ]
        },
        {
          "output_type": "stream",
          "name": "stderr",
          "text": [
            " 97%|█████████▋| 1210/1250 [02:35<00:04,  8.57it/s, train_loss=-11.7]"
          ]
        },
        {
          "output_type": "stream",
          "name": "stdout",
          "text": [
            "__main__ - infinite loss or empty loss! it happened 1 times so far - skipping this batch\n"
          ]
        },
        {
          "output_type": "stream",
          "name": "stderr",
          "text": [
            "100%|██████████| 1250/1250 [02:41<00:00,  7.76it/s, train_loss=-11.7]\n"
          ]
        },
        {
          "output_type": "stream",
          "name": "stdout",
          "text": [
            "Delta lang loss = 0.2, Delta separate loss = 0.8\n"
          ]
        },
        {
          "output_type": "stream",
          "name": "stderr",
          "text": [
            "100%|██████████| 500/500 [00:21<00:00, 23.43it/s]"
          ]
        },
        {
          "output_type": "stream",
          "name": "stdout",
          "text": [
            "speechbrain.utils.train_logger - epoch: 98, lr: 1.00e-05 - train final_loss: -1.17e+01 - valid final_loss: -9.40e+00, valid Accuracy soft: 0.35913577675819397, valid Accuracy Partial: 0.718999981880188\n"
          ]
        },
        {
          "output_type": "stream",
          "name": "stderr",
          "text": [
            "\n"
          ]
        },
        {
          "output_type": "stream",
          "name": "stdout",
          "text": [
            "speechbrain.utils.checkpoints - Saved an end-of-epoch checkpoint in results/convtasnet/1234/save/CKPT+2025-07-19+21-58-50+00\n",
            "speechbrain.utils.checkpoints - Deleted checkpoint in results/convtasnet/1234/save/CKPT+2025-07-19+21-55-46+00\n",
            "speechbrain.utils.epoch_loop - Going into epoch 99\n",
            "Delta lang loss = 0.2, Delta separate loss = 0.8\n"
          ]
        },
        {
          "output_type": "stream",
          "name": "stderr",
          "text": [
            " 97%|█████████▋| 1210/1250 [02:35<00:04,  8.67it/s, train_loss=-11.7]"
          ]
        },
        {
          "output_type": "stream",
          "name": "stdout",
          "text": [
            "__main__ - infinite loss or empty loss! it happened 1 times so far - skipping this batch\n"
          ]
        },
        {
          "output_type": "stream",
          "name": "stderr",
          "text": [
            "100%|██████████| 1250/1250 [02:40<00:00,  7.78it/s, train_loss=-11.7]\n"
          ]
        },
        {
          "output_type": "stream",
          "name": "stdout",
          "text": [
            "Delta lang loss = 0.2, Delta separate loss = 0.8\n"
          ]
        },
        {
          "output_type": "stream",
          "name": "stderr",
          "text": [
            "100%|██████████| 500/500 [00:21<00:00, 23.45it/s]"
          ]
        },
        {
          "output_type": "stream",
          "name": "stdout",
          "text": [
            "speechbrain.utils.train_logger - epoch: 99, lr: 1.00e-05 - train final_loss: -1.17e+01 - valid final_loss: -9.44e+00, valid Accuracy soft: 0.3622034788131714, valid Accuracy Partial: 0.7260000109672546\n"
          ]
        },
        {
          "output_type": "stream",
          "name": "stderr",
          "text": [
            "\n"
          ]
        },
        {
          "output_type": "stream",
          "name": "stdout",
          "text": [
            "speechbrain.utils.checkpoints - Saved an end-of-epoch checkpoint in results/convtasnet/1234/save/CKPT+2025-07-19+22-01-53+00\n",
            "speechbrain.utils.checkpoints - Deleted checkpoint in results/convtasnet/1234/save/CKPT+2025-07-19+21-58-50+00\n",
            "speechbrain.utils.epoch_loop - Going into epoch 100\n",
            "Delta lang loss = 0.2, Delta separate loss = 0.8\n"
          ]
        },
        {
          "output_type": "stream",
          "name": "stderr",
          "text": [
            " 97%|█████████▋| 1210/1250 [02:35<00:04,  8.54it/s, train_loss=-11.7]"
          ]
        },
        {
          "output_type": "stream",
          "name": "stdout",
          "text": [
            "__main__ - infinite loss or empty loss! it happened 1 times so far - skipping this batch\n"
          ]
        },
        {
          "output_type": "stream",
          "name": "stderr",
          "text": [
            "100%|██████████| 1250/1250 [02:40<00:00,  7.78it/s, train_loss=-11.7]\n"
          ]
        },
        {
          "output_type": "stream",
          "name": "stdout",
          "text": [
            "__main__ - Removed file /content/drive/MyDrive/Project/results_80\n",
            "__main__ - Saved file succesfully\n",
            "Delta lang loss = 0.2, Delta separate loss = 0.8\n"
          ]
        },
        {
          "output_type": "stream",
          "name": "stderr",
          "text": [
            "100%|██████████| 500/500 [00:21<00:00, 23.12it/s]"
          ]
        },
        {
          "output_type": "stream",
          "name": "stdout",
          "text": [
            "speechbrain.utils.train_logger - epoch: 100, lr: 1.00e-05 - train final_loss: -1.17e+01 - valid final_loss: -9.46e+00, valid Accuracy soft: 0.3633943796157837, valid Accuracy Partial: 0.7279999852180481\n"
          ]
        },
        {
          "output_type": "stream",
          "name": "stderr",
          "text": [
            "\n"
          ]
        },
        {
          "output_type": "stream",
          "name": "stdout",
          "text": [
            "speechbrain.utils.checkpoints - Saved an end-of-epoch checkpoint in results/convtasnet/1234/save/CKPT+2025-07-19+22-04-59+00\n",
            "speechbrain.utils.checkpoints - Deleted checkpoint in results/convtasnet/1234/save/CKPT+2025-07-19+22-01-53+00\n",
            "speechbrain.utils.epoch_loop - Going into epoch 101\n",
            "Delta lang loss = 0.2, Delta separate loss = 0.8\n"
          ]
        },
        {
          "output_type": "stream",
          "name": "stderr",
          "text": [
            " 97%|█████████▋| 1210/1250 [02:35<00:04,  8.65it/s, train_loss=-11.7]"
          ]
        },
        {
          "output_type": "stream",
          "name": "stdout",
          "text": [
            "__main__ - infinite loss or empty loss! it happened 1 times so far - skipping this batch\n"
          ]
        },
        {
          "output_type": "stream",
          "name": "stderr",
          "text": [
            "100%|██████████| 1250/1250 [02:40<00:00,  7.78it/s, train_loss=-11.7]\n"
          ]
        },
        {
          "output_type": "stream",
          "name": "stdout",
          "text": [
            "Delta lang loss = 0.2, Delta separate loss = 0.8\n"
          ]
        },
        {
          "output_type": "stream",
          "name": "stderr",
          "text": [
            "100%|██████████| 500/500 [00:21<00:00, 23.37it/s]"
          ]
        },
        {
          "output_type": "stream",
          "name": "stdout",
          "text": [
            "speechbrain.utils.train_logger - epoch: 101, lr: 1.00e-05 - train final_loss: -1.17e+01 - valid final_loss: -9.44e+00, valid Accuracy soft: 0.36250513792037964, valid Accuracy Partial: 0.722000002861023\n"
          ]
        },
        {
          "output_type": "stream",
          "name": "stderr",
          "text": [
            "\n"
          ]
        },
        {
          "output_type": "stream",
          "name": "stdout",
          "text": [
            "speechbrain.utils.checkpoints - Saved an end-of-epoch checkpoint in results/convtasnet/1234/save/CKPT+2025-07-19+22-08-02+00\n",
            "speechbrain.utils.checkpoints - Deleted checkpoint in results/convtasnet/1234/save/CKPT+2025-07-19+22-04-59+00\n",
            "speechbrain.utils.epoch_loop - Going into epoch 102\n",
            "Delta lang loss = 0.2, Delta separate loss = 0.8\n"
          ]
        },
        {
          "output_type": "stream",
          "name": "stderr",
          "text": [
            " 97%|█████████▋| 1210/1250 [02:35<00:04,  8.60it/s, train_loss=-11.7]"
          ]
        },
        {
          "output_type": "stream",
          "name": "stdout",
          "text": [
            "__main__ - infinite loss or empty loss! it happened 1 times so far - skipping this batch\n"
          ]
        },
        {
          "output_type": "stream",
          "name": "stderr",
          "text": [
            "100%|██████████| 1250/1250 [02:40<00:00,  7.79it/s, train_loss=-11.7]\n"
          ]
        },
        {
          "output_type": "stream",
          "name": "stdout",
          "text": [
            "Delta lang loss = 0.2, Delta separate loss = 0.8\n"
          ]
        },
        {
          "output_type": "stream",
          "name": "stderr",
          "text": [
            "100%|██████████| 500/500 [00:21<00:00, 23.29it/s]"
          ]
        },
        {
          "output_type": "stream",
          "name": "stdout",
          "text": [
            "speechbrain.utils.train_logger - epoch: 102, lr: 1.00e-05 - train final_loss: -1.17e+01 - valid final_loss: -8.87e+00, valid Accuracy soft: 0.33734244108200073, valid Accuracy Partial: 0.6840000152587891\n"
          ]
        },
        {
          "output_type": "stream",
          "name": "stderr",
          "text": [
            "\n"
          ]
        },
        {
          "output_type": "stream",
          "name": "stdout",
          "text": [
            "speechbrain.utils.checkpoints - Saved an end-of-epoch checkpoint in results/convtasnet/1234/save/CKPT+2025-07-19+22-11-05+00\n",
            "speechbrain.utils.checkpoints - Deleted checkpoint in results/convtasnet/1234/save/CKPT+2025-07-19+22-08-02+00\n",
            "speechbrain.utils.epoch_loop - Going into epoch 103\n",
            "Delta lang loss = 0.2, Delta separate loss = 0.8\n"
          ]
        },
        {
          "output_type": "stream",
          "name": "stderr",
          "text": [
            " 97%|█████████▋| 1210/1250 [02:36<00:04,  8.47it/s, train_loss=-11.7]"
          ]
        },
        {
          "output_type": "stream",
          "name": "stdout",
          "text": [
            "__main__ - infinite loss or empty loss! it happened 1 times so far - skipping this batch\n"
          ]
        },
        {
          "output_type": "stream",
          "name": "stderr",
          "text": [
            "100%|██████████| 1250/1250 [02:41<00:00,  7.75it/s, train_loss=-11.7]\n"
          ]
        },
        {
          "output_type": "stream",
          "name": "stdout",
          "text": [
            "Delta lang loss = 0.2, Delta separate loss = 0.8\n"
          ]
        },
        {
          "output_type": "stream",
          "name": "stderr",
          "text": [
            "100%|██████████| 500/500 [00:21<00:00, 23.32it/s]"
          ]
        },
        {
          "output_type": "stream",
          "name": "stdout",
          "text": [
            "speechbrain.utils.train_logger - epoch: 103, lr: 1.00e-05 - train final_loss: -1.17e+01 - valid final_loss: -9.39e+00, valid Accuracy soft: 0.35843682289123535, valid Accuracy Partial: 0.7200000286102295\n"
          ]
        },
        {
          "output_type": "stream",
          "name": "stderr",
          "text": [
            "\n"
          ]
        },
        {
          "output_type": "stream",
          "name": "stdout",
          "text": [
            "speechbrain.utils.checkpoints - Saved an end-of-epoch checkpoint in results/convtasnet/1234/save/CKPT+2025-07-19+22-14-08+00\n",
            "speechbrain.utils.checkpoints - Deleted checkpoint in results/convtasnet/1234/save/CKPT+2025-07-19+22-11-05+00\n",
            "speechbrain.utils.epoch_loop - Going into epoch 104\n",
            "Delta lang loss = 0.2, Delta separate loss = 0.8\n"
          ]
        },
        {
          "output_type": "stream",
          "name": "stderr",
          "text": [
            " 97%|█████████▋| 1210/1250 [02:34<00:04,  8.22it/s, train_loss=-11.7]"
          ]
        },
        {
          "output_type": "stream",
          "name": "stdout",
          "text": [
            "__main__ - infinite loss or empty loss! it happened 1 times so far - skipping this batch\n"
          ]
        },
        {
          "output_type": "stream",
          "name": "stderr",
          "text": [
            "100%|██████████| 1250/1250 [02:40<00:00,  7.79it/s, train_loss=-11.7]\n"
          ]
        },
        {
          "output_type": "stream",
          "name": "stdout",
          "text": [
            "Delta lang loss = 0.2, Delta separate loss = 0.8\n"
          ]
        },
        {
          "output_type": "stream",
          "name": "stderr",
          "text": [
            "100%|██████████| 500/500 [00:21<00:00, 23.46it/s]"
          ]
        },
        {
          "output_type": "stream",
          "name": "stdout",
          "text": [
            "speechbrain.utils.train_logger - epoch: 104, lr: 1.00e-05 - train final_loss: -1.17e+01 - valid final_loss: -9.28e+00, valid Accuracy soft: 0.35293179750442505, valid Accuracy Partial: 0.7129999995231628\n"
          ]
        },
        {
          "output_type": "stream",
          "name": "stderr",
          "text": [
            "\n"
          ]
        },
        {
          "output_type": "stream",
          "name": "stdout",
          "text": [
            "speechbrain.utils.checkpoints - Saved an end-of-epoch checkpoint in results/convtasnet/1234/save/CKPT+2025-07-19+22-17-11+00\n",
            "speechbrain.utils.checkpoints - Deleted checkpoint in results/convtasnet/1234/save/CKPT+2025-07-19+22-14-08+00\n",
            "speechbrain.utils.epoch_loop - Going into epoch 105\n",
            "Delta lang loss = 0.2, Delta separate loss = 0.8\n"
          ]
        },
        {
          "output_type": "stream",
          "name": "stderr",
          "text": [
            " 97%|█████████▋| 1210/1250 [02:35<00:04,  8.32it/s, train_loss=-11.7]"
          ]
        },
        {
          "output_type": "stream",
          "name": "stdout",
          "text": [
            "__main__ - infinite loss or empty loss! it happened 1 times so far - skipping this batch\n"
          ]
        },
        {
          "output_type": "stream",
          "name": "stderr",
          "text": [
            "100%|██████████| 1250/1250 [02:40<00:00,  7.78it/s, train_loss=-11.7]\n"
          ]
        },
        {
          "output_type": "stream",
          "name": "stdout",
          "text": [
            "Delta lang loss = 0.2, Delta separate loss = 0.8\n"
          ]
        },
        {
          "output_type": "stream",
          "name": "stderr",
          "text": [
            "100%|██████████| 500/500 [00:21<00:00, 23.48it/s]"
          ]
        },
        {
          "output_type": "stream",
          "name": "stdout",
          "text": [
            "speechbrain.utils.train_logger - epoch: 105, lr: 1.00e-05 - train final_loss: -1.17e+01 - valid final_loss: -9.40e+00, valid Accuracy soft: 0.35894227027893066, valid Accuracy Partial: 0.7279999852180481\n"
          ]
        },
        {
          "output_type": "stream",
          "name": "stderr",
          "text": [
            "\n"
          ]
        },
        {
          "output_type": "stream",
          "name": "stdout",
          "text": [
            "speechbrain.utils.checkpoints - Saved an end-of-epoch checkpoint in results/convtasnet/1234/save/CKPT+2025-07-19+22-20-14+00\n",
            "speechbrain.utils.checkpoints - Deleted checkpoint in results/convtasnet/1234/save/CKPT+2025-07-19+22-17-11+00\n",
            "speechbrain.utils.epoch_loop - Going into epoch 106\n",
            "Delta lang loss = 0.2, Delta separate loss = 0.8\n"
          ]
        },
        {
          "output_type": "stream",
          "name": "stderr",
          "text": [
            " 97%|█████████▋| 1210/1250 [02:35<00:04,  8.53it/s, train_loss=-11.7]"
          ]
        },
        {
          "output_type": "stream",
          "name": "stdout",
          "text": [
            "__main__ - infinite loss or empty loss! it happened 1 times so far - skipping this batch\n"
          ]
        },
        {
          "output_type": "stream",
          "name": "stderr",
          "text": [
            "100%|██████████| 1250/1250 [02:40<00:00,  7.78it/s, train_loss=-11.7]\n"
          ]
        },
        {
          "output_type": "stream",
          "name": "stdout",
          "text": [
            "Delta lang loss = 0.2, Delta separate loss = 0.8\n"
          ]
        },
        {
          "output_type": "stream",
          "name": "stderr",
          "text": [
            "100%|██████████| 500/500 [00:21<00:00, 23.28it/s]"
          ]
        },
        {
          "output_type": "stream",
          "name": "stdout",
          "text": [
            "speechbrain.utils.train_logger - epoch: 106, lr: 1.00e-05 - train final_loss: -1.17e+01 - valid final_loss: -9.46e+00, valid Accuracy soft: 0.36476361751556396, valid Accuracy Partial: 0.7350000143051147\n"
          ]
        },
        {
          "output_type": "stream",
          "name": "stderr",
          "text": [
            "\n"
          ]
        },
        {
          "output_type": "stream",
          "name": "stdout",
          "text": [
            "speechbrain.utils.checkpoints - Saved an end-of-epoch checkpoint in results/convtasnet/1234/save/CKPT+2025-07-19+22-23-17+00\n",
            "speechbrain.utils.checkpoints - Deleted checkpoint in results/convtasnet/1234/save/CKPT+2025-07-19+22-20-14+00\n",
            "speechbrain.utils.epoch_loop - Going into epoch 107\n",
            "Delta lang loss = 0.2, Delta separate loss = 0.8\n"
          ]
        },
        {
          "output_type": "stream",
          "name": "stderr",
          "text": [
            " 97%|█████████▋| 1210/1250 [02:36<00:04,  8.18it/s, train_loss=-11.7]"
          ]
        },
        {
          "output_type": "stream",
          "name": "stdout",
          "text": [
            "__main__ - infinite loss or empty loss! it happened 1 times so far - skipping this batch\n"
          ]
        },
        {
          "output_type": "stream",
          "name": "stderr",
          "text": [
            "100%|██████████| 1250/1250 [02:42<00:00,  7.71it/s, train_loss=-11.7]\n"
          ]
        },
        {
          "output_type": "stream",
          "name": "stdout",
          "text": [
            "Delta lang loss = 0.2, Delta separate loss = 0.8\n"
          ]
        },
        {
          "output_type": "stream",
          "name": "stderr",
          "text": [
            "100%|██████████| 500/500 [00:21<00:00, 23.27it/s]"
          ]
        },
        {
          "output_type": "stream",
          "name": "stdout",
          "text": [
            "speechbrain.utils.train_logger - epoch: 107, lr: 1.00e-05 - train final_loss: -1.17e+01 - valid final_loss: -9.45e+00, valid Accuracy soft: 0.36303022503852844, valid Accuracy Partial: 0.7310000061988831\n"
          ]
        },
        {
          "output_type": "stream",
          "name": "stderr",
          "text": [
            "\n"
          ]
        },
        {
          "output_type": "stream",
          "name": "stdout",
          "text": [
            "speechbrain.utils.checkpoints - Saved an end-of-epoch checkpoint in results/convtasnet/1234/save/CKPT+2025-07-19+22-26-21+00\n",
            "speechbrain.utils.checkpoints - Deleted checkpoint in results/convtasnet/1234/save/CKPT+2025-07-19+22-23-17+00\n",
            "speechbrain.utils.epoch_loop - Going into epoch 108\n",
            "Delta lang loss = 0.2, Delta separate loss = 0.8\n"
          ]
        },
        {
          "output_type": "stream",
          "name": "stderr",
          "text": [
            " 97%|█████████▋| 1210/1250 [02:36<00:04,  8.52it/s, train_loss=-11.7]"
          ]
        },
        {
          "output_type": "stream",
          "name": "stdout",
          "text": [
            "__main__ - infinite loss or empty loss! it happened 1 times so far - skipping this batch\n"
          ]
        },
        {
          "output_type": "stream",
          "name": "stderr",
          "text": [
            "100%|██████████| 1250/1250 [02:41<00:00,  7.74it/s, train_loss=-11.7]\n"
          ]
        },
        {
          "output_type": "stream",
          "name": "stdout",
          "text": [
            "Delta lang loss = 0.2, Delta separate loss = 0.8\n"
          ]
        },
        {
          "output_type": "stream",
          "name": "stderr",
          "text": [
            "100%|██████████| 500/500 [00:21<00:00, 23.29it/s]"
          ]
        },
        {
          "output_type": "stream",
          "name": "stdout",
          "text": [
            "speechbrain.utils.train_logger - epoch: 108, lr: 1.00e-05 - train final_loss: -1.17e+01 - valid final_loss: -9.46e+00, valid Accuracy soft: 0.36471396684646606, valid Accuracy Partial: 0.7300000190734863\n"
          ]
        },
        {
          "output_type": "stream",
          "name": "stderr",
          "text": [
            "\n"
          ]
        },
        {
          "output_type": "stream",
          "name": "stdout",
          "text": [
            "speechbrain.utils.checkpoints - Saved an end-of-epoch checkpoint in results/convtasnet/1234/save/CKPT+2025-07-19+22-29-25+00\n",
            "speechbrain.utils.checkpoints - Deleted checkpoint in results/convtasnet/1234/save/CKPT+2025-07-19+22-26-21+00\n",
            "speechbrain.utils.epoch_loop - Going into epoch 109\n",
            "Delta lang loss = 0.2, Delta separate loss = 0.8\n"
          ]
        },
        {
          "output_type": "stream",
          "name": "stderr",
          "text": [
            " 97%|█████████▋| 1210/1250 [02:36<00:04,  8.31it/s, train_loss=-11.7]"
          ]
        },
        {
          "output_type": "stream",
          "name": "stdout",
          "text": [
            "__main__ - infinite loss or empty loss! it happened 1 times so far - skipping this batch\n"
          ]
        },
        {
          "output_type": "stream",
          "name": "stderr",
          "text": [
            "100%|██████████| 1250/1250 [02:41<00:00,  7.74it/s, train_loss=-11.7]\n"
          ]
        },
        {
          "output_type": "stream",
          "name": "stdout",
          "text": [
            "Delta lang loss = 0.2, Delta separate loss = 0.8\n"
          ]
        },
        {
          "output_type": "stream",
          "name": "stderr",
          "text": [
            "100%|██████████| 500/500 [00:21<00:00, 23.25it/s]"
          ]
        },
        {
          "output_type": "stream",
          "name": "stdout",
          "text": [
            "speechbrain.utils.train_logger - epoch: 109, lr: 1.00e-05 - train final_loss: -1.17e+01 - valid final_loss: -9.42e+00, valid Accuracy soft: 0.36099982261657715, valid Accuracy Partial: 0.7269999980926514\n"
          ]
        },
        {
          "output_type": "stream",
          "name": "stderr",
          "text": [
            "\n"
          ]
        },
        {
          "output_type": "stream",
          "name": "stdout",
          "text": [
            "speechbrain.utils.checkpoints - Saved an end-of-epoch checkpoint in results/convtasnet/1234/save/CKPT+2025-07-19+22-32-29+00\n",
            "speechbrain.utils.checkpoints - Deleted checkpoint in results/convtasnet/1234/save/CKPT+2025-07-19+22-29-25+00\n",
            "speechbrain.utils.epoch_loop - Going into epoch 110\n",
            "Delta lang loss = 0.2, Delta separate loss = 0.8\n"
          ]
        },
        {
          "output_type": "stream",
          "name": "stderr",
          "text": [
            " 97%|█████████▋| 1210/1250 [02:36<00:04,  8.31it/s, train_loss=-11.7]"
          ]
        },
        {
          "output_type": "stream",
          "name": "stdout",
          "text": [
            "__main__ - infinite loss or empty loss! it happened 1 times so far - skipping this batch\n"
          ]
        },
        {
          "output_type": "stream",
          "name": "stderr",
          "text": [
            "100%|██████████| 1250/1250 [02:41<00:00,  7.74it/s, train_loss=-11.7]\n"
          ]
        },
        {
          "output_type": "stream",
          "name": "stdout",
          "text": [
            "Delta lang loss = 0.2, Delta separate loss = 0.8\n"
          ]
        },
        {
          "output_type": "stream",
          "name": "stderr",
          "text": [
            "100%|██████████| 500/500 [00:21<00:00, 23.31it/s]"
          ]
        },
        {
          "output_type": "stream",
          "name": "stdout",
          "text": [
            "speechbrain.utils.train_logger - epoch: 110, lr: 1.00e-05 - train final_loss: -1.17e+01 - valid final_loss: -9.29e+00, valid Accuracy soft: 0.3535993993282318, valid Accuracy Partial: 0.7149999737739563\n"
          ]
        },
        {
          "output_type": "stream",
          "name": "stderr",
          "text": [
            "\n"
          ]
        },
        {
          "output_type": "stream",
          "name": "stdout",
          "text": [
            "speechbrain.utils.checkpoints - Saved an end-of-epoch checkpoint in results/convtasnet/1234/save/CKPT+2025-07-19+22-35-33+00\n",
            "speechbrain.utils.checkpoints - Deleted checkpoint in results/convtasnet/1234/save/CKPT+2025-07-19+22-32-29+00\n",
            "speechbrain.utils.epoch_loop - Going into epoch 111\n",
            "Delta lang loss = 0.2, Delta separate loss = 0.8\n"
          ]
        },
        {
          "output_type": "stream",
          "name": "stderr",
          "text": [
            " 97%|█████████▋| 1210/1250 [02:36<00:04,  8.65it/s, train_loss=-11.7]"
          ]
        },
        {
          "output_type": "stream",
          "name": "stdout",
          "text": [
            "__main__ - infinite loss or empty loss! it happened 1 times so far - skipping this batch\n"
          ]
        },
        {
          "output_type": "stream",
          "name": "stderr",
          "text": [
            "100%|██████████| 1250/1250 [02:41<00:00,  7.75it/s, train_loss=-11.7]\n"
          ]
        },
        {
          "output_type": "stream",
          "name": "stdout",
          "text": [
            "Delta lang loss = 0.2, Delta separate loss = 0.8\n"
          ]
        },
        {
          "output_type": "stream",
          "name": "stderr",
          "text": [
            "100%|██████████| 500/500 [00:21<00:00, 23.29it/s]"
          ]
        },
        {
          "output_type": "stream",
          "name": "stdout",
          "text": [
            "speechbrain.utils.train_logger - epoch: 111, lr: 1.00e-05 - train final_loss: -1.17e+01 - valid final_loss: -9.41e+00, valid Accuracy soft: 0.3589951694011688, valid Accuracy Partial: 0.7210000157356262\n"
          ]
        },
        {
          "output_type": "stream",
          "name": "stderr",
          "text": [
            "\n"
          ]
        },
        {
          "output_type": "stream",
          "name": "stdout",
          "text": [
            "speechbrain.utils.checkpoints - Saved an end-of-epoch checkpoint in results/convtasnet/1234/save/CKPT+2025-07-19+22-38-37+00\n",
            "speechbrain.utils.checkpoints - Deleted checkpoint in results/convtasnet/1234/save/CKPT+2025-07-19+22-35-33+00\n",
            "speechbrain.utils.epoch_loop - Going into epoch 112\n",
            "Delta lang loss = 0.2, Delta separate loss = 0.8\n"
          ]
        },
        {
          "output_type": "stream",
          "name": "stderr",
          "text": [
            " 97%|█████████▋| 1210/1250 [02:34<00:04,  8.59it/s, train_loss=-11.7]"
          ]
        },
        {
          "output_type": "stream",
          "name": "stdout",
          "text": [
            "__main__ - infinite loss or empty loss! it happened 1 times so far - skipping this batch\n"
          ]
        },
        {
          "output_type": "stream",
          "name": "stderr",
          "text": [
            "100%|██████████| 1250/1250 [02:40<00:00,  7.81it/s, train_loss=-11.7]\n"
          ]
        },
        {
          "output_type": "stream",
          "name": "stdout",
          "text": [
            "Delta lang loss = 0.2, Delta separate loss = 0.8\n"
          ]
        },
        {
          "output_type": "stream",
          "name": "stderr",
          "text": [
            "100%|██████████| 500/500 [00:21<00:00, 23.41it/s]"
          ]
        },
        {
          "output_type": "stream",
          "name": "stdout",
          "text": [
            "speechbrain.utils.train_logger - epoch: 112, lr: 1.00e-05 - train final_loss: -1.17e+01 - valid final_loss: -8.86e+00, valid Accuracy soft: 0.3390636742115021, valid Accuracy Partial: 0.6859999895095825\n"
          ]
        },
        {
          "output_type": "stream",
          "name": "stderr",
          "text": [
            "\n"
          ]
        },
        {
          "output_type": "stream",
          "name": "stdout",
          "text": [
            "speechbrain.utils.checkpoints - Saved an end-of-epoch checkpoint in results/convtasnet/1234/save/CKPT+2025-07-19+22-41-39+00\n",
            "speechbrain.utils.checkpoints - Deleted checkpoint in results/convtasnet/1234/save/CKPT+2025-07-19+22-38-37+00\n",
            "speechbrain.utils.epoch_loop - Going into epoch 113\n",
            "Delta lang loss = 0.2, Delta separate loss = 0.8\n"
          ]
        },
        {
          "output_type": "stream",
          "name": "stderr",
          "text": [
            " 97%|█████████▋| 1210/1250 [02:35<00:04,  8.67it/s, train_loss=-11.8]"
          ]
        },
        {
          "output_type": "stream",
          "name": "stdout",
          "text": [
            "__main__ - infinite loss or empty loss! it happened 1 times so far - skipping this batch\n"
          ]
        },
        {
          "output_type": "stream",
          "name": "stderr",
          "text": [
            "100%|██████████| 1250/1250 [02:40<00:00,  7.78it/s, train_loss=-11.8]\n"
          ]
        },
        {
          "output_type": "stream",
          "name": "stdout",
          "text": [
            "Delta lang loss = 0.2, Delta separate loss = 0.8\n"
          ]
        },
        {
          "output_type": "stream",
          "name": "stderr",
          "text": [
            "100%|██████████| 500/500 [00:21<00:00, 23.44it/s]"
          ]
        },
        {
          "output_type": "stream",
          "name": "stdout",
          "text": [
            "speechbrain.utils.train_logger - epoch: 113, lr: 1.00e-05 - train final_loss: -1.18e+01 - valid final_loss: -9.32e+00, valid Accuracy soft: 0.35405439138412476, valid Accuracy Partial: 0.7080000042915344\n"
          ]
        },
        {
          "output_type": "stream",
          "name": "stderr",
          "text": [
            "\n"
          ]
        },
        {
          "output_type": "stream",
          "name": "stdout",
          "text": [
            "speechbrain.utils.checkpoints - Saved an end-of-epoch checkpoint in results/convtasnet/1234/save/CKPT+2025-07-19+22-44-42+00\n",
            "speechbrain.utils.checkpoints - Deleted checkpoint in results/convtasnet/1234/save/CKPT+2025-07-19+22-41-39+00\n",
            "speechbrain.utils.epoch_loop - Going into epoch 114\n",
            "Delta lang loss = 0.2, Delta separate loss = 0.8\n"
          ]
        },
        {
          "output_type": "stream",
          "name": "stderr",
          "text": [
            " 97%|█████████▋| 1210/1250 [02:35<00:04,  8.49it/s, train_loss=-11.8]"
          ]
        },
        {
          "output_type": "stream",
          "name": "stdout",
          "text": [
            "__main__ - infinite loss or empty loss! it happened 1 times so far - skipping this batch\n"
          ]
        },
        {
          "output_type": "stream",
          "name": "stderr",
          "text": [
            "100%|██████████| 1250/1250 [02:40<00:00,  7.77it/s, train_loss=-11.8]\n"
          ]
        },
        {
          "output_type": "stream",
          "name": "stdout",
          "text": [
            "Delta lang loss = 0.2, Delta separate loss = 0.8\n"
          ]
        },
        {
          "output_type": "stream",
          "name": "stderr",
          "text": [
            "100%|██████████| 500/500 [00:21<00:00, 23.41it/s]"
          ]
        },
        {
          "output_type": "stream",
          "name": "stdout",
          "text": [
            "speechbrain.utils.train_logger - epoch: 114, lr: 1.00e-05 - train final_loss: -1.18e+01 - valid final_loss: -9.38e+00, valid Accuracy soft: 0.3579241931438446, valid Accuracy Partial: 0.7120000123977661\n"
          ]
        },
        {
          "output_type": "stream",
          "name": "stderr",
          "text": [
            "\n"
          ]
        },
        {
          "output_type": "stream",
          "name": "stdout",
          "text": [
            "speechbrain.utils.checkpoints - Saved an end-of-epoch checkpoint in results/convtasnet/1234/save/CKPT+2025-07-19+22-47-46+00\n",
            "speechbrain.utils.checkpoints - Deleted checkpoint in results/convtasnet/1234/save/CKPT+2025-07-19+22-44-42+00\n",
            "speechbrain.utils.epoch_loop - Going into epoch 115\n",
            "Delta lang loss = 0.2, Delta separate loss = 0.8\n"
          ]
        },
        {
          "output_type": "stream",
          "name": "stderr",
          "text": [
            " 97%|█████████▋| 1210/1250 [02:34<00:04,  8.60it/s, train_loss=-11.8]"
          ]
        },
        {
          "output_type": "stream",
          "name": "stdout",
          "text": [
            "__main__ - infinite loss or empty loss! it happened 1 times so far - skipping this batch\n"
          ]
        },
        {
          "output_type": "stream",
          "name": "stderr",
          "text": [
            "100%|██████████| 1250/1250 [02:40<00:00,  7.81it/s, train_loss=-11.8]\n"
          ]
        },
        {
          "output_type": "stream",
          "name": "stdout",
          "text": [
            "Delta lang loss = 0.2, Delta separate loss = 0.8\n"
          ]
        },
        {
          "output_type": "stream",
          "name": "stderr",
          "text": [
            "100%|██████████| 500/500 [00:21<00:00, 23.34it/s]"
          ]
        },
        {
          "output_type": "stream",
          "name": "stdout",
          "text": [
            "speechbrain.utils.train_logger - epoch: 115, lr: 1.00e-05 - train final_loss: -1.18e+01 - valid final_loss: -9.46e+00, valid Accuracy soft: 0.3640786409378052, valid Accuracy Partial: 0.7300000190734863\n"
          ]
        },
        {
          "output_type": "stream",
          "name": "stderr",
          "text": [
            "\n"
          ]
        },
        {
          "output_type": "stream",
          "name": "stdout",
          "text": [
            "speechbrain.utils.checkpoints - Saved an end-of-epoch checkpoint in results/convtasnet/1234/save/CKPT+2025-07-19+22-50-48+00\n",
            "speechbrain.utils.checkpoints - Deleted checkpoint in results/convtasnet/1234/save/CKPT+2025-07-19+22-47-46+00\n",
            "speechbrain.utils.epoch_loop - Going into epoch 116\n",
            "Delta lang loss = 0.2, Delta separate loss = 0.8\n"
          ]
        },
        {
          "output_type": "stream",
          "name": "stderr",
          "text": [
            " 97%|█████████▋| 1210/1250 [02:35<00:04,  8.55it/s, train_loss=-11.8]"
          ]
        },
        {
          "output_type": "stream",
          "name": "stdout",
          "text": [
            "__main__ - infinite loss or empty loss! it happened 1 times so far - skipping this batch\n"
          ]
        },
        {
          "output_type": "stream",
          "name": "stderr",
          "text": [
            "100%|██████████| 1250/1250 [02:40<00:00,  7.79it/s, train_loss=-11.8]\n"
          ]
        },
        {
          "output_type": "stream",
          "name": "stdout",
          "text": [
            "Delta lang loss = 0.2, Delta separate loss = 0.8\n"
          ]
        },
        {
          "output_type": "stream",
          "name": "stderr",
          "text": [
            "100%|██████████| 500/500 [00:21<00:00, 23.31it/s]"
          ]
        },
        {
          "output_type": "stream",
          "name": "stdout",
          "text": [
            "speechbrain.utils.train_logger - epoch: 116, lr: 1.00e-05 - train final_loss: -1.18e+01 - valid final_loss: -9.41e+00, valid Accuracy soft: 0.3606465458869934, valid Accuracy Partial: 0.718999981880188\n"
          ]
        },
        {
          "output_type": "stream",
          "name": "stderr",
          "text": [
            "\n"
          ]
        },
        {
          "output_type": "stream",
          "name": "stdout",
          "text": [
            "speechbrain.utils.checkpoints - Saved an end-of-epoch checkpoint in results/convtasnet/1234/save/CKPT+2025-07-19+22-53-51+00\n",
            "speechbrain.utils.checkpoints - Deleted checkpoint in results/convtasnet/1234/save/CKPT+2025-07-19+22-50-48+00\n",
            "speechbrain.utils.epoch_loop - Going into epoch 117\n",
            "Delta lang loss = 0.2, Delta separate loss = 0.8\n"
          ]
        },
        {
          "output_type": "stream",
          "name": "stderr",
          "text": [
            " 97%|█████████▋| 1210/1250 [02:35<00:04,  8.37it/s, train_loss=-11.8]"
          ]
        },
        {
          "output_type": "stream",
          "name": "stdout",
          "text": [
            "__main__ - infinite loss or empty loss! it happened 1 times so far - skipping this batch\n"
          ]
        },
        {
          "output_type": "stream",
          "name": "stderr",
          "text": [
            "100%|██████████| 1250/1250 [02:40<00:00,  7.79it/s, train_loss=-11.8]\n"
          ]
        },
        {
          "output_type": "stream",
          "name": "stdout",
          "text": [
            "Delta lang loss = 0.2, Delta separate loss = 0.8\n"
          ]
        },
        {
          "output_type": "stream",
          "name": "stderr",
          "text": [
            "100%|██████████| 500/500 [00:21<00:00, 23.44it/s]"
          ]
        },
        {
          "output_type": "stream",
          "name": "stdout",
          "text": [
            "speechbrain.utils.train_logger - epoch: 117, lr: 1.00e-05 - train final_loss: -1.18e+01 - valid final_loss: -9.33e+00, valid Accuracy soft: 0.3551650643348694, valid Accuracy Partial: 0.7080000042915344\n"
          ]
        },
        {
          "output_type": "stream",
          "name": "stderr",
          "text": [
            "\n"
          ]
        },
        {
          "output_type": "stream",
          "name": "stdout",
          "text": [
            "speechbrain.utils.checkpoints - Saved an end-of-epoch checkpoint in results/convtasnet/1234/save/CKPT+2025-07-19+22-56-54+00\n",
            "speechbrain.utils.checkpoints - Deleted checkpoint in results/convtasnet/1234/save/CKPT+2025-07-19+22-53-51+00\n",
            "speechbrain.utils.epoch_loop - Going into epoch 118\n",
            "Delta lang loss = 0.2, Delta separate loss = 0.8\n"
          ]
        },
        {
          "output_type": "stream",
          "name": "stderr",
          "text": [
            " 97%|█████████▋| 1210/1250 [02:35<00:04,  8.53it/s, train_loss=-11.8]"
          ]
        },
        {
          "output_type": "stream",
          "name": "stdout",
          "text": [
            "__main__ - infinite loss or empty loss! it happened 1 times so far - skipping this batch\n"
          ]
        },
        {
          "output_type": "stream",
          "name": "stderr",
          "text": [
            "100%|██████████| 1250/1250 [02:41<00:00,  7.75it/s, train_loss=-11.8]\n"
          ]
        },
        {
          "output_type": "stream",
          "name": "stdout",
          "text": [
            "Delta lang loss = 0.2, Delta separate loss = 0.8\n"
          ]
        },
        {
          "output_type": "stream",
          "name": "stderr",
          "text": [
            "100%|██████████| 500/500 [00:21<00:00, 23.36it/s]"
          ]
        },
        {
          "output_type": "stream",
          "name": "stdout",
          "text": [
            "speechbrain.utils.train_logger - epoch: 118, lr: 1.00e-05 - train final_loss: -1.18e+01 - valid final_loss: -9.33e+00, valid Accuracy soft: 0.35579416155815125, valid Accuracy Partial: 0.7120000123977661\n"
          ]
        },
        {
          "output_type": "stream",
          "name": "stderr",
          "text": [
            "\n"
          ]
        },
        {
          "output_type": "stream",
          "name": "stdout",
          "text": [
            "speechbrain.utils.checkpoints - Saved an end-of-epoch checkpoint in results/convtasnet/1234/save/CKPT+2025-07-19+22-59-57+00\n",
            "speechbrain.utils.checkpoints - Deleted checkpoint in results/convtasnet/1234/save/CKPT+2025-07-19+22-56-54+00\n",
            "speechbrain.utils.epoch_loop - Going into epoch 119\n",
            "Delta lang loss = 0.2, Delta separate loss = 0.8\n"
          ]
        },
        {
          "output_type": "stream",
          "name": "stderr",
          "text": [
            " 97%|█████████▋| 1210/1250 [02:35<00:04,  8.54it/s, train_loss=-11.8]"
          ]
        },
        {
          "output_type": "stream",
          "name": "stdout",
          "text": [
            "__main__ - infinite loss or empty loss! it happened 1 times so far - skipping this batch\n"
          ]
        },
        {
          "output_type": "stream",
          "name": "stderr",
          "text": [
            "100%|██████████| 1250/1250 [02:40<00:00,  7.79it/s, train_loss=-11.8]\n"
          ]
        },
        {
          "output_type": "stream",
          "name": "stdout",
          "text": [
            "Delta lang loss = 0.2, Delta separate loss = 0.8\n"
          ]
        },
        {
          "output_type": "stream",
          "name": "stderr",
          "text": [
            "100%|██████████| 500/500 [00:21<00:00, 23.38it/s]"
          ]
        },
        {
          "output_type": "stream",
          "name": "stdout",
          "text": [
            "speechbrain.utils.train_logger - epoch: 119, lr: 1.00e-05 - train final_loss: -1.18e+01 - valid final_loss: -9.33e+00, valid Accuracy soft: 0.3551182746887207, valid Accuracy Partial: 0.7059999704360962\n"
          ]
        },
        {
          "output_type": "stream",
          "name": "stderr",
          "text": [
            "\n"
          ]
        },
        {
          "output_type": "stream",
          "name": "stdout",
          "text": [
            "speechbrain.utils.checkpoints - Saved an end-of-epoch checkpoint in results/convtasnet/1234/save/CKPT+2025-07-19+23-03-00+00\n",
            "speechbrain.utils.checkpoints - Deleted checkpoint in results/convtasnet/1234/save/CKPT+2025-07-19+22-59-57+00\n",
            "speechbrain.utils.epoch_loop - Going into epoch 120\n",
            "Delta lang loss = 0.2, Delta separate loss = 0.8\n"
          ]
        },
        {
          "output_type": "stream",
          "name": "stderr",
          "text": [
            " 97%|█████████▋| 1210/1250 [02:35<00:04,  8.69it/s, train_loss=-11.8]"
          ]
        },
        {
          "output_type": "stream",
          "name": "stdout",
          "text": [
            "__main__ - infinite loss or empty loss! it happened 1 times so far - skipping this batch\n"
          ]
        },
        {
          "output_type": "stream",
          "name": "stderr",
          "text": [
            "100%|██████████| 1250/1250 [02:40<00:00,  7.77it/s, train_loss=-11.8]\n"
          ]
        },
        {
          "output_type": "stream",
          "name": "stdout",
          "text": [
            "__main__ - Removed file /content/drive/MyDrive/Project/results_100\n",
            "__main__ - Saved file succesfully\n",
            "Delta lang loss = 0.2, Delta separate loss = 0.8\n"
          ]
        },
        {
          "output_type": "stream",
          "name": "stderr",
          "text": [
            "100%|██████████| 500/500 [00:22<00:00, 22.72it/s]\n"
          ]
        },
        {
          "output_type": "stream",
          "name": "stdout",
          "text": [
            "speechbrain.utils.train_logger - epoch: 120, lr: 1.00e-05 - train final_loss: -1.18e+01 - valid final_loss: -9.34e+00, valid Accuracy soft: 0.35513776540756226, valid Accuracy Partial: 0.7080000042915344\n",
            "speechbrain.utils.checkpoints - Saved an end-of-epoch checkpoint in results/convtasnet/1234/save/CKPT+2025-07-19+23-06-05+00\n",
            "speechbrain.utils.checkpoints - Deleted checkpoint in results/convtasnet/1234/save/CKPT+2025-07-19+23-03-00+00\n",
            "speechbrain.utils.epoch_loop - Going into epoch 121\n",
            "Delta lang loss = 0.2, Delta separate loss = 0.8\n"
          ]
        },
        {
          "output_type": "stream",
          "name": "stderr",
          "text": [
            " 97%|█████████▋| 1210/1250 [02:35<00:04,  8.65it/s, train_loss=-11.8]"
          ]
        },
        {
          "output_type": "stream",
          "name": "stdout",
          "text": [
            "__main__ - infinite loss or empty loss! it happened 1 times so far - skipping this batch\n"
          ]
        },
        {
          "output_type": "stream",
          "name": "stderr",
          "text": [
            "100%|██████████| 1250/1250 [02:41<00:00,  7.76it/s, train_loss=-11.8]\n"
          ]
        },
        {
          "output_type": "stream",
          "name": "stdout",
          "text": [
            "Delta lang loss = 0.2, Delta separate loss = 0.8\n"
          ]
        },
        {
          "output_type": "stream",
          "name": "stderr",
          "text": [
            "100%|██████████| 500/500 [00:21<00:00, 23.22it/s]"
          ]
        },
        {
          "output_type": "stream",
          "name": "stdout",
          "text": [
            "speechbrain.utils.train_logger - epoch: 121, lr: 1.00e-05 - train final_loss: -1.18e+01 - valid final_loss: -9.37e+00, valid Accuracy soft: 0.35721465945243835, valid Accuracy Partial: 0.7120000123977661\n"
          ]
        },
        {
          "output_type": "stream",
          "name": "stderr",
          "text": [
            "\n"
          ]
        },
        {
          "output_type": "stream",
          "name": "stdout",
          "text": [
            "speechbrain.utils.checkpoints - Saved an end-of-epoch checkpoint in results/convtasnet/1234/save/CKPT+2025-07-19+23-09-09+00\n",
            "speechbrain.utils.checkpoints - Deleted checkpoint in results/convtasnet/1234/save/CKPT+2025-07-19+23-06-05+00\n",
            "speechbrain.utils.epoch_loop - Going into epoch 122\n",
            "Delta lang loss = 0.2, Delta separate loss = 0.8\n"
          ]
        },
        {
          "output_type": "stream",
          "name": "stderr",
          "text": [
            " 97%|█████████▋| 1210/1250 [02:35<00:04,  8.32it/s, train_loss=-11.8]"
          ]
        },
        {
          "output_type": "stream",
          "name": "stdout",
          "text": [
            "__main__ - infinite loss or empty loss! it happened 1 times so far - skipping this batch\n"
          ]
        },
        {
          "output_type": "stream",
          "name": "stderr",
          "text": [
            "100%|██████████| 1250/1250 [02:40<00:00,  7.78it/s, train_loss=-11.8]\n"
          ]
        },
        {
          "output_type": "stream",
          "name": "stdout",
          "text": [
            "Delta lang loss = 0.2, Delta separate loss = 0.8\n"
          ]
        },
        {
          "output_type": "stream",
          "name": "stderr",
          "text": [
            "100%|██████████| 500/500 [00:21<00:00, 23.22it/s]"
          ]
        },
        {
          "output_type": "stream",
          "name": "stdout",
          "text": [
            "speechbrain.utils.train_logger - epoch: 122, lr: 1.00e-05 - train final_loss: -1.18e+01 - valid final_loss: -9.40e+00, valid Accuracy soft: 0.3602549731731415, valid Accuracy Partial: 0.722000002861023\n"
          ]
        },
        {
          "output_type": "stream",
          "name": "stderr",
          "text": [
            "\n"
          ]
        },
        {
          "output_type": "stream",
          "name": "stdout",
          "text": [
            "speechbrain.utils.checkpoints - Saved an end-of-epoch checkpoint in results/convtasnet/1234/save/CKPT+2025-07-19+23-12-12+00\n",
            "speechbrain.utils.checkpoints - Deleted checkpoint in results/convtasnet/1234/save/CKPT+2025-07-19+23-09-09+00\n",
            "speechbrain.utils.epoch_loop - Going into epoch 123\n",
            "Delta lang loss = 0.2, Delta separate loss = 0.8\n"
          ]
        },
        {
          "output_type": "stream",
          "name": "stderr",
          "text": [
            " 97%|█████████▋| 1210/1250 [02:35<00:04,  8.46it/s, train_loss=-11.8]"
          ]
        },
        {
          "output_type": "stream",
          "name": "stdout",
          "text": [
            "__main__ - infinite loss or empty loss! it happened 1 times so far - skipping this batch\n"
          ]
        },
        {
          "output_type": "stream",
          "name": "stderr",
          "text": [
            "100%|██████████| 1250/1250 [02:40<00:00,  7.77it/s, train_loss=-11.8]\n"
          ]
        },
        {
          "output_type": "stream",
          "name": "stdout",
          "text": [
            "Delta lang loss = 0.2, Delta separate loss = 0.8\n"
          ]
        },
        {
          "output_type": "stream",
          "name": "stderr",
          "text": [
            "100%|██████████| 500/500 [00:21<00:00, 23.22it/s]"
          ]
        },
        {
          "output_type": "stream",
          "name": "stdout",
          "text": [
            "speechbrain.utils.train_logger - epoch: 123, lr: 1.00e-05 - train final_loss: -1.18e+01 - valid final_loss: -9.51e+00, valid Accuracy soft: 0.37128743529319763, valid Accuracy Partial: 0.7459999918937683\n"
          ]
        },
        {
          "output_type": "stream",
          "name": "stderr",
          "text": [
            "\n"
          ]
        },
        {
          "output_type": "stream",
          "name": "stdout",
          "text": [
            "speechbrain.utils.checkpoints - Saved an end-of-epoch checkpoint in results/convtasnet/1234/save/CKPT+2025-07-19+23-15-16+00\n",
            "speechbrain.utils.checkpoints - Deleted checkpoint in results/convtasnet/1234/save/CKPT+2025-07-19+23-12-12+00\n",
            "speechbrain.utils.epoch_loop - Going into epoch 124\n",
            "Delta lang loss = 0.2, Delta separate loss = 0.8\n"
          ]
        },
        {
          "output_type": "stream",
          "name": "stderr",
          "text": [
            " 97%|█████████▋| 1210/1250 [02:35<00:04,  8.14it/s, train_loss=-11.8]"
          ]
        },
        {
          "output_type": "stream",
          "name": "stdout",
          "text": [
            "__main__ - infinite loss or empty loss! it happened 1 times so far - skipping this batch\n"
          ]
        },
        {
          "output_type": "stream",
          "name": "stderr",
          "text": [
            "100%|██████████| 1250/1250 [02:40<00:00,  7.79it/s, train_loss=-11.8]\n"
          ]
        },
        {
          "output_type": "stream",
          "name": "stdout",
          "text": [
            "Delta lang loss = 0.2, Delta separate loss = 0.8\n"
          ]
        },
        {
          "output_type": "stream",
          "name": "stderr",
          "text": [
            "100%|██████████| 500/500 [00:21<00:00, 23.34it/s]"
          ]
        },
        {
          "output_type": "stream",
          "name": "stdout",
          "text": [
            "speechbrain.utils.train_logger - epoch: 124, lr: 1.00e-05 - train final_loss: -1.18e+01 - valid final_loss: -9.47e+00, valid Accuracy soft: 0.3672295808792114, valid Accuracy Partial: 0.7400000095367432\n"
          ]
        },
        {
          "output_type": "stream",
          "name": "stderr",
          "text": [
            "\n"
          ]
        },
        {
          "output_type": "stream",
          "name": "stdout",
          "text": [
            "speechbrain.utils.checkpoints - Saved an end-of-epoch checkpoint in results/convtasnet/1234/save/CKPT+2025-07-19+23-18-19+00\n",
            "speechbrain.utils.checkpoints - Deleted checkpoint in results/convtasnet/1234/save/CKPT+2025-07-19+23-15-16+00\n",
            "speechbrain.utils.epoch_loop - Going into epoch 125\n",
            "Delta lang loss = 0.2, Delta separate loss = 0.8\n"
          ]
        },
        {
          "output_type": "stream",
          "name": "stderr",
          "text": [
            " 97%|█████████▋| 1210/1250 [02:35<00:04,  8.41it/s, train_loss=-11.8]"
          ]
        },
        {
          "output_type": "stream",
          "name": "stdout",
          "text": [
            "__main__ - infinite loss or empty loss! it happened 1 times so far - skipping this batch\n"
          ]
        },
        {
          "output_type": "stream",
          "name": "stderr",
          "text": [
            "100%|██████████| 1250/1250 [02:40<00:00,  7.77it/s, train_loss=-11.8]\n"
          ]
        },
        {
          "output_type": "stream",
          "name": "stdout",
          "text": [
            "Delta lang loss = 0.2, Delta separate loss = 0.8\n"
          ]
        },
        {
          "output_type": "stream",
          "name": "stderr",
          "text": [
            "100%|██████████| 500/500 [00:21<00:00, 23.35it/s]"
          ]
        },
        {
          "output_type": "stream",
          "name": "stdout",
          "text": [
            "speechbrain.utils.train_logger - epoch: 125, lr: 1.00e-05 - train final_loss: -1.18e+01 - valid final_loss: -9.48e+00, valid Accuracy soft: 0.36900046467781067, valid Accuracy Partial: 0.7450000047683716\n"
          ]
        },
        {
          "output_type": "stream",
          "name": "stderr",
          "text": [
            "\n"
          ]
        },
        {
          "output_type": "stream",
          "name": "stdout",
          "text": [
            "speechbrain.utils.checkpoints - Saved an end-of-epoch checkpoint in results/convtasnet/1234/save/CKPT+2025-07-19+23-21-22+00\n",
            "speechbrain.utils.checkpoints - Deleted checkpoint in results/convtasnet/1234/save/CKPT+2025-07-19+23-18-19+00\n",
            "speechbrain.utils.epoch_loop - Going into epoch 126\n",
            "Delta lang loss = 0.2, Delta separate loss = 0.8\n"
          ]
        },
        {
          "output_type": "stream",
          "name": "stderr",
          "text": [
            " 97%|█████████▋| 1210/1250 [02:35<00:04,  8.50it/s, train_loss=-11.8]"
          ]
        },
        {
          "output_type": "stream",
          "name": "stdout",
          "text": [
            "__main__ - infinite loss or empty loss! it happened 1 times so far - skipping this batch\n"
          ]
        },
        {
          "output_type": "stream",
          "name": "stderr",
          "text": [
            "100%|██████████| 1250/1250 [02:40<00:00,  7.79it/s, train_loss=-11.8]\n"
          ]
        },
        {
          "output_type": "stream",
          "name": "stdout",
          "text": [
            "Delta lang loss = 0.2, Delta separate loss = 0.8\n"
          ]
        },
        {
          "output_type": "stream",
          "name": "stderr",
          "text": [
            "100%|██████████| 500/500 [00:21<00:00, 23.25it/s]"
          ]
        },
        {
          "output_type": "stream",
          "name": "stdout",
          "text": [
            "speechbrain.utils.train_logger - epoch: 126, lr: 1.00e-05 - train final_loss: -1.18e+01 - valid final_loss: -9.48e+00, valid Accuracy soft: 0.3683876395225525, valid Accuracy Partial: 0.7409999966621399\n"
          ]
        },
        {
          "output_type": "stream",
          "name": "stderr",
          "text": [
            "\n"
          ]
        },
        {
          "output_type": "stream",
          "name": "stdout",
          "text": [
            "speechbrain.utils.checkpoints - Saved an end-of-epoch checkpoint in results/convtasnet/1234/save/CKPT+2025-07-19+23-24-25+00\n",
            "speechbrain.utils.checkpoints - Deleted checkpoint in results/convtasnet/1234/save/CKPT+2025-07-19+23-21-22+00\n",
            "speechbrain.utils.epoch_loop - Going into epoch 127\n",
            "Delta lang loss = 0.2, Delta separate loss = 0.8\n"
          ]
        },
        {
          "output_type": "stream",
          "name": "stderr",
          "text": [
            " 97%|█████████▋| 1210/1250 [02:35<00:04,  8.49it/s, train_loss=-11.8]"
          ]
        },
        {
          "output_type": "stream",
          "name": "stdout",
          "text": [
            "__main__ - infinite loss or empty loss! it happened 1 times so far - skipping this batch\n"
          ]
        },
        {
          "output_type": "stream",
          "name": "stderr",
          "text": [
            "100%|██████████| 1250/1250 [02:40<00:00,  7.77it/s, train_loss=-11.8]\n"
          ]
        },
        {
          "output_type": "stream",
          "name": "stdout",
          "text": [
            "Delta lang loss = 0.2, Delta separate loss = 0.8\n"
          ]
        },
        {
          "output_type": "stream",
          "name": "stderr",
          "text": [
            "100%|██████████| 500/500 [00:21<00:00, 23.28it/s]"
          ]
        },
        {
          "output_type": "stream",
          "name": "stdout",
          "text": [
            "speechbrain.utils.train_logger - epoch: 127, lr: 1.00e-05 - train final_loss: -1.18e+01 - valid final_loss: -9.48e+00, valid Accuracy soft: 0.3671253025531769, valid Accuracy Partial: 0.7379999756813049\n"
          ]
        },
        {
          "output_type": "stream",
          "name": "stderr",
          "text": [
            "\n"
          ]
        },
        {
          "output_type": "stream",
          "name": "stdout",
          "text": [
            "speechbrain.utils.checkpoints - Saved an end-of-epoch checkpoint in results/convtasnet/1234/save/CKPT+2025-07-19+23-27-28+00\n",
            "speechbrain.utils.checkpoints - Deleted checkpoint in results/convtasnet/1234/save/CKPT+2025-07-19+23-24-25+00\n",
            "speechbrain.utils.epoch_loop - Going into epoch 128\n",
            "Delta lang loss = 0.2, Delta separate loss = 0.8\n"
          ]
        },
        {
          "output_type": "stream",
          "name": "stderr",
          "text": [
            " 97%|█████████▋| 1210/1250 [02:35<00:04,  8.40it/s, train_loss=-11.8]"
          ]
        },
        {
          "output_type": "stream",
          "name": "stdout",
          "text": [
            "__main__ - infinite loss or empty loss! it happened 1 times so far - skipping this batch\n"
          ]
        },
        {
          "output_type": "stream",
          "name": "stderr",
          "text": [
            "100%|██████████| 1250/1250 [02:40<00:00,  7.78it/s, train_loss=-11.8]\n"
          ]
        },
        {
          "output_type": "stream",
          "name": "stdout",
          "text": [
            "Delta lang loss = 0.2, Delta separate loss = 0.8\n"
          ]
        },
        {
          "output_type": "stream",
          "name": "stderr",
          "text": [
            "100%|██████████| 500/500 [00:21<00:00, 23.31it/s]"
          ]
        },
        {
          "output_type": "stream",
          "name": "stdout",
          "text": [
            "speechbrain.utils.train_logger - epoch: 128, lr: 1.00e-05 - train final_loss: -1.18e+01 - valid final_loss: -9.48e+00, valid Accuracy soft: 0.3681497573852539, valid Accuracy Partial: 0.7419999837875366\n"
          ]
        },
        {
          "output_type": "stream",
          "name": "stderr",
          "text": [
            "\n"
          ]
        },
        {
          "output_type": "stream",
          "name": "stdout",
          "text": [
            "speechbrain.utils.checkpoints - Saved an end-of-epoch checkpoint in results/convtasnet/1234/save/CKPT+2025-07-19+23-30-31+00\n",
            "speechbrain.utils.checkpoints - Deleted checkpoint in results/convtasnet/1234/save/CKPT+2025-07-19+23-27-28+00\n",
            "speechbrain.utils.epoch_loop - Going into epoch 129\n",
            "Delta lang loss = 0.2, Delta separate loss = 0.8\n"
          ]
        },
        {
          "output_type": "stream",
          "name": "stderr",
          "text": [
            " 97%|█████████▋| 1210/1250 [02:35<00:04,  8.51it/s, train_loss=-11.8]"
          ]
        },
        {
          "output_type": "stream",
          "name": "stdout",
          "text": [
            "__main__ - infinite loss or empty loss! it happened 1 times so far - skipping this batch\n"
          ]
        },
        {
          "output_type": "stream",
          "name": "stderr",
          "text": [
            "100%|██████████| 1250/1250 [02:40<00:00,  7.77it/s, train_loss=-11.8]\n"
          ]
        },
        {
          "output_type": "stream",
          "name": "stdout",
          "text": [
            "Delta lang loss = 0.2, Delta separate loss = 0.8\n"
          ]
        },
        {
          "output_type": "stream",
          "name": "stderr",
          "text": [
            "100%|██████████| 500/500 [00:21<00:00, 23.41it/s]"
          ]
        },
        {
          "output_type": "stream",
          "name": "stdout",
          "text": [
            "speechbrain.utils.train_logger - epoch: 129, lr: 1.00e-05 - train final_loss: -1.18e+01 - valid final_loss: -9.41e+00, valid Accuracy soft: 0.36218205094337463, valid Accuracy Partial: 0.7250000238418579\n"
          ]
        },
        {
          "output_type": "stream",
          "name": "stderr",
          "text": [
            "\n"
          ]
        },
        {
          "output_type": "stream",
          "name": "stdout",
          "text": [
            "speechbrain.utils.checkpoints - Saved an end-of-epoch checkpoint in results/convtasnet/1234/save/CKPT+2025-07-19+23-33-35+00\n",
            "speechbrain.utils.checkpoints - Deleted checkpoint in results/convtasnet/1234/save/CKPT+2025-07-19+23-30-31+00\n",
            "speechbrain.utils.epoch_loop - Going into epoch 130\n",
            "Delta lang loss = 0.2, Delta separate loss = 0.8\n"
          ]
        },
        {
          "output_type": "stream",
          "name": "stderr",
          "text": [
            " 97%|█████████▋| 1210/1250 [02:35<00:04,  8.57it/s, train_loss=-11.8]"
          ]
        },
        {
          "output_type": "stream",
          "name": "stdout",
          "text": [
            "__main__ - infinite loss or empty loss! it happened 1 times so far - skipping this batch\n"
          ]
        },
        {
          "output_type": "stream",
          "name": "stderr",
          "text": [
            "100%|██████████| 1250/1250 [02:40<00:00,  7.78it/s, train_loss=-11.8]\n"
          ]
        },
        {
          "output_type": "stream",
          "name": "stdout",
          "text": [
            "Delta lang loss = 0.2, Delta separate loss = 0.8\n"
          ]
        },
        {
          "output_type": "stream",
          "name": "stderr",
          "text": [
            "100%|██████████| 500/500 [00:21<00:00, 23.16it/s]"
          ]
        },
        {
          "output_type": "stream",
          "name": "stdout",
          "text": [
            "speechbrain.utils.train_logger - epoch: 130, lr: 1.00e-05 - train final_loss: -1.18e+01 - valid final_loss: -9.44e+00, valid Accuracy soft: 0.3644241690635681, valid Accuracy Partial: 0.7250000238418579\n"
          ]
        },
        {
          "output_type": "stream",
          "name": "stderr",
          "text": [
            "\n"
          ]
        },
        {
          "output_type": "stream",
          "name": "stdout",
          "text": [
            "speechbrain.utils.checkpoints - Saved an end-of-epoch checkpoint in results/convtasnet/1234/save/CKPT+2025-07-19+23-36-38+00\n",
            "speechbrain.utils.checkpoints - Deleted checkpoint in results/convtasnet/1234/save/CKPT+2025-07-19+23-33-35+00\n",
            "speechbrain.utils.epoch_loop - Going into epoch 131\n",
            "Delta lang loss = 0.2, Delta separate loss = 0.8\n"
          ]
        },
        {
          "output_type": "stream",
          "name": "stderr",
          "text": [
            " 97%|█████████▋| 1210/1250 [02:36<00:04,  8.49it/s, train_loss=-11.8]"
          ]
        },
        {
          "output_type": "stream",
          "name": "stdout",
          "text": [
            "__main__ - infinite loss or empty loss! it happened 1 times so far - skipping this batch\n"
          ]
        },
        {
          "output_type": "stream",
          "name": "stderr",
          "text": [
            "100%|██████████| 1250/1250 [02:41<00:00,  7.74it/s, train_loss=-11.8]\n"
          ]
        },
        {
          "output_type": "stream",
          "name": "stdout",
          "text": [
            "Delta lang loss = 0.2, Delta separate loss = 0.8\n"
          ]
        },
        {
          "output_type": "stream",
          "name": "stderr",
          "text": [
            "100%|██████████| 500/500 [00:21<00:00, 23.42it/s]"
          ]
        },
        {
          "output_type": "stream",
          "name": "stdout",
          "text": [
            "speechbrain.utils.train_logger - epoch: 131, lr: 1.00e-05 - train final_loss: -1.18e+01 - valid final_loss: -9.44e+00, valid Accuracy soft: 0.3643789291381836, valid Accuracy Partial: 0.7300000190734863\n"
          ]
        },
        {
          "output_type": "stream",
          "name": "stderr",
          "text": [
            "\n"
          ]
        },
        {
          "output_type": "stream",
          "name": "stdout",
          "text": [
            "speechbrain.utils.checkpoints - Saved an end-of-epoch checkpoint in results/convtasnet/1234/save/CKPT+2025-07-19+23-39-42+00\n",
            "speechbrain.utils.checkpoints - Deleted checkpoint in results/convtasnet/1234/save/CKPT+2025-07-19+23-36-38+00\n",
            "speechbrain.utils.epoch_loop - Going into epoch 132\n",
            "Delta lang loss = 0.2, Delta separate loss = 0.8\n"
          ]
        },
        {
          "output_type": "stream",
          "name": "stderr",
          "text": [
            " 97%|█████████▋| 1210/1250 [02:35<00:04,  8.72it/s, train_loss=-11.9]"
          ]
        },
        {
          "output_type": "stream",
          "name": "stdout",
          "text": [
            "__main__ - infinite loss or empty loss! it happened 1 times so far - skipping this batch\n"
          ]
        },
        {
          "output_type": "stream",
          "name": "stderr",
          "text": [
            "100%|██████████| 1250/1250 [02:40<00:00,  7.77it/s, train_loss=-11.9]\n"
          ]
        },
        {
          "output_type": "stream",
          "name": "stdout",
          "text": [
            "Delta lang loss = 0.2, Delta separate loss = 0.8\n"
          ]
        },
        {
          "output_type": "stream",
          "name": "stderr",
          "text": [
            "100%|██████████| 500/500 [00:21<00:00, 23.25it/s]"
          ]
        },
        {
          "output_type": "stream",
          "name": "stdout",
          "text": [
            "speechbrain.utils.train_logger - epoch: 132, lr: 1.00e-05 - train final_loss: -1.19e+01 - valid final_loss: -9.44e+00, valid Accuracy soft: 0.3645349442958832, valid Accuracy Partial: 0.7360000014305115\n"
          ]
        },
        {
          "output_type": "stream",
          "name": "stderr",
          "text": [
            "\n"
          ]
        },
        {
          "output_type": "stream",
          "name": "stdout",
          "text": [
            "speechbrain.utils.checkpoints - Saved an end-of-epoch checkpoint in results/convtasnet/1234/save/CKPT+2025-07-19+23-42-45+00\n",
            "speechbrain.utils.checkpoints - Deleted checkpoint in results/convtasnet/1234/save/CKPT+2025-07-19+23-39-42+00\n",
            "speechbrain.utils.epoch_loop - Going into epoch 133\n",
            "Delta lang loss = 0.2, Delta separate loss = 0.8\n"
          ]
        },
        {
          "output_type": "stream",
          "name": "stderr",
          "text": [
            " 97%|█████████▋| 1210/1250 [02:35<00:04,  8.69it/s, train_loss=-11.9]"
          ]
        },
        {
          "output_type": "stream",
          "name": "stdout",
          "text": [
            "__main__ - infinite loss or empty loss! it happened 1 times so far - skipping this batch\n"
          ]
        },
        {
          "output_type": "stream",
          "name": "stderr",
          "text": [
            "100%|██████████| 1250/1250 [02:40<00:00,  7.77it/s, train_loss=-11.9]\n"
          ]
        },
        {
          "output_type": "stream",
          "name": "stdout",
          "text": [
            "Delta lang loss = 0.2, Delta separate loss = 0.8\n"
          ]
        },
        {
          "output_type": "stream",
          "name": "stderr",
          "text": [
            "100%|██████████| 500/500 [00:21<00:00, 23.31it/s]"
          ]
        },
        {
          "output_type": "stream",
          "name": "stdout",
          "text": [
            "speechbrain.nnet.schedulers - Changing lr from 1e-05 to 5e-06\n",
            "speechbrain.utils.train_logger - epoch: 133, lr: 1.00e-05 - train final_loss: -1.19e+01 - valid final_loss: -9.40e+00, valid Accuracy soft: 0.36139875650405884, valid Accuracy Partial: 0.734000027179718\n"
          ]
        },
        {
          "output_type": "stream",
          "name": "stderr",
          "text": [
            "\n"
          ]
        },
        {
          "output_type": "stream",
          "name": "stdout",
          "text": [
            "speechbrain.utils.checkpoints - Saved an end-of-epoch checkpoint in results/convtasnet/1234/save/CKPT+2025-07-19+23-45-49+00\n",
            "speechbrain.utils.checkpoints - Deleted checkpoint in results/convtasnet/1234/save/CKPT+2025-07-19+23-42-45+00\n",
            "speechbrain.utils.epoch_loop - Going into epoch 134\n",
            "Delta lang loss = 0.2, Delta separate loss = 0.8\n"
          ]
        },
        {
          "output_type": "stream",
          "name": "stderr",
          "text": [
            " 97%|█████████▋| 1210/1250 [02:35<00:04,  8.55it/s, train_loss=-11.9]"
          ]
        },
        {
          "output_type": "stream",
          "name": "stdout",
          "text": [
            "__main__ - infinite loss or empty loss! it happened 1 times so far - skipping this batch\n"
          ]
        },
        {
          "output_type": "stream",
          "name": "stderr",
          "text": [
            "100%|██████████| 1250/1250 [02:40<00:00,  7.79it/s, train_loss=-11.9]\n"
          ]
        },
        {
          "output_type": "stream",
          "name": "stdout",
          "text": [
            "Delta lang loss = 0.2, Delta separate loss = 0.8\n"
          ]
        },
        {
          "output_type": "stream",
          "name": "stderr",
          "text": [
            "100%|██████████| 500/500 [00:21<00:00, 23.31it/s]"
          ]
        },
        {
          "output_type": "stream",
          "name": "stdout",
          "text": [
            "speechbrain.utils.train_logger - epoch: 134, lr: 5.00e-06 - train final_loss: -1.19e+01 - valid final_loss: -9.41e+00, valid Accuracy soft: 0.3624926805496216, valid Accuracy Partial: 0.7310000061988831\n"
          ]
        },
        {
          "output_type": "stream",
          "name": "stderr",
          "text": [
            "\n"
          ]
        },
        {
          "output_type": "stream",
          "name": "stdout",
          "text": [
            "speechbrain.utils.checkpoints - Saved an end-of-epoch checkpoint in results/convtasnet/1234/save/CKPT+2025-07-19+23-48-52+00\n",
            "speechbrain.utils.checkpoints - Deleted checkpoint in results/convtasnet/1234/save/CKPT+2025-07-19+23-45-49+00\n",
            "speechbrain.utils.epoch_loop - Going into epoch 135\n",
            "Delta lang loss = 0.2, Delta separate loss = 0.8\n"
          ]
        },
        {
          "output_type": "stream",
          "name": "stderr",
          "text": [
            " 97%|█████████▋| 1210/1250 [02:35<00:04,  8.54it/s, train_loss=-11.9]"
          ]
        },
        {
          "output_type": "stream",
          "name": "stdout",
          "text": [
            "__main__ - infinite loss or empty loss! it happened 1 times so far - skipping this batch\n"
          ]
        },
        {
          "output_type": "stream",
          "name": "stderr",
          "text": [
            "100%|██████████| 1250/1250 [02:40<00:00,  7.79it/s, train_loss=-11.9]\n"
          ]
        },
        {
          "output_type": "stream",
          "name": "stdout",
          "text": [
            "Delta lang loss = 0.2, Delta separate loss = 0.8\n"
          ]
        },
        {
          "output_type": "stream",
          "name": "stderr",
          "text": [
            "100%|██████████| 500/500 [00:21<00:00, 23.25it/s]"
          ]
        },
        {
          "output_type": "stream",
          "name": "stdout",
          "text": [
            "speechbrain.utils.train_logger - epoch: 135, lr: 5.00e-06 - train final_loss: -1.19e+01 - valid final_loss: -9.42e+00, valid Accuracy soft: 0.3627746105194092, valid Accuracy Partial: 0.7319999933242798\n"
          ]
        },
        {
          "output_type": "stream",
          "name": "stderr",
          "text": [
            "\n"
          ]
        },
        {
          "output_type": "stream",
          "name": "stdout",
          "text": [
            "speechbrain.utils.checkpoints - Saved an end-of-epoch checkpoint in results/convtasnet/1234/save/CKPT+2025-07-19+23-51-55+00\n",
            "speechbrain.utils.checkpoints - Deleted checkpoint in results/convtasnet/1234/save/CKPT+2025-07-19+23-48-52+00\n",
            "speechbrain.utils.epoch_loop - Going into epoch 136\n",
            "Delta lang loss = 0.2, Delta separate loss = 0.8\n"
          ]
        },
        {
          "output_type": "stream",
          "name": "stderr",
          "text": [
            " 97%|█████████▋| 1210/1250 [02:34<00:04,  8.65it/s, train_loss=-11.9]"
          ]
        },
        {
          "output_type": "stream",
          "name": "stdout",
          "text": [
            "__main__ - infinite loss or empty loss! it happened 1 times so far - skipping this batch\n"
          ]
        },
        {
          "output_type": "stream",
          "name": "stderr",
          "text": [
            "100%|██████████| 1250/1250 [02:40<00:00,  7.81it/s, train_loss=-11.9]\n"
          ]
        },
        {
          "output_type": "stream",
          "name": "stdout",
          "text": [
            "Delta lang loss = 0.2, Delta separate loss = 0.8\n"
          ]
        },
        {
          "output_type": "stream",
          "name": "stderr",
          "text": [
            "100%|██████████| 500/500 [00:21<00:00, 23.39it/s]"
          ]
        },
        {
          "output_type": "stream",
          "name": "stdout",
          "text": [
            "speechbrain.utils.train_logger - epoch: 136, lr: 5.00e-06 - train final_loss: -1.19e+01 - valid final_loss: -9.46e+00, valid Accuracy soft: 0.36624956130981445, valid Accuracy Partial: 0.7409999966621399\n"
          ]
        },
        {
          "output_type": "stream",
          "name": "stderr",
          "text": [
            "\n"
          ]
        },
        {
          "output_type": "stream",
          "name": "stdout",
          "text": [
            "speechbrain.utils.checkpoints - Saved an end-of-epoch checkpoint in results/convtasnet/1234/save/CKPT+2025-07-19+23-54-57+00\n",
            "speechbrain.utils.checkpoints - Deleted checkpoint in results/convtasnet/1234/save/CKPT+2025-07-19+23-51-55+00\n",
            "speechbrain.utils.epoch_loop - Going into epoch 137\n",
            "Delta lang loss = 0.2, Delta separate loss = 0.8\n"
          ]
        },
        {
          "output_type": "stream",
          "name": "stderr",
          "text": [
            " 97%|█████████▋| 1210/1250 [02:35<00:04,  8.55it/s, train_loss=-11.9]"
          ]
        },
        {
          "output_type": "stream",
          "name": "stdout",
          "text": [
            "__main__ - infinite loss or empty loss! it happened 1 times so far - skipping this batch\n"
          ]
        },
        {
          "output_type": "stream",
          "name": "stderr",
          "text": [
            "100%|██████████| 1250/1250 [02:40<00:00,  7.77it/s, train_loss=-11.9]\n"
          ]
        },
        {
          "output_type": "stream",
          "name": "stdout",
          "text": [
            "Delta lang loss = 0.2, Delta separate loss = 0.8\n"
          ]
        },
        {
          "output_type": "stream",
          "name": "stderr",
          "text": [
            "100%|██████████| 500/500 [00:21<00:00, 22.92it/s]"
          ]
        },
        {
          "output_type": "stream",
          "name": "stdout",
          "text": [
            "speechbrain.utils.train_logger - epoch: 137, lr: 5.00e-06 - train final_loss: -1.19e+01 - valid final_loss: -9.43e+00, valid Accuracy soft: 0.3635716736316681, valid Accuracy Partial: 0.7300000190734863\n"
          ]
        },
        {
          "output_type": "stream",
          "name": "stderr",
          "text": [
            "\n"
          ]
        },
        {
          "output_type": "stream",
          "name": "stdout",
          "text": [
            "speechbrain.utils.checkpoints - Saved an end-of-epoch checkpoint in results/convtasnet/1234/save/CKPT+2025-07-19+23-58-01+00\n",
            "speechbrain.utils.checkpoints - Deleted checkpoint in results/convtasnet/1234/save/CKPT+2025-07-19+23-54-57+00\n",
            "speechbrain.utils.epoch_loop - Going into epoch 138\n",
            "Delta lang loss = 0.2, Delta separate loss = 0.8\n"
          ]
        },
        {
          "output_type": "stream",
          "name": "stderr",
          "text": [
            " 97%|█████████▋| 1210/1250 [02:36<00:04,  8.68it/s, train_loss=-11.9]"
          ]
        },
        {
          "output_type": "stream",
          "name": "stdout",
          "text": [
            "__main__ - infinite loss or empty loss! it happened 1 times so far - skipping this batch\n"
          ]
        },
        {
          "output_type": "stream",
          "name": "stderr",
          "text": [
            "100%|██████████| 1250/1250 [02:42<00:00,  7.72it/s, train_loss=-11.9]\n"
          ]
        },
        {
          "output_type": "stream",
          "name": "stdout",
          "text": [
            "Delta lang loss = 0.2, Delta separate loss = 0.8\n"
          ]
        },
        {
          "output_type": "stream",
          "name": "stderr",
          "text": [
            "100%|██████████| 500/500 [00:21<00:00, 23.27it/s]"
          ]
        },
        {
          "output_type": "stream",
          "name": "stdout",
          "text": [
            "speechbrain.utils.train_logger - epoch: 138, lr: 5.00e-06 - train final_loss: -1.19e+01 - valid final_loss: -9.44e+00, valid Accuracy soft: 0.36371928453445435, valid Accuracy Partial: 0.7319999933242798\n"
          ]
        },
        {
          "output_type": "stream",
          "name": "stderr",
          "text": [
            "\n"
          ]
        },
        {
          "output_type": "stream",
          "name": "stdout",
          "text": [
            "speechbrain.utils.checkpoints - Saved an end-of-epoch checkpoint in results/convtasnet/1234/save/CKPT+2025-07-20+00-01-05+00\n",
            "speechbrain.utils.checkpoints - Deleted checkpoint in results/convtasnet/1234/save/CKPT+2025-07-19+23-58-01+00\n",
            "speechbrain.utils.epoch_loop - Going into epoch 139\n",
            "Delta lang loss = 0.2, Delta separate loss = 0.8\n"
          ]
        },
        {
          "output_type": "stream",
          "name": "stderr",
          "text": [
            " 97%|█████████▋| 1210/1250 [02:36<00:04,  8.46it/s, train_loss=-11.9]"
          ]
        },
        {
          "output_type": "stream",
          "name": "stdout",
          "text": [
            "__main__ - infinite loss or empty loss! it happened 1 times so far - skipping this batch\n"
          ]
        },
        {
          "output_type": "stream",
          "name": "stderr",
          "text": [
            "100%|██████████| 1250/1250 [02:41<00:00,  7.75it/s, train_loss=-11.9]\n"
          ]
        },
        {
          "output_type": "stream",
          "name": "stdout",
          "text": [
            "Delta lang loss = 0.2, Delta separate loss = 0.8\n"
          ]
        },
        {
          "output_type": "stream",
          "name": "stderr",
          "text": [
            "100%|██████████| 500/500 [00:21<00:00, 23.36it/s]"
          ]
        },
        {
          "output_type": "stream",
          "name": "stdout",
          "text": [
            "speechbrain.utils.train_logger - epoch: 139, lr: 5.00e-06 - train final_loss: -1.19e+01 - valid final_loss: -9.48e+00, valid Accuracy soft: 0.3684924840927124, valid Accuracy Partial: 0.7450000047683716\n"
          ]
        },
        {
          "output_type": "stream",
          "name": "stderr",
          "text": [
            "\n"
          ]
        },
        {
          "output_type": "stream",
          "name": "stdout",
          "text": [
            "speechbrain.utils.checkpoints - Saved an end-of-epoch checkpoint in results/convtasnet/1234/save/CKPT+2025-07-20+00-04-09+00\n",
            "speechbrain.utils.checkpoints - Deleted checkpoint in results/convtasnet/1234/save/CKPT+2025-07-20+00-01-05+00\n",
            "speechbrain.utils.epoch_loop - Going into epoch 140\n",
            "Delta lang loss = 0.2, Delta separate loss = 0.8\n"
          ]
        },
        {
          "output_type": "stream",
          "name": "stderr",
          "text": [
            " 97%|█████████▋| 1210/1250 [02:35<00:04,  8.50it/s, train_loss=-11.9]"
          ]
        },
        {
          "output_type": "stream",
          "name": "stdout",
          "text": [
            "__main__ - infinite loss or empty loss! it happened 1 times so far - skipping this batch\n"
          ]
        },
        {
          "output_type": "stream",
          "name": "stderr",
          "text": [
            "100%|██████████| 1250/1250 [02:41<00:00,  7.76it/s, train_loss=-11.9]\n"
          ]
        },
        {
          "output_type": "stream",
          "name": "stdout",
          "text": [
            "__main__ - Removed file /content/drive/MyDrive/Project/results_120\n",
            "__main__ - Saved file succesfully\n",
            "Delta lang loss = 0.2, Delta separate loss = 0.8\n"
          ]
        },
        {
          "output_type": "stream",
          "name": "stderr",
          "text": [
            "100%|██████████| 500/500 [00:21<00:00, 23.00it/s]"
          ]
        },
        {
          "output_type": "stream",
          "name": "stdout",
          "text": [
            "speechbrain.utils.train_logger - epoch: 140, lr: 5.00e-06 - train final_loss: -1.19e+01 - valid final_loss: -9.48e+00, valid Accuracy soft: 0.3672528564929962, valid Accuracy Partial: 0.7390000224113464\n"
          ]
        },
        {
          "output_type": "stream",
          "name": "stderr",
          "text": [
            "\n"
          ]
        },
        {
          "output_type": "stream",
          "name": "stdout",
          "text": [
            "speechbrain.utils.checkpoints - Saved an end-of-epoch checkpoint in results/convtasnet/1234/save/CKPT+2025-07-20+00-07-14+00\n",
            "speechbrain.utils.checkpoints - Deleted checkpoint in results/convtasnet/1234/save/CKPT+2025-07-20+00-04-09+00\n",
            "speechbrain.utils.epoch_loop - Going into epoch 141\n",
            "Delta lang loss = 0.2, Delta separate loss = 0.8\n"
          ]
        },
        {
          "output_type": "stream",
          "name": "stderr",
          "text": [
            " 97%|█████████▋| 1210/1250 [02:36<00:04,  8.53it/s, train_loss=-11.9]"
          ]
        },
        {
          "output_type": "stream",
          "name": "stdout",
          "text": [
            "__main__ - infinite loss or empty loss! it happened 1 times so far - skipping this batch\n"
          ]
        },
        {
          "output_type": "stream",
          "name": "stderr",
          "text": [
            "100%|██████████| 1250/1250 [02:41<00:00,  7.74it/s, train_loss=-11.9]\n"
          ]
        },
        {
          "output_type": "stream",
          "name": "stdout",
          "text": [
            "Delta lang loss = 0.2, Delta separate loss = 0.8\n"
          ]
        },
        {
          "output_type": "stream",
          "name": "stderr",
          "text": [
            "100%|██████████| 500/500 [00:21<00:00, 23.34it/s]"
          ]
        },
        {
          "output_type": "stream",
          "name": "stdout",
          "text": [
            "speechbrain.utils.train_logger - epoch: 141, lr: 5.00e-06 - train final_loss: -1.19e+01 - valid final_loss: -9.48e+00, valid Accuracy soft: 0.3676424026489258, valid Accuracy Partial: 0.7429999709129333\n"
          ]
        },
        {
          "output_type": "stream",
          "name": "stderr",
          "text": [
            "\n"
          ]
        },
        {
          "output_type": "stream",
          "name": "stdout",
          "text": [
            "speechbrain.utils.checkpoints - Saved an end-of-epoch checkpoint in results/convtasnet/1234/save/CKPT+2025-07-20+00-10-18+00\n",
            "speechbrain.utils.checkpoints - Deleted checkpoint in results/convtasnet/1234/save/CKPT+2025-07-20+00-07-14+00\n",
            "speechbrain.utils.epoch_loop - Going into epoch 142\n",
            "Delta lang loss = 0.2, Delta separate loss = 0.8\n"
          ]
        },
        {
          "output_type": "stream",
          "name": "stderr",
          "text": [
            " 97%|█████████▋| 1210/1250 [02:35<00:04,  8.55it/s, train_loss=-11.9]"
          ]
        },
        {
          "output_type": "stream",
          "name": "stdout",
          "text": [
            "__main__ - infinite loss or empty loss! it happened 1 times so far - skipping this batch\n"
          ]
        },
        {
          "output_type": "stream",
          "name": "stderr",
          "text": [
            "100%|██████████| 1250/1250 [02:40<00:00,  7.77it/s, train_loss=-11.9]\n"
          ]
        },
        {
          "output_type": "stream",
          "name": "stdout",
          "text": [
            "Delta lang loss = 0.2, Delta separate loss = 0.8\n"
          ]
        },
        {
          "output_type": "stream",
          "name": "stderr",
          "text": [
            "100%|██████████| 500/500 [00:21<00:00, 23.23it/s]"
          ]
        },
        {
          "output_type": "stream",
          "name": "stdout",
          "text": [
            "speechbrain.nnet.schedulers - Changing lr from 5e-06 to 2.5e-06\n",
            "speechbrain.utils.train_logger - epoch: 142, lr: 5.00e-06 - train final_loss: -1.19e+01 - valid final_loss: -9.48e+00, valid Accuracy soft: 0.3679117262363434, valid Accuracy Partial: 0.7440000176429749\n"
          ]
        },
        {
          "output_type": "stream",
          "name": "stderr",
          "text": [
            "\n"
          ]
        },
        {
          "output_type": "stream",
          "name": "stdout",
          "text": [
            "speechbrain.utils.checkpoints - Saved an end-of-epoch checkpoint in results/convtasnet/1234/save/CKPT+2025-07-20+00-13-21+00\n",
            "speechbrain.utils.checkpoints - Deleted checkpoint in results/convtasnet/1234/save/CKPT+2025-07-20+00-10-18+00\n",
            "speechbrain.utils.epoch_loop - Going into epoch 143\n",
            "Delta lang loss = 0.2, Delta separate loss = 0.8\n"
          ]
        },
        {
          "output_type": "stream",
          "name": "stderr",
          "text": [
            " 97%|█████████▋| 1210/1250 [02:36<00:04,  8.57it/s, train_loss=-11.9]"
          ]
        },
        {
          "output_type": "stream",
          "name": "stdout",
          "text": [
            "__main__ - infinite loss or empty loss! it happened 1 times so far - skipping this batch\n"
          ]
        },
        {
          "output_type": "stream",
          "name": "stderr",
          "text": [
            "100%|██████████| 1250/1250 [02:41<00:00,  7.74it/s, train_loss=-11.9]\n"
          ]
        },
        {
          "output_type": "stream",
          "name": "stdout",
          "text": [
            "Delta lang loss = 0.2, Delta separate loss = 0.8\n"
          ]
        },
        {
          "output_type": "stream",
          "name": "stderr",
          "text": [
            "100%|██████████| 500/500 [00:21<00:00, 23.12it/s]"
          ]
        },
        {
          "output_type": "stream",
          "name": "stdout",
          "text": [
            "speechbrain.utils.train_logger - epoch: 143, lr: 2.50e-06 - train final_loss: -1.19e+01 - valid final_loss: -9.48e+00, valid Accuracy soft: 0.3692948520183563, valid Accuracy Partial: 0.7440000176429749\n"
          ]
        },
        {
          "output_type": "stream",
          "name": "stderr",
          "text": [
            "\n"
          ]
        },
        {
          "output_type": "stream",
          "name": "stdout",
          "text": [
            "speechbrain.utils.checkpoints - Saved an end-of-epoch checkpoint in results/convtasnet/1234/save/CKPT+2025-07-20+00-16-26+00\n",
            "speechbrain.utils.checkpoints - Deleted checkpoint in results/convtasnet/1234/save/CKPT+2025-07-20+00-13-21+00\n",
            "speechbrain.utils.epoch_loop - Going into epoch 144\n",
            "Delta lang loss = 0.2, Delta separate loss = 0.8\n"
          ]
        },
        {
          "output_type": "stream",
          "name": "stderr",
          "text": [
            " 97%|█████████▋| 1210/1250 [02:35<00:04,  8.42it/s, train_loss=-11.9]"
          ]
        },
        {
          "output_type": "stream",
          "name": "stdout",
          "text": [
            "__main__ - infinite loss or empty loss! it happened 1 times so far - skipping this batch\n"
          ]
        },
        {
          "output_type": "stream",
          "name": "stderr",
          "text": [
            "100%|██████████| 1250/1250 [02:41<00:00,  7.76it/s, train_loss=-11.9]\n"
          ]
        },
        {
          "output_type": "stream",
          "name": "stdout",
          "text": [
            "Delta lang loss = 0.2, Delta separate loss = 0.8\n"
          ]
        },
        {
          "output_type": "stream",
          "name": "stderr",
          "text": [
            "100%|██████████| 500/500 [00:21<00:00, 23.21it/s]"
          ]
        },
        {
          "output_type": "stream",
          "name": "stdout",
          "text": [
            "speechbrain.utils.train_logger - epoch: 144, lr: 2.50e-06 - train final_loss: -1.19e+01 - valid final_loss: -9.48e+00, valid Accuracy soft: 0.36899426579475403, valid Accuracy Partial: 0.7459999918937683\n"
          ]
        },
        {
          "output_type": "stream",
          "name": "stderr",
          "text": [
            "\n"
          ]
        },
        {
          "output_type": "stream",
          "name": "stdout",
          "text": [
            "speechbrain.utils.checkpoints - Saved an end-of-epoch checkpoint in results/convtasnet/1234/save/CKPT+2025-07-20+00-19-29+00\n",
            "speechbrain.utils.checkpoints - Deleted checkpoint in results/convtasnet/1234/save/CKPT+2025-07-20+00-16-26+00\n",
            "speechbrain.utils.epoch_loop - Going into epoch 145\n",
            "Delta lang loss = 0.2, Delta separate loss = 0.8\n"
          ]
        },
        {
          "output_type": "stream",
          "name": "stderr",
          "text": [
            " 97%|█████████▋| 1210/1250 [02:36<00:04,  8.61it/s, train_loss=-11.9]"
          ]
        },
        {
          "output_type": "stream",
          "name": "stdout",
          "text": [
            "__main__ - infinite loss or empty loss! it happened 1 times so far - skipping this batch\n"
          ]
        },
        {
          "output_type": "stream",
          "name": "stderr",
          "text": [
            "100%|██████████| 1250/1250 [02:41<00:00,  7.73it/s, train_loss=-11.9]\n"
          ]
        },
        {
          "output_type": "stream",
          "name": "stdout",
          "text": [
            "Delta lang loss = 0.2, Delta separate loss = 0.8\n"
          ]
        },
        {
          "output_type": "stream",
          "name": "stderr",
          "text": [
            "100%|██████████| 500/500 [00:21<00:00, 23.24it/s]"
          ]
        },
        {
          "output_type": "stream",
          "name": "stdout",
          "text": [
            "speechbrain.utils.train_logger - epoch: 145, lr: 2.50e-06 - train final_loss: -1.19e+01 - valid final_loss: -9.48e+00, valid Accuracy soft: 0.3695637881755829, valid Accuracy Partial: 0.7440000176429749\n"
          ]
        },
        {
          "output_type": "stream",
          "name": "stderr",
          "text": [
            "\n"
          ]
        },
        {
          "output_type": "stream",
          "name": "stdout",
          "text": [
            "speechbrain.utils.checkpoints - Saved an end-of-epoch checkpoint in results/convtasnet/1234/save/CKPT+2025-07-20+00-22-34+00\n",
            "speechbrain.utils.checkpoints - Deleted checkpoint in results/convtasnet/1234/save/CKPT+2025-07-20+00-19-29+00\n",
            "speechbrain.utils.epoch_loop - Going into epoch 146\n",
            "Delta lang loss = 0.2, Delta separate loss = 0.8\n"
          ]
        },
        {
          "output_type": "stream",
          "name": "stderr",
          "text": [
            " 97%|█████████▋| 1210/1250 [02:35<00:04,  8.45it/s, train_loss=-11.9]"
          ]
        },
        {
          "output_type": "stream",
          "name": "stdout",
          "text": [
            "__main__ - infinite loss or empty loss! it happened 1 times so far - skipping this batch\n"
          ]
        },
        {
          "output_type": "stream",
          "name": "stderr",
          "text": [
            "100%|██████████| 1250/1250 [02:40<00:00,  7.76it/s, train_loss=-11.9]\n"
          ]
        },
        {
          "output_type": "stream",
          "name": "stdout",
          "text": [
            "Delta lang loss = 0.2, Delta separate loss = 0.8\n"
          ]
        },
        {
          "output_type": "stream",
          "name": "stderr",
          "text": [
            "100%|██████████| 500/500 [00:21<00:00, 23.23it/s]"
          ]
        },
        {
          "output_type": "stream",
          "name": "stdout",
          "text": [
            "speechbrain.utils.train_logger - epoch: 146, lr: 2.50e-06 - train final_loss: -1.19e+01 - valid final_loss: -9.49e+00, valid Accuracy soft: 0.3704662621021271, valid Accuracy Partial: 0.7450000047683716\n"
          ]
        },
        {
          "output_type": "stream",
          "name": "stderr",
          "text": [
            "\n"
          ]
        },
        {
          "output_type": "stream",
          "name": "stdout",
          "text": [
            "speechbrain.utils.checkpoints - Saved an end-of-epoch checkpoint in results/convtasnet/1234/save/CKPT+2025-07-20+00-25-37+00\n",
            "speechbrain.utils.checkpoints - Deleted checkpoint in results/convtasnet/1234/save/CKPT+2025-07-20+00-22-34+00\n",
            "speechbrain.utils.epoch_loop - Going into epoch 147\n",
            "Delta lang loss = 0.2, Delta separate loss = 0.8\n"
          ]
        },
        {
          "output_type": "stream",
          "name": "stderr",
          "text": [
            " 97%|█████████▋| 1210/1250 [02:35<00:04,  8.45it/s, train_loss=-11.9]"
          ]
        },
        {
          "output_type": "stream",
          "name": "stdout",
          "text": [
            "__main__ - infinite loss or empty loss! it happened 1 times so far - skipping this batch\n"
          ]
        },
        {
          "output_type": "stream",
          "name": "stderr",
          "text": [
            "100%|██████████| 1250/1250 [02:41<00:00,  7.76it/s, train_loss=-11.9]\n"
          ]
        },
        {
          "output_type": "stream",
          "name": "stdout",
          "text": [
            "Delta lang loss = 0.2, Delta separate loss = 0.8\n"
          ]
        },
        {
          "output_type": "stream",
          "name": "stderr",
          "text": [
            "100%|██████████| 500/500 [00:21<00:00, 23.49it/s]"
          ]
        },
        {
          "output_type": "stream",
          "name": "stdout",
          "text": [
            "speechbrain.utils.train_logger - epoch: 147, lr: 2.50e-06 - train final_loss: -1.19e+01 - valid final_loss: -9.49e+00, valid Accuracy soft: 0.37008050084114075, valid Accuracy Partial: 0.7419999837875366\n"
          ]
        },
        {
          "output_type": "stream",
          "name": "stderr",
          "text": [
            "\n"
          ]
        },
        {
          "output_type": "stream",
          "name": "stdout",
          "text": [
            "speechbrain.utils.checkpoints - Saved an end-of-epoch checkpoint in results/convtasnet/1234/save/CKPT+2025-07-20+00-28-41+00\n",
            "speechbrain.utils.checkpoints - Deleted checkpoint in results/convtasnet/1234/save/CKPT+2025-07-20+00-25-37+00\n",
            "speechbrain.utils.epoch_loop - Going into epoch 148\n",
            "Delta lang loss = 0.2, Delta separate loss = 0.8\n"
          ]
        },
        {
          "output_type": "stream",
          "name": "stderr",
          "text": [
            " 97%|█████████▋| 1210/1250 [02:35<00:04,  8.61it/s, train_loss=-11.9]"
          ]
        },
        {
          "output_type": "stream",
          "name": "stdout",
          "text": [
            "__main__ - infinite loss or empty loss! it happened 1 times so far - skipping this batch\n"
          ]
        },
        {
          "output_type": "stream",
          "name": "stderr",
          "text": [
            "100%|██████████| 1250/1250 [02:40<00:00,  7.77it/s, train_loss=-11.9]\n"
          ]
        },
        {
          "output_type": "stream",
          "name": "stdout",
          "text": [
            "Delta lang loss = 0.2, Delta separate loss = 0.8\n"
          ]
        },
        {
          "output_type": "stream",
          "name": "stderr",
          "text": [
            "100%|██████████| 500/500 [00:21<00:00, 23.29it/s]"
          ]
        },
        {
          "output_type": "stream",
          "name": "stdout",
          "text": [
            "speechbrain.utils.train_logger - epoch: 148, lr: 2.50e-06 - train final_loss: -1.19e+01 - valid final_loss: -9.49e+00, valid Accuracy soft: 0.3710392415523529, valid Accuracy Partial: 0.7459999918937683\n"
          ]
        },
        {
          "output_type": "stream",
          "name": "stderr",
          "text": [
            "\n"
          ]
        },
        {
          "output_type": "stream",
          "name": "stdout",
          "text": [
            "speechbrain.utils.checkpoints - Saved an end-of-epoch checkpoint in results/convtasnet/1234/save/CKPT+2025-07-20+00-31-44+00\n",
            "speechbrain.utils.checkpoints - Deleted checkpoint in results/convtasnet/1234/save/CKPT+2025-07-20+00-28-41+00\n",
            "speechbrain.utils.epoch_loop - Going into epoch 149\n",
            "Delta lang loss = 0.2, Delta separate loss = 0.8\n"
          ]
        },
        {
          "output_type": "stream",
          "name": "stderr",
          "text": [
            " 97%|█████████▋| 1210/1250 [02:36<00:04,  8.54it/s, train_loss=-11.9]"
          ]
        },
        {
          "output_type": "stream",
          "name": "stdout",
          "text": [
            "__main__ - infinite loss or empty loss! it happened 1 times so far - skipping this batch\n"
          ]
        },
        {
          "output_type": "stream",
          "name": "stderr",
          "text": [
            "100%|██████████| 1250/1250 [02:41<00:00,  7.73it/s, train_loss=-11.9]\n"
          ]
        },
        {
          "output_type": "stream",
          "name": "stdout",
          "text": [
            "Delta lang loss = 0.2, Delta separate loss = 0.8\n"
          ]
        },
        {
          "output_type": "stream",
          "name": "stderr",
          "text": [
            "100%|██████████| 500/500 [00:21<00:00, 23.29it/s]"
          ]
        },
        {
          "output_type": "stream",
          "name": "stdout",
          "text": [
            "speechbrain.utils.train_logger - epoch: 149, lr: 2.50e-06 - train final_loss: -1.19e+01 - valid final_loss: -9.49e+00, valid Accuracy soft: 0.37004804611206055, valid Accuracy Partial: 0.7459999918937683\n"
          ]
        },
        {
          "output_type": "stream",
          "name": "stderr",
          "text": [
            "\n"
          ]
        },
        {
          "output_type": "stream",
          "name": "stdout",
          "text": [
            "speechbrain.utils.checkpoints - Saved an end-of-epoch checkpoint in results/convtasnet/1234/save/CKPT+2025-07-20+00-34-48+00\n",
            "speechbrain.utils.checkpoints - Deleted checkpoint in results/convtasnet/1234/save/CKPT+2025-07-20+00-31-44+00\n",
            "speechbrain.utils.epoch_loop - Going into epoch 150\n",
            "Delta lang loss = 0.2, Delta separate loss = 0.8\n"
          ]
        },
        {
          "output_type": "stream",
          "name": "stderr",
          "text": [
            " 97%|█████████▋| 1210/1250 [02:35<00:04,  8.38it/s, train_loss=-11.9]"
          ]
        },
        {
          "output_type": "stream",
          "name": "stdout",
          "text": [
            "__main__ - infinite loss or empty loss! it happened 1 times so far - skipping this batch\n"
          ]
        },
        {
          "output_type": "stream",
          "name": "stderr",
          "text": [
            "100%|██████████| 1250/1250 [02:41<00:00,  7.76it/s, train_loss=-11.9]\n"
          ]
        },
        {
          "output_type": "stream",
          "name": "stdout",
          "text": [
            "Delta lang loss = 0.2, Delta separate loss = 0.8\n"
          ]
        },
        {
          "output_type": "stream",
          "name": "stderr",
          "text": [
            "100%|██████████| 500/500 [00:21<00:00, 23.17it/s]"
          ]
        },
        {
          "output_type": "stream",
          "name": "stdout",
          "text": [
            "speechbrain.utils.train_logger - epoch: 150, lr: 2.50e-06 - train final_loss: -1.19e+01 - valid final_loss: -9.48e+00, valid Accuracy soft: 0.3694770634174347, valid Accuracy Partial: 0.7429999709129333\n"
          ]
        },
        {
          "output_type": "stream",
          "name": "stderr",
          "text": [
            "\n"
          ]
        },
        {
          "output_type": "stream",
          "name": "stdout",
          "text": [
            "speechbrain.utils.checkpoints - Saved an end-of-epoch checkpoint in results/convtasnet/1234/save/CKPT+2025-07-20+00-37-52+00\n",
            "speechbrain.utils.checkpoints - Deleted checkpoint in results/convtasnet/1234/save/CKPT+2025-07-20+00-34-48+00\n",
            "speechbrain.utils.epoch_loop - Going into epoch 151\n",
            "Delta lang loss = 0.2, Delta separate loss = 0.8\n"
          ]
        },
        {
          "output_type": "stream",
          "name": "stderr",
          "text": [
            " 97%|█████████▋| 1210/1250 [02:35<00:04,  8.34it/s, train_loss=-11.9]"
          ]
        },
        {
          "output_type": "stream",
          "name": "stdout",
          "text": [
            "__main__ - infinite loss or empty loss! it happened 1 times so far - skipping this batch\n"
          ]
        },
        {
          "output_type": "stream",
          "name": "stderr",
          "text": [
            "100%|██████████| 1250/1250 [02:41<00:00,  7.76it/s, train_loss=-11.9]\n"
          ]
        },
        {
          "output_type": "stream",
          "name": "stdout",
          "text": [
            "Delta lang loss = 0.2, Delta separate loss = 0.8\n"
          ]
        },
        {
          "output_type": "stream",
          "name": "stderr",
          "text": [
            "100%|██████████| 500/500 [00:21<00:00, 23.32it/s]"
          ]
        },
        {
          "output_type": "stream",
          "name": "stdout",
          "text": [
            "speechbrain.nnet.schedulers - Changing lr from 2.5e-06 to 1.3e-06\n",
            "speechbrain.utils.train_logger - epoch: 151, lr: 2.50e-06 - train final_loss: -1.19e+01 - valid final_loss: -9.49e+00, valid Accuracy soft: 0.3702443540096283, valid Accuracy Partial: 0.7440000176429749\n"
          ]
        },
        {
          "output_type": "stream",
          "name": "stderr",
          "text": [
            "\n"
          ]
        },
        {
          "output_type": "stream",
          "name": "stdout",
          "text": [
            "speechbrain.utils.checkpoints - Saved an end-of-epoch checkpoint in results/convtasnet/1234/save/CKPT+2025-07-20+00-40-56+00\n",
            "speechbrain.utils.checkpoints - Deleted checkpoint in results/convtasnet/1234/save/CKPT+2025-07-20+00-37-52+00\n",
            "speechbrain.utils.epoch_loop - Going into epoch 152\n",
            "Delta lang loss = 0.2, Delta separate loss = 0.8\n"
          ]
        },
        {
          "output_type": "stream",
          "name": "stderr",
          "text": [
            " 97%|█████████▋| 1210/1250 [02:36<00:04,  8.32it/s, train_loss=-11.9]"
          ]
        },
        {
          "output_type": "stream",
          "name": "stdout",
          "text": [
            "__main__ - infinite loss or empty loss! it happened 1 times so far - skipping this batch\n"
          ]
        },
        {
          "output_type": "stream",
          "name": "stderr",
          "text": [
            "100%|██████████| 1250/1250 [02:41<00:00,  7.74it/s, train_loss=-11.9]\n"
          ]
        },
        {
          "output_type": "stream",
          "name": "stdout",
          "text": [
            "Delta lang loss = 0.2, Delta separate loss = 0.8\n"
          ]
        },
        {
          "output_type": "stream",
          "name": "stderr",
          "text": [
            "100%|██████████| 500/500 [00:21<00:00, 23.27it/s]"
          ]
        },
        {
          "output_type": "stream",
          "name": "stdout",
          "text": [
            "speechbrain.utils.train_logger - epoch: 152, lr: 1.25e-06 - train final_loss: -1.19e+01 - valid final_loss: -9.48e+00, valid Accuracy soft: 0.36996203660964966, valid Accuracy Partial: 0.7429999709129333\n"
          ]
        },
        {
          "output_type": "stream",
          "name": "stderr",
          "text": [
            "\n"
          ]
        },
        {
          "output_type": "stream",
          "name": "stdout",
          "text": [
            "speechbrain.utils.checkpoints - Saved an end-of-epoch checkpoint in results/convtasnet/1234/save/CKPT+2025-07-20+00-44-00+00\n",
            "speechbrain.utils.checkpoints - Deleted checkpoint in results/convtasnet/1234/save/CKPT+2025-07-20+00-40-56+00\n",
            "speechbrain.utils.epoch_loop - Going into epoch 153\n",
            "Delta lang loss = 0.2, Delta separate loss = 0.8\n"
          ]
        },
        {
          "output_type": "stream",
          "name": "stderr",
          "text": [
            " 97%|█████████▋| 1210/1250 [02:36<00:04,  8.18it/s, train_loss=-11.9]"
          ]
        },
        {
          "output_type": "stream",
          "name": "stdout",
          "text": [
            "__main__ - infinite loss or empty loss! it happened 1 times so far - skipping this batch\n"
          ]
        },
        {
          "output_type": "stream",
          "name": "stderr",
          "text": [
            "100%|██████████| 1250/1250 [02:41<00:00,  7.73it/s, train_loss=-11.9]\n"
          ]
        },
        {
          "output_type": "stream",
          "name": "stdout",
          "text": [
            "Delta lang loss = 0.2, Delta separate loss = 0.8\n"
          ]
        },
        {
          "output_type": "stream",
          "name": "stderr",
          "text": [
            "100%|██████████| 500/500 [00:21<00:00, 23.05it/s]"
          ]
        },
        {
          "output_type": "stream",
          "name": "stdout",
          "text": [
            "speechbrain.utils.train_logger - epoch: 153, lr: 1.25e-06 - train final_loss: -1.19e+01 - valid final_loss: -9.48e+00, valid Accuracy soft: 0.36977916955947876, valid Accuracy Partial: 0.7419999837875366\n"
          ]
        },
        {
          "output_type": "stream",
          "name": "stderr",
          "text": [
            "\n"
          ]
        },
        {
          "output_type": "stream",
          "name": "stdout",
          "text": [
            "speechbrain.utils.checkpoints - Saved an end-of-epoch checkpoint in results/convtasnet/1234/save/CKPT+2025-07-20+00-47-04+00\n",
            "speechbrain.utils.checkpoints - Deleted checkpoint in results/convtasnet/1234/save/CKPT+2025-07-20+00-44-00+00\n",
            "speechbrain.utils.epoch_loop - Going into epoch 154\n",
            "Delta lang loss = 0.2, Delta separate loss = 0.8\n"
          ]
        },
        {
          "output_type": "stream",
          "name": "stderr",
          "text": [
            " 97%|█████████▋| 1210/1250 [02:36<00:04,  8.46it/s, train_loss=-11.9]"
          ]
        },
        {
          "output_type": "stream",
          "name": "stdout",
          "text": [
            "__main__ - infinite loss or empty loss! it happened 1 times so far - skipping this batch\n"
          ]
        },
        {
          "output_type": "stream",
          "name": "stderr",
          "text": [
            "100%|██████████| 1250/1250 [02:41<00:00,  7.72it/s, train_loss=-11.9]\n"
          ]
        },
        {
          "output_type": "stream",
          "name": "stdout",
          "text": [
            "Delta lang loss = 0.2, Delta separate loss = 0.8\n"
          ]
        },
        {
          "output_type": "stream",
          "name": "stderr",
          "text": [
            "100%|██████████| 500/500 [00:21<00:00, 23.30it/s]"
          ]
        },
        {
          "output_type": "stream",
          "name": "stdout",
          "text": [
            "speechbrain.nnet.schedulers - Changing lr from 1.3e-06 to 6.3e-07\n",
            "speechbrain.utils.train_logger - epoch: 154, lr: 1.25e-06 - train final_loss: -1.19e+01 - valid final_loss: -9.48e+00, valid Accuracy soft: 0.36954265832901, valid Accuracy Partial: 0.7390000224113464\n"
          ]
        },
        {
          "output_type": "stream",
          "name": "stderr",
          "text": [
            "\n"
          ]
        },
        {
          "output_type": "stream",
          "name": "stdout",
          "text": [
            "speechbrain.utils.checkpoints - Saved an end-of-epoch checkpoint in results/convtasnet/1234/save/CKPT+2025-07-20+00-50-09+00\n",
            "speechbrain.utils.checkpoints - Deleted checkpoint in results/convtasnet/1234/save/CKPT+2025-07-20+00-47-04+00\n",
            "speechbrain.utils.epoch_loop - Going into epoch 155\n",
            "Delta lang loss = 0.2, Delta separate loss = 0.8\n"
          ]
        },
        {
          "output_type": "stream",
          "name": "stderr",
          "text": [
            " 97%|█████████▋| 1210/1250 [02:35<00:04,  8.29it/s, train_loss=-11.9]"
          ]
        },
        {
          "output_type": "stream",
          "name": "stdout",
          "text": [
            "__main__ - infinite loss or empty loss! it happened 1 times so far - skipping this batch\n"
          ]
        },
        {
          "output_type": "stream",
          "name": "stderr",
          "text": [
            "100%|██████████| 1250/1250 [02:41<00:00,  7.76it/s, train_loss=-11.9]\n"
          ]
        },
        {
          "output_type": "stream",
          "name": "stdout",
          "text": [
            "Delta lang loss = 0.2, Delta separate loss = 0.8\n"
          ]
        },
        {
          "output_type": "stream",
          "name": "stderr",
          "text": [
            "100%|██████████| 500/500 [00:21<00:00, 23.35it/s]"
          ]
        },
        {
          "output_type": "stream",
          "name": "stdout",
          "text": [
            "speechbrain.utils.train_logger - epoch: 155, lr: 6.25e-07 - train final_loss: -1.19e+01 - valid final_loss: -9.48e+00, valid Accuracy soft: 0.36929741501808167, valid Accuracy Partial: 0.7400000095367432\n"
          ]
        },
        {
          "output_type": "stream",
          "name": "stderr",
          "text": [
            "\n"
          ]
        },
        {
          "output_type": "stream",
          "name": "stdout",
          "text": [
            "speechbrain.utils.checkpoints - Saved an end-of-epoch checkpoint in results/convtasnet/1234/save/CKPT+2025-07-20+00-53-12+00\n",
            "speechbrain.utils.checkpoints - Deleted checkpoint in results/convtasnet/1234/save/CKPT+2025-07-20+00-50-09+00\n",
            "speechbrain.utils.epoch_loop - Going into epoch 156\n",
            "Delta lang loss = 0.2, Delta separate loss = 0.8\n"
          ]
        },
        {
          "output_type": "stream",
          "name": "stderr",
          "text": [
            " 97%|█████████▋| 1210/1250 [02:36<00:04,  8.11it/s, train_loss=-12]"
          ]
        },
        {
          "output_type": "stream",
          "name": "stdout",
          "text": [
            "__main__ - infinite loss or empty loss! it happened 1 times so far - skipping this batch\n"
          ]
        },
        {
          "output_type": "stream",
          "name": "stderr",
          "text": [
            "100%|██████████| 1250/1250 [02:41<00:00,  7.73it/s, train_loss=-12]\n"
          ]
        },
        {
          "output_type": "stream",
          "name": "stdout",
          "text": [
            "Delta lang loss = 0.2, Delta separate loss = 0.8\n"
          ]
        },
        {
          "output_type": "stream",
          "name": "stderr",
          "text": [
            "100%|██████████| 500/500 [00:21<00:00, 23.28it/s]"
          ]
        },
        {
          "output_type": "stream",
          "name": "stdout",
          "text": [
            "speechbrain.utils.train_logger - epoch: 156, lr: 6.25e-07 - train final_loss: -1.20e+01 - valid final_loss: -9.48e+00, valid Accuracy soft: 0.36943602561950684, valid Accuracy Partial: 0.7400000095367432\n"
          ]
        },
        {
          "output_type": "stream",
          "name": "stderr",
          "text": [
            "\n"
          ]
        },
        {
          "output_type": "stream",
          "name": "stdout",
          "text": [
            "speechbrain.utils.checkpoints - Saved an end-of-epoch checkpoint in results/convtasnet/1234/save/CKPT+2025-07-20+00-56-17+00\n",
            "speechbrain.utils.checkpoints - Deleted checkpoint in results/convtasnet/1234/save/CKPT+2025-07-20+00-53-12+00\n",
            "speechbrain.utils.epoch_loop - Going into epoch 157\n",
            "Delta lang loss = 0.2, Delta separate loss = 0.8\n"
          ]
        },
        {
          "output_type": "stream",
          "name": "stderr",
          "text": [
            " 97%|█████████▋| 1210/1250 [02:36<00:04,  8.20it/s, train_loss=-12]"
          ]
        },
        {
          "output_type": "stream",
          "name": "stdout",
          "text": [
            "__main__ - infinite loss or empty loss! it happened 1 times so far - skipping this batch\n"
          ]
        },
        {
          "output_type": "stream",
          "name": "stderr",
          "text": [
            "100%|██████████| 1250/1250 [02:41<00:00,  7.76it/s, train_loss=-12]\n"
          ]
        },
        {
          "output_type": "stream",
          "name": "stdout",
          "text": [
            "Delta lang loss = 0.2, Delta separate loss = 0.8\n"
          ]
        },
        {
          "output_type": "stream",
          "name": "stderr",
          "text": [
            "100%|██████████| 500/500 [00:21<00:00, 23.27it/s]"
          ]
        },
        {
          "output_type": "stream",
          "name": "stdout",
          "text": [
            "speechbrain.nnet.schedulers - Changing lr from 6.3e-07 to 3.1e-07\n",
            "speechbrain.utils.train_logger - epoch: 157, lr: 6.25e-07 - train final_loss: -1.20e+01 - valid final_loss: -9.48e+00, valid Accuracy soft: 0.3694482445716858, valid Accuracy Partial: 0.7390000224113464\n"
          ]
        },
        {
          "output_type": "stream",
          "name": "stderr",
          "text": [
            "\n"
          ]
        },
        {
          "output_type": "stream",
          "name": "stdout",
          "text": [
            "speechbrain.utils.checkpoints - Saved an end-of-epoch checkpoint in results/convtasnet/1234/save/CKPT+2025-07-20+00-59-20+00\n",
            "speechbrain.utils.checkpoints - Deleted checkpoint in results/convtasnet/1234/save/CKPT+2025-07-20+00-56-17+00\n",
            "speechbrain.utils.epoch_loop - Going into epoch 158\n",
            "Delta lang loss = 0.2, Delta separate loss = 0.8\n"
          ]
        },
        {
          "output_type": "stream",
          "name": "stderr",
          "text": [
            " 97%|█████████▋| 1210/1250 [02:35<00:04,  8.37it/s, train_loss=-12]"
          ]
        },
        {
          "output_type": "stream",
          "name": "stdout",
          "text": [
            "__main__ - infinite loss or empty loss! it happened 1 times so far - skipping this batch\n"
          ]
        },
        {
          "output_type": "stream",
          "name": "stderr",
          "text": [
            "100%|██████████| 1250/1250 [02:40<00:00,  7.77it/s, train_loss=-12]\n"
          ]
        },
        {
          "output_type": "stream",
          "name": "stdout",
          "text": [
            "Delta lang loss = 0.2, Delta separate loss = 0.8\n"
          ]
        },
        {
          "output_type": "stream",
          "name": "stderr",
          "text": [
            "100%|██████████| 500/500 [00:21<00:00, 23.36it/s]"
          ]
        },
        {
          "output_type": "stream",
          "name": "stdout",
          "text": [
            "speechbrain.utils.train_logger - epoch: 158, lr: 3.13e-07 - train final_loss: -1.20e+01 - valid final_loss: -9.48e+00, valid Accuracy soft: 0.36921900510787964, valid Accuracy Partial: 0.7390000224113464\n"
          ]
        },
        {
          "output_type": "stream",
          "name": "stderr",
          "text": [
            "\n"
          ]
        },
        {
          "output_type": "stream",
          "name": "stdout",
          "text": [
            "speechbrain.utils.checkpoints - Saved an end-of-epoch checkpoint in results/convtasnet/1234/save/CKPT+2025-07-20+01-02-24+00\n",
            "speechbrain.utils.checkpoints - Deleted checkpoint in results/convtasnet/1234/save/CKPT+2025-07-20+00-59-20+00\n",
            "speechbrain.utils.epoch_loop - Going into epoch 159\n",
            "Delta lang loss = 0.2, Delta separate loss = 0.8\n"
          ]
        },
        {
          "output_type": "stream",
          "name": "stderr",
          "text": [
            " 97%|█████████▋| 1210/1250 [02:36<00:04,  8.37it/s, train_loss=-12]"
          ]
        },
        {
          "output_type": "stream",
          "name": "stdout",
          "text": [
            "__main__ - infinite loss or empty loss! it happened 1 times so far - skipping this batch\n"
          ]
        },
        {
          "output_type": "stream",
          "name": "stderr",
          "text": [
            "100%|██████████| 1250/1250 [02:41<00:00,  7.73it/s, train_loss=-12]\n"
          ]
        },
        {
          "output_type": "stream",
          "name": "stdout",
          "text": [
            "Delta lang loss = 0.2, Delta separate loss = 0.8\n"
          ]
        },
        {
          "output_type": "stream",
          "name": "stderr",
          "text": [
            "100%|██████████| 500/500 [00:21<00:00, 23.37it/s]"
          ]
        },
        {
          "output_type": "stream",
          "name": "stdout",
          "text": [
            "speechbrain.utils.train_logger - epoch: 159, lr: 3.13e-07 - train final_loss: -1.20e+01 - valid final_loss: -9.48e+00, valid Accuracy soft: 0.36917585134506226, valid Accuracy Partial: 0.7390000224113464\n"
          ]
        },
        {
          "output_type": "stream",
          "name": "stderr",
          "text": [
            "\n"
          ]
        },
        {
          "output_type": "stream",
          "name": "stdout",
          "text": [
            "speechbrain.utils.checkpoints - Saved an end-of-epoch checkpoint in results/convtasnet/1234/save/CKPT+2025-07-20+01-05-28+00\n",
            "speechbrain.utils.checkpoints - Deleted checkpoint in results/convtasnet/1234/save/CKPT+2025-07-20+01-02-24+00\n",
            "speechbrain.utils.epoch_loop - Going into epoch 160\n",
            "Delta lang loss = 0.2, Delta separate loss = 0.8\n"
          ]
        },
        {
          "output_type": "stream",
          "name": "stderr",
          "text": [
            " 97%|█████████▋| 1210/1250 [02:35<00:04,  8.29it/s, train_loss=-12]"
          ]
        },
        {
          "output_type": "stream",
          "name": "stdout",
          "text": [
            "__main__ - infinite loss or empty loss! it happened 1 times so far - skipping this batch\n"
          ]
        },
        {
          "output_type": "stream",
          "name": "stderr",
          "text": [
            "100%|██████████| 1250/1250 [02:40<00:00,  7.78it/s, train_loss=-12]\n"
          ]
        },
        {
          "output_type": "stream",
          "name": "stdout",
          "text": [
            "__main__ - Removed file /content/drive/MyDrive/Project/results_140\n",
            "__main__ - Saved file succesfully\n",
            "Delta lang loss = 0.2, Delta separate loss = 0.8\n"
          ]
        },
        {
          "output_type": "stream",
          "name": "stderr",
          "text": [
            "100%|██████████| 500/500 [00:21<00:00, 23.10it/s]"
          ]
        },
        {
          "output_type": "stream",
          "name": "stdout",
          "text": [
            "speechbrain.nnet.schedulers - Changing lr from 3.1e-07 to 1.6e-07\n",
            "speechbrain.utils.train_logger - epoch: 160, lr: 3.13e-07 - train final_loss: -1.20e+01 - valid final_loss: -9.48e+00, valid Accuracy soft: 0.3690265417098999, valid Accuracy Partial: 0.7379999756813049\n"
          ]
        },
        {
          "output_type": "stream",
          "name": "stderr",
          "text": [
            "\n"
          ]
        },
        {
          "output_type": "stream",
          "name": "stdout",
          "text": [
            "speechbrain.utils.checkpoints - Saved an end-of-epoch checkpoint in results/convtasnet/1234/save/CKPT+2025-07-20+01-08-33+00\n",
            "speechbrain.utils.checkpoints - Deleted checkpoint in results/convtasnet/1234/save/CKPT+2025-07-20+01-05-28+00\n",
            "speechbrain.utils.epoch_loop - Going into epoch 161\n",
            "Delta lang loss = 0.2, Delta separate loss = 0.8\n"
          ]
        },
        {
          "output_type": "stream",
          "name": "stderr",
          "text": [
            " 97%|█████████▋| 1210/1250 [02:36<00:04,  8.44it/s, train_loss=-12]"
          ]
        },
        {
          "output_type": "stream",
          "name": "stdout",
          "text": [
            "__main__ - infinite loss or empty loss! it happened 1 times so far - skipping this batch\n"
          ]
        },
        {
          "output_type": "stream",
          "name": "stderr",
          "text": [
            "100%|██████████| 1250/1250 [02:41<00:00,  7.74it/s, train_loss=-12]\n"
          ]
        },
        {
          "output_type": "stream",
          "name": "stdout",
          "text": [
            "Delta lang loss = 0.2, Delta separate loss = 0.8\n"
          ]
        },
        {
          "output_type": "stream",
          "name": "stderr",
          "text": [
            "100%|██████████| 500/500 [00:21<00:00, 23.38it/s]"
          ]
        },
        {
          "output_type": "stream",
          "name": "stdout",
          "text": [
            "speechbrain.utils.train_logger - epoch: 161, lr: 1.56e-07 - train final_loss: -1.20e+01 - valid final_loss: -9.48e+00, valid Accuracy soft: 0.368961900472641, valid Accuracy Partial: 0.7379999756813049\n"
          ]
        },
        {
          "output_type": "stream",
          "name": "stderr",
          "text": [
            "\n"
          ]
        },
        {
          "output_type": "stream",
          "name": "stdout",
          "text": [
            "speechbrain.utils.checkpoints - Saved an end-of-epoch checkpoint in results/convtasnet/1234/save/CKPT+2025-07-20+01-11-37+00\n",
            "speechbrain.utils.checkpoints - Deleted checkpoint in results/convtasnet/1234/save/CKPT+2025-07-20+01-08-33+00\n",
            "speechbrain.utils.epoch_loop - Going into epoch 162\n",
            "Delta lang loss = 0.2, Delta separate loss = 0.8\n"
          ]
        },
        {
          "output_type": "stream",
          "name": "stderr",
          "text": [
            " 97%|█████████▋| 1210/1250 [02:35<00:04,  8.30it/s, train_loss=-12]"
          ]
        },
        {
          "output_type": "stream",
          "name": "stdout",
          "text": [
            "__main__ - infinite loss or empty loss! it happened 1 times so far - skipping this batch\n"
          ]
        },
        {
          "output_type": "stream",
          "name": "stderr",
          "text": [
            "100%|██████████| 1250/1250 [02:40<00:00,  7.77it/s, train_loss=-12]\n"
          ]
        },
        {
          "output_type": "stream",
          "name": "stdout",
          "text": [
            "Delta lang loss = 0.2, Delta separate loss = 0.8\n"
          ]
        },
        {
          "output_type": "stream",
          "name": "stderr",
          "text": [
            "100%|██████████| 500/500 [00:21<00:00, 23.24it/s]"
          ]
        },
        {
          "output_type": "stream",
          "name": "stdout",
          "text": [
            "speechbrain.utils.train_logger - epoch: 162, lr: 1.56e-07 - train final_loss: -1.20e+01 - valid final_loss: -9.48e+00, valid Accuracy soft: 0.3689649701118469, valid Accuracy Partial: 0.7379999756813049\n"
          ]
        },
        {
          "output_type": "stream",
          "name": "stderr",
          "text": [
            "\n"
          ]
        },
        {
          "output_type": "stream",
          "name": "stdout",
          "text": [
            "speechbrain.utils.checkpoints - Saved an end-of-epoch checkpoint in results/convtasnet/1234/save/CKPT+2025-07-20+01-14-40+00\n",
            "speechbrain.utils.checkpoints - Deleted checkpoint in results/convtasnet/1234/save/CKPT+2025-07-20+01-11-37+00\n",
            "speechbrain.utils.epoch_loop - Going into epoch 163\n",
            "Delta lang loss = 0.2, Delta separate loss = 0.8\n"
          ]
        },
        {
          "output_type": "stream",
          "name": "stderr",
          "text": [
            " 97%|█████████▋| 1210/1250 [02:36<00:04,  8.47it/s, train_loss=-12]"
          ]
        },
        {
          "output_type": "stream",
          "name": "stdout",
          "text": [
            "__main__ - infinite loss or empty loss! it happened 1 times so far - skipping this batch\n"
          ]
        },
        {
          "output_type": "stream",
          "name": "stderr",
          "text": [
            "100%|██████████| 1250/1250 [02:41<00:00,  7.73it/s, train_loss=-12]\n"
          ]
        },
        {
          "output_type": "stream",
          "name": "stdout",
          "text": [
            "Delta lang loss = 0.2, Delta separate loss = 0.8\n"
          ]
        },
        {
          "output_type": "stream",
          "name": "stderr",
          "text": [
            "100%|██████████| 500/500 [00:21<00:00, 23.41it/s]"
          ]
        },
        {
          "output_type": "stream",
          "name": "stdout",
          "text": [
            "speechbrain.nnet.schedulers - Changing lr from 1.6e-07 to 7.8e-08\n",
            "speechbrain.utils.train_logger - epoch: 163, lr: 1.56e-07 - train final_loss: -1.20e+01 - valid final_loss: -9.48e+00, valid Accuracy soft: 0.36885297298431396, valid Accuracy Partial: 0.7379999756813049\n"
          ]
        },
        {
          "output_type": "stream",
          "name": "stderr",
          "text": [
            "\n"
          ]
        },
        {
          "output_type": "stream",
          "name": "stdout",
          "text": [
            "speechbrain.utils.checkpoints - Saved an end-of-epoch checkpoint in results/convtasnet/1234/save/CKPT+2025-07-20+01-17-44+00\n",
            "speechbrain.utils.checkpoints - Deleted checkpoint in results/convtasnet/1234/save/CKPT+2025-07-20+01-14-40+00\n",
            "speechbrain.utils.epoch_loop - Going into epoch 164\n",
            "Delta lang loss = 0.2, Delta separate loss = 0.8\n"
          ]
        },
        {
          "output_type": "stream",
          "name": "stderr",
          "text": [
            " 97%|█████████▋| 1210/1250 [02:35<00:04,  8.71it/s, train_loss=-12]"
          ]
        },
        {
          "output_type": "stream",
          "name": "stdout",
          "text": [
            "__main__ - infinite loss or empty loss! it happened 1 times so far - skipping this batch\n"
          ]
        },
        {
          "output_type": "stream",
          "name": "stderr",
          "text": [
            "100%|██████████| 1250/1250 [02:40<00:00,  7.77it/s, train_loss=-12]\n"
          ]
        },
        {
          "output_type": "stream",
          "name": "stdout",
          "text": [
            "Delta lang loss = 0.2, Delta separate loss = 0.8\n"
          ]
        },
        {
          "output_type": "stream",
          "name": "stderr",
          "text": [
            "100%|██████████| 500/500 [00:21<00:00, 23.42it/s]"
          ]
        },
        {
          "output_type": "stream",
          "name": "stdout",
          "text": [
            "speechbrain.utils.train_logger - epoch: 164, lr: 7.81e-08 - train final_loss: -1.20e+01 - valid final_loss: -9.48e+00, valid Accuracy soft: 0.3688316345214844, valid Accuracy Partial: 0.7379999756813049\n"
          ]
        },
        {
          "output_type": "stream",
          "name": "stderr",
          "text": [
            "\n"
          ]
        },
        {
          "output_type": "stream",
          "name": "stdout",
          "text": [
            "speechbrain.utils.checkpoints - Saved an end-of-epoch checkpoint in results/convtasnet/1234/save/CKPT+2025-07-20+01-20-48+00\n",
            "speechbrain.utils.checkpoints - Deleted checkpoint in results/convtasnet/1234/save/CKPT+2025-07-20+01-17-44+00\n",
            "speechbrain.utils.epoch_loop - Going into epoch 165\n",
            "Delta lang loss = 0.2, Delta separate loss = 0.8\n"
          ]
        },
        {
          "output_type": "stream",
          "name": "stderr",
          "text": [
            " 97%|█████████▋| 1210/1250 [02:35<00:04,  8.55it/s, train_loss=-12]"
          ]
        },
        {
          "output_type": "stream",
          "name": "stdout",
          "text": [
            "__main__ - infinite loss or empty loss! it happened 1 times so far - skipping this batch\n"
          ]
        },
        {
          "output_type": "stream",
          "name": "stderr",
          "text": [
            "100%|██████████| 1250/1250 [02:40<00:00,  7.78it/s, train_loss=-12]\n"
          ]
        },
        {
          "output_type": "stream",
          "name": "stdout",
          "text": [
            "Delta lang loss = 0.2, Delta separate loss = 0.8\n"
          ]
        },
        {
          "output_type": "stream",
          "name": "stderr",
          "text": [
            "100%|██████████| 500/500 [00:21<00:00, 23.31it/s]"
          ]
        },
        {
          "output_type": "stream",
          "name": "stdout",
          "text": [
            "speechbrain.utils.train_logger - epoch: 165, lr: 7.81e-08 - train final_loss: -1.20e+01 - valid final_loss: -9.48e+00, valid Accuracy soft: 0.368740439414978, valid Accuracy Partial: 0.7379999756813049\n"
          ]
        },
        {
          "output_type": "stream",
          "name": "stderr",
          "text": [
            "\n"
          ]
        },
        {
          "output_type": "stream",
          "name": "stdout",
          "text": [
            "speechbrain.utils.checkpoints - Saved an end-of-epoch checkpoint in results/convtasnet/1234/save/CKPT+2025-07-20+01-23-51+00\n",
            "speechbrain.utils.checkpoints - Deleted checkpoint in results/convtasnet/1234/save/CKPT+2025-07-20+01-20-48+00\n",
            "speechbrain.utils.epoch_loop - Going into epoch 166\n",
            "Delta lang loss = 0.2, Delta separate loss = 0.8\n"
          ]
        },
        {
          "output_type": "stream",
          "name": "stderr",
          "text": [
            " 97%|█████████▋| 1210/1250 [02:36<00:04,  8.39it/s, train_loss=-12]"
          ]
        },
        {
          "output_type": "stream",
          "name": "stdout",
          "text": [
            "__main__ - infinite loss or empty loss! it happened 1 times so far - skipping this batch\n"
          ]
        },
        {
          "output_type": "stream",
          "name": "stderr",
          "text": [
            "100%|██████████| 1250/1250 [02:41<00:00,  7.73it/s, train_loss=-12]\n"
          ]
        },
        {
          "output_type": "stream",
          "name": "stdout",
          "text": [
            "Delta lang loss = 0.2, Delta separate loss = 0.8\n"
          ]
        },
        {
          "output_type": "stream",
          "name": "stderr",
          "text": [
            "100%|██████████| 500/500 [00:21<00:00, 23.34it/s]"
          ]
        },
        {
          "output_type": "stream",
          "name": "stdout",
          "text": [
            "speechbrain.nnet.schedulers - Changing lr from 7.8e-08 to 3.9e-08\n",
            "speechbrain.utils.train_logger - epoch: 166, lr: 7.81e-08 - train final_loss: -1.20e+01 - valid final_loss: -9.48e+00, valid Accuracy soft: 0.3687954843044281, valid Accuracy Partial: 0.7379999756813049\n"
          ]
        },
        {
          "output_type": "stream",
          "name": "stderr",
          "text": [
            "\n"
          ]
        },
        {
          "output_type": "stream",
          "name": "stdout",
          "text": [
            "speechbrain.utils.checkpoints - Saved an end-of-epoch checkpoint in results/convtasnet/1234/save/CKPT+2025-07-20+01-26-55+00\n",
            "speechbrain.utils.checkpoints - Deleted checkpoint in results/convtasnet/1234/save/CKPT+2025-07-20+01-23-51+00\n",
            "speechbrain.utils.epoch_loop - Going into epoch 167\n",
            "Delta lang loss = 0.2, Delta separate loss = 0.8\n"
          ]
        },
        {
          "output_type": "stream",
          "name": "stderr",
          "text": [
            " 97%|█████████▋| 1210/1250 [02:35<00:04,  8.61it/s, train_loss=-12]"
          ]
        },
        {
          "output_type": "stream",
          "name": "stdout",
          "text": [
            "__main__ - infinite loss or empty loss! it happened 1 times so far - skipping this batch\n"
          ]
        },
        {
          "output_type": "stream",
          "name": "stderr",
          "text": [
            "100%|██████████| 1250/1250 [02:40<00:00,  7.78it/s, train_loss=-12]\n"
          ]
        },
        {
          "output_type": "stream",
          "name": "stdout",
          "text": [
            "Delta lang loss = 0.2, Delta separate loss = 0.8\n"
          ]
        },
        {
          "output_type": "stream",
          "name": "stderr",
          "text": [
            "100%|██████████| 500/500 [00:21<00:00, 23.25it/s]"
          ]
        },
        {
          "output_type": "stream",
          "name": "stdout",
          "text": [
            "speechbrain.utils.train_logger - epoch: 167, lr: 3.91e-08 - train final_loss: -1.20e+01 - valid final_loss: -9.48e+00, valid Accuracy soft: 0.36879387497901917, valid Accuracy Partial: 0.7379999756813049\n"
          ]
        },
        {
          "output_type": "stream",
          "name": "stderr",
          "text": [
            "\n"
          ]
        },
        {
          "output_type": "stream",
          "name": "stdout",
          "text": [
            "speechbrain.utils.checkpoints - Saved an end-of-epoch checkpoint in results/convtasnet/1234/save/CKPT+2025-07-20+01-29-59+00\n",
            "speechbrain.utils.checkpoints - Deleted checkpoint in results/convtasnet/1234/save/CKPT+2025-07-20+01-26-55+00\n",
            "speechbrain.utils.epoch_loop - Going into epoch 168\n",
            "Delta lang loss = 0.2, Delta separate loss = 0.8\n"
          ]
        },
        {
          "output_type": "stream",
          "name": "stderr",
          "text": [
            " 97%|█████████▋| 1210/1250 [02:36<00:04,  8.60it/s, train_loss=-12]"
          ]
        },
        {
          "output_type": "stream",
          "name": "stdout",
          "text": [
            "__main__ - infinite loss or empty loss! it happened 1 times so far - skipping this batch\n"
          ]
        },
        {
          "output_type": "stream",
          "name": "stderr",
          "text": [
            "100%|██████████| 1250/1250 [02:41<00:00,  7.74it/s, train_loss=-12]\n"
          ]
        },
        {
          "output_type": "stream",
          "name": "stdout",
          "text": [
            "Delta lang loss = 0.2, Delta separate loss = 0.8\n"
          ]
        },
        {
          "output_type": "stream",
          "name": "stderr",
          "text": [
            "100%|██████████| 500/500 [00:21<00:00, 23.29it/s]"
          ]
        },
        {
          "output_type": "stream",
          "name": "stdout",
          "text": [
            "speechbrain.utils.train_logger - epoch: 168, lr: 3.91e-08 - train final_loss: -1.20e+01 - valid final_loss: -9.48e+00, valid Accuracy soft: 0.3687993288040161, valid Accuracy Partial: 0.7379999756813049\n"
          ]
        },
        {
          "output_type": "stream",
          "name": "stderr",
          "text": [
            "\n"
          ]
        },
        {
          "output_type": "stream",
          "name": "stdout",
          "text": [
            "speechbrain.utils.checkpoints - Saved an end-of-epoch checkpoint in results/convtasnet/1234/save/CKPT+2025-07-20+01-33-03+00\n",
            "speechbrain.utils.checkpoints - Deleted checkpoint in results/convtasnet/1234/save/CKPT+2025-07-20+01-29-59+00\n",
            "speechbrain.utils.epoch_loop - Going into epoch 169\n",
            "Delta lang loss = 0.2, Delta separate loss = 0.8\n"
          ]
        },
        {
          "output_type": "stream",
          "name": "stderr",
          "text": [
            " 97%|█████████▋| 1210/1250 [02:35<00:04,  8.61it/s, train_loss=-12]"
          ]
        },
        {
          "output_type": "stream",
          "name": "stdout",
          "text": [
            "__main__ - infinite loss or empty loss! it happened 1 times so far - skipping this batch\n"
          ]
        },
        {
          "output_type": "stream",
          "name": "stderr",
          "text": [
            "100%|██████████| 1250/1250 [02:41<00:00,  7.76it/s, train_loss=-12]\n"
          ]
        },
        {
          "output_type": "stream",
          "name": "stdout",
          "text": [
            "Delta lang loss = 0.2, Delta separate loss = 0.8\n"
          ]
        },
        {
          "output_type": "stream",
          "name": "stderr",
          "text": [
            "100%|██████████| 500/500 [00:21<00:00, 23.26it/s]"
          ]
        },
        {
          "output_type": "stream",
          "name": "stdout",
          "text": [
            "speechbrain.nnet.schedulers - Changing lr from 3.9e-08 to 2e-08\n",
            "speechbrain.utils.train_logger - epoch: 169, lr: 3.91e-08 - train final_loss: -1.20e+01 - valid final_loss: -9.48e+00, valid Accuracy soft: 0.36879420280456543, valid Accuracy Partial: 0.7379999756813049\n"
          ]
        },
        {
          "output_type": "stream",
          "name": "stderr",
          "text": [
            "\n"
          ]
        },
        {
          "output_type": "stream",
          "name": "stdout",
          "text": [
            "speechbrain.utils.checkpoints - Saved an end-of-epoch checkpoint in results/convtasnet/1234/save/CKPT+2025-07-20+01-36-07+00\n",
            "speechbrain.utils.checkpoints - Deleted checkpoint in results/convtasnet/1234/save/CKPT+2025-07-20+01-33-03+00\n",
            "speechbrain.utils.epoch_loop - Going into epoch 170\n",
            "Delta lang loss = 0.2, Delta separate loss = 0.8\n"
          ]
        },
        {
          "output_type": "stream",
          "name": "stderr",
          "text": [
            " 97%|█████████▋| 1210/1250 [02:35<00:04,  8.49it/s, train_loss=-12]"
          ]
        },
        {
          "output_type": "stream",
          "name": "stdout",
          "text": [
            "__main__ - infinite loss or empty loss! it happened 1 times so far - skipping this batch\n"
          ]
        },
        {
          "output_type": "stream",
          "name": "stderr",
          "text": [
            "100%|██████████| 1250/1250 [02:40<00:00,  7.78it/s, train_loss=-12]\n"
          ]
        },
        {
          "output_type": "stream",
          "name": "stdout",
          "text": [
            "Delta lang loss = 0.2, Delta separate loss = 0.8\n"
          ]
        },
        {
          "output_type": "stream",
          "name": "stderr",
          "text": [
            "100%|██████████| 500/500 [00:21<00:00, 23.19it/s]"
          ]
        },
        {
          "output_type": "stream",
          "name": "stdout",
          "text": [
            "speechbrain.utils.train_logger - epoch: 170, lr: 1.95e-08 - train final_loss: -1.20e+01 - valid final_loss: -9.48e+00, valid Accuracy soft: 0.3687594532966614, valid Accuracy Partial: 0.7379999756813049\n"
          ]
        },
        {
          "output_type": "stream",
          "name": "stderr",
          "text": [
            "\n"
          ]
        },
        {
          "output_type": "stream",
          "name": "stdout",
          "text": [
            "speechbrain.utils.checkpoints - Saved an end-of-epoch checkpoint in results/convtasnet/1234/save/CKPT+2025-07-20+01-39-10+00\n",
            "speechbrain.utils.checkpoints - Deleted checkpoint in results/convtasnet/1234/save/CKPT+2025-07-20+01-36-07+00\n",
            "speechbrain.utils.epoch_loop - Going into epoch 171\n",
            "Delta lang loss = 0.2, Delta separate loss = 0.8\n"
          ]
        },
        {
          "output_type": "stream",
          "name": "stderr",
          "text": [
            " 97%|█████████▋| 1210/1250 [02:36<00:04,  8.50it/s, train_loss=-12]"
          ]
        },
        {
          "output_type": "stream",
          "name": "stdout",
          "text": [
            "__main__ - infinite loss or empty loss! it happened 1 times so far - skipping this batch\n"
          ]
        },
        {
          "output_type": "stream",
          "name": "stderr",
          "text": [
            "100%|██████████| 1250/1250 [02:41<00:00,  7.74it/s, train_loss=-12]\n"
          ]
        },
        {
          "output_type": "stream",
          "name": "stdout",
          "text": [
            "Delta lang loss = 0.2, Delta separate loss = 0.8\n"
          ]
        },
        {
          "output_type": "stream",
          "name": "stderr",
          "text": [
            "100%|██████████| 500/500 [00:21<00:00, 23.40it/s]"
          ]
        },
        {
          "output_type": "stream",
          "name": "stdout",
          "text": [
            "speechbrain.utils.train_logger - epoch: 171, lr: 1.95e-08 - train final_loss: -1.20e+01 - valid final_loss: -9.48e+00, valid Accuracy soft: 0.3688228130340576, valid Accuracy Partial: 0.7379999756813049\n"
          ]
        },
        {
          "output_type": "stream",
          "name": "stderr",
          "text": [
            "\n"
          ]
        },
        {
          "output_type": "stream",
          "name": "stdout",
          "text": [
            "speechbrain.utils.checkpoints - Saved an end-of-epoch checkpoint in results/convtasnet/1234/save/CKPT+2025-07-20+01-42-14+00\n",
            "speechbrain.utils.checkpoints - Deleted checkpoint in results/convtasnet/1234/save/CKPT+2025-07-20+01-39-10+00\n",
            "speechbrain.utils.epoch_loop - Going into epoch 172\n",
            "Delta lang loss = 0.2, Delta separate loss = 0.8\n"
          ]
        },
        {
          "output_type": "stream",
          "name": "stderr",
          "text": [
            " 97%|█████████▋| 1210/1250 [02:35<00:04,  8.52it/s, train_loss=-12]"
          ]
        },
        {
          "output_type": "stream",
          "name": "stdout",
          "text": [
            "__main__ - infinite loss or empty loss! it happened 1 times so far - skipping this batch\n"
          ]
        },
        {
          "output_type": "stream",
          "name": "stderr",
          "text": [
            "100%|██████████| 1250/1250 [02:40<00:00,  7.78it/s, train_loss=-12]\n"
          ]
        },
        {
          "output_type": "stream",
          "name": "stdout",
          "text": [
            "Delta lang loss = 0.2, Delta separate loss = 0.8\n"
          ]
        },
        {
          "output_type": "stream",
          "name": "stderr",
          "text": [
            "100%|██████████| 500/500 [00:21<00:00, 23.15it/s]"
          ]
        },
        {
          "output_type": "stream",
          "name": "stdout",
          "text": [
            "speechbrain.nnet.schedulers - Changing lr from 2e-08 to 1e-08\n",
            "speechbrain.utils.train_logger - epoch: 172, lr: 1.95e-08 - train final_loss: -1.20e+01 - valid final_loss: -9.48e+00, valid Accuracy soft: 0.3687938451766968, valid Accuracy Partial: 0.7379999756813049\n"
          ]
        },
        {
          "output_type": "stream",
          "name": "stderr",
          "text": [
            "\n"
          ]
        },
        {
          "output_type": "stream",
          "name": "stdout",
          "text": [
            "speechbrain.utils.checkpoints - Saved an end-of-epoch checkpoint in results/convtasnet/1234/save/CKPT+2025-07-20+01-45-17+00\n",
            "speechbrain.utils.checkpoints - Deleted checkpoint in results/convtasnet/1234/save/CKPT+2025-07-20+01-42-14+00\n",
            "speechbrain.utils.epoch_loop - Going into epoch 173\n",
            "Delta lang loss = 0.2, Delta separate loss = 0.8\n"
          ]
        },
        {
          "output_type": "stream",
          "name": "stderr",
          "text": [
            " 97%|█████████▋| 1210/1250 [02:36<00:04,  8.41it/s, train_loss=-12]"
          ]
        },
        {
          "output_type": "stream",
          "name": "stdout",
          "text": [
            "__main__ - infinite loss or empty loss! it happened 1 times so far - skipping this batch\n"
          ]
        },
        {
          "output_type": "stream",
          "name": "stderr",
          "text": [
            "100%|██████████| 1250/1250 [02:41<00:00,  7.75it/s, train_loss=-12]\n"
          ]
        },
        {
          "output_type": "stream",
          "name": "stdout",
          "text": [
            "Delta lang loss = 0.2, Delta separate loss = 0.8\n"
          ]
        },
        {
          "output_type": "stream",
          "name": "stderr",
          "text": [
            "100%|██████████| 500/500 [00:21<00:00, 23.14it/s]"
          ]
        },
        {
          "output_type": "stream",
          "name": "stdout",
          "text": [
            "speechbrain.utils.train_logger - epoch: 173, lr: 1.00e-08 - train final_loss: -1.20e+01 - valid final_loss: -9.48e+00, valid Accuracy soft: 0.3687923550605774, valid Accuracy Partial: 0.7379999756813049\n"
          ]
        },
        {
          "output_type": "stream",
          "name": "stderr",
          "text": [
            "\n"
          ]
        },
        {
          "output_type": "stream",
          "name": "stdout",
          "text": [
            "speechbrain.utils.checkpoints - Saved an end-of-epoch checkpoint in results/convtasnet/1234/save/CKPT+2025-07-20+01-48-21+00\n",
            "speechbrain.utils.checkpoints - Deleted checkpoint in results/convtasnet/1234/save/CKPT+2025-07-20+01-45-17+00\n",
            "speechbrain.utils.epoch_loop - Going into epoch 174\n",
            "Delta lang loss = 0.2, Delta separate loss = 0.8\n"
          ]
        },
        {
          "output_type": "stream",
          "name": "stderr",
          "text": [
            " 97%|█████████▋| 1210/1250 [02:35<00:04,  8.61it/s, train_loss=-12]"
          ]
        },
        {
          "output_type": "stream",
          "name": "stdout",
          "text": [
            "__main__ - infinite loss or empty loss! it happened 1 times so far - skipping this batch\n"
          ]
        },
        {
          "output_type": "stream",
          "name": "stderr",
          "text": [
            "100%|██████████| 1250/1250 [02:40<00:00,  7.77it/s, train_loss=-12]\n"
          ]
        },
        {
          "output_type": "stream",
          "name": "stdout",
          "text": [
            "Delta lang loss = 0.2, Delta separate loss = 0.8\n"
          ]
        },
        {
          "output_type": "stream",
          "name": "stderr",
          "text": [
            "100%|██████████| 500/500 [00:21<00:00, 23.19it/s]"
          ]
        },
        {
          "output_type": "stream",
          "name": "stdout",
          "text": [
            "speechbrain.utils.train_logger - epoch: 174, lr: 1.00e-08 - train final_loss: -1.20e+01 - valid final_loss: -9.48e+00, valid Accuracy soft: 0.36882105469703674, valid Accuracy Partial: 0.7379999756813049\n"
          ]
        },
        {
          "output_type": "stream",
          "name": "stderr",
          "text": [
            "\n"
          ]
        },
        {
          "output_type": "stream",
          "name": "stdout",
          "text": [
            "speechbrain.utils.checkpoints - Saved an end-of-epoch checkpoint in results/convtasnet/1234/save/CKPT+2025-07-20+01-51-25+00\n",
            "speechbrain.utils.checkpoints - Deleted checkpoint in results/convtasnet/1234/save/CKPT+2025-07-20+01-48-21+00\n",
            "speechbrain.utils.epoch_loop - Going into epoch 175\n",
            "Delta lang loss = 0.2, Delta separate loss = 0.8\n"
          ]
        },
        {
          "output_type": "stream",
          "name": "stderr",
          "text": [
            " 97%|█████████▋| 1210/1250 [02:35<00:04,  8.33it/s, train_loss=-12]"
          ]
        },
        {
          "output_type": "stream",
          "name": "stdout",
          "text": [
            "__main__ - infinite loss or empty loss! it happened 1 times so far - skipping this batch\n"
          ]
        },
        {
          "output_type": "stream",
          "name": "stderr",
          "text": [
            "100%|██████████| 1250/1250 [02:40<00:00,  7.77it/s, train_loss=-12]\n"
          ]
        },
        {
          "output_type": "stream",
          "name": "stdout",
          "text": [
            "Delta lang loss = 0.2, Delta separate loss = 0.8\n"
          ]
        },
        {
          "output_type": "stream",
          "name": "stderr",
          "text": [
            "100%|██████████| 500/500 [00:21<00:00, 23.42it/s]"
          ]
        },
        {
          "output_type": "stream",
          "name": "stdout",
          "text": [
            "speechbrain.utils.train_logger - epoch: 175, lr: 1.00e-08 - train final_loss: -1.20e+01 - valid final_loss: -9.48e+00, valid Accuracy soft: 0.36881017684936523, valid Accuracy Partial: 0.7379999756813049\n"
          ]
        },
        {
          "output_type": "stream",
          "name": "stderr",
          "text": [
            "\n"
          ]
        },
        {
          "output_type": "stream",
          "name": "stdout",
          "text": [
            "speechbrain.utils.checkpoints - Saved an end-of-epoch checkpoint in results/convtasnet/1234/save/CKPT+2025-07-20+01-54-28+00\n",
            "speechbrain.utils.checkpoints - Deleted checkpoint in results/convtasnet/1234/save/CKPT+2025-07-20+01-51-25+00\n",
            "speechbrain.utils.epoch_loop - Going into epoch 176\n",
            "Delta lang loss = 0.2, Delta separate loss = 0.8\n"
          ]
        },
        {
          "output_type": "stream",
          "name": "stderr",
          "text": [
            " 97%|█████████▋| 1210/1250 [02:36<00:04,  8.60it/s, train_loss=-12]"
          ]
        },
        {
          "output_type": "stream",
          "name": "stdout",
          "text": [
            "__main__ - infinite loss or empty loss! it happened 1 times so far - skipping this batch\n"
          ]
        },
        {
          "output_type": "stream",
          "name": "stderr",
          "text": [
            "100%|██████████| 1250/1250 [02:41<00:00,  7.73it/s, train_loss=-12]\n"
          ]
        },
        {
          "output_type": "stream",
          "name": "stdout",
          "text": [
            "Delta lang loss = 0.2, Delta separate loss = 0.8\n"
          ]
        },
        {
          "output_type": "stream",
          "name": "stderr",
          "text": [
            "100%|██████████| 500/500 [00:21<00:00, 23.31it/s]"
          ]
        },
        {
          "output_type": "stream",
          "name": "stdout",
          "text": [
            "speechbrain.utils.train_logger - epoch: 176, lr: 1.00e-08 - train final_loss: -1.20e+01 - valid final_loss: -9.48e+00, valid Accuracy soft: 0.3688117265701294, valid Accuracy Partial: 0.7379999756813049\n"
          ]
        },
        {
          "output_type": "stream",
          "name": "stderr",
          "text": [
            "\n"
          ]
        },
        {
          "output_type": "stream",
          "name": "stdout",
          "text": [
            "speechbrain.utils.checkpoints - Saved an end-of-epoch checkpoint in results/convtasnet/1234/save/CKPT+2025-07-20+01-57-33+00\n",
            "speechbrain.utils.checkpoints - Deleted checkpoint in results/convtasnet/1234/save/CKPT+2025-07-20+01-54-28+00\n",
            "speechbrain.utils.epoch_loop - Going into epoch 177\n",
            "Delta lang loss = 0.2, Delta separate loss = 0.8\n"
          ]
        },
        {
          "output_type": "stream",
          "name": "stderr",
          "text": [
            " 97%|█████████▋| 1210/1250 [02:36<00:04,  8.57it/s, train_loss=-12]"
          ]
        },
        {
          "output_type": "stream",
          "name": "stdout",
          "text": [
            "__main__ - infinite loss or empty loss! it happened 1 times so far - skipping this batch\n"
          ]
        },
        {
          "output_type": "stream",
          "name": "stderr",
          "text": [
            "100%|██████████| 1250/1250 [02:41<00:00,  7.75it/s, train_loss=-12]\n"
          ]
        },
        {
          "output_type": "stream",
          "name": "stdout",
          "text": [
            "Delta lang loss = 0.2, Delta separate loss = 0.8\n"
          ]
        },
        {
          "output_type": "stream",
          "name": "stderr",
          "text": [
            "100%|██████████| 500/500 [00:21<00:00, 23.31it/s]"
          ]
        },
        {
          "output_type": "stream",
          "name": "stdout",
          "text": [
            "speechbrain.utils.train_logger - epoch: 177, lr: 1.00e-08 - train final_loss: -1.20e+01 - valid final_loss: -9.48e+00, valid Accuracy soft: 0.36881372332572937, valid Accuracy Partial: 0.7379999756813049\n"
          ]
        },
        {
          "output_type": "stream",
          "name": "stderr",
          "text": [
            "\n"
          ]
        },
        {
          "output_type": "stream",
          "name": "stdout",
          "text": [
            "speechbrain.utils.checkpoints - Saved an end-of-epoch checkpoint in results/convtasnet/1234/save/CKPT+2025-07-20+02-00-36+00\n",
            "speechbrain.utils.checkpoints - Deleted checkpoint in results/convtasnet/1234/save/CKPT+2025-07-20+01-57-33+00\n",
            "speechbrain.utils.epoch_loop - Going into epoch 178\n",
            "Delta lang loss = 0.2, Delta separate loss = 0.8\n"
          ]
        },
        {
          "output_type": "stream",
          "name": "stderr",
          "text": [
            " 97%|█████████▋| 1210/1250 [02:35<00:04,  8.49it/s, train_loss=-12]"
          ]
        },
        {
          "output_type": "stream",
          "name": "stdout",
          "text": [
            "__main__ - infinite loss or empty loss! it happened 1 times so far - skipping this batch\n"
          ]
        },
        {
          "output_type": "stream",
          "name": "stderr",
          "text": [
            "100%|██████████| 1250/1250 [02:41<00:00,  7.76it/s, train_loss=-12]\n"
          ]
        },
        {
          "output_type": "stream",
          "name": "stdout",
          "text": [
            "Delta lang loss = 0.2, Delta separate loss = 0.8\n"
          ]
        },
        {
          "output_type": "stream",
          "name": "stderr",
          "text": [
            "100%|██████████| 500/500 [00:21<00:00, 23.36it/s]"
          ]
        },
        {
          "output_type": "stream",
          "name": "stdout",
          "text": [
            "speechbrain.utils.train_logger - epoch: 178, lr: 1.00e-08 - train final_loss: -1.20e+01 - valid final_loss: -9.48e+00, valid Accuracy soft: 0.36880120635032654, valid Accuracy Partial: 0.7379999756813049\n"
          ]
        },
        {
          "output_type": "stream",
          "name": "stderr",
          "text": [
            "\n"
          ]
        },
        {
          "output_type": "stream",
          "name": "stdout",
          "text": [
            "speechbrain.utils.checkpoints - Saved an end-of-epoch checkpoint in results/convtasnet/1234/save/CKPT+2025-07-20+02-03-40+00\n",
            "speechbrain.utils.checkpoints - Deleted checkpoint in results/convtasnet/1234/save/CKPT+2025-07-20+02-00-36+00\n",
            "speechbrain.utils.epoch_loop - Going into epoch 179\n",
            "Delta lang loss = 0.2, Delta separate loss = 0.8\n"
          ]
        },
        {
          "output_type": "stream",
          "name": "stderr",
          "text": [
            " 97%|█████████▋| 1210/1250 [02:36<00:04,  8.53it/s, train_loss=-12]"
          ]
        },
        {
          "output_type": "stream",
          "name": "stdout",
          "text": [
            "__main__ - infinite loss or empty loss! it happened 1 times so far - skipping this batch\n"
          ]
        },
        {
          "output_type": "stream",
          "name": "stderr",
          "text": [
            "100%|██████████| 1250/1250 [02:41<00:00,  7.74it/s, train_loss=-12]\n"
          ]
        },
        {
          "output_type": "stream",
          "name": "stdout",
          "text": [
            "Delta lang loss = 0.2, Delta separate loss = 0.8\n"
          ]
        },
        {
          "output_type": "stream",
          "name": "stderr",
          "text": [
            "100%|██████████| 500/500 [00:21<00:00, 23.22it/s]"
          ]
        },
        {
          "output_type": "stream",
          "name": "stdout",
          "text": [
            "speechbrain.utils.train_logger - epoch: 179, lr: 1.00e-08 - train final_loss: -1.20e+01 - valid final_loss: -9.48e+00, valid Accuracy soft: 0.3687906861305237, valid Accuracy Partial: 0.7379999756813049\n"
          ]
        },
        {
          "output_type": "stream",
          "name": "stderr",
          "text": [
            "\n"
          ]
        },
        {
          "output_type": "stream",
          "name": "stdout",
          "text": [
            "speechbrain.utils.checkpoints - Saved an end-of-epoch checkpoint in results/convtasnet/1234/save/CKPT+2025-07-20+02-06-44+00\n",
            "speechbrain.utils.checkpoints - Deleted checkpoint in results/convtasnet/1234/save/CKPT+2025-07-20+02-03-40+00\n",
            "speechbrain.utils.epoch_loop - Going into epoch 180\n",
            "Delta lang loss = 0.2, Delta separate loss = 0.8\n"
          ]
        },
        {
          "output_type": "stream",
          "name": "stderr",
          "text": [
            " 97%|█████████▋| 1210/1250 [02:35<00:04,  8.63it/s, train_loss=-12]"
          ]
        },
        {
          "output_type": "stream",
          "name": "stdout",
          "text": [
            "__main__ - infinite loss or empty loss! it happened 1 times so far - skipping this batch\n"
          ]
        },
        {
          "output_type": "stream",
          "name": "stderr",
          "text": [
            "100%|██████████| 1250/1250 [02:40<00:00,  7.77it/s, train_loss=-12]\n"
          ]
        },
        {
          "output_type": "stream",
          "name": "stdout",
          "text": [
            "__main__ - Removed file /content/drive/MyDrive/Project/results_160\n",
            "__main__ - Saved file succesfully\n",
            "Delta lang loss = 0.2, Delta separate loss = 0.8\n"
          ]
        },
        {
          "output_type": "stream",
          "name": "stderr",
          "text": [
            "100%|██████████| 500/500 [00:21<00:00, 22.91it/s]"
          ]
        },
        {
          "output_type": "stream",
          "name": "stdout",
          "text": [
            "speechbrain.utils.train_logger - epoch: 180, lr: 1.00e-08 - train final_loss: -1.20e+01 - valid final_loss: -9.48e+00, valid Accuracy soft: 0.3688342273235321, valid Accuracy Partial: 0.7379999756813049\n"
          ]
        },
        {
          "output_type": "stream",
          "name": "stderr",
          "text": [
            "\n"
          ]
        },
        {
          "output_type": "stream",
          "name": "stdout",
          "text": [
            "speechbrain.utils.checkpoints - Saved an end-of-epoch checkpoint in results/convtasnet/1234/save/CKPT+2025-07-20+02-09-49+00\n",
            "speechbrain.utils.checkpoints - Deleted checkpoint in results/convtasnet/1234/save/CKPT+2025-07-20+02-06-44+00\n",
            "speechbrain.utils.epoch_loop - Going into epoch 181\n",
            "Delta lang loss = 0.2, Delta separate loss = 0.8\n"
          ]
        },
        {
          "output_type": "stream",
          "name": "stderr",
          "text": [
            " 97%|█████████▋| 1210/1250 [02:36<00:04,  8.50it/s, train_loss=-12]"
          ]
        },
        {
          "output_type": "stream",
          "name": "stdout",
          "text": [
            "__main__ - infinite loss or empty loss! it happened 1 times so far - skipping this batch\n"
          ]
        },
        {
          "output_type": "stream",
          "name": "stderr",
          "text": [
            "100%|██████████| 1250/1250 [02:41<00:00,  7.72it/s, train_loss=-12]\n"
          ]
        },
        {
          "output_type": "stream",
          "name": "stdout",
          "text": [
            "Delta lang loss = 0.2, Delta separate loss = 0.8\n"
          ]
        },
        {
          "output_type": "stream",
          "name": "stderr",
          "text": [
            "100%|██████████| 500/500 [00:21<00:00, 23.23it/s]"
          ]
        },
        {
          "output_type": "stream",
          "name": "stdout",
          "text": [
            "speechbrain.utils.train_logger - epoch: 181, lr: 1.00e-08 - train final_loss: -1.20e+01 - valid final_loss: -9.48e+00, valid Accuracy soft: 0.36882641911506653, valid Accuracy Partial: 0.7379999756813049\n"
          ]
        },
        {
          "output_type": "stream",
          "name": "stderr",
          "text": [
            "\n"
          ]
        },
        {
          "output_type": "stream",
          "name": "stdout",
          "text": [
            "speechbrain.utils.checkpoints - Saved an end-of-epoch checkpoint in results/convtasnet/1234/save/CKPT+2025-07-20+02-12-54+00\n",
            "speechbrain.utils.checkpoints - Deleted checkpoint in results/convtasnet/1234/save/CKPT+2025-07-20+02-09-49+00\n",
            "speechbrain.utils.epoch_loop - Going into epoch 182\n",
            "Delta lang loss = 0.2, Delta separate loss = 0.8\n"
          ]
        },
        {
          "output_type": "stream",
          "name": "stderr",
          "text": [
            " 97%|█████████▋| 1210/1250 [02:35<00:04,  8.62it/s, train_loss=-12]"
          ]
        },
        {
          "output_type": "stream",
          "name": "stdout",
          "text": [
            "__main__ - infinite loss or empty loss! it happened 1 times so far - skipping this batch\n"
          ]
        },
        {
          "output_type": "stream",
          "name": "stderr",
          "text": [
            "100%|██████████| 1250/1250 [02:40<00:00,  7.77it/s, train_loss=-12]\n"
          ]
        },
        {
          "output_type": "stream",
          "name": "stdout",
          "text": [
            "Delta lang loss = 0.2, Delta separate loss = 0.8\n"
          ]
        },
        {
          "output_type": "stream",
          "name": "stderr",
          "text": [
            "100%|██████████| 500/500 [00:21<00:00, 23.24it/s]"
          ]
        },
        {
          "output_type": "stream",
          "name": "stdout",
          "text": [
            "speechbrain.utils.train_logger - epoch: 182, lr: 1.00e-08 - train final_loss: -1.20e+01 - valid final_loss: -9.48e+00, valid Accuracy soft: 0.36867839097976685, valid Accuracy Partial: 0.7379999756813049\n"
          ]
        },
        {
          "output_type": "stream",
          "name": "stderr",
          "text": [
            "\n"
          ]
        },
        {
          "output_type": "stream",
          "name": "stdout",
          "text": [
            "speechbrain.utils.checkpoints - Saved an end-of-epoch checkpoint in results/convtasnet/1234/save/CKPT+2025-07-20+02-15-57+00\n",
            "speechbrain.utils.checkpoints - Deleted checkpoint in results/convtasnet/1234/save/CKPT+2025-07-20+02-12-54+00\n",
            "speechbrain.utils.epoch_loop - Going into epoch 183\n",
            "Delta lang loss = 0.2, Delta separate loss = 0.8\n"
          ]
        },
        {
          "output_type": "stream",
          "name": "stderr",
          "text": [
            " 97%|█████████▋| 1210/1250 [02:35<00:04,  8.19it/s, train_loss=-12]"
          ]
        },
        {
          "output_type": "stream",
          "name": "stdout",
          "text": [
            "__main__ - infinite loss or empty loss! it happened 1 times so far - skipping this batch\n"
          ]
        },
        {
          "output_type": "stream",
          "name": "stderr",
          "text": [
            "100%|██████████| 1250/1250 [02:41<00:00,  7.75it/s, train_loss=-12]\n"
          ]
        },
        {
          "output_type": "stream",
          "name": "stdout",
          "text": [
            "Delta lang loss = 0.2, Delta separate loss = 0.8\n"
          ]
        },
        {
          "output_type": "stream",
          "name": "stderr",
          "text": [
            "100%|██████████| 500/500 [00:21<00:00, 23.24it/s]"
          ]
        },
        {
          "output_type": "stream",
          "name": "stdout",
          "text": [
            "speechbrain.utils.train_logger - epoch: 183, lr: 1.00e-08 - train final_loss: -1.20e+01 - valid final_loss: -9.48e+00, valid Accuracy soft: 0.3687036335468292, valid Accuracy Partial: 0.7379999756813049\n"
          ]
        },
        {
          "output_type": "stream",
          "name": "stderr",
          "text": [
            "\n"
          ]
        },
        {
          "output_type": "stream",
          "name": "stdout",
          "text": [
            "speechbrain.utils.checkpoints - Saved an end-of-epoch checkpoint in results/convtasnet/1234/save/CKPT+2025-07-20+02-19-01+00\n",
            "speechbrain.utils.checkpoints - Deleted checkpoint in results/convtasnet/1234/save/CKPT+2025-07-20+02-15-57+00\n",
            "speechbrain.utils.epoch_loop - Going into epoch 184\n",
            "Delta lang loss = 0.2, Delta separate loss = 0.8\n"
          ]
        },
        {
          "output_type": "stream",
          "name": "stderr",
          "text": [
            " 97%|█████████▋| 1210/1250 [02:36<00:04,  8.56it/s, train_loss=-12]"
          ]
        },
        {
          "output_type": "stream",
          "name": "stdout",
          "text": [
            "__main__ - infinite loss or empty loss! it happened 1 times so far - skipping this batch\n"
          ]
        },
        {
          "output_type": "stream",
          "name": "stderr",
          "text": [
            "100%|██████████| 1250/1250 [02:41<00:00,  7.72it/s, train_loss=-12]\n"
          ]
        },
        {
          "output_type": "stream",
          "name": "stdout",
          "text": [
            "Delta lang loss = 0.2, Delta separate loss = 0.8\n"
          ]
        },
        {
          "output_type": "stream",
          "name": "stderr",
          "text": [
            "100%|██████████| 500/500 [00:21<00:00, 23.28it/s]"
          ]
        },
        {
          "output_type": "stream",
          "name": "stdout",
          "text": [
            "speechbrain.utils.train_logger - epoch: 184, lr: 1.00e-08 - train final_loss: -1.20e+01 - valid final_loss: -9.48e+00, valid Accuracy soft: 0.36880695819854736, valid Accuracy Partial: 0.7379999756813049\n"
          ]
        },
        {
          "output_type": "stream",
          "name": "stderr",
          "text": [
            "\n"
          ]
        },
        {
          "output_type": "stream",
          "name": "stdout",
          "text": [
            "speechbrain.utils.checkpoints - Saved an end-of-epoch checkpoint in results/convtasnet/1234/save/CKPT+2025-07-20+02-22-06+00\n",
            "speechbrain.utils.checkpoints - Deleted checkpoint in results/convtasnet/1234/save/CKPT+2025-07-20+02-19-01+00\n",
            "speechbrain.utils.epoch_loop - Going into epoch 185\n",
            "Delta lang loss = 0.2, Delta separate loss = 0.8\n"
          ]
        },
        {
          "output_type": "stream",
          "name": "stderr",
          "text": [
            " 97%|█████████▋| 1210/1250 [02:36<00:04,  8.45it/s, train_loss=-12]"
          ]
        },
        {
          "output_type": "stream",
          "name": "stdout",
          "text": [
            "__main__ - infinite loss or empty loss! it happened 1 times so far - skipping this batch\n"
          ]
        },
        {
          "output_type": "stream",
          "name": "stderr",
          "text": [
            "100%|██████████| 1250/1250 [02:41<00:00,  7.76it/s, train_loss=-12]\n"
          ]
        },
        {
          "output_type": "stream",
          "name": "stdout",
          "text": [
            "Delta lang loss = 0.2, Delta separate loss = 0.8\n"
          ]
        },
        {
          "output_type": "stream",
          "name": "stderr",
          "text": [
            "100%|██████████| 500/500 [00:21<00:00, 23.30it/s]"
          ]
        },
        {
          "output_type": "stream",
          "name": "stdout",
          "text": [
            "speechbrain.utils.train_logger - epoch: 185, lr: 1.00e-08 - train final_loss: -1.20e+01 - valid final_loss: -9.48e+00, valid Accuracy soft: 0.36865413188934326, valid Accuracy Partial: 0.7379999756813049\n"
          ]
        },
        {
          "output_type": "stream",
          "name": "stderr",
          "text": [
            "\n"
          ]
        },
        {
          "output_type": "stream",
          "name": "stdout",
          "text": [
            "speechbrain.utils.checkpoints - Saved an end-of-epoch checkpoint in results/convtasnet/1234/save/CKPT+2025-07-20+02-25-10+00\n",
            "speechbrain.utils.checkpoints - Deleted checkpoint in results/convtasnet/1234/save/CKPT+2025-07-20+02-22-06+00\n",
            "speechbrain.utils.epoch_loop - Going into epoch 186\n",
            "Delta lang loss = 0.2, Delta separate loss = 0.8\n"
          ]
        },
        {
          "output_type": "stream",
          "name": "stderr",
          "text": [
            " 97%|█████████▋| 1210/1250 [02:36<00:04,  8.38it/s, train_loss=-12]"
          ]
        },
        {
          "output_type": "stream",
          "name": "stdout",
          "text": [
            "__main__ - infinite loss or empty loss! it happened 1 times so far - skipping this batch\n"
          ]
        },
        {
          "output_type": "stream",
          "name": "stderr",
          "text": [
            "100%|██████████| 1250/1250 [02:41<00:00,  7.75it/s, train_loss=-12]\n"
          ]
        },
        {
          "output_type": "stream",
          "name": "stdout",
          "text": [
            "Delta lang loss = 0.2, Delta separate loss = 0.8\n"
          ]
        },
        {
          "output_type": "stream",
          "name": "stderr",
          "text": [
            "100%|██████████| 500/500 [00:21<00:00, 23.17it/s]"
          ]
        },
        {
          "output_type": "stream",
          "name": "stdout",
          "text": [
            "speechbrain.utils.train_logger - epoch: 186, lr: 1.00e-08 - train final_loss: -1.20e+01 - valid final_loss: -9.48e+00, valid Accuracy soft: 0.36870333552360535, valid Accuracy Partial: 0.7379999756813049\n"
          ]
        },
        {
          "output_type": "stream",
          "name": "stderr",
          "text": [
            "\n"
          ]
        },
        {
          "output_type": "stream",
          "name": "stdout",
          "text": [
            "speechbrain.utils.checkpoints - Saved an end-of-epoch checkpoint in results/convtasnet/1234/save/CKPT+2025-07-20+02-28-14+00\n",
            "speechbrain.utils.checkpoints - Deleted checkpoint in results/convtasnet/1234/save/CKPT+2025-07-20+02-25-10+00\n",
            "speechbrain.utils.epoch_loop - Going into epoch 187\n",
            "Delta lang loss = 0.2, Delta separate loss = 0.8\n"
          ]
        },
        {
          "output_type": "stream",
          "name": "stderr",
          "text": [
            " 97%|█████████▋| 1210/1250 [02:36<00:04,  8.48it/s, train_loss=-12]"
          ]
        },
        {
          "output_type": "stream",
          "name": "stdout",
          "text": [
            "__main__ - infinite loss or empty loss! it happened 1 times so far - skipping this batch\n"
          ]
        },
        {
          "output_type": "stream",
          "name": "stderr",
          "text": [
            "100%|██████████| 1250/1250 [02:41<00:00,  7.73it/s, train_loss=-12]\n"
          ]
        },
        {
          "output_type": "stream",
          "name": "stdout",
          "text": [
            "Delta lang loss = 0.2, Delta separate loss = 0.8\n"
          ]
        },
        {
          "output_type": "stream",
          "name": "stderr",
          "text": [
            "100%|██████████| 500/500 [00:21<00:00, 23.27it/s]"
          ]
        },
        {
          "output_type": "stream",
          "name": "stdout",
          "text": [
            "speechbrain.utils.train_logger - epoch: 187, lr: 1.00e-08 - train final_loss: -1.20e+01 - valid final_loss: -9.48e+00, valid Accuracy soft: 0.36883091926574707, valid Accuracy Partial: 0.7379999756813049\n"
          ]
        },
        {
          "output_type": "stream",
          "name": "stderr",
          "text": [
            "\n"
          ]
        },
        {
          "output_type": "stream",
          "name": "stdout",
          "text": [
            "speechbrain.utils.checkpoints - Saved an end-of-epoch checkpoint in results/convtasnet/1234/save/CKPT+2025-07-20+02-31-18+00\n",
            "speechbrain.utils.checkpoints - Deleted checkpoint in results/convtasnet/1234/save/CKPT+2025-07-20+02-28-14+00\n",
            "speechbrain.utils.epoch_loop - Going into epoch 188\n",
            "Delta lang loss = 0.2, Delta separate loss = 0.8\n"
          ]
        },
        {
          "output_type": "stream",
          "name": "stderr",
          "text": [
            " 97%|█████████▋| 1210/1250 [02:35<00:04,  8.49it/s, train_loss=-12]"
          ]
        },
        {
          "output_type": "stream",
          "name": "stdout",
          "text": [
            "__main__ - infinite loss or empty loss! it happened 1 times so far - skipping this batch\n"
          ]
        },
        {
          "output_type": "stream",
          "name": "stderr",
          "text": [
            "100%|██████████| 1250/1250 [02:41<00:00,  7.75it/s, train_loss=-12]\n"
          ]
        },
        {
          "output_type": "stream",
          "name": "stdout",
          "text": [
            "Delta lang loss = 0.2, Delta separate loss = 0.8\n"
          ]
        },
        {
          "output_type": "stream",
          "name": "stderr",
          "text": [
            "100%|██████████| 500/500 [00:21<00:00, 23.30it/s]"
          ]
        },
        {
          "output_type": "stream",
          "name": "stdout",
          "text": [
            "speechbrain.utils.train_logger - epoch: 188, lr: 1.00e-08 - train final_loss: -1.20e+01 - valid final_loss: -9.48e+00, valid Accuracy soft: 0.36874040961265564, valid Accuracy Partial: 0.7379999756813049\n"
          ]
        },
        {
          "output_type": "stream",
          "name": "stderr",
          "text": [
            "\n"
          ]
        },
        {
          "output_type": "stream",
          "name": "stdout",
          "text": [
            "speechbrain.utils.checkpoints - Saved an end-of-epoch checkpoint in results/convtasnet/1234/save/CKPT+2025-07-20+02-34-22+00\n",
            "speechbrain.utils.checkpoints - Deleted checkpoint in results/convtasnet/1234/save/CKPT+2025-07-20+02-31-18+00\n",
            "speechbrain.utils.epoch_loop - Going into epoch 189\n",
            "Delta lang loss = 0.2, Delta separate loss = 0.8\n"
          ]
        },
        {
          "output_type": "stream",
          "name": "stderr",
          "text": [
            " 97%|█████████▋| 1210/1250 [02:36<00:04,  8.18it/s, train_loss=-12]"
          ]
        },
        {
          "output_type": "stream",
          "name": "stdout",
          "text": [
            "__main__ - infinite loss or empty loss! it happened 1 times so far - skipping this batch\n"
          ]
        },
        {
          "output_type": "stream",
          "name": "stderr",
          "text": [
            "100%|██████████| 1250/1250 [02:41<00:00,  7.75it/s, train_loss=-12]\n"
          ]
        },
        {
          "output_type": "stream",
          "name": "stdout",
          "text": [
            "Delta lang loss = 0.2, Delta separate loss = 0.8\n"
          ]
        },
        {
          "output_type": "stream",
          "name": "stderr",
          "text": [
            "100%|██████████| 500/500 [00:21<00:00, 22.85it/s]"
          ]
        },
        {
          "output_type": "stream",
          "name": "stdout",
          "text": [
            "speechbrain.utils.train_logger - epoch: 189, lr: 1.00e-08 - train final_loss: -1.20e+01 - valid final_loss: -9.48e+00, valid Accuracy soft: 0.36865419149398804, valid Accuracy Partial: 0.7379999756813049\n"
          ]
        },
        {
          "output_type": "stream",
          "name": "stderr",
          "text": [
            "\n"
          ]
        },
        {
          "output_type": "stream",
          "name": "stdout",
          "text": [
            "speechbrain.utils.checkpoints - Saved an end-of-epoch checkpoint in results/convtasnet/1234/save/CKPT+2025-07-20+02-37-26+00\n",
            "speechbrain.utils.checkpoints - Deleted checkpoint in results/convtasnet/1234/save/CKPT+2025-07-20+02-34-22+00\n",
            "speechbrain.utils.epoch_loop - Going into epoch 190\n",
            "Delta lang loss = 0.2, Delta separate loss = 0.8\n"
          ]
        },
        {
          "output_type": "stream",
          "name": "stderr",
          "text": [
            " 97%|█████████▋| 1210/1250 [02:38<00:04,  8.39it/s, train_loss=-12]"
          ]
        },
        {
          "output_type": "stream",
          "name": "stdout",
          "text": [
            "__main__ - infinite loss or empty loss! it happened 1 times so far - skipping this batch\n"
          ]
        },
        {
          "output_type": "stream",
          "name": "stderr",
          "text": [
            "100%|██████████| 1250/1250 [02:43<00:00,  7.63it/s, train_loss=-12]\n"
          ]
        },
        {
          "output_type": "stream",
          "name": "stdout",
          "text": [
            "Delta lang loss = 0.2, Delta separate loss = 0.8\n"
          ]
        },
        {
          "output_type": "stream",
          "name": "stderr",
          "text": [
            "100%|██████████| 500/500 [00:21<00:00, 23.33it/s]"
          ]
        },
        {
          "output_type": "stream",
          "name": "stdout",
          "text": [
            "speechbrain.utils.train_logger - epoch: 190, lr: 1.00e-08 - train final_loss: -1.20e+01 - valid final_loss: -9.48e+00, valid Accuracy soft: 0.36878159642219543, valid Accuracy Partial: 0.7379999756813049\n"
          ]
        },
        {
          "output_type": "stream",
          "name": "stderr",
          "text": [
            "\n"
          ]
        },
        {
          "output_type": "stream",
          "name": "stdout",
          "text": [
            "speechbrain.utils.checkpoints - Saved an end-of-epoch checkpoint in results/convtasnet/1234/save/CKPT+2025-07-20+02-40-33+00\n",
            "speechbrain.utils.checkpoints - Deleted checkpoint in results/convtasnet/1234/save/CKPT+2025-07-20+02-37-26+00\n",
            "speechbrain.utils.epoch_loop - Going into epoch 191\n",
            "Delta lang loss = 0.2, Delta separate loss = 0.8\n"
          ]
        },
        {
          "output_type": "stream",
          "name": "stderr",
          "text": [
            " 97%|█████████▋| 1210/1250 [02:36<00:04,  8.31it/s, train_loss=-12]"
          ]
        },
        {
          "output_type": "stream",
          "name": "stdout",
          "text": [
            "__main__ - infinite loss or empty loss! it happened 1 times so far - skipping this batch\n"
          ]
        },
        {
          "output_type": "stream",
          "name": "stderr",
          "text": [
            "100%|██████████| 1250/1250 [02:41<00:00,  7.75it/s, train_loss=-12]\n"
          ]
        },
        {
          "output_type": "stream",
          "name": "stdout",
          "text": [
            "Delta lang loss = 0.2, Delta separate loss = 0.8\n"
          ]
        },
        {
          "output_type": "stream",
          "name": "stderr",
          "text": [
            "100%|██████████| 500/500 [00:21<00:00, 23.24it/s]"
          ]
        },
        {
          "output_type": "stream",
          "name": "stdout",
          "text": [
            "speechbrain.utils.train_logger - epoch: 191, lr: 1.00e-08 - train final_loss: -1.20e+01 - valid final_loss: -9.48e+00, valid Accuracy soft: 0.3687115013599396, valid Accuracy Partial: 0.7379999756813049\n"
          ]
        },
        {
          "output_type": "stream",
          "name": "stderr",
          "text": [
            "\n"
          ]
        },
        {
          "output_type": "stream",
          "name": "stdout",
          "text": [
            "speechbrain.utils.checkpoints - Saved an end-of-epoch checkpoint in results/convtasnet/1234/save/CKPT+2025-07-20+02-43-37+00\n",
            "speechbrain.utils.checkpoints - Deleted checkpoint in results/convtasnet/1234/save/CKPT+2025-07-20+02-40-33+00\n",
            "speechbrain.utils.epoch_loop - Going into epoch 192\n",
            "Delta lang loss = 0.2, Delta separate loss = 0.8\n"
          ]
        },
        {
          "output_type": "stream",
          "name": "stderr",
          "text": [
            " 97%|█████████▋| 1210/1250 [02:36<00:04,  8.55it/s, train_loss=-12]"
          ]
        },
        {
          "output_type": "stream",
          "name": "stdout",
          "text": [
            "__main__ - infinite loss or empty loss! it happened 1 times so far - skipping this batch\n"
          ]
        },
        {
          "output_type": "stream",
          "name": "stderr",
          "text": [
            "100%|██████████| 1250/1250 [02:41<00:00,  7.72it/s, train_loss=-12]\n"
          ]
        },
        {
          "output_type": "stream",
          "name": "stdout",
          "text": [
            "Delta lang loss = 0.2, Delta separate loss = 0.8\n"
          ]
        },
        {
          "output_type": "stream",
          "name": "stderr",
          "text": [
            "100%|██████████| 500/500 [00:21<00:00, 23.23it/s]"
          ]
        },
        {
          "output_type": "stream",
          "name": "stdout",
          "text": [
            "speechbrain.utils.train_logger - epoch: 192, lr: 1.00e-08 - train final_loss: -1.20e+01 - valid final_loss: -9.48e+00, valid Accuracy soft: 0.36879196763038635, valid Accuracy Partial: 0.7379999756813049\n"
          ]
        },
        {
          "output_type": "stream",
          "name": "stderr",
          "text": [
            "\n"
          ]
        },
        {
          "output_type": "stream",
          "name": "stdout",
          "text": [
            "speechbrain.utils.checkpoints - Saved an end-of-epoch checkpoint in results/convtasnet/1234/save/CKPT+2025-07-20+02-46-41+00\n",
            "speechbrain.utils.checkpoints - Deleted checkpoint in results/convtasnet/1234/save/CKPT+2025-07-20+02-43-37+00\n",
            "speechbrain.utils.epoch_loop - Going into epoch 193\n",
            "Delta lang loss = 0.2, Delta separate loss = 0.8\n"
          ]
        },
        {
          "output_type": "stream",
          "name": "stderr",
          "text": [
            " 97%|█████████▋| 1210/1250 [02:36<00:04,  8.59it/s, train_loss=-12]"
          ]
        },
        {
          "output_type": "stream",
          "name": "stdout",
          "text": [
            "__main__ - infinite loss or empty loss! it happened 1 times so far - skipping this batch\n"
          ]
        },
        {
          "output_type": "stream",
          "name": "stderr",
          "text": [
            "100%|██████████| 1250/1250 [02:41<00:00,  7.74it/s, train_loss=-12]\n"
          ]
        },
        {
          "output_type": "stream",
          "name": "stdout",
          "text": [
            "Delta lang loss = 0.2, Delta separate loss = 0.8\n"
          ]
        },
        {
          "output_type": "stream",
          "name": "stderr",
          "text": [
            "100%|██████████| 500/500 [00:21<00:00, 23.30it/s]"
          ]
        },
        {
          "output_type": "stream",
          "name": "stdout",
          "text": [
            "speechbrain.utils.train_logger - epoch: 193, lr: 1.00e-08 - train final_loss: -1.20e+01 - valid final_loss: -9.48e+00, valid Accuracy soft: 0.3687133193016052, valid Accuracy Partial: 0.7379999756813049\n"
          ]
        },
        {
          "output_type": "stream",
          "name": "stderr",
          "text": [
            "\n"
          ]
        },
        {
          "output_type": "stream",
          "name": "stdout",
          "text": [
            "speechbrain.utils.checkpoints - Saved an end-of-epoch checkpoint in results/convtasnet/1234/save/CKPT+2025-07-20+02-49-46+00\n",
            "speechbrain.utils.checkpoints - Deleted checkpoint in results/convtasnet/1234/save/CKPT+2025-07-20+02-46-41+00\n",
            "speechbrain.utils.epoch_loop - Going into epoch 194\n",
            "Delta lang loss = 0.2, Delta separate loss = 0.8\n"
          ]
        },
        {
          "output_type": "stream",
          "name": "stderr",
          "text": [
            " 97%|█████████▋| 1210/1250 [02:36<00:04,  8.43it/s, train_loss=-12]"
          ]
        },
        {
          "output_type": "stream",
          "name": "stdout",
          "text": [
            "__main__ - infinite loss or empty loss! it happened 1 times so far - skipping this batch\n"
          ]
        },
        {
          "output_type": "stream",
          "name": "stderr",
          "text": [
            "100%|██████████| 1250/1250 [02:41<00:00,  7.74it/s, train_loss=-12]\n"
          ]
        },
        {
          "output_type": "stream",
          "name": "stdout",
          "text": [
            "Delta lang loss = 0.2, Delta separate loss = 0.8\n"
          ]
        },
        {
          "output_type": "stream",
          "name": "stderr",
          "text": [
            "100%|██████████| 500/500 [00:21<00:00, 23.14it/s]"
          ]
        },
        {
          "output_type": "stream",
          "name": "stdout",
          "text": [
            "speechbrain.utils.train_logger - epoch: 194, lr: 1.00e-08 - train final_loss: -1.20e+01 - valid final_loss: -9.48e+00, valid Accuracy soft: 0.36881884932518005, valid Accuracy Partial: 0.7379999756813049\n"
          ]
        },
        {
          "output_type": "stream",
          "name": "stderr",
          "text": [
            "\n"
          ]
        },
        {
          "output_type": "stream",
          "name": "stdout",
          "text": [
            "speechbrain.utils.checkpoints - Saved an end-of-epoch checkpoint in results/convtasnet/1234/save/CKPT+2025-07-20+02-52-50+00\n",
            "speechbrain.utils.checkpoints - Deleted checkpoint in results/convtasnet/1234/save/CKPT+2025-07-20+02-49-46+00\n",
            "speechbrain.utils.epoch_loop - Going into epoch 195\n",
            "Delta lang loss = 0.2, Delta separate loss = 0.8\n"
          ]
        },
        {
          "output_type": "stream",
          "name": "stderr",
          "text": [
            " 97%|█████████▋| 1210/1250 [02:36<00:04,  8.58it/s, train_loss=-12]"
          ]
        },
        {
          "output_type": "stream",
          "name": "stdout",
          "text": [
            "__main__ - infinite loss or empty loss! it happened 1 times so far - skipping this batch\n"
          ]
        },
        {
          "output_type": "stream",
          "name": "stderr",
          "text": [
            "100%|██████████| 1250/1250 [02:42<00:00,  7.71it/s, train_loss=-12]\n"
          ]
        },
        {
          "output_type": "stream",
          "name": "stdout",
          "text": [
            "Delta lang loss = 0.2, Delta separate loss = 0.8\n"
          ]
        },
        {
          "output_type": "stream",
          "name": "stderr",
          "text": [
            "100%|██████████| 500/500 [00:21<00:00, 23.27it/s]"
          ]
        },
        {
          "output_type": "stream",
          "name": "stdout",
          "text": [
            "speechbrain.utils.train_logger - epoch: 195, lr: 1.00e-08 - train final_loss: -1.20e+01 - valid final_loss: -9.48e+00, valid Accuracy soft: 0.36877724528312683, valid Accuracy Partial: 0.7379999756813049\n"
          ]
        },
        {
          "output_type": "stream",
          "name": "stderr",
          "text": [
            "\n"
          ]
        },
        {
          "output_type": "stream",
          "name": "stdout",
          "text": [
            "speechbrain.utils.checkpoints - Saved an end-of-epoch checkpoint in results/convtasnet/1234/save/CKPT+2025-07-20+02-55-55+00\n",
            "speechbrain.utils.checkpoints - Deleted checkpoint in results/convtasnet/1234/save/CKPT+2025-07-20+02-52-50+00\n",
            "speechbrain.utils.epoch_loop - Going into epoch 196\n",
            "Delta lang loss = 0.2, Delta separate loss = 0.8\n"
          ]
        },
        {
          "output_type": "stream",
          "name": "stderr",
          "text": [
            " 97%|█████████▋| 1210/1250 [02:36<00:04,  8.41it/s, train_loss=-12]"
          ]
        },
        {
          "output_type": "stream",
          "name": "stdout",
          "text": [
            "__main__ - infinite loss or empty loss! it happened 1 times so far - skipping this batch\n"
          ]
        },
        {
          "output_type": "stream",
          "name": "stderr",
          "text": [
            "100%|██████████| 1250/1250 [02:41<00:00,  7.75it/s, train_loss=-12]\n"
          ]
        },
        {
          "output_type": "stream",
          "name": "stdout",
          "text": [
            "Delta lang loss = 0.2, Delta separate loss = 0.8\n"
          ]
        },
        {
          "output_type": "stream",
          "name": "stderr",
          "text": [
            "100%|██████████| 500/500 [00:21<00:00, 23.22it/s]"
          ]
        },
        {
          "output_type": "stream",
          "name": "stdout",
          "text": [
            "speechbrain.utils.train_logger - epoch: 196, lr: 1.00e-08 - train final_loss: -1.20e+01 - valid final_loss: -9.48e+00, valid Accuracy soft: 0.3687889575958252, valid Accuracy Partial: 0.7379999756813049\n"
          ]
        },
        {
          "output_type": "stream",
          "name": "stderr",
          "text": [
            "\n"
          ]
        },
        {
          "output_type": "stream",
          "name": "stdout",
          "text": [
            "speechbrain.utils.checkpoints - Saved an end-of-epoch checkpoint in results/convtasnet/1234/save/CKPT+2025-07-20+02-58-59+00\n",
            "speechbrain.utils.checkpoints - Deleted checkpoint in results/convtasnet/1234/save/CKPT+2025-07-20+02-55-55+00\n",
            "speechbrain.utils.epoch_loop - Going into epoch 197\n",
            "Delta lang loss = 0.2, Delta separate loss = 0.8\n"
          ]
        },
        {
          "output_type": "stream",
          "name": "stderr",
          "text": [
            " 97%|█████████▋| 1210/1250 [02:36<00:04,  8.61it/s, train_loss=-12]"
          ]
        },
        {
          "output_type": "stream",
          "name": "stdout",
          "text": [
            "__main__ - infinite loss or empty loss! it happened 1 times so far - skipping this batch\n"
          ]
        },
        {
          "output_type": "stream",
          "name": "stderr",
          "text": [
            "100%|██████████| 1250/1250 [02:41<00:00,  7.75it/s, train_loss=-12]\n"
          ]
        },
        {
          "output_type": "stream",
          "name": "stdout",
          "text": [
            "Delta lang loss = 0.2, Delta separate loss = 0.8\n"
          ]
        },
        {
          "output_type": "stream",
          "name": "stderr",
          "text": [
            "100%|██████████| 500/500 [00:21<00:00, 23.25it/s]"
          ]
        },
        {
          "output_type": "stream",
          "name": "stdout",
          "text": [
            "speechbrain.utils.train_logger - epoch: 197, lr: 1.00e-08 - train final_loss: -1.20e+01 - valid final_loss: -9.48e+00, valid Accuracy soft: 0.3687172830104828, valid Accuracy Partial: 0.7379999756813049\n"
          ]
        },
        {
          "output_type": "stream",
          "name": "stderr",
          "text": [
            "\n"
          ]
        },
        {
          "output_type": "stream",
          "name": "stdout",
          "text": [
            "speechbrain.utils.checkpoints - Saved an end-of-epoch checkpoint in results/convtasnet/1234/save/CKPT+2025-07-20+03-02-03+00\n",
            "speechbrain.utils.checkpoints - Deleted checkpoint in results/convtasnet/1234/save/CKPT+2025-07-20+02-58-59+00\n",
            "speechbrain.utils.epoch_loop - Going into epoch 198\n",
            "Delta lang loss = 0.2, Delta separate loss = 0.8\n"
          ]
        },
        {
          "output_type": "stream",
          "name": "stderr",
          "text": [
            " 97%|█████████▋| 1210/1250 [02:36<00:04,  8.48it/s, train_loss=-12]"
          ]
        },
        {
          "output_type": "stream",
          "name": "stdout",
          "text": [
            "__main__ - infinite loss or empty loss! it happened 1 times so far - skipping this batch\n"
          ]
        },
        {
          "output_type": "stream",
          "name": "stderr",
          "text": [
            "100%|██████████| 1250/1250 [02:42<00:00,  7.71it/s, train_loss=-12]\n"
          ]
        },
        {
          "output_type": "stream",
          "name": "stdout",
          "text": [
            "Delta lang loss = 0.2, Delta separate loss = 0.8\n"
          ]
        },
        {
          "output_type": "stream",
          "name": "stderr",
          "text": [
            "100%|██████████| 500/500 [00:21<00:00, 23.22it/s]"
          ]
        },
        {
          "output_type": "stream",
          "name": "stdout",
          "text": [
            "speechbrain.utils.train_logger - epoch: 198, lr: 1.00e-08 - train final_loss: -1.20e+01 - valid final_loss: -9.48e+00, valid Accuracy soft: 0.36868658661842346, valid Accuracy Partial: 0.7379999756813049\n"
          ]
        },
        {
          "output_type": "stream",
          "name": "stderr",
          "text": [
            "\n"
          ]
        },
        {
          "output_type": "stream",
          "name": "stdout",
          "text": [
            "speechbrain.utils.checkpoints - Saved an end-of-epoch checkpoint in results/convtasnet/1234/save/CKPT+2025-07-20+03-05-07+00\n",
            "speechbrain.utils.checkpoints - Deleted checkpoint in results/convtasnet/1234/save/CKPT+2025-07-20+03-02-03+00\n",
            "speechbrain.utils.epoch_loop - Going into epoch 199\n",
            "Delta lang loss = 0.2, Delta separate loss = 0.8\n"
          ]
        },
        {
          "output_type": "stream",
          "name": "stderr",
          "text": [
            " 97%|█████████▋| 1210/1250 [02:36<00:04,  8.56it/s, train_loss=-12]"
          ]
        },
        {
          "output_type": "stream",
          "name": "stdout",
          "text": [
            "__main__ - infinite loss or empty loss! it happened 1 times so far - skipping this batch\n"
          ]
        },
        {
          "output_type": "stream",
          "name": "stderr",
          "text": [
            "100%|██████████| 1250/1250 [02:41<00:00,  7.74it/s, train_loss=-12]\n"
          ]
        },
        {
          "output_type": "stream",
          "name": "stdout",
          "text": [
            "Delta lang loss = 0.2, Delta separate loss = 0.8\n"
          ]
        },
        {
          "output_type": "stream",
          "name": "stderr",
          "text": [
            "100%|██████████| 500/500 [00:21<00:00, 23.27it/s]"
          ]
        },
        {
          "output_type": "stream",
          "name": "stdout",
          "text": [
            "speechbrain.utils.train_logger - epoch: 199, lr: 1.00e-08 - train final_loss: -1.20e+01 - valid final_loss: -9.48e+00, valid Accuracy soft: 0.3687211871147156, valid Accuracy Partial: 0.7379999756813049\n"
          ]
        },
        {
          "output_type": "stream",
          "name": "stderr",
          "text": [
            "\n"
          ]
        },
        {
          "output_type": "stream",
          "name": "stdout",
          "text": [
            "speechbrain.utils.checkpoints - Saved an end-of-epoch checkpoint in results/convtasnet/1234/save/CKPT+2025-07-20+03-08-12+00\n",
            "speechbrain.utils.checkpoints - Deleted checkpoint in results/convtasnet/1234/save/CKPT+2025-07-20+03-05-07+00\n",
            "speechbrain.utils.epoch_loop - Going into epoch 200\n",
            "Delta lang loss = 0.2, Delta separate loss = 0.8\n"
          ]
        },
        {
          "output_type": "stream",
          "name": "stderr",
          "text": [
            " 97%|█████████▋| 1210/1250 [02:36<00:04,  8.45it/s, train_loss=-12]"
          ]
        },
        {
          "output_type": "stream",
          "name": "stdout",
          "text": [
            "__main__ - infinite loss or empty loss! it happened 1 times so far - skipping this batch\n"
          ]
        },
        {
          "output_type": "stream",
          "name": "stderr",
          "text": [
            "100%|██████████| 1250/1250 [02:41<00:00,  7.74it/s, train_loss=-12]\n"
          ]
        },
        {
          "output_type": "stream",
          "name": "stdout",
          "text": [
            "__main__ - Removed file /content/drive/MyDrive/Project/results_180\n",
            "__main__ - Saved file succesfully\n",
            "Delta lang loss = 0.2, Delta separate loss = 0.8\n"
          ]
        },
        {
          "output_type": "stream",
          "name": "stderr",
          "text": [
            "100%|██████████| 500/500 [00:22<00:00, 22.70it/s]"
          ]
        },
        {
          "output_type": "stream",
          "name": "stdout",
          "text": [
            "speechbrain.utils.train_logger - epoch: 200, lr: 1.00e-08 - train final_loss: -1.20e+01 - valid final_loss: -9.48e+00, valid Accuracy soft: 0.3687097430229187, valid Accuracy Partial: 0.7379999756813049\n"
          ]
        },
        {
          "output_type": "stream",
          "name": "stderr",
          "text": [
            "\n"
          ]
        },
        {
          "output_type": "stream",
          "name": "stdout",
          "text": [
            "speechbrain.utils.checkpoints - Saved an end-of-epoch checkpoint in results/convtasnet/1234/save/CKPT+2025-07-20+03-11-17+00\n",
            "speechbrain.utils.checkpoints - Deleted checkpoint in results/convtasnet/1234/save/CKPT+2025-07-20+03-08-12+00\n"
          ]
        }
      ],
      "source": [
        "# Load hyperparameters file with command-line overrides\n",
        "import os\n",
        "os.environ[\"PYTORCH_CUDA_ALLOC_CONF\"] = \"expandable_segments:True\"\n",
        "\n",
        "import torch\n",
        "torch.cuda.empty_cache()\n",
        "args = [\"/content/hparams/conVasNet_asteroid.yml\"]\n",
        "hparams_file, run_opts, overrides = sb.parse_arguments(args)\n",
        "\n",
        "\n",
        "epochs = 200\n",
        "with open(hparams_file, encoding=\"utf-8\") as fin:\n",
        "  hparams = load_hyperpyyaml(fin, overrides)\n",
        "\n",
        "# Initialize ddp (useful only for multi-GPU DDP training)\n",
        "sb.utils.distributed.ddp_init_group(run_opts)\n",
        "\n",
        "# Logger info\n",
        "logger = get_logger(__name__)\n",
        "\n",
        "# Create experiment directory\n",
        "sb.create_experiment_directory(\n",
        "  experiment_directory=hparams[\"output_folder\"],\n",
        "  hyperparams_to_save=hparams_file,\n",
        "  overrides=overrides,\n",
        ")\n",
        "\n",
        "# Update precision to bf16 if the device is CPU and precision is fp16\n",
        "if run_opts.get(\"device\") == \"cpu\" and hparams.get(\"precision\") == \"fp16\":\n",
        "  hparams[\"precision\"] = \"bf16\"\n",
        "\n",
        "# Check if wsj0_tr is set with dynamic mixing\n",
        "if hparams[\"dynamic_mixing\"] and not os.path.exists(hparams[\"base_folder_dm\"]):\n",
        "  raise ValueError(\"Please, specify a valid base_folder_dm folder when using dynamic mixing\")\n",
        "\n",
        "import sys\n",
        "sys.path.append('/content/')\n",
        "\n",
        "label_encoder = hparams[\"label_encoder\"]\n",
        "label_encoder.expect_len(107) #new Line Added\n",
        "label_encoder.load('/content/label_encoder.txt')\n",
        "# Data preparation\n",
        "from prepare_data import prepare_wsjmix  # noqa\n",
        "\n",
        "run_on_main(\n",
        "    prepare_wsjmix,\n",
        "    kwargs={\n",
        "        \"datapath\": hparams[\"data_folder\"],\n",
        "        \"savepath\": hparams[\"save_folder\"],\n",
        "        \"n_spks\": hparams[\"num_spks\"],\n",
        "        \"skip_prep\": hparams[\"skip_prep\"],\n",
        "        \"fs\": hparams[\"sample_rate\"],\n",
        "    },\n",
        ")\n",
        "\n",
        "# Create dataset objects\n",
        "if hparams[\"dynamic_mixing\"]:\n",
        "    from dynamic_mixing import dynamic_mix_data_prep\n",
        "\n",
        "    # if the base_folder for dm is not processed, preprocess them\n",
        "    if \"processed\" not in hparams[\"base_folder_dm\"]:\n",
        "        # if the processed folder already exists we just use it otherwise we do the preprocessing\n",
        "        if not os.path.exists(\n",
        "            os.path.normpath(hparams[\"base_folder_dm\"]) + \"_processed\"\n",
        "        ):\n",
        "            from preprocess_dynamic_mixing import resample_folder\n",
        "\n",
        "            print(\"Resampling the base folder\")\n",
        "            run_on_main(\n",
        "                resample_folder,\n",
        "                kwargs={\n",
        "                    \"input_folder\": hparams[\"base_folder_dm\"],\n",
        "                    \"output_folder\": os.path.normpath(\n",
        "                        hparams[\"base_folder_dm\"]\n",
        "                    )\n",
        "                    + \"_processed\",\n",
        "                    \"fs\": hparams[\"sample_rate\"],\n",
        "                    \"regex\": \"**/*.wav\",\n",
        "                },\n",
        "            )\n",
        "            # adjust the base_folder_dm path\n",
        "            hparams[\"base_folder_dm\"] = (\n",
        "                os.path.normpath(hparams[\"base_folder_dm\"]) + \"_processed\"\n",
        "            )\n",
        "        else:\n",
        "            print(\n",
        "                \"Using the existing processed folder on the same directory as base_folder_dm\"\n",
        "            )\n",
        "            hparams[\"base_folder_dm\"] = (\n",
        "                os.path.normpath(hparams[\"base_folder_dm\"]) + \"_processed\"\n",
        "            )\n",
        "\n",
        "    # Collecting the hparams for dynamic batching\n",
        "    dm_hparams = {\n",
        "        \"train_data\": hparams[\"train_data\"],\n",
        "        \"data_folder\": hparams[\"data_folder\"],\n",
        "        \"base_folder_dm\": hparams[\"base_folder_dm\"],\n",
        "        \"sample_rate\": hparams[\"sample_rate\"],\n",
        "        \"num_spks\": hparams[\"num_spks\"],\n",
        "        \"training_signal_len\": hparams[\"training_signal_len\"],\n",
        "        \"dataloader_opts\": hparams[\"dataloader_opts\"],\n",
        "    }\n",
        "    train_data = dynamic_mix_data_prep(dm_hparams)\n",
        "    _, valid_data, test_data = dataio_prep(hparams)\n",
        "else:\n",
        "    train_data, valid_data, test_data = dataio_prep(hparams)\n",
        "\n",
        "trainfile_test,sr = torchaudio.load(\"/content/dataset/train/mix/Indian_eng_as_9000.wav\")\n",
        "\n",
        "logger.info(f\"Train sampling rate:{sr}\")\n",
        "\n",
        "# Load pretrained model if pretrained_separator is present in the yaml\n",
        "# if \"pretrained_separator\" in hparams:\n",
        "#     run_on_main(hparams[\"pretrained_separator\"].collect_files, kwargs={\"default_source\": \"speechbrain/sepformer-wsj02mix\"})\n",
        "#     hparams[\"pretrained_separator\"].load_collected()\n",
        "\n",
        "# Brain class initialization\n",
        "separator = MultiTask(\n",
        "    modules=hparams[\"modules\"],\n",
        "    opt_class=hparams[\"optimizer\"],\n",
        "    hparams=hparams,\n",
        "    run_opts=run_opts,\n",
        "    checkpointer=hparams[\"checkpointer\"],\n",
        ")\n",
        "\n",
        "\n",
        "\n",
        "\n",
        "# re-initialize the parameters if we don't use a pretrained model\n",
        "if \"pretrained_separator\" not in hparams:\n",
        "  for module in separator.modules.values():\n",
        "      separator.reset_layer_recursively(module)\n",
        "else:\n",
        "  logger.info(f\"Loading pretrained weights:{separator}\")\n",
        "  pretrain = hparams[\"pretrained_separator\"]\n",
        "  pretrain.collect_files()\n",
        "  pretrain.load_collected()\n",
        "\n",
        "separator.modules.convTasNet.load_state_dict(torch.load('/content/convTasNet/Results/04-02-2024/model_state_dict(2).pt'))\n",
        "\n",
        "\n",
        "separator.fit(\n",
        "    separator.hparams.epoch_counter,\n",
        "    train_data,\n",
        "    valid_data,\n",
        "    train_loader_kwargs=hparams[\"dataloader_opts\"],\n",
        "    valid_loader_kwargs=hparams[\"dataloader_opts\"],\n",
        ")"
      ]
    },
    {
      "cell_type": "code",
      "source": [],
      "metadata": {
        "id": "bMVk9UiTeq84"
      },
      "execution_count": null,
      "outputs": []
    },
    {
      "cell_type": "code",
      "source": [
        "!cp /content/hparams/conVasNet_asteroid.yml /content/drive/MyDrive/Project"
      ],
      "metadata": {
        "id": "P_OPWR9jzQSu"
      },
      "execution_count": null,
      "outputs": []
    },
    {
      "cell_type": "code",
      "source": [
        "!rm -rf /content/results"
      ],
      "metadata": {
        "id": "BjvxRqWk95hn"
      },
      "execution_count": null,
      "outputs": []
    },
    {
      "cell_type": "markdown",
      "metadata": {
        "id": "FPKbPnBVVCVP"
      },
      "source": [
        "Graph loss and accuracy"
      ]
    },
    {
      "cell_type": "code",
      "execution_count": 9,
      "metadata": {
        "id": "62Q9ZRCgB3Cu",
        "colab": {
          "base_uri": "https://localhost:8080/",
          "height": 679
        },
        "outputId": "f93d47cc-f50a-48cc-da9e-8368591815a1"
      },
      "outputs": [
        {
          "output_type": "stream",
          "name": "stdout",
          "text": [
            "[-9.41, -10.2, -10.6, -10.9, -11.2, -11.3, -11.6, -12.0, -11.8, -11.9, -12.1, -12.4, -12.5, -12.7, -12.4, -8.78, -9.02, -9.12, -9.29, -13.0, -10.1, -10.3, -10.4, -10.5, -10.6, -10.6, -10.7, -10.7, -10.8, -10.8, -10.8, -10.9, -10.9, -11.0, -11.0, -11.0, -11.0, -11.1, -11.1, -11.1, -11.1, -11.2, -11.2, -11.2, -11.2, -11.2, -11.2, -11.3, -11.3, -11.3, -11.3, -11.3, -11.3, -11.3, -11.4, -11.4, -11.4, -11.4, -11.4, -11.4, -11.4, -11.4, -11.4, -11.4, -11.4, -11.5, -11.5, -11.5, -11.5, -11.5, -11.5, -11.5, -11.5, -11.5, -11.5, -11.5, -11.5, -11.5, -11.5, -11.6, -11.6, -11.6, -11.6, -11.6, -11.6, -11.6, -11.6, -11.6, -11.6, -11.6, -11.6, -11.6, -11.6, -11.7, -11.7, -11.7, -11.7, -11.7, -11.7, -11.7, -11.7, -11.7, -11.7, -11.7, -11.7, -11.7, -11.7, -11.7, -11.7, -11.7, -11.7, -11.7, -11.8, -11.8, -11.8, -11.8, -11.8, -11.8, -11.8, -11.8, -11.8, -11.8, -11.8, -11.8, -11.8, -11.8, -11.8, -11.8, -11.8, -11.8, -11.8, -11.9, -11.9, -11.9, -11.9, -11.9, -11.9, -11.9, -11.9, -11.9, -11.9, -11.9, -11.9, -11.9, -11.9, -11.9, -11.9, -11.9, -11.9, -11.9, -11.9, -11.9, -11.9, -11.9, -11.9, -12.0, -12.0, -12.0, -12.0, -12.0, -12.0, -12.0, -12.0, -12.0, -12.0, -12.0, -12.0, -12.0, -12.0, -12.0, -12.0, -12.0, -12.0, -12.0, -12.0, -12.0, -12.0, -12.0, -12.0, -12.0, -12.0, -12.0, -12.0, -12.0, -12.0, -12.0, -12.0, -12.0, -12.0, -12.0, -12.0, -12.0, -12.0, -12.0, -12.0, -12.0, -12.0, -12.0, -12.0]\n",
            "[-10.6, -10.8, -11.0, -10.8, -11.2, -11.2, -11.1, -11.4, -11.2, -11.2, -11.4, -11.1, -11.2, -11.1, -11.0, -8.3, -8.31, -8.39, -8.49, -11.6, -8.76, -8.86, -8.65, -8.83, -8.95, -9.14, -9.09, -9.16, -9.11, -9.16, -9.14, -9.15, -9.14, -9.2, -9.27, -9.22, -8.97, -8.73, -9.01, -8.55, -8.54, -8.52, -8.43, -8.49, -8.72, -8.58, -8.62, -8.85, -8.89, -8.72, -8.91, -8.9, -8.53, -8.58, -8.64, -8.55, -8.67, -8.68, -8.56, -8.54, -8.59, -8.8, -8.67, -8.93, -8.92, -8.82, -9.01, -8.76, -8.91, -9.02, -8.87, -8.85, -8.71, -8.6, -8.65, -8.74, -8.75, -8.66, -9.38, -9.12, -8.6, -8.94, -8.76, -8.99, -8.68, -9.23, -8.63, -8.71, -9.33, -9.45, -9.28, -9.42, -9.43, -9.45, -9.43, -9.46, -9.43, -9.4, -9.44, -9.46, -9.44, -8.87, -9.39, -9.28, -9.4, -9.46, -9.45, -9.46, -9.42, -9.29, -9.41, -8.86, -9.32, -9.38, -9.46, -9.41, -9.33, -9.33, -9.33, -9.34, -9.37, -9.4, -9.51, -9.47, -9.48, -9.48, -9.48, -9.48, -9.41, -9.44, -9.44, -9.44, -9.4, -9.41, -9.42, -9.46, -9.43, -9.44, -9.48, -9.48, -9.48, -9.48, -9.48, -9.48, -9.48, -9.49, -9.49, -9.49, -9.49, -9.48, -9.49, -9.48, -9.48, -9.48, -9.48, -9.48, -9.48, -9.48, -9.48, -9.48, -9.48, -9.48, -9.48, -9.48, -9.48, -9.48, -9.48, -9.48, -9.48, -9.48, -9.48, -9.48, -9.48, -9.48, -9.48, -9.48, -9.48, -9.48, -9.48, -9.48, -9.48, -9.48, -9.48, -9.48, -9.48, -9.48, -9.48, -9.48, -9.48, -9.48, -9.48, -9.48, -9.48, -9.48, -9.48, -9.48, -9.48, -9.48, -9.48]\n",
            "[0.5289999842643738, 0.5770000219345093, 0.5690000057220459, 0.5879999995231628, 0.5479999780654907, 0.5690000057220459, 0.5799999833106995, 0.6000000238418579, 0.6100000143051147, 0.5659999847412109, 0.5839999914169312, 0.5580000281333923, 0.5830000042915344, 0.5920000076293945, 0.6100000143051147, 0.5879999995231628, 0.6019999980926514, 0.6019999980926514, 0.597000002861023, 0.593999981880188, 0.5979999899864197, 0.6129999756813049, 0.6119999885559082, 0.621999979019165, 0.6399999856948853, 0.6549999713897705, 0.6610000133514404, 0.6660000085830688, 0.6629999876022339, 0.6629999876022339, 0.6650000214576721, 0.6660000085830688, 0.671999990940094, 0.6880000233650208, 0.6959999799728394, 0.6880000233650208, 0.6690000295639038, 0.6570000052452087, 0.6809999942779541, 0.6570000052452087, 0.656000018119812, 0.652999997138977, 0.6650000214576721, 0.6589999794960022, 0.6669999957084656, 0.6729999780654907, 0.675000011920929, 0.6809999942779541, 0.6840000152587891, 0.6690000295639038, 0.6740000247955322, 0.6759999990463257, 0.6660000085830688, 0.6660000085830688, 0.6660000085830688, 0.6660000085830688, 0.6710000038146973, 0.6710000038146973, 0.6669999957084656, 0.6669999957084656, 0.6690000295639038, 0.6729999780654907, 0.6669999957084656, 0.6790000200271606, 0.6779999732971191, 0.675000011920929, 0.6819999814033508, 0.675000011920929, 0.6790000200271606, 0.6790000200271606, 0.6779999732971191, 0.675000011920929, 0.6690000295639038, 0.6729999780654907, 0.6660000085830688, 0.6650000214576721, 0.6700000166893005, 0.6639999747276306, 0.7089999914169312, 0.6769999861717224, 0.6639999747276306, 0.6740000247955322, 0.6660000085830688, 0.675000011920929, 0.6650000214576721, 0.699999988079071, 0.671999990940094, 0.6779999732971191, 0.7120000123977661, 0.7200000286102295, 0.7059999704360962, 0.7160000205039978, 0.718999981880188, 0.7250000238418579, 0.7239999771118164, 0.7310000061988831, 0.7250000238418579, 0.718999981880188, 0.7260000109672546, 0.7279999852180481, 0.722000002861023, 0.6840000152587891, 0.7200000286102295, 0.7129999995231628, 0.7279999852180481, 0.7350000143051147, 0.7310000061988831, 0.7300000190734863, 0.7269999980926514, 0.7149999737739563, 0.7210000157356262, 0.6859999895095825, 0.7080000042915344, 0.7120000123977661, 0.7300000190734863, 0.718999981880188, 0.7080000042915344, 0.7120000123977661, 0.7059999704360962, 0.7080000042915344, 0.7120000123977661, 0.722000002861023, 0.7459999918937683, 0.7400000095367432, 0.7450000047683716, 0.7409999966621399, 0.7379999756813049, 0.7419999837875366, 0.7250000238418579, 0.7250000238418579, 0.7300000190734863, 0.7360000014305115, 0.734000027179718, 0.7310000061988831, 0.7319999933242798, 0.7409999966621399, 0.7300000190734863, 0.7319999933242798, 0.7450000047683716, 0.7390000224113464, 0.7429999709129333, 0.7440000176429749, 0.7440000176429749, 0.7459999918937683, 0.7440000176429749, 0.7450000047683716, 0.7419999837875366, 0.7459999918937683, 0.7459999918937683, 0.7429999709129333, 0.7440000176429749, 0.7429999709129333, 0.7419999837875366, 0.7390000224113464, 0.7400000095367432, 0.7400000095367432, 0.7390000224113464, 0.7390000224113464, 0.7390000224113464, 0.7379999756813049, 0.7379999756813049, 0.7379999756813049, 0.7379999756813049, 0.7379999756813049, 0.7379999756813049, 0.7379999756813049, 0.7379999756813049, 0.7379999756813049, 0.7379999756813049, 0.7379999756813049, 0.7379999756813049, 0.7379999756813049, 0.7379999756813049, 0.7379999756813049, 0.7379999756813049, 0.7379999756813049, 0.7379999756813049, 0.7379999756813049, 0.7379999756813049, 0.7379999756813049, 0.7379999756813049, 0.7379999756813049, 0.7379999756813049, 0.7379999756813049, 0.7379999756813049, 0.7379999756813049, 0.7379999756813049, 0.7379999756813049, 0.7379999756813049, 0.7379999756813049, 0.7379999756813049, 0.7379999756813049, 0.7379999756813049, 0.7379999756813049, 0.7379999756813049, 0.7379999756813049, 0.7379999756813049, 0.7379999756813049, 0.7379999756813049]\n"
          ]
        },
        {
          "output_type": "display_data",
          "data": {
            "text/plain": [
              "<Figure size 1200x600 with 2 Axes>"
            ],
            "image/png": "[encoded data removed]"
          },
          "metadata": {}
        }
      ],
      "source": [
        "from logging import NullHandler\n",
        "import re\n",
        "import matplotlib.pyplot as plt\n",
        "\n",
        "# Initialize empty lists\n",
        "epochs = []\n",
        "valid_accuracies = []\n",
        "train_losses = []\n",
        "valid_losses = []\n",
        "separate_loss = []\n",
        "lang_loss = []\n",
        "\n",
        "# Read and parse the log file\n",
        "with open('/content/results/convtasnet/1234/train_log.txt', 'r') as file:\n",
        "  epoch_match = None\n",
        "  train_loss_match = None\n",
        "  valid_loss_match = None\n",
        "  acc_match = None\n",
        "  for line in file:\n",
        "      # Use regular expressions to extract values\n",
        "      if(epoch_match == None):\n",
        "        epoch_match = re.search(r'epoch: (\\d+)', line)\n",
        "      if(acc_match == None):\n",
        "        acc_match = re.search(r'valid Accuracy Partial: ([\\deE\\+\\-\\.]+)', line)\n",
        "      if(train_loss_match == None):\n",
        "        train_loss_match = re.search(r'train final_loss: ([\\deE\\+\\-\\.]+)', line)\n",
        "      if(valid_loss_match == None):\n",
        "        valid_loss_match = re.search(r'valid final_loss: ([\\deE\\+\\-\\.]+)', line)\n",
        "      # print(valid_loss_match)\n",
        "      # separate_loss_match = re.search(r'valid separate_loss: ([\\deE\\+\\-\\.]+)', line)\n",
        "      # lang_loss_match = re.search(r'valid lang_loss: ([\\deE\\+\\-\\.]+)', line)\n",
        "\n",
        "      if epoch_match and train_loss_match and valid_loss_match :\n",
        "          epochs.append(int(epoch_match.group(1)))\n",
        "          valid_accuracies.append(float(acc_match.group(1)))\n",
        "          train_losses.append(float(train_loss_match.group(1)))\n",
        "          valid_losses.append(float(valid_loss_match.group(1)))\n",
        "          epoch_match = None\n",
        "          train_loss_match = None\n",
        "          valid_loss_match = None\n",
        "\n",
        "          acc_match = None\n",
        "\n",
        "print(train_losses)\n",
        "print(valid_losses)\n",
        "print(valid_accuracies)\n",
        "# Plotting\n",
        "plt.figure(figsize=(12, 6))\n",
        "\n",
        "plt.subplot(1, 2, 1)\n",
        "plt.plot(epochs, valid_accuracies, marker='o', label='Valid Accuracy', color='green')\n",
        "plt.title(\"Epoch vs Valid Accuracy\")\n",
        "plt.xlabel(\"Epoch\")\n",
        "plt.ylabel(\"Accuracy\")\n",
        "plt.grid(True)\n",
        "plt.legend()\n",
        "\n",
        "plt.subplot(1, 2, 2)\n",
        "plt.plot(epochs, train_losses, marker='o', label='Train Loss', color='blue')\n",
        "plt.plot(epochs, valid_losses, marker='o', label='Valid Loss', color='orange')\n",
        "# plt.plot(epochs, separate_loss, marker='o', label='Separate Loss', color='red')\n",
        "# plt.plot(epochs, lang_loss, marker='o', label='Lang Loss', color='purple')\n",
        "plt.title(\"Epoch vs Final Losses\")\n",
        "plt.xlabel(\"Epoch\")\n",
        "plt.ylabel(\"Loss\")\n",
        "plt.grid(True)\n",
        "plt.legend()\n",
        "\n",
        "plt.tight_layout()\n",
        "plt.show()"
      ]
    },
    {
      "cell_type": "markdown",
      "metadata": {
        "id": "4EbZRnqoLHN2"
      },
      "source": [
        "Evaluate"
      ]
    },
    {
      "cell_type": "code",
      "execution_count": null,
      "metadata": {
        "id": "hqunrgl_LIii",
        "colab": {
          "base_uri": "https://localhost:8080/"
        },
        "outputId": "0b468783-b40f-4a50-e149-04b4ab3d2dfd"
      },
      "outputs": [
        {
          "output_type": "stream",
          "name": "stdout",
          "text": [
            "speechbrain.utils.checkpoints - Would load a checkpoint here, but none found yet.\n",
            "Delta lang loss = 0.2, Delta separate loss = 0.8\n"
          ]
        },
        {
          "output_type": "stream",
          "name": "stderr",
          "text": [
            "100%|██████████| 750/750 [00:53<00:00, 14.12it/s]"
          ]
        },
        {
          "output_type": "stream",
          "name": "stdout",
          "text": [
            "speechbrain.utils.train_logger - Epoch loaded: 200 - test final_loss: -9.32e+00, test Accuracy soft: 0.3648347556591034, test Accuracy Partial: 0.737333357334137\n"
          ]
        },
        {
          "output_type": "stream",
          "name": "stderr",
          "text": [
            "\n"
          ]
        },
        {
          "output_type": "execute_result",
          "data": {
            "text/plain": [
              "-9.31976790662607"
            ]
          },
          "metadata": {},
          "execution_count": 54
        }
      ],
      "source": [
        "# Eval\n",
        "separator.evaluate( test_data, min_key=\"si-snr\")"
      ]
    },
    {
      "cell_type": "code",
      "execution_count": null,
      "metadata": {
        "id": "T5DXWBB4nE47",
        "colab": {
          "base_uri": "https://localhost:8080/",
          "height": 339
        },
        "outputId": "e9506ffa-358a-4f4a-ceed-0c4ee2204590"
      },
      "outputs": [
        {
          "output_type": "stream",
          "name": "stderr",
          "text": [
            " 33%|███▎      | 249/750 [03:50<07:43,  1.08it/s]\n"
          ]
        },
        {
          "output_type": "error",
          "ename": "AttributeError",
          "evalue": "'PaddedData' object has no attribute 'squeeze'",
          "traceback": [
            "\u001b[0;31m---------------------------------------------------------------------------\u001b[0m",
            "\u001b[0;31mAttributeError\u001b[0m                            Traceback (most recent call last)",
            "\u001b[0;32m/tmp/ipython-input-55-3832458028.py\u001b[0m in \u001b[0;36m<cell line: 0>\u001b[0;34m()\u001b[0m\n\u001b[1;32m      1\u001b[0m \u001b[0;32mimport\u001b[0m \u001b[0mwarnings\u001b[0m\u001b[0;34m\u001b[0m\u001b[0;34m\u001b[0m\u001b[0m\n\u001b[1;32m      2\u001b[0m \u001b[0mwarnings\u001b[0m\u001b[0;34m.\u001b[0m\u001b[0mfilterwarnings\u001b[0m\u001b[0;34m(\u001b[0m\u001b[0;34m\"ignore\"\u001b[0m\u001b[0;34m,\u001b[0m \u001b[0mcategory\u001b[0m\u001b[0;34m=\u001b[0m\u001b[0mFutureWarning\u001b[0m\u001b[0;34m)\u001b[0m\u001b[0;34m\u001b[0m\u001b[0;34m\u001b[0m\u001b[0m\n\u001b[0;32m----> 3\u001b[0;31m \u001b[0mseparator\u001b[0m\u001b[0;34m.\u001b[0m\u001b[0msave_results\u001b[0m\u001b[0;34m(\u001b[0m\u001b[0mtest_data\u001b[0m\u001b[0;34m)\u001b[0m\u001b[0;34m\u001b[0m\u001b[0;34m\u001b[0m\u001b[0m\n\u001b[0m",
            "\u001b[0;32m/tmp/ipython-input-51-4198238745.py\u001b[0m in \u001b[0;36msave_results\u001b[0;34m(self, test_data)\u001b[0m\n\u001b[1;32m    414\u001b[0m \u001b[0;34m\u001b[0m\u001b[0m\n\u001b[1;32m    415\u001b[0m             \u001b[0;32mwith\u001b[0m \u001b[0mtorch\u001b[0m\u001b[0;34m.\u001b[0m\u001b[0mno_grad\u001b[0m\u001b[0;34m(\u001b[0m\u001b[0;34m)\u001b[0m\u001b[0;34m:\u001b[0m\u001b[0;34m\u001b[0m\u001b[0;34m\u001b[0m\u001b[0m\n\u001b[0;32m--> 416\u001b[0;31m               predictions, targets, lang_id, lens, pred_lang_id, embeddings = self.compute_forward(\n\u001b[0m\u001b[1;32m    417\u001b[0m                   \u001b[0mbatch\u001b[0m\u001b[0;34m.\u001b[0m\u001b[0mmix_sig\u001b[0m\u001b[0;34m,\u001b[0m \u001b[0mtargets\u001b[0m\u001b[0;34m,\u001b[0m \u001b[0mlang_id\u001b[0m\u001b[0;34m,\u001b[0m  \u001b[0msb\u001b[0m\u001b[0;34m.\u001b[0m\u001b[0mStage\u001b[0m\u001b[0;34m.\u001b[0m\u001b[0mTEST\u001b[0m\u001b[0;34m\u001b[0m\u001b[0;34m\u001b[0m\u001b[0m\n\u001b[1;32m    418\u001b[0m               )\n",
            "\u001b[0;32m/tmp/ipython-input-51-4198238745.py\u001b[0m in \u001b[0;36mcompute_forward\u001b[0;34m(self, mix, targets, lang_id, stage)\u001b[0m\n\u001b[1;32m    112\u001b[0m     \u001b[0;32mif\u001b[0m \u001b[0mself\u001b[0m\u001b[0;34m.\u001b[0m\u001b[0muttid\u001b[0m\u001b[0;34m[\u001b[0m\u001b[0;36m0\u001b[0m\u001b[0;34m]\u001b[0m \u001b[0;34m%\u001b[0m \u001b[0;36m1000\u001b[0m \u001b[0;34m==\u001b[0m \u001b[0;36m0\u001b[0m\u001b[0;34m:\u001b[0m\u001b[0;34m\u001b[0m\u001b[0;34m\u001b[0m\u001b[0m\n\u001b[1;32m    113\u001b[0m       \u001b[0mprobs\u001b[0m \u001b[0;34m=\u001b[0m \u001b[0mtorch\u001b[0m\u001b[0;34m.\u001b[0m\u001b[0msigmoid\u001b[0m\u001b[0;34m(\u001b[0m\u001b[0mpred_lang_id\u001b[0m\u001b[0;34m)\u001b[0m  \u001b[0;31m# limit how often you dump\u001b[0m\u001b[0;34m\u001b[0m\u001b[0;34m\u001b[0m\u001b[0m\n\u001b[0;32m--> 114\u001b[0;31m       \u001b[0mtarget_lang\u001b[0m \u001b[0;34m=\u001b[0m \u001b[0mlang_id\u001b[0m\u001b[0;34m.\u001b[0m\u001b[0msqueeze\u001b[0m\u001b[0;34m(\u001b[0m\u001b[0;36m0\u001b[0m\u001b[0;34m)\u001b[0m\u001b[0;34m\u001b[0m\u001b[0;34m\u001b[0m\u001b[0m\n\u001b[0m\u001b[1;32m    115\u001b[0m       \u001b[0mpred_lang\u001b[0m \u001b[0;34m=\u001b[0m \u001b[0mtorch\u001b[0m\u001b[0;34m.\u001b[0m\u001b[0margmax\u001b[0m\u001b[0;34m(\u001b[0m\u001b[0mprobs\u001b[0m\u001b[0;34m,\u001b[0m \u001b[0mdim\u001b[0m \u001b[0;34m=\u001b[0m \u001b[0;34m-\u001b[0m\u001b[0;36m1\u001b[0m\u001b[0;34m)\u001b[0m\u001b[0;34m\u001b[0m\u001b[0;34m\u001b[0m\u001b[0m\n\u001b[1;32m    116\u001b[0m       \u001b[0;32mfor\u001b[0m \u001b[0mspk_idx\u001b[0m \u001b[0;32min\u001b[0m \u001b[0mrange\u001b[0m\u001b[0;34m(\u001b[0m\u001b[0;36m2\u001b[0m\u001b[0;34m)\u001b[0m\u001b[0;34m:\u001b[0m\u001b[0;34m\u001b[0m\u001b[0;34m\u001b[0m\u001b[0m\n",
            "\u001b[0;31mAttributeError\u001b[0m: 'PaddedData' object has no attribute 'squeeze'"
          ]
        }
      ],
      "source": [
        "import warnings\n",
        "warnings.filterwarnings(\"ignore\", category=FutureWarning)\n",
        "separator.save_results(test_data)"
      ]
    },
    {
      "cell_type": "markdown",
      "metadata": {
        "id": "Rhv8AFvfH3GF"
      },
      "source": [
        "End Run"
      ]
    },
    {
      "cell_type": "code",
      "execution_count": null,
      "metadata": {
        "id": "3Dotxyi4D42F"
      },
      "outputs": [],
      "source": [
        "!rm -rf /content/results\n",
        "# !cp -r /content/results /content/drive/MyDrive/Project/\n",
        "# !cp -r /content/hparams/conVasNet.yml /content/drive/MyDrive/Project/results/"
      ]
    },
    {
      "cell_type": "code",
      "execution_count": null,
      "metadata": {
        "id": "dLCcz960OCEr"
      },
      "outputs": [],
      "source": [
        "from google.colab import runtime\n",
        "runtime.unassign()"
      ]
    },
    {
      "cell_type": "code",
      "execution_count": null,
      "metadata": {
        "id": "E9iOhxM7dHxb"
      },
      "outputs": [],
      "source": [
        "!cp /content/hparams/conVasNet_p.yml /content/drive/MyDrive/Project"
      ]
    },
    {
      "cell_type": "code",
      "execution_count": null,
      "metadata": {
        "id": "5MrEwuI_u-11"
      },
      "outputs": [],
      "source": [
        "# import torch\n",
        "# import torch.nn as nn\n",
        "# # from speechbrain.nnet.losses import PitWrapper\n",
        "# # pit_bceeee = PitWrapper(nn.NLLLoss(reduction ='none'))\n",
        "# loss_1 = nn.CrossEntropyLoss(reduction = 'none')\n",
        "# loss_2 = nn.CrossEntropyLoss(reduction='mean')\n",
        "# n = 0\n",
        "# while n!=100:\n",
        "#   input = torch.randn(1,2, 16, requires_grad=True)\n",
        "#   target = torch.empty(1,2,16, dtype=torch.long).random_(1)\n",
        "#   target[0][1][5] = 1\n",
        "#   target[0][0][8] = 1\n",
        "#   input = input.squeeze(0)\n",
        "#   target = target.squeeze(0)\n",
        "#   targets = (target == 1).nonzero(as_tuple=False)\n",
        "#   input_first, input_second = torch.chunk(input, chunks = 2, dim=0)\n",
        "#   target_first, target_second = torch.chunk(targets, chunks = 2, dim=0)\n",
        "#   target_first = target_first.squeeze(0)[1:]\n",
        "#   target_second = target_second.squeeze(0)[1:]\n",
        "#   # print(type(input_first),target_first,target_second)\n",
        "#   lang_loss = 0.5*torch.min(torch.stack([(loss_1(input_first,target_first)+loss_1(input_second,target_second)), (loss_1(input_first,target_second)+loss_1(input_second,target_first))]))\n",
        "#   # print(lang_loss)\n",
        "#   target_2 = target.argmax(dim = 1)\n",
        "#   # print(input,target_2,target_2.flip(0))\n",
        "#   lang_loss_2 = torch.min(torch.stack([loss_2(input,target_2),loss_2(input,target_2.flip(0))]))\n",
        "#   # print(lang_loss_2)\n",
        "#   if(lang_loss != lang_loss_2):\n",
        "#     print(f\"Different for {input}\")\n",
        "#   n = n +1"
      ]
    }
  ],
  "metadata": {
    "accelerator": "GPU",
    "colab": {
      "gpuType": "A100",
      "machine_shape": "hm",
      "provenance": []
    },
    "kernelspec": {
      "display_name": "Python 3",
      "name": "python3"
    },
    "language_info": {
      "name": "python"
    }
  },
  "nbformat": 4,
  "nbformat_minor": 0
}