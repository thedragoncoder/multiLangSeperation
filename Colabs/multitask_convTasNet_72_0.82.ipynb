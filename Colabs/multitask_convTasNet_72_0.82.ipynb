{
  "cells": [
    {
      "cell_type": "markdown",
      "metadata": {
        "id": "WLvCxOrrKzgy"
      },
      "source": [
        "Install Libraries"
      ]
    },
    {
      "cell_type": "code",
      "execution_count": null,
      "metadata": {
        "colab": {
          "base_uri": "https://localhost:8080/"
        },
        "id": "L7Gy-iEXDU0W",
        "outputId": "13693080-eef1-4a71-cdef-aa7e732493b2"
      },
      "outputs": [
        {
          "name": "stdout",
          "output_type": "stream",
          "text": [
            "Collecting speechbrain\n",
            "  Downloading speechbrain-1.0.3-py3-none-any.whl.metadata (24 kB)\n",
            "Collecting hyperpyyaml (from speechbrain)\n",
            "  Downloading HyperPyYAML-1.2.2-py3-none-any.whl.metadata (7.6 kB)\n",
            "Requirement already satisfied: joblib in /usr/local/lib/python3.11/dist-packages (from speechbrain) (1.5.1)\n",
            "Requirement already satisfied: numpy in /usr/local/lib/python3.11/dist-packages (from speechbrain) (2.0.2)\n",
            "Requirement already satisfied: packaging in /usr/local/lib/python3.11/dist-packages (from speechbrain) (25.0)\n",
            "Requirement already satisfied: scipy in /usr/local/lib/python3.11/dist-packages (from speechbrain) (1.16.0)\n",
            "Requirement already satisfied: sentencepiece in /usr/local/lib/python3.11/dist-packages (from speechbrain) (0.2.0)\n",
            "Requirement already satisfied: torch>=1.9 in /usr/local/lib/python3.11/dist-packages (from speechbrain) (2.6.0+cu124)\n",
            "Requirement already satisfied: torchaudio in /usr/local/lib/python3.11/dist-packages (from speechbrain) (2.6.0+cu124)\n",
            "Requirement already satisfied: tqdm in /usr/local/lib/python3.11/dist-packages (from speechbrain) (4.67.1)\n",
            "Requirement already satisfied: huggingface_hub in /usr/local/lib/python3.11/dist-packages (from speechbrain) (0.34.1)\n",
            "Requirement already satisfied: filelock in /usr/local/lib/python3.11/dist-packages (from torch>=1.9->speechbrain) (3.18.0)\n",
            "Requirement already satisfied: typing-extensions>=4.10.0 in /usr/local/lib/python3.11/dist-packages (from torch>=1.9->speechbrain) (4.14.1)\n",
            "Requirement already satisfied: networkx in /usr/local/lib/python3.11/dist-packages (from torch>=1.9->speechbrain) (3.5)\n",
            "Requirement already satisfied: jinja2 in /usr/local/lib/python3.11/dist-packages (from torch>=1.9->speechbrain) (3.1.6)\n",
            "Requirement already satisfied: fsspec in /usr/local/lib/python3.11/dist-packages (from torch>=1.9->speechbrain) (2025.3.0)\n",
            "Collecting nvidia-cuda-nvrtc-cu12==12.4.127 (from torch>=1.9->speechbrain)\n",
            "  Downloading nvidia_cuda_nvrtc_cu12-12.4.127-py3-none-manylinux2014_x86_64.whl.metadata (1.5 kB)\n",
            "Collecting nvidia-cuda-runtime-cu12==12.4.127 (from torch>=1.9->speechbrain)\n",
            "  Downloading nvidia_cuda_runtime_cu12-12.4.127-py3-none-manylinux2014_x86_64.whl.metadata (1.5 kB)\n",
            "Collecting nvidia-cuda-cupti-cu12==12.4.127 (from torch>=1.9->speechbrain)\n",
            "  Downloading nvidia_cuda_cupti_cu12-12.4.127-py3-none-manylinux2014_x86_64.whl.metadata (1.6 kB)\n",
            "Collecting nvidia-cudnn-cu12==9.1.0.70 (from torch>=1.9->speechbrain)\n",
            "  Downloading nvidia_cudnn_cu12-9.1.0.70-py3-none-manylinux2014_x86_64.whl.metadata (1.6 kB)\n",
            "Collecting nvidia-cublas-cu12==12.4.5.8 (from torch>=1.9->speechbrain)\n",
            "  Downloading nvidia_cublas_cu12-12.4.5.8-py3-none-manylinux2014_x86_64.whl.metadata (1.5 kB)\n",
            "Collecting nvidia-cufft-cu12==11.2.1.3 (from torch>=1.9->speechbrain)\n",
            "  Downloading nvidia_cufft_cu12-11.2.1.3-py3-none-manylinux2014_x86_64.whl.metadata (1.5 kB)\n",
            "Collecting nvidia-curand-cu12==10.3.5.147 (from torch>=1.9->speechbrain)\n",
            "  Downloading nvidia_curand_cu12-10.3.5.147-py3-none-manylinux2014_x86_64.whl.metadata (1.5 kB)\n",
            "Collecting nvidia-cusolver-cu12==11.6.1.9 (from torch>=1.9->speechbrain)\n",
            "  Downloading nvidia_cusolver_cu12-11.6.1.9-py3-none-manylinux2014_x86_64.whl.metadata (1.6 kB)\n",
            "Collecting nvidia-cusparse-cu12==12.3.1.170 (from torch>=1.9->speechbrain)\n",
            "  Downloading nvidia_cusparse_cu12-12.3.1.170-py3-none-manylinux2014_x86_64.whl.metadata (1.6 kB)\n",
            "Requirement already satisfied: nvidia-cusparselt-cu12==0.6.2 in /usr/local/lib/python3.11/dist-packages (from torch>=1.9->speechbrain) (0.6.2)\n",
            "Requirement already satisfied: nvidia-nccl-cu12==2.21.5 in /usr/local/lib/python3.11/dist-packages (from torch>=1.9->speechbrain) (2.21.5)\n",
            "Requirement already satisfied: nvidia-nvtx-cu12==12.4.127 in /usr/local/lib/python3.11/dist-packages (from torch>=1.9->speechbrain) (12.4.127)\n",
            "Collecting nvidia-nvjitlink-cu12==12.4.127 (from torch>=1.9->speechbrain)\n",
            "  Downloading nvidia_nvjitlink_cu12-12.4.127-py3-none-manylinux2014_x86_64.whl.metadata (1.5 kB)\n",
            "Requirement already satisfied: triton==3.2.0 in /usr/local/lib/python3.11/dist-packages (from torch>=1.9->speechbrain) (3.2.0)\n",
            "Requirement already satisfied: sympy==1.13.1 in /usr/local/lib/python3.11/dist-packages (from torch>=1.9->speechbrain) (1.13.1)\n",
            "Requirement already satisfied: mpmath<1.4,>=1.1.0 in /usr/local/lib/python3.11/dist-packages (from sympy==1.13.1->torch>=1.9->speechbrain) (1.3.0)\n",
            "Requirement already satisfied: pyyaml>=5.1 in /usr/local/lib/python3.11/dist-packages (from huggingface_hub->speechbrain) (6.0.2)\n",
            "Requirement already satisfied: requests in /usr/local/lib/python3.11/dist-packages (from huggingface_hub->speechbrain) (2.32.3)\n",
            "Requirement already satisfied: hf-xet<2.0.0,>=1.1.3 in /usr/local/lib/python3.11/dist-packages (from huggingface_hub->speechbrain) (1.1.5)\n",
            "Collecting ruamel.yaml>=0.17.28 (from hyperpyyaml->speechbrain)\n",
            "  Downloading ruamel.yaml-0.18.14-py3-none-any.whl.metadata (24 kB)\n",
            "Collecting ruamel.yaml.clib>=0.2.7 (from ruamel.yaml>=0.17.28->hyperpyyaml->speechbrain)\n",
            "  Downloading ruamel.yaml.clib-0.2.12-cp311-cp311-manylinux_2_17_x86_64.manylinux2014_x86_64.whl.metadata (2.7 kB)\n",
            "Requirement already satisfied: MarkupSafe>=2.0 in /usr/local/lib/python3.11/dist-packages (from jinja2->torch>=1.9->speechbrain) (3.0.2)\n",
            "Requirement already satisfied: charset-normalizer<4,>=2 in /usr/local/lib/python3.11/dist-packages (from requests->huggingface_hub->speechbrain) (3.4.2)\n",
            "Requirement already satisfied: idna<4,>=2.5 in /usr/local/lib/python3.11/dist-packages (from requests->huggingface_hub->speechbrain) (3.10)\n",
            "Requirement already satisfied: urllib3<3,>=1.21.1 in /usr/local/lib/python3.11/dist-packages (from requests->huggingface_hub->speechbrain) (2.5.0)\n",
            "Requirement already satisfied: certifi>=2017.4.17 in /usr/local/lib/python3.11/dist-packages (from requests->huggingface_hub->speechbrain) (2025.7.14)\n",
            "Downloading speechbrain-1.0.3-py3-none-any.whl (864 kB)\n",
            "\u001b[2K   \u001b[90m━━━━━━━━━━━━━━━━━━━━━━━━━━━━━━━━━━━━━━━━\u001b[0m \u001b[32m864.1/864.1 kB\u001b[0m \u001b[31m49.2 MB/s\u001b[0m eta \u001b[36m0:00:00\u001b[0m\n",
            "\u001b[?25hDownloading nvidia_cublas_cu12-12.4.5.8-py3-none-manylinux2014_x86_64.whl (363.4 MB)\n",
            "\u001b[2K   \u001b[90m━━━━━━━━━━━━━━━━━━━━━━━━━━━━━━━━━━━━━━━━\u001b[0m \u001b[32m363.4/363.4 MB\u001b[0m \u001b[31m2.9 MB/s\u001b[0m eta \u001b[36m0:00:00\u001b[0m\n",
            "\u001b[?25hDownloading nvidia_cuda_cupti_cu12-12.4.127-py3-none-manylinux2014_x86_64.whl (13.8 MB)\n",
            "\u001b[2K   \u001b[90m━━━━━━━━━━━━━━━━━━━━━━━━━━━━━━━━━━━━━━━━\u001b[0m \u001b[32m13.8/13.8 MB\u001b[0m \u001b[31m123.8 MB/s\u001b[0m eta \u001b[36m0:00:00\u001b[0m\n",
            "\u001b[?25hDownloading nvidia_cuda_nvrtc_cu12-12.4.127-py3-none-manylinux2014_x86_64.whl (24.6 MB)\n",
            "\u001b[2K   \u001b[90m━━━━━━━━━━━━━━━━━━━━━━━━━━━━━━━━━━━━━━━━\u001b[0m \u001b[32m24.6/24.6 MB\u001b[0m \u001b[31m98.5 MB/s\u001b[0m eta \u001b[36m0:00:00\u001b[0m\n",
            "\u001b[?25hDownloading nvidia_cuda_runtime_cu12-12.4.127-py3-none-manylinux2014_x86_64.whl (883 kB)\n",
            "\u001b[2K   \u001b[90m━━━━━━━━━━━━━━━━━━━━━━━━━━━━━━━━━━━━━━━━\u001b[0m \u001b[32m883.7/883.7 kB\u001b[0m \u001b[31m50.6 MB/s\u001b[0m eta \u001b[36m0:00:00\u001b[0m\n",
            "\u001b[?25hDownloading nvidia_cudnn_cu12-9.1.0.70-py3-none-manylinux2014_x86_64.whl (664.8 MB)\n",
            "\u001b[2K   \u001b[90m━━━━━━━━━━━━━━━━━━━━━━━━━━━━━━━━━━━━━━━━\u001b[0m \u001b[32m664.8/664.8 MB\u001b[0m \u001b[31m1.7 MB/s\u001b[0m eta \u001b[36m0:00:00\u001b[0m\n",
            "\u001b[?25hDownloading nvidia_cufft_cu12-11.2.1.3-py3-none-manylinux2014_x86_64.whl (211.5 MB)\n",
            "\u001b[2K   \u001b[90m━━━━━━━━━━━━━━━━━━━━━━━━━━━━━━━━━━━━━━━━\u001b[0m \u001b[32m211.5/211.5 MB\u001b[0m \u001b[31m11.5 MB/s\u001b[0m eta \u001b[36m0:00:00\u001b[0m\n",
            "\u001b[?25hDownloading nvidia_curand_cu12-10.3.5.147-py3-none-manylinux2014_x86_64.whl (56.3 MB)\n",
            "\u001b[2K   \u001b[90m━━━━━━━━━━━━━━━━━━━━━━━━━━━━━━━━━━━━━━━━\u001b[0m \u001b[32m56.3/56.3 MB\u001b[0m \u001b[31m44.1 MB/s\u001b[0m eta \u001b[36m0:00:00\u001b[0m\n",
            "\u001b[?25hDownloading nvidia_cusolver_cu12-11.6.1.9-py3-none-manylinux2014_x86_64.whl (127.9 MB)\n",
            "\u001b[2K   \u001b[90m━━━━━━━━━━━━━━━━━━━━━━━━━━━━━━━━━━━━━━━━\u001b[0m \u001b[32m127.9/127.9 MB\u001b[0m \u001b[31m20.2 MB/s\u001b[0m eta \u001b[36m0:00:00\u001b[0m\n",
            "\u001b[?25hDownloading nvidia_cusparse_cu12-12.3.1.170-py3-none-manylinux2014_x86_64.whl (207.5 MB)\n",
            "\u001b[2K   \u001b[90m━━━━━━━━━━━━━━━━━━━━━━━━━━━━━━━━━━━━━━━━\u001b[0m \u001b[32m207.5/207.5 MB\u001b[0m \u001b[31m4.9 MB/s\u001b[0m eta \u001b[36m0:00:00\u001b[0m\n",
            "\u001b[?25hDownloading nvidia_nvjitlink_cu12-12.4.127-py3-none-manylinux2014_x86_64.whl (21.1 MB)\n",
            "\u001b[2K   \u001b[90m━━━━━━━━━━━━━━━━━━━━━━━━━━━━━━━━━━━━━━━━\u001b[0m \u001b[32m21.1/21.1 MB\u001b[0m \u001b[31m104.8 MB/s\u001b[0m eta \u001b[36m0:00:00\u001b[0m\n",
            "\u001b[?25hDownloading HyperPyYAML-1.2.2-py3-none-any.whl (16 kB)\n",
            "Downloading ruamel.yaml-0.18.14-py3-none-any.whl (118 kB)\n",
            "\u001b[2K   \u001b[90m━━━━━━━━━━━━━━━━━━━━━━━━━━━━━━━━━━━━━━━━\u001b[0m \u001b[32m118.6/118.6 kB\u001b[0m \u001b[31m8.8 MB/s\u001b[0m eta \u001b[36m0:00:00\u001b[0m\n",
            "\u001b[?25hDownloading ruamel.yaml.clib-0.2.12-cp311-cp311-manylinux_2_17_x86_64.manylinux2014_x86_64.whl (739 kB)\n",
            "\u001b[2K   \u001b[90m━━━━━━━━━━━━━━━━━━━━━━━━━━━━━━━━━━━━━━━━\u001b[0m \u001b[32m739.1/739.1 kB\u001b[0m \u001b[31m38.4 MB/s\u001b[0m eta \u001b[36m0:00:00\u001b[0m\n",
            "\u001b[?25hInstalling collected packages: ruamel.yaml.clib, nvidia-nvjitlink-cu12, nvidia-curand-cu12, nvidia-cufft-cu12, nvidia-cuda-runtime-cu12, nvidia-cuda-nvrtc-cu12, nvidia-cuda-cupti-cu12, nvidia-cublas-cu12, ruamel.yaml, nvidia-cusparse-cu12, nvidia-cudnn-cu12, nvidia-cusolver-cu12, hyperpyyaml, speechbrain\n",
            "  Attempting uninstall: nvidia-nvjitlink-cu12\n",
            "    Found existing installation: nvidia-nvjitlink-cu12 12.5.82\n",
            "    Uninstalling nvidia-nvjitlink-cu12-12.5.82:\n",
            "      Successfully uninstalled nvidia-nvjitlink-cu12-12.5.82\n",
            "  Attempting uninstall: nvidia-curand-cu12\n",
            "    Found existing installation: nvidia-curand-cu12 10.3.6.82\n",
            "    Uninstalling nvidia-curand-cu12-10.3.6.82:\n",
            "      Successfully uninstalled nvidia-curand-cu12-10.3.6.82\n",
            "  Attempting uninstall: nvidia-cufft-cu12\n",
            "    Found existing installation: nvidia-cufft-cu12 11.2.3.61\n",
            "    Uninstalling nvidia-cufft-cu12-11.2.3.61:\n",
            "      Successfully uninstalled nvidia-cufft-cu12-11.2.3.61\n",
            "  Attempting uninstall: nvidia-cuda-runtime-cu12\n",
            "    Found existing installation: nvidia-cuda-runtime-cu12 12.5.82\n",
            "    Uninstalling nvidia-cuda-runtime-cu12-12.5.82:\n",
            "      Successfully uninstalled nvidia-cuda-runtime-cu12-12.5.82\n",
            "  Attempting uninstall: nvidia-cuda-nvrtc-cu12\n",
            "    Found existing installation: nvidia-cuda-nvrtc-cu12 12.5.82\n",
            "    Uninstalling nvidia-cuda-nvrtc-cu12-12.5.82:\n",
            "      Successfully uninstalled nvidia-cuda-nvrtc-cu12-12.5.82\n",
            "  Attempting uninstall: nvidia-cuda-cupti-cu12\n",
            "    Found existing installation: nvidia-cuda-cupti-cu12 12.5.82\n",
            "    Uninstalling nvidia-cuda-cupti-cu12-12.5.82:\n",
            "      Successfully uninstalled nvidia-cuda-cupti-cu12-12.5.82\n",
            "  Attempting uninstall: nvidia-cublas-cu12\n",
            "    Found existing installation: nvidia-cublas-cu12 12.5.3.2\n",
            "    Uninstalling nvidia-cublas-cu12-12.5.3.2:\n",
            "      Successfully uninstalled nvidia-cublas-cu12-12.5.3.2\n",
            "  Attempting uninstall: nvidia-cusparse-cu12\n",
            "    Found existing installation: nvidia-cusparse-cu12 12.5.1.3\n",
            "    Uninstalling nvidia-cusparse-cu12-12.5.1.3:\n",
            "      Successfully uninstalled nvidia-cusparse-cu12-12.5.1.3\n",
            "  Attempting uninstall: nvidia-cudnn-cu12\n",
            "    Found existing installation: nvidia-cudnn-cu12 9.3.0.75\n",
            "    Uninstalling nvidia-cudnn-cu12-9.3.0.75:\n",
            "      Successfully uninstalled nvidia-cudnn-cu12-9.3.0.75\n",
            "  Attempting uninstall: nvidia-cusolver-cu12\n",
            "    Found existing installation: nvidia-cusolver-cu12 11.6.3.83\n",
            "    Uninstalling nvidia-cusolver-cu12-11.6.3.83:\n",
            "      Successfully uninstalled nvidia-cusolver-cu12-11.6.3.83\n",
            "Successfully installed hyperpyyaml-1.2.2 nvidia-cublas-cu12-12.4.5.8 nvidia-cuda-cupti-cu12-12.4.127 nvidia-cuda-nvrtc-cu12-12.4.127 nvidia-cuda-runtime-cu12-12.4.127 nvidia-cudnn-cu12-9.1.0.70 nvidia-cufft-cu12-11.2.1.3 nvidia-curand-cu12-10.3.5.147 nvidia-cusolver-cu12-11.6.1.9 nvidia-cusparse-cu12-12.3.1.170 nvidia-nvjitlink-cu12-12.4.127 ruamel.yaml-0.18.14 ruamel.yaml.clib-0.2.12 speechbrain-1.0.3\n",
            "Collecting mir_eval\n",
            "  Downloading mir_eval-0.8.2-py3-none-any.whl.metadata (3.0 kB)\n",
            "Requirement already satisfied: numpy>=1.15.4 in /usr/local/lib/python3.11/dist-packages (from mir_eval) (2.0.2)\n",
            "Requirement already satisfied: scipy>=1.4.0 in /usr/local/lib/python3.11/dist-packages (from mir_eval) (1.16.0)\n",
            "Requirement already satisfied: decorator in /usr/local/lib/python3.11/dist-packages (from mir_eval) (4.4.2)\n",
            "Downloading mir_eval-0.8.2-py3-none-any.whl (102 kB)\n",
            "\u001b[2K   \u001b[90m━━━━━━━━━━━━━━━━━━━━━━━━━━━━━━━━━━━━━━━━\u001b[0m \u001b[32m102.8/102.8 kB\u001b[0m \u001b[31m8.5 MB/s\u001b[0m eta \u001b[36m0:00:00\u001b[0m\n",
            "\u001b[?25hInstalling collected packages: mir_eval\n",
            "Successfully installed mir_eval-0.8.2\n",
            "Collecting asteroid\n",
            "  Downloading asteroid-0.7.0-py3-none-any.whl.metadata (11 kB)\n",
            "Requirement already satisfied: numpy>=1.16.4 in /usr/local/lib/python3.11/dist-packages (from asteroid) (2.0.2)\n",
            "Requirement already satisfied: scipy>=1.10.1 in /usr/local/lib/python3.11/dist-packages (from asteroid) (1.16.0)\n",
            "Requirement already satisfied: torch>=2.0.0 in /usr/local/lib/python3.11/dist-packages (from asteroid) (2.6.0+cu124)\n",
            "Collecting asteroid-filterbanks>=0.4.0 (from asteroid)\n",
            "  Downloading asteroid_filterbanks-0.4.0-py3-none-any.whl.metadata (3.3 kB)\n",
            "Requirement already satisfied: SoundFile>=0.10.2 in /usr/local/lib/python3.11/dist-packages (from asteroid) (0.13.1)\n",
            "Requirement already satisfied: huggingface-hub>=0.0.2 in /usr/local/lib/python3.11/dist-packages (from asteroid) (0.34.1)\n",
            "Requirement already satisfied: PyYAML>=5.0 in /usr/local/lib/python3.11/dist-packages (from asteroid) (6.0.2)\n",
            "Requirement already satisfied: pandas>=0.23.4 in /usr/local/lib/python3.11/dist-packages (from asteroid) (2.2.2)\n",
            "Collecting pytorch-lightning>=2.0.0 (from asteroid)\n",
            "  Downloading pytorch_lightning-2.5.2-py3-none-any.whl.metadata (21 kB)\n",
            "Collecting torchmetrics<=0.11.4 (from asteroid)\n",
            "  Downloading torchmetrics-0.11.4-py3-none-any.whl.metadata (15 kB)\n",
            "Requirement already satisfied: torchaudio>=0.5.0 in /usr/local/lib/python3.11/dist-packages (from asteroid) (2.6.0+cu124)\n",
            "Collecting pb-bss-eval>=0.0.2 (from asteroid)\n",
            "  Downloading pb_bss_eval-0.0.2-py3-none-any.whl.metadata (3.1 kB)\n",
            "Collecting torch-stoi>=0.1.2 (from asteroid)\n",
            "  Downloading torch_stoi-0.2.3-py3-none-any.whl.metadata (3.6 kB)\n",
            "Collecting torch-optimizer<0.2.0,>=0.0.1a12 (from asteroid)\n",
            "  Downloading torch_optimizer-0.1.0-py3-none-any.whl.metadata (53 kB)\n",
            "\u001b[2K     \u001b[90m━━━━━━━━━━━━━━━━━━━━━━━━━━━━━━━━━━━━━━━━\u001b[0m \u001b[32m53.5/53.5 kB\u001b[0m \u001b[31m6.0 MB/s\u001b[0m eta \u001b[36m0:00:00\u001b[0m\n",
            "\u001b[?25hCollecting julius (from asteroid)\n",
            "  Downloading julius-0.2.7.tar.gz (59 kB)\n",
            "\u001b[2K     \u001b[90m━━━━━━━━━━━━━━━━━━━━━━━━━━━━━━━━━━━━━━━━\u001b[0m \u001b[32m59.6/59.6 kB\u001b[0m \u001b[31m4.7 MB/s\u001b[0m eta \u001b[36m0:00:00\u001b[0m\n",
            "\u001b[?25h  Preparing metadata (setup.py) ... \u001b[?25l\u001b[?25hdone\n",
            "Requirement already satisfied: typing-extensions in /usr/local/lib/python3.11/dist-packages (from asteroid-filterbanks>=0.4.0->asteroid) (4.14.1)\n",
            "Requirement already satisfied: filelock in /usr/local/lib/python3.11/dist-packages (from huggingface-hub>=0.0.2->asteroid) (3.18.0)\n",
            "Requirement already satisfied: fsspec>=2023.5.0 in /usr/local/lib/python3.11/dist-packages (from huggingface-hub>=0.0.2->asteroid) (2025.3.0)\n",
            "Requirement already satisfied: packaging>=20.9 in /usr/local/lib/python3.11/dist-packages (from huggingface-hub>=0.0.2->asteroid) (25.0)\n",
            "Requirement already satisfied: requests in /usr/local/lib/python3.11/dist-packages (from huggingface-hub>=0.0.2->asteroid) (2.32.3)\n",
            "Requirement already satisfied: tqdm>=4.42.1 in /usr/local/lib/python3.11/dist-packages (from huggingface-hub>=0.0.2->asteroid) (4.67.1)\n",
            "Requirement already satisfied: hf-xet<2.0.0,>=1.1.3 in /usr/local/lib/python3.11/dist-packages (from huggingface-hub>=0.0.2->asteroid) (1.1.5)\n",
            "Requirement already satisfied: python-dateutil>=2.8.2 in /usr/local/lib/python3.11/dist-packages (from pandas>=0.23.4->asteroid) (2.9.0.post0)\n",
            "Requirement already satisfied: pytz>=2020.1 in /usr/local/lib/python3.11/dist-packages (from pandas>=0.23.4->asteroid) (2025.2)\n",
            "Requirement already satisfied: tzdata>=2022.7 in /usr/local/lib/python3.11/dist-packages (from pandas>=0.23.4->asteroid) (2025.2)\n",
            "Collecting cached-property (from pb-bss-eval>=0.0.2->asteroid)\n",
            "  Downloading cached_property-2.0.1-py3-none-any.whl.metadata (10 kB)\n",
            "Requirement already satisfied: einops in /usr/local/lib/python3.11/dist-packages (from pb-bss-eval>=0.0.2->asteroid) (0.8.1)\n",
            "Collecting pystoi (from pb-bss-eval>=0.0.2->asteroid)\n",
            "  Downloading pystoi-0.4.1-py2.py3-none-any.whl.metadata (4.0 kB)\n",
            "Requirement already satisfied: mir-eval in /usr/local/lib/python3.11/dist-packages (from pb-bss-eval>=0.0.2->asteroid) (0.8.2)\n",
            "Collecting pesq (from pb-bss-eval>=0.0.2->asteroid)\n",
            "  Downloading pesq-0.0.4.tar.gz (38 kB)\n",
            "  Preparing metadata (setup.py) ... \u001b[?25l\u001b[?25hdone\n",
            "Collecting lightning-utilities>=0.10.0 (from pytorch-lightning>=2.0.0->asteroid)\n",
            "  Downloading lightning_utilities-0.15.0-py3-none-any.whl.metadata (5.7 kB)\n",
            "Requirement already satisfied: cffi>=1.0 in /usr/local/lib/python3.11/dist-packages (from SoundFile>=0.10.2->asteroid) (1.17.1)\n",
            "Requirement already satisfied: networkx in /usr/local/lib/python3.11/dist-packages (from torch>=2.0.0->asteroid) (3.5)\n",
            "Requirement already satisfied: jinja2 in /usr/local/lib/python3.11/dist-packages (from torch>=2.0.0->asteroid) (3.1.6)\n",
            "Requirement already satisfied: nvidia-cuda-nvrtc-cu12==12.4.127 in /usr/local/lib/python3.11/dist-packages (from torch>=2.0.0->asteroid) (12.4.127)\n",
            "Requirement already satisfied: nvidia-cuda-runtime-cu12==12.4.127 in /usr/local/lib/python3.11/dist-packages (from torch>=2.0.0->asteroid) (12.4.127)\n",
            "Requirement already satisfied: nvidia-cuda-cupti-cu12==12.4.127 in /usr/local/lib/python3.11/dist-packages (from torch>=2.0.0->asteroid) (12.4.127)\n",
            "Requirement already satisfied: nvidia-cudnn-cu12==9.1.0.70 in /usr/local/lib/python3.11/dist-packages (from torch>=2.0.0->asteroid) (9.1.0.70)\n",
            "Requirement already satisfied: nvidia-cublas-cu12==12.4.5.8 in /usr/local/lib/python3.11/dist-packages (from torch>=2.0.0->asteroid) (12.4.5.8)\n",
            "Requirement already satisfied: nvidia-cufft-cu12==11.2.1.3 in /usr/local/lib/python3.11/dist-packages (from torch>=2.0.0->asteroid) (11.2.1.3)\n",
            "Requirement already satisfied: nvidia-curand-cu12==10.3.5.147 in /usr/local/lib/python3.11/dist-packages (from torch>=2.0.0->asteroid) (10.3.5.147)\n",
            "Requirement already satisfied: nvidia-cusolver-cu12==11.6.1.9 in /usr/local/lib/python3.11/dist-packages (from torch>=2.0.0->asteroid) (11.6.1.9)\n",
            "Requirement already satisfied: nvidia-cusparse-cu12==12.3.1.170 in /usr/local/lib/python3.11/dist-packages (from torch>=2.0.0->asteroid) (12.3.1.170)\n",
            "Requirement already satisfied: nvidia-cusparselt-cu12==0.6.2 in /usr/local/lib/python3.11/dist-packages (from torch>=2.0.0->asteroid) (0.6.2)\n",
            "Requirement already satisfied: nvidia-nccl-cu12==2.21.5 in /usr/local/lib/python3.11/dist-packages (from torch>=2.0.0->asteroid) (2.21.5)\n",
            "Requirement already satisfied: nvidia-nvtx-cu12==12.4.127 in /usr/local/lib/python3.11/dist-packages (from torch>=2.0.0->asteroid) (12.4.127)\n",
            "Requirement already satisfied: nvidia-nvjitlink-cu12==12.4.127 in /usr/local/lib/python3.11/dist-packages (from torch>=2.0.0->asteroid) (12.4.127)\n",
            "Requirement already satisfied: triton==3.2.0 in /usr/local/lib/python3.11/dist-packages (from torch>=2.0.0->asteroid) (3.2.0)\n",
            "Requirement already satisfied: sympy==1.13.1 in /usr/local/lib/python3.11/dist-packages (from torch>=2.0.0->asteroid) (1.13.1)\n",
            "Requirement already satisfied: mpmath<1.4,>=1.1.0 in /usr/local/lib/python3.11/dist-packages (from sympy==1.13.1->torch>=2.0.0->asteroid) (1.3.0)\n",
            "Collecting pytorch-ranger>=0.1.1 (from torch-optimizer<0.2.0,>=0.0.1a12->asteroid)\n",
            "  Downloading pytorch_ranger-0.1.1-py3-none-any.whl.metadata (509 bytes)\n",
            "Requirement already satisfied: pycparser in /usr/local/lib/python3.11/dist-packages (from cffi>=1.0->SoundFile>=0.10.2->asteroid) (2.22)\n",
            "Requirement already satisfied: aiohttp!=4.0.0a0,!=4.0.0a1 in /usr/local/lib/python3.11/dist-packages (from fsspec[http]>=2022.5.0->pytorch-lightning>=2.0.0->asteroid) (3.12.14)\n",
            "Requirement already satisfied: setuptools in /usr/local/lib/python3.11/dist-packages (from lightning-utilities>=0.10.0->pytorch-lightning>=2.0.0->asteroid) (75.2.0)\n",
            "Requirement already satisfied: six>=1.5 in /usr/local/lib/python3.11/dist-packages (from python-dateutil>=2.8.2->pandas>=0.23.4->asteroid) (1.17.0)\n",
            "Requirement already satisfied: MarkupSafe>=2.0 in /usr/local/lib/python3.11/dist-packages (from jinja2->torch>=2.0.0->asteroid) (3.0.2)\n",
            "Requirement already satisfied: decorator in /usr/local/lib/python3.11/dist-packages (from mir-eval->pb-bss-eval>=0.0.2->asteroid) (4.4.2)\n",
            "Requirement already satisfied: charset-normalizer<4,>=2 in /usr/local/lib/python3.11/dist-packages (from requests->huggingface-hub>=0.0.2->asteroid) (3.4.2)\n",
            "Requirement already satisfied: idna<4,>=2.5 in /usr/local/lib/python3.11/dist-packages (from requests->huggingface-hub>=0.0.2->asteroid) (3.10)\n",
            "Requirement already satisfied: urllib3<3,>=1.21.1 in /usr/local/lib/python3.11/dist-packages (from requests->huggingface-hub>=0.0.2->asteroid) (2.5.0)\n",
            "Requirement already satisfied: certifi>=2017.4.17 in /usr/local/lib/python3.11/dist-packages (from requests->huggingface-hub>=0.0.2->asteroid) (2025.7.14)\n",
            "Requirement already satisfied: aiohappyeyeballs>=2.5.0 in /usr/local/lib/python3.11/dist-packages (from aiohttp!=4.0.0a0,!=4.0.0a1->fsspec[http]>=2022.5.0->pytorch-lightning>=2.0.0->asteroid) (2.6.1)\n",
            "Requirement already satisfied: aiosignal>=1.4.0 in /usr/local/lib/python3.11/dist-packages (from aiohttp!=4.0.0a0,!=4.0.0a1->fsspec[http]>=2022.5.0->pytorch-lightning>=2.0.0->asteroid) (1.4.0)\n",
            "Requirement already satisfied: attrs>=17.3.0 in /usr/local/lib/python3.11/dist-packages (from aiohttp!=4.0.0a0,!=4.0.0a1->fsspec[http]>=2022.5.0->pytorch-lightning>=2.0.0->asteroid) (25.3.0)\n",
            "Requirement already satisfied: frozenlist>=1.1.1 in /usr/local/lib/python3.11/dist-packages (from aiohttp!=4.0.0a0,!=4.0.0a1->fsspec[http]>=2022.5.0->pytorch-lightning>=2.0.0->asteroid) (1.7.0)\n",
            "Requirement already satisfied: multidict<7.0,>=4.5 in /usr/local/lib/python3.11/dist-packages (from aiohttp!=4.0.0a0,!=4.0.0a1->fsspec[http]>=2022.5.0->pytorch-lightning>=2.0.0->asteroid) (6.6.3)\n",
            "Requirement already satisfied: propcache>=0.2.0 in /usr/local/lib/python3.11/dist-packages (from aiohttp!=4.0.0a0,!=4.0.0a1->fsspec[http]>=2022.5.0->pytorch-lightning>=2.0.0->asteroid) (0.3.2)\n",
            "Requirement already satisfied: yarl<2.0,>=1.17.0 in /usr/local/lib/python3.11/dist-packages (from aiohttp!=4.0.0a0,!=4.0.0a1->fsspec[http]>=2022.5.0->pytorch-lightning>=2.0.0->asteroid) (1.20.1)\n",
            "Downloading asteroid-0.7.0-py3-none-any.whl (156 kB)\n",
            "\u001b[2K   \u001b[90m━━━━━━━━━━━━━━━━━━━━━━━━━━━━━━━━━━━━━━━━\u001b[0m \u001b[32m156.4/156.4 kB\u001b[0m \u001b[31m13.1 MB/s\u001b[0m eta \u001b[36m0:00:00\u001b[0m\n",
            "\u001b[?25hDownloading asteroid_filterbanks-0.4.0-py3-none-any.whl (29 kB)\n",
            "Downloading pb_bss_eval-0.0.2-py3-none-any.whl (14 kB)\n",
            "Downloading pytorch_lightning-2.5.2-py3-none-any.whl (825 kB)\n",
            "\u001b[2K   \u001b[90m━━━━━━━━━━━━━━━━━━━━━━━━━━━━━━━━━━━━━━━━\u001b[0m \u001b[32m825.4/825.4 kB\u001b[0m \u001b[31m45.7 MB/s\u001b[0m eta \u001b[36m0:00:00\u001b[0m\n",
            "\u001b[?25hDownloading torch_optimizer-0.1.0-py3-none-any.whl (72 kB)\n",
            "\u001b[2K   \u001b[90m━━━━━━━━━━━━━━━━━━━━━━━━━━━━━━━━━━━━━━━━\u001b[0m \u001b[32m72.5/72.5 kB\u001b[0m \u001b[31m6.9 MB/s\u001b[0m eta \u001b[36m0:00:00\u001b[0m\n",
            "\u001b[?25hDownloading torch_stoi-0.2.3-py3-none-any.whl (8.1 kB)\n",
            "Downloading torchmetrics-0.11.4-py3-none-any.whl (519 kB)\n",
            "\u001b[2K   \u001b[90m━━━━━━━━━━━━━━━━━━━━━━━━━━━━━━━━━━━━━━━━\u001b[0m \u001b[32m519.2/519.2 kB\u001b[0m \u001b[31m5.5 MB/s\u001b[0m eta \u001b[36m0:00:00\u001b[0m\n",
            "\u001b[?25hDownloading lightning_utilities-0.15.0-py3-none-any.whl (29 kB)\n",
            "Downloading pytorch_ranger-0.1.1-py3-none-any.whl (14 kB)\n",
            "Downloading cached_property-2.0.1-py3-none-any.whl (7.4 kB)\n",
            "Downloading pystoi-0.4.1-py2.py3-none-any.whl (8.2 kB)\n",
            "Building wheels for collected packages: julius, pesq\n",
            "  Building wheel for julius (setup.py) ... \u001b[?25l\u001b[?25hdone\n",
            "  Created wheel for julius: filename=julius-0.2.7-py3-none-any.whl size=21870 sha256=6e10bee190e233f3ee5b9c7e2d8cfcc9d3b1451a93d8d5563593353f74f30b50\n",
            "  Stored in directory: /root/.cache/pip/wheels/16/15/d4/edd724cefe78050a6ba3344b8b0c6672db829a799dbb9f81ff\n",
            "  Building wheel for pesq (setup.py) ... \u001b[?25l\u001b[?25hdone\n",
            "  Created wheel for pesq: filename=pesq-0.0.4-cp311-cp311-linux_x86_64.whl size=274951 sha256=a5ae4f885d0338a4f4248bb98d692470aa32e4d631fc1c4103862fc41450f6d1\n",
            "  Stored in directory: /root/.cache/pip/wheels/ae/f1/23/2698d0bf31eec2b2aa50623b5d93b6206c49c7155d0e31345d\n",
            "Successfully built julius pesq\n",
            "Installing collected packages: pesq, lightning-utilities, cached-property, pystoi, pb-bss-eval, torchmetrics, pytorch-ranger, julius, asteroid-filterbanks, torch-stoi, torch-optimizer, pytorch-lightning, asteroid\n",
            "Successfully installed asteroid-0.7.0 asteroid-filterbanks-0.4.0 cached-property-2.0.1 julius-0.2.7 lightning-utilities-0.15.0 pb-bss-eval-0.0.2 pesq-0.0.4 pystoi-0.4.1 pytorch-lightning-2.5.2 pytorch-ranger-0.1.1 torch-optimizer-0.1.0 torch-stoi-0.2.3 torchmetrics-0.11.4\n"
          ]
        }
      ],
      "source": [
        "!pip install --upgrade speechbrain\n",
        "!pip install mir_eval\n",
        "!pip install -U asteroid"
      ]
    },
    {
      "cell_type": "markdown",
      "metadata": {
        "id": "kRvbNfp-K63d"
      },
      "source": [
        "Generate data set"
      ]
    },
    {
      "cell_type": "code",
      "execution_count": null,
      "metadata": {
        "colab": {
          "base_uri": "https://localhost:8080/"
        },
        "id": "yyRYdH_E1vqc",
        "outputId": "4f7ccafb-5e99-4e12-f5e0-f82a103e9aab"
      },
      "outputs": [
        {
          "name": "stdout",
          "output_type": "stream",
          "text": [
            "Mounted at /content/drive\n"
          ]
        }
      ],
      "source": [
        "from google.colab import drive\n",
        "import zipfile\n",
        "drive.mount('/content/drive')\n",
        "zip_path = '/content/drive/MyDrive/Project/dataset_2500.zip'\n",
        "with zipfile.ZipFile(zip_path, \"r\") as zip_ref:\n",
        "  zip_ref.extractall('./dataset')\n",
        "results_path = '/content/drive/MyDrive/Results.zip'\n",
        "with zipfile.ZipFile(results_path, \"r\") as zip_ref:\n",
        "  zip_ref.extractall('./convTasNet')"
      ]
    },
    {
      "cell_type": "markdown",
      "metadata": {
        "id": "3rOGCKEMhw9Q"
      },
      "source": [
        "Hparams yaml File\n"
      ]
    },
    {
      "cell_type": "code",
      "execution_count": null,
      "metadata": {
        "colab": {
          "base_uri": "https://localhost:8080/"
        },
        "id": "X3gEuzUMh0PF",
        "outputId": "c87cbbdd-0078-4488-8c0f-0a6138772668"
      },
      "outputs": [
        {
          "name": "stdout",
          "output_type": "stream",
          "text": [
            "cp: cannot stat '/content/drive/MyDrive/Project/results_80': No such file or directory\n"
          ]
        }
      ],
      "source": [
        "\n",
        "!mkdir /content/dataset/metadata\n",
        "!mkdir /content/dataset/metadata/test\n",
        "!mkdir /content/dataset/metadata/train\n",
        "!mkdir /content/dataset/metadata/validate\n",
        "!mv /content/dataset/test/metadata.csv /content/dataset/metadata/test/\n",
        "!mv /content/dataset/train/metadata.csv /content/dataset/metadata/train/\n",
        "!mv /content/dataset/validate/metadata.csv /content/dataset/metadata/validate/\n",
        "# !rm -rf './hparams'\n",
        "!mkdir './hparams'\n",
        "!cp '/content/drive/MyDrive/Project/sepformer.yml' './hparams/'\n",
        "!cp -r '/content/drive/MyDrive/Project/pretrained_convtasnet' './'\n",
        "!cp -r '/content/drive/MyDrive/Project/VoxLingua' './'\n",
        "# !cp '/content/drive/MyDrive/Project/conVasNet.yml' './hparams/'\n",
        "!cp '/content/drive/MyDrive/Project/conVasNet_p.yml' './hparams/'\n",
        "!cp '/content/drive/MyDrive/Project/preprocess_dynamic_mixing.py' './'\n",
        "!cp '/content/drive/MyDrive/Project/dynamic_mixing.py' './'\n",
        "!cp '/content/drive/MyDrive/Project/prepare_data.py' './'\n",
        "!cp -r '/content/drive/MyDrive/Project/results_80' './'\n",
        "# !cp -r '/content/drive/MyDrive/Project/results' './'\n",
        "# !cp -r '/content/drive/MyDrive/Project/results_200' './'\n",
        "!cp '/content/drive/MyDrive/Project/conVasNet_asteroid.yml' './hparams'\n",
        "!cp '/content/drive/MyDrive/Project/label_encoder.txt' './'"
      ]
    },
    {
      "cell_type": "markdown",
      "metadata": {
        "id": "TUfwK5NkrdkV"
      },
      "source": [
        "Prepare dataset"
      ]
    },
    {
      "cell_type": "code",
      "execution_count": null,
      "metadata": {
        "id": "RaUKQYBJrbz8"
      },
      "outputs": [],
      "source": [
        "def assign_lang_label(language):\n",
        "  if language =='as':\n",
        "    return 'as: Assamese'\n",
        "\n",
        "  elif language == 'bn':\n",
        "    return 'bn: Bengali'\n",
        "\n",
        "  elif language == 'en' or language == 'Indian_eng':\n",
        "    return 'en: English'\n",
        "\n",
        "  elif language == 'gu':\n",
        "    return 'gu: Gujarati'\n",
        "\n",
        "  elif language == 'hi':\n",
        "    return 'hi: Hindi'\n",
        "\n",
        "  elif language == 'kn':\n",
        "    return 'kn: Kannada'\n",
        "\n",
        "  elif language == 'ml':\n",
        "    return 'ml: Malayalam'\n",
        "\n",
        "  elif language == 'mr':\n",
        "    return 'mr: Marathi'\n",
        "\n",
        "  elif language == 'ne':\n",
        "    return 'ne: Nepali'\n",
        "\n",
        "  elif language == 'pa':\n",
        "    return 'pa: Panjabi'\n",
        "\n",
        "  elif language == 'sa':\n",
        "    return 'sa: Sanskrit'\n",
        "\n",
        "  elif language == 'sd':\n",
        "    return 'sd: Sindhi'\n",
        "\n",
        "  elif language == 'ta':\n",
        "    return 'ta: Tamil'\n",
        "\n",
        "  elif language == 'te':\n",
        "    return 'te: Telugu'\n",
        "\n",
        "  elif language == 'ur':\n",
        "    return 'ur: Urdu'\n",
        "\n",
        "\n",
        "\n",
        "def dataio_prep(hparams):\n",
        "    \"\"\"Creates data processing pipeline\"\"\"\n",
        "\n",
        "    # 1. Define datasets\n",
        "    train_data = sb.dataio.dataset.DynamicItemDataset.from_csv(\n",
        "        csv_path=hparams[\"train_data\"],\n",
        "        replacements={\"data_root\": hparams[\"data_folder\"]},\n",
        "    )\n",
        "\n",
        "    valid_data = sb.dataio.dataset.DynamicItemDataset.from_csv(\n",
        "        csv_path=hparams[\"valid_data\"],\n",
        "        replacements={\"data_root\": hparams[\"data_folder\"]},\n",
        "    )\n",
        "\n",
        "    test_data = sb.dataio.dataset.DynamicItemDataset.from_csv(\n",
        "        csv_path=hparams[\"test_data\"],\n",
        "        replacements={\"data_root\": hparams[\"data_folder\"]},\n",
        "    )\n",
        "\n",
        "    datasets = [train_data, valid_data, test_data]\n",
        "\n",
        "    # 2. Provide audio pipelines\n",
        "\n",
        "    @sb.utils.data_pipeline.takes(\"mix_wav\")\n",
        "    @sb.utils.data_pipeline.provides(\"mix_sig\")\n",
        "    def audio_pipeline_mix(mix_wav):\n",
        "        mix_sig = sb.dataio.dataio.read_audio(mix_wav)\n",
        "        return mix_sig\n",
        "\n",
        "    @sb.utils.data_pipeline.takes(\"s1_wav\")\n",
        "    @sb.utils.data_pipeline.provides(\"s1_sig\")\n",
        "    def audio_pipeline_s1(s1_wav):\n",
        "        s1_sig = sb.dataio.dataio.read_audio(s1_wav)\n",
        "        return s1_sig\n",
        "\n",
        "    @sb.utils.data_pipeline.takes(\"s2_wav\")\n",
        "    @sb.utils.data_pipeline.provides(\"s2_sig\")\n",
        "    def audio_pipeline_s2(s2_wav):\n",
        "        s2_sig = sb.dataio.dataio.read_audio(s2_wav)\n",
        "        return s2_sig\n",
        "\n",
        "    @sb.utils.data_pipeline.takes(\"languages\")\n",
        "    @sb.utils.data_pipeline.provides(\"lang_id\")\n",
        "    def lang_id_pipeline(lang_str):\n",
        "      lang_id = lang_str.split(',')\n",
        "      # print(f\"language String = {lang_str}, lang_id = {lang_id}\")\n",
        "      lang_id = [assign_lang_label(lang) for lang in lang_id]\n",
        "      yield encode_languages(lang_id)\n",
        "\n",
        "    @sb.utils.data_pipeline.takes(\"length\")\n",
        "    @sb.utils.data_pipeline.provides(\"lens\")\n",
        "    def length_pipeline(length):\n",
        "      return length\n",
        "\n",
        "    if hparams[\"num_spks\"] == 3:\n",
        "\n",
        "        @sb.utils.data_pipeline.takes(\"s3_wav\")\n",
        "        @sb.utils.data_pipeline.provides(\"s3_sig\")\n",
        "        def audio_pipeline_s3(s3_wav):\n",
        "            s3_sig = sb.dataio.dataio.read_audio(s3_wav)\n",
        "            return s3_sig\n",
        "\n",
        "    sb.dataio.dataset.add_dynamic_item(datasets, audio_pipeline_mix)\n",
        "    sb.dataio.dataset.add_dynamic_item(datasets, audio_pipeline_s1)\n",
        "    sb.dataio.dataset.add_dynamic_item(datasets, audio_pipeline_s2)\n",
        "    sb.dataio.dataset.add_dynamic_item(datasets, lang_id_pipeline)\n",
        "    sb.dataio.dataset.add_dynamic_item(datasets, length_pipeline)\n",
        "    if hparams[\"num_spks\"] == 3:\n",
        "      sb.dataio.dataset.add_dynamic_item(datasets, audio_pipeline_s3)\n",
        "      sb.dataio.dataset.set_output_keys(datasets, [\"id\", \"mix_sig\", \"s1_sig\", \"s2_sig\", \"s3_sig\", \"lang_id\", \"lens\"])\n",
        "    else:\n",
        "      sb.dataio.dataset.set_output_keys(datasets, [\"id\", \"mix_sig\", \"s1_sig\", \"s2_sig\", \"lang_id\", \"lens\"])\n",
        "\n",
        "    return train_data, valid_data, test_data\n",
        "\n",
        "def encode_languages(language_list):\n",
        "  label = []\n",
        "\n",
        "  for lang in language_list:\n",
        "    idx = label_encoder.encode_label(lang)\n",
        "    label.append(idx)\n",
        "  label = torch.tensor(label)\n",
        "  # print(f\"Label = {label}\")\n",
        "  return label"
      ]
    },
    {
      "cell_type": "markdown",
      "metadata": {
        "id": "2MTNQ4PCLC6S"
      },
      "source": [
        "Model"
      ]
    },
    {
      "cell_type": "code",
      "execution_count": null,
      "metadata": {
        "id": "0GhUXxc4Y9o3"
      },
      "outputs": [],
      "source": [
        "import csv\n",
        "import os\n",
        "import sys\n",
        "import io\n",
        "\n",
        "import numpy as np\n",
        "import math\n",
        "import torch\n",
        "from  speechbrain.nnet.losses import PitWrapper\n",
        "import torch.nn as nn\n",
        "import torch.nn.functional as F\n",
        "import torchaudio\n",
        "import matplotlib.pyplot as plt\n",
        "from hyperpyyaml import load_hyperpyyaml\n",
        "from tqdm import tqdm\n",
        "\n",
        "import speechbrain as sb\n",
        "import speechbrain.nnet.schedulers as schedulers\n",
        "from speechbrain.utils.distributed import run_on_main\n",
        "from speechbrain.utils.logger import get_logger\n",
        "from speechbrain.utils.train_logger import FileTrainLogger\n",
        "from speechbrain.nnet.losses import bce_loss, PitWrapper\n",
        "from speechbrain.utils.metric_stats import ClassificationStats\n",
        "from speechbrain.utils.Accuracy import AccuracyStats\n",
        "\n",
        "class MultiTask(sb.Brain):\n",
        "  def on_stage_start(self, stage, epoch):\n",
        "    # if stage != sb.Stage.TRAIN:\n",
        "      # self.error_metrics = self.hparams.error_stats()\n",
        "    self.epoch_acc_p = []\n",
        "    self.epoch_acc = []\n",
        "    self.print_num =0;\n",
        "    if stage == sb.Stage.TRAIN and epoch<21:\n",
        "      self.hparams.delta_separate_loss = 1.0\n",
        "      self.hparams.delta_lang_loss = 0.0\n",
        "      for name in ['compute_features', 'embedding_model', 'classifier', 'mean_var_norm']:\n",
        "        for param in getattr(self.modules, name).parameters():\n",
        "            param.requires_grad = False\n",
        "    elif stage == sb.Stage.TRAIN and epoch == 21:\n",
        "      self.hparams.delta_separate_loss =0.85\n",
        "      self.hparams.delta_lang_loss = 0.15\n",
        "      logger.info(\"Unfreezing ECAPA\")\n",
        "      for name in ['compute_features', 'embedding_model', 'classifier', 'mean_var_norm' ]:\n",
        "          for param in getattr(self.modules, name).parameters():\n",
        "              param.requires_grad = True\n",
        "      unfrozen_params = filter(lambda p: p.requires_grad, self.modules.parameters())\n",
        "      self.optimizer = torch.optim.Adam(unfrozen_params, lr=0.00001, weight_decay=0)\n",
        "    print(f\"Delta lang loss = {self.hparams.delta_lang_loss}, Delta separate loss = {self.hparams.delta_separate_loss}\")\n",
        "    self.uttid = [0]\n",
        "    if stage in [sb.Stage.VALID, sb.Stage.TEST]:\n",
        "      self.valid_acc = AccuracyStats()\n",
        "      self.error_metrics = self.hparams.error_stats\n",
        "    self.file_logger = FileTrainLogger(\"/content/results/print_statements\")\n",
        "\n",
        "  def dump_waveform(self, waveform, name,  sample_rate=16000, out_dir=\"debug_audio\"):\n",
        "    os.makedirs(out_dir, exist_ok=True)\n",
        "\n",
        "    # Save waveform\n",
        "    path = os.path.join(out_dir, f\"{name}.wav\")\n",
        "    torchaudio.save(path, waveform.unsqueeze(0).cpu(), sample_rate)\n",
        "    wav = waveform\n",
        "    wav = wav.detach().cpu().numpy()\n",
        "    # Plot\n",
        "    plt.figure(figsize=(10, 3))\n",
        "    plt.plot(wav)\n",
        "    plt.title(name)\n",
        "    plt.tight_layout()\n",
        "    plt.savefig(os.path.join(out_dir, f\"{name}_{self.uttid[0]}.png\"))\n",
        "    plt.close()\n",
        "\n",
        "\n",
        "  def compute_forward(self, mix, targets, lang_id,  stage):\n",
        "    mix, mix_lens = mix\n",
        "    mix, mix_lens = mix.to(self.device), mix_lens.to(self.device)\n",
        "    targets = torch.stack([t.data for t in targets], dim=-1).to(self.device)\n",
        "    if stage == sb.Stage.TRAIN:\n",
        "      with torch.no_grad():\n",
        "        if self.hparams.use_speedperturb:\n",
        "            mix, targets = self.add_speed_perturb(targets, mix_lens)\n",
        "\n",
        "            mix = targets.sum(-1)\n",
        "\n",
        "        if self.hparams.use_wavedrop:\n",
        "            mix = self.hparams.drop_chunk(mix, mix_lens)\n",
        "            mix = self.hparams.drop_freq(mix)\n",
        "\n",
        "        if self.hparams.limit_training_signal_len:\n",
        "            mix, targets = self.cut_signals(mix, targets)\n",
        "    #ConvTasNet\n",
        "    est_source = self.modules.convTasNet(mix)\n",
        "    #Making two batches\n",
        "    est_source = est_source.permute(0,2,1)\n",
        "    batch_size, seq_len, num_spks = est_source.shape\n",
        "    est_source_permute = est_source.permute(2, 0, 1)  # Now shape is [num_spks, batch, time]\n",
        "    est_source_combined = est_source_permute.reshape(batch_size * num_spks, seq_len)\n",
        "    est_source_combined = est_source_combined / (est_source_combined.abs().max(dim=1, keepdim=True)[0] + 1e-8)\n",
        "    mix_len_combined = mix_lens.repeat(num_spks)\n",
        "    #ECAPA\n",
        "    feats = self.modules.compute_features(est_source_combined)\n",
        "    feats = self.modules.mean_var_norm(feats, mix_len_combined)\n",
        "    embeddings = self.modules.embedding_model(feats, mix_len_combined)\n",
        "    outputs = self.modules.classifier(embeddings)\n",
        "    pred_lang_id = outputs.view(batch_size, num_spks, -1)\n",
        "    #Check Infinite\n",
        "    if torch.isnan(embeddings).any() or torch.isnan(outputs).any():\n",
        "      print(\"Embeddings min/max:\", embeddings.min(), embeddings.max())\n",
        "      print(f\"Embeddings: {embeddings}, Embeddings length: {embeddings.shape}\")\n",
        "      print(\"Classifier output min/max:\", outputs.min(), outputs.max())\n",
        "      print(f\"outputs: {outputs}, outputs length: {outputs.shape}\")\n",
        "      print(f\"pred_lang_id: {pred_lang_id}, pred_lang_id length: {pred_lang_id.shape}\")\n",
        "    #Print\n",
        "    if self.uttid[0] % 1000 == 0:\n",
        "      probs = torch.sigmoid(pred_lang_id)  # limit how often you dump\n",
        "      target_lang = lang_id.squeeze(0)\n",
        "      pred_lang = torch.argmax(probs, dim = -1)\n",
        "      for spk_idx in range(2):\n",
        "        # print(f\"est_source: {est_source_combined}\")\n",
        "        wav = wav = est_source_combined[spk_idx]\n",
        "        self.dump_waveform(wav,f\"{stage}_{pred_lang[0]}_{target_lang}_12_utt{self.uttid[0]}_spk{spk_idx}\")\n",
        "    return est_source, targets, lang_id, mix_lens, pred_lang_id, embeddings\n",
        "\n",
        "  def lang_accuracy(self, lang_id, pred_lang_id, log):\n",
        "    # lang_id_new = lang_id.squeeze(0)\n",
        "    probs = torch.sigmoid(pred_lang_id)\n",
        "    targets = lang_id.data.squeeze(0).long()\n",
        "    # print(f\"probs = {probs}, targets = {targets}\")\n",
        "    # print(f\"probs = {probs}, pred_lang_id {pred_lang_id}\")\n",
        "    # print(f\"lang_id = {lang_id}\")\n",
        "    acc1_s = max((probs[0,targets[0]]+ probs[1,targets[1]]), (probs[0,targets[1]]+ probs[1,targets[0]]))/2\n",
        "    preds = torch.argmax(pred_lang_id, dim=-1)\n",
        "    # print(f\"preds = {preds}\")\n",
        "    # targets = torch.argmax(lang_id_new, dim=-1)\n",
        "    if(log):\n",
        "      self.file_logger.log_stats(\n",
        "          stats_meta = {\n",
        "              \"stage\": \"VALID\",\n",
        "              \"preds\": preds,\n",
        "              \"targets\": targets,\n",
        "              \"probs\": probs\n",
        "          },verbose=False\n",
        "\n",
        "      )\n",
        "    acc1_p = int(preds[0] == targets[0]) + int(preds[1] == targets[1])\n",
        "    acc2_p = int(preds[0] == targets[1]) + int(preds[1] == targets[0])\n",
        "    return acc1_s, max(acc1_p, acc2_p)/2\n",
        "\n",
        "  def compute_objectives(self, est_source, targets, lang_id, lens, pred_lang_id,stage, uttid):\n",
        "    lang_id = lang_id.data.float().to(pred_lang_id.device)\n",
        "    predicted_lang_id = pred_lang_id.squeeze(0)\n",
        "    target = lang_id.squeeze(0).long()\n",
        "    # print(f\"target = {target}, pred_lang_id = {pred_lang_id}\")\n",
        "    separate_loss = self.hparams.loss(targets, est_source)\n",
        "    lang_loss = torch.min(torch.stack([self.hparams.lang_loss(predicted_lang_id, target), self.hparams.lang_loss(predicted_lang_id,target.flip(0))]))\n",
        "    loss = self.hparams.delta_lang_loss*lang_loss + self.hparams.delta_separate_loss*separate_loss\n",
        "    return loss,lang_loss,separate_loss\n",
        "\n",
        "  def fit_batch(self,batch):\n",
        "    mixture = batch.mix_sig\n",
        "    targets = [batch.s1_sig, batch.s2_sig]\n",
        "    lang_id = batch.lang_id.data\n",
        "    self.uttid[0] = self.uttid[0] + 1\n",
        "    with torch.amp.autocast(device_type='cuda', enabled=False):\n",
        "      est_source, targets, lang_id, lens, pred_lang_id,embeddings = self.compute_forward(\n",
        "        mixture, targets, lang_id, sb.Stage.TRAIN\n",
        "      )\n",
        "      # print(f\"predictions: {pred_lang_id}, targets: {targets}\")\n",
        "      loss,lang_loss,separate_loss = self.compute_objectives(\n",
        "        est_source, targets, lang_id, lens, pred_lang_id,sb.Stage.TRAIN, self.uttid\n",
        "      )\n",
        "      if self.uttid[0]%1000 == 0:\n",
        "        self.file_logger.log_stats(stats_meta={\n",
        "            \"stage\": \"Train\",\n",
        "            \"Loss\":loss,\n",
        "            \"Lang loss\":lang_loss,\n",
        "            \"separate loss\":separate_loss,\n",
        "            \"Est_source\" :est_source,\n",
        "            \"targets\": targets,\n",
        "            \"lang_id\":lang_id,\n",
        "            \"lens\":lens,\n",
        "            \"pred_lang_id\":pred_lang_id}, verbose=False)\n",
        "\n",
        "      # print(f\"loss: {loss}\")\n",
        "      if self.hparams.threshold_byloss:\n",
        "        th = self.hparams.threshold\n",
        "        loss = loss[loss > th]\n",
        "        if loss.nelement() > 0:\n",
        "            loss = loss.mean()\n",
        "            lang_loss = lang_loss.mean()\n",
        "            separate_loss = separate_loss.mean()\n",
        "      else:\n",
        "        loss = loss.mean()\n",
        "        lang_loss = lang_loss.mean()\n",
        "        separate_loss = separate_loss.mean()\n",
        "\n",
        "    if loss.nelement() > 0 and loss < self.hparams.loss_upper_lim:\n",
        "      self.scaler.scale(loss).backward()\n",
        "      if self.hparams.clip_grad_norm >= 0:\n",
        "        self.scaler.unscale_(self.optimizer)\n",
        "        torch.nn.utils.clip_grad_norm_(\n",
        "          self.modules.parameters(),\n",
        "          self.hparams.clip_grad_norm,\n",
        "        )\n",
        "      self.scaler.step(self.optimizer)\n",
        "      self.scaler.update()\n",
        "    else:\n",
        "      self.nonfinite_count += 1\n",
        "      logger.info(\n",
        "        \"infinite loss or empty loss! it happened {} times so far - skipping this batch\".format(\n",
        "          self.nonfinite_count\n",
        "        )\n",
        "      )\n",
        "      loss.data = torch.tensor(0.0).to(self.device)\n",
        "      lang_loss.data = torch.tensor(0.0).to(self.device)\n",
        "      separate_loss.data = torch.tensor(0.0).to(self.device)\n",
        "    self.optimizer.zero_grad()\n",
        "\n",
        "    return loss.detach().cpu()\n",
        "\n",
        "\n",
        "  def evaluate_batch(self, batch, stage):\n",
        "\n",
        "    \"\"\"Computations needed for validation/test batches\"\"\"\n",
        "    snt_id = batch.id\n",
        "    mixture = batch.mix_sig\n",
        "    targets = [batch.s1_sig, batch.s2_sig]\n",
        "    lang_id = batch.lang_id.data\n",
        "    self.uttid[0] = self.uttid[0] + 1\n",
        "    if self.hparams.num_spks == 3:\n",
        "      targets.append(batch.s3_sig)\n",
        "\n",
        "    with torch.no_grad():\n",
        "      # compute_forward returns multiple values for multi-task\n",
        "      est_source, targets, lang_id, lens, pred_lang_id, embeddings = self.compute_forward(\n",
        "        mixture, targets, lang_id,  stage\n",
        "      )\n",
        "      # compute_objectives combines both tasks into a single loss\n",
        "      loss,lang_loss,separate_loss = self.compute_objectives(\n",
        "        est_source, targets, lang_id, lens, pred_lang_id, stage, self.uttid\n",
        "      )\n",
        "      lang_id = lang_id.data.float().to(pred_lang_id.device)\n",
        "      if(self.uttid[0]%20 ==0):\n",
        "        log_valid = True\n",
        "      else:\n",
        "        log_valid = False\n",
        "      # self.accuracy.append(pred_lang_id, lang_id.unsqueeze(1), lens)\n",
        "      for i in range(0,self.hparams.batch_size):\n",
        "        lang_acc_s,lang_acc_p = self.lang_accuracy(lang_id[i],pred_lang_id[i].squeeze(0),log_valid)\n",
        "        self.epoch_acc.append(lang_acc_s)\n",
        "        self.epoch_acc_p.append(lang_acc_p)\n",
        "    if stage == sb.Stage.TEST and self.hparams.save_audio:\n",
        "\n",
        "      if hasattr(self.hparams, \"n_audio_to_save\"):\n",
        "        if self.hparams.n_audio_to_save > 0:\n",
        "          self.save_audio(snt_id[0], mixture, targets, est_source)\n",
        "          self.hparams.n_audio_to_save += -1\n",
        "      else:\n",
        "        self.save_audio(snt_id[0], mixture, targets, est_source)\n",
        "\n",
        "\n",
        "    return loss.mean().detach()\n",
        "\n",
        "  def on_stage_end(self, stage, stage_loss, epoch):\n",
        "    stage_stats = {\"final_loss\": stage_loss}\n",
        "    if stage == sb.Stage.TRAIN:\n",
        "      self.train_stats = stage_stats\n",
        "      # train_loss.append(self.train_stats[\"final_loss\"])\n",
        "      file_loc = f\"/content/results_{epoch}\"\n",
        "      if(epoch%20 ==0):\n",
        "        os.rename(r\"/content/results\", file_loc)\n",
        "        !cp -r $file_loc '/content/drive/MyDrive/Project'\n",
        "        if(epoch > 20):\n",
        "          prev_file_loc = f\"/content/drive/MyDrive/Project/results_{epoch-20}\"\n",
        "          !rm -rf $prev_file_loc\n",
        "          logger.info(f\"Removed file {prev_file_loc}\")\n",
        "        os.rename(file_loc,r\"/content/results\")\n",
        "        logger.info(\"Saved file succesfully\")\n",
        "    accuracy_soft = torch.tensor(self.epoch_acc)\n",
        "    accuracy_partial = torch.tensor(self.epoch_acc_p)\n",
        "    if stage == sb.Stage.VALID:\n",
        "      if isinstance(self.hparams.lr_scheduler, schedulers.ReduceLROnPlateau):\n",
        "        current_lr, next_lr = self.hparams.lr_scheduler(\n",
        "            [self.optimizer], epoch, stage_loss\n",
        "        )\n",
        "        schedulers.update_learning_rate(self.optimizer, next_lr)\n",
        "      else:\n",
        "        # if we do not use the reducelronplateau, we do not change the lr\n",
        "        current_lr = self.hparams.optimizer.optim.param_groups[0][\"lr\"]\n",
        "\n",
        "      self.hparams.train_logger.log_stats(\n",
        "          stats_meta={\"epoch\": epoch, \"lr\": current_lr},\n",
        "          train_stats=self.train_stats,\n",
        "          valid_stats={\"final_loss\": stage_loss,\"Accuracy soft\": accuracy_soft.mean(), \"Accuracy Partial\" : accuracy_partial.mean()}\n",
        "      )\n",
        "      self.checkpointer.save_and_keep_only(\n",
        "          meta={\"final_loss\": stage_stats[\"final_loss\"]}, min_keys=[\"final_loss\"]\n",
        "      )\n",
        "    elif stage == sb.Stage.TEST:\n",
        "      self.hparams.train_logger.log_stats(\n",
        "        stats_meta={\"Epoch loaded\": self.hparams.epoch_counter.current},\n",
        "        test_stats={\"final_loss\": stage_loss, \"Accuracy soft\": accuracy_soft.mean(), \"Accuracy Partial\" : accuracy_partial.mean()},\n",
        "      )\n",
        "\n",
        "  def add_speed_perturb(self, targets, targ_lens):\n",
        "    \"\"\"Adds speed perturbation and random_shift to the input signals\"\"\"\n",
        "\n",
        "    min_len = -1\n",
        "    recombine = False\n",
        "\n",
        "    if self.hparams.use_speedperturb or self.hparams.use_rand_shift:\n",
        "      # Performing speed change (independently on each source)\n",
        "      new_targets = []\n",
        "      recombine = True\n",
        "\n",
        "      for i in range(targets.shape[-1]):\n",
        "        new_target = self.hparams.speed_perturb(targets[:, :, i])\n",
        "        new_targets.append(new_target)\n",
        "        if i == 0:\n",
        "          min_len = new_target.shape[-1]\n",
        "        else:\n",
        "          if new_target.shape[-1] < min_len:\n",
        "            min_len = new_target.shape[-1]\n",
        "\n",
        "      if self.hparams.use_rand_shift:\n",
        "        # Performing random_shift (independently on each source)\n",
        "        recombine = True\n",
        "        for i in range(targets.shape[-1]):\n",
        "            rand_shift = torch.randint(\n",
        "                self.hparams.min_shift, self.hparams.max_shift, (1,)\n",
        "            )\n",
        "            new_targets[i] = new_targets[i].to(self.device)\n",
        "            new_targets[i] = torch.roll(\n",
        "                new_targets[i], shifts=(rand_shift[0],), dims=1\n",
        "            )\n",
        "\n",
        "        # Re-combination\n",
        "        if recombine:\n",
        "            if self.hparams.use_speedperturb:\n",
        "                targets = torch.zeros(\n",
        "                    targets.shape[0],\n",
        "                    min_len,\n",
        "                    targets.shape[-1],\n",
        "                    device=targets.device,\n",
        "                    dtype=torch.float,\n",
        "                )\n",
        "            for i, new_target in enumerate(new_targets):\n",
        "                targets[:, :, i] = new_targets[i][:, 0:min_len]\n",
        "\n",
        "    mix = targets.sum(-1)\n",
        "    return mix, targets\n",
        "\n",
        "  def cut_signals(self, mixture, targets):\n",
        "      \"\"\"This function selects a random segment of a given length within the mixture.\n",
        "      The corresponding targets are selected accordingly\"\"\"\n",
        "      randstart = torch.randint(\n",
        "          0,\n",
        "          1 + max(0, mixture.shape[1] - self.hparams.training_signal_len),\n",
        "          (1,),\n",
        "      ).item()\n",
        "      targets = targets[\n",
        "          :, randstart : randstart + self.hparams.training_signal_len, :\n",
        "      ]\n",
        "      mixture = mixture[\n",
        "          :, randstart : randstart + self.hparams.training_signal_len\n",
        "      ]\n",
        "      return mixture, targets\n",
        "\n",
        "\n",
        "  def reset_layer_recursively(self, layer):\n",
        "      \"\"\"Reinitializes the parameters of the neural networks\"\"\"\n",
        "      if hasattr(layer, \"reset_parameters\"):\n",
        "          layer.reset_parameters()\n",
        "      for child_layer in layer.modules():\n",
        "          if layer != child_layer:\n",
        "              self.reset_layer_recursively(child_layer)\n",
        "\n",
        "  def save_results(self, test_data):\n",
        "\n",
        "    \"\"\"This script computes the SDR and SI-SNR metrics and saves\n",
        "    them into a csv file\"\"\"\n",
        "\n",
        "    # This package is required for SDR computation\n",
        "    from mir_eval.separation import bss_eval_sources\n",
        "\n",
        "    # Create folders where to store audio\n",
        "    save_file = os.path.join(self.hparams.output_folder, \"test_results.csv\")\n",
        "\n",
        "    # Variable init\n",
        "    all_sdrs = []\n",
        "    all_sdrs_i = []\n",
        "    all_sisnrs = []\n",
        "    all_sisnrs_i = []\n",
        "    csv_columns = [\"snt_id\", \"sdr\", \"sdr_i\", \"si-snr\", \"si-snr_i\"]\n",
        "\n",
        "    test_loader = sb.dataio.dataloader.make_dataloader(\n",
        "      test_data, **self.hparams.dataloader_opts\n",
        "    )\n",
        "\n",
        "    with open(save_file, \"w\", newline=\"\", encoding=\"utf-8\") as results_csv:\n",
        "      writer = csv.DictWriter(results_csv, fieldnames=csv_columns)\n",
        "      writer.writeheader()\n",
        "\n",
        "      # Loop over all test sentence\n",
        "      with tqdm(test_loader, dynamic_ncols=True) as t:\n",
        "          for i, batch in enumerate(t):\n",
        "            # Apply Separation\n",
        "            mixture, mix_len = batch.mix_sig\n",
        "            snt_id = batch.id\n",
        "            targets = [batch.s1_sig, batch.s2_sig]\n",
        "            lang_id = batch.lang_id\n",
        "            # lens = batch.lens\n",
        "            self.uttid[0] = self.uttid[0] + 1\n",
        "            if self.hparams.num_spks == 3:\n",
        "              targets.append(batch.s3_sig)\n",
        "\n",
        "            with torch.no_grad():\n",
        "              predictions, targets, lang_id, lens, pred_lang_id, embeddings = self.compute_forward(\n",
        "                  batch.mix_sig, targets, lang_id,  sb.Stage.TEST\n",
        "              )\n",
        "\n",
        "            # Compute SI-SNR\n",
        "            total_loss,lang_loss,sisnr = self.compute_objectives(predictions, targets,lang_id,lens,pred_lang_id, sb.Stage.TEST, self.uttid)\n",
        "\n",
        "            # Compute SI-SNR improvement\n",
        "            mixture_signal = torch.stack(\n",
        "              [mixture] * self.hparams.num_spks, dim=-1\n",
        "            )\n",
        "            mixture_signal = mixture_signal.to(targets.device)\n",
        "            total_loss,lang_loss,sisnr_baseline = self.compute_objectives(\n",
        "              mixture_signal, targets, lang_id, lens, pred_lang_id, sb.Stage.TEST, self.uttid\n",
        "            )\n",
        "            sisnr_i = sisnr - sisnr_baseline\n",
        "\n",
        "            # Compute SDR\n",
        "            ref = targets[0].t().cpu().numpy()\n",
        "            est = predictions[0].t().detach().cpu().numpy()\n",
        "            if np.any(np.all(ref == 0, axis=1)):\n",
        "              print(f\"Skipping uttid: {self.uttid[0]} as all the targets are zero\")\n",
        "              continue\n",
        "            sdr, _, _, _ = bss_eval_sources(ref,est)\n",
        "\n",
        "            sdr_baseline, _, _, _ = bss_eval_sources(ref,est)\n",
        "\n",
        "\n",
        "            sdr_i = sdr.mean() - sdr_baseline.mean()\n",
        "\n",
        "            # Saving on a csv file\n",
        "            row = {\n",
        "              \"snt_id\": snt_id[0],\n",
        "              \"sdr\": sdr.mean(),\n",
        "              \"sdr_i\": sdr_i,\n",
        "              \"si-snr\": -sisnr.item(),\n",
        "              \"si-snr_i\": -sisnr_i.item(),\n",
        "            }\n",
        "            writer.writerow(row)\n",
        "\n",
        "            # Metric Accumulation\n",
        "            all_sdrs.append(sdr.mean())\n",
        "            all_sdrs_i.append(sdr_i.mean())\n",
        "            all_sisnrs.append(-sisnr.item())\n",
        "            all_sisnrs_i.append(-sisnr_i.item())\n",
        "\n",
        "          row = {\n",
        "            \"snt_id\": \"avg\",\n",
        "            \"sdr\": np.array(all_sdrs).mean(),\n",
        "            \"sdr_i\": np.array(all_sdrs_i).mean(),\n",
        "            \"si-snr\": np.array(all_sisnrs).mean(),\n",
        "            \"si-snr_i\": np.array(all_sisnrs_i).mean(),\n",
        "          }\n",
        "          writer.writerow(row)\n",
        "\n",
        "    logger.info(\"Mean SISNR is {}\".format(np.array(all_sisnrs).mean()))\n",
        "    logger.info(\"Mean SISNRi is {}\".format(np.array(all_sisnrs_i).mean()))\n",
        "    logger.info(\"Mean SDR is {}\".format(np.array(all_sdrs).mean()))\n",
        "    logger.info(\"Mean SDRi is {}\".format(np.array(all_sisnrs_i).mean()))\n",
        "\n",
        "  def save_audio(self, snt_id, mixture, targets, predictions):\n",
        "    \"saves the test audio (mixture, targets, and estimated sources) on disk\"\n",
        "\n",
        "    # Create output folder\n",
        "    save_path = os.path.join(self.hparams.save_folder, \"audio_results\")\n",
        "    if not os.path.exists(save_path):\n",
        "      os.mkdir(save_path)\n",
        "\n",
        "    for ns in range(self.hparams.num_spks):\n",
        "      # Estimated source\n",
        "      signal = predictions[0, :, ns]\n",
        "      signal = signal / signal.abs().max()\n",
        "      save_file = os.path.join(\n",
        "        save_path, \"item{}_source{}hat.wav\".format(snt_id, ns + 1)\n",
        "      )\n",
        "      torchaudio.save(\n",
        "        save_file, signal.unsqueeze(0).cpu(), self.hparams.sample_rate\n",
        "      )\n",
        "\n",
        "      # Original source\n",
        "      signal = targets[0, :, ns]\n",
        "      signal = signal / signal.abs().max()\n",
        "      save_file = os.path.join(\n",
        "        save_path, \"item{}_source{}.wav\".format(snt_id, ns + 1)\n",
        "      )\n",
        "      torchaudio.save(\n",
        "        save_file, signal.unsqueeze(0).cpu(), self.hparams.sample_rate\n",
        "      )\n",
        "\n",
        "    # Mixture\n",
        "    signal = mixture[0][0, :]\n",
        "    signal = signal / signal.abs().max()\n",
        "    save_file = os.path.join(save_path, \"item{}_mix.wav\".format(snt_id))\n",
        "    torchaudio.save(\n",
        "      save_file, signal.unsqueeze(0).cpu(), self.hparams.sample_rate\n",
        "    )\n",
        "  # def get_language(path):\n",
        "  #   mixture = sb.dataio.dataio.read_audio(torchaudio.load())\n"
      ]
    },
    {
      "cell_type": "markdown",
      "metadata": {
        "id": "ZoJv4IAnLFmI"
      },
      "source": [
        "Main"
      ]
    },
    {
      "cell_type": "code",
      "execution_count": null,
      "metadata": {
        "colab": {
          "background_save": true,
          "base_uri": "https://localhost:8080/",
          "height": 1000,
          "referenced_widgets": [
            "3d844631a520419f9c44154ca484659f",
            "443f6b61e2df42d7b7de590b4170fe0d",
            "0c8eb394058f4c369a0d648226d93da5",
            "a9dd5cd6919841ab8ce9c86e6df4d461",
            "8d615f8ddc68484e9d98f3f7ddd89c77",
            "8c345eeb543b44cebb517bb013e7ee0a",
            "9f4a8bac80a6424197e33fa5c13281f6",
            "8929930f58ae4f95bae2c31b73a655da",
            "a4c4b9852c8b4152a01bac5715687681",
            "5d871ca620614afab575da6cc61e90c4",
            "2ca6e84bbd794e6fbf5df1dbb1a7a09b",
            "3dec6b78f3e84713832665025e39a1fb",
            "5a78384be27e4d3bb17401dab26e4aed",
            "1f29a683c73640c89bc0c284f1662b6b",
            "a6a05873214c4468ad78557b5d4c7e33",
            "e9d928ccf4864337bf626762bc302ed5",
            "ea1fbd0d1dd64e42a436980378ab7495",
            "9bc82b0c963947cca805267c6e613125",
            "bed1cbfe78da427280befef8b041d45f",
            "9077a3a5ea324d32a2911f3c8f2162ed",
            "7c2b6039fbc44d088476b52f785ce7da",
            "3b7655dff93b44b6b23f0ca0b93dc5cb",
            "d858c6d95c0a4ab6941dbc9700a9344e",
            "f6a0b623a9c444d7bff8bc704ead4fb7",
            "7a43663601fd4affb5eb276271610091",
            "e6fa45b74f1f4bef8cf68144ca2d2678",
            "2b5c97f039f64fa98fc5c0dca64768c2",
            "e9ea6b0665dd4efe85132d4be949f776",
            "199781a8da934c0587d587b6f4ab27bb",
            "8a9fe44a6d3a4fc1874196d047bdae16",
            "ca4aa850284e4d02934157ae34db0dcb",
            "34703c4061db4532a9ea15fc1795a1a0",
            "54c1eda4dd514ea699a4af56ffe0f178"
          ]
        },
        "id": "INi7eq9HqIzm",
        "outputId": "0e79b4e3-d5d3-471b-d48a-2878bd630650"
      },
      "outputs": [
        {
          "name": "stderr",
          "output_type": "stream",
          "text": [
            "INFO:speechbrain.utils.seed:Setting seed to 1234\n",
            "DEBUG:speechbrain.utils.checkpoints:Registered checkpoint save hook for _save\n",
            "DEBUG:speechbrain.utils.checkpoints:Registered checkpoint load hook for _load\n",
            "DEBUG:speechbrain.utils.checkpoints:Registered parameter transfer hook for _load\n",
            "/usr/local/lib/python3.11/dist-packages/speechbrain/utils/autocast.py:188: FutureWarning: `torch.cuda.amp.custom_fwd(args...)` is deprecated. Please use `torch.amp.custom_fwd(args..., device_type='cuda')` instead.\n",
            "  wrapped_fwd = torch.cuda.amp.custom_fwd(fwd, cast_inputs=cast_inputs)\n",
            "DEBUG:speechbrain.utils.checkpoints:Registered checkpoint save hook for save\n",
            "DEBUG:speechbrain.utils.checkpoints:Registered checkpoint load hook for load_if_possible\n",
            "DEBUG:speechbrain.utils.checkpoints:Registered checkpoint save hook for _save\n",
            "DEBUG:speechbrain.utils.checkpoints:Registered checkpoint load hook for _recover\n"
          ]
        },
        {
          "name": "stdout",
          "output_type": "stream",
          "text": [
            "speechbrain.utils.quirks - Applied quirks (see `speechbrain.utils.quirks`): [allow_tf32, disable_jit_profiling]\n",
            "speechbrain.utils.quirks - Excluded quirks specified by the `SB_DISABLE_QUIRKS` environment (comma-separated list): []\n",
            "speechbrain.core - Beginning experiment!\n",
            "speechbrain.core - Experiment folder: results/convtasnet/1234\n",
            "Creating a csv file for a custom dataset\n",
            "__main__ - Train sampling rate:16000\n",
            "speechbrain.core - Info: precision arg from hparam file is used\n",
            "speechbrain.core - Info: noprogressbar arg from hparam file is used\n",
            "speechbrain.core - Gradscaler enabled: `False`\n",
            "speechbrain.core - Using training precision: `--precision=fp32`\n",
            "speechbrain.core - Using evaluation precision: `--eval_precision=fp32`\n",
            "speechbrain.core - MultiTask Model Statistics:\n",
            "* Total Number of Trainable Parameters: 26.3M\n",
            "* Total Number of Parameters: 26.3M\n",
            "* Trainable Parameters represent 100.0000% of the total size.\n",
            "__main__ - Loading pretrained weights:<__main__.MultiTask object at 0x7fb795bd89d0>\n",
            "speechbrain.utils.fetching - Fetch embedding_model.ckpt: Fetching from HuggingFace Hub 'speechbrain/lang-id-voxlingua107-ecapa' if not cached\n"
          ]
        },
        {
          "data": {
            "application/vnd.jupyter.widget-view+json": {
              "model_id": "3d844631a520419f9c44154ca484659f",
              "version_major": 2,
              "version_minor": 0
            },
            "text/plain": [
              "embedding_model.ckpt:   0%|          | 0.00/84.5M [00:00<?, ?B/s]"
            ]
          },
          "metadata": {},
          "output_type": "display_data"
        },
        {
          "name": "stdout",
          "output_type": "stream",
          "text": [
            "speechbrain.utils.fetching - Fetch classifier.ckpt: Fetching from HuggingFace Hub 'speechbrain/lang-id-voxlingua107-ecapa' if not cached\n"
          ]
        },
        {
          "data": {
            "application/vnd.jupyter.widget-view+json": {
              "model_id": "3dec6b78f3e84713832665025e39a1fb",
              "version_major": 2,
              "version_minor": 0
            },
            "text/plain": [
              "classifier.ckpt:   0%|          | 0.00/763k [00:00<?, ?B/s]"
            ]
          },
          "metadata": {},
          "output_type": "display_data"
        },
        {
          "name": "stdout",
          "output_type": "stream",
          "text": [
            "speechbrain.utils.fetching - Fetch label_encoder.txt: Fetching from HuggingFace Hub 'speechbrain/lang-id-voxlingua107-ecapa' if not cached\n"
          ]
        },
        {
          "data": {
            "application/vnd.jupyter.widget-view+json": {
              "model_id": "d858c6d95c0a4ab6941dbc9700a9344e",
              "version_major": 2,
              "version_minor": 0
            },
            "text/plain": [
              "label_encoder.txt: 0.00B [00:00, ?B/s]"
            ]
          },
          "metadata": {},
          "output_type": "display_data"
        },
        {
          "name": "stdout",
          "output_type": "stream",
          "text": [
            "speechbrain.utils.parameter_transfer - Loading pretrained files for: embedding_model, classifier, label_encoder\n",
            "speechbrain.dataio.encoder - Load called, but CategoricalEncoder is not empty. Loaded data will overwrite everything. This is normal if there is e.g. an unk label defined at init.\n",
            "speechbrain.utils.checkpoints - Would load a checkpoint here, but none found yet.\n",
            "speechbrain.utils.epoch_loop - Going into epoch 1\n",
            "Delta lang loss = 0.0, Delta separate loss = 1.0\n"
          ]
        },
        {
          "name": "stderr",
          "output_type": "stream",
          "text": [
            "100%|██████████| 1250/1250 [02:38<00:00,  7.89it/s, train_loss=-10.7]\n"
          ]
        },
        {
          "name": "stdout",
          "output_type": "stream",
          "text": [
            "Delta lang loss = 0.0, Delta separate loss = 1.0\n"
          ]
        },
        {
          "name": "stderr",
          "output_type": "stream",
          "text": [
            "100%|██████████| 500/500 [00:22<00:00, 22.71it/s]"
          ]
        },
        {
          "name": "stdout",
          "output_type": "stream",
          "text": [
            "speechbrain.utils.train_logger - epoch: 1, lr: 1.50e-03 - train final_loss: -1.07e+01 - valid final_loss: -1.13e+01, valid Accuracy soft: 0.27113109827041626, valid Accuracy Partial: 0.5460000038146973\n"
          ]
        },
        {
          "name": "stderr",
          "output_type": "stream",
          "text": [
            "\n"
          ]
        },
        {
          "name": "stdout",
          "output_type": "stream",
          "text": [
            "speechbrain.utils.checkpoints - Saved an end-of-epoch checkpoint in results/convtasnet/1234/save/CKPT+2025-07-29+18-05-37+00\n",
            "speechbrain.utils.epoch_loop - Going into epoch 2\n",
            "Delta lang loss = 0.0, Delta separate loss = 1.0\n"
          ]
        },
        {
          "name": "stderr",
          "output_type": "stream",
          "text": [
            "100%|██████████| 1250/1250 [02:21<00:00,  8.84it/s, train_loss=-11.9]\n"
          ]
        },
        {
          "name": "stdout",
          "output_type": "stream",
          "text": [
            "Delta lang loss = 0.0, Delta separate loss = 1.0\n"
          ]
        },
        {
          "name": "stderr",
          "output_type": "stream",
          "text": [
            "100%|██████████| 500/500 [00:20<00:00, 24.05it/s]"
          ]
        },
        {
          "name": "stdout",
          "output_type": "stream",
          "text": [
            "speechbrain.utils.train_logger - epoch: 2, lr: 1.50e-03 - train final_loss: -1.19e+01 - valid final_loss: -1.12e+01, valid Accuracy soft: 0.2690316140651703, valid Accuracy Partial: 0.5440000295639038\n"
          ]
        },
        {
          "name": "stderr",
          "output_type": "stream",
          "text": [
            "\n"
          ]
        },
        {
          "name": "stdout",
          "output_type": "stream",
          "text": [
            "speechbrain.utils.checkpoints - Saved an end-of-epoch checkpoint in results/convtasnet/1234/save/CKPT+2025-07-29+18-08-20+00\n",
            "speechbrain.utils.epoch_loop - Going into epoch 3\n",
            "Delta lang loss = 0.0, Delta separate loss = 1.0\n"
          ]
        },
        {
          "name": "stderr",
          "output_type": "stream",
          "text": [
            "100%|██████████| 1250/1250 [02:22<00:00,  8.80it/s, train_loss=-12.5]\n"
          ]
        },
        {
          "name": "stdout",
          "output_type": "stream",
          "text": [
            "Delta lang loss = 0.0, Delta separate loss = 1.0\n"
          ]
        },
        {
          "name": "stderr",
          "output_type": "stream",
          "text": [
            "100%|██████████| 500/500 [00:20<00:00, 24.15it/s]"
          ]
        },
        {
          "name": "stdout",
          "output_type": "stream",
          "text": [
            "speechbrain.utils.train_logger - epoch: 3, lr: 1.50e-03 - train final_loss: -1.25e+01 - valid final_loss: -1.15e+01, valid Accuracy soft: 0.2676689922809601, valid Accuracy Partial: 0.5419999957084656\n"
          ]
        },
        {
          "name": "stderr",
          "output_type": "stream",
          "text": [
            "\n"
          ]
        },
        {
          "name": "stdout",
          "output_type": "stream",
          "text": [
            "speechbrain.utils.checkpoints - Saved an end-of-epoch checkpoint in results/convtasnet/1234/save/CKPT+2025-07-29+18-11-03+00\n",
            "speechbrain.utils.checkpoints - Deleted checkpoint in results/convtasnet/1234/save/CKPT+2025-07-29+18-08-20+00\n",
            "speechbrain.utils.checkpoints - Deleted checkpoint in results/convtasnet/1234/save/CKPT+2025-07-29+18-05-37+00\n",
            "speechbrain.utils.epoch_loop - Going into epoch 4\n",
            "Delta lang loss = 0.0, Delta separate loss = 1.0\n"
          ]
        },
        {
          "name": "stderr",
          "output_type": "stream",
          "text": [
            " 97%|█████████▋| 1210/1250 [02:17<00:04,  9.35it/s, train_loss=-13.1]"
          ]
        },
        {
          "name": "stdout",
          "output_type": "stream",
          "text": [
            "__main__ - infinite loss or empty loss! it happened 1 times so far - skipping this batch\n"
          ]
        },
        {
          "name": "stderr",
          "output_type": "stream",
          "text": [
            "100%|██████████| 1250/1250 [02:22<00:00,  8.80it/s, train_loss=-13.1]\n"
          ]
        },
        {
          "name": "stdout",
          "output_type": "stream",
          "text": [
            "Delta lang loss = 0.0, Delta separate loss = 1.0\n"
          ]
        },
        {
          "name": "stderr",
          "output_type": "stream",
          "text": [
            "100%|██████████| 500/500 [00:20<00:00, 24.01it/s]"
          ]
        },
        {
          "name": "stdout",
          "output_type": "stream",
          "text": [
            "speechbrain.utils.train_logger - epoch: 4, lr: 1.50e-03 - train final_loss: -1.31e+01 - valid final_loss: -1.15e+01, valid Accuracy soft: 0.2675919532775879, valid Accuracy Partial: 0.5360000133514404\n"
          ]
        },
        {
          "name": "stderr",
          "output_type": "stream",
          "text": [
            "\n"
          ]
        },
        {
          "name": "stdout",
          "output_type": "stream",
          "text": [
            "speechbrain.utils.checkpoints - Saved an end-of-epoch checkpoint in results/convtasnet/1234/save/CKPT+2025-07-29+18-13-46+00\n",
            "speechbrain.utils.epoch_loop - Going into epoch 5\n",
            "Delta lang loss = 0.0, Delta separate loss = 1.0\n"
          ]
        },
        {
          "name": "stderr",
          "output_type": "stream",
          "text": [
            "100%|██████████| 1250/1250 [02:22<00:00,  8.80it/s, train_loss=-13.6]\n"
          ]
        },
        {
          "name": "stdout",
          "output_type": "stream",
          "text": [
            "Delta lang loss = 0.0, Delta separate loss = 1.0\n"
          ]
        },
        {
          "name": "stderr",
          "output_type": "stream",
          "text": [
            "100%|██████████| 500/500 [00:20<00:00, 24.13it/s]"
          ]
        },
        {
          "name": "stdout",
          "output_type": "stream",
          "text": [
            "speechbrain.utils.train_logger - epoch: 5, lr: 1.50e-03 - train final_loss: -1.36e+01 - valid final_loss: -1.17e+01, valid Accuracy soft: 0.2713228762149811, valid Accuracy Partial: 0.5479999780654907\n"
          ]
        },
        {
          "name": "stderr",
          "output_type": "stream",
          "text": [
            "\n"
          ]
        },
        {
          "name": "stdout",
          "output_type": "stream",
          "text": [
            "speechbrain.utils.checkpoints - Saved an end-of-epoch checkpoint in results/convtasnet/1234/save/CKPT+2025-07-29+18-16-29+00\n",
            "speechbrain.utils.checkpoints - Deleted checkpoint in results/convtasnet/1234/save/CKPT+2025-07-29+18-11-03+00\n",
            "speechbrain.utils.checkpoints - Deleted checkpoint in results/convtasnet/1234/save/CKPT+2025-07-29+18-13-46+00\n",
            "speechbrain.utils.epoch_loop - Going into epoch 6\n",
            "Delta lang loss = 0.0, Delta separate loss = 1.0\n"
          ]
        },
        {
          "name": "stderr",
          "output_type": "stream",
          "text": [
            " 97%|█████████▋| 1210/1250 [02:18<00:04,  8.89it/s, train_loss=-14]"
          ]
        },
        {
          "name": "stdout",
          "output_type": "stream",
          "text": [
            "__main__ - infinite loss or empty loss! it happened 1 times so far - skipping this batch\n"
          ]
        },
        {
          "name": "stderr",
          "output_type": "stream",
          "text": [
            "100%|██████████| 1250/1250 [02:22<00:00,  8.78it/s, train_loss=-14]\n"
          ]
        },
        {
          "name": "stdout",
          "output_type": "stream",
          "text": [
            "Delta lang loss = 0.0, Delta separate loss = 1.0\n"
          ]
        },
        {
          "name": "stderr",
          "output_type": "stream",
          "text": [
            "100%|██████████| 500/500 [00:20<00:00, 24.01it/s]"
          ]
        },
        {
          "name": "stdout",
          "output_type": "stream",
          "text": [
            "speechbrain.utils.train_logger - epoch: 6, lr: 1.50e-03 - train final_loss: -1.40e+01 - valid final_loss: -1.15e+01, valid Accuracy soft: 0.26669564843177795, valid Accuracy Partial: 0.5400000214576721\n"
          ]
        },
        {
          "name": "stderr",
          "output_type": "stream",
          "text": [
            "\n"
          ]
        },
        {
          "name": "stdout",
          "output_type": "stream",
          "text": [
            "speechbrain.utils.checkpoints - Saved an end-of-epoch checkpoint in results/convtasnet/1234/save/CKPT+2025-07-29+18-19-13+00\n",
            "speechbrain.utils.epoch_loop - Going into epoch 7\n",
            "Delta lang loss = 0.0, Delta separate loss = 1.0\n"
          ]
        },
        {
          "name": "stderr",
          "output_type": "stream",
          "text": [
            " 97%|█████████▋| 1210/1250 [02:17<00:04,  9.42it/s, train_loss=-14.2]"
          ]
        },
        {
          "name": "stdout",
          "output_type": "stream",
          "text": [
            "__main__ - infinite loss or empty loss! it happened 1 times so far - skipping this batch\n"
          ]
        },
        {
          "name": "stderr",
          "output_type": "stream",
          "text": [
            "100%|██████████| 1250/1250 [02:21<00:00,  8.82it/s, train_loss=-14.2]\n"
          ]
        },
        {
          "name": "stdout",
          "output_type": "stream",
          "text": [
            "Delta lang loss = 0.0, Delta separate loss = 1.0\n"
          ]
        },
        {
          "name": "stderr",
          "output_type": "stream",
          "text": [
            "100%|██████████| 500/500 [00:20<00:00, 23.95it/s]"
          ]
        },
        {
          "name": "stdout",
          "output_type": "stream",
          "text": [
            "speechbrain.utils.train_logger - epoch: 7, lr: 1.50e-03 - train final_loss: -1.42e+01 - valid final_loss: -1.17e+01, valid Accuracy soft: 0.2624993920326233, valid Accuracy Partial: 0.5299999713897705\n"
          ]
        },
        {
          "name": "stderr",
          "output_type": "stream",
          "text": [
            "\n"
          ]
        },
        {
          "name": "stdout",
          "output_type": "stream",
          "text": [
            "speechbrain.utils.checkpoints - Saved an end-of-epoch checkpoint in results/convtasnet/1234/save/CKPT+2025-07-29+18-21-56+00\n",
            "speechbrain.utils.checkpoints - Deleted checkpoint in results/convtasnet/1234/save/CKPT+2025-07-29+18-19-13+00\n",
            "speechbrain.utils.epoch_loop - Going into epoch 8\n",
            "Delta lang loss = 0.0, Delta separate loss = 1.0\n"
          ]
        },
        {
          "name": "stderr",
          "output_type": "stream",
          "text": [
            " 97%|█████████▋| 1210/1250 [02:17<00:04,  9.43it/s, train_loss=-14.5]"
          ]
        },
        {
          "name": "stdout",
          "output_type": "stream",
          "text": [
            "__main__ - infinite loss or empty loss! it happened 1 times so far - skipping this batch\n"
          ]
        },
        {
          "name": "stderr",
          "output_type": "stream",
          "text": [
            "100%|██████████| 1250/1250 [02:22<00:00,  8.77it/s, train_loss=-14.5]\n"
          ]
        },
        {
          "name": "stdout",
          "output_type": "stream",
          "text": [
            "Delta lang loss = 0.0, Delta separate loss = 1.0\n"
          ]
        },
        {
          "name": "stderr",
          "output_type": "stream",
          "text": [
            "100%|██████████| 500/500 [00:20<00:00, 23.89it/s]"
          ]
        },
        {
          "name": "stdout",
          "output_type": "stream",
          "text": [
            "speechbrain.utils.train_logger - epoch: 8, lr: 1.50e-03 - train final_loss: -1.45e+01 - valid final_loss: -1.16e+01, valid Accuracy soft: 0.26732736825942993, valid Accuracy Partial: 0.5379999876022339\n"
          ]
        },
        {
          "name": "stderr",
          "output_type": "stream",
          "text": [
            "\n"
          ]
        },
        {
          "name": "stdout",
          "output_type": "stream",
          "text": [
            "speechbrain.utils.checkpoints - Saved an end-of-epoch checkpoint in results/convtasnet/1234/save/CKPT+2025-07-29+18-24-40+00\n",
            "speechbrain.utils.checkpoints - Deleted checkpoint in results/convtasnet/1234/save/CKPT+2025-07-29+18-21-56+00\n",
            "speechbrain.utils.epoch_loop - Going into epoch 9\n",
            "Delta lang loss = 0.0, Delta separate loss = 1.0\n"
          ]
        },
        {
          "name": "stderr",
          "output_type": "stream",
          "text": [
            " 97%|█████████▋| 1210/1250 [02:17<00:04,  9.24it/s, train_loss=-14.7]"
          ]
        },
        {
          "name": "stdout",
          "output_type": "stream",
          "text": [
            "__main__ - infinite loss or empty loss! it happened 1 times so far - skipping this batch\n"
          ]
        },
        {
          "name": "stderr",
          "output_type": "stream",
          "text": [
            "100%|██████████| 1250/1250 [02:21<00:00,  8.80it/s, train_loss=-14.7]\n"
          ]
        },
        {
          "name": "stdout",
          "output_type": "stream",
          "text": [
            "Delta lang loss = 0.0, Delta separate loss = 1.0\n"
          ]
        },
        {
          "name": "stderr",
          "output_type": "stream",
          "text": [
            "100%|██████████| 500/500 [00:20<00:00, 23.85it/s]"
          ]
        },
        {
          "name": "stdout",
          "output_type": "stream",
          "text": [
            "speechbrain.utils.train_logger - epoch: 9, lr: 1.50e-03 - train final_loss: -1.47e+01 - valid final_loss: -1.17e+01, valid Accuracy soft: 0.2685229480266571, valid Accuracy Partial: 0.5509999990463257\n"
          ]
        },
        {
          "name": "stderr",
          "output_type": "stream",
          "text": [
            "\n"
          ]
        },
        {
          "name": "stdout",
          "output_type": "stream",
          "text": [
            "speechbrain.utils.checkpoints - Saved an end-of-epoch checkpoint in results/convtasnet/1234/save/CKPT+2025-07-29+18-27-23+00\n",
            "speechbrain.utils.checkpoints - Deleted checkpoint in results/convtasnet/1234/save/CKPT+2025-07-29+18-24-40+00\n",
            "speechbrain.utils.epoch_loop - Going into epoch 10\n",
            "Delta lang loss = 0.0, Delta separate loss = 1.0\n"
          ]
        },
        {
          "name": "stderr",
          "output_type": "stream",
          "text": [
            " 97%|█████████▋| 1210/1250 [02:18<00:04,  9.12it/s, train_loss=-15]"
          ]
        },
        {
          "name": "stdout",
          "output_type": "stream",
          "text": [
            "__main__ - infinite loss or empty loss! it happened 1 times so far - skipping this batch\n"
          ]
        },
        {
          "name": "stderr",
          "output_type": "stream",
          "text": [
            "100%|██████████| 1250/1250 [02:23<00:00,  8.72it/s, train_loss=-15]\n"
          ]
        },
        {
          "name": "stdout",
          "output_type": "stream",
          "text": [
            "Delta lang loss = 0.0, Delta separate loss = 1.0\n"
          ]
        },
        {
          "name": "stderr",
          "output_type": "stream",
          "text": [
            "100%|██████████| 500/500 [00:20<00:00, 24.09it/s]"
          ]
        },
        {
          "name": "stdout",
          "output_type": "stream",
          "text": [
            "speechbrain.utils.train_logger - epoch: 10, lr: 1.50e-03 - train final_loss: -1.50e+01 - valid final_loss: -1.15e+01, valid Accuracy soft: 0.26596954464912415, valid Accuracy Partial: 0.5260000228881836\n"
          ]
        },
        {
          "name": "stderr",
          "output_type": "stream",
          "text": [
            "\n"
          ]
        },
        {
          "name": "stdout",
          "output_type": "stream",
          "text": [
            "speechbrain.utils.checkpoints - Saved an end-of-epoch checkpoint in results/convtasnet/1234/save/CKPT+2025-07-29+18-30-08+00\n",
            "speechbrain.utils.checkpoints - Deleted checkpoint in results/convtasnet/1234/save/CKPT+2025-07-29+18-27-23+00\n",
            "speechbrain.utils.epoch_loop - Going into epoch 11\n",
            "Delta lang loss = 0.0, Delta separate loss = 1.0\n"
          ]
        },
        {
          "name": "stderr",
          "output_type": "stream",
          "text": [
            " 97%|█████████▋| 1210/1250 [02:17<00:04,  9.30it/s, train_loss=-15.2]"
          ]
        },
        {
          "name": "stdout",
          "output_type": "stream",
          "text": [
            "__main__ - infinite loss or empty loss! it happened 1 times so far - skipping this batch\n"
          ]
        },
        {
          "name": "stderr",
          "output_type": "stream",
          "text": [
            "100%|██████████| 1250/1250 [02:22<00:00,  8.78it/s, train_loss=-15.2]\n"
          ]
        },
        {
          "name": "stdout",
          "output_type": "stream",
          "text": [
            "Delta lang loss = 0.0, Delta separate loss = 1.0\n"
          ]
        },
        {
          "name": "stderr",
          "output_type": "stream",
          "text": [
            "100%|██████████| 500/500 [00:20<00:00, 23.95it/s]"
          ]
        },
        {
          "name": "stdout",
          "output_type": "stream",
          "text": [
            "speechbrain.utils.train_logger - epoch: 11, lr: 1.50e-03 - train final_loss: -1.52e+01 - valid final_loss: -1.16e+01, valid Accuracy soft: 0.2688029706478119, valid Accuracy Partial: 0.5450000166893005\n"
          ]
        },
        {
          "name": "stderr",
          "output_type": "stream",
          "text": [
            "\n"
          ]
        },
        {
          "name": "stdout",
          "output_type": "stream",
          "text": [
            "speechbrain.utils.checkpoints - Saved an end-of-epoch checkpoint in results/convtasnet/1234/save/CKPT+2025-07-29+18-32-51+00\n",
            "speechbrain.utils.checkpoints - Deleted checkpoint in results/convtasnet/1234/save/CKPT+2025-07-29+18-30-08+00\n",
            "speechbrain.utils.epoch_loop - Going into epoch 12\n",
            "Delta lang loss = 0.0, Delta separate loss = 1.0\n"
          ]
        },
        {
          "name": "stderr",
          "output_type": "stream",
          "text": [
            " 97%|█████████▋| 1210/1250 [02:18<00:04,  9.36it/s, train_loss=-15.4]"
          ]
        },
        {
          "name": "stdout",
          "output_type": "stream",
          "text": [
            "__main__ - infinite loss or empty loss! it happened 1 times so far - skipping this batch\n"
          ]
        },
        {
          "name": "stderr",
          "output_type": "stream",
          "text": [
            "100%|██████████| 1250/1250 [02:22<00:00,  8.77it/s, train_loss=-15.4]\n"
          ]
        },
        {
          "name": "stdout",
          "output_type": "stream",
          "text": [
            "Delta lang loss = 0.0, Delta separate loss = 1.0\n"
          ]
        },
        {
          "name": "stderr",
          "output_type": "stream",
          "text": [
            "100%|██████████| 500/500 [00:20<00:00, 24.01it/s]"
          ]
        },
        {
          "name": "stdout",
          "output_type": "stream",
          "text": [
            "speechbrain.utils.train_logger - epoch: 12, lr: 1.50e-03 - train final_loss: -1.54e+01 - valid final_loss: -1.15e+01, valid Accuracy soft: 0.2606428265571594, valid Accuracy Partial: 0.5210000276565552\n"
          ]
        },
        {
          "name": "stderr",
          "output_type": "stream",
          "text": [
            "\n"
          ]
        },
        {
          "name": "stdout",
          "output_type": "stream",
          "text": [
            "speechbrain.utils.checkpoints - Saved an end-of-epoch checkpoint in results/convtasnet/1234/save/CKPT+2025-07-29+18-35-35+00\n",
            "speechbrain.utils.checkpoints - Deleted checkpoint in results/convtasnet/1234/save/CKPT+2025-07-29+18-32-51+00\n",
            "speechbrain.utils.epoch_loop - Going into epoch 13\n",
            "Delta lang loss = 0.0, Delta separate loss = 1.0\n"
          ]
        },
        {
          "name": "stderr",
          "output_type": "stream",
          "text": [
            " 18%|█▊        | 219/1250 [00:25<01:51,  9.24it/s, train_loss=-15.7]"
          ]
        },
        {
          "name": "stdout",
          "output_type": "stream",
          "text": [
            "__main__ - infinite loss or empty loss! it happened 1 times so far - skipping this batch\n"
          ]
        },
        {
          "name": "stderr",
          "output_type": "stream",
          "text": [
            " 97%|█████████▋| 1210/1250 [02:17<00:04,  9.25it/s, train_loss=-15.6]"
          ]
        },
        {
          "name": "stdout",
          "output_type": "stream",
          "text": [
            "__main__ - infinite loss or empty loss! it happened 2 times so far - skipping this batch\n"
          ]
        },
        {
          "name": "stderr",
          "output_type": "stream",
          "text": [
            "100%|██████████| 1250/1250 [02:22<00:00,  8.78it/s, train_loss=-15.6]\n"
          ]
        },
        {
          "name": "stdout",
          "output_type": "stream",
          "text": [
            "Delta lang loss = 0.0, Delta separate loss = 1.0\n"
          ]
        },
        {
          "name": "stderr",
          "output_type": "stream",
          "text": [
            "100%|██████████| 500/500 [00:20<00:00, 23.94it/s]"
          ]
        },
        {
          "name": "stdout",
          "output_type": "stream",
          "text": [
            "speechbrain.utils.train_logger - epoch: 13, lr: 1.50e-03 - train final_loss: -1.56e+01 - valid final_loss: -1.14e+01, valid Accuracy soft: 0.2690121829509735, valid Accuracy Partial: 0.5460000038146973\n"
          ]
        },
        {
          "name": "stderr",
          "output_type": "stream",
          "text": [
            "\n"
          ]
        },
        {
          "name": "stdout",
          "output_type": "stream",
          "text": [
            "speechbrain.utils.checkpoints - Saved an end-of-epoch checkpoint in results/convtasnet/1234/save/CKPT+2025-07-29+18-38-19+00\n",
            "speechbrain.utils.checkpoints - Deleted checkpoint in results/convtasnet/1234/save/CKPT+2025-07-29+18-35-35+00\n",
            "speechbrain.utils.epoch_loop - Going into epoch 14\n",
            "Delta lang loss = 0.0, Delta separate loss = 1.0\n"
          ]
        },
        {
          "name": "stderr",
          "output_type": "stream",
          "text": [
            " 18%|█▊        | 219/1250 [00:25<01:53,  9.10it/s, train_loss=-15.8]"
          ]
        },
        {
          "name": "stdout",
          "output_type": "stream",
          "text": [
            "__main__ - infinite loss or empty loss! it happened 1 times so far - skipping this batch\n"
          ]
        },
        {
          "name": "stderr",
          "output_type": "stream",
          "text": [
            " 97%|█████████▋| 1210/1250 [02:16<00:04,  9.38it/s, train_loss=-15.7]"
          ]
        },
        {
          "name": "stdout",
          "output_type": "stream",
          "text": [
            "__main__ - infinite loss or empty loss! it happened 2 times so far - skipping this batch\n"
          ]
        },
        {
          "name": "stderr",
          "output_type": "stream",
          "text": [
            "100%|██████████| 1250/1250 [02:21<00:00,  8.85it/s, train_loss=-15.7]\n"
          ]
        },
        {
          "name": "stdout",
          "output_type": "stream",
          "text": [
            "Delta lang loss = 0.0, Delta separate loss = 1.0\n"
          ]
        },
        {
          "name": "stderr",
          "output_type": "stream",
          "text": [
            "100%|██████████| 500/500 [00:20<00:00, 24.11it/s]"
          ]
        },
        {
          "name": "stdout",
          "output_type": "stream",
          "text": [
            "speechbrain.utils.train_logger - epoch: 14, lr: 1.50e-03 - train final_loss: -1.57e+01 - valid final_loss: -1.15e+01, valid Accuracy soft: 0.26689398288726807, valid Accuracy Partial: 0.5360000133514404\n"
          ]
        },
        {
          "name": "stderr",
          "output_type": "stream",
          "text": [
            "\n"
          ]
        },
        {
          "name": "stdout",
          "output_type": "stream",
          "text": [
            "speechbrain.utils.checkpoints - Saved an end-of-epoch checkpoint in results/convtasnet/1234/save/CKPT+2025-07-29+18-41-01+00\n",
            "speechbrain.utils.checkpoints - Deleted checkpoint in results/convtasnet/1234/save/CKPT+2025-07-29+18-38-19+00\n",
            "speechbrain.utils.epoch_loop - Going into epoch 15\n",
            "Delta lang loss = 0.0, Delta separate loss = 1.0\n"
          ]
        },
        {
          "name": "stderr",
          "output_type": "stream",
          "text": [
            " 97%|█████████▋| 1210/1250 [02:16<00:04,  9.21it/s, train_loss=-15.9]"
          ]
        },
        {
          "name": "stdout",
          "output_type": "stream",
          "text": [
            "__main__ - infinite loss or empty loss! it happened 1 times so far - skipping this batch\n"
          ]
        },
        {
          "name": "stderr",
          "output_type": "stream",
          "text": [
            "100%|██████████| 1250/1250 [02:20<00:00,  8.89it/s, train_loss=-15.9]\n"
          ]
        },
        {
          "name": "stdout",
          "output_type": "stream",
          "text": [
            "Delta lang loss = 0.0, Delta separate loss = 1.0\n"
          ]
        },
        {
          "name": "stderr",
          "output_type": "stream",
          "text": [
            "100%|██████████| 500/500 [00:20<00:00, 23.98it/s]"
          ]
        },
        {
          "name": "stdout",
          "output_type": "stream",
          "text": [
            "speechbrain.utils.train_logger - epoch: 15, lr: 1.50e-03 - train final_loss: -1.59e+01 - valid final_loss: -1.15e+01, valid Accuracy soft: 0.2617853879928589, valid Accuracy Partial: 0.5270000100135803\n"
          ]
        },
        {
          "name": "stderr",
          "output_type": "stream",
          "text": [
            "\n"
          ]
        },
        {
          "name": "stdout",
          "output_type": "stream",
          "text": [
            "speechbrain.utils.checkpoints - Saved an end-of-epoch checkpoint in results/convtasnet/1234/save/CKPT+2025-07-29+18-43-43+00\n",
            "speechbrain.utils.checkpoints - Deleted checkpoint in results/convtasnet/1234/save/CKPT+2025-07-29+18-41-01+00\n",
            "speechbrain.utils.epoch_loop - Going into epoch 16\n",
            "Delta lang loss = 0.0, Delta separate loss = 1.0\n"
          ]
        },
        {
          "name": "stderr",
          "output_type": "stream",
          "text": [
            " 18%|█▊        | 219/1250 [00:25<01:49,  9.45it/s, train_loss=-16.1]"
          ]
        },
        {
          "name": "stdout",
          "output_type": "stream",
          "text": [
            "__main__ - infinite loss or empty loss! it happened 1 times so far - skipping this batch\n"
          ]
        },
        {
          "name": "stderr",
          "output_type": "stream",
          "text": [
            " 97%|█████████▋| 1210/1250 [02:16<00:04,  9.16it/s, train_loss=-15.9]"
          ]
        },
        {
          "name": "stdout",
          "output_type": "stream",
          "text": [
            "__main__ - infinite loss or empty loss! it happened 2 times so far - skipping this batch\n"
          ]
        },
        {
          "name": "stderr",
          "output_type": "stream",
          "text": [
            "100%|██████████| 1250/1250 [02:20<00:00,  8.87it/s, train_loss=-15.9]\n"
          ]
        },
        {
          "name": "stdout",
          "output_type": "stream",
          "text": [
            "Delta lang loss = 0.0, Delta separate loss = 1.0\n"
          ]
        },
        {
          "name": "stderr",
          "output_type": "stream",
          "text": [
            "100%|██████████| 500/500 [00:20<00:00, 24.08it/s]"
          ]
        },
        {
          "name": "stdout",
          "output_type": "stream",
          "text": [
            "speechbrain.utils.train_logger - epoch: 16, lr: 1.50e-03 - train final_loss: -1.59e+01 - valid final_loss: -1.14e+01, valid Accuracy soft: 0.26118239760398865, valid Accuracy Partial: 0.5230000019073486\n"
          ]
        },
        {
          "name": "stderr",
          "output_type": "stream",
          "text": [
            "\n"
          ]
        },
        {
          "name": "stdout",
          "output_type": "stream",
          "text": [
            "speechbrain.utils.checkpoints - Saved an end-of-epoch checkpoint in results/convtasnet/1234/save/CKPT+2025-07-29+18-46-25+00\n",
            "speechbrain.utils.checkpoints - Deleted checkpoint in results/convtasnet/1234/save/CKPT+2025-07-29+18-43-43+00\n",
            "speechbrain.utils.epoch_loop - Going into epoch 17\n",
            "Delta lang loss = 0.0, Delta separate loss = 1.0\n"
          ]
        },
        {
          "name": "stderr",
          "output_type": "stream",
          "text": [
            " 18%|█▊        | 219/1250 [00:25<01:51,  9.23it/s, train_loss=-16.2]"
          ]
        },
        {
          "name": "stdout",
          "output_type": "stream",
          "text": [
            "__main__ - infinite loss or empty loss! it happened 1 times so far - skipping this batch\n"
          ]
        },
        {
          "name": "stderr",
          "output_type": "stream",
          "text": [
            " 97%|█████████▋| 1210/1250 [02:15<00:04,  8.65it/s, train_loss=-16.1]"
          ]
        },
        {
          "name": "stdout",
          "output_type": "stream",
          "text": [
            "__main__ - infinite loss or empty loss! it happened 2 times so far - skipping this batch\n"
          ]
        },
        {
          "name": "stderr",
          "output_type": "stream",
          "text": [
            "100%|██████████| 1250/1250 [02:20<00:00,  8.92it/s, train_loss=-16.1]\n"
          ]
        },
        {
          "name": "stdout",
          "output_type": "stream",
          "text": [
            "Delta lang loss = 0.0, Delta separate loss = 1.0\n"
          ]
        },
        {
          "name": "stderr",
          "output_type": "stream",
          "text": [
            "100%|██████████| 500/500 [00:20<00:00, 24.16it/s]"
          ]
        },
        {
          "name": "stdout",
          "output_type": "stream",
          "text": [
            "speechbrain.utils.train_logger - epoch: 17, lr: 1.50e-03 - train final_loss: -1.61e+01 - valid final_loss: -1.14e+01, valid Accuracy soft: 0.26733195781707764, valid Accuracy Partial: 0.5379999876022339\n"
          ]
        },
        {
          "name": "stderr",
          "output_type": "stream",
          "text": [
            "\n"
          ]
        },
        {
          "name": "stdout",
          "output_type": "stream",
          "text": [
            "speechbrain.utils.checkpoints - Saved an end-of-epoch checkpoint in results/convtasnet/1234/save/CKPT+2025-07-29+18-49-06+00\n",
            "speechbrain.utils.checkpoints - Deleted checkpoint in results/convtasnet/1234/save/CKPT+2025-07-29+18-46-25+00\n",
            "speechbrain.utils.epoch_loop - Going into epoch 18\n",
            "Delta lang loss = 0.0, Delta separate loss = 1.0\n"
          ]
        },
        {
          "name": "stderr",
          "output_type": "stream",
          "text": [
            " 18%|█▊        | 219/1250 [00:24<01:53,  9.12it/s, train_loss=-16.4]"
          ]
        },
        {
          "name": "stdout",
          "output_type": "stream",
          "text": [
            "__main__ - infinite loss or empty loss! it happened 1 times so far - skipping this batch\n"
          ]
        },
        {
          "name": "stderr",
          "output_type": "stream",
          "text": [
            " 24%|██▍       | 298/1250 [00:33<01:42,  9.33it/s, train_loss=-16.2]"
          ]
        },
        {
          "name": "stdout",
          "output_type": "stream",
          "text": [
            "__main__ - infinite loss or empty loss! it happened 2 times so far - skipping this batch\n"
          ]
        },
        {
          "name": "stderr",
          "output_type": "stream",
          "text": [
            " 97%|█████████▋| 1210/1250 [02:16<00:04,  9.58it/s, train_loss=-16.2]"
          ]
        },
        {
          "name": "stdout",
          "output_type": "stream",
          "text": [
            "__main__ - infinite loss or empty loss! it happened 3 times so far - skipping this batch\n"
          ]
        },
        {
          "name": "stderr",
          "output_type": "stream",
          "text": [
            "100%|██████████| 1250/1250 [02:21<00:00,  8.86it/s, train_loss=-16.1]\n"
          ]
        },
        {
          "name": "stdout",
          "output_type": "stream",
          "text": [
            "Delta lang loss = 0.0, Delta separate loss = 1.0\n"
          ]
        },
        {
          "name": "stderr",
          "output_type": "stream",
          "text": [
            "100%|██████████| 500/500 [00:20<00:00, 24.15it/s]"
          ]
        },
        {
          "name": "stdout",
          "output_type": "stream",
          "text": [
            "speechbrain.utils.train_logger - epoch: 18, lr: 1.50e-03 - train final_loss: -1.61e+01 - valid final_loss: -1.14e+01, valid Accuracy soft: 0.2638358175754547, valid Accuracy Partial: 0.5320000052452087\n"
          ]
        },
        {
          "name": "stderr",
          "output_type": "stream",
          "text": [
            "\n"
          ]
        },
        {
          "name": "stdout",
          "output_type": "stream",
          "text": [
            "speechbrain.utils.checkpoints - Saved an end-of-epoch checkpoint in results/convtasnet/1234/save/CKPT+2025-07-29+18-51-49+00\n",
            "speechbrain.utils.checkpoints - Deleted checkpoint in results/convtasnet/1234/save/CKPT+2025-07-29+18-49-06+00\n",
            "speechbrain.utils.epoch_loop - Going into epoch 19\n",
            "Delta lang loss = 0.0, Delta separate loss = 1.0\n"
          ]
        },
        {
          "name": "stderr",
          "output_type": "stream",
          "text": [
            " 18%|█▊        | 219/1250 [00:24<01:52,  9.17it/s, train_loss=-16.5]"
          ]
        },
        {
          "name": "stdout",
          "output_type": "stream",
          "text": [
            "__main__ - infinite loss or empty loss! it happened 1 times so far - skipping this batch\n"
          ]
        },
        {
          "name": "stderr",
          "output_type": "stream",
          "text": [
            " 97%|█████████▋| 1210/1250 [02:16<00:04,  9.45it/s, train_loss=-16.3]"
          ]
        },
        {
          "name": "stdout",
          "output_type": "stream",
          "text": [
            "__main__ - infinite loss or empty loss! it happened 2 times so far - skipping this batch\n"
          ]
        },
        {
          "name": "stderr",
          "output_type": "stream",
          "text": [
            "100%|██████████| 1250/1250 [02:20<00:00,  8.89it/s, train_loss=-16.3]\n"
          ]
        },
        {
          "name": "stdout",
          "output_type": "stream",
          "text": [
            "Delta lang loss = 0.0, Delta separate loss = 1.0\n"
          ]
        },
        {
          "name": "stderr",
          "output_type": "stream",
          "text": [
            "100%|██████████| 500/500 [00:20<00:00, 24.16it/s]"
          ]
        },
        {
          "name": "stdout",
          "output_type": "stream",
          "text": [
            "speechbrain.utils.train_logger - epoch: 19, lr: 1.50e-03 - train final_loss: -1.63e+01 - valid final_loss: -1.14e+01, valid Accuracy soft: 0.2645288109779358, valid Accuracy Partial: 0.5320000052452087\n"
          ]
        },
        {
          "name": "stderr",
          "output_type": "stream",
          "text": [
            "\n"
          ]
        },
        {
          "name": "stdout",
          "output_type": "stream",
          "text": [
            "speechbrain.utils.checkpoints - Saved an end-of-epoch checkpoint in results/convtasnet/1234/save/CKPT+2025-07-29+18-54-30+00\n",
            "speechbrain.utils.checkpoints - Deleted checkpoint in results/convtasnet/1234/save/CKPT+2025-07-29+18-51-49+00\n",
            "speechbrain.utils.epoch_loop - Going into epoch 20\n",
            "Delta lang loss = 0.0, Delta separate loss = 1.0\n"
          ]
        },
        {
          "name": "stderr",
          "output_type": "stream",
          "text": [
            " 18%|█▊        | 219/1250 [00:25<01:52,  9.17it/s, train_loss=-16.5]"
          ]
        },
        {
          "name": "stdout",
          "output_type": "stream",
          "text": [
            "__main__ - infinite loss or empty loss! it happened 1 times so far - skipping this batch\n"
          ]
        },
        {
          "name": "stderr",
          "output_type": "stream",
          "text": [
            " 97%|█████████▋| 1210/1250 [02:17<00:04,  8.78it/s, train_loss=-16.4]"
          ]
        },
        {
          "name": "stdout",
          "output_type": "stream",
          "text": [
            "__main__ - infinite loss or empty loss! it happened 2 times so far - skipping this batch\n"
          ]
        },
        {
          "name": "stderr",
          "output_type": "stream",
          "text": [
            "100%|██████████| 1250/1250 [02:21<00:00,  8.80it/s, train_loss=-16.4]\n"
          ]
        },
        {
          "name": "stdout",
          "output_type": "stream",
          "text": [
            "__main__ - Saved file succesfully\n",
            "Delta lang loss = 0.0, Delta separate loss = 1.0\n"
          ]
        },
        {
          "name": "stderr",
          "output_type": "stream",
          "text": [
            "100%|██████████| 500/500 [00:21<00:00, 22.96it/s]"
          ]
        },
        {
          "name": "stdout",
          "output_type": "stream",
          "text": [
            "speechbrain.utils.train_logger - epoch: 20, lr: 1.50e-03 - train final_loss: -1.64e+01 - valid final_loss: -1.11e+01, valid Accuracy soft: 0.2595705986022949, valid Accuracy Partial: 0.5260000228881836\n"
          ]
        },
        {
          "name": "stderr",
          "output_type": "stream",
          "text": [
            "\n"
          ]
        },
        {
          "name": "stdout",
          "output_type": "stream",
          "text": [
            "speechbrain.utils.checkpoints - Saved an end-of-epoch checkpoint in results/convtasnet/1234/save/CKPT+2025-07-29+18-57-26+00\n",
            "speechbrain.utils.checkpoints - Deleted checkpoint in results/convtasnet/1234/save/CKPT+2025-07-29+18-54-30+00\n",
            "speechbrain.utils.epoch_loop - Going into epoch 21\n",
            "__main__ - Unfreezing ECAPA\n",
            "Delta lang loss = 0.15, Delta separate loss = 0.85\n"
          ]
        },
        {
          "name": "stderr",
          "output_type": "stream",
          "text": [
            "100%|██████████| 1250/1250 [02:39<00:00,  7.82it/s, train_loss=-13.1]\n"
          ]
        },
        {
          "name": "stdout",
          "output_type": "stream",
          "text": [
            "Delta lang loss = 0.15, Delta separate loss = 0.85\n"
          ]
        },
        {
          "name": "stderr",
          "output_type": "stream",
          "text": [
            "100%|██████████| 500/500 [00:21<00:00, 23.69it/s]"
          ]
        },
        {
          "name": "stdout",
          "output_type": "stream",
          "text": [
            "speechbrain.utils.train_logger - epoch: 21, lr: 1.00e-05 - train final_loss: -1.31e+01 - valid final_loss: -8.23e+00, valid Accuracy soft: 0.2633177936077118, valid Accuracy Partial: 0.5320000052452087\n"
          ]
        },
        {
          "name": "stderr",
          "output_type": "stream",
          "text": [
            "\n"
          ]
        },
        {
          "name": "stdout",
          "output_type": "stream",
          "text": [
            "speechbrain.utils.checkpoints - Saved an end-of-epoch checkpoint in results/convtasnet/1234/save/CKPT+2025-07-29+19-00-28+00\n",
            "speechbrain.utils.checkpoints - Deleted checkpoint in results/convtasnet/1234/save/CKPT+2025-07-29+18-57-26+00\n",
            "speechbrain.utils.epoch_loop - Going into epoch 22\n",
            "Delta lang loss = 0.15, Delta separate loss = 0.85\n"
          ]
        },
        {
          "name": "stderr",
          "output_type": "stream",
          "text": [
            "100%|██████████| 1250/1250 [02:40<00:00,  7.78it/s, train_loss=-13.4]\n"
          ]
        },
        {
          "name": "stdout",
          "output_type": "stream",
          "text": [
            "Delta lang loss = 0.15, Delta separate loss = 0.85\n"
          ]
        },
        {
          "name": "stderr",
          "output_type": "stream",
          "text": [
            "100%|██████████| 500/500 [00:21<00:00, 23.71it/s]"
          ]
        },
        {
          "name": "stdout",
          "output_type": "stream",
          "text": [
            "speechbrain.utils.train_logger - epoch: 22, lr: 1.00e-05 - train final_loss: -1.34e+01 - valid final_loss: -8.17e+00, valid Accuracy soft: 0.27132558822631836, valid Accuracy Partial: 0.550000011920929\n"
          ]
        },
        {
          "name": "stderr",
          "output_type": "stream",
          "text": [
            "\n"
          ]
        },
        {
          "name": "stdout",
          "output_type": "stream",
          "text": [
            "speechbrain.utils.checkpoints - Saved an end-of-epoch checkpoint in results/convtasnet/1234/save/CKPT+2025-07-29+19-03-30+00\n",
            "speechbrain.utils.checkpoints - Deleted checkpoint in results/convtasnet/1234/save/CKPT+2025-07-29+19-00-28+00\n",
            "speechbrain.utils.epoch_loop - Going into epoch 23\n",
            "Delta lang loss = 0.15, Delta separate loss = 0.85\n"
          ]
        },
        {
          "name": "stderr",
          "output_type": "stream",
          "text": [
            "100%|██████████| 1250/1250 [02:39<00:00,  7.84it/s, train_loss=-13.5]\n"
          ]
        },
        {
          "name": "stdout",
          "output_type": "stream",
          "text": [
            "Delta lang loss = 0.15, Delta separate loss = 0.85\n"
          ]
        },
        {
          "name": "stderr",
          "output_type": "stream",
          "text": [
            "100%|██████████| 500/500 [00:21<00:00, 23.66it/s]"
          ]
        },
        {
          "name": "stdout",
          "output_type": "stream",
          "text": [
            "speechbrain.utils.train_logger - epoch: 23, lr: 1.00e-05 - train final_loss: -1.35e+01 - valid final_loss: -8.19e+00, valid Accuracy soft: 0.27422234416007996, valid Accuracy Partial: 0.5559999942779541\n"
          ]
        },
        {
          "name": "stderr",
          "output_type": "stream",
          "text": [
            "\n"
          ]
        },
        {
          "name": "stdout",
          "output_type": "stream",
          "text": [
            "speechbrain.utils.checkpoints - Saved an end-of-epoch checkpoint in results/convtasnet/1234/save/CKPT+2025-07-29+19-06-31+00\n",
            "speechbrain.utils.checkpoints - Deleted checkpoint in results/convtasnet/1234/save/CKPT+2025-07-29+19-03-30+00\n",
            "speechbrain.utils.epoch_loop - Going into epoch 24\n",
            "Delta lang loss = 0.15, Delta separate loss = 0.85\n"
          ]
        },
        {
          "name": "stderr",
          "output_type": "stream",
          "text": [
            "100%|██████████| 1250/1250 [02:38<00:00,  7.87it/s, train_loss=-13.6]\n"
          ]
        },
        {
          "name": "stdout",
          "output_type": "stream",
          "text": [
            "Delta lang loss = 0.15, Delta separate loss = 0.85\n"
          ]
        },
        {
          "name": "stderr",
          "output_type": "stream",
          "text": [
            "100%|██████████| 500/500 [00:21<00:00, 23.63it/s]"
          ]
        },
        {
          "name": "stdout",
          "output_type": "stream",
          "text": [
            "speechbrain.utils.train_logger - epoch: 24, lr: 1.00e-05 - train final_loss: -1.36e+01 - valid final_loss: -8.38e+00, valid Accuracy soft: 0.28140339255332947, valid Accuracy Partial: 0.5730000138282776\n"
          ]
        },
        {
          "name": "stderr",
          "output_type": "stream",
          "text": [
            "\n"
          ]
        },
        {
          "name": "stdout",
          "output_type": "stream",
          "text": [
            "speechbrain.utils.checkpoints - Saved an end-of-epoch checkpoint in results/convtasnet/1234/save/CKPT+2025-07-29+19-09-31+00\n",
            "speechbrain.utils.checkpoints - Deleted checkpoint in results/convtasnet/1234/save/CKPT+2025-07-29+19-06-31+00\n",
            "speechbrain.utils.epoch_loop - Going into epoch 25\n",
            "Delta lang loss = 0.15, Delta separate loss = 0.85\n"
          ]
        },
        {
          "name": "stderr",
          "output_type": "stream",
          "text": [
            "100%|██████████| 1250/1250 [02:40<00:00,  7.81it/s, train_loss=-13.7]\n"
          ]
        },
        {
          "name": "stdout",
          "output_type": "stream",
          "text": [
            "Delta lang loss = 0.15, Delta separate loss = 0.85\n"
          ]
        },
        {
          "name": "stderr",
          "output_type": "stream",
          "text": [
            "100%|██████████| 500/500 [00:20<00:00, 23.87it/s]"
          ]
        },
        {
          "name": "stdout",
          "output_type": "stream",
          "text": [
            "speechbrain.utils.train_logger - epoch: 25, lr: 1.00e-05 - train final_loss: -1.37e+01 - valid final_loss: -8.50e+00, valid Accuracy soft: 0.28452202677726746, valid Accuracy Partial: 0.5799999833106995\n"
          ]
        },
        {
          "name": "stderr",
          "output_type": "stream",
          "text": [
            "\n"
          ]
        },
        {
          "name": "stdout",
          "output_type": "stream",
          "text": [
            "speechbrain.utils.checkpoints - Saved an end-of-epoch checkpoint in results/convtasnet/1234/save/CKPT+2025-07-29+19-12-33+00\n",
            "speechbrain.utils.checkpoints - Deleted checkpoint in results/convtasnet/1234/save/CKPT+2025-07-29+19-09-31+00\n",
            "speechbrain.utils.epoch_loop - Going into epoch 26\n",
            "Delta lang loss = 0.15, Delta separate loss = 0.85\n"
          ]
        },
        {
          "name": "stderr",
          "output_type": "stream",
          "text": [
            "100%|██████████| 1250/1250 [02:39<00:00,  7.85it/s, train_loss=-13.7]\n"
          ]
        },
        {
          "name": "stdout",
          "output_type": "stream",
          "text": [
            "Delta lang loss = 0.15, Delta separate loss = 0.85\n"
          ]
        },
        {
          "name": "stderr",
          "output_type": "stream",
          "text": [
            "100%|██████████| 500/500 [00:21<00:00, 23.58it/s]"
          ]
        },
        {
          "name": "stdout",
          "output_type": "stream",
          "text": [
            "speechbrain.utils.train_logger - epoch: 26, lr: 1.00e-05 - train final_loss: -1.37e+01 - valid final_loss: -8.56e+00, valid Accuracy soft: 0.2871990501880646, valid Accuracy Partial: 0.5830000042915344\n"
          ]
        },
        {
          "name": "stderr",
          "output_type": "stream",
          "text": [
            "\n"
          ]
        },
        {
          "name": "stdout",
          "output_type": "stream",
          "text": [
            "speechbrain.utils.checkpoints - Saved an end-of-epoch checkpoint in results/convtasnet/1234/save/CKPT+2025-07-29+19-15-34+00\n",
            "speechbrain.utils.checkpoints - Deleted checkpoint in results/convtasnet/1234/save/CKPT+2025-07-29+19-12-33+00\n",
            "speechbrain.utils.epoch_loop - Going into epoch 27\n",
            "Delta lang loss = 0.15, Delta separate loss = 0.85\n"
          ]
        },
        {
          "name": "stderr",
          "output_type": "stream",
          "text": [
            "100%|██████████| 1250/1250 [02:42<00:00,  7.71it/s, train_loss=-13.8]\n"
          ]
        },
        {
          "name": "stdout",
          "output_type": "stream",
          "text": [
            "Delta lang loss = 0.15, Delta separate loss = 0.85\n"
          ]
        },
        {
          "name": "stderr",
          "output_type": "stream",
          "text": [
            "100%|██████████| 500/500 [00:21<00:00, 23.65it/s]"
          ]
        },
        {
          "name": "stdout",
          "output_type": "stream",
          "text": [
            "speechbrain.utils.train_logger - epoch: 27, lr: 1.00e-05 - train final_loss: -1.38e+01 - valid final_loss: -8.50e+00, valid Accuracy soft: 0.29272064566612244, valid Accuracy Partial: 0.5929999947547913\n"
          ]
        },
        {
          "name": "stderr",
          "output_type": "stream",
          "text": [
            "\n"
          ]
        },
        {
          "name": "stdout",
          "output_type": "stream",
          "text": [
            "speechbrain.utils.checkpoints - Saved an end-of-epoch checkpoint in results/convtasnet/1234/save/CKPT+2025-07-29+19-18-37+00\n",
            "speechbrain.utils.checkpoints - Deleted checkpoint in results/convtasnet/1234/save/CKPT+2025-07-29+19-15-34+00\n",
            "speechbrain.utils.epoch_loop - Going into epoch 28\n",
            "Delta lang loss = 0.15, Delta separate loss = 0.85\n"
          ]
        },
        {
          "name": "stderr",
          "output_type": "stream",
          "text": [
            "100%|██████████| 1250/1250 [02:40<00:00,  7.81it/s, train_loss=-13.8]\n"
          ]
        },
        {
          "name": "stdout",
          "output_type": "stream",
          "text": [
            "Delta lang loss = 0.15, Delta separate loss = 0.85\n"
          ]
        },
        {
          "name": "stderr",
          "output_type": "stream",
          "text": [
            "100%|██████████| 500/500 [00:21<00:00, 23.63it/s]"
          ]
        },
        {
          "name": "stdout",
          "output_type": "stream",
          "text": [
            "speechbrain.utils.train_logger - epoch: 28, lr: 1.00e-05 - train final_loss: -1.38e+01 - valid final_loss: -8.48e+00, valid Accuracy soft: 0.2856677174568176, valid Accuracy Partial: 0.5789999961853027\n"
          ]
        },
        {
          "name": "stderr",
          "output_type": "stream",
          "text": [
            "\n"
          ]
        },
        {
          "name": "stdout",
          "output_type": "stream",
          "text": [
            "speechbrain.utils.checkpoints - Saved an end-of-epoch checkpoint in results/convtasnet/1234/save/CKPT+2025-07-29+19-21-39+00\n",
            "speechbrain.utils.checkpoints - Deleted checkpoint in results/convtasnet/1234/save/CKPT+2025-07-29+19-18-37+00\n",
            "speechbrain.utils.epoch_loop - Going into epoch 29\n",
            "Delta lang loss = 0.15, Delta separate loss = 0.85\n"
          ]
        },
        {
          "name": "stderr",
          "output_type": "stream",
          "text": [
            "100%|██████████| 1250/1250 [02:40<00:00,  7.80it/s, train_loss=-13.8]\n"
          ]
        },
        {
          "name": "stdout",
          "output_type": "stream",
          "text": [
            "Delta lang loss = 0.15, Delta separate loss = 0.85\n"
          ]
        },
        {
          "name": "stderr",
          "output_type": "stream",
          "text": [
            "100%|██████████| 500/500 [00:21<00:00, 23.59it/s]"
          ]
        },
        {
          "name": "stdout",
          "output_type": "stream",
          "text": [
            "speechbrain.utils.train_logger - epoch: 29, lr: 1.00e-05 - train final_loss: -1.38e+01 - valid final_loss: -8.62e+00, valid Accuracy soft: 0.28815990686416626, valid Accuracy Partial: 0.5830000042915344\n"
          ]
        },
        {
          "name": "stderr",
          "output_type": "stream",
          "text": [
            "\n"
          ]
        },
        {
          "name": "stdout",
          "output_type": "stream",
          "text": [
            "speechbrain.utils.checkpoints - Saved an end-of-epoch checkpoint in results/convtasnet/1234/save/CKPT+2025-07-29+19-24-41+00\n",
            "speechbrain.utils.checkpoints - Deleted checkpoint in results/convtasnet/1234/save/CKPT+2025-07-29+19-21-39+00\n",
            "speechbrain.utils.epoch_loop - Going into epoch 30\n",
            "Delta lang loss = 0.15, Delta separate loss = 0.85\n"
          ]
        },
        {
          "name": "stderr",
          "output_type": "stream",
          "text": [
            "100%|██████████| 1250/1250 [02:40<00:00,  7.80it/s, train_loss=-13.9]\n"
          ]
        },
        {
          "name": "stdout",
          "output_type": "stream",
          "text": [
            "Delta lang loss = 0.15, Delta separate loss = 0.85\n"
          ]
        },
        {
          "name": "stderr",
          "output_type": "stream",
          "text": [
            "100%|██████████| 500/500 [00:21<00:00, 23.34it/s]"
          ]
        },
        {
          "name": "stdout",
          "output_type": "stream",
          "text": [
            "speechbrain.utils.train_logger - epoch: 30, lr: 1.00e-05 - train final_loss: -1.39e+01 - valid final_loss: -8.88e+00, valid Accuracy soft: 0.29296982288360596, valid Accuracy Partial: 0.5929999947547913\n"
          ]
        },
        {
          "name": "stderr",
          "output_type": "stream",
          "text": [
            "\n"
          ]
        },
        {
          "name": "stdout",
          "output_type": "stream",
          "text": [
            "speechbrain.utils.checkpoints - Saved an end-of-epoch checkpoint in results/convtasnet/1234/save/CKPT+2025-07-29+19-27-43+00\n",
            "speechbrain.utils.checkpoints - Deleted checkpoint in results/convtasnet/1234/save/CKPT+2025-07-29+19-24-41+00\n",
            "speechbrain.utils.epoch_loop - Going into epoch 31\n",
            "Delta lang loss = 0.15, Delta separate loss = 0.85\n"
          ]
        },
        {
          "name": "stderr",
          "output_type": "stream",
          "text": [
            "100%|██████████| 1250/1250 [02:40<00:00,  7.79it/s, train_loss=-13.9]\n"
          ]
        },
        {
          "name": "stdout",
          "output_type": "stream",
          "text": [
            "Delta lang loss = 0.15, Delta separate loss = 0.85\n"
          ]
        },
        {
          "name": "stderr",
          "output_type": "stream",
          "text": [
            "100%|██████████| 500/500 [00:21<00:00, 23.61it/s]"
          ]
        },
        {
          "name": "stdout",
          "output_type": "stream",
          "text": [
            "speechbrain.utils.train_logger - epoch: 31, lr: 1.00e-05 - train final_loss: -1.39e+01 - valid final_loss: -8.50e+00, valid Accuracy soft: 0.296103835105896, valid Accuracy Partial: 0.5989999771118164\n"
          ]
        },
        {
          "name": "stderr",
          "output_type": "stream",
          "text": [
            "\n"
          ]
        },
        {
          "name": "stdout",
          "output_type": "stream",
          "text": [
            "speechbrain.utils.checkpoints - Saved an end-of-epoch checkpoint in results/convtasnet/1234/save/CKPT+2025-07-29+19-30-45+00\n",
            "speechbrain.utils.checkpoints - Deleted checkpoint in results/convtasnet/1234/save/CKPT+2025-07-29+19-27-43+00\n",
            "speechbrain.utils.epoch_loop - Going into epoch 32\n",
            "Delta lang loss = 0.15, Delta separate loss = 0.85\n"
          ]
        },
        {
          "name": "stderr",
          "output_type": "stream",
          "text": [
            "100%|██████████| 1250/1250 [02:41<00:00,  7.75it/s, train_loss=-14]\n"
          ]
        },
        {
          "name": "stdout",
          "output_type": "stream",
          "text": [
            "Delta lang loss = 0.15, Delta separate loss = 0.85\n"
          ]
        },
        {
          "name": "stderr",
          "output_type": "stream",
          "text": [
            "100%|██████████| 500/500 [00:21<00:00, 23.56it/s]"
          ]
        },
        {
          "name": "stdout",
          "output_type": "stream",
          "text": [
            "speechbrain.utils.train_logger - epoch: 32, lr: 1.00e-05 - train final_loss: -1.40e+01 - valid final_loss: -8.91e+00, valid Accuracy soft: 0.29918888211250305, valid Accuracy Partial: 0.6050000190734863\n"
          ]
        },
        {
          "name": "stderr",
          "output_type": "stream",
          "text": [
            "\n"
          ]
        },
        {
          "name": "stdout",
          "output_type": "stream",
          "text": [
            "speechbrain.utils.checkpoints - Saved an end-of-epoch checkpoint in results/convtasnet/1234/save/CKPT+2025-07-29+19-33-48+00\n",
            "speechbrain.utils.checkpoints - Deleted checkpoint in results/convtasnet/1234/save/CKPT+2025-07-29+19-30-45+00\n",
            "speechbrain.utils.epoch_loop - Going into epoch 33\n",
            "Delta lang loss = 0.15, Delta separate loss = 0.85\n"
          ]
        },
        {
          "name": "stderr",
          "output_type": "stream",
          "text": [
            " 97%|█████████▋| 1210/1250 [02:36<00:04,  8.26it/s, train_loss=-14]"
          ]
        },
        {
          "name": "stdout",
          "output_type": "stream",
          "text": [
            "__main__ - infinite loss or empty loss! it happened 1 times so far - skipping this batch\n"
          ]
        },
        {
          "name": "stderr",
          "output_type": "stream",
          "text": [
            "100%|██████████| 1250/1250 [02:41<00:00,  7.75it/s, train_loss=-14]\n"
          ]
        },
        {
          "name": "stdout",
          "output_type": "stream",
          "text": [
            "Delta lang loss = 0.15, Delta separate loss = 0.85\n"
          ]
        },
        {
          "name": "stderr",
          "output_type": "stream",
          "text": [
            "100%|██████████| 500/500 [00:21<00:00, 23.59it/s]"
          ]
        },
        {
          "name": "stdout",
          "output_type": "stream",
          "text": [
            "speechbrain.utils.train_logger - epoch: 33, lr: 1.00e-05 - train final_loss: -1.40e+01 - valid final_loss: -9.30e+00, valid Accuracy soft: 0.3149513602256775, valid Accuracy Partial: 0.6340000033378601\n"
          ]
        },
        {
          "name": "stderr",
          "output_type": "stream",
          "text": [
            "\n"
          ]
        },
        {
          "name": "stdout",
          "output_type": "stream",
          "text": [
            "speechbrain.utils.checkpoints - Saved an end-of-epoch checkpoint in results/convtasnet/1234/save/CKPT+2025-07-29+19-36-51+00\n",
            "speechbrain.utils.checkpoints - Deleted checkpoint in results/convtasnet/1234/save/CKPT+2025-07-29+19-33-48+00\n",
            "speechbrain.utils.epoch_loop - Going into epoch 34\n",
            "Delta lang loss = 0.15, Delta separate loss = 0.85\n"
          ]
        },
        {
          "name": "stderr",
          "output_type": "stream",
          "text": [
            " 97%|█████████▋| 1210/1250 [02:36<00:04,  8.07it/s, train_loss=-14]"
          ]
        },
        {
          "name": "stdout",
          "output_type": "stream",
          "text": [
            "__main__ - infinite loss or empty loss! it happened 1 times so far - skipping this batch\n"
          ]
        },
        {
          "name": "stderr",
          "output_type": "stream",
          "text": [
            "100%|██████████| 1250/1250 [02:41<00:00,  7.73it/s, train_loss=-14]\n"
          ]
        },
        {
          "name": "stdout",
          "output_type": "stream",
          "text": [
            "Delta lang loss = 0.15, Delta separate loss = 0.85\n"
          ]
        },
        {
          "name": "stderr",
          "output_type": "stream",
          "text": [
            "100%|██████████| 500/500 [00:21<00:00, 23.18it/s]"
          ]
        },
        {
          "name": "stdout",
          "output_type": "stream",
          "text": [
            "speechbrain.utils.train_logger - epoch: 34, lr: 1.00e-05 - train final_loss: -1.40e+01 - valid final_loss: -9.32e+00, valid Accuracy soft: 0.31648388504981995, valid Accuracy Partial: 0.6380000114440918\n"
          ]
        },
        {
          "name": "stderr",
          "output_type": "stream",
          "text": [
            "\n"
          ]
        },
        {
          "name": "stdout",
          "output_type": "stream",
          "text": [
            "speechbrain.utils.checkpoints - Saved an end-of-epoch checkpoint in results/convtasnet/1234/save/CKPT+2025-07-29+19-39-55+00\n",
            "speechbrain.utils.checkpoints - Deleted checkpoint in results/convtasnet/1234/save/CKPT+2025-07-29+19-36-51+00\n",
            "speechbrain.utils.epoch_loop - Going into epoch 35\n",
            "Delta lang loss = 0.15, Delta separate loss = 0.85\n"
          ]
        },
        {
          "name": "stderr",
          "output_type": "stream",
          "text": [
            " 97%|█████████▋| 1210/1250 [02:36<00:04,  8.40it/s, train_loss=-14]"
          ]
        },
        {
          "name": "stdout",
          "output_type": "stream",
          "text": [
            "__main__ - infinite loss or empty loss! it happened 1 times so far - skipping this batch\n"
          ]
        },
        {
          "name": "stderr",
          "output_type": "stream",
          "text": [
            "100%|██████████| 1250/1250 [02:41<00:00,  7.76it/s, train_loss=-14]\n"
          ]
        },
        {
          "name": "stdout",
          "output_type": "stream",
          "text": [
            "Delta lang loss = 0.15, Delta separate loss = 0.85\n"
          ]
        },
        {
          "name": "stderr",
          "output_type": "stream",
          "text": [
            "100%|██████████| 500/500 [00:21<00:00, 23.53it/s]"
          ]
        },
        {
          "name": "stdout",
          "output_type": "stream",
          "text": [
            "speechbrain.utils.train_logger - epoch: 35, lr: 1.00e-05 - train final_loss: -1.40e+01 - valid final_loss: -8.70e+00, valid Accuracy soft: 0.3069867789745331, valid Accuracy Partial: 0.6200000047683716\n"
          ]
        },
        {
          "name": "stderr",
          "output_type": "stream",
          "text": [
            "\n"
          ]
        },
        {
          "name": "stdout",
          "output_type": "stream",
          "text": [
            "speechbrain.utils.checkpoints - Saved an end-of-epoch checkpoint in results/convtasnet/1234/save/CKPT+2025-07-29+19-42-58+00\n",
            "speechbrain.utils.checkpoints - Deleted checkpoint in results/convtasnet/1234/save/CKPT+2025-07-29+19-39-55+00\n",
            "speechbrain.utils.epoch_loop - Going into epoch 36\n",
            "Delta lang loss = 0.15, Delta separate loss = 0.85\n"
          ]
        },
        {
          "name": "stderr",
          "output_type": "stream",
          "text": [
            " 97%|█████████▋| 1210/1250 [02:35<00:04,  8.37it/s, train_loss=-14]"
          ]
        },
        {
          "name": "stdout",
          "output_type": "stream",
          "text": [
            "__main__ - infinite loss or empty loss! it happened 1 times so far - skipping this batch\n"
          ]
        },
        {
          "name": "stderr",
          "output_type": "stream",
          "text": [
            "100%|██████████| 1250/1250 [02:40<00:00,  7.77it/s, train_loss=-14]\n"
          ]
        },
        {
          "name": "stdout",
          "output_type": "stream",
          "text": [
            "Delta lang loss = 0.15, Delta separate loss = 0.85\n"
          ]
        },
        {
          "name": "stderr",
          "output_type": "stream",
          "text": [
            "100%|██████████| 500/500 [00:21<00:00, 23.42it/s]"
          ]
        },
        {
          "name": "stdout",
          "output_type": "stream",
          "text": [
            "speechbrain.utils.train_logger - epoch: 36, lr: 1.00e-05 - train final_loss: -1.40e+01 - valid final_loss: -8.79e+00, valid Accuracy soft: 0.3125767111778259, valid Accuracy Partial: 0.6340000033378601\n"
          ]
        },
        {
          "name": "stderr",
          "output_type": "stream",
          "text": [
            "\n"
          ]
        },
        {
          "name": "stdout",
          "output_type": "stream",
          "text": [
            "speechbrain.utils.checkpoints - Saved an end-of-epoch checkpoint in results/convtasnet/1234/save/CKPT+2025-07-29+19-46-01+00\n",
            "speechbrain.utils.checkpoints - Deleted checkpoint in results/convtasnet/1234/save/CKPT+2025-07-29+19-42-58+00\n",
            "speechbrain.utils.epoch_loop - Going into epoch 37\n",
            "Delta lang loss = 0.15, Delta separate loss = 0.85\n"
          ]
        },
        {
          "name": "stderr",
          "output_type": "stream",
          "text": [
            " 97%|█████████▋| 1210/1250 [02:35<00:05,  7.95it/s, train_loss=-14.1]"
          ]
        },
        {
          "name": "stdout",
          "output_type": "stream",
          "text": [
            "__main__ - infinite loss or empty loss! it happened 1 times so far - skipping this batch\n"
          ]
        },
        {
          "name": "stderr",
          "output_type": "stream",
          "text": [
            "100%|██████████| 1250/1250 [02:40<00:00,  7.77it/s, train_loss=-14.1]\n"
          ]
        },
        {
          "name": "stdout",
          "output_type": "stream",
          "text": [
            "Delta lang loss = 0.15, Delta separate loss = 0.85\n"
          ]
        },
        {
          "name": "stderr",
          "output_type": "stream",
          "text": [
            "100%|██████████| 500/500 [00:21<00:00, 23.49it/s]"
          ]
        },
        {
          "name": "stdout",
          "output_type": "stream",
          "text": [
            "speechbrain.utils.train_logger - epoch: 37, lr: 1.00e-05 - train final_loss: -1.41e+01 - valid final_loss: -8.67e+00, valid Accuracy soft: 0.30166226625442505, valid Accuracy Partial: 0.6129999756813049\n"
          ]
        },
        {
          "name": "stderr",
          "output_type": "stream",
          "text": [
            "\n"
          ]
        },
        {
          "name": "stdout",
          "output_type": "stream",
          "text": [
            "speechbrain.utils.checkpoints - Saved an end-of-epoch checkpoint in results/convtasnet/1234/save/CKPT+2025-07-29+19-49-03+00\n",
            "speechbrain.utils.checkpoints - Deleted checkpoint in results/convtasnet/1234/save/CKPT+2025-07-29+19-46-01+00\n",
            "speechbrain.utils.epoch_loop - Going into epoch 38\n",
            "Delta lang loss = 0.15, Delta separate loss = 0.85\n"
          ]
        },
        {
          "name": "stderr",
          "output_type": "stream",
          "text": [
            " 97%|█████████▋| 1210/1250 [02:36<00:04,  8.29it/s, train_loss=-14.1]"
          ]
        },
        {
          "name": "stdout",
          "output_type": "stream",
          "text": [
            "__main__ - infinite loss or empty loss! it happened 1 times so far - skipping this batch\n"
          ]
        },
        {
          "name": "stderr",
          "output_type": "stream",
          "text": [
            "100%|██████████| 1250/1250 [02:41<00:00,  7.74it/s, train_loss=-14.1]\n"
          ]
        },
        {
          "name": "stdout",
          "output_type": "stream",
          "text": [
            "Delta lang loss = 0.15, Delta separate loss = 0.85\n"
          ]
        },
        {
          "name": "stderr",
          "output_type": "stream",
          "text": [
            "100%|██████████| 500/500 [00:21<00:00, 23.57it/s]"
          ]
        },
        {
          "name": "stdout",
          "output_type": "stream",
          "text": [
            "speechbrain.utils.train_logger - epoch: 38, lr: 1.00e-05 - train final_loss: -1.41e+01 - valid final_loss: -8.68e+00, valid Accuracy soft: 0.3016795814037323, valid Accuracy Partial: 0.609000027179718\n"
          ]
        },
        {
          "name": "stderr",
          "output_type": "stream",
          "text": [
            "\n"
          ]
        },
        {
          "name": "stdout",
          "output_type": "stream",
          "text": [
            "speechbrain.utils.checkpoints - Saved an end-of-epoch checkpoint in results/convtasnet/1234/save/CKPT+2025-07-29+19-52-06+00\n",
            "speechbrain.utils.checkpoints - Deleted checkpoint in results/convtasnet/1234/save/CKPT+2025-07-29+19-49-03+00\n",
            "speechbrain.utils.epoch_loop - Going into epoch 39\n",
            "Delta lang loss = 0.15, Delta separate loss = 0.85\n"
          ]
        },
        {
          "name": "stderr",
          "output_type": "stream",
          "text": [
            " 97%|█████████▋| 1210/1250 [02:36<00:04,  8.52it/s, train_loss=-14.1]"
          ]
        },
        {
          "name": "stdout",
          "output_type": "stream",
          "text": [
            "__main__ - infinite loss or empty loss! it happened 1 times so far - skipping this batch\n"
          ]
        },
        {
          "name": "stderr",
          "output_type": "stream",
          "text": [
            "100%|██████████| 1250/1250 [02:41<00:00,  7.72it/s, train_loss=-14.1]\n"
          ]
        },
        {
          "name": "stdout",
          "output_type": "stream",
          "text": [
            "Delta lang loss = 0.15, Delta separate loss = 0.85\n"
          ]
        },
        {
          "name": "stderr",
          "output_type": "stream",
          "text": [
            "100%|██████████| 500/500 [00:21<00:00, 23.40it/s]"
          ]
        },
        {
          "name": "stdout",
          "output_type": "stream",
          "text": [
            "speechbrain.utils.train_logger - epoch: 39, lr: 1.00e-05 - train final_loss: -1.41e+01 - valid final_loss: -8.76e+00, valid Accuracy soft: 0.3112741708755493, valid Accuracy Partial: 0.6320000290870667\n"
          ]
        },
        {
          "name": "stderr",
          "output_type": "stream",
          "text": [
            "\n"
          ]
        },
        {
          "name": "stdout",
          "output_type": "stream",
          "text": [
            "speechbrain.utils.checkpoints - Saved an end-of-epoch checkpoint in results/convtasnet/1234/save/CKPT+2025-07-29+19-55-10+00\n",
            "speechbrain.utils.checkpoints - Deleted checkpoint in results/convtasnet/1234/save/CKPT+2025-07-29+19-52-06+00\n",
            "speechbrain.utils.epoch_loop - Going into epoch 40\n",
            "Delta lang loss = 0.15, Delta separate loss = 0.85\n"
          ]
        },
        {
          "name": "stderr",
          "output_type": "stream",
          "text": [
            " 97%|█████████▋| 1210/1250 [02:36<00:04,  8.37it/s, train_loss=-14.1]"
          ]
        },
        {
          "name": "stdout",
          "output_type": "stream",
          "text": [
            "__main__ - infinite loss or empty loss! it happened 1 times so far - skipping this batch\n"
          ]
        },
        {
          "name": "stderr",
          "output_type": "stream",
          "text": [
            "100%|██████████| 1250/1250 [02:41<00:00,  7.75it/s, train_loss=-14.1]\n"
          ]
        },
        {
          "name": "stdout",
          "output_type": "stream",
          "text": [
            "__main__ - Removed file /content/drive/MyDrive/Project/results_20\n",
            "__main__ - Saved file succesfully\n",
            "Delta lang loss = 0.15, Delta separate loss = 0.85\n"
          ]
        },
        {
          "name": "stderr",
          "output_type": "stream",
          "text": [
            "100%|██████████| 500/500 [00:22<00:00, 22.64it/s]"
          ]
        },
        {
          "name": "stdout",
          "output_type": "stream",
          "text": [
            "speechbrain.utils.train_logger - epoch: 40, lr: 1.00e-05 - train final_loss: -1.41e+01 - valid final_loss: -8.84e+00, valid Accuracy soft: 0.31919676065444946, valid Accuracy Partial: 0.652999997138977\n"
          ]
        },
        {
          "name": "stderr",
          "output_type": "stream",
          "text": [
            "\n"
          ]
        },
        {
          "name": "stdout",
          "output_type": "stream",
          "text": [
            "speechbrain.utils.checkpoints - Saved an end-of-epoch checkpoint in results/convtasnet/1234/save/CKPT+2025-07-29+19-58-15+00\n",
            "speechbrain.utils.checkpoints - Deleted checkpoint in results/convtasnet/1234/save/CKPT+2025-07-29+19-55-10+00\n",
            "speechbrain.utils.epoch_loop - Going into epoch 41\n",
            "Delta lang loss = 0.15, Delta separate loss = 0.85\n"
          ]
        },
        {
          "name": "stderr",
          "output_type": "stream",
          "text": [
            " 97%|█████████▋| 1210/1250 [02:36<00:04,  8.54it/s, train_loss=-14.1]"
          ]
        },
        {
          "name": "stdout",
          "output_type": "stream",
          "text": [
            "__main__ - infinite loss or empty loss! it happened 1 times so far - skipping this batch\n"
          ]
        },
        {
          "name": "stderr",
          "output_type": "stream",
          "text": [
            "100%|██████████| 1250/1250 [02:41<00:00,  7.73it/s, train_loss=-14.1]\n"
          ]
        },
        {
          "name": "stdout",
          "output_type": "stream",
          "text": [
            "Delta lang loss = 0.15, Delta separate loss = 0.85\n"
          ]
        },
        {
          "name": "stderr",
          "output_type": "stream",
          "text": [
            "100%|██████████| 500/500 [00:21<00:00, 23.52it/s]"
          ]
        },
        {
          "name": "stdout",
          "output_type": "stream",
          "text": [
            "speechbrain.utils.train_logger - epoch: 41, lr: 1.00e-05 - train final_loss: -1.41e+01 - valid final_loss: -8.72e+00, valid Accuracy soft: 0.3186819553375244, valid Accuracy Partial: 0.6510000228881836\n"
          ]
        },
        {
          "name": "stderr",
          "output_type": "stream",
          "text": [
            "\n"
          ]
        },
        {
          "name": "stdout",
          "output_type": "stream",
          "text": [
            "speechbrain.utils.checkpoints - Saved an end-of-epoch checkpoint in results/convtasnet/1234/save/CKPT+2025-07-29+20-01-18+00\n",
            "speechbrain.utils.checkpoints - Deleted checkpoint in results/convtasnet/1234/save/CKPT+2025-07-29+19-58-15+00\n",
            "speechbrain.utils.epoch_loop - Going into epoch 42\n",
            "Delta lang loss = 0.15, Delta separate loss = 0.85\n"
          ]
        },
        {
          "name": "stderr",
          "output_type": "stream",
          "text": [
            " 97%|█████████▋| 1210/1250 [02:36<00:04,  8.54it/s, train_loss=-14.2]"
          ]
        },
        {
          "name": "stdout",
          "output_type": "stream",
          "text": [
            "__main__ - infinite loss or empty loss! it happened 1 times so far - skipping this batch\n"
          ]
        },
        {
          "name": "stderr",
          "output_type": "stream",
          "text": [
            "100%|██████████| 1250/1250 [02:41<00:00,  7.73it/s, train_loss=-14.2]\n"
          ]
        },
        {
          "name": "stdout",
          "output_type": "stream",
          "text": [
            "Delta lang loss = 0.15, Delta separate loss = 0.85\n"
          ]
        },
        {
          "name": "stderr",
          "output_type": "stream",
          "text": [
            "100%|██████████| 500/500 [00:21<00:00, 23.27it/s]"
          ]
        },
        {
          "name": "stdout",
          "output_type": "stream",
          "text": [
            "speechbrain.utils.train_logger - epoch: 42, lr: 1.00e-05 - train final_loss: -1.42e+01 - valid final_loss: -8.72e+00, valid Accuracy soft: 0.3175288736820221, valid Accuracy Partial: 0.6489999890327454\n"
          ]
        },
        {
          "name": "stderr",
          "output_type": "stream",
          "text": [
            "\n"
          ]
        },
        {
          "name": "stdout",
          "output_type": "stream",
          "text": [
            "speechbrain.utils.checkpoints - Saved an end-of-epoch checkpoint in results/convtasnet/1234/save/CKPT+2025-07-29+20-04-22+00\n",
            "speechbrain.utils.checkpoints - Deleted checkpoint in results/convtasnet/1234/save/CKPT+2025-07-29+20-01-18+00\n",
            "speechbrain.utils.epoch_loop - Going into epoch 43\n",
            "Delta lang loss = 0.15, Delta separate loss = 0.85\n"
          ]
        },
        {
          "name": "stderr",
          "output_type": "stream",
          "text": [
            " 97%|█████████▋| 1210/1250 [02:36<00:04,  8.60it/s, train_loss=-14.2]"
          ]
        },
        {
          "name": "stdout",
          "output_type": "stream",
          "text": [
            "__main__ - infinite loss or empty loss! it happened 1 times so far - skipping this batch\n"
          ]
        },
        {
          "name": "stderr",
          "output_type": "stream",
          "text": [
            "100%|██████████| 1250/1250 [02:41<00:00,  7.75it/s, train_loss=-14.2]\n"
          ]
        },
        {
          "name": "stdout",
          "output_type": "stream",
          "text": [
            "Delta lang loss = 0.15, Delta separate loss = 0.85\n"
          ]
        },
        {
          "name": "stderr",
          "output_type": "stream",
          "text": [
            "100%|██████████| 500/500 [00:21<00:00, 23.43it/s]"
          ]
        },
        {
          "name": "stdout",
          "output_type": "stream",
          "text": [
            "speechbrain.utils.train_logger - epoch: 43, lr: 1.00e-05 - train final_loss: -1.42e+01 - valid final_loss: -8.74e+00, valid Accuracy soft: 0.32074204087257385, valid Accuracy Partial: 0.6579999923706055\n"
          ]
        },
        {
          "name": "stderr",
          "output_type": "stream",
          "text": [
            "\n"
          ]
        },
        {
          "name": "stdout",
          "output_type": "stream",
          "text": [
            "speechbrain.utils.checkpoints - Saved an end-of-epoch checkpoint in results/convtasnet/1234/save/CKPT+2025-07-29+20-07-25+00\n",
            "speechbrain.utils.checkpoints - Deleted checkpoint in results/convtasnet/1234/save/CKPT+2025-07-29+20-04-22+00\n",
            "speechbrain.utils.epoch_loop - Going into epoch 44\n",
            "Delta lang loss = 0.15, Delta separate loss = 0.85\n"
          ]
        },
        {
          "name": "stderr",
          "output_type": "stream",
          "text": [
            " 97%|█████████▋| 1210/1250 [02:36<00:04,  8.41it/s, train_loss=-14.2]"
          ]
        },
        {
          "name": "stdout",
          "output_type": "stream",
          "text": [
            "__main__ - infinite loss or empty loss! it happened 1 times so far - skipping this batch\n"
          ]
        },
        {
          "name": "stderr",
          "output_type": "stream",
          "text": [
            "100%|██████████| 1250/1250 [02:41<00:00,  7.73it/s, train_loss=-14.2]\n"
          ]
        },
        {
          "name": "stdout",
          "output_type": "stream",
          "text": [
            "Delta lang loss = 0.15, Delta separate loss = 0.85\n"
          ]
        },
        {
          "name": "stderr",
          "output_type": "stream",
          "text": [
            "100%|██████████| 500/500 [00:21<00:00, 23.44it/s]"
          ]
        },
        {
          "name": "stdout",
          "output_type": "stream",
          "text": [
            "speechbrain.utils.train_logger - epoch: 44, lr: 1.00e-05 - train final_loss: -1.42e+01 - valid final_loss: -8.76e+00, valid Accuracy soft: 0.3253730535507202, valid Accuracy Partial: 0.6620000004768372\n"
          ]
        },
        {
          "name": "stderr",
          "output_type": "stream",
          "text": [
            "\n"
          ]
        },
        {
          "name": "stdout",
          "output_type": "stream",
          "text": [
            "speechbrain.utils.checkpoints - Saved an end-of-epoch checkpoint in results/convtasnet/1234/save/CKPT+2025-07-29+20-10-29+00\n",
            "speechbrain.utils.checkpoints - Deleted checkpoint in results/convtasnet/1234/save/CKPT+2025-07-29+20-07-25+00\n",
            "speechbrain.utils.epoch_loop - Going into epoch 45\n",
            "Delta lang loss = 0.15, Delta separate loss = 0.85\n"
          ]
        },
        {
          "name": "stderr",
          "output_type": "stream",
          "text": [
            " 97%|█████████▋| 1210/1250 [02:36<00:04,  8.08it/s, train_loss=-14.2]"
          ]
        },
        {
          "name": "stdout",
          "output_type": "stream",
          "text": [
            "__main__ - infinite loss or empty loss! it happened 1 times so far - skipping this batch\n"
          ]
        },
        {
          "name": "stderr",
          "output_type": "stream",
          "text": [
            "100%|██████████| 1250/1250 [02:42<00:00,  7.71it/s, train_loss=-14.2]\n"
          ]
        },
        {
          "name": "stdout",
          "output_type": "stream",
          "text": [
            "Delta lang loss = 0.15, Delta separate loss = 0.85\n"
          ]
        },
        {
          "name": "stderr",
          "output_type": "stream",
          "text": [
            "100%|██████████| 500/500 [00:21<00:00, 23.46it/s]"
          ]
        },
        {
          "name": "stdout",
          "output_type": "stream",
          "text": [
            "speechbrain.utils.train_logger - epoch: 45, lr: 1.00e-05 - train final_loss: -1.42e+01 - valid final_loss: -8.83e+00, valid Accuracy soft: 0.31978535652160645, valid Accuracy Partial: 0.6499999761581421\n"
          ]
        },
        {
          "name": "stderr",
          "output_type": "stream",
          "text": [
            "\n"
          ]
        },
        {
          "name": "stdout",
          "output_type": "stream",
          "text": [
            "speechbrain.utils.checkpoints - Saved an end-of-epoch checkpoint in results/convtasnet/1234/save/CKPT+2025-07-29+20-13-33+00\n",
            "speechbrain.utils.checkpoints - Deleted checkpoint in results/convtasnet/1234/save/CKPT+2025-07-29+20-10-29+00\n",
            "speechbrain.utils.epoch_loop - Going into epoch 46\n",
            "Delta lang loss = 0.15, Delta separate loss = 0.85\n"
          ]
        },
        {
          "name": "stderr",
          "output_type": "stream",
          "text": [
            " 97%|█████████▋| 1210/1250 [02:36<00:04,  8.51it/s, train_loss=-14.2]"
          ]
        },
        {
          "name": "stdout",
          "output_type": "stream",
          "text": [
            "__main__ - infinite loss or empty loss! it happened 1 times so far - skipping this batch\n"
          ]
        },
        {
          "name": "stderr",
          "output_type": "stream",
          "text": [
            "100%|██████████| 1250/1250 [02:41<00:00,  7.76it/s, train_loss=-14.2]\n"
          ]
        },
        {
          "name": "stdout",
          "output_type": "stream",
          "text": [
            "Delta lang loss = 0.15, Delta separate loss = 0.85\n"
          ]
        },
        {
          "name": "stderr",
          "output_type": "stream",
          "text": [
            "100%|██████████| 500/500 [00:21<00:00, 23.50it/s]"
          ]
        },
        {
          "name": "stdout",
          "output_type": "stream",
          "text": [
            "speechbrain.utils.train_logger - epoch: 46, lr: 1.00e-05 - train final_loss: -1.42e+01 - valid final_loss: -8.77e+00, valid Accuracy soft: 0.3189936578273773, valid Accuracy Partial: 0.6480000019073486\n"
          ]
        },
        {
          "name": "stderr",
          "output_type": "stream",
          "text": [
            "\n"
          ]
        },
        {
          "name": "stdout",
          "output_type": "stream",
          "text": [
            "speechbrain.utils.checkpoints - Saved an end-of-epoch checkpoint in results/convtasnet/1234/save/CKPT+2025-07-29+20-16-36+00\n",
            "speechbrain.utils.checkpoints - Deleted checkpoint in results/convtasnet/1234/save/CKPT+2025-07-29+20-13-33+00\n",
            "speechbrain.utils.epoch_loop - Going into epoch 47\n",
            "Delta lang loss = 0.15, Delta separate loss = 0.85\n"
          ]
        },
        {
          "name": "stderr",
          "output_type": "stream",
          "text": [
            " 97%|█████████▋| 1210/1250 [02:36<00:04,  8.60it/s, train_loss=-14.2]"
          ]
        },
        {
          "name": "stdout",
          "output_type": "stream",
          "text": [
            "__main__ - infinite loss or empty loss! it happened 1 times so far - skipping this batch\n"
          ]
        },
        {
          "name": "stderr",
          "output_type": "stream",
          "text": [
            "100%|██████████| 1250/1250 [02:41<00:00,  7.73it/s, train_loss=-14.2]\n"
          ]
        },
        {
          "name": "stdout",
          "output_type": "stream",
          "text": [
            "Delta lang loss = 0.15, Delta separate loss = 0.85\n"
          ]
        },
        {
          "name": "stderr",
          "output_type": "stream",
          "text": [
            "100%|██████████| 500/500 [00:21<00:00, 23.28it/s]"
          ]
        },
        {
          "name": "stdout",
          "output_type": "stream",
          "text": [
            "speechbrain.utils.train_logger - epoch: 47, lr: 1.00e-05 - train final_loss: -1.42e+01 - valid final_loss: -8.81e+00, valid Accuracy soft: 0.32008612155914307, valid Accuracy Partial: 0.6510000228881836\n"
          ]
        },
        {
          "name": "stderr",
          "output_type": "stream",
          "text": [
            "\n"
          ]
        },
        {
          "name": "stdout",
          "output_type": "stream",
          "text": [
            "speechbrain.utils.checkpoints - Saved an end-of-epoch checkpoint in results/convtasnet/1234/save/CKPT+2025-07-29+20-19-39+00\n",
            "speechbrain.utils.checkpoints - Deleted checkpoint in results/convtasnet/1234/save/CKPT+2025-07-29+20-16-36+00\n",
            "speechbrain.utils.epoch_loop - Going into epoch 48\n",
            "Delta lang loss = 0.15, Delta separate loss = 0.85\n"
          ]
        },
        {
          "name": "stderr",
          "output_type": "stream",
          "text": [
            " 97%|█████████▋| 1210/1250 [02:36<00:04,  8.43it/s, train_loss=-14.3]"
          ]
        },
        {
          "name": "stdout",
          "output_type": "stream",
          "text": [
            "__main__ - infinite loss or empty loss! it happened 1 times so far - skipping this batch\n"
          ]
        },
        {
          "name": "stderr",
          "output_type": "stream",
          "text": [
            "100%|██████████| 1250/1250 [02:41<00:00,  7.74it/s, train_loss=-14.3]\n"
          ]
        },
        {
          "name": "stdout",
          "output_type": "stream",
          "text": [
            "Delta lang loss = 0.15, Delta separate loss = 0.85\n"
          ]
        },
        {
          "name": "stderr",
          "output_type": "stream",
          "text": [
            "100%|██████████| 500/500 [00:21<00:00, 23.25it/s]"
          ]
        },
        {
          "name": "stdout",
          "output_type": "stream",
          "text": [
            "speechbrain.utils.train_logger - epoch: 48, lr: 1.00e-05 - train final_loss: -1.43e+01 - valid final_loss: -8.78e+00, valid Accuracy soft: 0.3176840841770172, valid Accuracy Partial: 0.6439999938011169\n"
          ]
        },
        {
          "name": "stderr",
          "output_type": "stream",
          "text": [
            "\n"
          ]
        },
        {
          "name": "stdout",
          "output_type": "stream",
          "text": [
            "speechbrain.utils.checkpoints - Saved an end-of-epoch checkpoint in results/convtasnet/1234/save/CKPT+2025-07-29+20-22-43+00\n",
            "speechbrain.utils.checkpoints - Deleted checkpoint in results/convtasnet/1234/save/CKPT+2025-07-29+20-19-39+00\n",
            "speechbrain.utils.epoch_loop - Going into epoch 49\n",
            "Delta lang loss = 0.15, Delta separate loss = 0.85\n"
          ]
        },
        {
          "name": "stderr",
          "output_type": "stream",
          "text": [
            " 97%|█████████▋| 1210/1250 [02:37<00:04,  8.37it/s, train_loss=-14.3]"
          ]
        },
        {
          "name": "stdout",
          "output_type": "stream",
          "text": [
            "__main__ - infinite loss or empty loss! it happened 1 times so far - skipping this batch\n"
          ]
        },
        {
          "name": "stderr",
          "output_type": "stream",
          "text": [
            "100%|██████████| 1250/1250 [02:42<00:00,  7.70it/s, train_loss=-14.3]\n"
          ]
        },
        {
          "name": "stdout",
          "output_type": "stream",
          "text": [
            "Delta lang loss = 0.15, Delta separate loss = 0.85\n"
          ]
        },
        {
          "name": "stderr",
          "output_type": "stream",
          "text": [
            "100%|██████████| 500/500 [00:21<00:00, 23.52it/s]"
          ]
        },
        {
          "name": "stdout",
          "output_type": "stream",
          "text": [
            "speechbrain.utils.train_logger - epoch: 49, lr: 1.00e-05 - train final_loss: -1.43e+01 - valid final_loss: -8.86e+00, valid Accuracy soft: 0.3199584484100342, valid Accuracy Partial: 0.6489999890327454\n"
          ]
        },
        {
          "name": "stderr",
          "output_type": "stream",
          "text": [
            "\n"
          ]
        },
        {
          "name": "stdout",
          "output_type": "stream",
          "text": [
            "speechbrain.utils.checkpoints - Saved an end-of-epoch checkpoint in results/convtasnet/1234/save/CKPT+2025-07-29+20-25-47+00\n",
            "speechbrain.utils.checkpoints - Deleted checkpoint in results/convtasnet/1234/save/CKPT+2025-07-29+20-22-43+00\n",
            "speechbrain.utils.epoch_loop - Going into epoch 50\n",
            "Delta lang loss = 0.15, Delta separate loss = 0.85\n"
          ]
        },
        {
          "name": "stderr",
          "output_type": "stream",
          "text": [
            " 97%|█████████▋| 1210/1250 [02:37<00:04,  8.29it/s, train_loss=-14.3]"
          ]
        },
        {
          "name": "stdout",
          "output_type": "stream",
          "text": [
            "__main__ - infinite loss or empty loss! it happened 1 times so far - skipping this batch\n"
          ]
        },
        {
          "name": "stderr",
          "output_type": "stream",
          "text": [
            "100%|██████████| 1250/1250 [02:42<00:00,  7.67it/s, train_loss=-14.3]\n"
          ]
        },
        {
          "name": "stdout",
          "output_type": "stream",
          "text": [
            "Delta lang loss = 0.15, Delta separate loss = 0.85\n"
          ]
        },
        {
          "name": "stderr",
          "output_type": "stream",
          "text": [
            "100%|██████████| 500/500 [00:21<00:00, 23.34it/s]"
          ]
        },
        {
          "name": "stdout",
          "output_type": "stream",
          "text": [
            "speechbrain.utils.train_logger - epoch: 50, lr: 1.00e-05 - train final_loss: -1.43e+01 - valid final_loss: -9.15e+00, valid Accuracy soft: 0.32570353150367737, valid Accuracy Partial: 0.6600000262260437\n"
          ]
        },
        {
          "name": "stderr",
          "output_type": "stream",
          "text": [
            "\n"
          ]
        },
        {
          "name": "stdout",
          "output_type": "stream",
          "text": [
            "speechbrain.utils.checkpoints - Saved an end-of-epoch checkpoint in results/convtasnet/1234/save/CKPT+2025-07-29+20-28-52+00\n",
            "speechbrain.utils.checkpoints - Deleted checkpoint in results/convtasnet/1234/save/CKPT+2025-07-29+20-25-47+00\n",
            "speechbrain.utils.epoch_loop - Going into epoch 51\n",
            "Delta lang loss = 0.15, Delta separate loss = 0.85\n"
          ]
        },
        {
          "name": "stderr",
          "output_type": "stream",
          "text": [
            " 97%|█████████▋| 1210/1250 [02:36<00:04,  8.49it/s, train_loss=-14.3]"
          ]
        },
        {
          "name": "stdout",
          "output_type": "stream",
          "text": [
            "__main__ - infinite loss or empty loss! it happened 1 times so far - skipping this batch\n"
          ]
        },
        {
          "name": "stderr",
          "output_type": "stream",
          "text": [
            "100%|██████████| 1250/1250 [02:41<00:00,  7.75it/s, train_loss=-14.3]\n"
          ]
        },
        {
          "name": "stdout",
          "output_type": "stream",
          "text": [
            "Delta lang loss = 0.15, Delta separate loss = 0.85\n"
          ]
        },
        {
          "name": "stderr",
          "output_type": "stream",
          "text": [
            "100%|██████████| 500/500 [00:21<00:00, 23.40it/s]"
          ]
        },
        {
          "name": "stdout",
          "output_type": "stream",
          "text": [
            "speechbrain.utils.train_logger - epoch: 51, lr: 1.00e-05 - train final_loss: -1.43e+01 - valid final_loss: -9.04e+00, valid Accuracy soft: 0.32977786660194397, valid Accuracy Partial: 0.6660000085830688\n"
          ]
        },
        {
          "name": "stderr",
          "output_type": "stream",
          "text": [
            "\n"
          ]
        },
        {
          "name": "stdout",
          "output_type": "stream",
          "text": [
            "speechbrain.utils.checkpoints - Saved an end-of-epoch checkpoint in results/convtasnet/1234/save/CKPT+2025-07-29+20-31-55+00\n",
            "speechbrain.utils.checkpoints - Deleted checkpoint in results/convtasnet/1234/save/CKPT+2025-07-29+20-28-52+00\n",
            "speechbrain.utils.epoch_loop - Going into epoch 52\n",
            "Delta lang loss = 0.15, Delta separate loss = 0.85\n"
          ]
        },
        {
          "name": "stderr",
          "output_type": "stream",
          "text": [
            " 97%|█████████▋| 1210/1250 [02:37<00:04,  8.21it/s, train_loss=-14.3]"
          ]
        },
        {
          "name": "stdout",
          "output_type": "stream",
          "text": [
            "__main__ - infinite loss or empty loss! it happened 1 times so far - skipping this batch\n"
          ]
        },
        {
          "name": "stderr",
          "output_type": "stream",
          "text": [
            "100%|██████████| 1250/1250 [02:42<00:00,  7.71it/s, train_loss=-14.3]\n"
          ]
        },
        {
          "name": "stdout",
          "output_type": "stream",
          "text": [
            "Delta lang loss = 0.15, Delta separate loss = 0.85\n"
          ]
        },
        {
          "name": "stderr",
          "output_type": "stream",
          "text": [
            "100%|██████████| 500/500 [00:21<00:00, 23.39it/s]"
          ]
        },
        {
          "name": "stdout",
          "output_type": "stream",
          "text": [
            "speechbrain.utils.train_logger - epoch: 52, lr: 1.00e-05 - train final_loss: -1.43e+01 - valid final_loss: -9.09e+00, valid Accuracy soft: 0.33241891860961914, valid Accuracy Partial: 0.6669999957084656\n"
          ]
        },
        {
          "name": "stderr",
          "output_type": "stream",
          "text": [
            "\n"
          ]
        },
        {
          "name": "stdout",
          "output_type": "stream",
          "text": [
            "speechbrain.utils.checkpoints - Saved an end-of-epoch checkpoint in results/convtasnet/1234/save/CKPT+2025-07-29+20-34-59+00\n",
            "speechbrain.utils.checkpoints - Deleted checkpoint in results/convtasnet/1234/save/CKPT+2025-07-29+20-31-55+00\n",
            "speechbrain.utils.epoch_loop - Going into epoch 53\n",
            "Delta lang loss = 0.15, Delta separate loss = 0.85\n"
          ]
        },
        {
          "name": "stderr",
          "output_type": "stream",
          "text": [
            " 97%|█████████▋| 1210/1250 [02:36<00:04,  8.42it/s, train_loss=-14.3]"
          ]
        },
        {
          "name": "stdout",
          "output_type": "stream",
          "text": [
            "__main__ - infinite loss or empty loss! it happened 1 times so far - skipping this batch\n"
          ]
        },
        {
          "name": "stderr",
          "output_type": "stream",
          "text": [
            "100%|██████████| 1250/1250 [02:41<00:00,  7.72it/s, train_loss=-14.3]\n"
          ]
        },
        {
          "name": "stdout",
          "output_type": "stream",
          "text": [
            "Delta lang loss = 0.15, Delta separate loss = 0.85\n"
          ]
        },
        {
          "name": "stderr",
          "output_type": "stream",
          "text": [
            "100%|██████████| 500/500 [00:21<00:00, 23.08it/s]"
          ]
        },
        {
          "name": "stdout",
          "output_type": "stream",
          "text": [
            "speechbrain.utils.train_logger - epoch: 53, lr: 1.00e-05 - train final_loss: -1.43e+01 - valid final_loss: -9.27e+00, valid Accuracy soft: 0.33536601066589355, valid Accuracy Partial: 0.6729999780654907\n"
          ]
        },
        {
          "name": "stderr",
          "output_type": "stream",
          "text": [
            "\n"
          ]
        },
        {
          "name": "stdout",
          "output_type": "stream",
          "text": [
            "speechbrain.utils.checkpoints - Saved an end-of-epoch checkpoint in results/convtasnet/1234/save/CKPT+2025-07-29+20-38-03+00\n",
            "speechbrain.utils.checkpoints - Deleted checkpoint in results/convtasnet/1234/save/CKPT+2025-07-29+20-34-59+00\n",
            "speechbrain.utils.epoch_loop - Going into epoch 54\n",
            "Delta lang loss = 0.15, Delta separate loss = 0.85\n"
          ]
        },
        {
          "name": "stderr",
          "output_type": "stream",
          "text": [
            " 97%|█████████▋| 1210/1250 [02:38<00:04,  8.46it/s, train_loss=-14.3]"
          ]
        },
        {
          "name": "stdout",
          "output_type": "stream",
          "text": [
            "__main__ - infinite loss or empty loss! it happened 1 times so far - skipping this batch\n"
          ]
        },
        {
          "name": "stderr",
          "output_type": "stream",
          "text": [
            "100%|██████████| 1250/1250 [02:43<00:00,  7.66it/s, train_loss=-14.3]\n"
          ]
        },
        {
          "name": "stdout",
          "output_type": "stream",
          "text": [
            "Delta lang loss = 0.15, Delta separate loss = 0.85\n"
          ]
        },
        {
          "name": "stderr",
          "output_type": "stream",
          "text": [
            "100%|██████████| 500/500 [00:21<00:00, 23.31it/s]"
          ]
        },
        {
          "name": "stdout",
          "output_type": "stream",
          "text": [
            "speechbrain.utils.train_logger - epoch: 54, lr: 1.00e-05 - train final_loss: -1.43e+01 - valid final_loss: -9.30e+00, valid Accuracy soft: 0.33780115842819214, valid Accuracy Partial: 0.6830000281333923\n"
          ]
        },
        {
          "name": "stderr",
          "output_type": "stream",
          "text": [
            "\n"
          ]
        },
        {
          "name": "stdout",
          "output_type": "stream",
          "text": [
            "speechbrain.utils.checkpoints - Saved an end-of-epoch checkpoint in results/convtasnet/1234/save/CKPT+2025-07-29+20-41-08+00\n",
            "speechbrain.utils.checkpoints - Deleted checkpoint in results/convtasnet/1234/save/CKPT+2025-07-29+20-38-03+00\n",
            "speechbrain.utils.epoch_loop - Going into epoch 55\n",
            "Delta lang loss = 0.15, Delta separate loss = 0.85\n"
          ]
        },
        {
          "name": "stderr",
          "output_type": "stream",
          "text": [
            " 97%|█████████▋| 1210/1250 [02:37<00:04,  8.28it/s, train_loss=-14.3]"
          ]
        },
        {
          "name": "stdout",
          "output_type": "stream",
          "text": [
            "__main__ - infinite loss or empty loss! it happened 1 times so far - skipping this batch\n"
          ]
        },
        {
          "name": "stderr",
          "output_type": "stream",
          "text": [
            "100%|██████████| 1250/1250 [02:42<00:00,  7.67it/s, train_loss=-14.3]\n"
          ]
        },
        {
          "name": "stdout",
          "output_type": "stream",
          "text": [
            "Delta lang loss = 0.15, Delta separate loss = 0.85\n"
          ]
        },
        {
          "name": "stderr",
          "output_type": "stream",
          "text": [
            "100%|██████████| 500/500 [00:21<00:00, 23.12it/s]"
          ]
        },
        {
          "name": "stdout",
          "output_type": "stream",
          "text": [
            "speechbrain.utils.train_logger - epoch: 55, lr: 1.00e-05 - train final_loss: -1.43e+01 - valid final_loss: -9.29e+00, valid Accuracy soft: 0.3385242223739624, valid Accuracy Partial: 0.6819999814033508\n"
          ]
        },
        {
          "name": "stderr",
          "output_type": "stream",
          "text": [
            "\n"
          ]
        },
        {
          "name": "stdout",
          "output_type": "stream",
          "text": [
            "speechbrain.utils.checkpoints - Saved an end-of-epoch checkpoint in results/convtasnet/1234/save/CKPT+2025-07-29+20-44-13+00\n",
            "speechbrain.utils.checkpoints - Deleted checkpoint in results/convtasnet/1234/save/CKPT+2025-07-29+20-41-08+00\n",
            "speechbrain.utils.epoch_loop - Going into epoch 56\n",
            "Delta lang loss = 0.15, Delta separate loss = 0.85\n"
          ]
        },
        {
          "name": "stderr",
          "output_type": "stream",
          "text": [
            " 97%|█████████▋| 1210/1250 [02:38<00:04,  8.39it/s, train_loss=-14.3]"
          ]
        },
        {
          "name": "stdout",
          "output_type": "stream",
          "text": [
            "__main__ - infinite loss or empty loss! it happened 1 times so far - skipping this batch\n"
          ]
        },
        {
          "name": "stderr",
          "output_type": "stream",
          "text": [
            "100%|██████████| 1250/1250 [02:43<00:00,  7.65it/s, train_loss=-14.3]\n"
          ]
        },
        {
          "name": "stdout",
          "output_type": "stream",
          "text": [
            "Delta lang loss = 0.15, Delta separate loss = 0.85\n"
          ]
        },
        {
          "name": "stderr",
          "output_type": "stream",
          "text": [
            "100%|██████████| 500/500 [00:21<00:00, 23.43it/s]"
          ]
        },
        {
          "name": "stdout",
          "output_type": "stream",
          "text": [
            "speechbrain.utils.train_logger - epoch: 56, lr: 1.00e-05 - train final_loss: -1.43e+01 - valid final_loss: -9.34e+00, valid Accuracy soft: 0.34045130014419556, valid Accuracy Partial: 0.6850000023841858\n"
          ]
        },
        {
          "name": "stderr",
          "output_type": "stream",
          "text": [
            "\n"
          ]
        },
        {
          "name": "stdout",
          "output_type": "stream",
          "text": [
            "speechbrain.utils.checkpoints - Saved an end-of-epoch checkpoint in results/convtasnet/1234/save/CKPT+2025-07-29+20-47-18+00\n",
            "speechbrain.utils.checkpoints - Deleted checkpoint in results/convtasnet/1234/save/CKPT+2025-07-29+20-44-13+00\n",
            "speechbrain.utils.epoch_loop - Going into epoch 57\n",
            "Delta lang loss = 0.15, Delta separate loss = 0.85\n"
          ]
        },
        {
          "name": "stderr",
          "output_type": "stream",
          "text": [
            " 97%|█████████▋| 1210/1250 [02:38<00:04,  8.45it/s, train_loss=-14.4]"
          ]
        },
        {
          "name": "stdout",
          "output_type": "stream",
          "text": [
            "__main__ - infinite loss or empty loss! it happened 1 times so far - skipping this batch\n"
          ]
        },
        {
          "name": "stderr",
          "output_type": "stream",
          "text": [
            "100%|██████████| 1250/1250 [02:43<00:00,  7.65it/s, train_loss=-14.4]\n"
          ]
        },
        {
          "name": "stdout",
          "output_type": "stream",
          "text": [
            "Delta lang loss = 0.15, Delta separate loss = 0.85\n"
          ]
        },
        {
          "name": "stderr",
          "output_type": "stream",
          "text": [
            "100%|██████████| 500/500 [00:21<00:00, 23.33it/s]"
          ]
        },
        {
          "name": "stdout",
          "output_type": "stream",
          "text": [
            "speechbrain.utils.train_logger - epoch: 57, lr: 1.00e-05 - train final_loss: -1.44e+01 - valid final_loss: -9.41e+00, valid Accuracy soft: 0.34250688552856445, valid Accuracy Partial: 0.6880000233650208\n"
          ]
        },
        {
          "name": "stderr",
          "output_type": "stream",
          "text": [
            "\n"
          ]
        },
        {
          "name": "stdout",
          "output_type": "stream",
          "text": [
            "speechbrain.utils.checkpoints - Saved an end-of-epoch checkpoint in results/convtasnet/1234/save/CKPT+2025-07-29+20-50-24+00\n",
            "speechbrain.utils.checkpoints - Deleted checkpoint in results/convtasnet/1234/save/CKPT+2025-07-29+20-47-18+00\n",
            "speechbrain.utils.epoch_loop - Going into epoch 58\n",
            "Delta lang loss = 0.15, Delta separate loss = 0.85\n"
          ]
        },
        {
          "name": "stderr",
          "output_type": "stream",
          "text": [
            " 97%|█████████▋| 1210/1250 [02:37<00:04,  8.35it/s, train_loss=-14.4]"
          ]
        },
        {
          "name": "stdout",
          "output_type": "stream",
          "text": [
            "__main__ - infinite loss or empty loss! it happened 1 times so far - skipping this batch\n"
          ]
        },
        {
          "name": "stderr",
          "output_type": "stream",
          "text": [
            "100%|██████████| 1250/1250 [02:42<00:00,  7.68it/s, train_loss=-14.4]\n"
          ]
        },
        {
          "name": "stdout",
          "output_type": "stream",
          "text": [
            "Delta lang loss = 0.15, Delta separate loss = 0.85\n"
          ]
        },
        {
          "name": "stderr",
          "output_type": "stream",
          "text": [
            "100%|██████████| 500/500 [00:21<00:00, 23.23it/s]"
          ]
        },
        {
          "name": "stdout",
          "output_type": "stream",
          "text": [
            "speechbrain.utils.train_logger - epoch: 58, lr: 1.00e-05 - train final_loss: -1.44e+01 - valid final_loss: -9.41e+00, valid Accuracy soft: 0.345783531665802, valid Accuracy Partial: 0.6930000185966492\n"
          ]
        },
        {
          "name": "stderr",
          "output_type": "stream",
          "text": [
            "\n"
          ]
        },
        {
          "name": "stdout",
          "output_type": "stream",
          "text": [
            "speechbrain.utils.checkpoints - Saved an end-of-epoch checkpoint in results/convtasnet/1234/save/CKPT+2025-07-29+20-53-29+00\n",
            "speechbrain.utils.checkpoints - Deleted checkpoint in results/convtasnet/1234/save/CKPT+2025-07-29+20-50-24+00\n",
            "speechbrain.utils.epoch_loop - Going into epoch 59\n",
            "Delta lang loss = 0.15, Delta separate loss = 0.85\n"
          ]
        },
        {
          "name": "stderr",
          "output_type": "stream",
          "text": [
            " 97%|█████████▋| 1210/1250 [02:38<00:04,  8.53it/s, train_loss=-14.4]"
          ]
        },
        {
          "name": "stdout",
          "output_type": "stream",
          "text": [
            "__main__ - infinite loss or empty loss! it happened 1 times so far - skipping this batch\n"
          ]
        },
        {
          "name": "stderr",
          "output_type": "stream",
          "text": [
            "100%|██████████| 1250/1250 [02:43<00:00,  7.66it/s, train_loss=-14.4]\n"
          ]
        },
        {
          "name": "stdout",
          "output_type": "stream",
          "text": [
            "Delta lang loss = 0.15, Delta separate loss = 0.85\n"
          ]
        },
        {
          "name": "stderr",
          "output_type": "stream",
          "text": [
            "100%|██████████| 500/500 [00:21<00:00, 23.10it/s]"
          ]
        },
        {
          "name": "stdout",
          "output_type": "stream",
          "text": [
            "speechbrain.utils.train_logger - epoch: 59, lr: 1.00e-05 - train final_loss: -1.44e+01 - valid final_loss: -9.19e+00, valid Accuracy soft: 0.3393835723400116, valid Accuracy Partial: 0.6779999732971191\n"
          ]
        },
        {
          "name": "stderr",
          "output_type": "stream",
          "text": [
            "\n"
          ]
        },
        {
          "name": "stdout",
          "output_type": "stream",
          "text": [
            "speechbrain.utils.checkpoints - Saved an end-of-epoch checkpoint in results/convtasnet/1234/save/CKPT+2025-07-29+20-56-34+00\n",
            "speechbrain.utils.checkpoints - Deleted checkpoint in results/convtasnet/1234/save/CKPT+2025-07-29+20-53-29+00\n",
            "speechbrain.utils.epoch_loop - Going into epoch 60\n",
            "Delta lang loss = 0.15, Delta separate loss = 0.85\n"
          ]
        },
        {
          "name": "stderr",
          "output_type": "stream",
          "text": [
            " 97%|█████████▋| 1210/1250 [02:38<00:04,  8.52it/s, train_loss=-14.4]"
          ]
        },
        {
          "name": "stdout",
          "output_type": "stream",
          "text": [
            "__main__ - infinite loss or empty loss! it happened 1 times so far - skipping this batch\n"
          ]
        },
        {
          "name": "stderr",
          "output_type": "stream",
          "text": [
            "100%|██████████| 1250/1250 [02:43<00:00,  7.65it/s, train_loss=-14.4]\n"
          ]
        },
        {
          "name": "stdout",
          "output_type": "stream",
          "text": [
            "__main__ - Removed file /content/drive/MyDrive/Project/results_40\n",
            "__main__ - Saved file succesfully\n",
            "Delta lang loss = 0.15, Delta separate loss = 0.85\n"
          ]
        },
        {
          "name": "stderr",
          "output_type": "stream",
          "text": [
            "100%|██████████| 500/500 [00:21<00:00, 22.93it/s]"
          ]
        },
        {
          "name": "stdout",
          "output_type": "stream",
          "text": [
            "speechbrain.utils.train_logger - epoch: 60, lr: 1.00e-05 - train final_loss: -1.44e+01 - valid final_loss: -9.37e+00, valid Accuracy soft: 0.3467836380004883, valid Accuracy Partial: 0.7020000219345093\n"
          ]
        },
        {
          "name": "stderr",
          "output_type": "stream",
          "text": [
            "\n"
          ]
        },
        {
          "name": "stdout",
          "output_type": "stream",
          "text": [
            "speechbrain.utils.checkpoints - Saved an end-of-epoch checkpoint in results/convtasnet/1234/save/CKPT+2025-07-29+20-59-41+00\n",
            "speechbrain.utils.checkpoints - Deleted checkpoint in results/convtasnet/1234/save/CKPT+2025-07-29+20-56-34+00\n",
            "speechbrain.utils.epoch_loop - Going into epoch 61\n",
            "Delta lang loss = 0.15, Delta separate loss = 0.85\n"
          ]
        },
        {
          "name": "stderr",
          "output_type": "stream",
          "text": [
            " 97%|█████████▋| 1210/1250 [02:38<00:04,  8.42it/s, train_loss=-14.4]"
          ]
        },
        {
          "name": "stdout",
          "output_type": "stream",
          "text": [
            "__main__ - infinite loss or empty loss! it happened 1 times so far - skipping this batch\n"
          ]
        },
        {
          "name": "stderr",
          "output_type": "stream",
          "text": [
            "100%|██████████| 1250/1250 [02:43<00:00,  7.65it/s, train_loss=-14.4]\n"
          ]
        },
        {
          "name": "stdout",
          "output_type": "stream",
          "text": [
            "Delta lang loss = 0.15, Delta separate loss = 0.85\n"
          ]
        },
        {
          "name": "stderr",
          "output_type": "stream",
          "text": [
            "100%|██████████| 500/500 [00:21<00:00, 23.04it/s]"
          ]
        },
        {
          "name": "stdout",
          "output_type": "stream",
          "text": [
            "speechbrain.utils.train_logger - epoch: 61, lr: 1.00e-05 - train final_loss: -1.44e+01 - valid final_loss: -9.38e+00, valid Accuracy soft: 0.34785187244415283, valid Accuracy Partial: 0.703000009059906\n"
          ]
        },
        {
          "name": "stderr",
          "output_type": "stream",
          "text": [
            "\n"
          ]
        },
        {
          "name": "stdout",
          "output_type": "stream",
          "text": [
            "speechbrain.utils.checkpoints - Saved an end-of-epoch checkpoint in results/convtasnet/1234/save/CKPT+2025-07-29+21-02-46+00\n",
            "speechbrain.utils.checkpoints - Deleted checkpoint in results/convtasnet/1234/save/CKPT+2025-07-29+20-59-41+00\n",
            "speechbrain.utils.epoch_loop - Going into epoch 62\n",
            "Delta lang loss = 0.15, Delta separate loss = 0.85\n"
          ]
        },
        {
          "name": "stderr",
          "output_type": "stream",
          "text": [
            " 97%|█████████▋| 1210/1250 [02:37<00:04,  8.44it/s, train_loss=-14.4]"
          ]
        },
        {
          "name": "stdout",
          "output_type": "stream",
          "text": [
            "__main__ - infinite loss or empty loss! it happened 1 times so far - skipping this batch\n"
          ]
        },
        {
          "name": "stderr",
          "output_type": "stream",
          "text": [
            "100%|██████████| 1250/1250 [02:42<00:00,  7.68it/s, train_loss=-14.4]\n"
          ]
        },
        {
          "name": "stdout",
          "output_type": "stream",
          "text": [
            "Delta lang loss = 0.15, Delta separate loss = 0.85\n"
          ]
        },
        {
          "name": "stderr",
          "output_type": "stream",
          "text": [
            "100%|██████████| 500/500 [00:21<00:00, 23.12it/s]"
          ]
        },
        {
          "name": "stdout",
          "output_type": "stream",
          "text": [
            "speechbrain.utils.train_logger - epoch: 62, lr: 1.00e-05 - train final_loss: -1.44e+01 - valid final_loss: -9.50e+00, valid Accuracy soft: 0.35403475165367126, valid Accuracy Partial: 0.7179999947547913\n"
          ]
        },
        {
          "name": "stderr",
          "output_type": "stream",
          "text": [
            "\n"
          ]
        },
        {
          "name": "stdout",
          "output_type": "stream",
          "text": [
            "speechbrain.utils.checkpoints - Saved an end-of-epoch checkpoint in results/convtasnet/1234/save/CKPT+2025-07-29+21-05-51+00\n",
            "speechbrain.utils.checkpoints - Deleted checkpoint in results/convtasnet/1234/save/CKPT+2025-07-29+21-02-46+00\n",
            "speechbrain.utils.epoch_loop - Going into epoch 63\n",
            "Delta lang loss = 0.15, Delta separate loss = 0.85\n"
          ]
        },
        {
          "name": "stderr",
          "output_type": "stream",
          "text": [
            " 97%|█████████▋| 1210/1250 [02:39<00:04,  8.53it/s, train_loss=-14.4]"
          ]
        },
        {
          "name": "stdout",
          "output_type": "stream",
          "text": [
            "__main__ - infinite loss or empty loss! it happened 1 times so far - skipping this batch\n"
          ]
        },
        {
          "name": "stderr",
          "output_type": "stream",
          "text": [
            "100%|██████████| 1250/1250 [02:44<00:00,  7.59it/s, train_loss=-14.4]\n"
          ]
        },
        {
          "name": "stdout",
          "output_type": "stream",
          "text": [
            "Delta lang loss = 0.15, Delta separate loss = 0.85\n"
          ]
        },
        {
          "name": "stderr",
          "output_type": "stream",
          "text": [
            "100%|██████████| 500/500 [00:21<00:00, 23.16it/s]"
          ]
        },
        {
          "name": "stdout",
          "output_type": "stream",
          "text": [
            "speechbrain.utils.train_logger - epoch: 63, lr: 1.00e-05 - train final_loss: -1.44e+01 - valid final_loss: -9.43e+00, valid Accuracy soft: 0.3510223925113678, valid Accuracy Partial: 0.7059999704360962\n"
          ]
        },
        {
          "name": "stderr",
          "output_type": "stream",
          "text": [
            "\n"
          ]
        },
        {
          "name": "stdout",
          "output_type": "stream",
          "text": [
            "speechbrain.utils.checkpoints - Saved an end-of-epoch checkpoint in results/convtasnet/1234/save/CKPT+2025-07-29+21-08-58+00\n",
            "speechbrain.utils.checkpoints - Deleted checkpoint in results/convtasnet/1234/save/CKPT+2025-07-29+21-05-51+00\n",
            "speechbrain.utils.epoch_loop - Going into epoch 64\n",
            "Delta lang loss = 0.15, Delta separate loss = 0.85\n"
          ]
        },
        {
          "name": "stderr",
          "output_type": "stream",
          "text": [
            " 97%|█████████▋| 1210/1250 [02:37<00:04,  8.47it/s, train_loss=-14.4]"
          ]
        },
        {
          "name": "stdout",
          "output_type": "stream",
          "text": [
            "__main__ - infinite loss or empty loss! it happened 1 times so far - skipping this batch\n"
          ]
        },
        {
          "name": "stderr",
          "output_type": "stream",
          "text": [
            "100%|██████████| 1250/1250 [02:42<00:00,  7.70it/s, train_loss=-14.4]\n"
          ]
        },
        {
          "name": "stdout",
          "output_type": "stream",
          "text": [
            "Delta lang loss = 0.15, Delta separate loss = 0.85\n"
          ]
        },
        {
          "name": "stderr",
          "output_type": "stream",
          "text": [
            "100%|██████████| 500/500 [00:21<00:00, 23.06it/s]"
          ]
        },
        {
          "name": "stdout",
          "output_type": "stream",
          "text": [
            "speechbrain.utils.train_logger - epoch: 64, lr: 1.00e-05 - train final_loss: -1.44e+01 - valid final_loss: -9.48e+00, valid Accuracy soft: 0.3524278998374939, valid Accuracy Partial: 0.7059999704360962\n"
          ]
        },
        {
          "name": "stderr",
          "output_type": "stream",
          "text": [
            "\n"
          ]
        },
        {
          "name": "stdout",
          "output_type": "stream",
          "text": [
            "speechbrain.utils.checkpoints - Saved an end-of-epoch checkpoint in results/convtasnet/1234/save/CKPT+2025-07-29+21-12-03+00\n",
            "speechbrain.utils.checkpoints - Deleted checkpoint in results/convtasnet/1234/save/CKPT+2025-07-29+21-08-58+00\n",
            "speechbrain.utils.epoch_loop - Going into epoch 65\n",
            "Delta lang loss = 0.15, Delta separate loss = 0.85\n"
          ]
        },
        {
          "name": "stderr",
          "output_type": "stream",
          "text": [
            " 97%|█████████▋| 1210/1250 [02:38<00:04,  8.31it/s, train_loss=-14.4]"
          ]
        },
        {
          "name": "stdout",
          "output_type": "stream",
          "text": [
            "__main__ - infinite loss or empty loss! it happened 1 times so far - skipping this batch\n"
          ]
        },
        {
          "name": "stderr",
          "output_type": "stream",
          "text": [
            "100%|██████████| 1250/1250 [02:43<00:00,  7.66it/s, train_loss=-14.4]\n"
          ]
        },
        {
          "name": "stdout",
          "output_type": "stream",
          "text": [
            "Delta lang loss = 0.15, Delta separate loss = 0.85\n"
          ]
        },
        {
          "name": "stderr",
          "output_type": "stream",
          "text": [
            "100%|██████████| 500/500 [00:21<00:00, 23.36it/s]"
          ]
        },
        {
          "name": "stdout",
          "output_type": "stream",
          "text": [
            "speechbrain.utils.train_logger - epoch: 65, lr: 1.00e-05 - train final_loss: -1.44e+01 - valid final_loss: -9.53e+00, valid Accuracy soft: 0.3561147153377533, valid Accuracy Partial: 0.7170000076293945\n"
          ]
        },
        {
          "name": "stderr",
          "output_type": "stream",
          "text": [
            "\n"
          ]
        },
        {
          "name": "stdout",
          "output_type": "stream",
          "text": [
            "speechbrain.utils.checkpoints - Saved an end-of-epoch checkpoint in results/convtasnet/1234/save/CKPT+2025-07-29+21-15-08+00\n",
            "speechbrain.utils.checkpoints - Deleted checkpoint in results/convtasnet/1234/save/CKPT+2025-07-29+21-12-03+00\n",
            "speechbrain.utils.epoch_loop - Going into epoch 66\n",
            "Delta lang loss = 0.15, Delta separate loss = 0.85\n"
          ]
        },
        {
          "name": "stderr",
          "output_type": "stream",
          "text": [
            " 97%|█████████▋| 1210/1250 [02:37<00:04,  8.52it/s, train_loss=-14.4]"
          ]
        },
        {
          "name": "stdout",
          "output_type": "stream",
          "text": [
            "__main__ - infinite loss or empty loss! it happened 1 times so far - skipping this batch\n"
          ]
        },
        {
          "name": "stderr",
          "output_type": "stream",
          "text": [
            "100%|██████████| 1250/1250 [02:42<00:00,  7.70it/s, train_loss=-14.4]\n"
          ]
        },
        {
          "name": "stdout",
          "output_type": "stream",
          "text": [
            "Delta lang loss = 0.15, Delta separate loss = 0.85\n"
          ]
        },
        {
          "name": "stderr",
          "output_type": "stream",
          "text": [
            "100%|██████████| 500/500 [00:21<00:00, 23.25it/s]"
          ]
        },
        {
          "name": "stdout",
          "output_type": "stream",
          "text": [
            "speechbrain.utils.train_logger - epoch: 66, lr: 1.00e-05 - train final_loss: -1.44e+01 - valid final_loss: -9.48e+00, valid Accuracy soft: 0.354642391204834, valid Accuracy Partial: 0.7139999866485596\n"
          ]
        },
        {
          "name": "stderr",
          "output_type": "stream",
          "text": [
            "\n"
          ]
        },
        {
          "name": "stdout",
          "output_type": "stream",
          "text": [
            "speechbrain.utils.checkpoints - Saved an end-of-epoch checkpoint in results/convtasnet/1234/save/CKPT+2025-07-29+21-18-12+00\n",
            "speechbrain.utils.checkpoints - Deleted checkpoint in results/convtasnet/1234/save/CKPT+2025-07-29+21-15-08+00\n",
            "speechbrain.utils.epoch_loop - Going into epoch 67\n",
            "Delta lang loss = 0.15, Delta separate loss = 0.85\n"
          ]
        },
        {
          "name": "stderr",
          "output_type": "stream",
          "text": [
            " 97%|█████████▋| 1210/1250 [02:37<00:04,  8.52it/s, train_loss=-14.4]"
          ]
        },
        {
          "name": "stdout",
          "output_type": "stream",
          "text": [
            "__main__ - infinite loss or empty loss! it happened 1 times so far - skipping this batch\n"
          ]
        },
        {
          "name": "stderr",
          "output_type": "stream",
          "text": [
            "100%|██████████| 1250/1250 [02:43<00:00,  7.66it/s, train_loss=-14.4]\n"
          ]
        },
        {
          "name": "stdout",
          "output_type": "stream",
          "text": [
            "Delta lang loss = 0.15, Delta separate loss = 0.85\n"
          ]
        },
        {
          "name": "stderr",
          "output_type": "stream",
          "text": [
            "100%|██████████| 500/500 [00:21<00:00, 23.28it/s]"
          ]
        },
        {
          "name": "stdout",
          "output_type": "stream",
          "text": [
            "speechbrain.utils.train_logger - epoch: 67, lr: 1.00e-05 - train final_loss: -1.44e+01 - valid final_loss: -9.53e+00, valid Accuracy soft: 0.3567112982273102, valid Accuracy Partial: 0.7200000286102295\n"
          ]
        },
        {
          "name": "stderr",
          "output_type": "stream",
          "text": [
            "\n"
          ]
        },
        {
          "name": "stdout",
          "output_type": "stream",
          "text": [
            "speechbrain.utils.checkpoints - Saved an end-of-epoch checkpoint in results/convtasnet/1234/save/CKPT+2025-07-29+21-21-17+00\n",
            "speechbrain.utils.checkpoints - Deleted checkpoint in results/convtasnet/1234/save/CKPT+2025-07-29+21-18-12+00\n",
            "speechbrain.utils.epoch_loop - Going into epoch 68\n",
            "Delta lang loss = 0.15, Delta separate loss = 0.85\n"
          ]
        },
        {
          "name": "stderr",
          "output_type": "stream",
          "text": [
            " 97%|█████████▋| 1210/1250 [02:36<00:04,  8.41it/s, train_loss=-14.5]"
          ]
        },
        {
          "name": "stdout",
          "output_type": "stream",
          "text": [
            "__main__ - infinite loss or empty loss! it happened 1 times so far - skipping this batch\n"
          ]
        },
        {
          "name": "stderr",
          "output_type": "stream",
          "text": [
            "100%|██████████| 1250/1250 [02:41<00:00,  7.72it/s, train_loss=-14.4]\n"
          ]
        },
        {
          "name": "stdout",
          "output_type": "stream",
          "text": [
            "Delta lang loss = 0.15, Delta separate loss = 0.85\n"
          ]
        },
        {
          "name": "stderr",
          "output_type": "stream",
          "text": [
            "100%|██████████| 500/500 [00:21<00:00, 23.31it/s]"
          ]
        },
        {
          "name": "stdout",
          "output_type": "stream",
          "text": [
            "speechbrain.utils.train_logger - epoch: 68, lr: 1.00e-05 - train final_loss: -1.44e+01 - valid final_loss: -9.48e+00, valid Accuracy soft: 0.35439297556877136, valid Accuracy Partial: 0.7149999737739563\n"
          ]
        },
        {
          "name": "stderr",
          "output_type": "stream",
          "text": [
            "\n"
          ]
        },
        {
          "name": "stdout",
          "output_type": "stream",
          "text": [
            "speechbrain.utils.checkpoints - Saved an end-of-epoch checkpoint in results/convtasnet/1234/save/CKPT+2025-07-29+21-24-21+00\n",
            "speechbrain.utils.checkpoints - Deleted checkpoint in results/convtasnet/1234/save/CKPT+2025-07-29+21-21-17+00\n",
            "speechbrain.utils.epoch_loop - Going into epoch 69\n",
            "Delta lang loss = 0.15, Delta separate loss = 0.85\n"
          ]
        },
        {
          "name": "stderr",
          "output_type": "stream",
          "text": [
            " 97%|█████████▋| 1210/1250 [02:37<00:04,  8.35it/s, train_loss=-14.5]"
          ]
        },
        {
          "name": "stdout",
          "output_type": "stream",
          "text": [
            "__main__ - infinite loss or empty loss! it happened 1 times so far - skipping this batch\n"
          ]
        },
        {
          "name": "stderr",
          "output_type": "stream",
          "text": [
            "100%|██████████| 1250/1250 [02:42<00:00,  7.69it/s, train_loss=-14.5]\n"
          ]
        },
        {
          "name": "stdout",
          "output_type": "stream",
          "text": [
            "Delta lang loss = 0.15, Delta separate loss = 0.85\n"
          ]
        },
        {
          "name": "stderr",
          "output_type": "stream",
          "text": [
            "100%|██████████| 500/500 [00:21<00:00, 23.16it/s]"
          ]
        },
        {
          "name": "stdout",
          "output_type": "stream",
          "text": [
            "speechbrain.utils.train_logger - epoch: 69, lr: 1.00e-05 - train final_loss: -1.45e+01 - valid final_loss: -9.44e+00, valid Accuracy soft: 0.35101231932640076, valid Accuracy Partial: 0.7039999961853027\n"
          ]
        },
        {
          "name": "stderr",
          "output_type": "stream",
          "text": [
            "\n"
          ]
        },
        {
          "name": "stdout",
          "output_type": "stream",
          "text": [
            "speechbrain.utils.checkpoints - Saved an end-of-epoch checkpoint in results/convtasnet/1234/save/CKPT+2025-07-29+21-27-26+00\n",
            "speechbrain.utils.checkpoints - Deleted checkpoint in results/convtasnet/1234/save/CKPT+2025-07-29+21-24-21+00\n",
            "speechbrain.utils.epoch_loop - Going into epoch 70\n",
            "Delta lang loss = 0.15, Delta separate loss = 0.85\n"
          ]
        },
        {
          "name": "stderr",
          "output_type": "stream",
          "text": [
            " 97%|█████████▋| 1210/1250 [02:37<00:04,  8.58it/s, train_loss=-14.5]"
          ]
        },
        {
          "name": "stdout",
          "output_type": "stream",
          "text": [
            "__main__ - infinite loss or empty loss! it happened 1 times so far - skipping this batch\n"
          ]
        },
        {
          "name": "stderr",
          "output_type": "stream",
          "text": [
            "100%|██████████| 1250/1250 [02:42<00:00,  7.70it/s, train_loss=-14.5]\n"
          ]
        },
        {
          "name": "stdout",
          "output_type": "stream",
          "text": [
            "Delta lang loss = 0.15, Delta separate loss = 0.85\n"
          ]
        },
        {
          "name": "stderr",
          "output_type": "stream",
          "text": [
            "100%|██████████| 500/500 [00:21<00:00, 23.28it/s]"
          ]
        },
        {
          "name": "stdout",
          "output_type": "stream",
          "text": [
            "speechbrain.utils.train_logger - epoch: 70, lr: 1.00e-05 - train final_loss: -1.45e+01 - valid final_loss: -9.25e+00, valid Accuracy soft: 0.34520232677459717, valid Accuracy Partial: 0.6949999928474426\n"
          ]
        },
        {
          "name": "stderr",
          "output_type": "stream",
          "text": [
            "\n"
          ]
        },
        {
          "name": "stdout",
          "output_type": "stream",
          "text": [
            "speechbrain.utils.checkpoints - Saved an end-of-epoch checkpoint in results/convtasnet/1234/save/CKPT+2025-07-29+21-30-30+00\n",
            "speechbrain.utils.checkpoints - Deleted checkpoint in results/convtasnet/1234/save/CKPT+2025-07-29+21-27-26+00\n",
            "speechbrain.utils.epoch_loop - Going into epoch 71\n",
            "Delta lang loss = 0.15, Delta separate loss = 0.85\n"
          ]
        },
        {
          "name": "stderr",
          "output_type": "stream",
          "text": [
            " 97%|█████████▋| 1210/1250 [02:37<00:04,  8.41it/s, train_loss=-14.5]"
          ]
        },
        {
          "name": "stdout",
          "output_type": "stream",
          "text": [
            "__main__ - infinite loss or empty loss! it happened 1 times so far - skipping this batch\n"
          ]
        },
        {
          "name": "stderr",
          "output_type": "stream",
          "text": [
            "100%|██████████| 1250/1250 [02:42<00:00,  7.69it/s, train_loss=-14.5]\n"
          ]
        },
        {
          "name": "stdout",
          "output_type": "stream",
          "text": [
            "Delta lang loss = 0.15, Delta separate loss = 0.85\n"
          ]
        },
        {
          "name": "stderr",
          "output_type": "stream",
          "text": [
            "100%|██████████| 500/500 [00:21<00:00, 23.39it/s]"
          ]
        },
        {
          "name": "stdout",
          "output_type": "stream",
          "text": [
            "speechbrain.utils.train_logger - epoch: 71, lr: 1.00e-05 - train final_loss: -1.45e+01 - valid final_loss: -9.20e+00, valid Accuracy soft: 0.34255585074424744, valid Accuracy Partial: 0.6890000104904175\n"
          ]
        },
        {
          "name": "stderr",
          "output_type": "stream",
          "text": [
            "\n"
          ]
        },
        {
          "name": "stdout",
          "output_type": "stream",
          "text": [
            "speechbrain.utils.checkpoints - Saved an end-of-epoch checkpoint in results/convtasnet/1234/save/CKPT+2025-07-29+21-33-35+00\n",
            "speechbrain.utils.checkpoints - Deleted checkpoint in results/convtasnet/1234/save/CKPT+2025-07-29+21-30-30+00\n",
            "speechbrain.utils.epoch_loop - Going into epoch 72\n",
            "Delta lang loss = 0.15, Delta separate loss = 0.85\n"
          ]
        },
        {
          "name": "stderr",
          "output_type": "stream",
          "text": [
            " 97%|█████████▋| 1210/1250 [02:37<00:04,  8.44it/s, train_loss=-14.5]"
          ]
        },
        {
          "name": "stdout",
          "output_type": "stream",
          "text": [
            "__main__ - infinite loss or empty loss! it happened 1 times so far - skipping this batch\n"
          ]
        },
        {
          "name": "stderr",
          "output_type": "stream",
          "text": [
            "100%|██████████| 1250/1250 [02:42<00:00,  7.71it/s, train_loss=-14.5]\n"
          ]
        },
        {
          "name": "stdout",
          "output_type": "stream",
          "text": [
            "Delta lang loss = 0.15, Delta separate loss = 0.85\n"
          ]
        },
        {
          "name": "stderr",
          "output_type": "stream",
          "text": [
            "100%|██████████| 500/500 [00:21<00:00, 23.12it/s]"
          ]
        },
        {
          "name": "stdout",
          "output_type": "stream",
          "text": [
            "speechbrain.utils.train_logger - epoch: 72, lr: 1.00e-05 - train final_loss: -1.45e+01 - valid final_loss: -9.21e+00, valid Accuracy soft: 0.34323471784591675, valid Accuracy Partial: 0.6869999766349792\n"
          ]
        },
        {
          "name": "stderr",
          "output_type": "stream",
          "text": [
            "\n"
          ]
        },
        {
          "name": "stdout",
          "output_type": "stream",
          "text": [
            "speechbrain.utils.checkpoints - Saved an end-of-epoch checkpoint in results/convtasnet/1234/save/CKPT+2025-07-29+21-36-39+00\n",
            "speechbrain.utils.checkpoints - Deleted checkpoint in results/convtasnet/1234/save/CKPT+2025-07-29+21-33-35+00\n",
            "speechbrain.utils.epoch_loop - Going into epoch 73\n",
            "Delta lang loss = 0.15, Delta separate loss = 0.85\n"
          ]
        },
        {
          "name": "stderr",
          "output_type": "stream",
          "text": [
            " 97%|█████████▋| 1210/1250 [02:38<00:04,  8.44it/s, train_loss=-14.5]"
          ]
        },
        {
          "name": "stdout",
          "output_type": "stream",
          "text": [
            "__main__ - infinite loss or empty loss! it happened 1 times so far - skipping this batch\n"
          ]
        },
        {
          "name": "stderr",
          "output_type": "stream",
          "text": [
            "100%|██████████| 1250/1250 [02:43<00:00,  7.65it/s, train_loss=-14.5]\n"
          ]
        },
        {
          "name": "stdout",
          "output_type": "stream",
          "text": [
            "Delta lang loss = 0.15, Delta separate loss = 0.85\n"
          ]
        },
        {
          "name": "stderr",
          "output_type": "stream",
          "text": [
            "100%|██████████| 500/500 [00:21<00:00, 23.08it/s]"
          ]
        },
        {
          "name": "stdout",
          "output_type": "stream",
          "text": [
            "speechbrain.utils.train_logger - epoch: 73, lr: 1.00e-05 - train final_loss: -1.45e+01 - valid final_loss: -9.00e+00, valid Accuracy soft: 0.33810189366340637, valid Accuracy Partial: 0.6830000281333923\n"
          ]
        },
        {
          "name": "stderr",
          "output_type": "stream",
          "text": [
            "\n"
          ]
        },
        {
          "name": "stdout",
          "output_type": "stream",
          "text": [
            "speechbrain.utils.checkpoints - Saved an end-of-epoch checkpoint in results/convtasnet/1234/save/CKPT+2025-07-29+21-39-45+00\n",
            "speechbrain.utils.checkpoints - Deleted checkpoint in results/convtasnet/1234/save/CKPT+2025-07-29+21-36-39+00\n",
            "speechbrain.utils.epoch_loop - Going into epoch 74\n",
            "Delta lang loss = 0.15, Delta separate loss = 0.85\n"
          ]
        },
        {
          "name": "stderr",
          "output_type": "stream",
          "text": [
            " 97%|█████████▋| 1210/1250 [02:37<00:04,  8.02it/s, train_loss=-14.5]"
          ]
        },
        {
          "name": "stdout",
          "output_type": "stream",
          "text": [
            "__main__ - infinite loss or empty loss! it happened 1 times so far - skipping this batch\n"
          ]
        },
        {
          "name": "stderr",
          "output_type": "stream",
          "text": [
            "100%|██████████| 1250/1250 [02:42<00:00,  7.67it/s, train_loss=-14.5]\n"
          ]
        },
        {
          "name": "stdout",
          "output_type": "stream",
          "text": [
            "Delta lang loss = 0.15, Delta separate loss = 0.85\n"
          ]
        },
        {
          "name": "stderr",
          "output_type": "stream",
          "text": [
            "100%|██████████| 500/500 [00:21<00:00, 23.08it/s]"
          ]
        },
        {
          "name": "stdout",
          "output_type": "stream",
          "text": [
            "speechbrain.utils.train_logger - epoch: 74, lr: 1.00e-05 - train final_loss: -1.45e+01 - valid final_loss: -9.17e+00, valid Accuracy soft: 0.34105226397514343, valid Accuracy Partial: 0.6840000152587891\n"
          ]
        },
        {
          "name": "stderr",
          "output_type": "stream",
          "text": [
            "\n"
          ]
        },
        {
          "name": "stdout",
          "output_type": "stream",
          "text": [
            "speechbrain.utils.checkpoints - Saved an end-of-epoch checkpoint in results/convtasnet/1234/save/CKPT+2025-07-29+21-42-50+00\n",
            "speechbrain.utils.checkpoints - Deleted checkpoint in results/convtasnet/1234/save/CKPT+2025-07-29+21-39-45+00\n",
            "speechbrain.utils.epoch_loop - Going into epoch 75\n",
            "Delta lang loss = 0.15, Delta separate loss = 0.85\n"
          ]
        },
        {
          "name": "stderr",
          "output_type": "stream",
          "text": [
            " 97%|█████████▋| 1210/1250 [02:38<00:04,  8.18it/s, train_loss=-14.5]"
          ]
        },
        {
          "name": "stdout",
          "output_type": "stream",
          "text": [
            "__main__ - infinite loss or empty loss! it happened 1 times so far - skipping this batch\n"
          ]
        },
        {
          "name": "stderr",
          "output_type": "stream",
          "text": [
            "100%|██████████| 1250/1250 [02:43<00:00,  7.65it/s, train_loss=-14.5]\n"
          ]
        },
        {
          "name": "stdout",
          "output_type": "stream",
          "text": [
            "Delta lang loss = 0.15, Delta separate loss = 0.85\n"
          ]
        },
        {
          "name": "stderr",
          "output_type": "stream",
          "text": [
            "100%|██████████| 500/500 [00:21<00:00, 23.00it/s]"
          ]
        },
        {
          "name": "stdout",
          "output_type": "stream",
          "text": [
            "speechbrain.utils.train_logger - epoch: 75, lr: 1.00e-05 - train final_loss: -1.45e+01 - valid final_loss: -9.28e+00, valid Accuracy soft: 0.3441607654094696, valid Accuracy Partial: 0.6869999766349792\n"
          ]
        },
        {
          "name": "stderr",
          "output_type": "stream",
          "text": [
            "\n"
          ]
        },
        {
          "name": "stdout",
          "output_type": "stream",
          "text": [
            "speechbrain.utils.checkpoints - Saved an end-of-epoch checkpoint in results/convtasnet/1234/save/CKPT+2025-07-29+21-45-56+00\n",
            "speechbrain.utils.checkpoints - Deleted checkpoint in results/convtasnet/1234/save/CKPT+2025-07-29+21-42-50+00\n",
            "speechbrain.utils.epoch_loop - Going into epoch 76\n",
            "Delta lang loss = 0.15, Delta separate loss = 0.85\n"
          ]
        },
        {
          "name": "stderr",
          "output_type": "stream",
          "text": [
            " 97%|█████████▋| 1210/1250 [02:37<00:04,  8.38it/s, train_loss=-14.5]"
          ]
        },
        {
          "name": "stdout",
          "output_type": "stream",
          "text": [
            "__main__ - infinite loss or empty loss! it happened 1 times so far - skipping this batch\n"
          ]
        },
        {
          "name": "stderr",
          "output_type": "stream",
          "text": [
            "100%|██████████| 1250/1250 [02:42<00:00,  7.68it/s, train_loss=-14.5]\n"
          ]
        },
        {
          "name": "stdout",
          "output_type": "stream",
          "text": [
            "Delta lang loss = 0.15, Delta separate loss = 0.85\n"
          ]
        },
        {
          "name": "stderr",
          "output_type": "stream",
          "text": [
            "100%|██████████| 500/500 [00:21<00:00, 23.07it/s]"
          ]
        },
        {
          "name": "stdout",
          "output_type": "stream",
          "text": [
            "speechbrain.utils.train_logger - epoch: 76, lr: 1.00e-05 - train final_loss: -1.45e+01 - valid final_loss: -9.15e+00, valid Accuracy soft: 0.3426397144794464, valid Accuracy Partial: 0.6909999847412109\n"
          ]
        },
        {
          "name": "stderr",
          "output_type": "stream",
          "text": [
            "\n"
          ]
        },
        {
          "name": "stdout",
          "output_type": "stream",
          "text": [
            "speechbrain.utils.checkpoints - Saved an end-of-epoch checkpoint in results/convtasnet/1234/save/CKPT+2025-07-29+21-49-01+00\n",
            "speechbrain.utils.checkpoints - Deleted checkpoint in results/convtasnet/1234/save/CKPT+2025-07-29+21-45-56+00\n",
            "speechbrain.utils.epoch_loop - Going into epoch 77\n",
            "Delta lang loss = 0.15, Delta separate loss = 0.85\n"
          ]
        },
        {
          "name": "stderr",
          "output_type": "stream",
          "text": [
            " 97%|█████████▋| 1210/1250 [02:38<00:04,  8.40it/s, train_loss=-14.5]"
          ]
        },
        {
          "name": "stdout",
          "output_type": "stream",
          "text": [
            "__main__ - infinite loss or empty loss! it happened 1 times so far - skipping this batch\n"
          ]
        },
        {
          "name": "stderr",
          "output_type": "stream",
          "text": [
            "100%|██████████| 1250/1250 [02:43<00:00,  7.63it/s, train_loss=-14.5]\n"
          ]
        },
        {
          "name": "stdout",
          "output_type": "stream",
          "text": [
            "Delta lang loss = 0.15, Delta separate loss = 0.85\n"
          ]
        },
        {
          "name": "stderr",
          "output_type": "stream",
          "text": [
            "100%|██████████| 500/500 [00:21<00:00, 23.11it/s]"
          ]
        },
        {
          "name": "stdout",
          "output_type": "stream",
          "text": [
            "speechbrain.utils.train_logger - epoch: 77, lr: 1.00e-05 - train final_loss: -1.45e+01 - valid final_loss: -9.10e+00, valid Accuracy soft: 0.3417213559150696, valid Accuracy Partial: 0.6869999766349792\n"
          ]
        },
        {
          "name": "stderr",
          "output_type": "stream",
          "text": [
            "\n"
          ]
        },
        {
          "name": "stdout",
          "output_type": "stream",
          "text": [
            "speechbrain.utils.checkpoints - Saved an end-of-epoch checkpoint in results/convtasnet/1234/save/CKPT+2025-07-29+21-52-07+00\n",
            "speechbrain.utils.checkpoints - Deleted checkpoint in results/convtasnet/1234/save/CKPT+2025-07-29+21-49-01+00\n",
            "speechbrain.utils.epoch_loop - Going into epoch 78\n",
            "Delta lang loss = 0.15, Delta separate loss = 0.85\n"
          ]
        },
        {
          "name": "stderr",
          "output_type": "stream",
          "text": [
            " 97%|█████████▋| 1210/1250 [02:36<00:04,  8.46it/s, train_loss=-14.5]"
          ]
        },
        {
          "name": "stdout",
          "output_type": "stream",
          "text": [
            "__main__ - infinite loss or empty loss! it happened 1 times so far - skipping this batch\n"
          ]
        },
        {
          "name": "stderr",
          "output_type": "stream",
          "text": [
            "100%|██████████| 1250/1250 [02:41<00:00,  7.73it/s, train_loss=-14.5]\n"
          ]
        },
        {
          "name": "stdout",
          "output_type": "stream",
          "text": [
            "Delta lang loss = 0.15, Delta separate loss = 0.85\n"
          ]
        },
        {
          "name": "stderr",
          "output_type": "stream",
          "text": [
            "100%|██████████| 500/500 [00:21<00:00, 23.31it/s]"
          ]
        },
        {
          "name": "stdout",
          "output_type": "stream",
          "text": [
            "speechbrain.utils.train_logger - epoch: 78, lr: 1.00e-05 - train final_loss: -1.45e+01 - valid final_loss: -9.18e+00, valid Accuracy soft: 0.3433264493942261, valid Accuracy Partial: 0.6909999847412109\n"
          ]
        },
        {
          "name": "stderr",
          "output_type": "stream",
          "text": [
            "\n"
          ]
        },
        {
          "name": "stdout",
          "output_type": "stream",
          "text": [
            "speechbrain.utils.checkpoints - Saved an end-of-epoch checkpoint in results/convtasnet/1234/save/CKPT+2025-07-29+21-55-11+00\n",
            "speechbrain.utils.checkpoints - Deleted checkpoint in results/convtasnet/1234/save/CKPT+2025-07-29+21-52-07+00\n",
            "speechbrain.utils.epoch_loop - Going into epoch 79\n",
            "Delta lang loss = 0.15, Delta separate loss = 0.85\n"
          ]
        },
        {
          "name": "stderr",
          "output_type": "stream",
          "text": [
            " 97%|█████████▋| 1210/1250 [02:36<00:04,  8.68it/s, train_loss=-14.5]"
          ]
        },
        {
          "name": "stdout",
          "output_type": "stream",
          "text": [
            "__main__ - infinite loss or empty loss! it happened 1 times so far - skipping this batch\n"
          ]
        },
        {
          "name": "stderr",
          "output_type": "stream",
          "text": [
            "100%|██████████| 1250/1250 [02:41<00:00,  7.72it/s, train_loss=-14.5]\n"
          ]
        },
        {
          "name": "stdout",
          "output_type": "stream",
          "text": [
            "Delta lang loss = 0.15, Delta separate loss = 0.85\n"
          ]
        },
        {
          "name": "stderr",
          "output_type": "stream",
          "text": [
            "100%|██████████| 500/500 [00:21<00:00, 23.25it/s]"
          ]
        },
        {
          "name": "stdout",
          "output_type": "stream",
          "text": [
            "speechbrain.utils.train_logger - epoch: 79, lr: 1.00e-05 - train final_loss: -1.45e+01 - valid final_loss: -9.28e+00, valid Accuracy soft: 0.3464944362640381, valid Accuracy Partial: 0.6949999928474426\n"
          ]
        },
        {
          "name": "stderr",
          "output_type": "stream",
          "text": [
            "\n"
          ]
        },
        {
          "name": "stdout",
          "output_type": "stream",
          "text": [
            "speechbrain.utils.checkpoints - Saved an end-of-epoch checkpoint in results/convtasnet/1234/save/CKPT+2025-07-29+21-58-14+00\n",
            "speechbrain.utils.checkpoints - Deleted checkpoint in results/convtasnet/1234/save/CKPT+2025-07-29+21-55-11+00\n",
            "speechbrain.utils.epoch_loop - Going into epoch 80\n",
            "Delta lang loss = 0.15, Delta separate loss = 0.85\n"
          ]
        },
        {
          "name": "stderr",
          "output_type": "stream",
          "text": [
            " 97%|█████████▋| 1210/1250 [02:37<00:04,  8.42it/s, train_loss=-14.5]"
          ]
        },
        {
          "name": "stdout",
          "output_type": "stream",
          "text": [
            "__main__ - infinite loss or empty loss! it happened 1 times so far - skipping this batch\n"
          ]
        },
        {
          "name": "stderr",
          "output_type": "stream",
          "text": [
            "100%|██████████| 1250/1250 [02:43<00:00,  7.67it/s, train_loss=-14.5]\n"
          ]
        },
        {
          "name": "stdout",
          "output_type": "stream",
          "text": [
            "__main__ - Removed file /content/drive/MyDrive/Project/results_60\n",
            "__main__ - Saved file succesfully\n",
            "Delta lang loss = 0.15, Delta separate loss = 0.85\n"
          ]
        },
        {
          "name": "stderr",
          "output_type": "stream",
          "text": [
            "100%|██████████| 500/500 [00:21<00:00, 23.02it/s]"
          ]
        },
        {
          "name": "stdout",
          "output_type": "stream",
          "text": [
            "speechbrain.utils.train_logger - epoch: 80, lr: 1.00e-05 - train final_loss: -1.45e+01 - valid final_loss: -9.26e+00, valid Accuracy soft: 0.3458069860935211, valid Accuracy Partial: 0.6980000138282776\n"
          ]
        },
        {
          "name": "stderr",
          "output_type": "stream",
          "text": [
            "\n"
          ]
        },
        {
          "name": "stdout",
          "output_type": "stream",
          "text": [
            "speechbrain.utils.checkpoints - Saved an end-of-epoch checkpoint in results/convtasnet/1234/save/CKPT+2025-07-29+22-01-21+00\n",
            "speechbrain.utils.checkpoints - Deleted checkpoint in results/convtasnet/1234/save/CKPT+2025-07-29+21-58-14+00\n",
            "speechbrain.utils.epoch_loop - Going into epoch 81\n",
            "Delta lang loss = 0.15, Delta separate loss = 0.85\n"
          ]
        },
        {
          "name": "stderr",
          "output_type": "stream",
          "text": [
            " 97%|█████████▋| 1210/1250 [02:37<00:04,  8.58it/s, train_loss=-14.5]"
          ]
        },
        {
          "name": "stdout",
          "output_type": "stream",
          "text": [
            "__main__ - infinite loss or empty loss! it happened 1 times so far - skipping this batch\n"
          ]
        },
        {
          "name": "stderr",
          "output_type": "stream",
          "text": [
            "100%|██████████| 1250/1250 [02:42<00:00,  7.71it/s, train_loss=-14.5]\n"
          ]
        },
        {
          "name": "stdout",
          "output_type": "stream",
          "text": [
            "Delta lang loss = 0.15, Delta separate loss = 0.85\n"
          ]
        },
        {
          "name": "stderr",
          "output_type": "stream",
          "text": [
            "100%|██████████| 500/500 [00:21<00:00, 23.19it/s]"
          ]
        },
        {
          "name": "stdout",
          "output_type": "stream",
          "text": [
            "speechbrain.utils.train_logger - epoch: 81, lr: 1.00e-05 - train final_loss: -1.45e+01 - valid final_loss: -9.36e+00, valid Accuracy soft: 0.3485056757926941, valid Accuracy Partial: 0.7039999961853027\n"
          ]
        },
        {
          "name": "stderr",
          "output_type": "stream",
          "text": [
            "\n"
          ]
        },
        {
          "name": "stdout",
          "output_type": "stream",
          "text": [
            "speechbrain.utils.checkpoints - Saved an end-of-epoch checkpoint in results/convtasnet/1234/save/CKPT+2025-07-29+22-04-25+00\n",
            "speechbrain.utils.checkpoints - Deleted checkpoint in results/convtasnet/1234/save/CKPT+2025-07-29+22-01-21+00\n",
            "speechbrain.utils.epoch_loop - Going into epoch 82\n",
            "Delta lang loss = 0.15, Delta separate loss = 0.85\n"
          ]
        },
        {
          "name": "stderr",
          "output_type": "stream",
          "text": [
            " 97%|█████████▋| 1210/1250 [02:38<00:05,  7.92it/s, train_loss=-14.5]"
          ]
        },
        {
          "name": "stdout",
          "output_type": "stream",
          "text": [
            "__main__ - infinite loss or empty loss! it happened 1 times so far - skipping this batch\n"
          ]
        },
        {
          "name": "stderr",
          "output_type": "stream",
          "text": [
            "100%|██████████| 1250/1250 [02:44<00:00,  7.62it/s, train_loss=-14.5]\n"
          ]
        },
        {
          "name": "stdout",
          "output_type": "stream",
          "text": [
            "Delta lang loss = 0.15, Delta separate loss = 0.85\n"
          ]
        },
        {
          "name": "stderr",
          "output_type": "stream",
          "text": [
            "100%|██████████| 500/500 [00:22<00:00, 22.67it/s]"
          ]
        },
        {
          "name": "stdout",
          "output_type": "stream",
          "text": [
            "speechbrain.utils.train_logger - epoch: 82, lr: 1.00e-05 - train final_loss: -1.45e+01 - valid final_loss: -9.31e+00, valid Accuracy soft: 0.3476168215274811, valid Accuracy Partial: 0.699999988079071\n"
          ]
        },
        {
          "name": "stderr",
          "output_type": "stream",
          "text": [
            "\n"
          ]
        },
        {
          "name": "stdout",
          "output_type": "stream",
          "text": [
            "speechbrain.utils.checkpoints - Saved an end-of-epoch checkpoint in results/convtasnet/1234/save/CKPT+2025-07-29+22-07-32+00\n",
            "speechbrain.utils.checkpoints - Deleted checkpoint in results/convtasnet/1234/save/CKPT+2025-07-29+22-04-25+00\n",
            "speechbrain.utils.epoch_loop - Going into epoch 83\n",
            "Delta lang loss = 0.15, Delta separate loss = 0.85\n"
          ]
        },
        {
          "name": "stderr",
          "output_type": "stream",
          "text": [
            " 97%|█████████▋| 1210/1250 [02:40<00:04,  8.48it/s, train_loss=-14.5]"
          ]
        },
        {
          "name": "stdout",
          "output_type": "stream",
          "text": [
            "__main__ - infinite loss or empty loss! it happened 1 times so far - skipping this batch\n"
          ]
        },
        {
          "name": "stderr",
          "output_type": "stream",
          "text": [
            "100%|██████████| 1250/1250 [02:46<00:00,  7.53it/s, train_loss=-14.5]\n"
          ]
        },
        {
          "name": "stdout",
          "output_type": "stream",
          "text": [
            "Delta lang loss = 0.15, Delta separate loss = 0.85\n"
          ]
        },
        {
          "name": "stderr",
          "output_type": "stream",
          "text": [
            "100%|██████████| 500/500 [00:21<00:00, 22.95it/s]"
          ]
        },
        {
          "name": "stdout",
          "output_type": "stream",
          "text": [
            "speechbrain.utils.train_logger - epoch: 83, lr: 1.00e-05 - train final_loss: -1.45e+01 - valid final_loss: -9.31e+00, valid Accuracy soft: 0.3474463224411011, valid Accuracy Partial: 0.703000009059906\n"
          ]
        },
        {
          "name": "stderr",
          "output_type": "stream",
          "text": [
            "\n"
          ]
        },
        {
          "name": "stdout",
          "output_type": "stream",
          "text": [
            "speechbrain.utils.checkpoints - Saved an end-of-epoch checkpoint in results/convtasnet/1234/save/CKPT+2025-07-29+22-10-40+00\n",
            "speechbrain.utils.checkpoints - Deleted checkpoint in results/convtasnet/1234/save/CKPT+2025-07-29+22-07-32+00\n",
            "speechbrain.utils.epoch_loop - Going into epoch 84\n",
            "Delta lang loss = 0.15, Delta separate loss = 0.85\n"
          ]
        },
        {
          "name": "stderr",
          "output_type": "stream",
          "text": [
            " 97%|█████████▋| 1210/1250 [02:37<00:04,  8.39it/s, train_loss=-14.6]"
          ]
        },
        {
          "name": "stdout",
          "output_type": "stream",
          "text": [
            "__main__ - infinite loss or empty loss! it happened 1 times so far - skipping this batch\n"
          ]
        },
        {
          "name": "stderr",
          "output_type": "stream",
          "text": [
            "100%|██████████| 1250/1250 [02:42<00:00,  7.69it/s, train_loss=-14.5]\n"
          ]
        },
        {
          "name": "stdout",
          "output_type": "stream",
          "text": [
            "Delta lang loss = 0.15, Delta separate loss = 0.85\n"
          ]
        },
        {
          "name": "stderr",
          "output_type": "stream",
          "text": [
            "100%|██████████| 500/500 [00:21<00:00, 23.10it/s]"
          ]
        },
        {
          "name": "stdout",
          "output_type": "stream",
          "text": [
            "speechbrain.utils.train_logger - epoch: 84, lr: 1.00e-05 - train final_loss: -1.45e+01 - valid final_loss: -9.35e+00, valid Accuracy soft: 0.3482639193534851, valid Accuracy Partial: 0.7020000219345093\n"
          ]
        },
        {
          "name": "stderr",
          "output_type": "stream",
          "text": [
            "\n"
          ]
        },
        {
          "name": "stdout",
          "output_type": "stream",
          "text": [
            "speechbrain.utils.checkpoints - Saved an end-of-epoch checkpoint in results/convtasnet/1234/save/CKPT+2025-07-29+22-13-45+00\n",
            "speechbrain.utils.checkpoints - Deleted checkpoint in results/convtasnet/1234/save/CKPT+2025-07-29+22-10-40+00\n",
            "speechbrain.utils.epoch_loop - Going into epoch 85\n",
            "Delta lang loss = 0.15, Delta separate loss = 0.85\n"
          ]
        },
        {
          "name": "stderr",
          "output_type": "stream",
          "text": [
            " 97%|█████████▋| 1210/1250 [02:37<00:04,  8.18it/s, train_loss=-14.6]"
          ]
        },
        {
          "name": "stdout",
          "output_type": "stream",
          "text": [
            "__main__ - infinite loss or empty loss! it happened 1 times so far - skipping this batch\n"
          ]
        },
        {
          "name": "stderr",
          "output_type": "stream",
          "text": [
            "100%|██████████| 1250/1250 [02:42<00:00,  7.68it/s, train_loss=-14.6]\n"
          ]
        },
        {
          "name": "stdout",
          "output_type": "stream",
          "text": [
            "Delta lang loss = 0.15, Delta separate loss = 0.85\n"
          ]
        },
        {
          "name": "stderr",
          "output_type": "stream",
          "text": [
            "100%|██████████| 500/500 [00:21<00:00, 23.17it/s]"
          ]
        },
        {
          "name": "stdout",
          "output_type": "stream",
          "text": [
            "speechbrain.utils.train_logger - epoch: 85, lr: 1.00e-05 - train final_loss: -1.46e+01 - valid final_loss: -9.11e+00, valid Accuracy soft: 0.34249839186668396, valid Accuracy Partial: 0.6880000233650208\n"
          ]
        },
        {
          "name": "stderr",
          "output_type": "stream",
          "text": [
            "\n"
          ]
        },
        {
          "name": "stdout",
          "output_type": "stream",
          "text": [
            "speechbrain.utils.checkpoints - Saved an end-of-epoch checkpoint in results/convtasnet/1234/save/CKPT+2025-07-29+22-16-50+00\n",
            "speechbrain.utils.checkpoints - Deleted checkpoint in results/convtasnet/1234/save/CKPT+2025-07-29+22-13-45+00\n",
            "speechbrain.utils.epoch_loop - Going into epoch 86\n",
            "Delta lang loss = 0.15, Delta separate loss = 0.85\n"
          ]
        },
        {
          "name": "stderr",
          "output_type": "stream",
          "text": [
            " 97%|█████████▋| 1210/1250 [02:38<00:04,  8.22it/s, train_loss=-14.6]"
          ]
        },
        {
          "name": "stdout",
          "output_type": "stream",
          "text": [
            "__main__ - infinite loss or empty loss! it happened 1 times so far - skipping this batch\n"
          ]
        },
        {
          "name": "stderr",
          "output_type": "stream",
          "text": [
            "100%|██████████| 1250/1250 [02:44<00:00,  7.62it/s, train_loss=-14.6]\n"
          ]
        },
        {
          "name": "stdout",
          "output_type": "stream",
          "text": [
            "Delta lang loss = 0.15, Delta separate loss = 0.85\n"
          ]
        },
        {
          "name": "stderr",
          "output_type": "stream",
          "text": [
            "100%|██████████| 500/500 [00:21<00:00, 22.84it/s]"
          ]
        },
        {
          "name": "stdout",
          "output_type": "stream",
          "text": [
            "speechbrain.utils.train_logger - epoch: 86, lr: 1.00e-05 - train final_loss: -1.46e+01 - valid final_loss: -9.33e+00, valid Accuracy soft: 0.34831687808036804, valid Accuracy Partial: 0.7049999833106995\n"
          ]
        },
        {
          "name": "stderr",
          "output_type": "stream",
          "text": [
            "\n"
          ]
        },
        {
          "name": "stdout",
          "output_type": "stream",
          "text": [
            "speechbrain.utils.checkpoints - Saved an end-of-epoch checkpoint in results/convtasnet/1234/save/CKPT+2025-07-29+22-19-56+00\n",
            "speechbrain.utils.checkpoints - Deleted checkpoint in results/convtasnet/1234/save/CKPT+2025-07-29+22-16-50+00\n",
            "speechbrain.utils.epoch_loop - Going into epoch 87\n",
            "Delta lang loss = 0.15, Delta separate loss = 0.85\n"
          ]
        },
        {
          "name": "stderr",
          "output_type": "stream",
          "text": [
            " 97%|█████████▋| 1210/1250 [02:38<00:04,  8.42it/s, train_loss=-14.6]"
          ]
        },
        {
          "name": "stdout",
          "output_type": "stream",
          "text": [
            "__main__ - infinite loss or empty loss! it happened 1 times so far - skipping this batch\n"
          ]
        },
        {
          "name": "stderr",
          "output_type": "stream",
          "text": [
            "100%|██████████| 1250/1250 [02:43<00:00,  7.65it/s, train_loss=-14.6]\n"
          ]
        },
        {
          "name": "stdout",
          "output_type": "stream",
          "text": [
            "Delta lang loss = 0.15, Delta separate loss = 0.85\n"
          ]
        },
        {
          "name": "stderr",
          "output_type": "stream",
          "text": [
            "100%|██████████| 500/500 [00:21<00:00, 23.20it/s]"
          ]
        },
        {
          "name": "stdout",
          "output_type": "stream",
          "text": [
            "speechbrain.utils.train_logger - epoch: 87, lr: 1.00e-05 - train final_loss: -1.46e+01 - valid final_loss: -9.30e+00, valid Accuracy soft: 0.34691813588142395, valid Accuracy Partial: 0.7039999961853027\n"
          ]
        },
        {
          "name": "stderr",
          "output_type": "stream",
          "text": [
            "\n"
          ]
        },
        {
          "name": "stdout",
          "output_type": "stream",
          "text": [
            "speechbrain.utils.checkpoints - Saved an end-of-epoch checkpoint in results/convtasnet/1234/save/CKPT+2025-07-29+22-23-02+00\n",
            "speechbrain.utils.checkpoints - Deleted checkpoint in results/convtasnet/1234/save/CKPT+2025-07-29+22-19-56+00\n",
            "speechbrain.utils.epoch_loop - Going into epoch 88\n",
            "Delta lang loss = 0.15, Delta separate loss = 0.85\n"
          ]
        },
        {
          "name": "stderr",
          "output_type": "stream",
          "text": [
            " 97%|█████████▋| 1210/1250 [02:37<00:04,  8.45it/s, train_loss=-14.6]"
          ]
        },
        {
          "name": "stdout",
          "output_type": "stream",
          "text": [
            "__main__ - infinite loss or empty loss! it happened 1 times so far - skipping this batch\n"
          ]
        },
        {
          "name": "stderr",
          "output_type": "stream",
          "text": [
            "100%|██████████| 1250/1250 [02:42<00:00,  7.69it/s, train_loss=-14.6]\n"
          ]
        },
        {
          "name": "stdout",
          "output_type": "stream",
          "text": [
            "Delta lang loss = 0.15, Delta separate loss = 0.85\n"
          ]
        },
        {
          "name": "stderr",
          "output_type": "stream",
          "text": [
            "100%|██████████| 500/500 [00:21<00:00, 23.14it/s]"
          ]
        },
        {
          "name": "stdout",
          "output_type": "stream",
          "text": [
            "speechbrain.utils.train_logger - epoch: 88, lr: 1.00e-05 - train final_loss: -1.46e+01 - valid final_loss: -9.30e+00, valid Accuracy soft: 0.3476843535900116, valid Accuracy Partial: 0.703000009059906\n"
          ]
        },
        {
          "name": "stderr",
          "output_type": "stream",
          "text": [
            "\n"
          ]
        },
        {
          "name": "stdout",
          "output_type": "stream",
          "text": [
            "speechbrain.utils.checkpoints - Saved an end-of-epoch checkpoint in results/convtasnet/1234/save/CKPT+2025-07-29+22-26-07+00\n",
            "speechbrain.utils.checkpoints - Deleted checkpoint in results/convtasnet/1234/save/CKPT+2025-07-29+22-23-02+00\n",
            "speechbrain.utils.epoch_loop - Going into epoch 89\n",
            "Delta lang loss = 0.15, Delta separate loss = 0.85\n"
          ]
        },
        {
          "name": "stderr",
          "output_type": "stream",
          "text": [
            " 97%|█████████▋| 1210/1250 [02:37<00:04,  8.44it/s, train_loss=-14.6]"
          ]
        },
        {
          "name": "stdout",
          "output_type": "stream",
          "text": [
            "__main__ - infinite loss or empty loss! it happened 1 times so far - skipping this batch\n"
          ]
        },
        {
          "name": "stderr",
          "output_type": "stream",
          "text": [
            "100%|██████████| 1250/1250 [02:42<00:00,  7.69it/s, train_loss=-14.6]\n"
          ]
        },
        {
          "name": "stdout",
          "output_type": "stream",
          "text": [
            "Delta lang loss = 0.15, Delta separate loss = 0.85\n"
          ]
        },
        {
          "name": "stderr",
          "output_type": "stream",
          "text": [
            "100%|██████████| 500/500 [00:21<00:00, 22.95it/s]"
          ]
        },
        {
          "name": "stdout",
          "output_type": "stream",
          "text": [
            "speechbrain.utils.train_logger - epoch: 89, lr: 1.00e-05 - train final_loss: -1.46e+01 - valid final_loss: -9.31e+00, valid Accuracy soft: 0.3477550148963928, valid Accuracy Partial: 0.7049999833106995\n"
          ]
        },
        {
          "name": "stderr",
          "output_type": "stream",
          "text": [
            "\n"
          ]
        },
        {
          "name": "stdout",
          "output_type": "stream",
          "text": [
            "speechbrain.utils.checkpoints - Saved an end-of-epoch checkpoint in results/convtasnet/1234/save/CKPT+2025-07-29+22-29-12+00\n",
            "speechbrain.utils.checkpoints - Deleted checkpoint in results/convtasnet/1234/save/CKPT+2025-07-29+22-26-07+00\n",
            "speechbrain.utils.epoch_loop - Going into epoch 90\n",
            "Delta lang loss = 0.15, Delta separate loss = 0.85\n"
          ]
        },
        {
          "name": "stderr",
          "output_type": "stream",
          "text": [
            " 97%|█████████▋| 1210/1250 [02:39<00:04,  8.41it/s, train_loss=-14.6]"
          ]
        },
        {
          "name": "stdout",
          "output_type": "stream",
          "text": [
            "__main__ - infinite loss or empty loss! it happened 1 times so far - skipping this batch\n"
          ]
        },
        {
          "name": "stderr",
          "output_type": "stream",
          "text": [
            "100%|██████████| 1250/1250 [02:44<00:00,  7.60it/s, train_loss=-14.6]\n"
          ]
        },
        {
          "name": "stdout",
          "output_type": "stream",
          "text": [
            "Delta lang loss = 0.15, Delta separate loss = 0.85\n"
          ]
        },
        {
          "name": "stderr",
          "output_type": "stream",
          "text": [
            "100%|██████████| 500/500 [00:21<00:00, 23.12it/s]"
          ]
        },
        {
          "name": "stdout",
          "output_type": "stream",
          "text": [
            "speechbrain.utils.train_logger - epoch: 90, lr: 1.00e-05 - train final_loss: -1.46e+01 - valid final_loss: -9.40e+00, valid Accuracy soft: 0.350802481174469, valid Accuracy Partial: 0.7080000042915344\n"
          ]
        },
        {
          "name": "stderr",
          "output_type": "stream",
          "text": [
            "\n"
          ]
        },
        {
          "name": "stdout",
          "output_type": "stream",
          "text": [
            "speechbrain.utils.checkpoints - Saved an end-of-epoch checkpoint in results/convtasnet/1234/save/CKPT+2025-07-29+22-32-18+00\n",
            "speechbrain.utils.checkpoints - Deleted checkpoint in results/convtasnet/1234/save/CKPT+2025-07-29+22-29-12+00\n",
            "speechbrain.utils.epoch_loop - Going into epoch 91\n",
            "Delta lang loss = 0.15, Delta separate loss = 0.85\n"
          ]
        },
        {
          "name": "stderr",
          "output_type": "stream",
          "text": [
            " 97%|█████████▋| 1210/1250 [02:37<00:04,  8.49it/s, train_loss=-14.6]"
          ]
        },
        {
          "name": "stdout",
          "output_type": "stream",
          "text": [
            "__main__ - infinite loss or empty loss! it happened 1 times so far - skipping this batch\n"
          ]
        },
        {
          "name": "stderr",
          "output_type": "stream",
          "text": [
            "100%|██████████| 1250/1250 [02:42<00:00,  7.70it/s, train_loss=-14.6]\n"
          ]
        },
        {
          "name": "stdout",
          "output_type": "stream",
          "text": [
            "Delta lang loss = 0.15, Delta separate loss = 0.85\n"
          ]
        },
        {
          "name": "stderr",
          "output_type": "stream",
          "text": [
            "100%|██████████| 500/500 [00:21<00:00, 23.19it/s]"
          ]
        },
        {
          "name": "stdout",
          "output_type": "stream",
          "text": [
            "speechbrain.utils.train_logger - epoch: 91, lr: 1.00e-05 - train final_loss: -1.46e+01 - valid final_loss: -9.36e+00, valid Accuracy soft: 0.34956368803977966, valid Accuracy Partial: 0.7039999961853027\n"
          ]
        },
        {
          "name": "stderr",
          "output_type": "stream",
          "text": [
            "\n"
          ]
        },
        {
          "name": "stdout",
          "output_type": "stream",
          "text": [
            "speechbrain.utils.checkpoints - Saved an end-of-epoch checkpoint in results/convtasnet/1234/save/CKPT+2025-07-29+22-35-23+00\n",
            "speechbrain.utils.checkpoints - Deleted checkpoint in results/convtasnet/1234/save/CKPT+2025-07-29+22-32-18+00\n",
            "speechbrain.utils.epoch_loop - Going into epoch 92\n",
            "Delta lang loss = 0.15, Delta separate loss = 0.85\n"
          ]
        },
        {
          "name": "stderr",
          "output_type": "stream",
          "text": [
            " 97%|█████████▋| 1210/1250 [02:37<00:04,  8.53it/s, train_loss=-14.6]"
          ]
        },
        {
          "name": "stdout",
          "output_type": "stream",
          "text": [
            "__main__ - infinite loss or empty loss! it happened 1 times so far - skipping this batch\n"
          ]
        },
        {
          "name": "stderr",
          "output_type": "stream",
          "text": [
            "100%|██████████| 1250/1250 [02:42<00:00,  7.68it/s, train_loss=-14.6]\n"
          ]
        },
        {
          "name": "stdout",
          "output_type": "stream",
          "text": [
            "Delta lang loss = 0.15, Delta separate loss = 0.85\n"
          ]
        },
        {
          "name": "stderr",
          "output_type": "stream",
          "text": [
            "100%|██████████| 500/500 [00:21<00:00, 22.92it/s]"
          ]
        },
        {
          "name": "stdout",
          "output_type": "stream",
          "text": [
            "speechbrain.utils.train_logger - epoch: 92, lr: 1.00e-05 - train final_loss: -1.46e+01 - valid final_loss: -9.43e+00, valid Accuracy soft: 0.3531700074672699, valid Accuracy Partial: 0.7120000123977661\n"
          ]
        },
        {
          "name": "stderr",
          "output_type": "stream",
          "text": [
            "\n"
          ]
        },
        {
          "name": "stdout",
          "output_type": "stream",
          "text": [
            "speechbrain.utils.checkpoints - Saved an end-of-epoch checkpoint in results/convtasnet/1234/save/CKPT+2025-07-29+22-38-28+00\n",
            "speechbrain.utils.checkpoints - Deleted checkpoint in results/convtasnet/1234/save/CKPT+2025-07-29+22-35-23+00\n",
            "speechbrain.utils.epoch_loop - Going into epoch 93\n",
            "Delta lang loss = 0.15, Delta separate loss = 0.85\n"
          ]
        },
        {
          "name": "stderr",
          "output_type": "stream",
          "text": [
            " 97%|█████████▋| 1210/1250 [02:37<00:04,  8.32it/s, train_loss=-14.6]"
          ]
        },
        {
          "name": "stdout",
          "output_type": "stream",
          "text": [
            "__main__ - infinite loss or empty loss! it happened 1 times so far - skipping this batch\n"
          ]
        },
        {
          "name": "stderr",
          "output_type": "stream",
          "text": [
            "100%|██████████| 1250/1250 [02:42<00:00,  7.67it/s, train_loss=-14.6]\n"
          ]
        },
        {
          "name": "stdout",
          "output_type": "stream",
          "text": [
            "Delta lang loss = 0.15, Delta separate loss = 0.85\n"
          ]
        },
        {
          "name": "stderr",
          "output_type": "stream",
          "text": [
            "100%|██████████| 500/500 [00:21<00:00, 22.99it/s]"
          ]
        },
        {
          "name": "stdout",
          "output_type": "stream",
          "text": [
            "speechbrain.utils.train_logger - epoch: 93, lr: 1.00e-05 - train final_loss: -1.46e+01 - valid final_loss: -9.45e+00, valid Accuracy soft: 0.35436293482780457, valid Accuracy Partial: 0.7120000123977661\n"
          ]
        },
        {
          "name": "stderr",
          "output_type": "stream",
          "text": [
            "\n"
          ]
        },
        {
          "name": "stdout",
          "output_type": "stream",
          "text": [
            "speechbrain.utils.checkpoints - Saved an end-of-epoch checkpoint in results/convtasnet/1234/save/CKPT+2025-07-29+22-41-33+00\n",
            "speechbrain.utils.checkpoints - Deleted checkpoint in results/convtasnet/1234/save/CKPT+2025-07-29+22-38-28+00\n",
            "speechbrain.utils.epoch_loop - Going into epoch 94\n",
            "Delta lang loss = 0.15, Delta separate loss = 0.85\n"
          ]
        },
        {
          "name": "stderr",
          "output_type": "stream",
          "text": [
            " 97%|█████████▋| 1210/1250 [02:37<00:04,  8.50it/s, train_loss=-14.6]"
          ]
        },
        {
          "name": "stdout",
          "output_type": "stream",
          "text": [
            "__main__ - infinite loss or empty loss! it happened 1 times so far - skipping this batch\n"
          ]
        },
        {
          "name": "stderr",
          "output_type": "stream",
          "text": [
            "100%|██████████| 1250/1250 [02:42<00:00,  7.69it/s, train_loss=-14.6]\n"
          ]
        },
        {
          "name": "stdout",
          "output_type": "stream",
          "text": [
            "Delta lang loss = 0.15, Delta separate loss = 0.85\n"
          ]
        },
        {
          "name": "stderr",
          "output_type": "stream",
          "text": [
            "100%|██████████| 500/500 [00:21<00:00, 23.02it/s]"
          ]
        },
        {
          "name": "stdout",
          "output_type": "stream",
          "text": [
            "speechbrain.utils.train_logger - epoch: 94, lr: 1.00e-05 - train final_loss: -1.46e+01 - valid final_loss: -9.43e+00, valid Accuracy soft: 0.35173338651657104, valid Accuracy Partial: 0.7049999833106995\n"
          ]
        },
        {
          "name": "stderr",
          "output_type": "stream",
          "text": [
            "\n"
          ]
        },
        {
          "name": "stdout",
          "output_type": "stream",
          "text": [
            "speechbrain.utils.checkpoints - Saved an end-of-epoch checkpoint in results/convtasnet/1234/save/CKPT+2025-07-29+22-44-38+00\n",
            "speechbrain.utils.checkpoints - Deleted checkpoint in results/convtasnet/1234/save/CKPT+2025-07-29+22-41-33+00\n",
            "speechbrain.utils.epoch_loop - Going into epoch 95\n",
            "Delta lang loss = 0.15, Delta separate loss = 0.85\n"
          ]
        },
        {
          "name": "stderr",
          "output_type": "stream",
          "text": [
            " 97%|█████████▋| 1210/1250 [02:39<00:04,  8.34it/s, train_loss=-14.6]"
          ]
        },
        {
          "name": "stdout",
          "output_type": "stream",
          "text": [
            "__main__ - infinite loss or empty loss! it happened 1 times so far - skipping this batch\n"
          ]
        },
        {
          "name": "stderr",
          "output_type": "stream",
          "text": [
            "100%|██████████| 1250/1250 [02:44<00:00,  7.61it/s, train_loss=-14.6]\n"
          ]
        },
        {
          "name": "stdout",
          "output_type": "stream",
          "text": [
            "Delta lang loss = 0.15, Delta separate loss = 0.85\n"
          ]
        },
        {
          "name": "stderr",
          "output_type": "stream",
          "text": [
            "100%|██████████| 500/500 [00:21<00:00, 23.10it/s]\n"
          ]
        },
        {
          "name": "stdout",
          "output_type": "stream",
          "text": [
            "speechbrain.utils.train_logger - epoch: 95, lr: 1.00e-05 - train final_loss: -1.46e+01 - valid final_loss: -9.45e+00, valid Accuracy soft: 0.3517995774745941, valid Accuracy Partial: 0.7070000171661377\n",
            "speechbrain.utils.checkpoints - Saved an end-of-epoch checkpoint in results/convtasnet/1234/save/CKPT+2025-07-29+22-47-45+00\n",
            "speechbrain.utils.checkpoints - Deleted checkpoint in results/convtasnet/1234/save/CKPT+2025-07-29+22-44-38+00\n",
            "speechbrain.utils.epoch_loop - Going into epoch 96\n",
            "Delta lang loss = 0.15, Delta separate loss = 0.85\n"
          ]
        },
        {
          "name": "stderr",
          "output_type": "stream",
          "text": [
            " 97%|█████████▋| 1210/1250 [02:37<00:04,  8.27it/s, train_loss=-14.6]"
          ]
        },
        {
          "name": "stdout",
          "output_type": "stream",
          "text": [
            "__main__ - infinite loss or empty loss! it happened 1 times so far - skipping this batch\n"
          ]
        },
        {
          "name": "stderr",
          "output_type": "stream",
          "text": [
            "100%|██████████| 1250/1250 [02:42<00:00,  7.67it/s, train_loss=-14.6]\n"
          ]
        },
        {
          "name": "stdout",
          "output_type": "stream",
          "text": [
            "Delta lang loss = 0.15, Delta separate loss = 0.85\n"
          ]
        },
        {
          "name": "stderr",
          "output_type": "stream",
          "text": [
            "100%|██████████| 500/500 [00:21<00:00, 23.13it/s]"
          ]
        },
        {
          "name": "stdout",
          "output_type": "stream",
          "text": [
            "speechbrain.utils.train_logger - epoch: 96, lr: 1.00e-05 - train final_loss: -1.46e+01 - valid final_loss: -9.48e+00, valid Accuracy soft: 0.3544946610927582, valid Accuracy Partial: 0.7170000076293945\n"
          ]
        },
        {
          "name": "stderr",
          "output_type": "stream",
          "text": [
            "\n"
          ]
        },
        {
          "name": "stdout",
          "output_type": "stream",
          "text": [
            "speechbrain.utils.checkpoints - Saved an end-of-epoch checkpoint in results/convtasnet/1234/save/CKPT+2025-07-29+22-50-50+00\n",
            "speechbrain.utils.checkpoints - Deleted checkpoint in results/convtasnet/1234/save/CKPT+2025-07-29+22-47-45+00\n",
            "speechbrain.utils.epoch_loop - Going into epoch 97\n",
            "Delta lang loss = 0.15, Delta separate loss = 0.85\n"
          ]
        },
        {
          "name": "stderr",
          "output_type": "stream",
          "text": [
            " 97%|█████████▋| 1210/1250 [02:38<00:04,  8.45it/s, train_loss=-14.6]"
          ]
        },
        {
          "name": "stdout",
          "output_type": "stream",
          "text": [
            "__main__ - infinite loss or empty loss! it happened 1 times so far - skipping this batch\n"
          ]
        },
        {
          "name": "stderr",
          "output_type": "stream",
          "text": [
            "100%|██████████| 1250/1250 [02:43<00:00,  7.64it/s, train_loss=-14.6]\n"
          ]
        },
        {
          "name": "stdout",
          "output_type": "stream",
          "text": [
            "Delta lang loss = 0.15, Delta separate loss = 0.85\n"
          ]
        },
        {
          "name": "stderr",
          "output_type": "stream",
          "text": [
            "100%|██████████| 500/500 [00:21<00:00, 23.06it/s]"
          ]
        },
        {
          "name": "stdout",
          "output_type": "stream",
          "text": [
            "speechbrain.utils.train_logger - epoch: 97, lr: 1.00e-05 - train final_loss: -1.46e+01 - valid final_loss: -9.47e+00, valid Accuracy soft: 0.35362833738327026, valid Accuracy Partial: 0.7160000205039978\n"
          ]
        },
        {
          "name": "stderr",
          "output_type": "stream",
          "text": [
            "\n"
          ]
        },
        {
          "name": "stdout",
          "output_type": "stream",
          "text": [
            "speechbrain.utils.checkpoints - Saved an end-of-epoch checkpoint in results/convtasnet/1234/save/CKPT+2025-07-29+22-53-56+00\n",
            "speechbrain.utils.checkpoints - Deleted checkpoint in results/convtasnet/1234/save/CKPT+2025-07-29+22-50-50+00\n",
            "speechbrain.utils.epoch_loop - Going into epoch 98\n",
            "Delta lang loss = 0.15, Delta separate loss = 0.85\n"
          ]
        },
        {
          "name": "stderr",
          "output_type": "stream",
          "text": [
            " 97%|█████████▋| 1210/1250 [02:37<00:04,  8.50it/s, train_loss=-14.6]"
          ]
        },
        {
          "name": "stdout",
          "output_type": "stream",
          "text": [
            "__main__ - infinite loss or empty loss! it happened 1 times so far - skipping this batch\n"
          ]
        },
        {
          "name": "stderr",
          "output_type": "stream",
          "text": [
            "100%|██████████| 1250/1250 [02:42<00:00,  7.68it/s, train_loss=-14.6]\n"
          ]
        },
        {
          "name": "stdout",
          "output_type": "stream",
          "text": [
            "Delta lang loss = 0.15, Delta separate loss = 0.85\n"
          ]
        },
        {
          "name": "stderr",
          "output_type": "stream",
          "text": [
            "100%|██████████| 500/500 [00:21<00:00, 23.08it/s]\n"
          ]
        },
        {
          "name": "stdout",
          "output_type": "stream",
          "text": [
            "speechbrain.utils.train_logger - epoch: 98, lr: 1.00e-05 - train final_loss: -1.46e+01 - valid final_loss: -9.36e+00, valid Accuracy soft: 0.34732240438461304, valid Accuracy Partial: 0.7020000219345093\n",
            "speechbrain.utils.checkpoints - Saved an end-of-epoch checkpoint in results/convtasnet/1234/save/CKPT+2025-07-29+22-57-01+00\n",
            "speechbrain.utils.checkpoints - Deleted checkpoint in results/convtasnet/1234/save/CKPT+2025-07-29+22-53-56+00\n",
            "speechbrain.utils.epoch_loop - Going into epoch 99\n",
            "Delta lang loss = 0.15, Delta separate loss = 0.85\n"
          ]
        },
        {
          "name": "stderr",
          "output_type": "stream",
          "text": [
            " 97%|█████████▋| 1210/1250 [02:37<00:04,  8.29it/s, train_loss=-14.6]"
          ]
        },
        {
          "name": "stdout",
          "output_type": "stream",
          "text": [
            "__main__ - infinite loss or empty loss! it happened 1 times so far - skipping this batch\n"
          ]
        },
        {
          "name": "stderr",
          "output_type": "stream",
          "text": [
            "100%|██████████| 1250/1250 [02:42<00:00,  7.67it/s, train_loss=-14.6]\n"
          ]
        },
        {
          "name": "stdout",
          "output_type": "stream",
          "text": [
            "Delta lang loss = 0.15, Delta separate loss = 0.85\n"
          ]
        },
        {
          "name": "stderr",
          "output_type": "stream",
          "text": [
            "100%|██████████| 500/500 [00:21<00:00, 23.03it/s]\n"
          ]
        },
        {
          "name": "stdout",
          "output_type": "stream",
          "text": [
            "speechbrain.utils.train_logger - epoch: 99, lr: 1.00e-05 - train final_loss: -1.46e+01 - valid final_loss: -9.27e+00, valid Accuracy soft: 0.3454596698284149, valid Accuracy Partial: 0.699999988079071\n",
            "speechbrain.utils.checkpoints - Saved an end-of-epoch checkpoint in results/convtasnet/1234/save/CKPT+2025-07-29+23-00-07+00\n",
            "speechbrain.utils.checkpoints - Deleted checkpoint in results/convtasnet/1234/save/CKPT+2025-07-29+22-57-01+00\n",
            "speechbrain.utils.epoch_loop - Going into epoch 100\n",
            "Delta lang loss = 0.15, Delta separate loss = 0.85\n"
          ]
        },
        {
          "name": "stderr",
          "output_type": "stream",
          "text": [
            " 97%|█████████▋| 1210/1250 [02:38<00:05,  7.97it/s, train_loss=-14.6]"
          ]
        },
        {
          "name": "stdout",
          "output_type": "stream",
          "text": [
            "__main__ - infinite loss or empty loss! it happened 1 times so far - skipping this batch\n"
          ]
        },
        {
          "name": "stderr",
          "output_type": "stream",
          "text": [
            "100%|██████████| 1250/1250 [02:43<00:00,  7.63it/s, train_loss=-14.6]\n"
          ]
        },
        {
          "name": "stdout",
          "output_type": "stream",
          "text": [
            "__main__ - Removed file /content/drive/MyDrive/Project/results_80\n",
            "__main__ - Saved file succesfully\n",
            "Delta lang loss = 0.15, Delta separate loss = 0.85\n"
          ]
        },
        {
          "name": "stderr",
          "output_type": "stream",
          "text": [
            "100%|██████████| 500/500 [00:22<00:00, 22.71it/s]"
          ]
        },
        {
          "name": "stdout",
          "output_type": "stream",
          "text": [
            "speechbrain.utils.train_logger - epoch: 100, lr: 1.00e-05 - train final_loss: -1.46e+01 - valid final_loss: -9.39e+00, valid Accuracy soft: 0.35085001587867737, valid Accuracy Partial: 0.7110000252723694\n"
          ]
        },
        {
          "name": "stderr",
          "output_type": "stream",
          "text": [
            "\n"
          ]
        },
        {
          "name": "stdout",
          "output_type": "stream",
          "text": [
            "speechbrain.utils.checkpoints - Saved an end-of-epoch checkpoint in results/convtasnet/1234/save/CKPT+2025-07-29+23-03-14+00\n",
            "speechbrain.utils.checkpoints - Deleted checkpoint in results/convtasnet/1234/save/CKPT+2025-07-29+23-00-07+00\n",
            "speechbrain.utils.epoch_loop - Going into epoch 101\n",
            "Delta lang loss = 0.15, Delta separate loss = 0.85\n"
          ]
        },
        {
          "name": "stderr",
          "output_type": "stream",
          "text": [
            " 97%|█████████▋| 1210/1250 [02:37<00:04,  8.19it/s, train_loss=-14.6]"
          ]
        },
        {
          "name": "stdout",
          "output_type": "stream",
          "text": [
            "__main__ - infinite loss or empty loss! it happened 1 times so far - skipping this batch\n"
          ]
        },
        {
          "name": "stderr",
          "output_type": "stream",
          "text": [
            "100%|██████████| 1250/1250 [02:43<00:00,  7.67it/s, train_loss=-14.6]\n"
          ]
        },
        {
          "name": "stdout",
          "output_type": "stream",
          "text": [
            "Delta lang loss = 0.15, Delta separate loss = 0.85\n"
          ]
        },
        {
          "name": "stderr",
          "output_type": "stream",
          "text": [
            "100%|██████████| 500/500 [00:21<00:00, 23.18it/s]"
          ]
        },
        {
          "name": "stdout",
          "output_type": "stream",
          "text": [
            "speechbrain.utils.train_logger - epoch: 101, lr: 1.00e-05 - train final_loss: -1.46e+01 - valid final_loss: -9.43e+00, valid Accuracy soft: 0.351927250623703, valid Accuracy Partial: 0.7110000252723694\n"
          ]
        },
        {
          "name": "stderr",
          "output_type": "stream",
          "text": [
            "\n"
          ]
        },
        {
          "name": "stdout",
          "output_type": "stream",
          "text": [
            "speechbrain.utils.checkpoints - Saved an end-of-epoch checkpoint in results/convtasnet/1234/save/CKPT+2025-07-29+23-06-19+00\n",
            "speechbrain.utils.checkpoints - Deleted checkpoint in results/convtasnet/1234/save/CKPT+2025-07-29+23-03-14+00\n",
            "speechbrain.utils.epoch_loop - Going into epoch 102\n",
            "Delta lang loss = 0.15, Delta separate loss = 0.85\n"
          ]
        },
        {
          "name": "stderr",
          "output_type": "stream",
          "text": [
            " 97%|█████████▋| 1210/1250 [02:39<00:04,  8.58it/s, train_loss=-14.6]"
          ]
        },
        {
          "name": "stdout",
          "output_type": "stream",
          "text": [
            "__main__ - infinite loss or empty loss! it happened 1 times so far - skipping this batch\n"
          ]
        },
        {
          "name": "stderr",
          "output_type": "stream",
          "text": [
            "100%|██████████| 1250/1250 [02:44<00:00,  7.61it/s, train_loss=-14.6]\n"
          ]
        },
        {
          "name": "stdout",
          "output_type": "stream",
          "text": [
            "Delta lang loss = 0.15, Delta separate loss = 0.85\n"
          ]
        },
        {
          "name": "stderr",
          "output_type": "stream",
          "text": [
            "100%|██████████| 500/500 [00:21<00:00, 23.15it/s]"
          ]
        },
        {
          "name": "stdout",
          "output_type": "stream",
          "text": [
            "speechbrain.utils.train_logger - epoch: 102, lr: 1.00e-05 - train final_loss: -1.46e+01 - valid final_loss: -9.45e+00, valid Accuracy soft: 0.3536738157272339, valid Accuracy Partial: 0.7080000042915344\n"
          ]
        },
        {
          "name": "stderr",
          "output_type": "stream",
          "text": [
            "\n"
          ]
        },
        {
          "name": "stdout",
          "output_type": "stream",
          "text": [
            "speechbrain.utils.checkpoints - Saved an end-of-epoch checkpoint in results/convtasnet/1234/save/CKPT+2025-07-29+23-09-26+00\n",
            "speechbrain.utils.checkpoints - Deleted checkpoint in results/convtasnet/1234/save/CKPT+2025-07-29+23-06-19+00\n",
            "speechbrain.utils.epoch_loop - Going into epoch 103\n",
            "Delta lang loss = 0.15, Delta separate loss = 0.85\n"
          ]
        },
        {
          "name": "stderr",
          "output_type": "stream",
          "text": [
            " 97%|█████████▋| 1210/1250 [02:37<00:04,  8.41it/s, train_loss=-14.6]"
          ]
        },
        {
          "name": "stdout",
          "output_type": "stream",
          "text": [
            "__main__ - infinite loss or empty loss! it happened 1 times so far - skipping this batch\n"
          ]
        },
        {
          "name": "stderr",
          "output_type": "stream",
          "text": [
            "100%|██████████| 1250/1250 [02:43<00:00,  7.67it/s, train_loss=-14.6]\n"
          ]
        },
        {
          "name": "stdout",
          "output_type": "stream",
          "text": [
            "Delta lang loss = 0.15, Delta separate loss = 0.85\n"
          ]
        },
        {
          "name": "stderr",
          "output_type": "stream",
          "text": [
            "100%|██████████| 500/500 [00:21<00:00, 23.20it/s]"
          ]
        },
        {
          "name": "stdout",
          "output_type": "stream",
          "text": [
            "speechbrain.utils.train_logger - epoch: 103, lr: 1.00e-05 - train final_loss: -1.46e+01 - valid final_loss: -9.42e+00, valid Accuracy soft: 0.3522103428840637, valid Accuracy Partial: 0.7080000042915344\n"
          ]
        },
        {
          "name": "stderr",
          "output_type": "stream",
          "text": [
            "\n"
          ]
        },
        {
          "name": "stdout",
          "output_type": "stream",
          "text": [
            "speechbrain.utils.checkpoints - Saved an end-of-epoch checkpoint in results/convtasnet/1234/save/CKPT+2025-07-29+23-12-31+00\n",
            "speechbrain.utils.checkpoints - Deleted checkpoint in results/convtasnet/1234/save/CKPT+2025-07-29+23-09-26+00\n",
            "speechbrain.utils.epoch_loop - Going into epoch 104\n",
            "Delta lang loss = 0.15, Delta separate loss = 0.85\n"
          ]
        },
        {
          "name": "stderr",
          "output_type": "stream",
          "text": [
            " 97%|█████████▋| 1210/1250 [02:38<00:04,  8.23it/s, train_loss=-14.7]"
          ]
        },
        {
          "name": "stdout",
          "output_type": "stream",
          "text": [
            "__main__ - infinite loss or empty loss! it happened 1 times so far - skipping this batch\n"
          ]
        },
        {
          "name": "stderr",
          "output_type": "stream",
          "text": [
            "100%|██████████| 1250/1250 [02:44<00:00,  7.62it/s, train_loss=-14.6]\n"
          ]
        },
        {
          "name": "stdout",
          "output_type": "stream",
          "text": [
            "Delta lang loss = 0.15, Delta separate loss = 0.85\n"
          ]
        },
        {
          "name": "stderr",
          "output_type": "stream",
          "text": [
            "100%|██████████| 500/500 [00:21<00:00, 23.21it/s]\n"
          ]
        },
        {
          "name": "stdout",
          "output_type": "stream",
          "text": [
            "speechbrain.utils.train_logger - epoch: 104, lr: 1.00e-05 - train final_loss: -1.46e+01 - valid final_loss: -9.38e+00, valid Accuracy soft: 0.3501981794834137, valid Accuracy Partial: 0.7020000219345093\n",
            "speechbrain.utils.checkpoints - Saved an end-of-epoch checkpoint in results/convtasnet/1234/save/CKPT+2025-07-29+23-15-37+00\n",
            "speechbrain.utils.checkpoints - Deleted checkpoint in results/convtasnet/1234/save/CKPT+2025-07-29+23-12-31+00\n",
            "speechbrain.utils.epoch_loop - Going into epoch 105\n",
            "Delta lang loss = 0.15, Delta separate loss = 0.85\n"
          ]
        },
        {
          "name": "stderr",
          "output_type": "stream",
          "text": [
            " 97%|█████████▋| 1210/1250 [02:39<00:04,  8.33it/s, train_loss=-14.7]"
          ]
        },
        {
          "name": "stdout",
          "output_type": "stream",
          "text": [
            "__main__ - infinite loss or empty loss! it happened 1 times so far - skipping this batch\n"
          ]
        },
        {
          "name": "stderr",
          "output_type": "stream",
          "text": [
            "100%|██████████| 1250/1250 [02:44<00:00,  7.59it/s, train_loss=-14.7]\n"
          ]
        },
        {
          "name": "stdout",
          "output_type": "stream",
          "text": [
            "Delta lang loss = 0.15, Delta separate loss = 0.85\n"
          ]
        },
        {
          "name": "stderr",
          "output_type": "stream",
          "text": [
            "100%|██████████| 500/500 [00:21<00:00, 22.79it/s]"
          ]
        },
        {
          "name": "stdout",
          "output_type": "stream",
          "text": [
            "speechbrain.utils.train_logger - epoch: 105, lr: 1.00e-05 - train final_loss: -1.47e+01 - valid final_loss: -9.12e+00, valid Accuracy soft: 0.34515684843063354, valid Accuracy Partial: 0.6919999718666077\n"
          ]
        },
        {
          "name": "stderr",
          "output_type": "stream",
          "text": [
            "\n"
          ]
        },
        {
          "name": "stdout",
          "output_type": "stream",
          "text": [
            "speechbrain.utils.checkpoints - Saved an end-of-epoch checkpoint in results/convtasnet/1234/save/CKPT+2025-07-29+23-18-45+00\n",
            "speechbrain.utils.checkpoints - Deleted checkpoint in results/convtasnet/1234/save/CKPT+2025-07-29+23-15-37+00\n",
            "speechbrain.utils.epoch_loop - Going into epoch 106\n",
            "Delta lang loss = 0.15, Delta separate loss = 0.85\n"
          ]
        },
        {
          "name": "stderr",
          "output_type": "stream",
          "text": [
            " 97%|█████████▋| 1210/1250 [02:39<00:04,  8.16it/s, train_loss=-14.7]"
          ]
        },
        {
          "name": "stdout",
          "output_type": "stream",
          "text": [
            "__main__ - infinite loss or empty loss! it happened 1 times so far - skipping this batch\n"
          ]
        },
        {
          "name": "stderr",
          "output_type": "stream",
          "text": [
            "100%|██████████| 1250/1250 [02:44<00:00,  7.59it/s, train_loss=-14.7]\n"
          ]
        },
        {
          "name": "stdout",
          "output_type": "stream",
          "text": [
            "Delta lang loss = 0.15, Delta separate loss = 0.85\n"
          ]
        },
        {
          "name": "stderr",
          "output_type": "stream",
          "text": [
            "100%|██████████| 500/500 [00:21<00:00, 22.85it/s]"
          ]
        },
        {
          "name": "stdout",
          "output_type": "stream",
          "text": [
            "speechbrain.utils.train_logger - epoch: 106, lr: 1.00e-05 - train final_loss: -1.47e+01 - valid final_loss: -9.33e+00, valid Accuracy soft: 0.3516164720058441, valid Accuracy Partial: 0.7149999737739563\n"
          ]
        },
        {
          "name": "stderr",
          "output_type": "stream",
          "text": [
            "\n"
          ]
        },
        {
          "name": "stdout",
          "output_type": "stream",
          "text": [
            "speechbrain.utils.checkpoints - Saved an end-of-epoch checkpoint in results/convtasnet/1234/save/CKPT+2025-07-29+23-21-52+00\n",
            "speechbrain.utils.checkpoints - Deleted checkpoint in results/convtasnet/1234/save/CKPT+2025-07-29+23-18-45+00\n",
            "speechbrain.utils.epoch_loop - Going into epoch 107\n",
            "Delta lang loss = 0.15, Delta separate loss = 0.85\n"
          ]
        },
        {
          "name": "stderr",
          "output_type": "stream",
          "text": [
            " 97%|█████████▋| 1210/1250 [02:40<00:04,  8.01it/s, train_loss=-14.7]"
          ]
        },
        {
          "name": "stdout",
          "output_type": "stream",
          "text": [
            "__main__ - infinite loss or empty loss! it happened 1 times so far - skipping this batch\n"
          ]
        },
        {
          "name": "stderr",
          "output_type": "stream",
          "text": [
            "100%|██████████| 1250/1250 [02:46<00:00,  7.53it/s, train_loss=-14.7]\n"
          ]
        },
        {
          "name": "stdout",
          "output_type": "stream",
          "text": [
            "Delta lang loss = 0.15, Delta separate loss = 0.85\n"
          ]
        },
        {
          "name": "stderr",
          "output_type": "stream",
          "text": [
            "100%|██████████| 500/500 [00:21<00:00, 22.76it/s]"
          ]
        },
        {
          "name": "stdout",
          "output_type": "stream",
          "text": [
            "speechbrain.utils.train_logger - epoch: 107, lr: 1.00e-05 - train final_loss: -1.47e+01 - valid final_loss: -9.29e+00, valid Accuracy soft: 0.3505074679851532, valid Accuracy Partial: 0.7099999785423279\n"
          ]
        },
        {
          "name": "stderr",
          "output_type": "stream",
          "text": [
            "\n"
          ]
        },
        {
          "name": "stdout",
          "output_type": "stream",
          "text": [
            "speechbrain.utils.checkpoints - Saved an end-of-epoch checkpoint in results/convtasnet/1234/save/CKPT+2025-07-29+23-25-00+00\n",
            "speechbrain.utils.checkpoints - Deleted checkpoint in results/convtasnet/1234/save/CKPT+2025-07-29+23-21-52+00\n",
            "speechbrain.utils.epoch_loop - Going into epoch 108\n",
            "Delta lang loss = 0.15, Delta separate loss = 0.85\n"
          ]
        },
        {
          "name": "stderr",
          "output_type": "stream",
          "text": [
            " 97%|█████████▋| 1210/1250 [02:38<00:04,  8.51it/s, train_loss=-14.7]"
          ]
        },
        {
          "name": "stdout",
          "output_type": "stream",
          "text": [
            "__main__ - infinite loss or empty loss! it happened 1 times so far - skipping this batch\n"
          ]
        },
        {
          "name": "stderr",
          "output_type": "stream",
          "text": [
            "100%|██████████| 1250/1250 [02:43<00:00,  7.64it/s, train_loss=-14.7]\n"
          ]
        },
        {
          "name": "stdout",
          "output_type": "stream",
          "text": [
            "Delta lang loss = 0.15, Delta separate loss = 0.85\n"
          ]
        },
        {
          "name": "stderr",
          "output_type": "stream",
          "text": [
            "100%|██████████| 500/500 [00:21<00:00, 22.93it/s]\n"
          ]
        },
        {
          "name": "stdout",
          "output_type": "stream",
          "text": [
            "speechbrain.utils.train_logger - epoch: 108, lr: 1.00e-05 - train final_loss: -1.47e+01 - valid final_loss: -9.50e+00, valid Accuracy soft: 0.3580671548843384, valid Accuracy Partial: 0.7250000238418579\n",
            "speechbrain.utils.checkpoints - Saved an end-of-epoch checkpoint in results/convtasnet/1234/save/CKPT+2025-07-29+23-28-06+00\n",
            "speechbrain.utils.checkpoints - Deleted checkpoint in results/convtasnet/1234/save/CKPT+2025-07-29+23-25-00+00\n",
            "speechbrain.utils.epoch_loop - Going into epoch 109\n",
            "Delta lang loss = 0.15, Delta separate loss = 0.85\n"
          ]
        },
        {
          "name": "stderr",
          "output_type": "stream",
          "text": [
            " 97%|█████████▋| 1210/1250 [02:37<00:04,  8.07it/s, train_loss=-14.7]"
          ]
        },
        {
          "name": "stdout",
          "output_type": "stream",
          "text": [
            "__main__ - infinite loss or empty loss! it happened 1 times so far - skipping this batch\n"
          ]
        },
        {
          "name": "stderr",
          "output_type": "stream",
          "text": [
            "100%|██████████| 1250/1250 [02:43<00:00,  7.66it/s, train_loss=-14.7]\n"
          ]
        },
        {
          "name": "stdout",
          "output_type": "stream",
          "text": [
            "Delta lang loss = 0.15, Delta separate loss = 0.85\n"
          ]
        },
        {
          "name": "stderr",
          "output_type": "stream",
          "text": [
            "100%|██████████| 500/500 [00:21<00:00, 23.28it/s]\n"
          ]
        },
        {
          "name": "stdout",
          "output_type": "stream",
          "text": [
            "speechbrain.utils.train_logger - epoch: 109, lr: 1.00e-05 - train final_loss: -1.47e+01 - valid final_loss: -9.37e+00, valid Accuracy soft: 0.35274285078048706, valid Accuracy Partial: 0.7120000123977661\n",
            "speechbrain.utils.checkpoints - Saved an end-of-epoch checkpoint in results/convtasnet/1234/save/CKPT+2025-07-29+23-31-12+00\n",
            "speechbrain.utils.checkpoints - Deleted checkpoint in results/convtasnet/1234/save/CKPT+2025-07-29+23-28-06+00\n",
            "speechbrain.utils.epoch_loop - Going into epoch 110\n",
            "Delta lang loss = 0.15, Delta separate loss = 0.85\n"
          ]
        },
        {
          "name": "stderr",
          "output_type": "stream",
          "text": [
            " 97%|█████████▋| 1210/1250 [02:37<00:04,  8.47it/s, train_loss=-14.7]"
          ]
        },
        {
          "name": "stdout",
          "output_type": "stream",
          "text": [
            "__main__ - infinite loss or empty loss! it happened 1 times so far - skipping this batch\n"
          ]
        },
        {
          "name": "stderr",
          "output_type": "stream",
          "text": [
            "100%|██████████| 1250/1250 [02:43<00:00,  7.66it/s, train_loss=-14.7]\n"
          ]
        },
        {
          "name": "stdout",
          "output_type": "stream",
          "text": [
            "Delta lang loss = 0.15, Delta separate loss = 0.85\n"
          ]
        },
        {
          "name": "stderr",
          "output_type": "stream",
          "text": [
            "100%|██████████| 500/500 [00:21<00:00, 23.29it/s]\n"
          ]
        },
        {
          "name": "stdout",
          "output_type": "stream",
          "text": [
            "speechbrain.utils.train_logger - epoch: 110, lr: 1.00e-05 - train final_loss: -1.47e+01 - valid final_loss: -9.46e+00, valid Accuracy soft: 0.35473334789276123, valid Accuracy Partial: 0.7139999866485596\n",
            "speechbrain.utils.checkpoints - Saved an end-of-epoch checkpoint in results/convtasnet/1234/save/CKPT+2025-07-29+23-34-17+00\n",
            "speechbrain.utils.checkpoints - Deleted checkpoint in results/convtasnet/1234/save/CKPT+2025-07-29+23-31-12+00\n",
            "speechbrain.utils.epoch_loop - Going into epoch 111\n",
            "Delta lang loss = 0.15, Delta separate loss = 0.85\n"
          ]
        },
        {
          "name": "stderr",
          "output_type": "stream",
          "text": [
            " 97%|█████████▋| 1210/1250 [02:38<00:04,  8.17it/s, train_loss=-14.7]"
          ]
        },
        {
          "name": "stdout",
          "output_type": "stream",
          "text": [
            "__main__ - infinite loss or empty loss! it happened 1 times so far - skipping this batch\n"
          ]
        },
        {
          "name": "stderr",
          "output_type": "stream",
          "text": [
            "100%|██████████| 1250/1250 [02:43<00:00,  7.65it/s, train_loss=-14.7]\n"
          ]
        },
        {
          "name": "stdout",
          "output_type": "stream",
          "text": [
            "Delta lang loss = 0.15, Delta separate loss = 0.85\n"
          ]
        },
        {
          "name": "stderr",
          "output_type": "stream",
          "text": [
            "100%|██████████| 500/500 [00:21<00:00, 22.96it/s]\n"
          ]
        },
        {
          "name": "stdout",
          "output_type": "stream",
          "text": [
            "speechbrain.utils.train_logger - epoch: 111, lr: 1.00e-05 - train final_loss: -1.47e+01 - valid final_loss: -9.44e+00, valid Accuracy soft: 0.35547953844070435, valid Accuracy Partial: 0.7170000076293945\n",
            "speechbrain.utils.checkpoints - Saved an end-of-epoch checkpoint in results/convtasnet/1234/save/CKPT+2025-07-29+23-37-23+00\n",
            "speechbrain.utils.checkpoints - Deleted checkpoint in results/convtasnet/1234/save/CKPT+2025-07-29+23-34-17+00\n",
            "speechbrain.utils.epoch_loop - Going into epoch 112\n",
            "Delta lang loss = 0.15, Delta separate loss = 0.85\n"
          ]
        },
        {
          "name": "stderr",
          "output_type": "stream",
          "text": [
            " 97%|█████████▋| 1210/1250 [02:38<00:04,  8.15it/s, train_loss=-14.7]"
          ]
        },
        {
          "name": "stdout",
          "output_type": "stream",
          "text": [
            "__main__ - infinite loss or empty loss! it happened 1 times so far - skipping this batch\n"
          ]
        },
        {
          "name": "stderr",
          "output_type": "stream",
          "text": [
            "100%|██████████| 1250/1250 [02:43<00:00,  7.64it/s, train_loss=-14.7]\n"
          ]
        },
        {
          "name": "stdout",
          "output_type": "stream",
          "text": [
            "Delta lang loss = 0.15, Delta separate loss = 0.85\n"
          ]
        },
        {
          "name": "stderr",
          "output_type": "stream",
          "text": [
            "100%|██████████| 500/500 [00:21<00:00, 23.07it/s]\n"
          ]
        },
        {
          "name": "stdout",
          "output_type": "stream",
          "text": [
            "speechbrain.utils.train_logger - epoch: 112, lr: 1.00e-05 - train final_loss: -1.47e+01 - valid final_loss: -9.35e+00, valid Accuracy soft: 0.3514227867126465, valid Accuracy Partial: 0.7089999914169312\n",
            "speechbrain.utils.checkpoints - Saved an end-of-epoch checkpoint in results/convtasnet/1234/save/CKPT+2025-07-29+23-40-29+00\n",
            "speechbrain.utils.checkpoints - Deleted checkpoint in results/convtasnet/1234/save/CKPT+2025-07-29+23-37-23+00\n",
            "speechbrain.utils.epoch_loop - Going into epoch 113\n",
            "Delta lang loss = 0.15, Delta separate loss = 0.85\n"
          ]
        },
        {
          "name": "stderr",
          "output_type": "stream",
          "text": [
            " 97%|█████████▋| 1210/1250 [02:38<00:04,  8.35it/s, train_loss=-14.7]"
          ]
        },
        {
          "name": "stdout",
          "output_type": "stream",
          "text": [
            "__main__ - infinite loss or empty loss! it happened 1 times so far - skipping this batch\n"
          ]
        },
        {
          "name": "stderr",
          "output_type": "stream",
          "text": [
            "100%|██████████| 1250/1250 [02:43<00:00,  7.65it/s, train_loss=-14.7]\n"
          ]
        },
        {
          "name": "stdout",
          "output_type": "stream",
          "text": [
            "Delta lang loss = 0.15, Delta separate loss = 0.85\n"
          ]
        },
        {
          "name": "stderr",
          "output_type": "stream",
          "text": [
            "100%|██████████| 500/500 [00:21<00:00, 23.11it/s]"
          ]
        },
        {
          "name": "stdout",
          "output_type": "stream",
          "text": [
            "speechbrain.utils.train_logger - epoch: 113, lr: 1.00e-05 - train final_loss: -1.47e+01 - valid final_loss: -9.44e+00, valid Accuracy soft: 0.3551390469074249, valid Accuracy Partial: 0.7149999737739563\n"
          ]
        },
        {
          "name": "stderr",
          "output_type": "stream",
          "text": [
            "\n"
          ]
        },
        {
          "name": "stdout",
          "output_type": "stream",
          "text": [
            "speechbrain.utils.checkpoints - Saved an end-of-epoch checkpoint in results/convtasnet/1234/save/CKPT+2025-07-29+23-43-35+00\n",
            "speechbrain.utils.checkpoints - Deleted checkpoint in results/convtasnet/1234/save/CKPT+2025-07-29+23-40-29+00\n",
            "speechbrain.utils.epoch_loop - Going into epoch 114\n",
            "Delta lang loss = 0.15, Delta separate loss = 0.85\n"
          ]
        },
        {
          "name": "stderr",
          "output_type": "stream",
          "text": [
            " 97%|█████████▋| 1210/1250 [02:38<00:04,  8.37it/s, train_loss=-14.7]"
          ]
        },
        {
          "name": "stdout",
          "output_type": "stream",
          "text": [
            "__main__ - infinite loss or empty loss! it happened 1 times so far - skipping this batch\n"
          ]
        },
        {
          "name": "stderr",
          "output_type": "stream",
          "text": [
            "100%|██████████| 1250/1250 [02:44<00:00,  7.61it/s, train_loss=-14.7]\n"
          ]
        },
        {
          "name": "stdout",
          "output_type": "stream",
          "text": [
            "Delta lang loss = 0.15, Delta separate loss = 0.85\n"
          ]
        },
        {
          "name": "stderr",
          "output_type": "stream",
          "text": [
            "100%|██████████| 500/500 [00:21<00:00, 22.85it/s]"
          ]
        },
        {
          "name": "stdout",
          "output_type": "stream",
          "text": [
            "speechbrain.utils.train_logger - epoch: 114, lr: 1.00e-05 - train final_loss: -1.47e+01 - valid final_loss: -9.26e+00, valid Accuracy soft: 0.35046836733818054, valid Accuracy Partial: 0.7080000042915344\n"
          ]
        },
        {
          "name": "stderr",
          "output_type": "stream",
          "text": [
            "\n"
          ]
        },
        {
          "name": "stdout",
          "output_type": "stream",
          "text": [
            "speechbrain.utils.checkpoints - Saved an end-of-epoch checkpoint in results/convtasnet/1234/save/CKPT+2025-07-29+23-46-42+00\n",
            "speechbrain.utils.checkpoints - Deleted checkpoint in results/convtasnet/1234/save/CKPT+2025-07-29+23-43-35+00\n",
            "speechbrain.utils.epoch_loop - Going into epoch 115\n",
            "Delta lang loss = 0.15, Delta separate loss = 0.85\n"
          ]
        },
        {
          "name": "stderr",
          "output_type": "stream",
          "text": [
            " 97%|█████████▋| 1210/1250 [02:40<00:04,  8.36it/s, train_loss=-14.7]"
          ]
        },
        {
          "name": "stdout",
          "output_type": "stream",
          "text": [
            "__main__ - infinite loss or empty loss! it happened 1 times so far - skipping this batch\n"
          ]
        },
        {
          "name": "stderr",
          "output_type": "stream",
          "text": [
            "100%|██████████| 1250/1250 [02:45<00:00,  7.56it/s, train_loss=-14.7]\n"
          ]
        },
        {
          "name": "stdout",
          "output_type": "stream",
          "text": [
            "Delta lang loss = 0.15, Delta separate loss = 0.85\n"
          ]
        },
        {
          "name": "stderr",
          "output_type": "stream",
          "text": [
            "100%|██████████| 500/500 [00:21<00:00, 22.79it/s]"
          ]
        },
        {
          "name": "stdout",
          "output_type": "stream",
          "text": [
            "speechbrain.utils.train_logger - epoch: 115, lr: 1.00e-05 - train final_loss: -1.47e+01 - valid final_loss: -9.54e+00, valid Accuracy soft: 0.3592361509799957, valid Accuracy Partial: 0.7289999723434448\n"
          ]
        },
        {
          "name": "stderr",
          "output_type": "stream",
          "text": [
            "\n"
          ]
        },
        {
          "name": "stdout",
          "output_type": "stream",
          "text": [
            "speechbrain.utils.checkpoints - Saved an end-of-epoch checkpoint in results/convtasnet/1234/save/CKPT+2025-07-29+23-49-50+00\n",
            "speechbrain.utils.checkpoints - Deleted checkpoint in results/convtasnet/1234/save/CKPT+2025-07-29+23-46-42+00\n",
            "speechbrain.utils.epoch_loop - Going into epoch 116\n",
            "Delta lang loss = 0.15, Delta separate loss = 0.85\n"
          ]
        },
        {
          "name": "stderr",
          "output_type": "stream",
          "text": [
            " 97%|█████████▋| 1210/1250 [02:39<00:04,  8.35it/s, train_loss=-14.7]"
          ]
        },
        {
          "name": "stdout",
          "output_type": "stream",
          "text": [
            "__main__ - infinite loss or empty loss! it happened 1 times so far - skipping this batch\n"
          ]
        },
        {
          "name": "stderr",
          "output_type": "stream",
          "text": [
            "100%|██████████| 1250/1250 [02:44<00:00,  7.59it/s, train_loss=-14.7]\n"
          ]
        },
        {
          "name": "stdout",
          "output_type": "stream",
          "text": [
            "Delta lang loss = 0.15, Delta separate loss = 0.85\n"
          ]
        },
        {
          "name": "stderr",
          "output_type": "stream",
          "text": [
            "100%|██████████| 500/500 [00:21<00:00, 22.77it/s]"
          ]
        },
        {
          "name": "stdout",
          "output_type": "stream",
          "text": [
            "speechbrain.utils.train_logger - epoch: 116, lr: 1.00e-05 - train final_loss: -1.47e+01 - valid final_loss: -9.44e+00, valid Accuracy soft: 0.3561345934867859, valid Accuracy Partial: 0.718999981880188\n"
          ]
        },
        {
          "name": "stderr",
          "output_type": "stream",
          "text": [
            "\n"
          ]
        },
        {
          "name": "stdout",
          "output_type": "stream",
          "text": [
            "speechbrain.utils.checkpoints - Saved an end-of-epoch checkpoint in results/convtasnet/1234/save/CKPT+2025-07-29+23-52-57+00\n",
            "speechbrain.utils.checkpoints - Deleted checkpoint in results/convtasnet/1234/save/CKPT+2025-07-29+23-49-50+00\n",
            "speechbrain.utils.epoch_loop - Going into epoch 117\n",
            "Delta lang loss = 0.15, Delta separate loss = 0.85\n"
          ]
        },
        {
          "name": "stderr",
          "output_type": "stream",
          "text": [
            " 97%|█████████▋| 1210/1250 [02:39<00:04,  8.08it/s, train_loss=-14.7]"
          ]
        },
        {
          "name": "stdout",
          "output_type": "stream",
          "text": [
            "__main__ - infinite loss or empty loss! it happened 1 times so far - skipping this batch\n"
          ]
        },
        {
          "name": "stderr",
          "output_type": "stream",
          "text": [
            "100%|██████████| 1250/1250 [02:45<00:00,  7.57it/s, train_loss=-14.7]\n"
          ]
        },
        {
          "name": "stdout",
          "output_type": "stream",
          "text": [
            "Delta lang loss = 0.15, Delta separate loss = 0.85\n"
          ]
        },
        {
          "name": "stderr",
          "output_type": "stream",
          "text": [
            "100%|██████████| 500/500 [00:22<00:00, 22.67it/s]"
          ]
        },
        {
          "name": "stdout",
          "output_type": "stream",
          "text": [
            "speechbrain.utils.train_logger - epoch: 117, lr: 1.00e-05 - train final_loss: -1.47e+01 - valid final_loss: -9.18e+00, valid Accuracy soft: 0.35034388303756714, valid Accuracy Partial: 0.7089999914169312\n"
          ]
        },
        {
          "name": "stderr",
          "output_type": "stream",
          "text": [
            "\n"
          ]
        },
        {
          "name": "stdout",
          "output_type": "stream",
          "text": [
            "speechbrain.utils.checkpoints - Saved an end-of-epoch checkpoint in results/convtasnet/1234/save/CKPT+2025-07-29+23-56-05+00\n",
            "speechbrain.utils.checkpoints - Deleted checkpoint in results/convtasnet/1234/save/CKPT+2025-07-29+23-52-57+00\n",
            "speechbrain.utils.epoch_loop - Going into epoch 118\n",
            "Delta lang loss = 0.15, Delta separate loss = 0.85\n"
          ]
        },
        {
          "name": "stderr",
          "output_type": "stream",
          "text": [
            " 97%|█████████▋| 1210/1250 [02:39<00:04,  8.35it/s, train_loss=-14.7]"
          ]
        },
        {
          "name": "stdout",
          "output_type": "stream",
          "text": [
            "__main__ - infinite loss or empty loss! it happened 1 times so far - skipping this batch\n"
          ]
        },
        {
          "name": "stderr",
          "output_type": "stream",
          "text": [
            "100%|██████████| 1250/1250 [02:45<00:00,  7.57it/s, train_loss=-14.7]\n"
          ]
        },
        {
          "name": "stdout",
          "output_type": "stream",
          "text": [
            "Delta lang loss = 0.15, Delta separate loss = 0.85\n"
          ]
        },
        {
          "name": "stderr",
          "output_type": "stream",
          "text": [
            "100%|██████████| 500/500 [00:22<00:00, 22.66it/s]"
          ]
        },
        {
          "name": "stdout",
          "output_type": "stream",
          "text": [
            "speechbrain.utils.train_logger - epoch: 118, lr: 1.00e-05 - train final_loss: -1.47e+01 - valid final_loss: -9.26e+00, valid Accuracy soft: 0.351521372795105, valid Accuracy Partial: 0.7129999995231628\n"
          ]
        },
        {
          "name": "stderr",
          "output_type": "stream",
          "text": [
            "\n"
          ]
        },
        {
          "name": "stdout",
          "output_type": "stream",
          "text": [
            "speechbrain.utils.checkpoints - Saved an end-of-epoch checkpoint in results/convtasnet/1234/save/CKPT+2025-07-29+23-59-13+00\n",
            "speechbrain.utils.checkpoints - Deleted checkpoint in results/convtasnet/1234/save/CKPT+2025-07-29+23-56-05+00\n",
            "speechbrain.utils.epoch_loop - Going into epoch 119\n",
            "Delta lang loss = 0.15, Delta separate loss = 0.85\n"
          ]
        },
        {
          "name": "stderr",
          "output_type": "stream",
          "text": [
            " 97%|█████████▋| 1210/1250 [02:39<00:04,  8.36it/s, train_loss=-14.7]"
          ]
        },
        {
          "name": "stdout",
          "output_type": "stream",
          "text": [
            "__main__ - infinite loss or empty loss! it happened 1 times so far - skipping this batch\n"
          ]
        },
        {
          "name": "stderr",
          "output_type": "stream",
          "text": [
            "100%|██████████| 1250/1250 [02:45<00:00,  7.57it/s, train_loss=-14.7]\n"
          ]
        },
        {
          "name": "stdout",
          "output_type": "stream",
          "text": [
            "Delta lang loss = 0.15, Delta separate loss = 0.85\n"
          ]
        },
        {
          "name": "stderr",
          "output_type": "stream",
          "text": [
            "100%|██████████| 500/500 [00:21<00:00, 22.75it/s]"
          ]
        },
        {
          "name": "stdout",
          "output_type": "stream",
          "text": [
            "speechbrain.utils.train_logger - epoch: 119, lr: 1.00e-05 - train final_loss: -1.47e+01 - valid final_loss: -9.24e+00, valid Accuracy soft: 0.3499895930290222, valid Accuracy Partial: 0.7080000042915344\n"
          ]
        },
        {
          "name": "stderr",
          "output_type": "stream",
          "text": [
            "\n"
          ]
        },
        {
          "name": "stdout",
          "output_type": "stream",
          "text": [
            "speechbrain.utils.checkpoints - Saved an end-of-epoch checkpoint in results/convtasnet/1234/save/CKPT+2025-07-30+00-02-21+00\n",
            "speechbrain.utils.checkpoints - Deleted checkpoint in results/convtasnet/1234/save/CKPT+2025-07-29+23-59-13+00\n",
            "speechbrain.utils.epoch_loop - Going into epoch 120\n",
            "Delta lang loss = 0.15, Delta separate loss = 0.85\n"
          ]
        },
        {
          "name": "stderr",
          "output_type": "stream",
          "text": [
            " 97%|█████████▋| 1210/1250 [02:39<00:04,  8.08it/s, train_loss=-14.7]"
          ]
        },
        {
          "name": "stdout",
          "output_type": "stream",
          "text": [
            "__main__ - infinite loss or empty loss! it happened 1 times so far - skipping this batch\n"
          ]
        },
        {
          "name": "stderr",
          "output_type": "stream",
          "text": [
            "100%|██████████| 1250/1250 [02:44<00:00,  7.58it/s, train_loss=-14.7]\n"
          ]
        },
        {
          "name": "stdout",
          "output_type": "stream",
          "text": [
            "__main__ - Removed file /content/drive/MyDrive/Project/results_100\n",
            "__main__ - Saved file succesfully\n",
            "Delta lang loss = 0.15, Delta separate loss = 0.85\n"
          ]
        },
        {
          "name": "stderr",
          "output_type": "stream",
          "text": [
            "100%|██████████| 500/500 [00:22<00:00, 22.41it/s]"
          ]
        },
        {
          "name": "stdout",
          "output_type": "stream",
          "text": [
            "speechbrain.utils.train_logger - epoch: 120, lr: 1.00e-05 - train final_loss: -1.47e+01 - valid final_loss: -9.30e+00, valid Accuracy soft: 0.3507424294948578, valid Accuracy Partial: 0.7080000042915344\n"
          ]
        },
        {
          "name": "stderr",
          "output_type": "stream",
          "text": [
            "\n"
          ]
        },
        {
          "name": "stdout",
          "output_type": "stream",
          "text": [
            "speechbrain.utils.checkpoints - Saved an end-of-epoch checkpoint in results/convtasnet/1234/save/CKPT+2025-07-30+00-05-29+00\n",
            "speechbrain.utils.checkpoints - Deleted checkpoint in results/convtasnet/1234/save/CKPT+2025-07-30+00-02-21+00\n",
            "speechbrain.utils.epoch_loop - Going into epoch 121\n",
            "Delta lang loss = 0.15, Delta separate loss = 0.85\n"
          ]
        },
        {
          "name": "stderr",
          "output_type": "stream",
          "text": [
            " 97%|█████████▋| 1210/1250 [02:39<00:04,  8.26it/s, train_loss=-14.7]"
          ]
        },
        {
          "name": "stdout",
          "output_type": "stream",
          "text": [
            "__main__ - infinite loss or empty loss! it happened 1 times so far - skipping this batch\n"
          ]
        },
        {
          "name": "stderr",
          "output_type": "stream",
          "text": [
            "100%|██████████| 1250/1250 [02:44<00:00,  7.59it/s, train_loss=-14.7]\n"
          ]
        },
        {
          "name": "stdout",
          "output_type": "stream",
          "text": [
            "Delta lang loss = 0.15, Delta separate loss = 0.85\n"
          ]
        },
        {
          "name": "stderr",
          "output_type": "stream",
          "text": [
            "100%|██████████| 500/500 [00:21<00:00, 22.83it/s]"
          ]
        },
        {
          "name": "stdout",
          "output_type": "stream",
          "text": [
            "speechbrain.utils.train_logger - epoch: 121, lr: 1.00e-05 - train final_loss: -1.47e+01 - valid final_loss: -9.09e+00, valid Accuracy soft: 0.34464043378829956, valid Accuracy Partial: 0.7080000042915344\n"
          ]
        },
        {
          "name": "stderr",
          "output_type": "stream",
          "text": [
            "\n"
          ]
        },
        {
          "name": "stdout",
          "output_type": "stream",
          "text": [
            "speechbrain.utils.checkpoints - Saved an end-of-epoch checkpoint in results/convtasnet/1234/save/CKPT+2025-07-30+00-08-37+00\n",
            "speechbrain.utils.checkpoints - Deleted checkpoint in results/convtasnet/1234/save/CKPT+2025-07-30+00-05-29+00\n",
            "speechbrain.utils.epoch_loop - Going into epoch 122\n",
            "Delta lang loss = 0.15, Delta separate loss = 0.85\n"
          ]
        },
        {
          "name": "stderr",
          "output_type": "stream",
          "text": [
            " 97%|█████████▋| 1210/1250 [02:39<00:04,  8.41it/s, train_loss=-14.7]"
          ]
        },
        {
          "name": "stdout",
          "output_type": "stream",
          "text": [
            "__main__ - infinite loss or empty loss! it happened 1 times so far - skipping this batch\n"
          ]
        },
        {
          "name": "stderr",
          "output_type": "stream",
          "text": [
            "100%|██████████| 1250/1250 [02:44<00:00,  7.59it/s, train_loss=-14.7]\n"
          ]
        },
        {
          "name": "stdout",
          "output_type": "stream",
          "text": [
            "Delta lang loss = 0.15, Delta separate loss = 0.85\n"
          ]
        },
        {
          "name": "stderr",
          "output_type": "stream",
          "text": [
            "100%|██████████| 500/500 [00:21<00:00, 22.76it/s]"
          ]
        },
        {
          "name": "stdout",
          "output_type": "stream",
          "text": [
            "speechbrain.utils.train_logger - epoch: 122, lr: 1.00e-05 - train final_loss: -1.47e+01 - valid final_loss: -8.95e+00, valid Accuracy soft: 0.3432874381542206, valid Accuracy Partial: 0.7009999752044678\n"
          ]
        },
        {
          "name": "stderr",
          "output_type": "stream",
          "text": [
            "\n"
          ]
        },
        {
          "name": "stdout",
          "output_type": "stream",
          "text": [
            "speechbrain.utils.checkpoints - Saved an end-of-epoch checkpoint in results/convtasnet/1234/save/CKPT+2025-07-30+00-11-44+00\n",
            "speechbrain.utils.checkpoints - Deleted checkpoint in results/convtasnet/1234/save/CKPT+2025-07-30+00-08-37+00\n",
            "speechbrain.utils.epoch_loop - Going into epoch 123\n",
            "Delta lang loss = 0.15, Delta separate loss = 0.85\n"
          ]
        },
        {
          "name": "stderr",
          "output_type": "stream",
          "text": [
            " 97%|█████████▋| 1210/1250 [02:39<00:04,  8.16it/s, train_loss=-14.7]"
          ]
        },
        {
          "name": "stdout",
          "output_type": "stream",
          "text": [
            "__main__ - infinite loss or empty loss! it happened 1 times so far - skipping this batch\n"
          ]
        },
        {
          "name": "stderr",
          "output_type": "stream",
          "text": [
            "100%|██████████| 1250/1250 [02:45<00:00,  7.57it/s, train_loss=-14.7]\n"
          ]
        },
        {
          "name": "stdout",
          "output_type": "stream",
          "text": [
            "Delta lang loss = 0.15, Delta separate loss = 0.85\n"
          ]
        },
        {
          "name": "stderr",
          "output_type": "stream",
          "text": [
            "100%|██████████| 500/500 [00:22<00:00, 22.70it/s]"
          ]
        },
        {
          "name": "stdout",
          "output_type": "stream",
          "text": [
            "speechbrain.utils.train_logger - epoch: 123, lr: 1.00e-05 - train final_loss: -1.47e+01 - valid final_loss: -9.15e+00, valid Accuracy soft: 0.3463374674320221, valid Accuracy Partial: 0.703000009059906\n"
          ]
        },
        {
          "name": "stderr",
          "output_type": "stream",
          "text": [
            "\n"
          ]
        },
        {
          "name": "stdout",
          "output_type": "stream",
          "text": [
            "speechbrain.utils.checkpoints - Saved an end-of-epoch checkpoint in results/convtasnet/1234/save/CKPT+2025-07-30+00-14-52+00\n",
            "speechbrain.utils.checkpoints - Deleted checkpoint in results/convtasnet/1234/save/CKPT+2025-07-30+00-11-44+00\n",
            "speechbrain.utils.epoch_loop - Going into epoch 124\n",
            "Delta lang loss = 0.15, Delta separate loss = 0.85\n"
          ]
        },
        {
          "name": "stderr",
          "output_type": "stream",
          "text": [
            " 97%|█████████▋| 1210/1250 [02:39<00:04,  8.45it/s, train_loss=-14.7]"
          ]
        },
        {
          "name": "stdout",
          "output_type": "stream",
          "text": [
            "__main__ - infinite loss or empty loss! it happened 1 times so far - skipping this batch\n"
          ]
        },
        {
          "name": "stderr",
          "output_type": "stream",
          "text": [
            "100%|██████████| 1250/1250 [02:44<00:00,  7.60it/s, train_loss=-14.7]\n"
          ]
        },
        {
          "name": "stdout",
          "output_type": "stream",
          "text": [
            "Delta lang loss = 0.15, Delta separate loss = 0.85\n"
          ]
        },
        {
          "name": "stderr",
          "output_type": "stream",
          "text": [
            "100%|██████████| 500/500 [00:21<00:00, 22.85it/s]"
          ]
        },
        {
          "name": "stdout",
          "output_type": "stream",
          "text": [
            "speechbrain.utils.train_logger - epoch: 124, lr: 1.00e-05 - train final_loss: -1.47e+01 - valid final_loss: -9.20e+00, valid Accuracy soft: 0.34746885299682617, valid Accuracy Partial: 0.7059999704360962\n"
          ]
        },
        {
          "name": "stderr",
          "output_type": "stream",
          "text": [
            "\n"
          ]
        },
        {
          "name": "stdout",
          "output_type": "stream",
          "text": [
            "speechbrain.utils.checkpoints - Saved an end-of-epoch checkpoint in results/convtasnet/1234/save/CKPT+2025-07-30+00-17-59+00\n",
            "speechbrain.utils.checkpoints - Deleted checkpoint in results/convtasnet/1234/save/CKPT+2025-07-30+00-14-52+00\n",
            "speechbrain.utils.epoch_loop - Going into epoch 125\n",
            "Delta lang loss = 0.15, Delta separate loss = 0.85\n"
          ]
        },
        {
          "name": "stderr",
          "output_type": "stream",
          "text": [
            " 97%|█████████▋| 1210/1250 [02:38<00:04,  8.26it/s, train_loss=-14.7]"
          ]
        },
        {
          "name": "stdout",
          "output_type": "stream",
          "text": [
            "__main__ - infinite loss or empty loss! it happened 1 times so far - skipping this batch\n"
          ]
        },
        {
          "name": "stderr",
          "output_type": "stream",
          "text": [
            "100%|██████████| 1250/1250 [02:43<00:00,  7.63it/s, train_loss=-14.7]\n"
          ]
        },
        {
          "name": "stdout",
          "output_type": "stream",
          "text": [
            "Delta lang loss = 0.15, Delta separate loss = 0.85\n"
          ]
        },
        {
          "name": "stderr",
          "output_type": "stream",
          "text": [
            "100%|██████████| 500/500 [00:21<00:00, 23.08it/s]"
          ]
        },
        {
          "name": "stdout",
          "output_type": "stream",
          "text": [
            "speechbrain.utils.train_logger - epoch: 125, lr: 1.00e-05 - train final_loss: -1.47e+01 - valid final_loss: -9.36e+00, valid Accuracy soft: 0.350443571805954, valid Accuracy Partial: 0.7149999737739563\n"
          ]
        },
        {
          "name": "stderr",
          "output_type": "stream",
          "text": [
            "\n"
          ]
        },
        {
          "name": "stdout",
          "output_type": "stream",
          "text": [
            "speechbrain.utils.checkpoints - Saved an end-of-epoch checkpoint in results/convtasnet/1234/save/CKPT+2025-07-30+00-21-05+00\n",
            "speechbrain.utils.checkpoints - Deleted checkpoint in results/convtasnet/1234/save/CKPT+2025-07-30+00-17-59+00\n",
            "speechbrain.utils.epoch_loop - Going into epoch 126\n",
            "Delta lang loss = 0.15, Delta separate loss = 0.85\n"
          ]
        },
        {
          "name": "stderr",
          "output_type": "stream",
          "text": [
            " 97%|█████████▋| 1210/1250 [02:39<00:04,  8.38it/s, train_loss=-14.7]"
          ]
        },
        {
          "name": "stdout",
          "output_type": "stream",
          "text": [
            "__main__ - infinite loss or empty loss! it happened 1 times so far - skipping this batch\n"
          ]
        },
        {
          "name": "stderr",
          "output_type": "stream",
          "text": [
            "100%|██████████| 1250/1250 [02:44<00:00,  7.58it/s, train_loss=-14.7]\n"
          ]
        },
        {
          "name": "stdout",
          "output_type": "stream",
          "text": [
            "Delta lang loss = 0.15, Delta separate loss = 0.85\n"
          ]
        },
        {
          "name": "stderr",
          "output_type": "stream",
          "text": [
            "100%|██████████| 500/500 [00:21<00:00, 22.87it/s]"
          ]
        },
        {
          "name": "stdout",
          "output_type": "stream",
          "text": [
            "speechbrain.utils.train_logger - epoch: 126, lr: 1.00e-05 - train final_loss: -1.47e+01 - valid final_loss: -9.39e+00, valid Accuracy soft: 0.3525025248527527, valid Accuracy Partial: 0.7170000076293945\n"
          ]
        },
        {
          "name": "stderr",
          "output_type": "stream",
          "text": [
            "\n"
          ]
        },
        {
          "name": "stdout",
          "output_type": "stream",
          "text": [
            "speechbrain.utils.checkpoints - Saved an end-of-epoch checkpoint in results/convtasnet/1234/save/CKPT+2025-07-30+00-24-12+00\n",
            "speechbrain.utils.checkpoints - Deleted checkpoint in results/convtasnet/1234/save/CKPT+2025-07-30+00-21-05+00\n",
            "speechbrain.utils.epoch_loop - Going into epoch 127\n",
            "Delta lang loss = 0.15, Delta separate loss = 0.85\n"
          ]
        },
        {
          "name": "stderr",
          "output_type": "stream",
          "text": [
            " 97%|█████████▋| 1210/1250 [02:39<00:04,  8.06it/s, train_loss=-14.7]"
          ]
        },
        {
          "name": "stdout",
          "output_type": "stream",
          "text": [
            "__main__ - infinite loss or empty loss! it happened 1 times so far - skipping this batch\n"
          ]
        },
        {
          "name": "stderr",
          "output_type": "stream",
          "text": [
            "100%|██████████| 1250/1250 [02:44<00:00,  7.60it/s, train_loss=-14.7]\n"
          ]
        },
        {
          "name": "stdout",
          "output_type": "stream",
          "text": [
            "Delta lang loss = 0.15, Delta separate loss = 0.85\n"
          ]
        },
        {
          "name": "stderr",
          "output_type": "stream",
          "text": [
            "100%|██████████| 500/500 [00:21<00:00, 22.96it/s]"
          ]
        },
        {
          "name": "stdout",
          "output_type": "stream",
          "text": [
            "speechbrain.utils.train_logger - epoch: 127, lr: 1.00e-05 - train final_loss: -1.47e+01 - valid final_loss: -9.37e+00, valid Accuracy soft: 0.35071757435798645, valid Accuracy Partial: 0.7170000076293945\n"
          ]
        },
        {
          "name": "stderr",
          "output_type": "stream",
          "text": [
            "\n"
          ]
        },
        {
          "name": "stdout",
          "output_type": "stream",
          "text": [
            "speechbrain.utils.checkpoints - Saved an end-of-epoch checkpoint in results/convtasnet/1234/save/CKPT+2025-07-30+00-27-19+00\n",
            "speechbrain.utils.checkpoints - Deleted checkpoint in results/convtasnet/1234/save/CKPT+2025-07-30+00-24-12+00\n",
            "speechbrain.utils.epoch_loop - Going into epoch 128\n",
            "Delta lang loss = 0.15, Delta separate loss = 0.85\n"
          ]
        },
        {
          "name": "stderr",
          "output_type": "stream",
          "text": [
            " 97%|█████████▋| 1210/1250 [02:38<00:04,  8.33it/s, train_loss=-14.7]"
          ]
        },
        {
          "name": "stdout",
          "output_type": "stream",
          "text": [
            "__main__ - infinite loss or empty loss! it happened 1 times so far - skipping this batch\n"
          ]
        },
        {
          "name": "stderr",
          "output_type": "stream",
          "text": [
            "100%|██████████| 1250/1250 [02:44<00:00,  7.58it/s, train_loss=-14.7]\n"
          ]
        },
        {
          "name": "stdout",
          "output_type": "stream",
          "text": [
            "Delta lang loss = 0.15, Delta separate loss = 0.85\n"
          ]
        },
        {
          "name": "stderr",
          "output_type": "stream",
          "text": [
            "100%|██████████| 500/500 [00:21<00:00, 23.07it/s]"
          ]
        },
        {
          "name": "stdout",
          "output_type": "stream",
          "text": [
            "speechbrain.utils.train_logger - epoch: 128, lr: 1.00e-05 - train final_loss: -1.47e+01 - valid final_loss: -9.48e+00, valid Accuracy soft: 0.3548561930656433, valid Accuracy Partial: 0.7210000157356262\n"
          ]
        },
        {
          "name": "stderr",
          "output_type": "stream",
          "text": [
            "\n"
          ]
        },
        {
          "name": "stdout",
          "output_type": "stream",
          "text": [
            "speechbrain.utils.checkpoints - Saved an end-of-epoch checkpoint in results/convtasnet/1234/save/CKPT+2025-07-30+00-30-26+00\n",
            "speechbrain.utils.checkpoints - Deleted checkpoint in results/convtasnet/1234/save/CKPT+2025-07-30+00-27-19+00\n",
            "speechbrain.utils.epoch_loop - Going into epoch 129\n",
            "Delta lang loss = 0.15, Delta separate loss = 0.85\n"
          ]
        },
        {
          "name": "stderr",
          "output_type": "stream",
          "text": [
            " 97%|█████████▋| 1210/1250 [02:38<00:04,  8.24it/s, train_loss=-14.7]"
          ]
        },
        {
          "name": "stdout",
          "output_type": "stream",
          "text": [
            "__main__ - infinite loss or empty loss! it happened 1 times so far - skipping this batch\n"
          ]
        },
        {
          "name": "stderr",
          "output_type": "stream",
          "text": [
            "100%|██████████| 1250/1250 [02:43<00:00,  7.62it/s, train_loss=-14.7]\n"
          ]
        },
        {
          "name": "stdout",
          "output_type": "stream",
          "text": [
            "Delta lang loss = 0.15, Delta separate loss = 0.85\n"
          ]
        },
        {
          "name": "stderr",
          "output_type": "stream",
          "text": [
            "100%|██████████| 500/500 [00:21<00:00, 22.88it/s]"
          ]
        },
        {
          "name": "stdout",
          "output_type": "stream",
          "text": [
            "speechbrain.utils.train_logger - epoch: 129, lr: 1.00e-05 - train final_loss: -1.47e+01 - valid final_loss: -9.38e+00, valid Accuracy soft: 0.34986308217048645, valid Accuracy Partial: 0.7039999961853027\n"
          ]
        },
        {
          "name": "stderr",
          "output_type": "stream",
          "text": [
            "\n"
          ]
        },
        {
          "name": "stdout",
          "output_type": "stream",
          "text": [
            "speechbrain.utils.checkpoints - Saved an end-of-epoch checkpoint in results/convtasnet/1234/save/CKPT+2025-07-30+00-33-33+00\n",
            "speechbrain.utils.checkpoints - Deleted checkpoint in results/convtasnet/1234/save/CKPT+2025-07-30+00-30-26+00\n",
            "speechbrain.utils.epoch_loop - Going into epoch 130\n",
            "Delta lang loss = 0.15, Delta separate loss = 0.85\n"
          ]
        },
        {
          "name": "stderr",
          "output_type": "stream",
          "text": [
            " 97%|█████████▋| 1210/1250 [02:38<00:04,  8.13it/s, train_loss=-14.8]"
          ]
        },
        {
          "name": "stdout",
          "output_type": "stream",
          "text": [
            "__main__ - infinite loss or empty loss! it happened 1 times so far - skipping this batch\n"
          ]
        },
        {
          "name": "stderr",
          "output_type": "stream",
          "text": [
            "100%|██████████| 1250/1250 [02:44<00:00,  7.62it/s, train_loss=-14.7]\n"
          ]
        },
        {
          "name": "stdout",
          "output_type": "stream",
          "text": [
            "Delta lang loss = 0.15, Delta separate loss = 0.85\n"
          ]
        },
        {
          "name": "stderr",
          "output_type": "stream",
          "text": [
            "100%|██████████| 500/500 [00:21<00:00, 22.80it/s]"
          ]
        },
        {
          "name": "stdout",
          "output_type": "stream",
          "text": [
            "speechbrain.utils.train_logger - epoch: 130, lr: 1.00e-05 - train final_loss: -1.47e+01 - valid final_loss: -9.28e+00, valid Accuracy soft: 0.3477606773376465, valid Accuracy Partial: 0.7020000219345093\n"
          ]
        },
        {
          "name": "stderr",
          "output_type": "stream",
          "text": [
            "\n"
          ]
        },
        {
          "name": "stdout",
          "output_type": "stream",
          "text": [
            "speechbrain.utils.checkpoints - Saved an end-of-epoch checkpoint in results/convtasnet/1234/save/CKPT+2025-07-30+00-36-40+00\n",
            "speechbrain.utils.checkpoints - Deleted checkpoint in results/convtasnet/1234/save/CKPT+2025-07-30+00-33-33+00\n",
            "speechbrain.utils.epoch_loop - Going into epoch 131\n",
            "Delta lang loss = 0.15, Delta separate loss = 0.85\n"
          ]
        },
        {
          "name": "stderr",
          "output_type": "stream",
          "text": [
            " 97%|█████████▋| 1210/1250 [02:39<00:04,  8.17it/s, train_loss=-14.8]"
          ]
        },
        {
          "name": "stdout",
          "output_type": "stream",
          "text": [
            "__main__ - infinite loss or empty loss! it happened 1 times so far - skipping this batch\n"
          ]
        },
        {
          "name": "stderr",
          "output_type": "stream",
          "text": [
            "100%|██████████| 1250/1250 [02:45<00:00,  7.56it/s, train_loss=-14.8]\n"
          ]
        },
        {
          "name": "stdout",
          "output_type": "stream",
          "text": [
            "Delta lang loss = 0.15, Delta separate loss = 0.85\n"
          ]
        },
        {
          "name": "stderr",
          "output_type": "stream",
          "text": [
            "100%|██████████| 500/500 [00:22<00:00, 22.57it/s]"
          ]
        },
        {
          "name": "stdout",
          "output_type": "stream",
          "text": [
            "speechbrain.utils.train_logger - epoch: 131, lr: 1.00e-05 - train final_loss: -1.48e+01 - valid final_loss: -9.51e+00, valid Accuracy soft: 0.35238879919052124, valid Accuracy Partial: 0.7039999961853027\n"
          ]
        },
        {
          "name": "stderr",
          "output_type": "stream",
          "text": [
            "\n"
          ]
        },
        {
          "name": "stdout",
          "output_type": "stream",
          "text": [
            "speechbrain.utils.checkpoints - Saved an end-of-epoch checkpoint in results/convtasnet/1234/save/CKPT+2025-07-30+00-39-48+00\n",
            "speechbrain.utils.checkpoints - Deleted checkpoint in results/convtasnet/1234/save/CKPT+2025-07-30+00-36-40+00\n",
            "speechbrain.utils.epoch_loop - Going into epoch 132\n",
            "Delta lang loss = 0.15, Delta separate loss = 0.85\n"
          ]
        },
        {
          "name": "stderr",
          "output_type": "stream",
          "text": [
            " 97%|█████████▋| 1210/1250 [02:41<00:04,  8.20it/s, train_loss=-14.8]"
          ]
        },
        {
          "name": "stdout",
          "output_type": "stream",
          "text": [
            "__main__ - infinite loss or empty loss! it happened 1 times so far - skipping this batch\n"
          ]
        },
        {
          "name": "stderr",
          "output_type": "stream",
          "text": [
            "100%|██████████| 1250/1250 [02:46<00:00,  7.49it/s, train_loss=-14.8]\n"
          ]
        },
        {
          "name": "stdout",
          "output_type": "stream",
          "text": [
            "Delta lang loss = 0.15, Delta separate loss = 0.85\n"
          ]
        },
        {
          "name": "stderr",
          "output_type": "stream",
          "text": [
            "100%|██████████| 500/500 [00:22<00:00, 22.56it/s]"
          ]
        },
        {
          "name": "stdout",
          "output_type": "stream",
          "text": [
            "speechbrain.utils.train_logger - epoch: 132, lr: 1.00e-05 - train final_loss: -1.48e+01 - valid final_loss: -9.45e+00, valid Accuracy soft: 0.3495730459690094, valid Accuracy Partial: 0.699999988079071\n"
          ]
        },
        {
          "name": "stderr",
          "output_type": "stream",
          "text": [
            "\n"
          ]
        },
        {
          "name": "stdout",
          "output_type": "stream",
          "text": [
            "speechbrain.utils.checkpoints - Saved an end-of-epoch checkpoint in results/convtasnet/1234/save/CKPT+2025-07-30+00-42-58+00\n",
            "speechbrain.utils.checkpoints - Deleted checkpoint in results/convtasnet/1234/save/CKPT+2025-07-30+00-39-48+00\n",
            "speechbrain.utils.epoch_loop - Going into epoch 133\n",
            "Delta lang loss = 0.15, Delta separate loss = 0.85\n"
          ]
        },
        {
          "name": "stderr",
          "output_type": "stream",
          "text": [
            " 97%|█████████▋| 1210/1250 [02:39<00:04,  8.28it/s, train_loss=-14.8]"
          ]
        },
        {
          "name": "stdout",
          "output_type": "stream",
          "text": [
            "__main__ - infinite loss or empty loss! it happened 1 times so far - skipping this batch\n"
          ]
        },
        {
          "name": "stderr",
          "output_type": "stream",
          "text": [
            "100%|██████████| 1250/1250 [02:44<00:00,  7.60it/s, train_loss=-14.8]\n"
          ]
        },
        {
          "name": "stdout",
          "output_type": "stream",
          "text": [
            "Delta lang loss = 0.15, Delta separate loss = 0.85\n"
          ]
        },
        {
          "name": "stderr",
          "output_type": "stream",
          "text": [
            "100%|██████████| 500/500 [00:21<00:00, 22.75it/s]"
          ]
        },
        {
          "name": "stdout",
          "output_type": "stream",
          "text": [
            "speechbrain.utils.train_logger - epoch: 133, lr: 1.00e-05 - train final_loss: -1.48e+01 - valid final_loss: -9.57e+00, valid Accuracy soft: 0.35593217611312866, valid Accuracy Partial: 0.7170000076293945\n"
          ]
        },
        {
          "name": "stderr",
          "output_type": "stream",
          "text": [
            "\n"
          ]
        },
        {
          "name": "stdout",
          "output_type": "stream",
          "text": [
            "speechbrain.utils.checkpoints - Saved an end-of-epoch checkpoint in results/convtasnet/1234/save/CKPT+2025-07-30+00-46-05+00\n",
            "speechbrain.utils.checkpoints - Deleted checkpoint in results/convtasnet/1234/save/CKPT+2025-07-30+00-42-58+00\n",
            "speechbrain.utils.epoch_loop - Going into epoch 134\n",
            "Delta lang loss = 0.15, Delta separate loss = 0.85\n"
          ]
        },
        {
          "name": "stderr",
          "output_type": "stream",
          "text": [
            " 97%|█████████▋| 1210/1250 [02:40<00:04,  8.43it/s, train_loss=-14.8]"
          ]
        },
        {
          "name": "stdout",
          "output_type": "stream",
          "text": [
            "__main__ - infinite loss or empty loss! it happened 1 times so far - skipping this batch\n"
          ]
        },
        {
          "name": "stderr",
          "output_type": "stream",
          "text": [
            "100%|██████████| 1250/1250 [02:45<00:00,  7.55it/s, train_loss=-14.8]\n"
          ]
        },
        {
          "name": "stdout",
          "output_type": "stream",
          "text": [
            "Delta lang loss = 0.15, Delta separate loss = 0.85\n"
          ]
        },
        {
          "name": "stderr",
          "output_type": "stream",
          "text": [
            "100%|██████████| 500/500 [00:22<00:00, 22.65it/s]"
          ]
        },
        {
          "name": "stdout",
          "output_type": "stream",
          "text": [
            "speechbrain.utils.train_logger - epoch: 134, lr: 1.00e-05 - train final_loss: -1.48e+01 - valid final_loss: -9.54e+00, valid Accuracy soft: 0.3538046181201935, valid Accuracy Partial: 0.7139999866485596\n"
          ]
        },
        {
          "name": "stderr",
          "output_type": "stream",
          "text": [
            "\n"
          ]
        },
        {
          "name": "stdout",
          "output_type": "stream",
          "text": [
            "speechbrain.utils.checkpoints - Saved an end-of-epoch checkpoint in results/convtasnet/1234/save/CKPT+2025-07-30+00-49-13+00\n",
            "speechbrain.utils.checkpoints - Deleted checkpoint in results/convtasnet/1234/save/CKPT+2025-07-30+00-46-05+00\n",
            "speechbrain.utils.epoch_loop - Going into epoch 135\n",
            "Delta lang loss = 0.15, Delta separate loss = 0.85\n"
          ]
        },
        {
          "name": "stderr",
          "output_type": "stream",
          "text": [
            " 97%|█████████▋| 1210/1250 [02:39<00:04,  8.25it/s, train_loss=-14.8]"
          ]
        },
        {
          "name": "stdout",
          "output_type": "stream",
          "text": [
            "__main__ - infinite loss or empty loss! it happened 1 times so far - skipping this batch\n"
          ]
        },
        {
          "name": "stderr",
          "output_type": "stream",
          "text": [
            "100%|██████████| 1250/1250 [02:44<00:00,  7.61it/s, train_loss=-14.8]\n"
          ]
        },
        {
          "name": "stdout",
          "output_type": "stream",
          "text": [
            "Delta lang loss = 0.15, Delta separate loss = 0.85\n"
          ]
        },
        {
          "name": "stderr",
          "output_type": "stream",
          "text": [
            "100%|██████████| 500/500 [00:21<00:00, 22.96it/s]"
          ]
        },
        {
          "name": "stdout",
          "output_type": "stream",
          "text": [
            "speechbrain.utils.train_logger - epoch: 135, lr: 1.00e-05 - train final_loss: -1.48e+01 - valid final_loss: -9.54e+00, valid Accuracy soft: 0.3555756211280823, valid Accuracy Partial: 0.7160000205039978\n"
          ]
        },
        {
          "name": "stderr",
          "output_type": "stream",
          "text": [
            "\n"
          ]
        },
        {
          "name": "stdout",
          "output_type": "stream",
          "text": [
            "speechbrain.utils.checkpoints - Saved an end-of-epoch checkpoint in results/convtasnet/1234/save/CKPT+2025-07-30+00-52-20+00\n",
            "speechbrain.utils.checkpoints - Deleted checkpoint in results/convtasnet/1234/save/CKPT+2025-07-30+00-49-13+00\n",
            "speechbrain.utils.epoch_loop - Going into epoch 136\n",
            "Delta lang loss = 0.15, Delta separate loss = 0.85\n"
          ]
        },
        {
          "name": "stderr",
          "output_type": "stream",
          "text": [
            " 97%|█████████▋| 1210/1250 [02:38<00:04,  8.44it/s, train_loss=-14.8]"
          ]
        },
        {
          "name": "stdout",
          "output_type": "stream",
          "text": [
            "__main__ - infinite loss or empty loss! it happened 1 times so far - skipping this batch\n"
          ]
        },
        {
          "name": "stderr",
          "output_type": "stream",
          "text": [
            "100%|██████████| 1250/1250 [02:43<00:00,  7.65it/s, train_loss=-14.8]\n"
          ]
        },
        {
          "name": "stdout",
          "output_type": "stream",
          "text": [
            "Delta lang loss = 0.15, Delta separate loss = 0.85\n"
          ]
        },
        {
          "name": "stderr",
          "output_type": "stream",
          "text": [
            "100%|██████████| 500/500 [00:21<00:00, 22.98it/s]"
          ]
        },
        {
          "name": "stdout",
          "output_type": "stream",
          "text": [
            "speechbrain.utils.train_logger - epoch: 136, lr: 1.00e-05 - train final_loss: -1.48e+01 - valid final_loss: -9.63e+00, valid Accuracy soft: 0.3616276979446411, valid Accuracy Partial: 0.7279999852180481\n"
          ]
        },
        {
          "name": "stderr",
          "output_type": "stream",
          "text": [
            "\n"
          ]
        },
        {
          "name": "stdout",
          "output_type": "stream",
          "text": [
            "speechbrain.utils.checkpoints - Saved an end-of-epoch checkpoint in results/convtasnet/1234/save/CKPT+2025-07-30+00-55-26+00\n",
            "speechbrain.utils.checkpoints - Deleted checkpoint in results/convtasnet/1234/save/CKPT+2025-07-30+00-52-20+00\n",
            "speechbrain.utils.epoch_loop - Going into epoch 137\n",
            "Delta lang loss = 0.15, Delta separate loss = 0.85\n"
          ]
        },
        {
          "name": "stderr",
          "output_type": "stream",
          "text": [
            " 97%|█████████▋| 1210/1250 [02:37<00:04,  8.37it/s, train_loss=-14.8]"
          ]
        },
        {
          "name": "stdout",
          "output_type": "stream",
          "text": [
            "__main__ - infinite loss or empty loss! it happened 1 times so far - skipping this batch\n"
          ]
        },
        {
          "name": "stderr",
          "output_type": "stream",
          "text": [
            "100%|██████████| 1250/1250 [02:43<00:00,  7.66it/s, train_loss=-14.8]\n"
          ]
        },
        {
          "name": "stdout",
          "output_type": "stream",
          "text": [
            "Delta lang loss = 0.15, Delta separate loss = 0.85\n"
          ]
        },
        {
          "name": "stderr",
          "output_type": "stream",
          "text": [
            "100%|██████████| 500/500 [00:21<00:00, 23.33it/s]"
          ]
        },
        {
          "name": "stdout",
          "output_type": "stream",
          "text": [
            "speechbrain.utils.train_logger - epoch: 137, lr: 1.00e-05 - train final_loss: -1.48e+01 - valid final_loss: -9.55e+00, valid Accuracy soft: 0.35513636469841003, valid Accuracy Partial: 0.7129999995231628\n"
          ]
        },
        {
          "name": "stderr",
          "output_type": "stream",
          "text": [
            "\n"
          ]
        },
        {
          "name": "stdout",
          "output_type": "stream",
          "text": [
            "speechbrain.utils.checkpoints - Saved an end-of-epoch checkpoint in results/convtasnet/1234/save/CKPT+2025-07-30+00-58-31+00\n",
            "speechbrain.utils.checkpoints - Deleted checkpoint in results/convtasnet/1234/save/CKPT+2025-07-30+00-55-26+00\n",
            "speechbrain.utils.epoch_loop - Going into epoch 138\n",
            "Delta lang loss = 0.15, Delta separate loss = 0.85\n"
          ]
        },
        {
          "name": "stderr",
          "output_type": "stream",
          "text": [
            " 97%|█████████▋| 1210/1250 [02:36<00:04,  8.19it/s, train_loss=-14.8]"
          ]
        },
        {
          "name": "stdout",
          "output_type": "stream",
          "text": [
            "__main__ - infinite loss or empty loss! it happened 1 times so far - skipping this batch\n"
          ]
        },
        {
          "name": "stderr",
          "output_type": "stream",
          "text": [
            "100%|██████████| 1250/1250 [02:41<00:00,  7.73it/s, train_loss=-14.8]\n"
          ]
        },
        {
          "name": "stdout",
          "output_type": "stream",
          "text": [
            "Delta lang loss = 0.15, Delta separate loss = 0.85\n"
          ]
        },
        {
          "name": "stderr",
          "output_type": "stream",
          "text": [
            "100%|██████████| 500/500 [00:21<00:00, 23.35it/s]"
          ]
        },
        {
          "name": "stdout",
          "output_type": "stream",
          "text": [
            "speechbrain.utils.train_logger - epoch: 138, lr: 1.00e-05 - train final_loss: -1.48e+01 - valid final_loss: -9.63e+00, valid Accuracy soft: 0.3600468337535858, valid Accuracy Partial: 0.7229999899864197\n"
          ]
        },
        {
          "name": "stderr",
          "output_type": "stream",
          "text": [
            "\n"
          ]
        },
        {
          "name": "stdout",
          "output_type": "stream",
          "text": [
            "speechbrain.utils.checkpoints - Saved an end-of-epoch checkpoint in results/convtasnet/1234/save/CKPT+2025-07-30+01-01-35+00\n",
            "speechbrain.utils.checkpoints - Deleted checkpoint in results/convtasnet/1234/save/CKPT+2025-07-30+00-58-31+00\n",
            "speechbrain.utils.epoch_loop - Going into epoch 139\n",
            "Delta lang loss = 0.15, Delta separate loss = 0.85\n"
          ]
        },
        {
          "name": "stderr",
          "output_type": "stream",
          "text": [
            " 97%|█████████▋| 1210/1250 [02:36<00:04,  8.14it/s, train_loss=-14.8]"
          ]
        },
        {
          "name": "stdout",
          "output_type": "stream",
          "text": [
            "__main__ - infinite loss or empty loss! it happened 1 times so far - skipping this batch\n"
          ]
        },
        {
          "name": "stderr",
          "output_type": "stream",
          "text": [
            "100%|██████████| 1250/1250 [02:42<00:00,  7.71it/s, train_loss=-14.8]\n"
          ]
        },
        {
          "name": "stdout",
          "output_type": "stream",
          "text": [
            "Delta lang loss = 0.15, Delta separate loss = 0.85\n"
          ]
        },
        {
          "name": "stderr",
          "output_type": "stream",
          "text": [
            "100%|██████████| 500/500 [00:21<00:00, 22.86it/s]"
          ]
        },
        {
          "name": "stdout",
          "output_type": "stream",
          "text": [
            "speechbrain.utils.train_logger - epoch: 139, lr: 1.00e-05 - train final_loss: -1.48e+01 - valid final_loss: -9.58e+00, valid Accuracy soft: 0.35739049315452576, valid Accuracy Partial: 0.7170000076293945\n"
          ]
        },
        {
          "name": "stderr",
          "output_type": "stream",
          "text": [
            "\n"
          ]
        },
        {
          "name": "stdout",
          "output_type": "stream",
          "text": [
            "speechbrain.utils.checkpoints - Saved an end-of-epoch checkpoint in results/convtasnet/1234/save/CKPT+2025-07-30+01-04-40+00\n",
            "speechbrain.utils.checkpoints - Deleted checkpoint in results/convtasnet/1234/save/CKPT+2025-07-30+01-01-35+00\n",
            "speechbrain.utils.epoch_loop - Going into epoch 140\n",
            "Delta lang loss = 0.15, Delta separate loss = 0.85\n"
          ]
        },
        {
          "name": "stderr",
          "output_type": "stream",
          "text": [
            " 97%|█████████▋| 1210/1250 [02:39<00:04,  8.50it/s, train_loss=-14.8]"
          ]
        },
        {
          "name": "stdout",
          "output_type": "stream",
          "text": [
            "__main__ - infinite loss or empty loss! it happened 1 times so far - skipping this batch\n"
          ]
        },
        {
          "name": "stderr",
          "output_type": "stream",
          "text": [
            "100%|██████████| 1250/1250 [02:44<00:00,  7.58it/s, train_loss=-14.8]\n"
          ]
        },
        {
          "name": "stdout",
          "output_type": "stream",
          "text": [
            "__main__ - Removed file /content/drive/MyDrive/Project/results_120\n",
            "__main__ - Saved file succesfully\n",
            "Delta lang loss = 0.15, Delta separate loss = 0.85\n"
          ]
        },
        {
          "name": "stderr",
          "output_type": "stream",
          "text": [
            "100%|██████████| 500/500 [00:21<00:00, 22.89it/s]"
          ]
        },
        {
          "name": "stdout",
          "output_type": "stream",
          "text": [
            "speechbrain.utils.train_logger - epoch: 140, lr: 1.00e-05 - train final_loss: -1.48e+01 - valid final_loss: -9.59e+00, valid Accuracy soft: 0.3582037687301636, valid Accuracy Partial: 0.7239999771118164\n"
          ]
        },
        {
          "name": "stderr",
          "output_type": "stream",
          "text": [
            "\n"
          ]
        },
        {
          "name": "stdout",
          "output_type": "stream",
          "text": [
            "speechbrain.utils.checkpoints - Saved an end-of-epoch checkpoint in results/convtasnet/1234/save/CKPT+2025-07-30+01-07-58+00\n",
            "speechbrain.utils.checkpoints - Deleted checkpoint in results/convtasnet/1234/save/CKPT+2025-07-30+01-04-40+00\n",
            "speechbrain.utils.epoch_loop - Going into epoch 141\n",
            "Delta lang loss = 0.15, Delta separate loss = 0.85\n"
          ]
        },
        {
          "name": "stderr",
          "output_type": "stream",
          "text": [
            " 97%|█████████▋| 1210/1250 [02:36<00:04,  8.39it/s, train_loss=-14.8]"
          ]
        },
        {
          "name": "stdout",
          "output_type": "stream",
          "text": [
            "__main__ - infinite loss or empty loss! it happened 1 times so far - skipping this batch\n"
          ]
        },
        {
          "name": "stderr",
          "output_type": "stream",
          "text": [
            "100%|██████████| 1250/1250 [02:42<00:00,  7.71it/s, train_loss=-14.8]\n"
          ]
        },
        {
          "name": "stdout",
          "output_type": "stream",
          "text": [
            "Delta lang loss = 0.15, Delta separate loss = 0.85\n"
          ]
        },
        {
          "name": "stderr",
          "output_type": "stream",
          "text": [
            "100%|██████████| 500/500 [00:21<00:00, 23.30it/s]"
          ]
        },
        {
          "name": "stdout",
          "output_type": "stream",
          "text": [
            "speechbrain.utils.train_logger - epoch: 141, lr: 1.00e-05 - train final_loss: -1.48e+01 - valid final_loss: -9.61e+00, valid Accuracy soft: 0.3585485816001892, valid Accuracy Partial: 0.7269999980926514\n"
          ]
        },
        {
          "name": "stderr",
          "output_type": "stream",
          "text": [
            "\n"
          ]
        },
        {
          "name": "stdout",
          "output_type": "stream",
          "text": [
            "speechbrain.utils.checkpoints - Saved an end-of-epoch checkpoint in results/convtasnet/1234/save/CKPT+2025-07-30+01-11-02+00\n",
            "speechbrain.utils.checkpoints - Deleted checkpoint in results/convtasnet/1234/save/CKPT+2025-07-30+01-07-58+00\n",
            "speechbrain.utils.epoch_loop - Going into epoch 142\n",
            "Delta lang loss = 0.15, Delta separate loss = 0.85\n"
          ]
        },
        {
          "name": "stderr",
          "output_type": "stream",
          "text": [
            " 97%|█████████▋| 1210/1250 [02:36<00:04,  8.64it/s, train_loss=-14.8]"
          ]
        },
        {
          "name": "stdout",
          "output_type": "stream",
          "text": [
            "__main__ - infinite loss or empty loss! it happened 1 times so far - skipping this batch\n"
          ]
        },
        {
          "name": "stderr",
          "output_type": "stream",
          "text": [
            "100%|██████████| 1250/1250 [02:41<00:00,  7.73it/s, train_loss=-14.8]\n"
          ]
        },
        {
          "name": "stdout",
          "output_type": "stream",
          "text": [
            "Delta lang loss = 0.15, Delta separate loss = 0.85\n"
          ]
        },
        {
          "name": "stderr",
          "output_type": "stream",
          "text": [
            "100%|██████████| 500/500 [00:21<00:00, 23.28it/s]"
          ]
        },
        {
          "name": "stdout",
          "output_type": "stream",
          "text": [
            "speechbrain.utils.train_logger - epoch: 142, lr: 1.00e-05 - train final_loss: -1.48e+01 - valid final_loss: -9.66e+00, valid Accuracy soft: 0.3646829426288605, valid Accuracy Partial: 0.7360000014305115\n"
          ]
        },
        {
          "name": "stderr",
          "output_type": "stream",
          "text": [
            "\n"
          ]
        },
        {
          "name": "stdout",
          "output_type": "stream",
          "text": [
            "speechbrain.utils.checkpoints - Saved an end-of-epoch checkpoint in results/convtasnet/1234/save/CKPT+2025-07-30+01-14-06+00\n",
            "speechbrain.utils.checkpoints - Deleted checkpoint in results/convtasnet/1234/save/CKPT+2025-07-30+01-11-02+00\n",
            "speechbrain.utils.epoch_loop - Going into epoch 143\n",
            "Delta lang loss = 0.15, Delta separate loss = 0.85\n"
          ]
        },
        {
          "name": "stderr",
          "output_type": "stream",
          "text": [
            " 97%|█████████▋| 1210/1250 [02:37<00:04,  8.46it/s, train_loss=-14.8]"
          ]
        },
        {
          "name": "stdout",
          "output_type": "stream",
          "text": [
            "__main__ - infinite loss or empty loss! it happened 1 times so far - skipping this batch\n"
          ]
        },
        {
          "name": "stderr",
          "output_type": "stream",
          "text": [
            "100%|██████████| 1250/1250 [02:43<00:00,  7.66it/s, train_loss=-14.8]\n"
          ]
        },
        {
          "name": "stdout",
          "output_type": "stream",
          "text": [
            "Delta lang loss = 0.15, Delta separate loss = 0.85\n"
          ]
        },
        {
          "name": "stderr",
          "output_type": "stream",
          "text": [
            "100%|██████████| 500/500 [00:21<00:00, 22.93it/s]"
          ]
        },
        {
          "name": "stdout",
          "output_type": "stream",
          "text": [
            "speechbrain.utils.train_logger - epoch: 143, lr: 1.00e-05 - train final_loss: -1.48e+01 - valid final_loss: -9.59e+00, valid Accuracy soft: 0.35750043392181396, valid Accuracy Partial: 0.7160000205039978\n"
          ]
        },
        {
          "name": "stderr",
          "output_type": "stream",
          "text": [
            "\n"
          ]
        },
        {
          "name": "stdout",
          "output_type": "stream",
          "text": [
            "speechbrain.utils.checkpoints - Saved an end-of-epoch checkpoint in results/convtasnet/1234/save/CKPT+2025-07-30+01-17-12+00\n",
            "speechbrain.utils.checkpoints - Deleted checkpoint in results/convtasnet/1234/save/CKPT+2025-07-30+01-14-06+00\n",
            "speechbrain.utils.epoch_loop - Going into epoch 144\n",
            "Delta lang loss = 0.15, Delta separate loss = 0.85\n"
          ]
        },
        {
          "name": "stderr",
          "output_type": "stream",
          "text": [
            " 97%|█████████▋| 1210/1250 [02:36<00:04,  8.46it/s, train_loss=-14.8]"
          ]
        },
        {
          "name": "stdout",
          "output_type": "stream",
          "text": [
            "__main__ - infinite loss or empty loss! it happened 1 times so far - skipping this batch\n"
          ]
        },
        {
          "name": "stderr",
          "output_type": "stream",
          "text": [
            "100%|██████████| 1250/1250 [02:41<00:00,  7.73it/s, train_loss=-14.8]\n"
          ]
        },
        {
          "name": "stdout",
          "output_type": "stream",
          "text": [
            "Delta lang loss = 0.15, Delta separate loss = 0.85\n"
          ]
        },
        {
          "name": "stderr",
          "output_type": "stream",
          "text": [
            "100%|██████████| 500/500 [00:21<00:00, 23.36it/s]"
          ]
        },
        {
          "name": "stdout",
          "output_type": "stream",
          "text": [
            "speechbrain.utils.train_logger - epoch: 144, lr: 1.00e-05 - train final_loss: -1.48e+01 - valid final_loss: -9.63e+00, valid Accuracy soft: 0.36029478907585144, valid Accuracy Partial: 0.7260000109672546\n"
          ]
        },
        {
          "name": "stderr",
          "output_type": "stream",
          "text": [
            "\n"
          ]
        },
        {
          "name": "stdout",
          "output_type": "stream",
          "text": [
            "speechbrain.utils.checkpoints - Saved an end-of-epoch checkpoint in results/convtasnet/1234/save/CKPT+2025-07-30+01-20-16+00\n",
            "speechbrain.utils.checkpoints - Deleted checkpoint in results/convtasnet/1234/save/CKPT+2025-07-30+01-17-12+00\n",
            "speechbrain.utils.epoch_loop - Going into epoch 145\n",
            "Delta lang loss = 0.15, Delta separate loss = 0.85\n"
          ]
        },
        {
          "name": "stderr",
          "output_type": "stream",
          "text": [
            " 97%|█████████▋| 1210/1250 [02:36<00:04,  8.71it/s, train_loss=-14.8]"
          ]
        },
        {
          "name": "stdout",
          "output_type": "stream",
          "text": [
            "__main__ - infinite loss or empty loss! it happened 1 times so far - skipping this batch\n"
          ]
        },
        {
          "name": "stderr",
          "output_type": "stream",
          "text": [
            "100%|██████████| 1250/1250 [02:41<00:00,  7.75it/s, train_loss=-14.8]\n"
          ]
        },
        {
          "name": "stdout",
          "output_type": "stream",
          "text": [
            "Delta lang loss = 0.15, Delta separate loss = 0.85\n"
          ]
        },
        {
          "name": "stderr",
          "output_type": "stream",
          "text": [
            "100%|██████████| 500/500 [00:21<00:00, 23.38it/s]"
          ]
        },
        {
          "name": "stdout",
          "output_type": "stream",
          "text": [
            "speechbrain.utils.train_logger - epoch: 145, lr: 1.00e-05 - train final_loss: -1.48e+01 - valid final_loss: -9.66e+00, valid Accuracy soft: 0.3622113764286041, valid Accuracy Partial: 0.7310000061988831\n"
          ]
        },
        {
          "name": "stderr",
          "output_type": "stream",
          "text": [
            "\n"
          ]
        },
        {
          "name": "stdout",
          "output_type": "stream",
          "text": [
            "speechbrain.utils.checkpoints - Saved an end-of-epoch checkpoint in results/convtasnet/1234/save/CKPT+2025-07-30+01-23-19+00\n",
            "speechbrain.utils.checkpoints - Deleted checkpoint in results/convtasnet/1234/save/CKPT+2025-07-30+01-20-16+00\n",
            "speechbrain.utils.epoch_loop - Going into epoch 146\n",
            "Delta lang loss = 0.15, Delta separate loss = 0.85\n"
          ]
        },
        {
          "name": "stderr",
          "output_type": "stream",
          "text": [
            " 97%|█████████▋| 1210/1250 [02:36<00:04,  8.55it/s, train_loss=-14.8]"
          ]
        },
        {
          "name": "stdout",
          "output_type": "stream",
          "text": [
            "__main__ - infinite loss or empty loss! it happened 1 times so far - skipping this batch\n"
          ]
        },
        {
          "name": "stderr",
          "output_type": "stream",
          "text": [
            "100%|██████████| 1250/1250 [02:42<00:00,  7.71it/s, train_loss=-14.8]\n"
          ]
        },
        {
          "name": "stdout",
          "output_type": "stream",
          "text": [
            "Delta lang loss = 0.15, Delta separate loss = 0.85\n"
          ]
        },
        {
          "name": "stderr",
          "output_type": "stream",
          "text": [
            "100%|██████████| 500/500 [00:21<00:00, 22.87it/s]"
          ]
        },
        {
          "name": "stdout",
          "output_type": "stream",
          "text": [
            "speechbrain.utils.train_logger - epoch: 146, lr: 1.00e-05 - train final_loss: -1.48e+01 - valid final_loss: -9.66e+00, valid Accuracy soft: 0.3623625636100769, valid Accuracy Partial: 0.7300000190734863\n"
          ]
        },
        {
          "name": "stderr",
          "output_type": "stream",
          "text": [
            "\n"
          ]
        },
        {
          "name": "stdout",
          "output_type": "stream",
          "text": [
            "speechbrain.utils.checkpoints - Saved an end-of-epoch checkpoint in results/convtasnet/1234/save/CKPT+2025-07-30+01-26-24+00\n",
            "speechbrain.utils.checkpoints - Deleted checkpoint in results/convtasnet/1234/save/CKPT+2025-07-30+01-23-19+00\n",
            "speechbrain.utils.epoch_loop - Going into epoch 147\n",
            "Delta lang loss = 0.15, Delta separate loss = 0.85\n"
          ]
        },
        {
          "name": "stderr",
          "output_type": "stream",
          "text": [
            " 97%|█████████▋| 1210/1250 [02:37<00:04,  8.36it/s, train_loss=-14.8]"
          ]
        },
        {
          "name": "stdout",
          "output_type": "stream",
          "text": [
            "__main__ - infinite loss or empty loss! it happened 1 times so far - skipping this batch\n"
          ]
        },
        {
          "name": "stderr",
          "output_type": "stream",
          "text": [
            "100%|██████████| 1250/1250 [02:42<00:00,  7.70it/s, train_loss=-14.8]\n"
          ]
        },
        {
          "name": "stdout",
          "output_type": "stream",
          "text": [
            "Delta lang loss = 0.15, Delta separate loss = 0.85\n"
          ]
        },
        {
          "name": "stderr",
          "output_type": "stream",
          "text": [
            "100%|██████████| 500/500 [00:21<00:00, 23.23it/s]"
          ]
        },
        {
          "name": "stdout",
          "output_type": "stream",
          "text": [
            "speechbrain.utils.train_logger - epoch: 147, lr: 1.00e-05 - train final_loss: -1.48e+01 - valid final_loss: -9.65e+00, valid Accuracy soft: 0.3629726469516754, valid Accuracy Partial: 0.7329999804496765\n"
          ]
        },
        {
          "name": "stderr",
          "output_type": "stream",
          "text": [
            "\n"
          ]
        },
        {
          "name": "stdout",
          "output_type": "stream",
          "text": [
            "speechbrain.utils.checkpoints - Saved an end-of-epoch checkpoint in results/convtasnet/1234/save/CKPT+2025-07-30+01-29-28+00\n",
            "speechbrain.utils.checkpoints - Deleted checkpoint in results/convtasnet/1234/save/CKPT+2025-07-30+01-26-24+00\n",
            "speechbrain.utils.epoch_loop - Going into epoch 148\n",
            "Delta lang loss = 0.15, Delta separate loss = 0.85\n"
          ]
        },
        {
          "name": "stderr",
          "output_type": "stream",
          "text": [
            " 18%|█▊        | 219/1250 [00:29<02:11,  7.85it/s, train_loss=-14.9]"
          ]
        },
        {
          "name": "stdout",
          "output_type": "stream",
          "text": [
            "__main__ - infinite loss or empty loss! it happened 1 times so far - skipping this batch\n"
          ]
        },
        {
          "name": "stderr",
          "output_type": "stream",
          "text": [
            " 97%|█████████▋| 1210/1250 [02:36<00:04,  8.46it/s, train_loss=-14.8]"
          ]
        },
        {
          "name": "stdout",
          "output_type": "stream",
          "text": [
            "__main__ - infinite loss or empty loss! it happened 2 times so far - skipping this batch\n"
          ]
        },
        {
          "name": "stderr",
          "output_type": "stream",
          "text": [
            "100%|██████████| 1250/1250 [02:41<00:00,  7.72it/s, train_loss=-14.8]\n"
          ]
        },
        {
          "name": "stdout",
          "output_type": "stream",
          "text": [
            "Delta lang loss = 0.15, Delta separate loss = 0.85\n"
          ]
        },
        {
          "name": "stderr",
          "output_type": "stream",
          "text": [
            "100%|██████████| 500/500 [00:21<00:00, 23.16it/s]"
          ]
        },
        {
          "name": "stdout",
          "output_type": "stream",
          "text": [
            "speechbrain.utils.train_logger - epoch: 148, lr: 1.00e-05 - train final_loss: -1.48e+01 - valid final_loss: -9.65e+00, valid Accuracy soft: 0.36328038573265076, valid Accuracy Partial: 0.7310000061988831\n"
          ]
        },
        {
          "name": "stderr",
          "output_type": "stream",
          "text": [
            "\n"
          ]
        },
        {
          "name": "stdout",
          "output_type": "stream",
          "text": [
            "speechbrain.utils.checkpoints - Saved an end-of-epoch checkpoint in results/convtasnet/1234/save/CKPT+2025-07-30+01-32-32+00\n",
            "speechbrain.utils.checkpoints - Deleted checkpoint in results/convtasnet/1234/save/CKPT+2025-07-30+01-29-28+00\n",
            "speechbrain.utils.epoch_loop - Going into epoch 149\n",
            "Delta lang loss = 0.15, Delta separate loss = 0.85\n"
          ]
        },
        {
          "name": "stderr",
          "output_type": "stream",
          "text": [
            " 97%|█████████▋| 1210/1250 [02:36<00:04,  8.47it/s, train_loss=-14.8]"
          ]
        },
        {
          "name": "stdout",
          "output_type": "stream",
          "text": [
            "__main__ - infinite loss or empty loss! it happened 1 times so far - skipping this batch\n"
          ]
        },
        {
          "name": "stderr",
          "output_type": "stream",
          "text": [
            "100%|██████████| 1250/1250 [02:41<00:00,  7.72it/s, train_loss=-14.8]\n"
          ]
        },
        {
          "name": "stdout",
          "output_type": "stream",
          "text": [
            "Delta lang loss = 0.15, Delta separate loss = 0.85\n"
          ]
        },
        {
          "name": "stderr",
          "output_type": "stream",
          "text": [
            "100%|██████████| 500/500 [00:21<00:00, 23.01it/s]"
          ]
        },
        {
          "name": "stdout",
          "output_type": "stream",
          "text": [
            "speechbrain.utils.train_logger - epoch: 149, lr: 1.00e-05 - train final_loss: -1.48e+01 - valid final_loss: -9.62e+00, valid Accuracy soft: 0.36145445704460144, valid Accuracy Partial: 0.7350000143051147\n"
          ]
        },
        {
          "name": "stderr",
          "output_type": "stream",
          "text": [
            "\n"
          ]
        },
        {
          "name": "stdout",
          "output_type": "stream",
          "text": [
            "speechbrain.utils.checkpoints - Saved an end-of-epoch checkpoint in results/convtasnet/1234/save/CKPT+2025-07-30+01-35-37+00\n",
            "speechbrain.utils.checkpoints - Deleted checkpoint in results/convtasnet/1234/save/CKPT+2025-07-30+01-32-32+00\n",
            "speechbrain.utils.epoch_loop - Going into epoch 150\n",
            "Delta lang loss = 0.15, Delta separate loss = 0.85\n"
          ]
        },
        {
          "name": "stderr",
          "output_type": "stream",
          "text": [
            " 18%|█▊        | 219/1250 [00:29<02:15,  7.60it/s, train_loss=-14.9]"
          ]
        },
        {
          "name": "stdout",
          "output_type": "stream",
          "text": [
            "__main__ - infinite loss or empty loss! it happened 1 times so far - skipping this batch\n"
          ]
        },
        {
          "name": "stderr",
          "output_type": "stream",
          "text": [
            " 97%|█████████▋| 1210/1250 [02:37<00:04,  8.44it/s, train_loss=-14.8]"
          ]
        },
        {
          "name": "stdout",
          "output_type": "stream",
          "text": [
            "__main__ - infinite loss or empty loss! it happened 2 times so far - skipping this batch\n"
          ]
        },
        {
          "name": "stderr",
          "output_type": "stream",
          "text": [
            "100%|██████████| 1250/1250 [02:42<00:00,  7.69it/s, train_loss=-14.8]\n"
          ]
        },
        {
          "name": "stdout",
          "output_type": "stream",
          "text": [
            "Delta lang loss = 0.15, Delta separate loss = 0.85\n"
          ]
        },
        {
          "name": "stderr",
          "output_type": "stream",
          "text": [
            "100%|██████████| 500/500 [00:21<00:00, 23.01it/s]"
          ]
        },
        {
          "name": "stdout",
          "output_type": "stream",
          "text": [
            "speechbrain.utils.train_logger - epoch: 150, lr: 1.00e-05 - train final_loss: -1.48e+01 - valid final_loss: -9.60e+00, valid Accuracy soft: 0.35977864265441895, valid Accuracy Partial: 0.7229999899864197\n"
          ]
        },
        {
          "name": "stderr",
          "output_type": "stream",
          "text": [
            "\n"
          ]
        },
        {
          "name": "stdout",
          "output_type": "stream",
          "text": [
            "speechbrain.utils.checkpoints - Saved an end-of-epoch checkpoint in results/convtasnet/1234/save/CKPT+2025-07-30+01-38-42+00\n",
            "speechbrain.utils.checkpoints - Deleted checkpoint in results/convtasnet/1234/save/CKPT+2025-07-30+01-35-37+00\n",
            "speechbrain.utils.epoch_loop - Going into epoch 151\n",
            "Delta lang loss = 0.15, Delta separate loss = 0.85\n"
          ]
        },
        {
          "name": "stderr",
          "output_type": "stream",
          "text": [
            " 97%|█████████▋| 1210/1250 [02:36<00:04,  8.67it/s, train_loss=-14.8]"
          ]
        },
        {
          "name": "stdout",
          "output_type": "stream",
          "text": [
            "__main__ - infinite loss or empty loss! it happened 1 times so far - skipping this batch\n"
          ]
        },
        {
          "name": "stderr",
          "output_type": "stream",
          "text": [
            "100%|██████████| 1250/1250 [02:41<00:00,  7.72it/s, train_loss=-14.8]\n"
          ]
        },
        {
          "name": "stdout",
          "output_type": "stream",
          "text": [
            "Delta lang loss = 0.15, Delta separate loss = 0.85\n"
          ]
        },
        {
          "name": "stderr",
          "output_type": "stream",
          "text": [
            "100%|██████████| 500/500 [00:21<00:00, 23.12it/s]"
          ]
        },
        {
          "name": "stdout",
          "output_type": "stream",
          "text": [
            "speechbrain.utils.train_logger - epoch: 151, lr: 1.00e-05 - train final_loss: -1.48e+01 - valid final_loss: -9.54e+00, valid Accuracy soft: 0.35660672187805176, valid Accuracy Partial: 0.7179999947547913\n"
          ]
        },
        {
          "name": "stderr",
          "output_type": "stream",
          "text": [
            "\n"
          ]
        },
        {
          "name": "stdout",
          "output_type": "stream",
          "text": [
            "speechbrain.utils.checkpoints - Saved an end-of-epoch checkpoint in results/convtasnet/1234/save/CKPT+2025-07-30+01-41-46+00\n",
            "speechbrain.utils.checkpoints - Deleted checkpoint in results/convtasnet/1234/save/CKPT+2025-07-30+01-38-42+00\n",
            "speechbrain.utils.epoch_loop - Going into epoch 152\n",
            "Delta lang loss = 0.15, Delta separate loss = 0.85\n"
          ]
        },
        {
          "name": "stderr",
          "output_type": "stream",
          "text": [
            " 97%|█████████▋| 1210/1250 [02:36<00:04,  8.40it/s, train_loss=-14.8]"
          ]
        },
        {
          "name": "stdout",
          "output_type": "stream",
          "text": [
            "__main__ - infinite loss or empty loss! it happened 1 times so far - skipping this batch\n"
          ]
        },
        {
          "name": "stderr",
          "output_type": "stream",
          "text": [
            "100%|██████████| 1250/1250 [02:42<00:00,  7.71it/s, train_loss=-14.8]\n"
          ]
        },
        {
          "name": "stdout",
          "output_type": "stream",
          "text": [
            "Delta lang loss = 0.15, Delta separate loss = 0.85\n"
          ]
        },
        {
          "name": "stderr",
          "output_type": "stream",
          "text": [
            "100%|██████████| 500/500 [00:21<00:00, 22.91it/s]"
          ]
        },
        {
          "name": "stdout",
          "output_type": "stream",
          "text": [
            "speechbrain.utils.train_logger - epoch: 152, lr: 1.00e-05 - train final_loss: -1.48e+01 - valid final_loss: -9.46e+00, valid Accuracy soft: 0.35419392585754395, valid Accuracy Partial: 0.7120000123977661\n"
          ]
        },
        {
          "name": "stderr",
          "output_type": "stream",
          "text": [
            "\n"
          ]
        },
        {
          "name": "stdout",
          "output_type": "stream",
          "text": [
            "speechbrain.utils.checkpoints - Saved an end-of-epoch checkpoint in results/convtasnet/1234/save/CKPT+2025-07-30+01-44-51+00\n",
            "speechbrain.utils.checkpoints - Deleted checkpoint in results/convtasnet/1234/save/CKPT+2025-07-30+01-41-46+00\n",
            "speechbrain.utils.epoch_loop - Going into epoch 153\n",
            "Delta lang loss = 0.15, Delta separate loss = 0.85\n"
          ]
        },
        {
          "name": "stderr",
          "output_type": "stream",
          "text": [
            " 97%|█████████▋| 1210/1250 [02:37<00:04,  8.42it/s, train_loss=-14.8]"
          ]
        },
        {
          "name": "stdout",
          "output_type": "stream",
          "text": [
            "__main__ - infinite loss or empty loss! it happened 1 times so far - skipping this batch\n"
          ]
        },
        {
          "name": "stderr",
          "output_type": "stream",
          "text": [
            "100%|██████████| 1250/1250 [02:42<00:00,  7.68it/s, train_loss=-14.8]\n"
          ]
        },
        {
          "name": "stdout",
          "output_type": "stream",
          "text": [
            "Delta lang loss = 0.15, Delta separate loss = 0.85\n"
          ]
        },
        {
          "name": "stderr",
          "output_type": "stream",
          "text": [
            "100%|██████████| 500/500 [00:21<00:00, 22.92it/s]"
          ]
        },
        {
          "name": "stdout",
          "output_type": "stream",
          "text": [
            "speechbrain.utils.train_logger - epoch: 153, lr: 1.00e-05 - train final_loss: -1.48e+01 - valid final_loss: -9.64e+00, valid Accuracy soft: 0.3619876205921173, valid Accuracy Partial: 0.7279999852180481\n"
          ]
        },
        {
          "name": "stderr",
          "output_type": "stream",
          "text": [
            "\n"
          ]
        },
        {
          "name": "stdout",
          "output_type": "stream",
          "text": [
            "speechbrain.utils.checkpoints - Saved an end-of-epoch checkpoint in results/convtasnet/1234/save/CKPT+2025-07-30+01-47-56+00\n",
            "speechbrain.utils.checkpoints - Deleted checkpoint in results/convtasnet/1234/save/CKPT+2025-07-30+01-44-51+00\n",
            "speechbrain.utils.epoch_loop - Going into epoch 154\n",
            "Delta lang loss = 0.15, Delta separate loss = 0.85\n"
          ]
        },
        {
          "name": "stderr",
          "output_type": "stream",
          "text": [
            " 97%|█████████▋| 1210/1250 [02:39<00:05,  7.83it/s, train_loss=-14.8]"
          ]
        },
        {
          "name": "stdout",
          "output_type": "stream",
          "text": [
            "__main__ - infinite loss or empty loss! it happened 1 times so far - skipping this batch\n"
          ]
        },
        {
          "name": "stderr",
          "output_type": "stream",
          "text": [
            "100%|██████████| 1250/1250 [02:45<00:00,  7.57it/s, train_loss=-14.8]\n"
          ]
        },
        {
          "name": "stdout",
          "output_type": "stream",
          "text": [
            "Delta lang loss = 0.15, Delta separate loss = 0.85\n"
          ]
        },
        {
          "name": "stderr",
          "output_type": "stream",
          "text": [
            "100%|██████████| 500/500 [00:22<00:00, 22.29it/s]"
          ]
        },
        {
          "name": "stdout",
          "output_type": "stream",
          "text": [
            "speechbrain.utils.train_logger - epoch: 154, lr: 1.00e-05 - train final_loss: -1.48e+01 - valid final_loss: -9.57e+00, valid Accuracy soft: 0.35890793800354004, valid Accuracy Partial: 0.7210000157356262\n"
          ]
        },
        {
          "name": "stderr",
          "output_type": "stream",
          "text": [
            "\n"
          ]
        },
        {
          "name": "stdout",
          "output_type": "stream",
          "text": [
            "speechbrain.utils.checkpoints - Saved an end-of-epoch checkpoint in results/convtasnet/1234/save/CKPT+2025-07-30+01-51-05+00\n",
            "speechbrain.utils.checkpoints - Deleted checkpoint in results/convtasnet/1234/save/CKPT+2025-07-30+01-47-56+00\n",
            "speechbrain.utils.epoch_loop - Going into epoch 155\n",
            "Delta lang loss = 0.15, Delta separate loss = 0.85\n"
          ]
        },
        {
          "name": "stderr",
          "output_type": "stream",
          "text": [
            " 18%|█▊        | 219/1250 [00:30<02:21,  7.29it/s, train_loss=-14.9]"
          ]
        },
        {
          "name": "stdout",
          "output_type": "stream",
          "text": [
            "__main__ - infinite loss or empty loss! it happened 1 times so far - skipping this batch\n"
          ]
        },
        {
          "name": "stderr",
          "output_type": "stream",
          "text": [
            " 97%|█████████▋| 1210/1250 [02:44<00:05,  7.60it/s, train_loss=-14.8]"
          ]
        },
        {
          "name": "stdout",
          "output_type": "stream",
          "text": [
            "__main__ - infinite loss or empty loss! it happened 2 times so far - skipping this batch\n"
          ]
        },
        {
          "name": "stderr",
          "output_type": "stream",
          "text": [
            "100%|██████████| 1250/1250 [02:49<00:00,  7.37it/s, train_loss=-14.8]\n"
          ]
        },
        {
          "name": "stdout",
          "output_type": "stream",
          "text": [
            "Delta lang loss = 0.15, Delta separate loss = 0.85\n"
          ]
        },
        {
          "name": "stderr",
          "output_type": "stream",
          "text": [
            "100%|██████████| 500/500 [00:22<00:00, 22.07it/s]"
          ]
        },
        {
          "name": "stdout",
          "output_type": "stream",
          "text": [
            "speechbrain.utils.train_logger - epoch: 155, lr: 1.00e-05 - train final_loss: -1.48e+01 - valid final_loss: -9.62e+00, valid Accuracy soft: 0.36220088601112366, valid Accuracy Partial: 0.7310000061988831\n"
          ]
        },
        {
          "name": "stderr",
          "output_type": "stream",
          "text": [
            "\n"
          ]
        },
        {
          "name": "stdout",
          "output_type": "stream",
          "text": [
            "speechbrain.utils.checkpoints - Saved an end-of-epoch checkpoint in results/convtasnet/1234/save/CKPT+2025-07-30+01-54-18+00\n",
            "speechbrain.utils.checkpoints - Deleted checkpoint in results/convtasnet/1234/save/CKPT+2025-07-30+01-51-05+00\n",
            "speechbrain.utils.epoch_loop - Going into epoch 156\n",
            "Delta lang loss = 0.15, Delta separate loss = 0.85\n"
          ]
        },
        {
          "name": "stderr",
          "output_type": "stream",
          "text": [
            " 97%|█████████▋| 1210/1250 [02:44<00:05,  7.98it/s, train_loss=-14.9]"
          ]
        },
        {
          "name": "stdout",
          "output_type": "stream",
          "text": [
            "__main__ - infinite loss or empty loss! it happened 1 times so far - skipping this batch\n"
          ]
        },
        {
          "name": "stderr",
          "output_type": "stream",
          "text": [
            "100%|██████████| 1250/1250 [02:49<00:00,  7.36it/s, train_loss=-14.8]\n"
          ]
        },
        {
          "name": "stdout",
          "output_type": "stream",
          "text": [
            "Delta lang loss = 0.15, Delta separate loss = 0.85\n"
          ]
        },
        {
          "name": "stderr",
          "output_type": "stream",
          "text": [
            "100%|██████████| 500/500 [00:22<00:00, 22.37it/s]"
          ]
        },
        {
          "name": "stdout",
          "output_type": "stream",
          "text": [
            "speechbrain.utils.train_logger - epoch: 156, lr: 1.00e-05 - train final_loss: -1.48e+01 - valid final_loss: -9.65e+00, valid Accuracy soft: 0.36342549324035645, valid Accuracy Partial: 0.7350000143051147\n"
          ]
        },
        {
          "name": "stderr",
          "output_type": "stream",
          "text": [
            "\n"
          ]
        },
        {
          "name": "stdout",
          "output_type": "stream",
          "text": [
            "speechbrain.utils.checkpoints - Saved an end-of-epoch checkpoint in results/convtasnet/1234/save/CKPT+2025-07-30+01-57-31+00\n",
            "speechbrain.utils.checkpoints - Deleted checkpoint in results/convtasnet/1234/save/CKPT+2025-07-30+01-54-18+00\n",
            "speechbrain.utils.epoch_loop - Going into epoch 157\n",
            "Delta lang loss = 0.15, Delta separate loss = 0.85\n"
          ]
        },
        {
          "name": "stderr",
          "output_type": "stream",
          "text": [
            " 97%|█████████▋| 1210/1250 [02:44<00:05,  7.95it/s, train_loss=-14.9]"
          ]
        },
        {
          "name": "stdout",
          "output_type": "stream",
          "text": [
            "__main__ - infinite loss or empty loss! it happened 1 times so far - skipping this batch\n"
          ]
        },
        {
          "name": "stderr",
          "output_type": "stream",
          "text": [
            "100%|██████████| 1250/1250 [02:49<00:00,  7.37it/s, train_loss=-14.9]\n"
          ]
        },
        {
          "name": "stdout",
          "output_type": "stream",
          "text": [
            "Delta lang loss = 0.15, Delta separate loss = 0.85\n"
          ]
        },
        {
          "name": "stderr",
          "output_type": "stream",
          "text": [
            "100%|██████████| 500/500 [00:22<00:00, 22.20it/s]"
          ]
        },
        {
          "name": "stdout",
          "output_type": "stream",
          "text": [
            "speechbrain.utils.train_logger - epoch: 157, lr: 1.00e-05 - train final_loss: -1.49e+01 - valid final_loss: -9.59e+00, valid Accuracy soft: 0.3598161041736603, valid Accuracy Partial: 0.7210000157356262\n"
          ]
        },
        {
          "name": "stderr",
          "output_type": "stream",
          "text": [
            "\n"
          ]
        },
        {
          "name": "stdout",
          "output_type": "stream",
          "text": [
            "speechbrain.utils.checkpoints - Saved an end-of-epoch checkpoint in results/convtasnet/1234/save/CKPT+2025-07-30+02-00-43+00\n",
            "speechbrain.utils.checkpoints - Deleted checkpoint in results/convtasnet/1234/save/CKPT+2025-07-30+01-57-31+00\n",
            "speechbrain.utils.epoch_loop - Going into epoch 158\n",
            "Delta lang loss = 0.15, Delta separate loss = 0.85\n"
          ]
        },
        {
          "name": "stderr",
          "output_type": "stream",
          "text": [
            " 97%|█████████▋| 1210/1250 [02:43<00:04,  8.03it/s, train_loss=-14.9]"
          ]
        },
        {
          "name": "stdout",
          "output_type": "stream",
          "text": [
            "__main__ - infinite loss or empty loss! it happened 1 times so far - skipping this batch\n"
          ]
        },
        {
          "name": "stderr",
          "output_type": "stream",
          "text": [
            "100%|██████████| 1250/1250 [02:49<00:00,  7.39it/s, train_loss=-14.9]\n"
          ]
        },
        {
          "name": "stdout",
          "output_type": "stream",
          "text": [
            "Delta lang loss = 0.15, Delta separate loss = 0.85\n"
          ]
        },
        {
          "name": "stderr",
          "output_type": "stream",
          "text": [
            "100%|██████████| 500/500 [00:21<00:00, 22.93it/s]"
          ]
        },
        {
          "name": "stdout",
          "output_type": "stream",
          "text": [
            "speechbrain.utils.train_logger - epoch: 158, lr: 1.00e-05 - train final_loss: -1.49e+01 - valid final_loss: -9.52e+00, valid Accuracy soft: 0.3586800694465637, valid Accuracy Partial: 0.7260000109672546\n"
          ]
        },
        {
          "name": "stderr",
          "output_type": "stream",
          "text": [
            "\n"
          ]
        },
        {
          "name": "stdout",
          "output_type": "stream",
          "text": [
            "speechbrain.utils.checkpoints - Saved an end-of-epoch checkpoint in results/convtasnet/1234/save/CKPT+2025-07-30+02-03-55+00\n",
            "speechbrain.utils.checkpoints - Deleted checkpoint in results/convtasnet/1234/save/CKPT+2025-07-30+02-00-43+00\n",
            "speechbrain.utils.epoch_loop - Going into epoch 159\n",
            "Delta lang loss = 0.15, Delta separate loss = 0.85\n"
          ]
        },
        {
          "name": "stderr",
          "output_type": "stream",
          "text": [
            " 18%|█▊        | 219/1250 [00:29<02:14,  7.64it/s, train_loss=-14.9]"
          ]
        },
        {
          "name": "stdout",
          "output_type": "stream",
          "text": [
            "__main__ - infinite loss or empty loss! it happened 1 times so far - skipping this batch\n"
          ]
        },
        {
          "name": "stderr",
          "output_type": "stream",
          "text": [
            " 97%|█████████▋| 1210/1250 [02:38<00:04,  8.59it/s, train_loss=-14.8]"
          ]
        },
        {
          "name": "stdout",
          "output_type": "stream",
          "text": [
            "__main__ - infinite loss or empty loss! it happened 2 times so far - skipping this batch\n"
          ]
        },
        {
          "name": "stderr",
          "output_type": "stream",
          "text": [
            "100%|██████████| 1250/1250 [02:43<00:00,  7.64it/s, train_loss=-14.8]\n"
          ]
        },
        {
          "name": "stdout",
          "output_type": "stream",
          "text": [
            "Delta lang loss = 0.15, Delta separate loss = 0.85\n"
          ]
        },
        {
          "name": "stderr",
          "output_type": "stream",
          "text": [
            "100%|██████████| 500/500 [00:21<00:00, 22.91it/s]"
          ]
        },
        {
          "name": "stdout",
          "output_type": "stream",
          "text": [
            "speechbrain.utils.train_logger - epoch: 159, lr: 1.00e-05 - train final_loss: -1.48e+01 - valid final_loss: -9.48e+00, valid Accuracy soft: 0.3557462990283966, valid Accuracy Partial: 0.7149999737739563\n"
          ]
        },
        {
          "name": "stderr",
          "output_type": "stream",
          "text": [
            "\n"
          ]
        },
        {
          "name": "stdout",
          "output_type": "stream",
          "text": [
            "speechbrain.utils.checkpoints - Saved an end-of-epoch checkpoint in results/convtasnet/1234/save/CKPT+2025-07-30+02-07-01+00\n",
            "speechbrain.utils.checkpoints - Deleted checkpoint in results/convtasnet/1234/save/CKPT+2025-07-30+02-03-55+00\n",
            "speechbrain.utils.epoch_loop - Going into epoch 160\n",
            "Delta lang loss = 0.15, Delta separate loss = 0.85\n"
          ]
        },
        {
          "name": "stderr",
          "output_type": "stream",
          "text": [
            " 18%|█▊        | 219/1250 [00:29<02:13,  7.73it/s, train_loss=-15]"
          ]
        },
        {
          "name": "stdout",
          "output_type": "stream",
          "text": [
            "__main__ - infinite loss or empty loss! it happened 1 times so far - skipping this batch\n"
          ]
        },
        {
          "name": "stderr",
          "output_type": "stream",
          "text": [
            " 97%|█████████▋| 1210/1250 [02:37<00:04,  8.30it/s, train_loss=-14.8]"
          ]
        },
        {
          "name": "stdout",
          "output_type": "stream",
          "text": [
            "__main__ - infinite loss or empty loss! it happened 2 times so far - skipping this batch\n"
          ]
        },
        {
          "name": "stderr",
          "output_type": "stream",
          "text": [
            "100%|██████████| 1250/1250 [02:42<00:00,  7.68it/s, train_loss=-14.8]\n"
          ]
        },
        {
          "name": "stdout",
          "output_type": "stream",
          "text": [
            "__main__ - Removed file /content/drive/MyDrive/Project/results_140\n",
            "__main__ - Saved file succesfully\n",
            "Delta lang loss = 0.15, Delta separate loss = 0.85\n"
          ]
        },
        {
          "name": "stderr",
          "output_type": "stream",
          "text": [
            "100%|██████████| 500/500 [00:22<00:00, 22.38it/s]"
          ]
        },
        {
          "name": "stdout",
          "output_type": "stream",
          "text": [
            "speechbrain.utils.train_logger - epoch: 160, lr: 1.00e-05 - train final_loss: -1.48e+01 - valid final_loss: -9.59e+00, valid Accuracy soft: 0.35823705792427063, valid Accuracy Partial: 0.7200000286102295\n"
          ]
        },
        {
          "name": "stderr",
          "output_type": "stream",
          "text": [
            "\n"
          ]
        },
        {
          "name": "stdout",
          "output_type": "stream",
          "text": [
            "speechbrain.utils.checkpoints - Saved an end-of-epoch checkpoint in results/convtasnet/1234/save/CKPT+2025-07-30+02-10-08+00\n",
            "speechbrain.utils.checkpoints - Deleted checkpoint in results/convtasnet/1234/save/CKPT+2025-07-30+02-07-01+00\n",
            "speechbrain.utils.epoch_loop - Going into epoch 161\n",
            "Delta lang loss = 0.15, Delta separate loss = 0.85\n"
          ]
        },
        {
          "name": "stderr",
          "output_type": "stream",
          "text": [
            " 97%|█████████▋| 1210/1250 [02:38<00:04,  8.23it/s, train_loss=-14.9]"
          ]
        },
        {
          "name": "stdout",
          "output_type": "stream",
          "text": [
            "__main__ - infinite loss or empty loss! it happened 1 times so far - skipping this batch\n"
          ]
        },
        {
          "name": "stderr",
          "output_type": "stream",
          "text": [
            "100%|██████████| 1250/1250 [02:43<00:00,  7.65it/s, train_loss=-14.9]\n"
          ]
        },
        {
          "name": "stdout",
          "output_type": "stream",
          "text": [
            "Delta lang loss = 0.15, Delta separate loss = 0.85\n"
          ]
        },
        {
          "name": "stderr",
          "output_type": "stream",
          "text": [
            "100%|██████████| 500/500 [00:21<00:00, 22.74it/s]"
          ]
        },
        {
          "name": "stdout",
          "output_type": "stream",
          "text": [
            "speechbrain.utils.train_logger - epoch: 161, lr: 1.00e-05 - train final_loss: -1.49e+01 - valid final_loss: -9.47e+00, valid Accuracy soft: 0.3531009554862976, valid Accuracy Partial: 0.7129999995231628\n"
          ]
        },
        {
          "name": "stderr",
          "output_type": "stream",
          "text": [
            "\n"
          ]
        },
        {
          "name": "stdout",
          "output_type": "stream",
          "text": [
            "speechbrain.utils.checkpoints - Saved an end-of-epoch checkpoint in results/convtasnet/1234/save/CKPT+2025-07-30+02-13-14+00\n",
            "speechbrain.utils.checkpoints - Deleted checkpoint in results/convtasnet/1234/save/CKPT+2025-07-30+02-10-08+00\n",
            "speechbrain.utils.epoch_loop - Going into epoch 162\n",
            "Delta lang loss = 0.15, Delta separate loss = 0.85\n"
          ]
        },
        {
          "name": "stderr",
          "output_type": "stream",
          "text": [
            " 97%|█████████▋| 1210/1250 [02:37<00:04,  8.49it/s, train_loss=-14.9]"
          ]
        },
        {
          "name": "stdout",
          "output_type": "stream",
          "text": [
            "__main__ - infinite loss or empty loss! it happened 1 times so far - skipping this batch\n"
          ]
        },
        {
          "name": "stderr",
          "output_type": "stream",
          "text": [
            "100%|██████████| 1250/1250 [02:43<00:00,  7.66it/s, train_loss=-14.9]\n"
          ]
        },
        {
          "name": "stdout",
          "output_type": "stream",
          "text": [
            "Delta lang loss = 0.15, Delta separate loss = 0.85\n"
          ]
        },
        {
          "name": "stderr",
          "output_type": "stream",
          "text": [
            "100%|██████████| 500/500 [00:21<00:00, 22.99it/s]"
          ]
        },
        {
          "name": "stdout",
          "output_type": "stream",
          "text": [
            "speechbrain.utils.train_logger - epoch: 162, lr: 1.00e-05 - train final_loss: -1.49e+01 - valid final_loss: -9.55e+00, valid Accuracy soft: 0.355527400970459, valid Accuracy Partial: 0.7139999866485596\n"
          ]
        },
        {
          "name": "stderr",
          "output_type": "stream",
          "text": [
            "\n"
          ]
        },
        {
          "name": "stdout",
          "output_type": "stream",
          "text": [
            "speechbrain.utils.checkpoints - Saved an end-of-epoch checkpoint in results/convtasnet/1234/save/CKPT+2025-07-30+02-16-20+00\n",
            "speechbrain.utils.checkpoints - Deleted checkpoint in results/convtasnet/1234/save/CKPT+2025-07-30+02-13-14+00\n",
            "speechbrain.utils.epoch_loop - Going into epoch 163\n",
            "Delta lang loss = 0.15, Delta separate loss = 0.85\n"
          ]
        },
        {
          "name": "stderr",
          "output_type": "stream",
          "text": [
            " 97%|█████████▋| 1210/1250 [02:38<00:05,  7.90it/s, train_loss=-14.9]"
          ]
        },
        {
          "name": "stdout",
          "output_type": "stream",
          "text": [
            "__main__ - infinite loss or empty loss! it happened 1 times so far - skipping this batch\n"
          ]
        },
        {
          "name": "stderr",
          "output_type": "stream",
          "text": [
            "100%|██████████| 1250/1250 [02:43<00:00,  7.65it/s, train_loss=-14.9]\n"
          ]
        },
        {
          "name": "stdout",
          "output_type": "stream",
          "text": [
            "Delta lang loss = 0.15, Delta separate loss = 0.85\n"
          ]
        },
        {
          "name": "stderr",
          "output_type": "stream",
          "text": [
            "100%|██████████| 500/500 [00:21<00:00, 22.97it/s]"
          ]
        },
        {
          "name": "stdout",
          "output_type": "stream",
          "text": [
            "speechbrain.utils.train_logger - epoch: 163, lr: 1.00e-05 - train final_loss: -1.49e+01 - valid final_loss: -9.31e+00, valid Accuracy soft: 0.34754323959350586, valid Accuracy Partial: 0.7009999752044678\n"
          ]
        },
        {
          "name": "stderr",
          "output_type": "stream",
          "text": [
            "\n"
          ]
        },
        {
          "name": "stdout",
          "output_type": "stream",
          "text": [
            "speechbrain.utils.checkpoints - Saved an end-of-epoch checkpoint in results/convtasnet/1234/save/CKPT+2025-07-30+02-19-26+00\n",
            "speechbrain.utils.checkpoints - Deleted checkpoint in results/convtasnet/1234/save/CKPT+2025-07-30+02-16-20+00\n",
            "speechbrain.utils.epoch_loop - Going into epoch 164\n",
            "Delta lang loss = 0.15, Delta separate loss = 0.85\n"
          ]
        },
        {
          "name": "stderr",
          "output_type": "stream",
          "text": [
            " 18%|█▊        | 219/1250 [00:29<02:19,  7.40it/s, train_loss=-15]"
          ]
        },
        {
          "name": "stdout",
          "output_type": "stream",
          "text": [
            "__main__ - infinite loss or empty loss! it happened 1 times so far - skipping this batch\n"
          ]
        },
        {
          "name": "stderr",
          "output_type": "stream",
          "text": [
            " 97%|█████████▋| 1210/1250 [02:37<00:04,  8.50it/s, train_loss=-14.9]"
          ]
        },
        {
          "name": "stdout",
          "output_type": "stream",
          "text": [
            "__main__ - infinite loss or empty loss! it happened 2 times so far - skipping this batch\n"
          ]
        },
        {
          "name": "stderr",
          "output_type": "stream",
          "text": [
            "100%|██████████| 1250/1250 [02:43<00:00,  7.67it/s, train_loss=-14.9]\n"
          ]
        },
        {
          "name": "stdout",
          "output_type": "stream",
          "text": [
            "Delta lang loss = 0.15, Delta separate loss = 0.85\n"
          ]
        },
        {
          "name": "stderr",
          "output_type": "stream",
          "text": [
            "100%|██████████| 500/500 [00:21<00:00, 22.93it/s]"
          ]
        },
        {
          "name": "stdout",
          "output_type": "stream",
          "text": [
            "speechbrain.utils.train_logger - epoch: 164, lr: 1.00e-05 - train final_loss: -1.49e+01 - valid final_loss: -9.09e+00, valid Accuracy soft: 0.3414647877216339, valid Accuracy Partial: 0.6890000104904175\n"
          ]
        },
        {
          "name": "stderr",
          "output_type": "stream",
          "text": [
            "\n"
          ]
        },
        {
          "name": "stdout",
          "output_type": "stream",
          "text": [
            "speechbrain.utils.checkpoints - Saved an end-of-epoch checkpoint in results/convtasnet/1234/save/CKPT+2025-07-30+02-22-32+00\n",
            "speechbrain.utils.checkpoints - Deleted checkpoint in results/convtasnet/1234/save/CKPT+2025-07-30+02-19-26+00\n",
            "speechbrain.utils.epoch_loop - Going into epoch 165\n",
            "Delta lang loss = 0.15, Delta separate loss = 0.85\n"
          ]
        },
        {
          "name": "stderr",
          "output_type": "stream",
          "text": [
            " 18%|█▊        | 219/1250 [00:29<02:12,  7.76it/s, train_loss=-15]"
          ]
        },
        {
          "name": "stdout",
          "output_type": "stream",
          "text": [
            "__main__ - infinite loss or empty loss! it happened 1 times so far - skipping this batch\n"
          ]
        },
        {
          "name": "stderr",
          "output_type": "stream",
          "text": [
            " 97%|█████████▋| 1210/1250 [02:37<00:04,  8.16it/s, train_loss=-14.9]"
          ]
        },
        {
          "name": "stdout",
          "output_type": "stream",
          "text": [
            "__main__ - infinite loss or empty loss! it happened 2 times so far - skipping this batch\n"
          ]
        },
        {
          "name": "stderr",
          "output_type": "stream",
          "text": [
            "100%|██████████| 1250/1250 [02:42<00:00,  7.67it/s, train_loss=-14.9]\n"
          ]
        },
        {
          "name": "stdout",
          "output_type": "stream",
          "text": [
            "Delta lang loss = 0.15, Delta separate loss = 0.85\n"
          ]
        },
        {
          "name": "stderr",
          "output_type": "stream",
          "text": [
            "100%|██████████| 500/500 [00:21<00:00, 23.03it/s]"
          ]
        },
        {
          "name": "stdout",
          "output_type": "stream",
          "text": [
            "speechbrain.utils.train_logger - epoch: 165, lr: 1.00e-05 - train final_loss: -1.49e+01 - valid final_loss: -9.35e+00, valid Accuracy soft: 0.34909453988075256, valid Accuracy Partial: 0.6970000267028809\n"
          ]
        },
        {
          "name": "stderr",
          "output_type": "stream",
          "text": [
            "\n"
          ]
        },
        {
          "name": "stdout",
          "output_type": "stream",
          "text": [
            "speechbrain.utils.checkpoints - Saved an end-of-epoch checkpoint in results/convtasnet/1234/save/CKPT+2025-07-30+02-25-37+00\n",
            "speechbrain.utils.checkpoints - Deleted checkpoint in results/convtasnet/1234/save/CKPT+2025-07-30+02-22-32+00\n",
            "speechbrain.utils.epoch_loop - Going into epoch 166\n",
            "Delta lang loss = 0.15, Delta separate loss = 0.85\n"
          ]
        },
        {
          "name": "stderr",
          "output_type": "stream",
          "text": [
            " 18%|█▊        | 219/1250 [00:29<02:10,  7.91it/s, train_loss=-15]"
          ]
        },
        {
          "name": "stdout",
          "output_type": "stream",
          "text": [
            "__main__ - infinite loss or empty loss! it happened 1 times so far - skipping this batch\n"
          ]
        },
        {
          "name": "stderr",
          "output_type": "stream",
          "text": [
            " 97%|█████████▋| 1210/1250 [02:37<00:04,  8.41it/s, train_loss=-14.9]"
          ]
        },
        {
          "name": "stdout",
          "output_type": "stream",
          "text": [
            "__main__ - infinite loss or empty loss! it happened 2 times so far - skipping this batch\n"
          ]
        },
        {
          "name": "stderr",
          "output_type": "stream",
          "text": [
            "100%|██████████| 1250/1250 [02:42<00:00,  7.67it/s, train_loss=-14.9]\n"
          ]
        },
        {
          "name": "stdout",
          "output_type": "stream",
          "text": [
            "Delta lang loss = 0.15, Delta separate loss = 0.85\n"
          ]
        },
        {
          "name": "stderr",
          "output_type": "stream",
          "text": [
            "100%|██████████| 500/500 [00:21<00:00, 23.09it/s]"
          ]
        },
        {
          "name": "stdout",
          "output_type": "stream",
          "text": [
            "speechbrain.utils.train_logger - epoch: 166, lr: 1.00e-05 - train final_loss: -1.49e+01 - valid final_loss: -9.31e+00, valid Accuracy soft: 0.34706851840019226, valid Accuracy Partial: 0.6990000009536743\n"
          ]
        },
        {
          "name": "stderr",
          "output_type": "stream",
          "text": [
            "\n"
          ]
        },
        {
          "name": "stdout",
          "output_type": "stream",
          "text": [
            "speechbrain.utils.checkpoints - Saved an end-of-epoch checkpoint in results/convtasnet/1234/save/CKPT+2025-07-30+02-28-42+00\n",
            "speechbrain.utils.checkpoints - Deleted checkpoint in results/convtasnet/1234/save/CKPT+2025-07-30+02-25-37+00\n",
            "speechbrain.utils.epoch_loop - Going into epoch 167\n",
            "Delta lang loss = 0.15, Delta separate loss = 0.85\n"
          ]
        },
        {
          "name": "stderr",
          "output_type": "stream",
          "text": [
            " 18%|█▊        | 219/1250 [00:29<02:12,  7.79it/s, train_loss=-15]"
          ]
        },
        {
          "name": "stdout",
          "output_type": "stream",
          "text": [
            "__main__ - infinite loss or empty loss! it happened 1 times so far - skipping this batch\n"
          ]
        },
        {
          "name": "stderr",
          "output_type": "stream",
          "text": [
            " 97%|█████████▋| 1210/1250 [02:37<00:04,  8.41it/s, train_loss=-14.9]"
          ]
        },
        {
          "name": "stdout",
          "output_type": "stream",
          "text": [
            "__main__ - infinite loss or empty loss! it happened 2 times so far - skipping this batch\n"
          ]
        },
        {
          "name": "stderr",
          "output_type": "stream",
          "text": [
            "100%|██████████| 1250/1250 [02:43<00:00,  7.66it/s, train_loss=-14.9]\n"
          ]
        },
        {
          "name": "stdout",
          "output_type": "stream",
          "text": [
            "Delta lang loss = 0.15, Delta separate loss = 0.85\n"
          ]
        },
        {
          "name": "stderr",
          "output_type": "stream",
          "text": [
            "100%|██████████| 500/500 [00:21<00:00, 23.00it/s]"
          ]
        },
        {
          "name": "stdout",
          "output_type": "stream",
          "text": [
            "speechbrain.utils.train_logger - epoch: 167, lr: 1.00e-05 - train final_loss: -1.49e+01 - valid final_loss: -9.29e+00, valid Accuracy soft: 0.34762755036354065, valid Accuracy Partial: 0.703000009059906\n"
          ]
        },
        {
          "name": "stderr",
          "output_type": "stream",
          "text": [
            "\n"
          ]
        },
        {
          "name": "stdout",
          "output_type": "stream",
          "text": [
            "speechbrain.utils.checkpoints - Saved an end-of-epoch checkpoint in results/convtasnet/1234/save/CKPT+2025-07-30+02-31-48+00\n",
            "speechbrain.utils.checkpoints - Deleted checkpoint in results/convtasnet/1234/save/CKPT+2025-07-30+02-28-42+00\n",
            "speechbrain.utils.epoch_loop - Going into epoch 168\n",
            "Delta lang loss = 0.15, Delta separate loss = 0.85\n"
          ]
        },
        {
          "name": "stderr",
          "output_type": "stream",
          "text": [
            " 18%|█▊        | 219/1250 [00:29<02:32,  6.74it/s, train_loss=-15]"
          ]
        },
        {
          "name": "stdout",
          "output_type": "stream",
          "text": [
            "__main__ - infinite loss or empty loss! it happened 1 times so far - skipping this batch\n"
          ]
        },
        {
          "name": "stderr",
          "output_type": "stream",
          "text": [
            " 97%|█████████▋| 1210/1250 [02:41<00:04,  8.31it/s, train_loss=-14.9]"
          ]
        },
        {
          "name": "stdout",
          "output_type": "stream",
          "text": [
            "__main__ - infinite loss or empty loss! it happened 2 times so far - skipping this batch\n"
          ]
        },
        {
          "name": "stderr",
          "output_type": "stream",
          "text": [
            "100%|██████████| 1250/1250 [02:46<00:00,  7.49it/s, train_loss=-14.9]\n"
          ]
        },
        {
          "name": "stdout",
          "output_type": "stream",
          "text": [
            "Delta lang loss = 0.15, Delta separate loss = 0.85\n"
          ]
        },
        {
          "name": "stderr",
          "output_type": "stream",
          "text": [
            "100%|██████████| 500/500 [00:22<00:00, 22.38it/s]"
          ]
        },
        {
          "name": "stdout",
          "output_type": "stream",
          "text": [
            "speechbrain.utils.train_logger - epoch: 168, lr: 1.00e-05 - train final_loss: -1.49e+01 - valid final_loss: -9.41e+00, valid Accuracy soft: 0.3514990210533142, valid Accuracy Partial: 0.7059999704360962\n"
          ]
        },
        {
          "name": "stderr",
          "output_type": "stream",
          "text": [
            "\n"
          ]
        },
        {
          "name": "stdout",
          "output_type": "stream",
          "text": [
            "speechbrain.utils.checkpoints - Saved an end-of-epoch checkpoint in results/convtasnet/1234/save/CKPT+2025-07-30+02-34-58+00\n",
            "speechbrain.utils.checkpoints - Deleted checkpoint in results/convtasnet/1234/save/CKPT+2025-07-30+02-31-48+00\n",
            "speechbrain.utils.epoch_loop - Going into epoch 169\n",
            "Delta lang loss = 0.15, Delta separate loss = 0.85\n"
          ]
        },
        {
          "name": "stderr",
          "output_type": "stream",
          "text": [
            " 97%|█████████▋| 1210/1250 [02:37<00:04,  8.20it/s, train_loss=-14.9]"
          ]
        },
        {
          "name": "stdout",
          "output_type": "stream",
          "text": [
            "__main__ - infinite loss or empty loss! it happened 1 times so far - skipping this batch\n"
          ]
        },
        {
          "name": "stderr",
          "output_type": "stream",
          "text": [
            "100%|██████████| 1250/1250 [02:43<00:00,  7.63it/s, train_loss=-14.9]\n"
          ]
        },
        {
          "name": "stdout",
          "output_type": "stream",
          "text": [
            "Delta lang loss = 0.15, Delta separate loss = 0.85\n"
          ]
        },
        {
          "name": "stderr",
          "output_type": "stream",
          "text": [
            "100%|██████████| 500/500 [00:21<00:00, 22.77it/s]"
          ]
        },
        {
          "name": "stdout",
          "output_type": "stream",
          "text": [
            "speechbrain.utils.train_logger - epoch: 169, lr: 1.00e-05 - train final_loss: -1.49e+01 - valid final_loss: -9.51e+00, valid Accuracy soft: 0.3535537123680115, valid Accuracy Partial: 0.7080000042915344\n"
          ]
        },
        {
          "name": "stderr",
          "output_type": "stream",
          "text": [
            "\n"
          ]
        },
        {
          "name": "stdout",
          "output_type": "stream",
          "text": [
            "speechbrain.utils.checkpoints - Saved an end-of-epoch checkpoint in results/convtasnet/1234/save/CKPT+2025-07-30+02-38-05+00\n",
            "speechbrain.utils.checkpoints - Deleted checkpoint in results/convtasnet/1234/save/CKPT+2025-07-30+02-34-58+00\n",
            "speechbrain.utils.epoch_loop - Going into epoch 170\n",
            "Delta lang loss = 0.15, Delta separate loss = 0.85\n"
          ]
        },
        {
          "name": "stderr",
          "output_type": "stream",
          "text": [
            " 97%|█████████▋| 1210/1250 [02:40<00:04,  8.28it/s, train_loss=-14.9]"
          ]
        },
        {
          "name": "stdout",
          "output_type": "stream",
          "text": [
            "__main__ - infinite loss or empty loss! it happened 1 times so far - skipping this batch\n"
          ]
        },
        {
          "name": "stderr",
          "output_type": "stream",
          "text": [
            "100%|██████████| 1250/1250 [02:45<00:00,  7.54it/s, train_loss=-14.9]\n"
          ]
        },
        {
          "name": "stdout",
          "output_type": "stream",
          "text": [
            "Delta lang loss = 0.15, Delta separate loss = 0.85\n"
          ]
        },
        {
          "name": "stderr",
          "output_type": "stream",
          "text": [
            "100%|██████████| 500/500 [00:21<00:00, 23.01it/s]"
          ]
        },
        {
          "name": "stdout",
          "output_type": "stream",
          "text": [
            "speechbrain.utils.train_logger - epoch: 170, lr: 1.00e-05 - train final_loss: -1.49e+01 - valid final_loss: -9.45e+00, valid Accuracy soft: 0.35219550132751465, valid Accuracy Partial: 0.7089999914169312\n"
          ]
        },
        {
          "name": "stderr",
          "output_type": "stream",
          "text": [
            "\n"
          ]
        },
        {
          "name": "stdout",
          "output_type": "stream",
          "text": [
            "speechbrain.utils.checkpoints - Saved an end-of-epoch checkpoint in results/convtasnet/1234/save/CKPT+2025-07-30+02-41-13+00\n",
            "speechbrain.utils.checkpoints - Deleted checkpoint in results/convtasnet/1234/save/CKPT+2025-07-30+02-38-05+00\n",
            "speechbrain.utils.epoch_loop - Going into epoch 171\n",
            "Delta lang loss = 0.15, Delta separate loss = 0.85\n"
          ]
        },
        {
          "name": "stderr",
          "output_type": "stream",
          "text": [
            " 18%|█▊        | 219/1250 [00:29<02:15,  7.63it/s, train_loss=-15]"
          ]
        },
        {
          "name": "stdout",
          "output_type": "stream",
          "text": [
            "__main__ - infinite loss or empty loss! it happened 1 times so far - skipping this batch\n"
          ]
        },
        {
          "name": "stderr",
          "output_type": "stream",
          "text": [
            " 66%|██████▋   | 830/1250 [01:48<00:55,  7.54it/s, train_loss=-14.9]"
          ]
        },
        {
          "name": "stdout",
          "output_type": "stream",
          "text": [
            "__main__ - infinite loss or empty loss! it happened 2 times so far - skipping this batch\n"
          ]
        },
        {
          "name": "stderr",
          "output_type": "stream",
          "text": [
            " 97%|█████████▋| 1210/1250 [02:38<00:04,  8.35it/s, train_loss=-14.9]"
          ]
        },
        {
          "name": "stdout",
          "output_type": "stream",
          "text": [
            "__main__ - infinite loss or empty loss! it happened 3 times so far - skipping this batch\n"
          ]
        },
        {
          "name": "stderr",
          "output_type": "stream",
          "text": [
            "100%|██████████| 1250/1250 [02:43<00:00,  7.63it/s, train_loss=-14.8]\n"
          ]
        },
        {
          "name": "stdout",
          "output_type": "stream",
          "text": [
            "Delta lang loss = 0.15, Delta separate loss = 0.85\n"
          ]
        },
        {
          "name": "stderr",
          "output_type": "stream",
          "text": [
            "100%|██████████| 500/500 [00:22<00:00, 22.63it/s]"
          ]
        },
        {
          "name": "stdout",
          "output_type": "stream",
          "text": [
            "speechbrain.utils.train_logger - epoch: 171, lr: 1.00e-05 - train final_loss: -1.48e+01 - valid final_loss: -9.53e+00, valid Accuracy soft: 0.3538060486316681, valid Accuracy Partial: 0.7080000042915344\n"
          ]
        },
        {
          "name": "stderr",
          "output_type": "stream",
          "text": [
            "\n"
          ]
        },
        {
          "name": "stdout",
          "output_type": "stream",
          "text": [
            "speechbrain.utils.checkpoints - Saved an end-of-epoch checkpoint in results/convtasnet/1234/save/CKPT+2025-07-30+02-44-20+00\n",
            "speechbrain.utils.checkpoints - Deleted checkpoint in results/convtasnet/1234/save/CKPT+2025-07-30+02-41-13+00\n",
            "speechbrain.utils.epoch_loop - Going into epoch 172\n",
            "Delta lang loss = 0.15, Delta separate loss = 0.85\n"
          ]
        },
        {
          "name": "stderr",
          "output_type": "stream",
          "text": [
            " 18%|█▊        | 219/1250 [00:29<02:16,  7.53it/s, train_loss=-15]"
          ]
        },
        {
          "name": "stdout",
          "output_type": "stream",
          "text": [
            "__main__ - infinite loss or empty loss! it happened 1 times so far - skipping this batch\n"
          ]
        },
        {
          "name": "stderr",
          "output_type": "stream",
          "text": [
            " 97%|█████████▋| 1210/1250 [02:38<00:04,  8.36it/s, train_loss=-14.9]"
          ]
        },
        {
          "name": "stdout",
          "output_type": "stream",
          "text": [
            "__main__ - infinite loss or empty loss! it happened 2 times so far - skipping this batch\n"
          ]
        },
        {
          "name": "stderr",
          "output_type": "stream",
          "text": [
            "100%|██████████| 1250/1250 [02:43<00:00,  7.65it/s, train_loss=-14.9]\n"
          ]
        },
        {
          "name": "stdout",
          "output_type": "stream",
          "text": [
            "Delta lang loss = 0.15, Delta separate loss = 0.85\n"
          ]
        },
        {
          "name": "stderr",
          "output_type": "stream",
          "text": [
            "100%|██████████| 500/500 [00:21<00:00, 22.92it/s]"
          ]
        },
        {
          "name": "stdout",
          "output_type": "stream",
          "text": [
            "speechbrain.utils.train_logger - epoch: 172, lr: 1.00e-05 - train final_loss: -1.49e+01 - valid final_loss: -9.52e+00, valid Accuracy soft: 0.3550054132938385, valid Accuracy Partial: 0.7139999866485596\n"
          ]
        },
        {
          "name": "stderr",
          "output_type": "stream",
          "text": [
            "\n"
          ]
        },
        {
          "name": "stdout",
          "output_type": "stream",
          "text": [
            "speechbrain.utils.checkpoints - Saved an end-of-epoch checkpoint in results/convtasnet/1234/save/CKPT+2025-07-30+02-47-26+00\n",
            "speechbrain.utils.checkpoints - Deleted checkpoint in results/convtasnet/1234/save/CKPT+2025-07-30+02-44-20+00\n",
            "speechbrain.utils.epoch_loop - Going into epoch 173\n",
            "Delta lang loss = 0.15, Delta separate loss = 0.85\n"
          ]
        },
        {
          "name": "stderr",
          "output_type": "stream",
          "text": [
            " 18%|█▊        | 219/1250 [00:29<02:11,  7.81it/s, train_loss=-15]"
          ]
        },
        {
          "name": "stdout",
          "output_type": "stream",
          "text": [
            "__main__ - infinite loss or empty loss! it happened 1 times so far - skipping this batch\n"
          ]
        },
        {
          "name": "stderr",
          "output_type": "stream",
          "text": [
            " 66%|██████▋   | 830/1250 [01:49<00:54,  7.72it/s, train_loss=-14.9]"
          ]
        },
        {
          "name": "stdout",
          "output_type": "stream",
          "text": [
            "__main__ - infinite loss or empty loss! it happened 2 times so far - skipping this batch\n"
          ]
        },
        {
          "name": "stderr",
          "output_type": "stream",
          "text": [
            " 97%|█████████▋| 1210/1250 [02:38<00:04,  8.37it/s, train_loss=-14.9]"
          ]
        },
        {
          "name": "stdout",
          "output_type": "stream",
          "text": [
            "__main__ - infinite loss or empty loss! it happened 3 times so far - skipping this batch\n"
          ]
        },
        {
          "name": "stderr",
          "output_type": "stream",
          "text": [
            "100%|██████████| 1250/1250 [02:44<00:00,  7.62it/s, train_loss=-14.9]\n"
          ]
        },
        {
          "name": "stdout",
          "output_type": "stream",
          "text": [
            "Delta lang loss = 0.15, Delta separate loss = 0.85\n"
          ]
        },
        {
          "name": "stderr",
          "output_type": "stream",
          "text": [
            "100%|██████████| 500/500 [00:21<00:00, 22.93it/s]"
          ]
        },
        {
          "name": "stdout",
          "output_type": "stream",
          "text": [
            "speechbrain.utils.train_logger - epoch: 173, lr: 1.00e-05 - train final_loss: -1.49e+01 - valid final_loss: -9.57e+00, valid Accuracy soft: 0.3563757836818695, valid Accuracy Partial: 0.7210000157356262\n"
          ]
        },
        {
          "name": "stderr",
          "output_type": "stream",
          "text": [
            "\n"
          ]
        },
        {
          "name": "stdout",
          "output_type": "stream",
          "text": [
            "speechbrain.utils.checkpoints - Saved an end-of-epoch checkpoint in results/convtasnet/1234/save/CKPT+2025-07-30+02-50-32+00\n",
            "speechbrain.utils.checkpoints - Deleted checkpoint in results/convtasnet/1234/save/CKPT+2025-07-30+02-47-26+00\n",
            "speechbrain.utils.epoch_loop - Going into epoch 174\n",
            "Delta lang loss = 0.15, Delta separate loss = 0.85\n"
          ]
        },
        {
          "name": "stderr",
          "output_type": "stream",
          "text": [
            " 18%|█▊        | 219/1250 [00:29<02:15,  7.59it/s, train_loss=-15]"
          ]
        },
        {
          "name": "stdout",
          "output_type": "stream",
          "text": [
            "__main__ - infinite loss or empty loss! it happened 1 times so far - skipping this batch\n"
          ]
        },
        {
          "name": "stderr",
          "output_type": "stream",
          "text": [
            " 97%|█████████▋| 1210/1250 [02:37<00:04,  8.52it/s, train_loss=-14.9]"
          ]
        },
        {
          "name": "stdout",
          "output_type": "stream",
          "text": [
            "__main__ - infinite loss or empty loss! it happened 2 times so far - skipping this batch\n"
          ]
        },
        {
          "name": "stderr",
          "output_type": "stream",
          "text": [
            "100%|██████████| 1250/1250 [02:42<00:00,  7.68it/s, train_loss=-14.9]\n"
          ]
        },
        {
          "name": "stdout",
          "output_type": "stream",
          "text": [
            "Delta lang loss = 0.15, Delta separate loss = 0.85\n"
          ]
        },
        {
          "name": "stderr",
          "output_type": "stream",
          "text": [
            "100%|██████████| 500/500 [00:21<00:00, 23.03it/s]"
          ]
        },
        {
          "name": "stdout",
          "output_type": "stream",
          "text": [
            "speechbrain.utils.train_logger - epoch: 174, lr: 1.00e-05 - train final_loss: -1.49e+01 - valid final_loss: -9.61e+00, valid Accuracy soft: 0.3589669167995453, valid Accuracy Partial: 0.722000002861023\n"
          ]
        },
        {
          "name": "stderr",
          "output_type": "stream",
          "text": [
            "\n"
          ]
        },
        {
          "name": "stdout",
          "output_type": "stream",
          "text": [
            "speechbrain.utils.checkpoints - Saved an end-of-epoch checkpoint in results/convtasnet/1234/save/CKPT+2025-07-30+02-53-38+00\n",
            "speechbrain.utils.checkpoints - Deleted checkpoint in results/convtasnet/1234/save/CKPT+2025-07-30+02-50-32+00\n",
            "speechbrain.utils.epoch_loop - Going into epoch 175\n",
            "Delta lang loss = 0.15, Delta separate loss = 0.85\n"
          ]
        },
        {
          "name": "stderr",
          "output_type": "stream",
          "text": [
            " 18%|█▊        | 219/1250 [00:29<02:13,  7.70it/s, train_loss=-15]"
          ]
        },
        {
          "name": "stdout",
          "output_type": "stream",
          "text": [
            "__main__ - infinite loss or empty loss! it happened 1 times so far - skipping this batch\n"
          ]
        },
        {
          "name": "stderr",
          "output_type": "stream",
          "text": [
            " 97%|█████████▋| 1210/1250 [02:37<00:04,  8.05it/s, train_loss=-14.9]"
          ]
        },
        {
          "name": "stdout",
          "output_type": "stream",
          "text": [
            "__main__ - infinite loss or empty loss! it happened 2 times so far - skipping this batch\n"
          ]
        },
        {
          "name": "stderr",
          "output_type": "stream",
          "text": [
            "100%|██████████| 1250/1250 [02:42<00:00,  7.68it/s, train_loss=-14.9]\n"
          ]
        },
        {
          "name": "stdout",
          "output_type": "stream",
          "text": [
            "Delta lang loss = 0.15, Delta separate loss = 0.85\n"
          ]
        },
        {
          "name": "stderr",
          "output_type": "stream",
          "text": [
            "100%|██████████| 500/500 [00:21<00:00, 22.86it/s]"
          ]
        },
        {
          "name": "stdout",
          "output_type": "stream",
          "text": [
            "speechbrain.utils.train_logger - epoch: 175, lr: 1.00e-05 - train final_loss: -1.49e+01 - valid final_loss: -9.60e+00, valid Accuracy soft: 0.35977599024772644, valid Accuracy Partial: 0.7260000109672546\n"
          ]
        },
        {
          "name": "stderr",
          "output_type": "stream",
          "text": [
            "\n"
          ]
        },
        {
          "name": "stdout",
          "output_type": "stream",
          "text": [
            "speechbrain.utils.checkpoints - Saved an end-of-epoch checkpoint in results/convtasnet/1234/save/CKPT+2025-07-30+02-56-43+00\n",
            "speechbrain.utils.checkpoints - Deleted checkpoint in results/convtasnet/1234/save/CKPT+2025-07-30+02-53-38+00\n",
            "speechbrain.utils.epoch_loop - Going into epoch 176\n",
            "Delta lang loss = 0.15, Delta separate loss = 0.85\n"
          ]
        },
        {
          "name": "stderr",
          "output_type": "stream",
          "text": [
            " 97%|█████████▋| 1210/1250 [02:37<00:04,  8.23it/s, train_loss=-14.9]"
          ]
        },
        {
          "name": "stdout",
          "output_type": "stream",
          "text": [
            "__main__ - infinite loss or empty loss! it happened 1 times so far - skipping this batch\n"
          ]
        },
        {
          "name": "stderr",
          "output_type": "stream",
          "text": [
            "100%|██████████| 1250/1250 [02:43<00:00,  7.67it/s, train_loss=-14.9]\n"
          ]
        },
        {
          "name": "stdout",
          "output_type": "stream",
          "text": [
            "Delta lang loss = 0.15, Delta separate loss = 0.85\n"
          ]
        },
        {
          "name": "stderr",
          "output_type": "stream",
          "text": [
            "100%|██████████| 500/500 [00:21<00:00, 22.88it/s]"
          ]
        },
        {
          "name": "stdout",
          "output_type": "stream",
          "text": [
            "speechbrain.utils.train_logger - epoch: 176, lr: 1.00e-05 - train final_loss: -1.49e+01 - valid final_loss: -9.60e+00, valid Accuracy soft: 0.35883915424346924, valid Accuracy Partial: 0.7260000109672546\n"
          ]
        },
        {
          "name": "stderr",
          "output_type": "stream",
          "text": [
            "\n"
          ]
        },
        {
          "name": "stdout",
          "output_type": "stream",
          "text": [
            "speechbrain.utils.checkpoints - Saved an end-of-epoch checkpoint in results/convtasnet/1234/save/CKPT+2025-07-30+02-59-49+00\n",
            "speechbrain.utils.checkpoints - Deleted checkpoint in results/convtasnet/1234/save/CKPT+2025-07-30+02-56-43+00\n",
            "speechbrain.utils.epoch_loop - Going into epoch 177\n",
            "Delta lang loss = 0.15, Delta separate loss = 0.85\n"
          ]
        },
        {
          "name": "stderr",
          "output_type": "stream",
          "text": [
            " 18%|█▊        | 219/1250 [00:29<02:14,  7.64it/s, train_loss=-15]"
          ]
        },
        {
          "name": "stdout",
          "output_type": "stream",
          "text": [
            "__main__ - infinite loss or empty loss! it happened 1 times so far - skipping this batch\n"
          ]
        },
        {
          "name": "stderr",
          "output_type": "stream",
          "text": [
            " 97%|█████████▋| 1210/1250 [02:37<00:04,  8.10it/s, train_loss=-14.9]"
          ]
        },
        {
          "name": "stdout",
          "output_type": "stream",
          "text": [
            "__main__ - infinite loss or empty loss! it happened 2 times so far - skipping this batch\n"
          ]
        },
        {
          "name": "stderr",
          "output_type": "stream",
          "text": [
            "100%|██████████| 1250/1250 [02:43<00:00,  7.66it/s, train_loss=-14.9]\n"
          ]
        },
        {
          "name": "stdout",
          "output_type": "stream",
          "text": [
            "Delta lang loss = 0.15, Delta separate loss = 0.85\n"
          ]
        },
        {
          "name": "stderr",
          "output_type": "stream",
          "text": [
            "100%|██████████| 500/500 [00:21<00:00, 22.93it/s]"
          ]
        },
        {
          "name": "stdout",
          "output_type": "stream",
          "text": [
            "speechbrain.utils.train_logger - epoch: 177, lr: 1.00e-05 - train final_loss: -1.49e+01 - valid final_loss: -9.62e+00, valid Accuracy soft: 0.35817456245422363, valid Accuracy Partial: 0.7260000109672546\n"
          ]
        },
        {
          "name": "stderr",
          "output_type": "stream",
          "text": [
            "\n"
          ]
        },
        {
          "name": "stdout",
          "output_type": "stream",
          "text": [
            "speechbrain.utils.checkpoints - Saved an end-of-epoch checkpoint in results/convtasnet/1234/save/CKPT+2025-07-30+03-02-55+00\n",
            "speechbrain.utils.checkpoints - Deleted checkpoint in results/convtasnet/1234/save/CKPT+2025-07-30+02-59-49+00\n",
            "speechbrain.utils.epoch_loop - Going into epoch 178\n",
            "Delta lang loss = 0.15, Delta separate loss = 0.85\n"
          ]
        },
        {
          "name": "stderr",
          "output_type": "stream",
          "text": [
            " 66%|██████▋   | 830/1250 [01:48<00:53,  7.84it/s, train_loss=-14.9]"
          ]
        },
        {
          "name": "stdout",
          "output_type": "stream",
          "text": [
            "__main__ - infinite loss or empty loss! it happened 1 times so far - skipping this batch\n"
          ]
        },
        {
          "name": "stderr",
          "output_type": "stream",
          "text": [
            " 97%|█████████▋| 1210/1250 [02:38<00:04,  8.02it/s, train_loss=-14.9]"
          ]
        },
        {
          "name": "stdout",
          "output_type": "stream",
          "text": [
            "__main__ - infinite loss or empty loss! it happened 2 times so far - skipping this batch\n"
          ]
        },
        {
          "name": "stderr",
          "output_type": "stream",
          "text": [
            "100%|██████████| 1250/1250 [02:43<00:00,  7.65it/s, train_loss=-14.9]\n"
          ]
        },
        {
          "name": "stdout",
          "output_type": "stream",
          "text": [
            "Delta lang loss = 0.15, Delta separate loss = 0.85\n"
          ]
        },
        {
          "name": "stderr",
          "output_type": "stream",
          "text": [
            "100%|██████████| 500/500 [00:22<00:00, 22.66it/s]"
          ]
        },
        {
          "name": "stdout",
          "output_type": "stream",
          "text": [
            "speechbrain.utils.train_logger - epoch: 178, lr: 1.00e-05 - train final_loss: -1.49e+01 - valid final_loss: -9.56e+00, valid Accuracy soft: 0.3558836281299591, valid Accuracy Partial: 0.7160000205039978\n"
          ]
        },
        {
          "name": "stderr",
          "output_type": "stream",
          "text": [
            "\n"
          ]
        },
        {
          "name": "stdout",
          "output_type": "stream",
          "text": [
            "speechbrain.utils.checkpoints - Saved an end-of-epoch checkpoint in results/convtasnet/1234/save/CKPT+2025-07-30+03-06-02+00\n",
            "speechbrain.utils.checkpoints - Deleted checkpoint in results/convtasnet/1234/save/CKPT+2025-07-30+03-02-55+00\n",
            "speechbrain.utils.epoch_loop - Going into epoch 179\n",
            "Delta lang loss = 0.15, Delta separate loss = 0.85\n"
          ]
        },
        {
          "name": "stderr",
          "output_type": "stream",
          "text": [
            " 97%|█████████▋| 1210/1250 [02:38<00:04,  8.26it/s, train_loss=-14.9]"
          ]
        },
        {
          "name": "stdout",
          "output_type": "stream",
          "text": [
            "__main__ - infinite loss or empty loss! it happened 1 times so far - skipping this batch\n"
          ]
        },
        {
          "name": "stderr",
          "output_type": "stream",
          "text": [
            "100%|██████████| 1250/1250 [02:44<00:00,  7.61it/s, train_loss=-14.9]\n"
          ]
        },
        {
          "name": "stdout",
          "output_type": "stream",
          "text": [
            "Delta lang loss = 0.15, Delta separate loss = 0.85\n"
          ]
        },
        {
          "name": "stderr",
          "output_type": "stream",
          "text": [
            "100%|██████████| 500/500 [00:21<00:00, 22.74it/s]"
          ]
        },
        {
          "name": "stdout",
          "output_type": "stream",
          "text": [
            "speechbrain.utils.train_logger - epoch: 179, lr: 1.00e-05 - train final_loss: -1.49e+01 - valid final_loss: -9.34e+00, valid Accuracy soft: 0.3472226560115814, valid Accuracy Partial: 0.699999988079071\n"
          ]
        },
        {
          "name": "stderr",
          "output_type": "stream",
          "text": [
            "\n"
          ]
        },
        {
          "name": "stdout",
          "output_type": "stream",
          "text": [
            "speechbrain.utils.checkpoints - Saved an end-of-epoch checkpoint in results/convtasnet/1234/save/CKPT+2025-07-30+03-09-09+00\n",
            "speechbrain.utils.checkpoints - Deleted checkpoint in results/convtasnet/1234/save/CKPT+2025-07-30+03-06-02+00\n",
            "speechbrain.utils.epoch_loop - Going into epoch 180\n",
            "Delta lang loss = 0.15, Delta separate loss = 0.85\n"
          ]
        },
        {
          "name": "stderr",
          "output_type": "stream",
          "text": [
            " 97%|█████████▋| 1210/1250 [02:38<00:04,  8.43it/s, train_loss=-14.9]"
          ]
        },
        {
          "name": "stdout",
          "output_type": "stream",
          "text": [
            "__main__ - infinite loss or empty loss! it happened 1 times so far - skipping this batch\n"
          ]
        },
        {
          "name": "stderr",
          "output_type": "stream",
          "text": [
            "100%|██████████| 1250/1250 [02:44<00:00,  7.61it/s, train_loss=-14.9]\n"
          ]
        },
        {
          "name": "stdout",
          "output_type": "stream",
          "text": [
            "__main__ - Removed file /content/drive/MyDrive/Project/results_160\n",
            "__main__ - Saved file succesfully\n",
            "Delta lang loss = 0.15, Delta separate loss = 0.85\n"
          ]
        },
        {
          "name": "stderr",
          "output_type": "stream",
          "text": [
            "100%|██████████| 500/500 [00:22<00:00, 22.70it/s]"
          ]
        },
        {
          "name": "stdout",
          "output_type": "stream",
          "text": [
            "speechbrain.utils.train_logger - epoch: 180, lr: 1.00e-05 - train final_loss: -1.49e+01 - valid final_loss: -9.34e+00, valid Accuracy soft: 0.3485526144504547, valid Accuracy Partial: 0.7039999961853027\n"
          ]
        },
        {
          "name": "stderr",
          "output_type": "stream",
          "text": [
            "\n"
          ]
        },
        {
          "name": "stdout",
          "output_type": "stream",
          "text": [
            "speechbrain.utils.checkpoints - Saved an end-of-epoch checkpoint in results/convtasnet/1234/save/CKPT+2025-07-30+03-12-17+00\n",
            "speechbrain.utils.checkpoints - Deleted checkpoint in results/convtasnet/1234/save/CKPT+2025-07-30+03-09-09+00\n",
            "speechbrain.utils.epoch_loop - Going into epoch 181\n",
            "Delta lang loss = 0.15, Delta separate loss = 0.85\n"
          ]
        },
        {
          "name": "stderr",
          "output_type": "stream",
          "text": [
            " 97%|█████████▋| 1210/1250 [02:37<00:04,  8.67it/s, train_loss=-14.9]"
          ]
        },
        {
          "name": "stdout",
          "output_type": "stream",
          "text": [
            "__main__ - infinite loss or empty loss! it happened 1 times so far - skipping this batch\n"
          ]
        },
        {
          "name": "stderr",
          "output_type": "stream",
          "text": [
            "100%|██████████| 1250/1250 [02:42<00:00,  7.68it/s, train_loss=-14.9]\n"
          ]
        },
        {
          "name": "stdout",
          "output_type": "stream",
          "text": [
            "Delta lang loss = 0.15, Delta separate loss = 0.85\n"
          ]
        },
        {
          "name": "stderr",
          "output_type": "stream",
          "text": [
            "100%|██████████| 500/500 [00:21<00:00, 23.03it/s]"
          ]
        },
        {
          "name": "stdout",
          "output_type": "stream",
          "text": [
            "speechbrain.utils.train_logger - epoch: 181, lr: 1.00e-05 - train final_loss: -1.49e+01 - valid final_loss: -9.35e+00, valid Accuracy soft: 0.3482172191143036, valid Accuracy Partial: 0.7009999752044678\n"
          ]
        },
        {
          "name": "stderr",
          "output_type": "stream",
          "text": [
            "\n"
          ]
        },
        {
          "name": "stdout",
          "output_type": "stream",
          "text": [
            "speechbrain.utils.checkpoints - Saved an end-of-epoch checkpoint in results/convtasnet/1234/save/CKPT+2025-07-30+03-15-22+00\n",
            "speechbrain.utils.checkpoints - Deleted checkpoint in results/convtasnet/1234/save/CKPT+2025-07-30+03-12-17+00\n",
            "speechbrain.utils.epoch_loop - Going into epoch 182\n",
            "Delta lang loss = 0.15, Delta separate loss = 0.85\n"
          ]
        },
        {
          "name": "stderr",
          "output_type": "stream",
          "text": [
            " 97%|█████████▋| 1210/1250 [02:40<00:04,  8.53it/s, train_loss=-14.9]"
          ]
        },
        {
          "name": "stdout",
          "output_type": "stream",
          "text": [
            "__main__ - infinite loss or empty loss! it happened 1 times so far - skipping this batch\n"
          ]
        },
        {
          "name": "stderr",
          "output_type": "stream",
          "text": [
            "100%|██████████| 1250/1250 [02:45<00:00,  7.55it/s, train_loss=-14.9]\n"
          ]
        },
        {
          "name": "stdout",
          "output_type": "stream",
          "text": [
            "Delta lang loss = 0.15, Delta separate loss = 0.85\n"
          ]
        },
        {
          "name": "stderr",
          "output_type": "stream",
          "text": [
            "100%|██████████| 500/500 [00:21<00:00, 23.03it/s]"
          ]
        },
        {
          "name": "stdout",
          "output_type": "stream",
          "text": [
            "speechbrain.utils.train_logger - epoch: 182, lr: 1.00e-05 - train final_loss: -1.49e+01 - valid final_loss: -9.37e+00, valid Accuracy soft: 0.34857797622680664, valid Accuracy Partial: 0.7039999961853027\n"
          ]
        },
        {
          "name": "stderr",
          "output_type": "stream",
          "text": [
            "\n"
          ]
        },
        {
          "name": "stdout",
          "output_type": "stream",
          "text": [
            "speechbrain.utils.checkpoints - Saved an end-of-epoch checkpoint in results/convtasnet/1234/save/CKPT+2025-07-30+03-18-30+00\n",
            "speechbrain.utils.checkpoints - Deleted checkpoint in results/convtasnet/1234/save/CKPT+2025-07-30+03-15-22+00\n",
            "speechbrain.utils.epoch_loop - Going into epoch 183\n",
            "Delta lang loss = 0.15, Delta separate loss = 0.85\n"
          ]
        },
        {
          "name": "stderr",
          "output_type": "stream",
          "text": [
            " 66%|██████▋   | 830/1250 [01:50<00:54,  7.77it/s, train_loss=-14.9]"
          ]
        },
        {
          "name": "stdout",
          "output_type": "stream",
          "text": [
            "__main__ - infinite loss or empty loss! it happened 1 times so far - skipping this batch\n"
          ]
        },
        {
          "name": "stderr",
          "output_type": "stream",
          "text": [
            " 97%|█████████▋| 1210/1250 [02:40<00:04,  8.27it/s, train_loss=-14.9]"
          ]
        },
        {
          "name": "stdout",
          "output_type": "stream",
          "text": [
            "__main__ - infinite loss or empty loss! it happened 2 times so far - skipping this batch\n"
          ]
        },
        {
          "name": "stderr",
          "output_type": "stream",
          "text": [
            "100%|██████████| 1250/1250 [02:45<00:00,  7.55it/s, train_loss=-14.9]\n"
          ]
        },
        {
          "name": "stdout",
          "output_type": "stream",
          "text": [
            "Delta lang loss = 0.15, Delta separate loss = 0.85\n"
          ]
        },
        {
          "name": "stderr",
          "output_type": "stream",
          "text": [
            "100%|██████████| 500/500 [00:22<00:00, 22.67it/s]"
          ]
        },
        {
          "name": "stdout",
          "output_type": "stream",
          "text": [
            "speechbrain.utils.train_logger - epoch: 183, lr: 1.00e-05 - train final_loss: -1.49e+01 - valid final_loss: -9.29e+00, valid Accuracy soft: 0.3457244634628296, valid Accuracy Partial: 0.6959999799728394\n"
          ]
        },
        {
          "name": "stderr",
          "output_type": "stream",
          "text": [
            "\n"
          ]
        },
        {
          "name": "stdout",
          "output_type": "stream",
          "text": [
            "speechbrain.utils.checkpoints - Saved an end-of-epoch checkpoint in results/convtasnet/1234/save/CKPT+2025-07-30+03-21-39+00\n",
            "speechbrain.utils.checkpoints - Deleted checkpoint in results/convtasnet/1234/save/CKPT+2025-07-30+03-18-30+00\n",
            "speechbrain.utils.epoch_loop - Going into epoch 184\n",
            "Delta lang loss = 0.15, Delta separate loss = 0.85\n"
          ]
        },
        {
          "name": "stderr",
          "output_type": "stream",
          "text": [
            " 66%|██████▋   | 830/1250 [01:51<00:54,  7.69it/s, train_loss=-14.9]"
          ]
        },
        {
          "name": "stdout",
          "output_type": "stream",
          "text": [
            "__main__ - infinite loss or empty loss! it happened 1 times so far - skipping this batch\n"
          ]
        },
        {
          "name": "stderr",
          "output_type": "stream",
          "text": [
            " 97%|█████████▋| 1210/1250 [02:41<00:04,  8.10it/s, train_loss=-14.9]"
          ]
        },
        {
          "name": "stdout",
          "output_type": "stream",
          "text": [
            "__main__ - infinite loss or empty loss! it happened 2 times so far - skipping this batch\n"
          ]
        },
        {
          "name": "stderr",
          "output_type": "stream",
          "text": [
            "100%|██████████| 1250/1250 [02:46<00:00,  7.49it/s, train_loss=-14.9]\n"
          ]
        },
        {
          "name": "stdout",
          "output_type": "stream",
          "text": [
            "Delta lang loss = 0.15, Delta separate loss = 0.85\n"
          ]
        },
        {
          "name": "stderr",
          "output_type": "stream",
          "text": [
            "100%|██████████| 500/500 [00:22<00:00, 22.62it/s]"
          ]
        },
        {
          "name": "stdout",
          "output_type": "stream",
          "text": [
            "speechbrain.utils.train_logger - epoch: 184, lr: 1.00e-05 - train final_loss: -1.49e+01 - valid final_loss: -9.05e+00, valid Accuracy soft: 0.3399781584739685, valid Accuracy Partial: 0.6890000104904175\n"
          ]
        },
        {
          "name": "stderr",
          "output_type": "stream",
          "text": [
            "\n"
          ]
        },
        {
          "name": "stdout",
          "output_type": "stream",
          "text": [
            "speechbrain.utils.checkpoints - Saved an end-of-epoch checkpoint in results/convtasnet/1234/save/CKPT+2025-07-30+03-24-48+00\n",
            "speechbrain.utils.checkpoints - Deleted checkpoint in results/convtasnet/1234/save/CKPT+2025-07-30+03-21-39+00\n",
            "speechbrain.utils.epoch_loop - Going into epoch 185\n",
            "Delta lang loss = 0.15, Delta separate loss = 0.85\n"
          ]
        },
        {
          "name": "stderr",
          "output_type": "stream",
          "text": [
            " 18%|█▊        | 219/1250 [00:29<02:16,  7.56it/s, train_loss=-15]"
          ]
        },
        {
          "name": "stdout",
          "output_type": "stream",
          "text": [
            "__main__ - infinite loss or empty loss! it happened 1 times so far - skipping this batch\n"
          ]
        },
        {
          "name": "stderr",
          "output_type": "stream",
          "text": [
            " 66%|██████▋   | 830/1250 [01:50<00:54,  7.64it/s, train_loss=-14.9]"
          ]
        },
        {
          "name": "stdout",
          "output_type": "stream",
          "text": [
            "__main__ - infinite loss or empty loss! it happened 2 times so far - skipping this batch\n"
          ]
        },
        {
          "name": "stderr",
          "output_type": "stream",
          "text": [
            " 97%|█████████▋| 1210/1250 [02:40<00:04,  8.25it/s, train_loss=-14.9]"
          ]
        },
        {
          "name": "stdout",
          "output_type": "stream",
          "text": [
            "__main__ - infinite loss or empty loss! it happened 3 times so far - skipping this batch\n"
          ]
        },
        {
          "name": "stderr",
          "output_type": "stream",
          "text": [
            "100%|██████████| 1250/1250 [02:45<00:00,  7.55it/s, train_loss=-14.9]\n"
          ]
        },
        {
          "name": "stdout",
          "output_type": "stream",
          "text": [
            "Delta lang loss = 0.15, Delta separate loss = 0.85\n"
          ]
        },
        {
          "name": "stderr",
          "output_type": "stream",
          "text": [
            "100%|██████████| 500/500 [00:22<00:00, 22.43it/s]"
          ]
        },
        {
          "name": "stdout",
          "output_type": "stream",
          "text": [
            "speechbrain.utils.train_logger - epoch: 185, lr: 1.00e-05 - train final_loss: -1.49e+01 - valid final_loss: -9.09e+00, valid Accuracy soft: 0.3409419059753418, valid Accuracy Partial: 0.6880000233650208\n"
          ]
        },
        {
          "name": "stderr",
          "output_type": "stream",
          "text": [
            "\n"
          ]
        },
        {
          "name": "stdout",
          "output_type": "stream",
          "text": [
            "speechbrain.utils.checkpoints - Saved an end-of-epoch checkpoint in results/convtasnet/1234/save/CKPT+2025-07-30+03-27-57+00\n",
            "speechbrain.utils.checkpoints - Deleted checkpoint in results/convtasnet/1234/save/CKPT+2025-07-30+03-24-48+00\n",
            "speechbrain.utils.epoch_loop - Going into epoch 186\n",
            "Delta lang loss = 0.15, Delta separate loss = 0.85\n"
          ]
        },
        {
          "name": "stderr",
          "output_type": "stream",
          "text": [
            " 97%|█████████▋| 1210/1250 [02:40<00:04,  8.19it/s, train_loss=-14.9]"
          ]
        },
        {
          "name": "stdout",
          "output_type": "stream",
          "text": [
            "__main__ - infinite loss or empty loss! it happened 1 times so far - skipping this batch\n"
          ]
        },
        {
          "name": "stderr",
          "output_type": "stream",
          "text": [
            "100%|██████████| 1250/1250 [02:45<00:00,  7.53it/s, train_loss=-14.9]\n"
          ]
        },
        {
          "name": "stdout",
          "output_type": "stream",
          "text": [
            "Delta lang loss = 0.15, Delta separate loss = 0.85\n"
          ]
        },
        {
          "name": "stderr",
          "output_type": "stream",
          "text": [
            "100%|██████████| 500/500 [00:22<00:00, 22.55it/s]"
          ]
        },
        {
          "name": "stdout",
          "output_type": "stream",
          "text": [
            "speechbrain.utils.train_logger - epoch: 186, lr: 1.00e-05 - train final_loss: -1.49e+01 - valid final_loss: -9.12e+00, valid Accuracy soft: 0.3406401574611664, valid Accuracy Partial: 0.6890000104904175\n"
          ]
        },
        {
          "name": "stderr",
          "output_type": "stream",
          "text": [
            "\n"
          ]
        },
        {
          "name": "stdout",
          "output_type": "stream",
          "text": [
            "speechbrain.utils.checkpoints - Saved an end-of-epoch checkpoint in results/convtasnet/1234/save/CKPT+2025-07-30+03-31-06+00\n",
            "speechbrain.utils.checkpoints - Deleted checkpoint in results/convtasnet/1234/save/CKPT+2025-07-30+03-27-57+00\n",
            "speechbrain.utils.epoch_loop - Going into epoch 187\n",
            "Delta lang loss = 0.15, Delta separate loss = 0.85\n"
          ]
        },
        {
          "name": "stderr",
          "output_type": "stream",
          "text": [
            " 97%|█████████▋| 1210/1250 [02:41<00:04,  8.42it/s, train_loss=-14.9]"
          ]
        },
        {
          "name": "stdout",
          "output_type": "stream",
          "text": [
            "__main__ - infinite loss or empty loss! it happened 1 times so far - skipping this batch\n"
          ]
        },
        {
          "name": "stderr",
          "output_type": "stream",
          "text": [
            "100%|██████████| 1250/1250 [02:46<00:00,  7.50it/s, train_loss=-14.9]\n"
          ]
        },
        {
          "name": "stdout",
          "output_type": "stream",
          "text": [
            "Delta lang loss = 0.15, Delta separate loss = 0.85\n"
          ]
        },
        {
          "name": "stderr",
          "output_type": "stream",
          "text": [
            "100%|██████████| 500/500 [00:22<00:00, 22.63it/s]"
          ]
        },
        {
          "name": "stdout",
          "output_type": "stream",
          "text": [
            "speechbrain.utils.train_logger - epoch: 187, lr: 1.00e-05 - train final_loss: -1.49e+01 - valid final_loss: -9.37e+00, valid Accuracy soft: 0.34584280848503113, valid Accuracy Partial: 0.6980000138282776\n"
          ]
        },
        {
          "name": "stderr",
          "output_type": "stream",
          "text": [
            "\n"
          ]
        },
        {
          "name": "stdout",
          "output_type": "stream",
          "text": [
            "speechbrain.utils.checkpoints - Saved an end-of-epoch checkpoint in results/convtasnet/1234/save/CKPT+2025-07-30+03-34-16+00\n",
            "speechbrain.utils.checkpoints - Deleted checkpoint in results/convtasnet/1234/save/CKPT+2025-07-30+03-31-06+00\n",
            "speechbrain.utils.epoch_loop - Going into epoch 188\n",
            "Delta lang loss = 0.15, Delta separate loss = 0.85\n"
          ]
        },
        {
          "name": "stderr",
          "output_type": "stream",
          "text": [
            " 97%|█████████▋| 1210/1250 [02:40<00:04,  8.34it/s, train_loss=-15]"
          ]
        },
        {
          "name": "stdout",
          "output_type": "stream",
          "text": [
            "__main__ - infinite loss or empty loss! it happened 1 times so far - skipping this batch\n"
          ]
        },
        {
          "name": "stderr",
          "output_type": "stream",
          "text": [
            "100%|██████████| 1250/1250 [02:45<00:00,  7.53it/s, train_loss=-14.9]\n"
          ]
        },
        {
          "name": "stdout",
          "output_type": "stream",
          "text": [
            "Delta lang loss = 0.15, Delta separate loss = 0.85\n"
          ]
        },
        {
          "name": "stderr",
          "output_type": "stream",
          "text": [
            "100%|██████████| 500/500 [00:21<00:00, 22.75it/s]"
          ]
        },
        {
          "name": "stdout",
          "output_type": "stream",
          "text": [
            "speechbrain.utils.train_logger - epoch: 188, lr: 1.00e-05 - train final_loss: -1.49e+01 - valid final_loss: -9.12e+00, valid Accuracy soft: 0.3391937017440796, valid Accuracy Partial: 0.6880000233650208\n"
          ]
        },
        {
          "name": "stderr",
          "output_type": "stream",
          "text": [
            "\n"
          ]
        },
        {
          "name": "stdout",
          "output_type": "stream",
          "text": [
            "speechbrain.utils.checkpoints - Saved an end-of-epoch checkpoint in results/convtasnet/1234/save/CKPT+2025-07-30+03-37-25+00\n",
            "speechbrain.utils.checkpoints - Deleted checkpoint in results/convtasnet/1234/save/CKPT+2025-07-30+03-34-16+00\n",
            "speechbrain.utils.epoch_loop - Going into epoch 189\n",
            "Delta lang loss = 0.15, Delta separate loss = 0.85\n"
          ]
        },
        {
          "name": "stderr",
          "output_type": "stream",
          "text": [
            " 18%|█▊        | 219/1250 [00:29<02:16,  7.54it/s, train_loss=-15.1]"
          ]
        },
        {
          "name": "stdout",
          "output_type": "stream",
          "text": [
            "__main__ - infinite loss or empty loss! it happened 1 times so far - skipping this batch\n"
          ]
        },
        {
          "name": "stderr",
          "output_type": "stream",
          "text": [
            " 66%|██████▋   | 830/1250 [01:50<00:56,  7.46it/s, train_loss=-14.9]"
          ]
        },
        {
          "name": "stdout",
          "output_type": "stream",
          "text": [
            "__main__ - infinite loss or empty loss! it happened 2 times so far - skipping this batch\n"
          ]
        },
        {
          "name": "stderr",
          "output_type": "stream",
          "text": [
            " 97%|█████████▋| 1210/1250 [02:40<00:04,  8.39it/s, train_loss=-14.9]"
          ]
        },
        {
          "name": "stdout",
          "output_type": "stream",
          "text": [
            "__main__ - infinite loss or empty loss! it happened 3 times so far - skipping this batch\n"
          ]
        },
        {
          "name": "stderr",
          "output_type": "stream",
          "text": [
            "100%|██████████| 1250/1250 [02:46<00:00,  7.52it/s, train_loss=-14.9]\n"
          ]
        },
        {
          "name": "stdout",
          "output_type": "stream",
          "text": [
            "Delta lang loss = 0.15, Delta separate loss = 0.85\n"
          ]
        },
        {
          "name": "stderr",
          "output_type": "stream",
          "text": [
            "100%|██████████| 500/500 [00:22<00:00, 22.57it/s]"
          ]
        },
        {
          "name": "stdout",
          "output_type": "stream",
          "text": [
            "speechbrain.utils.train_logger - epoch: 189, lr: 1.00e-05 - train final_loss: -1.49e+01 - valid final_loss: -9.20e+00, valid Accuracy soft: 0.34066444635391235, valid Accuracy Partial: 0.6840000152587891\n"
          ]
        },
        {
          "name": "stderr",
          "output_type": "stream",
          "text": [
            "\n"
          ]
        },
        {
          "name": "stdout",
          "output_type": "stream",
          "text": [
            "speechbrain.utils.checkpoints - Saved an end-of-epoch checkpoint in results/convtasnet/1234/save/CKPT+2025-07-30+03-40-34+00\n",
            "speechbrain.utils.checkpoints - Deleted checkpoint in results/convtasnet/1234/save/CKPT+2025-07-30+03-37-25+00\n",
            "speechbrain.utils.epoch_loop - Going into epoch 190\n",
            "Delta lang loss = 0.15, Delta separate loss = 0.85\n"
          ]
        },
        {
          "name": "stderr",
          "output_type": "stream",
          "text": [
            " 18%|█▊        | 219/1250 [00:30<02:20,  7.32it/s, train_loss=-15.1]"
          ]
        },
        {
          "name": "stdout",
          "output_type": "stream",
          "text": [
            "__main__ - infinite loss or empty loss! it happened 1 times so far - skipping this batch\n"
          ]
        },
        {
          "name": "stderr",
          "output_type": "stream",
          "text": [
            " 66%|██████▋   | 830/1250 [01:50<00:55,  7.61it/s, train_loss=-14.9]"
          ]
        },
        {
          "name": "stdout",
          "output_type": "stream",
          "text": [
            "__main__ - infinite loss or empty loss! it happened 2 times so far - skipping this batch\n"
          ]
        },
        {
          "name": "stderr",
          "output_type": "stream",
          "text": [
            " 97%|█████████▋| 1210/1250 [02:40<00:04,  8.21it/s, train_loss=-14.9]"
          ]
        },
        {
          "name": "stdout",
          "output_type": "stream",
          "text": [
            "__main__ - infinite loss or empty loss! it happened 3 times so far - skipping this batch\n"
          ]
        },
        {
          "name": "stderr",
          "output_type": "stream",
          "text": [
            "100%|██████████| 1250/1250 [02:45<00:00,  7.54it/s, train_loss=-14.9]\n"
          ]
        },
        {
          "name": "stdout",
          "output_type": "stream",
          "text": [
            "Delta lang loss = 0.15, Delta separate loss = 0.85\n"
          ]
        },
        {
          "name": "stderr",
          "output_type": "stream",
          "text": [
            "100%|██████████| 500/500 [00:22<00:00, 22.57it/s]"
          ]
        },
        {
          "name": "stdout",
          "output_type": "stream",
          "text": [
            "speechbrain.utils.train_logger - epoch: 190, lr: 1.00e-05 - train final_loss: -1.49e+01 - valid final_loss: -9.23e+00, valid Accuracy soft: 0.3422037661075592, valid Accuracy Partial: 0.6959999799728394\n"
          ]
        },
        {
          "name": "stderr",
          "output_type": "stream",
          "text": [
            "\n"
          ]
        },
        {
          "name": "stdout",
          "output_type": "stream",
          "text": [
            "speechbrain.utils.checkpoints - Saved an end-of-epoch checkpoint in results/convtasnet/1234/save/CKPT+2025-07-30+03-43-43+00\n",
            "speechbrain.utils.checkpoints - Deleted checkpoint in results/convtasnet/1234/save/CKPT+2025-07-30+03-40-34+00\n",
            "speechbrain.utils.epoch_loop - Going into epoch 191\n",
            "Delta lang loss = 0.15, Delta separate loss = 0.85\n"
          ]
        },
        {
          "name": "stderr",
          "output_type": "stream",
          "text": [
            " 66%|██████▋   | 830/1250 [01:50<00:54,  7.65it/s, train_loss=-15]"
          ]
        },
        {
          "name": "stdout",
          "output_type": "stream",
          "text": [
            "__main__ - infinite loss or empty loss! it happened 1 times so far - skipping this batch\n"
          ]
        },
        {
          "name": "stderr",
          "output_type": "stream",
          "text": [
            " 97%|█████████▋| 1210/1250 [02:41<00:04,  8.42it/s, train_loss=-14.9]"
          ]
        },
        {
          "name": "stdout",
          "output_type": "stream",
          "text": [
            "__main__ - infinite loss or empty loss! it happened 2 times so far - skipping this batch\n"
          ]
        },
        {
          "name": "stderr",
          "output_type": "stream",
          "text": [
            "100%|██████████| 1250/1250 [02:46<00:00,  7.51it/s, train_loss=-14.9]\n"
          ]
        },
        {
          "name": "stdout",
          "output_type": "stream",
          "text": [
            "Delta lang loss = 0.15, Delta separate loss = 0.85\n"
          ]
        },
        {
          "name": "stderr",
          "output_type": "stream",
          "text": [
            "100%|██████████| 500/500 [00:22<00:00, 22.72it/s]"
          ]
        },
        {
          "name": "stdout",
          "output_type": "stream",
          "text": [
            "speechbrain.utils.train_logger - epoch: 191, lr: 1.00e-05 - train final_loss: -1.49e+01 - valid final_loss: -8.82e+00, valid Accuracy soft: 0.3327498733997345, valid Accuracy Partial: 0.6769999861717224\n"
          ]
        },
        {
          "name": "stderr",
          "output_type": "stream",
          "text": [
            "\n"
          ]
        },
        {
          "name": "stdout",
          "output_type": "stream",
          "text": [
            "speechbrain.utils.checkpoints - Saved an end-of-epoch checkpoint in results/convtasnet/1234/save/CKPT+2025-07-30+03-46-52+00\n",
            "speechbrain.utils.checkpoints - Deleted checkpoint in results/convtasnet/1234/save/CKPT+2025-07-30+03-43-43+00\n",
            "speechbrain.utils.epoch_loop - Going into epoch 192\n",
            "Delta lang loss = 0.15, Delta separate loss = 0.85\n"
          ]
        },
        {
          "name": "stderr",
          "output_type": "stream",
          "text": [
            " 18%|█▊        | 219/1250 [00:29<02:16,  7.57it/s, train_loss=-15.1]"
          ]
        },
        {
          "name": "stdout",
          "output_type": "stream",
          "text": [
            "__main__ - infinite loss or empty loss! it happened 1 times so far - skipping this batch\n"
          ]
        },
        {
          "name": "stderr",
          "output_type": "stream",
          "text": [
            " 97%|█████████▋| 1210/1250 [02:39<00:04,  8.50it/s, train_loss=-14.9]"
          ]
        },
        {
          "name": "stdout",
          "output_type": "stream",
          "text": [
            "__main__ - infinite loss or empty loss! it happened 2 times so far - skipping this batch\n"
          ]
        },
        {
          "name": "stderr",
          "output_type": "stream",
          "text": [
            "100%|██████████| 1250/1250 [02:45<00:00,  7.56it/s, train_loss=-14.9]\n"
          ]
        },
        {
          "name": "stdout",
          "output_type": "stream",
          "text": [
            "Delta lang loss = 0.15, Delta separate loss = 0.85\n"
          ]
        },
        {
          "name": "stderr",
          "output_type": "stream",
          "text": [
            "100%|██████████| 500/500 [00:22<00:00, 22.71it/s]"
          ]
        },
        {
          "name": "stdout",
          "output_type": "stream",
          "text": [
            "speechbrain.utils.train_logger - epoch: 192, lr: 1.00e-05 - train final_loss: -1.49e+01 - valid final_loss: -8.85e+00, valid Accuracy soft: 0.33527672290802, valid Accuracy Partial: 0.6779999732971191\n"
          ]
        },
        {
          "name": "stderr",
          "output_type": "stream",
          "text": [
            "\n"
          ]
        },
        {
          "name": "stdout",
          "output_type": "stream",
          "text": [
            "speechbrain.utils.checkpoints - Saved an end-of-epoch checkpoint in results/convtasnet/1234/save/CKPT+2025-07-30+03-50-00+00\n",
            "speechbrain.utils.checkpoints - Deleted checkpoint in results/convtasnet/1234/save/CKPT+2025-07-30+03-46-52+00\n",
            "speechbrain.utils.epoch_loop - Going into epoch 193\n",
            "Delta lang loss = 0.15, Delta separate loss = 0.85\n"
          ]
        },
        {
          "name": "stderr",
          "output_type": "stream",
          "text": [
            " 66%|██████▋   | 830/1250 [01:49<00:55,  7.58it/s, train_loss=-15]"
          ]
        },
        {
          "name": "stdout",
          "output_type": "stream",
          "text": [
            "__main__ - infinite loss or empty loss! it happened 1 times so far - skipping this batch\n"
          ]
        },
        {
          "name": "stderr",
          "output_type": "stream",
          "text": [
            " 97%|█████████▋| 1210/1250 [02:39<00:05,  7.98it/s, train_loss=-14.9]"
          ]
        },
        {
          "name": "stdout",
          "output_type": "stream",
          "text": [
            "__main__ - infinite loss or empty loss! it happened 2 times so far - skipping this batch\n"
          ]
        },
        {
          "name": "stderr",
          "output_type": "stream",
          "text": [
            "100%|██████████| 1250/1250 [02:44<00:00,  7.58it/s, train_loss=-14.9]\n"
          ]
        },
        {
          "name": "stdout",
          "output_type": "stream",
          "text": [
            "Delta lang loss = 0.15, Delta separate loss = 0.85\n"
          ]
        },
        {
          "name": "stderr",
          "output_type": "stream",
          "text": [
            "100%|██████████| 500/500 [00:21<00:00, 22.79it/s]"
          ]
        },
        {
          "name": "stdout",
          "output_type": "stream",
          "text": [
            "speechbrain.nnet.schedulers - Changing lr from 1e-05 to 5e-06\n",
            "speechbrain.utils.train_logger - epoch: 193, lr: 1.00e-05 - train final_loss: -1.49e+01 - valid final_loss: -9.12e+00, valid Accuracy soft: 0.3389893174171448, valid Accuracy Partial: 0.6859999895095825\n"
          ]
        },
        {
          "name": "stderr",
          "output_type": "stream",
          "text": [
            "\n"
          ]
        },
        {
          "name": "stdout",
          "output_type": "stream",
          "text": [
            "speechbrain.utils.checkpoints - Saved an end-of-epoch checkpoint in results/convtasnet/1234/save/CKPT+2025-07-30+03-53-08+00\n",
            "speechbrain.utils.checkpoints - Deleted checkpoint in results/convtasnet/1234/save/CKPT+2025-07-30+03-50-00+00\n",
            "speechbrain.utils.epoch_loop - Going into epoch 194\n",
            "Delta lang loss = 0.15, Delta separate loss = 0.85\n"
          ]
        },
        {
          "name": "stderr",
          "output_type": "stream",
          "text": [
            " 18%|█▊        | 219/1250 [00:29<02:18,  7.44it/s, train_loss=-15.1]"
          ]
        },
        {
          "name": "stdout",
          "output_type": "stream",
          "text": [
            "__main__ - infinite loss or empty loss! it happened 1 times so far - skipping this batch\n"
          ]
        },
        {
          "name": "stderr",
          "output_type": "stream",
          "text": [
            " 66%|██████▋   | 830/1250 [01:49<00:54,  7.72it/s, train_loss=-14.9]"
          ]
        },
        {
          "name": "stdout",
          "output_type": "stream",
          "text": [
            "__main__ - infinite loss or empty loss! it happened 2 times so far - skipping this batch\n"
          ]
        },
        {
          "name": "stderr",
          "output_type": "stream",
          "text": [
            " 97%|█████████▋| 1210/1250 [02:39<00:04,  8.40it/s, train_loss=-14.9]"
          ]
        },
        {
          "name": "stdout",
          "output_type": "stream",
          "text": [
            "__main__ - infinite loss or empty loss! it happened 3 times so far - skipping this batch\n"
          ]
        },
        {
          "name": "stderr",
          "output_type": "stream",
          "text": [
            "100%|██████████| 1250/1250 [02:44<00:00,  7.60it/s, train_loss=-14.9]\n"
          ]
        },
        {
          "name": "stdout",
          "output_type": "stream",
          "text": [
            "Delta lang loss = 0.15, Delta separate loss = 0.85\n"
          ]
        },
        {
          "name": "stderr",
          "output_type": "stream",
          "text": [
            "100%|██████████| 500/500 [00:21<00:00, 22.89it/s]"
          ]
        },
        {
          "name": "stdout",
          "output_type": "stream",
          "text": [
            "speechbrain.utils.train_logger - epoch: 194, lr: 5.00e-06 - train final_loss: -1.49e+01 - valid final_loss: -8.97e+00, valid Accuracy soft: 0.3372706472873688, valid Accuracy Partial: 0.6819999814033508\n"
          ]
        },
        {
          "name": "stderr",
          "output_type": "stream",
          "text": [
            "\n"
          ]
        },
        {
          "name": "stdout",
          "output_type": "stream",
          "text": [
            "speechbrain.utils.checkpoints - Saved an end-of-epoch checkpoint in results/convtasnet/1234/save/CKPT+2025-07-30+03-56-15+00\n",
            "speechbrain.utils.checkpoints - Deleted checkpoint in results/convtasnet/1234/save/CKPT+2025-07-30+03-53-08+00\n",
            "speechbrain.utils.epoch_loop - Going into epoch 195\n",
            "Delta lang loss = 0.15, Delta separate loss = 0.85\n"
          ]
        },
        {
          "name": "stderr",
          "output_type": "stream",
          "text": [
            " 18%|█▊        | 219/1250 [00:29<02:15,  7.60it/s, train_loss=-15.1]"
          ]
        },
        {
          "name": "stdout",
          "output_type": "stream",
          "text": [
            "__main__ - infinite loss or empty loss! it happened 1 times so far - skipping this batch\n"
          ]
        },
        {
          "name": "stderr",
          "output_type": "stream",
          "text": [
            " 97%|█████████▋| 1210/1250 [02:40<00:04,  8.09it/s, train_loss=-15]"
          ]
        },
        {
          "name": "stdout",
          "output_type": "stream",
          "text": [
            "__main__ - infinite loss or empty loss! it happened 2 times so far - skipping this batch\n"
          ]
        },
        {
          "name": "stderr",
          "output_type": "stream",
          "text": [
            "100%|██████████| 1250/1250 [02:45<00:00,  7.56it/s, train_loss=-14.9]\n"
          ]
        },
        {
          "name": "stdout",
          "output_type": "stream",
          "text": [
            "Delta lang loss = 0.15, Delta separate loss = 0.85\n"
          ]
        },
        {
          "name": "stderr",
          "output_type": "stream",
          "text": [
            "100%|██████████| 500/500 [00:21<00:00, 23.07it/s]"
          ]
        },
        {
          "name": "stdout",
          "output_type": "stream",
          "text": [
            "speechbrain.utils.train_logger - epoch: 195, lr: 5.00e-06 - train final_loss: -1.49e+01 - valid final_loss: -8.82e+00, valid Accuracy soft: 0.3358442485332489, valid Accuracy Partial: 0.6790000200271606\n"
          ]
        },
        {
          "name": "stderr",
          "output_type": "stream",
          "text": [
            "\n"
          ]
        },
        {
          "name": "stdout",
          "output_type": "stream",
          "text": [
            "speechbrain.utils.checkpoints - Saved an end-of-epoch checkpoint in results/convtasnet/1234/save/CKPT+2025-07-30+03-59-23+00\n",
            "speechbrain.utils.checkpoints - Deleted checkpoint in results/convtasnet/1234/save/CKPT+2025-07-30+03-56-15+00\n",
            "speechbrain.utils.epoch_loop - Going into epoch 196\n",
            "Delta lang loss = 0.15, Delta separate loss = 0.85\n"
          ]
        },
        {
          "name": "stderr",
          "output_type": "stream",
          "text": [
            " 18%|█▊        | 219/1250 [00:29<02:18,  7.44it/s, train_loss=-15.1]"
          ]
        },
        {
          "name": "stdout",
          "output_type": "stream",
          "text": [
            "__main__ - infinite loss or empty loss! it happened 1 times so far - skipping this batch\n"
          ]
        },
        {
          "name": "stderr",
          "output_type": "stream",
          "text": [
            " 66%|██████▋   | 830/1250 [01:49<00:53,  7.82it/s, train_loss=-14.9]"
          ]
        },
        {
          "name": "stdout",
          "output_type": "stream",
          "text": [
            "__main__ - infinite loss or empty loss! it happened 2 times so far - skipping this batch\n"
          ]
        },
        {
          "name": "stderr",
          "output_type": "stream",
          "text": [
            " 97%|█████████▋| 1210/1250 [02:38<00:04,  8.49it/s, train_loss=-14.9]"
          ]
        },
        {
          "name": "stdout",
          "output_type": "stream",
          "text": [
            "__main__ - infinite loss or empty loss! it happened 3 times so far - skipping this batch\n"
          ]
        },
        {
          "name": "stderr",
          "output_type": "stream",
          "text": [
            "100%|██████████| 1250/1250 [02:44<00:00,  7.61it/s, train_loss=-14.9]\n"
          ]
        },
        {
          "name": "stdout",
          "output_type": "stream",
          "text": [
            "Delta lang loss = 0.15, Delta separate loss = 0.85\n"
          ]
        },
        {
          "name": "stderr",
          "output_type": "stream",
          "text": [
            "100%|██████████| 500/500 [00:22<00:00, 22.68it/s]"
          ]
        },
        {
          "name": "stdout",
          "output_type": "stream",
          "text": [
            "speechbrain.nnet.schedulers - Changing lr from 5e-06 to 2.5e-06\n",
            "speechbrain.utils.train_logger - epoch: 196, lr: 5.00e-06 - train final_loss: -1.49e+01 - valid final_loss: -9.10e+00, valid Accuracy soft: 0.3403303027153015, valid Accuracy Partial: 0.6899999976158142\n"
          ]
        },
        {
          "name": "stderr",
          "output_type": "stream",
          "text": [
            "\n"
          ]
        },
        {
          "name": "stdout",
          "output_type": "stream",
          "text": [
            "speechbrain.utils.checkpoints - Saved an end-of-epoch checkpoint in results/convtasnet/1234/save/CKPT+2025-07-30+04-02-30+00\n",
            "speechbrain.utils.checkpoints - Deleted checkpoint in results/convtasnet/1234/save/CKPT+2025-07-30+03-59-23+00\n",
            "speechbrain.utils.epoch_loop - Going into epoch 197\n",
            "Delta lang loss = 0.15, Delta separate loss = 0.85\n"
          ]
        },
        {
          "name": "stderr",
          "output_type": "stream",
          "text": [
            " 18%|█▊        | 219/1250 [00:29<02:17,  7.50it/s, train_loss=-15.1]"
          ]
        },
        {
          "name": "stdout",
          "output_type": "stream",
          "text": [
            "__main__ - infinite loss or empty loss! it happened 1 times so far - skipping this batch\n"
          ]
        },
        {
          "name": "stderr",
          "output_type": "stream",
          "text": [
            " 66%|██████▋   | 830/1250 [01:49<00:55,  7.53it/s, train_loss=-14.9]"
          ]
        },
        {
          "name": "stdout",
          "output_type": "stream",
          "text": [
            "__main__ - infinite loss or empty loss! it happened 2 times so far - skipping this batch\n"
          ]
        },
        {
          "name": "stderr",
          "output_type": "stream",
          "text": [
            " 97%|█████████▋| 1210/1250 [02:39<00:04,  8.04it/s, train_loss=-14.9]"
          ]
        },
        {
          "name": "stdout",
          "output_type": "stream",
          "text": [
            "__main__ - infinite loss or empty loss! it happened 3 times so far - skipping this batch\n"
          ]
        },
        {
          "name": "stderr",
          "output_type": "stream",
          "text": [
            "100%|██████████| 1250/1250 [02:44<00:00,  7.59it/s, train_loss=-14.9]\n"
          ]
        },
        {
          "name": "stdout",
          "output_type": "stream",
          "text": [
            "Delta lang loss = 0.15, Delta separate loss = 0.85\n"
          ]
        },
        {
          "name": "stderr",
          "output_type": "stream",
          "text": [
            "100%|██████████| 500/500 [00:21<00:00, 22.93it/s]"
          ]
        },
        {
          "name": "stdout",
          "output_type": "stream",
          "text": [
            "speechbrain.utils.train_logger - epoch: 197, lr: 2.50e-06 - train final_loss: -1.49e+01 - valid final_loss: -9.12e+00, valid Accuracy soft: 0.33995556831359863, valid Accuracy Partial: 0.6880000233650208\n"
          ]
        },
        {
          "name": "stderr",
          "output_type": "stream",
          "text": [
            "\n"
          ]
        },
        {
          "name": "stdout",
          "output_type": "stream",
          "text": [
            "speechbrain.utils.checkpoints - Saved an end-of-epoch checkpoint in results/convtasnet/1234/save/CKPT+2025-07-30+04-05-37+00\n",
            "speechbrain.utils.checkpoints - Deleted checkpoint in results/convtasnet/1234/save/CKPT+2025-07-30+04-02-30+00\n",
            "speechbrain.utils.epoch_loop - Going into epoch 198\n",
            "Delta lang loss = 0.15, Delta separate loss = 0.85\n"
          ]
        },
        {
          "name": "stderr",
          "output_type": "stream",
          "text": [
            " 18%|█▊        | 219/1250 [00:29<02:14,  7.67it/s, train_loss=-15.1]"
          ]
        },
        {
          "name": "stdout",
          "output_type": "stream",
          "text": [
            "__main__ - infinite loss or empty loss! it happened 1 times so far - skipping this batch\n"
          ]
        },
        {
          "name": "stderr",
          "output_type": "stream",
          "text": [
            " 66%|██████▋   | 830/1250 [01:49<00:54,  7.67it/s, train_loss=-15]"
          ]
        },
        {
          "name": "stdout",
          "output_type": "stream",
          "text": [
            "__main__ - infinite loss or empty loss! it happened 2 times so far - skipping this batch\n"
          ]
        },
        {
          "name": "stderr",
          "output_type": "stream",
          "text": [
            " 97%|█████████▋| 1210/1250 [02:38<00:04,  8.29it/s, train_loss=-14.9]"
          ]
        },
        {
          "name": "stdout",
          "output_type": "stream",
          "text": [
            "__main__ - infinite loss or empty loss! it happened 3 times so far - skipping this batch\n"
          ]
        },
        {
          "name": "stderr",
          "output_type": "stream",
          "text": [
            "100%|██████████| 1250/1250 [02:44<00:00,  7.61it/s, train_loss=-14.9]\n"
          ]
        },
        {
          "name": "stdout",
          "output_type": "stream",
          "text": [
            "Delta lang loss = 0.15, Delta separate loss = 0.85\n"
          ]
        },
        {
          "name": "stderr",
          "output_type": "stream",
          "text": [
            "100%|██████████| 500/500 [00:22<00:00, 22.55it/s]"
          ]
        },
        {
          "name": "stdout",
          "output_type": "stream",
          "text": [
            "speechbrain.utils.train_logger - epoch: 198, lr: 2.50e-06 - train final_loss: -1.49e+01 - valid final_loss: -9.09e+00, valid Accuracy soft: 0.3391721248626709, valid Accuracy Partial: 0.6830000281333923\n"
          ]
        },
        {
          "name": "stderr",
          "output_type": "stream",
          "text": [
            "\n"
          ]
        },
        {
          "name": "stdout",
          "output_type": "stream",
          "text": [
            "speechbrain.utils.checkpoints - Saved an end-of-epoch checkpoint in results/convtasnet/1234/save/CKPT+2025-07-30+04-08-45+00\n",
            "speechbrain.utils.checkpoints - Deleted checkpoint in results/convtasnet/1234/save/CKPT+2025-07-30+04-05-37+00\n",
            "speechbrain.utils.epoch_loop - Going into epoch 199\n",
            "Delta lang loss = 0.15, Delta separate loss = 0.85\n"
          ]
        },
        {
          "name": "stderr",
          "output_type": "stream",
          "text": [
            " 66%|██████▋   | 830/1250 [01:48<00:54,  7.66it/s, train_loss=-15]"
          ]
        },
        {
          "name": "stdout",
          "output_type": "stream",
          "text": [
            "__main__ - infinite loss or empty loss! it happened 1 times so far - skipping this batch\n"
          ]
        },
        {
          "name": "stderr",
          "output_type": "stream",
          "text": [
            " 97%|█████████▋| 1210/1250 [02:39<00:04,  8.46it/s, train_loss=-15]"
          ]
        },
        {
          "name": "stdout",
          "output_type": "stream",
          "text": [
            "__main__ - infinite loss or empty loss! it happened 2 times so far - skipping this batch\n"
          ]
        },
        {
          "name": "stderr",
          "output_type": "stream",
          "text": [
            "100%|██████████| 1250/1250 [02:44<00:00,  7.58it/s, train_loss=-15]\n"
          ]
        },
        {
          "name": "stdout",
          "output_type": "stream",
          "text": [
            "Delta lang loss = 0.15, Delta separate loss = 0.85\n"
          ]
        },
        {
          "name": "stderr",
          "output_type": "stream",
          "text": [
            "100%|██████████| 500/500 [00:21<00:00, 22.91it/s]"
          ]
        },
        {
          "name": "stdout",
          "output_type": "stream",
          "text": [
            "speechbrain.nnet.schedulers - Changing lr from 2.5e-06 to 1.3e-06\n",
            "speechbrain.utils.train_logger - epoch: 199, lr: 2.50e-06 - train final_loss: -1.50e+01 - valid final_loss: -9.12e+00, valid Accuracy soft: 0.3399963080883026, valid Accuracy Partial: 0.6869999766349792\n"
          ]
        },
        {
          "name": "stderr",
          "output_type": "stream",
          "text": [
            "\n"
          ]
        },
        {
          "name": "stdout",
          "output_type": "stream",
          "text": [
            "speechbrain.utils.checkpoints - Saved an end-of-epoch checkpoint in results/convtasnet/1234/save/CKPT+2025-07-30+04-11-52+00\n",
            "speechbrain.utils.checkpoints - Deleted checkpoint in results/convtasnet/1234/save/CKPT+2025-07-30+04-08-45+00\n",
            "speechbrain.utils.epoch_loop - Going into epoch 200\n",
            "Delta lang loss = 0.15, Delta separate loss = 0.85\n"
          ]
        },
        {
          "name": "stderr",
          "output_type": "stream",
          "text": [
            " 18%|█▊        | 219/1250 [00:29<02:14,  7.69it/s, train_loss=-15.1]"
          ]
        },
        {
          "name": "stdout",
          "output_type": "stream",
          "text": [
            "__main__ - infinite loss or empty loss! it happened 1 times so far - skipping this batch\n"
          ]
        },
        {
          "name": "stderr",
          "output_type": "stream",
          "text": [
            " 66%|██████▋   | 830/1250 [01:49<00:53,  7.81it/s, train_loss=-15]"
          ]
        },
        {
          "name": "stdout",
          "output_type": "stream",
          "text": [
            "__main__ - infinite loss or empty loss! it happened 2 times so far - skipping this batch\n"
          ]
        },
        {
          "name": "stderr",
          "output_type": "stream",
          "text": [
            " 97%|█████████▋| 1210/1250 [02:38<00:04,  8.01it/s, train_loss=-14.9]"
          ]
        },
        {
          "name": "stdout",
          "output_type": "stream",
          "text": [
            "__main__ - infinite loss or empty loss! it happened 3 times so far - skipping this batch\n"
          ]
        },
        {
          "name": "stderr",
          "output_type": "stream",
          "text": [
            "100%|██████████| 1250/1250 [02:43<00:00,  7.62it/s, train_loss=-14.9]\n"
          ]
        },
        {
          "name": "stdout",
          "output_type": "stream",
          "text": [
            "__main__ - Removed file /content/drive/MyDrive/Project/results_180\n",
            "__main__ - Saved file succesfully\n",
            "Delta lang loss = 0.15, Delta separate loss = 0.85\n"
          ]
        },
        {
          "name": "stderr",
          "output_type": "stream",
          "text": [
            "100%|██████████| 500/500 [00:22<00:00, 22.40it/s]"
          ]
        },
        {
          "name": "stdout",
          "output_type": "stream",
          "text": [
            "speechbrain.utils.train_logger - epoch: 200, lr: 1.25e-06 - train final_loss: -1.49e+01 - valid final_loss: -9.06e+00, valid Accuracy soft: 0.3392622172832489, valid Accuracy Partial: 0.6859999895095825\n"
          ]
        },
        {
          "name": "stderr",
          "output_type": "stream",
          "text": [
            "\n"
          ]
        },
        {
          "name": "stdout",
          "output_type": "stream",
          "text": [
            "speechbrain.utils.checkpoints - Saved an end-of-epoch checkpoint in results/convtasnet/1234/save/CKPT+2025-07-30+04-15-00+00\n",
            "speechbrain.utils.checkpoints - Deleted checkpoint in results/convtasnet/1234/save/CKPT+2025-07-30+04-11-52+00\n"
          ]
        }
      ],
      "source": [
        "# Load hyperparameters file with command-line overrides\n",
        "import os\n",
        "os.environ[\"PYTORCH_CUDA_ALLOC_CONF\"] = \"expandable_segments:True\"\n",
        "\n",
        "import torch\n",
        "torch.cuda.empty_cache()\n",
        "args = [\"/content/hparams/conVasNet_asteroid.yml\"]\n",
        "hparams_file, run_opts, overrides = sb.parse_arguments(args)\n",
        "\n",
        "\n",
        "epochs = 200\n",
        "with open(hparams_file, encoding=\"utf-8\") as fin:\n",
        "  hparams = load_hyperpyyaml(fin, overrides)\n",
        "\n",
        "# Initialize ddp (useful only for multi-GPU DDP training)\n",
        "sb.utils.distributed.ddp_init_group(run_opts)\n",
        "\n",
        "# Logger info\n",
        "logger = get_logger(__name__)\n",
        "\n",
        "# Create experiment directory\n",
        "sb.create_experiment_directory(\n",
        "  experiment_directory=hparams[\"output_folder\"],\n",
        "  hyperparams_to_save=hparams_file,\n",
        "  overrides=overrides,\n",
        ")\n",
        "\n",
        "# Update precision to bf16 if the device is CPU and precision is fp16\n",
        "if run_opts.get(\"device\") == \"cpu\" and hparams.get(\"precision\") == \"fp16\":\n",
        "  hparams[\"precision\"] = \"bf16\"\n",
        "\n",
        "# Check if wsj0_tr is set with dynamic mixing\n",
        "if hparams[\"dynamic_mixing\"] and not os.path.exists(hparams[\"base_folder_dm\"]):\n",
        "  raise ValueError(\"Please, specify a valid base_folder_dm folder when using dynamic mixing\")\n",
        "\n",
        "import sys\n",
        "sys.path.append('/content/')\n",
        "\n",
        "label_encoder = hparams[\"label_encoder\"]\n",
        "label_encoder.expect_len(107) #new Line Added\n",
        "label_encoder.load('/content/label_encoder.txt')\n",
        "# Data preparation\n",
        "from prepare_data import prepare_wsjmix  # noqa\n",
        "\n",
        "run_on_main(\n",
        "    prepare_wsjmix,\n",
        "    kwargs={\n",
        "        \"datapath\": hparams[\"data_folder\"],\n",
        "        \"savepath\": hparams[\"save_folder\"],\n",
        "        \"n_spks\": hparams[\"num_spks\"],\n",
        "        \"skip_prep\": hparams[\"skip_prep\"],\n",
        "        \"fs\": hparams[\"sample_rate\"],\n",
        "    },\n",
        ")\n",
        "\n",
        "# Create dataset objects\n",
        "if hparams[\"dynamic_mixing\"]:\n",
        "    from dynamic_mixing import dynamic_mix_data_prep\n",
        "\n",
        "    # if the base_folder for dm is not processed, preprocess them\n",
        "    if \"processed\" not in hparams[\"base_folder_dm\"]:\n",
        "        # if the processed folder already exists we just use it otherwise we do the preprocessing\n",
        "        if not os.path.exists(\n",
        "            os.path.normpath(hparams[\"base_folder_dm\"]) + \"_processed\"\n",
        "        ):\n",
        "            from preprocess_dynamic_mixing import resample_folder\n",
        "\n",
        "            print(\"Resampling the base folder\")\n",
        "            run_on_main(\n",
        "                resample_folder,\n",
        "                kwargs={\n",
        "                    \"input_folder\": hparams[\"base_folder_dm\"],\n",
        "                    \"output_folder\": os.path.normpath(\n",
        "                        hparams[\"base_folder_dm\"]\n",
        "                    )\n",
        "                    + \"_processed\",\n",
        "                    \"fs\": hparams[\"sample_rate\"],\n",
        "                    \"regex\": \"**/*.wav\",\n",
        "                },\n",
        "            )\n",
        "            # adjust the base_folder_dm path\n",
        "            hparams[\"base_folder_dm\"] = (\n",
        "                os.path.normpath(hparams[\"base_folder_dm\"]) + \"_processed\"\n",
        "            )\n",
        "        else:\n",
        "            print(\n",
        "                \"Using the existing processed folder on the same directory as base_folder_dm\"\n",
        "            )\n",
        "            hparams[\"base_folder_dm\"] = (\n",
        "                os.path.normpath(hparams[\"base_folder_dm\"]) + \"_processed\"\n",
        "            )\n",
        "\n",
        "    # Collecting the hparams for dynamic batching\n",
        "    dm_hparams = {\n",
        "        \"train_data\": hparams[\"train_data\"],\n",
        "        \"data_folder\": hparams[\"data_folder\"],\n",
        "        \"base_folder_dm\": hparams[\"base_folder_dm\"],\n",
        "        \"sample_rate\": hparams[\"sample_rate\"],\n",
        "        \"num_spks\": hparams[\"num_spks\"],\n",
        "        \"training_signal_len\": hparams[\"training_signal_len\"],\n",
        "        \"dataloader_opts\": hparams[\"dataloader_opts\"],\n",
        "    }\n",
        "    train_data = dynamic_mix_data_prep(dm_hparams)\n",
        "    _, valid_data, test_data = dataio_prep(hparams)\n",
        "else:\n",
        "    train_data, valid_data, test_data = dataio_prep(hparams)\n",
        "\n",
        "trainfile_test,sr = torchaudio.load(\"/content/dataset/train/mix/Indian_eng_as_9000.wav\")\n",
        "\n",
        "logger.info(f\"Train sampling rate:{sr}\")\n",
        "\n",
        "# Load pretrained model if pretrained_separator is present in the yaml\n",
        "# if \"pretrained_separator\" in hparams:\n",
        "#     run_on_main(hparams[\"pretrained_separator\"].collect_files, kwargs={\"default_source\": \"speechbrain/sepformer-wsj02mix\"})\n",
        "#     hparams[\"pretrained_separator\"].load_collected()\n",
        "\n",
        "# Brain class initialization\n",
        "separator = MultiTask(\n",
        "    modules=hparams[\"modules\"],\n",
        "    opt_class=hparams[\"optimizer\"],\n",
        "    hparams=hparams,\n",
        "    run_opts=run_opts,\n",
        "    checkpointer=hparams[\"checkpointer\"],\n",
        ")\n",
        "\n",
        "\n",
        "\n",
        "\n",
        "# re-initialize the parameters if we don't use a pretrained model\n",
        "if \"pretrained_separator\" not in hparams:\n",
        "  for module in separator.modules.values():\n",
        "      separator.reset_layer_recursively(module)\n",
        "else:\n",
        "  logger.info(f\"Loading pretrained weights:{separator}\")\n",
        "  pretrain = hparams[\"pretrained_separator\"]\n",
        "  pretrain.collect_files()\n",
        "  pretrain.load_collected()\n",
        "\n",
        "separator.modules.convTasNet.load_state_dict(torch.load('/content/convTasNet/Results/04-02-2024/model_state_dict(2).pt'))\n",
        "\n",
        "\n",
        "separator.fit(\n",
        "    separator.hparams.epoch_counter,\n",
        "    train_data,\n",
        "    valid_data,\n",
        "    train_loader_kwargs=hparams[\"dataloader_opts\"],\n",
        "    valid_loader_kwargs=hparams[\"dataloader_opts\"],\n",
        ")"
      ]
    },
    {
      "cell_type": "code",
      "execution_count": null,
      "metadata": {
        "id": "bMVk9UiTeq84"
      },
      "outputs": [],
      "source": []
    },
    {
      "cell_type": "code",
      "execution_count": null,
      "metadata": {
        "id": "P_OPWR9jzQSu"
      },
      "outputs": [],
      "source": [
        "!cp /content/hparams/conVasNet_asteroid.yml /content/drive/MyDrive/Project"
      ]
    },
    {
      "cell_type": "code",
      "execution_count": null,
      "metadata": {
        "id": "BjvxRqWk95hn"
      },
      "outputs": [],
      "source": [
        "!rm -rf /content/results"
      ]
    },
    {
      "cell_type": "markdown",
      "metadata": {
        "id": "FPKbPnBVVCVP"
      },
      "source": [
        "Graph loss and accuracy"
      ]
    },
    {
      "cell_type": "code",
      "execution_count": null,
      "metadata": {
        "colab": {
          "background_save": true
        },
        "id": "62Q9ZRCgB3Cu",
        "outputId": "e429310c-b5bb-4f73-ff55-98d65a94fdf5"
      },
      "outputs": [
        {
          "name": "stdout",
          "output_type": "stream",
          "text": [
            "[-10.7, -11.9, -12.5, -13.1, -13.6, -14.0, -14.2, -14.5, -14.7, -15.0, -15.2, -15.4, -15.6, -15.7, -15.9, -15.9, -16.1, -16.1, -16.3, -16.4, -13.1, -13.4, -13.5, -13.6, -13.7, -13.7, -13.8, -13.8, -13.8, -13.9, -13.9, -14.0, -14.0, -14.0, -14.0, -14.0, -14.1, -14.1, -14.1, -14.1, -14.1, -14.2, -14.2, -14.2, -14.2, -14.2, -14.2, -14.3, -14.3, -14.3, -14.3, -14.3, -14.3, -14.3, -14.3, -14.3, -14.4, -14.4, -14.4, -14.4, -14.4, -14.4, -14.4, -14.4, -14.4, -14.4, -14.4, -14.4, -14.5, -14.5, -14.5, -14.5, -14.5, -14.5, -14.5, -14.5, -14.5, -14.5, -14.5, -14.5, -14.5, -14.5, -14.5, -14.5, -14.6, -14.6, -14.6, -14.6, -14.6, -14.6, -14.6, -14.6, -14.6, -14.6, -14.6, -14.6, -14.6, -14.6, -14.6, -14.6, -14.6, -14.6, -14.6, -14.6, -14.7, -14.7, -14.7, -14.7, -14.7, -14.7, -14.7, -14.7, -14.7, -14.7, -14.7, -14.7, -14.7, -14.7, -14.7, -14.7, -14.7, -14.7, -14.7, -14.7, -14.7, -14.7, -14.7, -14.7, -14.7, -14.7, -14.8, -14.8, -14.8, -14.8, -14.8, -14.8, -14.8, -14.8, -14.8, -14.8, -14.8, -14.8, -14.8, -14.8, -14.8, -14.8, -14.8, -14.8, -14.8, -14.8, -14.8, -14.8, -14.8, -14.8, -14.8, -14.8, -14.9, -14.9, -14.8, -14.8, -14.9, -14.9, -14.9, -14.9, -14.9, -14.9, -14.9, -14.9, -14.9, -14.9, -14.8, -14.9, -14.9, -14.9, -14.9, -14.9, -14.9, -14.9, -14.9, -14.9, -14.9, -14.9, -14.9, -14.9, -14.9, -14.9, -14.9, -14.9, -14.9, -14.9, -14.9, -14.9, -14.9, -14.9, -14.9, -14.9, -14.9, -14.9, -15.0, -14.9]\n",
            "[-11.3, -11.2, -11.5, -11.5, -11.7, -11.5, -11.7, -11.6, -11.7, -11.5, -11.6, -11.5, -11.4, -11.5, -11.5, -11.4, -11.4, -11.4, -11.4, -11.1, -8.23, -8.17, -8.19, -8.38, -8.5, -8.56, -8.5, -8.48, -8.62, -8.88, -8.5, -8.91, -9.3, -9.32, -8.7, -8.79, -8.67, -8.68, -8.76, -8.84, -8.72, -8.72, -8.74, -8.76, -8.83, -8.77, -8.81, -8.78, -8.86, -9.15, -9.04, -9.09, -9.27, -9.3, -9.29, -9.34, -9.41, -9.41, -9.19, -9.37, -9.38, -9.5, -9.43, -9.48, -9.53, -9.48, -9.53, -9.48, -9.44, -9.25, -9.2, -9.21, -9.0, -9.17, -9.28, -9.15, -9.1, -9.18, -9.28, -9.26, -9.36, -9.31, -9.31, -9.35, -9.11, -9.33, -9.3, -9.3, -9.31, -9.4, -9.36, -9.43, -9.45, -9.43, -9.45, -9.48, -9.47, -9.36, -9.27, -9.39, -9.43, -9.45, -9.42, -9.38, -9.12, -9.33, -9.29, -9.5, -9.37, -9.46, -9.44, -9.35, -9.44, -9.26, -9.54, -9.44, -9.18, -9.26, -9.24, -9.3, -9.09, -8.95, -9.15, -9.2, -9.36, -9.39, -9.37, -9.48, -9.38, -9.28, -9.51, -9.45, -9.57, -9.54, -9.54, -9.63, -9.55, -9.63, -9.58, -9.59, -9.61, -9.66, -9.59, -9.63, -9.66, -9.66, -9.65, -9.65, -9.62, -9.6, -9.54, -9.46, -9.64, -9.57, -9.62, -9.65, -9.59, -9.52, -9.48, -9.59, -9.47, -9.55, -9.31, -9.09, -9.35, -9.31, -9.29, -9.41, -9.51, -9.45, -9.53, -9.52, -9.57, -9.61, -9.6, -9.6, -9.62, -9.56, -9.34, -9.34, -9.35, -9.37, -9.29, -9.05, -9.09, -9.12, -9.37, -9.12, -9.2, -9.23, -8.82, -8.85, -9.12, -8.97, -8.82, -9.1, -9.12, -9.09, -9.12, -9.06]\n",
            "[0.5460000038146973, 0.5440000295639038, 0.5419999957084656, 0.5360000133514404, 0.5479999780654907, 0.5400000214576721, 0.5299999713897705, 0.5379999876022339, 0.5509999990463257, 0.5260000228881836, 0.5450000166893005, 0.5210000276565552, 0.5460000038146973, 0.5360000133514404, 0.5270000100135803, 0.5230000019073486, 0.5379999876022339, 0.5320000052452087, 0.5320000052452087, 0.5260000228881836, 0.5320000052452087, 0.550000011920929, 0.5559999942779541, 0.5730000138282776, 0.5799999833106995, 0.5830000042915344, 0.5929999947547913, 0.5789999961853027, 0.5830000042915344, 0.5929999947547913, 0.5989999771118164, 0.6050000190734863, 0.6340000033378601, 0.6380000114440918, 0.6200000047683716, 0.6340000033378601, 0.6129999756813049, 0.609000027179718, 0.6320000290870667, 0.652999997138977, 0.6510000228881836, 0.6489999890327454, 0.6579999923706055, 0.6620000004768372, 0.6499999761581421, 0.6480000019073486, 0.6510000228881836, 0.6439999938011169, 0.6489999890327454, 0.6600000262260437, 0.6660000085830688, 0.6669999957084656, 0.6729999780654907, 0.6830000281333923, 0.6819999814033508, 0.6850000023841858, 0.6880000233650208, 0.6930000185966492, 0.6779999732971191, 0.7020000219345093, 0.703000009059906, 0.7179999947547913, 0.7059999704360962, 0.7059999704360962, 0.7170000076293945, 0.7139999866485596, 0.7200000286102295, 0.7149999737739563, 0.7039999961853027, 0.6949999928474426, 0.6890000104904175, 0.6869999766349792, 0.6830000281333923, 0.6840000152587891, 0.6869999766349792, 0.6909999847412109, 0.6869999766349792, 0.6909999847412109, 0.6949999928474426, 0.6980000138282776, 0.7039999961853027, 0.699999988079071, 0.703000009059906, 0.7020000219345093, 0.6880000233650208, 0.7049999833106995, 0.7039999961853027, 0.703000009059906, 0.7049999833106995, 0.7080000042915344, 0.7039999961853027, 0.7120000123977661, 0.7120000123977661, 0.7049999833106995, 0.7070000171661377, 0.7170000076293945, 0.7160000205039978, 0.7020000219345093, 0.699999988079071, 0.7110000252723694, 0.7110000252723694, 0.7080000042915344, 0.7080000042915344, 0.7020000219345093, 0.6919999718666077, 0.7149999737739563, 0.7099999785423279, 0.7250000238418579, 0.7120000123977661, 0.7139999866485596, 0.7170000076293945, 0.7089999914169312, 0.7149999737739563, 0.7080000042915344, 0.7289999723434448, 0.718999981880188, 0.7089999914169312, 0.7129999995231628, 0.7080000042915344, 0.7080000042915344, 0.7080000042915344, 0.7009999752044678, 0.703000009059906, 0.7059999704360962, 0.7149999737739563, 0.7170000076293945, 0.7170000076293945, 0.7210000157356262, 0.7039999961853027, 0.7020000219345093, 0.7039999961853027, 0.699999988079071, 0.7170000076293945, 0.7139999866485596, 0.7160000205039978, 0.7279999852180481, 0.7129999995231628, 0.7229999899864197, 0.7170000076293945, 0.7239999771118164, 0.7269999980926514, 0.7360000014305115, 0.7160000205039978, 0.7260000109672546, 0.7310000061988831, 0.7300000190734863, 0.7329999804496765, 0.7310000061988831, 0.7350000143051147, 0.7229999899864197, 0.7179999947547913, 0.7120000123977661, 0.7279999852180481, 0.7210000157356262, 0.7310000061988831, 0.7350000143051147, 0.7210000157356262, 0.7260000109672546, 0.7149999737739563, 0.7200000286102295, 0.7129999995231628, 0.7139999866485596, 0.7009999752044678, 0.6890000104904175, 0.6970000267028809, 0.6990000009536743, 0.703000009059906, 0.7059999704360962, 0.7080000042915344, 0.7089999914169312, 0.7080000042915344, 0.7139999866485596, 0.7210000157356262, 0.722000002861023, 0.7260000109672546, 0.7260000109672546, 0.7260000109672546, 0.7160000205039978, 0.699999988079071, 0.7039999961853027, 0.7009999752044678, 0.7039999961853027, 0.6959999799728394, 0.6890000104904175, 0.6880000233650208, 0.6890000104904175, 0.6980000138282776, 0.6880000233650208, 0.6840000152587891, 0.6959999799728394, 0.6769999861717224, 0.6779999732971191, 0.6859999895095825, 0.6819999814033508, 0.6790000200271606, 0.6899999976158142, 0.6880000233650208, 0.6830000281333923, 0.6869999766349792, 0.6859999895095825]\n"
          ]
        },
        {
          "data": {
            "image/png": "[encoded data removed]",
            "text/plain": [
              "<Figure size 1200x600 with 2 Axes>"
            ]
          },
          "metadata": {},
          "output_type": "display_data"
        }
      ],
      "source": [
        "from logging import NullHandler\n",
        "import re\n",
        "import matplotlib.pyplot as plt\n",
        "\n",
        "# Initialize empty lists\n",
        "epochs = []\n",
        "valid_accuracies = []\n",
        "train_losses = []\n",
        "valid_losses = []\n",
        "separate_loss = []\n",
        "lang_loss = []\n",
        "\n",
        "# Read and parse the log file\n",
        "with open('/content/results/convtasnet/1234/train_log.txt', 'r') as file:\n",
        "  epoch_match = None\n",
        "  train_loss_match = None\n",
        "  valid_loss_match = None\n",
        "  acc_match = None\n",
        "  for line in file:\n",
        "      # Use regular expressions to extract values\n",
        "      if(epoch_match == None):\n",
        "        epoch_match = re.search(r'epoch: (\\d+)', line)\n",
        "      if(acc_match == None):\n",
        "        acc_match = re.search(r'valid Accuracy Partial: ([\\deE\\+\\-\\.]+)', line)\n",
        "      if(train_loss_match == None):\n",
        "        train_loss_match = re.search(r'train final_loss: ([\\deE\\+\\-\\.]+)', line)\n",
        "      if(valid_loss_match == None):\n",
        "        valid_loss_match = re.search(r'valid final_loss: ([\\deE\\+\\-\\.]+)', line)\n",
        "      # print(valid_loss_match)\n",
        "      # separate_loss_match = re.search(r'valid separate_loss: ([\\deE\\+\\-\\.]+)', line)\n",
        "      # lang_loss_match = re.search(r'valid lang_loss: ([\\deE\\+\\-\\.]+)', line)\n",
        "\n",
        "      if epoch_match and train_loss_match and valid_loss_match :\n",
        "          epochs.append(int(epoch_match.group(1)))\n",
        "          valid_accuracies.append(float(acc_match.group(1)))\n",
        "          train_losses.append(float(train_loss_match.group(1)))\n",
        "          valid_losses.append(float(valid_loss_match.group(1)))\n",
        "          epoch_match = None\n",
        "          train_loss_match = None\n",
        "          valid_loss_match = None\n",
        "\n",
        "          acc_match = None\n",
        "\n",
        "print(train_losses)\n",
        "print(valid_losses)\n",
        "print(valid_accuracies)\n",
        "# Plotting\n",
        "plt.figure(figsize=(12, 6))\n",
        "\n",
        "plt.subplot(1, 2, 1)\n",
        "plt.plot(epochs, valid_accuracies, marker='o', label='Valid Accuracy', color='green')\n",
        "plt.title(\"Epoch vs Valid Accuracy\")\n",
        "plt.xlabel(\"Epoch\")\n",
        "plt.ylabel(\"Accuracy\")\n",
        "plt.grid(True)\n",
        "plt.legend()\n",
        "\n",
        "plt.subplot(1, 2, 2)\n",
        "plt.plot(epochs, train_losses, marker='o', label='Train Loss', color='blue')\n",
        "plt.plot(epochs, valid_losses, marker='o', label='Valid Loss', color='orange')\n",
        "# plt.plot(epochs, separate_loss, marker='o', label='Separate Loss', color='red')\n",
        "# plt.plot(epochs, lang_loss, marker='o', label='Lang Loss', color='purple')\n",
        "plt.title(\"Epoch vs Final Losses\")\n",
        "plt.xlabel(\"Epoch\")\n",
        "plt.ylabel(\"Loss\")\n",
        "plt.grid(True)\n",
        "plt.legend()\n",
        "\n",
        "plt.tight_layout()\n",
        "plt.show()"
      ]
    },
    {
      "cell_type": "markdown",
      "metadata": {
        "id": "4EbZRnqoLHN2"
      },
      "source": [
        "Evaluate"
      ]
    },
    {
      "cell_type": "code",
      "execution_count": null,
      "metadata": {
        "id": "hqunrgl_LIii"
      },
      "outputs": [],
      "source": [
        "# Eval\n",
        "separator.evaluate( test_data, min_key=\"si-snr\")"
      ]
    },
    {
      "cell_type": "code",
      "execution_count": null,
      "metadata": {
        "id": "T5DXWBB4nE47"
      },
      "outputs": [],
      "source": [
        "import warnings\n",
        "warnings.filterwarnings(\"ignore\", category=FutureWarning)\n",
        "separator.save_results(test_data)"
      ]
    },
    {
      "cell_type": "markdown",
      "metadata": {
        "id": "Rhv8AFvfH3GF"
      },
      "source": [
        "End Run"
      ]
    },
    {
      "cell_type": "code",
      "execution_count": null,
      "metadata": {
        "id": "3Dotxyi4D42F"
      },
      "outputs": [],
      "source": [
        "!rm -rf /content/results\n",
        "# !cp -r /content/results /content/drive/MyDrive/Project/\n",
        "# !cp -r /content/hparams/conVasNet.yml /content/drive/MyDrive/Project/results/"
      ]
    },
    {
      "cell_type": "code",
      "execution_count": null,
      "metadata": {
        "id": "dLCcz960OCEr"
      },
      "outputs": [],
      "source": [
        "from google.colab import runtime\n",
        "runtime.unassign()"
      ]
    },
    {
      "cell_type": "code",
      "execution_count": null,
      "metadata": {
        "id": "E9iOhxM7dHxb"
      },
      "outputs": [],
      "source": [
        "!cp /content/hparams/conVasNet_p.yml /content/drive/MyDrive/Project"
      ]
    },
    {
      "cell_type": "code",
      "execution_count": null,
      "metadata": {
        "id": "5MrEwuI_u-11"
      },
      "outputs": [],
      "source": [
        "# import torch\n",
        "# import torch.nn as nn\n",
        "# # from speechbrain.nnet.losses import PitWrapper\n",
        "# # pit_bceeee = PitWrapper(nn.NLLLoss(reduction ='none'))\n",
        "# loss_1 = nn.CrossEntropyLoss(reduction = 'none')\n",
        "# loss_2 = nn.CrossEntropyLoss(reduction='mean')\n",
        "# n = 0\n",
        "# while n!=100:\n",
        "#   input = torch.randn(1,2, 16, requires_grad=True)\n",
        "#   target = torch.empty(1,2,16, dtype=torch.long).random_(1)\n",
        "#   target[0][1][5] = 1\n",
        "#   target[0][0][8] = 1\n",
        "#   input = input.squeeze(0)\n",
        "#   target = target.squeeze(0)\n",
        "#   targets = (target == 1).nonzero(as_tuple=False)\n",
        "#   input_first, input_second = torch.chunk(input, chunks = 2, dim=0)\n",
        "#   target_first, target_second = torch.chunk(targets, chunks = 2, dim=0)\n",
        "#   target_first = target_first.squeeze(0)[1:]\n",
        "#   target_second = target_second.squeeze(0)[1:]\n",
        "#   # print(type(input_first),target_first,target_second)\n",
        "#   lang_loss = 0.5*torch.min(torch.stack([(loss_1(input_first,target_first)+loss_1(input_second,target_second)), (loss_1(input_first,target_second)+loss_1(input_second,target_first))]))\n",
        "#   # print(lang_loss)\n",
        "#   target_2 = target.argmax(dim = 1)\n",
        "#   # print(input,target_2,target_2.flip(0))\n",
        "#   lang_loss_2 = torch.min(torch.stack([loss_2(input,target_2),loss_2(input,target_2.flip(0))]))\n",
        "#   # print(lang_loss_2)\n",
        "#   if(lang_loss != lang_loss_2):\n",
        "#     print(f\"Different for {input}\")\n",
        "#   n = n +1"
      ]
    }
  ],
  "metadata": {
    "accelerator": "GPU",
    "colab": {
      "gpuType": "A100",
      "machine_shape": "hm",
      "provenance": []
    },
    "kernelspec": {
      "display_name": "Python 3",
      "name": "python3"
    },
    "language_info": {
      "name": "python"
    },
    "widgets": {
      "application/vnd.jupyter.widget-state+json": {
        "0c8eb394058f4c369a0d648226d93da5": {
          "model_module": "@jupyter-widgets/controls",
          "model_module_version": "1.5.0",
          "model_name": "FloatProgressModel",
          "state": {
            "_dom_classes": [],
            "_model_module": "@jupyter-widgets/controls",
            "_model_module_version": "1.5.0",
            "_model_name": "FloatProgressModel",
            "_view_count": null,
            "_view_module": "@jupyter-widgets/controls",
            "_view_module_version": "1.5.0",
            "_view_name": "ProgressView",
            "bar_style": "success",
            "description": "",
            "description_tooltip": null,
            "layout": "IPY_MODEL_8929930f58ae4f95bae2c31b73a655da",
            "max": 84474355,
            "min": 0,
            "orientation": "horizontal",
            "style": "IPY_MODEL_a4c4b9852c8b4152a01bac5715687681",
            "value": 84474355
          }
        },
        "199781a8da934c0587d587b6f4ab27bb": {
          "model_module": "@jupyter-widgets/controls",
          "model_module_version": "1.5.0",
          "model_name": "DescriptionStyleModel",
          "state": {
            "_model_module": "@jupyter-widgets/controls",
            "_model_module_version": "1.5.0",
            "_model_name": "DescriptionStyleModel",
            "_view_count": null,
            "_view_module": "@jupyter-widgets/base",
            "_view_module_version": "1.2.0",
            "_view_name": "StyleView",
            "description_width": ""
          }
        },
        "1f29a683c73640c89bc0c284f1662b6b": {
          "model_module": "@jupyter-widgets/controls",
          "model_module_version": "1.5.0",
          "model_name": "FloatProgressModel",
          "state": {
            "_dom_classes": [],
            "_model_module": "@jupyter-widgets/controls",
            "_model_module_version": "1.5.0",
            "_model_name": "FloatProgressModel",
            "_view_count": null,
            "_view_module": "@jupyter-widgets/controls",
            "_view_module_version": "1.5.0",
            "_view_name": "ProgressView",
            "bar_style": "success",
            "description": "",
            "description_tooltip": null,
            "layout": "IPY_MODEL_bed1cbfe78da427280befef8b041d45f",
            "max": 762555,
            "min": 0,
            "orientation": "horizontal",
            "style": "IPY_MODEL_9077a3a5ea324d32a2911f3c8f2162ed",
            "value": 762555
          }
        },
        "2b5c97f039f64fa98fc5c0dca64768c2": {
          "model_module": "@jupyter-widgets/base",
          "model_module_version": "1.2.0",
          "model_name": "LayoutModel",
          "state": {
            "_model_module": "@jupyter-widgets/base",
            "_model_module_version": "1.2.0",
            "_model_name": "LayoutModel",
            "_view_count": null,
            "_view_module": "@jupyter-widgets/base",
            "_view_module_version": "1.2.0",
            "_view_name": "LayoutView",
            "align_content": null,
            "align_items": null,
            "align_self": null,
            "border": null,
            "bottom": null,
            "display": null,
            "flex": null,
            "flex_flow": null,
            "grid_area": null,
            "grid_auto_columns": null,
            "grid_auto_flow": null,
            "grid_auto_rows": null,
            "grid_column": null,
            "grid_gap": null,
            "grid_row": null,
            "grid_template_areas": null,
            "grid_template_columns": null,
            "grid_template_rows": null,
            "height": null,
            "justify_content": null,
            "justify_items": null,
            "left": null,
            "margin": null,
            "max_height": null,
            "max_width": null,
            "min_height": null,
            "min_width": null,
            "object_fit": null,
            "object_position": null,
            "order": null,
            "overflow": null,
            "overflow_x": null,
            "overflow_y": null,
            "padding": null,
            "right": null,
            "top": null,
            "visibility": null,
            "width": null
          }
        },
        "2ca6e84bbd794e6fbf5df1dbb1a7a09b": {
          "model_module": "@jupyter-widgets/controls",
          "model_module_version": "1.5.0",
          "model_name": "DescriptionStyleModel",
          "state": {
            "_model_module": "@jupyter-widgets/controls",
            "_model_module_version": "1.5.0",
            "_model_name": "DescriptionStyleModel",
            "_view_count": null,
            "_view_module": "@jupyter-widgets/base",
            "_view_module_version": "1.2.0",
            "_view_name": "StyleView",
            "description_width": ""
          }
        },
        "34703c4061db4532a9ea15fc1795a1a0": {
          "model_module": "@jupyter-widgets/base",
          "model_module_version": "1.2.0",
          "model_name": "LayoutModel",
          "state": {
            "_model_module": "@jupyter-widgets/base",
            "_model_module_version": "1.2.0",
            "_model_name": "LayoutModel",
            "_view_count": null,
            "_view_module": "@jupyter-widgets/base",
            "_view_module_version": "1.2.0",
            "_view_name": "LayoutView",
            "align_content": null,
            "align_items": null,
            "align_self": null,
            "border": null,
            "bottom": null,
            "display": null,
            "flex": null,
            "flex_flow": null,
            "grid_area": null,
            "grid_auto_columns": null,
            "grid_auto_flow": null,
            "grid_auto_rows": null,
            "grid_column": null,
            "grid_gap": null,
            "grid_row": null,
            "grid_template_areas": null,
            "grid_template_columns": null,
            "grid_template_rows": null,
            "height": null,
            "justify_content": null,
            "justify_items": null,
            "left": null,
            "margin": null,
            "max_height": null,
            "max_width": null,
            "min_height": null,
            "min_width": null,
            "object_fit": null,
            "object_position": null,
            "order": null,
            "overflow": null,
            "overflow_x": null,
            "overflow_y": null,
            "padding": null,
            "right": null,
            "top": null,
            "visibility": null,
            "width": null
          }
        },
        "3b7655dff93b44b6b23f0ca0b93dc5cb": {
          "model_module": "@jupyter-widgets/controls",
          "model_module_version": "1.5.0",
          "model_name": "DescriptionStyleModel",
          "state": {
            "_model_module": "@jupyter-widgets/controls",
            "_model_module_version": "1.5.0",
            "_model_name": "DescriptionStyleModel",
            "_view_count": null,
            "_view_module": "@jupyter-widgets/base",
            "_view_module_version": "1.2.0",
            "_view_name": "StyleView",
            "description_width": ""
          }
        },
        "3d844631a520419f9c44154ca484659f": {
          "model_module": "@jupyter-widgets/controls",
          "model_module_version": "1.5.0",
          "model_name": "HBoxModel",
          "state": {
            "_dom_classes": [],
            "_model_module": "@jupyter-widgets/controls",
            "_model_module_version": "1.5.0",
            "_model_name": "HBoxModel",
            "_view_count": null,
            "_view_module": "@jupyter-widgets/controls",
            "_view_module_version": "1.5.0",
            "_view_name": "HBoxView",
            "box_style": "",
            "children": [
              "IPY_MODEL_443f6b61e2df42d7b7de590b4170fe0d",
              "IPY_MODEL_0c8eb394058f4c369a0d648226d93da5",
              "IPY_MODEL_a9dd5cd6919841ab8ce9c86e6df4d461"
            ],
            "layout": "IPY_MODEL_8d615f8ddc68484e9d98f3f7ddd89c77"
          }
        },
        "3dec6b78f3e84713832665025e39a1fb": {
          "model_module": "@jupyter-widgets/controls",
          "model_module_version": "1.5.0",
          "model_name": "HBoxModel",
          "state": {
            "_dom_classes": [],
            "_model_module": "@jupyter-widgets/controls",
            "_model_module_version": "1.5.0",
            "_model_name": "HBoxModel",
            "_view_count": null,
            "_view_module": "@jupyter-widgets/controls",
            "_view_module_version": "1.5.0",
            "_view_name": "HBoxView",
            "box_style": "",
            "children": [
              "IPY_MODEL_5a78384be27e4d3bb17401dab26e4aed",
              "IPY_MODEL_1f29a683c73640c89bc0c284f1662b6b",
              "IPY_MODEL_a6a05873214c4468ad78557b5d4c7e33"
            ],
            "layout": "IPY_MODEL_e9d928ccf4864337bf626762bc302ed5"
          }
        },
        "443f6b61e2df42d7b7de590b4170fe0d": {
          "model_module": "@jupyter-widgets/controls",
          "model_module_version": "1.5.0",
          "model_name": "HTMLModel",
          "state": {
            "_dom_classes": [],
            "_model_module": "@jupyter-widgets/controls",
            "_model_module_version": "1.5.0",
            "_model_name": "HTMLModel",
            "_view_count": null,
            "_view_module": "@jupyter-widgets/controls",
            "_view_module_version": "1.5.0",
            "_view_name": "HTMLView",
            "description": "",
            "description_tooltip": null,
            "layout": "IPY_MODEL_8c345eeb543b44cebb517bb013e7ee0a",
            "placeholder": "​",
            "style": "IPY_MODEL_9f4a8bac80a6424197e33fa5c13281f6",
            "value": "embedding_model.ckpt: 100%"
          }
        },
        "54c1eda4dd514ea699a4af56ffe0f178": {
          "model_module": "@jupyter-widgets/controls",
          "model_module_version": "1.5.0",
          "model_name": "DescriptionStyleModel",
          "state": {
            "_model_module": "@jupyter-widgets/controls",
            "_model_module_version": "1.5.0",
            "_model_name": "DescriptionStyleModel",
            "_view_count": null,
            "_view_module": "@jupyter-widgets/base",
            "_view_module_version": "1.2.0",
            "_view_name": "StyleView",
            "description_width": ""
          }
        },
        "5a78384be27e4d3bb17401dab26e4aed": {
          "model_module": "@jupyter-widgets/controls",
          "model_module_version": "1.5.0",
          "model_name": "HTMLModel",
          "state": {
            "_dom_classes": [],
            "_model_module": "@jupyter-widgets/controls",
            "_model_module_version": "1.5.0",
            "_model_name": "HTMLModel",
            "_view_count": null,
            "_view_module": "@jupyter-widgets/controls",
            "_view_module_version": "1.5.0",
            "_view_name": "HTMLView",
            "description": "",
            "description_tooltip": null,
            "layout": "IPY_MODEL_ea1fbd0d1dd64e42a436980378ab7495",
            "placeholder": "​",
            "style": "IPY_MODEL_9bc82b0c963947cca805267c6e613125",
            "value": "classifier.ckpt: 100%"
          }
        },
        "5d871ca620614afab575da6cc61e90c4": {
          "model_module": "@jupyter-widgets/base",
          "model_module_version": "1.2.0",
          "model_name": "LayoutModel",
          "state": {
            "_model_module": "@jupyter-widgets/base",
            "_model_module_version": "1.2.0",
            "_model_name": "LayoutModel",
            "_view_count": null,
            "_view_module": "@jupyter-widgets/base",
            "_view_module_version": "1.2.0",
            "_view_name": "LayoutView",
            "align_content": null,
            "align_items": null,
            "align_self": null,
            "border": null,
            "bottom": null,
            "display": null,
            "flex": null,
            "flex_flow": null,
            "grid_area": null,
            "grid_auto_columns": null,
            "grid_auto_flow": null,
            "grid_auto_rows": null,
            "grid_column": null,
            "grid_gap": null,
            "grid_row": null,
            "grid_template_areas": null,
            "grid_template_columns": null,
            "grid_template_rows": null,
            "height": null,
            "justify_content": null,
            "justify_items": null,
            "left": null,
            "margin": null,
            "max_height": null,
            "max_width": null,
            "min_height": null,
            "min_width": null,
            "object_fit": null,
            "object_position": null,
            "order": null,
            "overflow": null,
            "overflow_x": null,
            "overflow_y": null,
            "padding": null,
            "right": null,
            "top": null,
            "visibility": null,
            "width": null
          }
        },
        "7a43663601fd4affb5eb276271610091": {
          "model_module": "@jupyter-widgets/controls",
          "model_module_version": "1.5.0",
          "model_name": "FloatProgressModel",
          "state": {
            "_dom_classes": [],
            "_model_module": "@jupyter-widgets/controls",
            "_model_module_version": "1.5.0",
            "_model_name": "FloatProgressModel",
            "_view_count": null,
            "_view_module": "@jupyter-widgets/controls",
            "_view_module_version": "1.5.0",
            "_view_name": "ProgressView",
            "bar_style": "success",
            "description": "",
            "description_tooltip": null,
            "layout": "IPY_MODEL_8a9fe44a6d3a4fc1874196d047bdae16",
            "max": 1,
            "min": 0,
            "orientation": "horizontal",
            "style": "IPY_MODEL_ca4aa850284e4d02934157ae34db0dcb",
            "value": 1
          }
        },
        "7c2b6039fbc44d088476b52f785ce7da": {
          "model_module": "@jupyter-widgets/base",
          "model_module_version": "1.2.0",
          "model_name": "LayoutModel",
          "state": {
            "_model_module": "@jupyter-widgets/base",
            "_model_module_version": "1.2.0",
            "_model_name": "LayoutModel",
            "_view_count": null,
            "_view_module": "@jupyter-widgets/base",
            "_view_module_version": "1.2.0",
            "_view_name": "LayoutView",
            "align_content": null,
            "align_items": null,
            "align_self": null,
            "border": null,
            "bottom": null,
            "display": null,
            "flex": null,
            "flex_flow": null,
            "grid_area": null,
            "grid_auto_columns": null,
            "grid_auto_flow": null,
            "grid_auto_rows": null,
            "grid_column": null,
            "grid_gap": null,
            "grid_row": null,
            "grid_template_areas": null,
            "grid_template_columns": null,
            "grid_template_rows": null,
            "height": null,
            "justify_content": null,
            "justify_items": null,
            "left": null,
            "margin": null,
            "max_height": null,
            "max_width": null,
            "min_height": null,
            "min_width": null,
            "object_fit": null,
            "object_position": null,
            "order": null,
            "overflow": null,
            "overflow_x": null,
            "overflow_y": null,
            "padding": null,
            "right": null,
            "top": null,
            "visibility": null,
            "width": null
          }
        },
        "8929930f58ae4f95bae2c31b73a655da": {
          "model_module": "@jupyter-widgets/base",
          "model_module_version": "1.2.0",
          "model_name": "LayoutModel",
          "state": {
            "_model_module": "@jupyter-widgets/base",
            "_model_module_version": "1.2.0",
            "_model_name": "LayoutModel",
            "_view_count": null,
            "_view_module": "@jupyter-widgets/base",
            "_view_module_version": "1.2.0",
            "_view_name": "LayoutView",
            "align_content": null,
            "align_items": null,
            "align_self": null,
            "border": null,
            "bottom": null,
            "display": null,
            "flex": null,
            "flex_flow": null,
            "grid_area": null,
            "grid_auto_columns": null,
            "grid_auto_flow": null,
            "grid_auto_rows": null,
            "grid_column": null,
            "grid_gap": null,
            "grid_row": null,
            "grid_template_areas": null,
            "grid_template_columns": null,
            "grid_template_rows": null,
            "height": null,
            "justify_content": null,
            "justify_items": null,
            "left": null,
            "margin": null,
            "max_height": null,
            "max_width": null,
            "min_height": null,
            "min_width": null,
            "object_fit": null,
            "object_position": null,
            "order": null,
            "overflow": null,
            "overflow_x": null,
            "overflow_y": null,
            "padding": null,
            "right": null,
            "top": null,
            "visibility": null,
            "width": null
          }
        },
        "8a9fe44a6d3a4fc1874196d047bdae16": {
          "model_module": "@jupyter-widgets/base",
          "model_module_version": "1.2.0",
          "model_name": "LayoutModel",
          "state": {
            "_model_module": "@jupyter-widgets/base",
            "_model_module_version": "1.2.0",
            "_model_name": "LayoutModel",
            "_view_count": null,
            "_view_module": "@jupyter-widgets/base",
            "_view_module_version": "1.2.0",
            "_view_name": "LayoutView",
            "align_content": null,
            "align_items": null,
            "align_self": null,
            "border": null,
            "bottom": null,
            "display": null,
            "flex": null,
            "flex_flow": null,
            "grid_area": null,
            "grid_auto_columns": null,
            "grid_auto_flow": null,
            "grid_auto_rows": null,
            "grid_column": null,
            "grid_gap": null,
            "grid_row": null,
            "grid_template_areas": null,
            "grid_template_columns": null,
            "grid_template_rows": null,
            "height": null,
            "justify_content": null,
            "justify_items": null,
            "left": null,
            "margin": null,
            "max_height": null,
            "max_width": null,
            "min_height": null,
            "min_width": null,
            "object_fit": null,
            "object_position": null,
            "order": null,
            "overflow": null,
            "overflow_x": null,
            "overflow_y": null,
            "padding": null,
            "right": null,
            "top": null,
            "visibility": null,
            "width": "20px"
          }
        },
        "8c345eeb543b44cebb517bb013e7ee0a": {
          "model_module": "@jupyter-widgets/base",
          "model_module_version": "1.2.0",
          "model_name": "LayoutModel",
          "state": {
            "_model_module": "@jupyter-widgets/base",
            "_model_module_version": "1.2.0",
            "_model_name": "LayoutModel",
            "_view_count": null,
            "_view_module": "@jupyter-widgets/base",
            "_view_module_version": "1.2.0",
            "_view_name": "LayoutView",
            "align_content": null,
            "align_items": null,
            "align_self": null,
            "border": null,
            "bottom": null,
            "display": null,
            "flex": null,
            "flex_flow": null,
            "grid_area": null,
            "grid_auto_columns": null,
            "grid_auto_flow": null,
            "grid_auto_rows": null,
            "grid_column": null,
            "grid_gap": null,
            "grid_row": null,
            "grid_template_areas": null,
            "grid_template_columns": null,
            "grid_template_rows": null,
            "height": null,
            "justify_content": null,
            "justify_items": null,
            "left": null,
            "margin": null,
            "max_height": null,
            "max_width": null,
            "min_height": null,
            "min_width": null,
            "object_fit": null,
            "object_position": null,
            "order": null,
            "overflow": null,
            "overflow_x": null,
            "overflow_y": null,
            "padding": null,
            "right": null,
            "top": null,
            "visibility": null,
            "width": null
          }
        },
        "8d615f8ddc68484e9d98f3f7ddd89c77": {
          "model_module": "@jupyter-widgets/base",
          "model_module_version": "1.2.0",
          "model_name": "LayoutModel",
          "state": {
            "_model_module": "@jupyter-widgets/base",
            "_model_module_version": "1.2.0",
            "_model_name": "LayoutModel",
            "_view_count": null,
            "_view_module": "@jupyter-widgets/base",
            "_view_module_version": "1.2.0",
            "_view_name": "LayoutView",
            "align_content": null,
            "align_items": null,
            "align_self": null,
            "border": null,
            "bottom": null,
            "display": null,
            "flex": null,
            "flex_flow": null,
            "grid_area": null,
            "grid_auto_columns": null,
            "grid_auto_flow": null,
            "grid_auto_rows": null,
            "grid_column": null,
            "grid_gap": null,
            "grid_row": null,
            "grid_template_areas": null,
            "grid_template_columns": null,
            "grid_template_rows": null,
            "height": null,
            "justify_content": null,
            "justify_items": null,
            "left": null,
            "margin": null,
            "max_height": null,
            "max_width": null,
            "min_height": null,
            "min_width": null,
            "object_fit": null,
            "object_position": null,
            "order": null,
            "overflow": null,
            "overflow_x": null,
            "overflow_y": null,
            "padding": null,
            "right": null,
            "top": null,
            "visibility": null,
            "width": null
          }
        },
        "9077a3a5ea324d32a2911f3c8f2162ed": {
          "model_module": "@jupyter-widgets/controls",
          "model_module_version": "1.5.0",
          "model_name": "ProgressStyleModel",
          "state": {
            "_model_module": "@jupyter-widgets/controls",
            "_model_module_version": "1.5.0",
            "_model_name": "ProgressStyleModel",
            "_view_count": null,
            "_view_module": "@jupyter-widgets/base",
            "_view_module_version": "1.2.0",
            "_view_name": "StyleView",
            "bar_color": null,
            "description_width": ""
          }
        },
        "9bc82b0c963947cca805267c6e613125": {
          "model_module": "@jupyter-widgets/controls",
          "model_module_version": "1.5.0",
          "model_name": "DescriptionStyleModel",
          "state": {
            "_model_module": "@jupyter-widgets/controls",
            "_model_module_version": "1.5.0",
            "_model_name": "DescriptionStyleModel",
            "_view_count": null,
            "_view_module": "@jupyter-widgets/base",
            "_view_module_version": "1.2.0",
            "_view_name": "StyleView",
            "description_width": ""
          }
        },
        "9f4a8bac80a6424197e33fa5c13281f6": {
          "model_module": "@jupyter-widgets/controls",
          "model_module_version": "1.5.0",
          "model_name": "DescriptionStyleModel",
          "state": {
            "_model_module": "@jupyter-widgets/controls",
            "_model_module_version": "1.5.0",
            "_model_name": "DescriptionStyleModel",
            "_view_count": null,
            "_view_module": "@jupyter-widgets/base",
            "_view_module_version": "1.2.0",
            "_view_name": "StyleView",
            "description_width": ""
          }
        },
        "a4c4b9852c8b4152a01bac5715687681": {
          "model_module": "@jupyter-widgets/controls",
          "model_module_version": "1.5.0",
          "model_name": "ProgressStyleModel",
          "state": {
            "_model_module": "@jupyter-widgets/controls",
            "_model_module_version": "1.5.0",
            "_model_name": "ProgressStyleModel",
            "_view_count": null,
            "_view_module": "@jupyter-widgets/base",
            "_view_module_version": "1.2.0",
            "_view_name": "StyleView",
            "bar_color": null,
            "description_width": ""
          }
        },
        "a6a05873214c4468ad78557b5d4c7e33": {
          "model_module": "@jupyter-widgets/controls",
          "model_module_version": "1.5.0",
          "model_name": "HTMLModel",
          "state": {
            "_dom_classes": [],
            "_model_module": "@jupyter-widgets/controls",
            "_model_module_version": "1.5.0",
            "_model_name": "HTMLModel",
            "_view_count": null,
            "_view_module": "@jupyter-widgets/controls",
            "_view_module_version": "1.5.0",
            "_view_name": "HTMLView",
            "description": "",
            "description_tooltip": null,
            "layout": "IPY_MODEL_7c2b6039fbc44d088476b52f785ce7da",
            "placeholder": "​",
            "style": "IPY_MODEL_3b7655dff93b44b6b23f0ca0b93dc5cb",
            "value": " 763k/763k [00:00&lt;00:00, 80.7MB/s]"
          }
        },
        "a9dd5cd6919841ab8ce9c86e6df4d461": {
          "model_module": "@jupyter-widgets/controls",
          "model_module_version": "1.5.0",
          "model_name": "HTMLModel",
          "state": {
            "_dom_classes": [],
            "_model_module": "@jupyter-widgets/controls",
            "_model_module_version": "1.5.0",
            "_model_name": "HTMLModel",
            "_view_count": null,
            "_view_module": "@jupyter-widgets/controls",
            "_view_module_version": "1.5.0",
            "_view_name": "HTMLView",
            "description": "",
            "description_tooltip": null,
            "layout": "IPY_MODEL_5d871ca620614afab575da6cc61e90c4",
            "placeholder": "​",
            "style": "IPY_MODEL_2ca6e84bbd794e6fbf5df1dbb1a7a09b",
            "value": " 84.5M/84.5M [00:00&lt;00:00, 365MB/s]"
          }
        },
        "bed1cbfe78da427280befef8b041d45f": {
          "model_module": "@jupyter-widgets/base",
          "model_module_version": "1.2.0",
          "model_name": "LayoutModel",
          "state": {
            "_model_module": "@jupyter-widgets/base",
            "_model_module_version": "1.2.0",
            "_model_name": "LayoutModel",
            "_view_count": null,
            "_view_module": "@jupyter-widgets/base",
            "_view_module_version": "1.2.0",
            "_view_name": "LayoutView",
            "align_content": null,
            "align_items": null,
            "align_self": null,
            "border": null,
            "bottom": null,
            "display": null,
            "flex": null,
            "flex_flow": null,
            "grid_area": null,
            "grid_auto_columns": null,
            "grid_auto_flow": null,
            "grid_auto_rows": null,
            "grid_column": null,
            "grid_gap": null,
            "grid_row": null,
            "grid_template_areas": null,
            "grid_template_columns": null,
            "grid_template_rows": null,
            "height": null,
            "justify_content": null,
            "justify_items": null,
            "left": null,
            "margin": null,
            "max_height": null,
            "max_width": null,
            "min_height": null,
            "min_width": null,
            "object_fit": null,
            "object_position": null,
            "order": null,
            "overflow": null,
            "overflow_x": null,
            "overflow_y": null,
            "padding": null,
            "right": null,
            "top": null,
            "visibility": null,
            "width": null
          }
        },
        "ca4aa850284e4d02934157ae34db0dcb": {
          "model_module": "@jupyter-widgets/controls",
          "model_module_version": "1.5.0",
          "model_name": "ProgressStyleModel",
          "state": {
            "_model_module": "@jupyter-widgets/controls",
            "_model_module_version": "1.5.0",
            "_model_name": "ProgressStyleModel",
            "_view_count": null,
            "_view_module": "@jupyter-widgets/base",
            "_view_module_version": "1.2.0",
            "_view_name": "StyleView",
            "bar_color": null,
            "description_width": ""
          }
        },
        "d858c6d95c0a4ab6941dbc9700a9344e": {
          "model_module": "@jupyter-widgets/controls",
          "model_module_version": "1.5.0",
          "model_name": "HBoxModel",
          "state": {
            "_dom_classes": [],
            "_model_module": "@jupyter-widgets/controls",
            "_model_module_version": "1.5.0",
            "_model_name": "HBoxModel",
            "_view_count": null,
            "_view_module": "@jupyter-widgets/controls",
            "_view_module_version": "1.5.0",
            "_view_name": "HBoxView",
            "box_style": "",
            "children": [
              "IPY_MODEL_f6a0b623a9c444d7bff8bc704ead4fb7",
              "IPY_MODEL_7a43663601fd4affb5eb276271610091",
              "IPY_MODEL_e6fa45b74f1f4bef8cf68144ca2d2678"
            ],
            "layout": "IPY_MODEL_2b5c97f039f64fa98fc5c0dca64768c2"
          }
        },
        "e6fa45b74f1f4bef8cf68144ca2d2678": {
          "model_module": "@jupyter-widgets/controls",
          "model_module_version": "1.5.0",
          "model_name": "HTMLModel",
          "state": {
            "_dom_classes": [],
            "_model_module": "@jupyter-widgets/controls",
            "_model_module_version": "1.5.0",
            "_model_name": "HTMLModel",
            "_view_count": null,
            "_view_module": "@jupyter-widgets/controls",
            "_view_module_version": "1.5.0",
            "_view_name": "HTMLView",
            "description": "",
            "description_tooltip": null,
            "layout": "IPY_MODEL_34703c4061db4532a9ea15fc1795a1a0",
            "placeholder": "​",
            "style": "IPY_MODEL_54c1eda4dd514ea699a4af56ffe0f178",
            "value": " 2.20k/? [00:00&lt;00:00, 265kB/s]"
          }
        },
        "e9d928ccf4864337bf626762bc302ed5": {
          "model_module": "@jupyter-widgets/base",
          "model_module_version": "1.2.0",
          "model_name": "LayoutModel",
          "state": {
            "_model_module": "@jupyter-widgets/base",
            "_model_module_version": "1.2.0",
            "_model_name": "LayoutModel",
            "_view_count": null,
            "_view_module": "@jupyter-widgets/base",
            "_view_module_version": "1.2.0",
            "_view_name": "LayoutView",
            "align_content": null,
            "align_items": null,
            "align_self": null,
            "border": null,
            "bottom": null,
            "display": null,
            "flex": null,
            "flex_flow": null,
            "grid_area": null,
            "grid_auto_columns": null,
            "grid_auto_flow": null,
            "grid_auto_rows": null,
            "grid_column": null,
            "grid_gap": null,
            "grid_row": null,
            "grid_template_areas": null,
            "grid_template_columns": null,
            "grid_template_rows": null,
            "height": null,
            "justify_content": null,
            "justify_items": null,
            "left": null,
            "margin": null,
            "max_height": null,
            "max_width": null,
            "min_height": null,
            "min_width": null,
            "object_fit": null,
            "object_position": null,
            "order": null,
            "overflow": null,
            "overflow_x": null,
            "overflow_y": null,
            "padding": null,
            "right": null,
            "top": null,
            "visibility": null,
            "width": null
          }
        },
        "e9ea6b0665dd4efe85132d4be949f776": {
          "model_module": "@jupyter-widgets/base",
          "model_module_version": "1.2.0",
          "model_name": "LayoutModel",
          "state": {
            "_model_module": "@jupyter-widgets/base",
            "_model_module_version": "1.2.0",
            "_model_name": "LayoutModel",
            "_view_count": null,
            "_view_module": "@jupyter-widgets/base",
            "_view_module_version": "1.2.0",
            "_view_name": "LayoutView",
            "align_content": null,
            "align_items": null,
            "align_self": null,
            "border": null,
            "bottom": null,
            "display": null,
            "flex": null,
            "flex_flow": null,
            "grid_area": null,
            "grid_auto_columns": null,
            "grid_auto_flow": null,
            "grid_auto_rows": null,
            "grid_column": null,
            "grid_gap": null,
            "grid_row": null,
            "grid_template_areas": null,
            "grid_template_columns": null,
            "grid_template_rows": null,
            "height": null,
            "justify_content": null,
            "justify_items": null,
            "left": null,
            "margin": null,
            "max_height": null,
            "max_width": null,
            "min_height": null,
            "min_width": null,
            "object_fit": null,
            "object_position": null,
            "order": null,
            "overflow": null,
            "overflow_x": null,
            "overflow_y": null,
            "padding": null,
            "right": null,
            "top": null,
            "visibility": null,
            "width": null
          }
        },
        "ea1fbd0d1dd64e42a436980378ab7495": {
          "model_module": "@jupyter-widgets/base",
          "model_module_version": "1.2.0",
          "model_name": "LayoutModel",
          "state": {
            "_model_module": "@jupyter-widgets/base",
            "_model_module_version": "1.2.0",
            "_model_name": "LayoutModel",
            "_view_count": null,
            "_view_module": "@jupyter-widgets/base",
            "_view_module_version": "1.2.0",
            "_view_name": "LayoutView",
            "align_content": null,
            "align_items": null,
            "align_self": null,
            "border": null,
            "bottom": null,
            "display": null,
            "flex": null,
            "flex_flow": null,
            "grid_area": null,
            "grid_auto_columns": null,
            "grid_auto_flow": null,
            "grid_auto_rows": null,
            "grid_column": null,
            "grid_gap": null,
            "grid_row": null,
            "grid_template_areas": null,
            "grid_template_columns": null,
            "grid_template_rows": null,
            "height": null,
            "justify_content": null,
            "justify_items": null,
            "left": null,
            "margin": null,
            "max_height": null,
            "max_width": null,
            "min_height": null,
            "min_width": null,
            "object_fit": null,
            "object_position": null,
            "order": null,
            "overflow": null,
            "overflow_x": null,
            "overflow_y": null,
            "padding": null,
            "right": null,
            "top": null,
            "visibility": null,
            "width": null
          }
        },
        "f6a0b623a9c444d7bff8bc704ead4fb7": {
          "model_module": "@jupyter-widgets/controls",
          "model_module_version": "1.5.0",
          "model_name": "HTMLModel",
          "state": {
            "_dom_classes": [],
            "_model_module": "@jupyter-widgets/controls",
            "_model_module_version": "1.5.0",
            "_model_name": "HTMLModel",
            "_view_count": null,
            "_view_module": "@jupyter-widgets/controls",
            "_view_module_version": "1.5.0",
            "_view_name": "HTMLView",
            "description": "",
            "description_tooltip": null,
            "layout": "IPY_MODEL_e9ea6b0665dd4efe85132d4be949f776",
            "placeholder": "​",
            "style": "IPY_MODEL_199781a8da934c0587d587b6f4ab27bb",
            "value": "label_encoder.txt: "
          }
        }
      }
    }
  },
  "nbformat": 4,
  "nbformat_minor": 0
}