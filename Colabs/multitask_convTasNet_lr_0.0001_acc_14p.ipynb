{
  "cells": [
    {
      "cell_type": "markdown",
      "metadata": {
        "id": "WLvCxOrrKzgy"
      },
      "source": [
        "Install Libraries"
      ]
    },
    {
      "cell_type": "code",
      "execution_count": 1,
      "metadata": {
        "id": "L7Gy-iEXDU0W",
        "colab": {
          "base_uri": "https://localhost:8080/"
        },
        "outputId": "d779e594-1ce1-426d-861e-f0513ef0b792"
      },
      "outputs": [
        {
          "output_type": "stream",
          "name": "stdout",
          "text": [
            "Collecting speechbrain\n",
            "  Downloading speechbrain-1.0.3-py3-none-any.whl.metadata (24 kB)\n",
            "Collecting hyperpyyaml (from speechbrain)\n",
            "  Downloading HyperPyYAML-1.2.2-py3-none-any.whl.metadata (7.6 kB)\n",
            "Requirement already satisfied: joblib in /usr/local/lib/python3.11/dist-packages (from speechbrain) (1.5.1)\n",
            "Requirement already satisfied: numpy in /usr/local/lib/python3.11/dist-packages (from speechbrain) (2.0.2)\n",
            "Requirement already satisfied: packaging in /usr/local/lib/python3.11/dist-packages (from speechbrain) (25.0)\n",
            "Requirement already satisfied: scipy in /usr/local/lib/python3.11/dist-packages (from speechbrain) (1.16.0)\n",
            "Requirement already satisfied: sentencepiece in /usr/local/lib/python3.11/dist-packages (from speechbrain) (0.2.0)\n",
            "Requirement already satisfied: torch>=1.9 in /usr/local/lib/python3.11/dist-packages (from speechbrain) (2.6.0+cu124)\n",
            "Requirement already satisfied: torchaudio in /usr/local/lib/python3.11/dist-packages (from speechbrain) (2.6.0+cu124)\n",
            "Requirement already satisfied: tqdm in /usr/local/lib/python3.11/dist-packages (from speechbrain) (4.67.1)\n",
            "Requirement already satisfied: huggingface_hub in /usr/local/lib/python3.11/dist-packages (from speechbrain) (0.33.4)\n",
            "Requirement already satisfied: filelock in /usr/local/lib/python3.11/dist-packages (from torch>=1.9->speechbrain) (3.18.0)\n",
            "Requirement already satisfied: typing-extensions>=4.10.0 in /usr/local/lib/python3.11/dist-packages (from torch>=1.9->speechbrain) (4.14.1)\n",
            "Requirement already satisfied: networkx in /usr/local/lib/python3.11/dist-packages (from torch>=1.9->speechbrain) (3.5)\n",
            "Requirement already satisfied: jinja2 in /usr/local/lib/python3.11/dist-packages (from torch>=1.9->speechbrain) (3.1.6)\n",
            "Requirement already satisfied: fsspec in /usr/local/lib/python3.11/dist-packages (from torch>=1.9->speechbrain) (2025.7.0)\n",
            "Collecting nvidia-cuda-nvrtc-cu12==12.4.127 (from torch>=1.9->speechbrain)\n",
            "  Downloading nvidia_cuda_nvrtc_cu12-12.4.127-py3-none-manylinux2014_x86_64.whl.metadata (1.5 kB)\n",
            "Collecting nvidia-cuda-runtime-cu12==12.4.127 (from torch>=1.9->speechbrain)\n",
            "  Downloading nvidia_cuda_runtime_cu12-12.4.127-py3-none-manylinux2014_x86_64.whl.metadata (1.5 kB)\n",
            "Collecting nvidia-cuda-cupti-cu12==12.4.127 (from torch>=1.9->speechbrain)\n",
            "  Downloading nvidia_cuda_cupti_cu12-12.4.127-py3-none-manylinux2014_x86_64.whl.metadata (1.6 kB)\n",
            "Collecting nvidia-cudnn-cu12==9.1.0.70 (from torch>=1.9->speechbrain)\n",
            "  Downloading nvidia_cudnn_cu12-9.1.0.70-py3-none-manylinux2014_x86_64.whl.metadata (1.6 kB)\n",
            "Collecting nvidia-cublas-cu12==12.4.5.8 (from torch>=1.9->speechbrain)\n",
            "  Downloading nvidia_cublas_cu12-12.4.5.8-py3-none-manylinux2014_x86_64.whl.metadata (1.5 kB)\n",
            "Collecting nvidia-cufft-cu12==11.2.1.3 (from torch>=1.9->speechbrain)\n",
            "  Downloading nvidia_cufft_cu12-11.2.1.3-py3-none-manylinux2014_x86_64.whl.metadata (1.5 kB)\n",
            "Collecting nvidia-curand-cu12==10.3.5.147 (from torch>=1.9->speechbrain)\n",
            "  Downloading nvidia_curand_cu12-10.3.5.147-py3-none-manylinux2014_x86_64.whl.metadata (1.5 kB)\n",
            "Collecting nvidia-cusolver-cu12==11.6.1.9 (from torch>=1.9->speechbrain)\n",
            "  Downloading nvidia_cusolver_cu12-11.6.1.9-py3-none-manylinux2014_x86_64.whl.metadata (1.6 kB)\n",
            "Collecting nvidia-cusparse-cu12==12.3.1.170 (from torch>=1.9->speechbrain)\n",
            "  Downloading nvidia_cusparse_cu12-12.3.1.170-py3-none-manylinux2014_x86_64.whl.metadata (1.6 kB)\n",
            "Requirement already satisfied: nvidia-cusparselt-cu12==0.6.2 in /usr/local/lib/python3.11/dist-packages (from torch>=1.9->speechbrain) (0.6.2)\n",
            "Requirement already satisfied: nvidia-nccl-cu12==2.21.5 in /usr/local/lib/python3.11/dist-packages (from torch>=1.9->speechbrain) (2.21.5)\n",
            "Requirement already satisfied: nvidia-nvtx-cu12==12.4.127 in /usr/local/lib/python3.11/dist-packages (from torch>=1.9->speechbrain) (12.4.127)\n",
            "Collecting nvidia-nvjitlink-cu12==12.4.127 (from torch>=1.9->speechbrain)\n",
            "  Downloading nvidia_nvjitlink_cu12-12.4.127-py3-none-manylinux2014_x86_64.whl.metadata (1.5 kB)\n",
            "Requirement already satisfied: triton==3.2.0 in /usr/local/lib/python3.11/dist-packages (from torch>=1.9->speechbrain) (3.2.0)\n",
            "Requirement already satisfied: sympy==1.13.1 in /usr/local/lib/python3.11/dist-packages (from torch>=1.9->speechbrain) (1.13.1)\n",
            "Requirement already satisfied: mpmath<1.4,>=1.1.0 in /usr/local/lib/python3.11/dist-packages (from sympy==1.13.1->torch>=1.9->speechbrain) (1.3.0)\n",
            "Requirement already satisfied: pyyaml>=5.1 in /usr/local/lib/python3.11/dist-packages (from huggingface_hub->speechbrain) (6.0.2)\n",
            "Requirement already satisfied: requests in /usr/local/lib/python3.11/dist-packages (from huggingface_hub->speechbrain) (2.32.3)\n",
            "Requirement already satisfied: hf-xet<2.0.0,>=1.1.2 in /usr/local/lib/python3.11/dist-packages (from huggingface_hub->speechbrain) (1.1.5)\n",
            "Collecting ruamel.yaml>=0.17.28 (from hyperpyyaml->speechbrain)\n",
            "  Downloading ruamel.yaml-0.18.14-py3-none-any.whl.metadata (24 kB)\n",
            "Collecting ruamel.yaml.clib>=0.2.7 (from ruamel.yaml>=0.17.28->hyperpyyaml->speechbrain)\n",
            "  Downloading ruamel.yaml.clib-0.2.12-cp311-cp311-manylinux_2_17_x86_64.manylinux2014_x86_64.whl.metadata (2.7 kB)\n",
            "Requirement already satisfied: MarkupSafe>=2.0 in /usr/local/lib/python3.11/dist-packages (from jinja2->torch>=1.9->speechbrain) (3.0.2)\n",
            "Requirement already satisfied: charset-normalizer<4,>=2 in /usr/local/lib/python3.11/dist-packages (from requests->huggingface_hub->speechbrain) (3.4.2)\n",
            "Requirement already satisfied: idna<4,>=2.5 in /usr/local/lib/python3.11/dist-packages (from requests->huggingface_hub->speechbrain) (3.10)\n",
            "Requirement already satisfied: urllib3<3,>=1.21.1 in /usr/local/lib/python3.11/dist-packages (from requests->huggingface_hub->speechbrain) (2.5.0)\n",
            "Requirement already satisfied: certifi>=2017.4.17 in /usr/local/lib/python3.11/dist-packages (from requests->huggingface_hub->speechbrain) (2025.7.14)\n",
            "Downloading speechbrain-1.0.3-py3-none-any.whl (864 kB)\n",
            "\u001b[2K   \u001b[90m━━━━━━━━━━━━━━━━━━━━━━━━━━━━━━━━━━━━━━━━\u001b[0m \u001b[32m864.1/864.1 kB\u001b[0m \u001b[31m51.8 MB/s\u001b[0m eta \u001b[36m0:00:00\u001b[0m\n",
            "\u001b[?25hDownloading nvidia_cublas_cu12-12.4.5.8-py3-none-manylinux2014_x86_64.whl (363.4 MB)\n",
            "\u001b[2K   \u001b[90m━━━━━━━━━━━━━━━━━━━━━━━━━━━━━━━━━━━━━━━━\u001b[0m \u001b[32m363.4/363.4 MB\u001b[0m \u001b[31m3.2 MB/s\u001b[0m eta \u001b[36m0:00:00\u001b[0m\n",
            "\u001b[?25hDownloading nvidia_cuda_cupti_cu12-12.4.127-py3-none-manylinux2014_x86_64.whl (13.8 MB)\n",
            "\u001b[2K   \u001b[90m━━━━━━━━━━━━━━━━━━━━━━━━━━━━━━━━━━━━━━━━\u001b[0m \u001b[32m13.8/13.8 MB\u001b[0m \u001b[31m118.8 MB/s\u001b[0m eta \u001b[36m0:00:00\u001b[0m\n",
            "\u001b[?25hDownloading nvidia_cuda_nvrtc_cu12-12.4.127-py3-none-manylinux2014_x86_64.whl (24.6 MB)\n",
            "\u001b[2K   \u001b[90m━━━━━━━━━━━━━━━━━━━━━━━━━━━━━━━━━━━━━━━━\u001b[0m \u001b[32m24.6/24.6 MB\u001b[0m \u001b[31m99.5 MB/s\u001b[0m eta \u001b[36m0:00:00\u001b[0m\n",
            "\u001b[?25hDownloading nvidia_cuda_runtime_cu12-12.4.127-py3-none-manylinux2014_x86_64.whl (883 kB)\n",
            "\u001b[2K   \u001b[90m━━━━━━━━━━━━━━━━━━━━━━━━━━━━━━━━━━━━━━━━\u001b[0m \u001b[32m883.7/883.7 kB\u001b[0m \u001b[31m69.0 MB/s\u001b[0m eta \u001b[36m0:00:00\u001b[0m\n",
            "\u001b[?25hDownloading nvidia_cudnn_cu12-9.1.0.70-py3-none-manylinux2014_x86_64.whl (664.8 MB)\n",
            "\u001b[2K   \u001b[90m━━━━━━━━━━━━━━━━━━━━━━━━━━━━━━━━━━━━━━━━\u001b[0m \u001b[32m664.8/664.8 MB\u001b[0m \u001b[31m1.9 MB/s\u001b[0m eta \u001b[36m0:00:00\u001b[0m\n",
            "\u001b[?25hDownloading nvidia_cufft_cu12-11.2.1.3-py3-none-manylinux2014_x86_64.whl (211.5 MB)\n",
            "\u001b[2K   \u001b[90m━━━━━━━━━━━━━━━━━━━━━━━━━━━━━━━━━━━━━━━━\u001b[0m \u001b[32m211.5/211.5 MB\u001b[0m \u001b[31m11.7 MB/s\u001b[0m eta \u001b[36m0:00:00\u001b[0m\n",
            "\u001b[?25hDownloading nvidia_curand_cu12-10.3.5.147-py3-none-manylinux2014_x86_64.whl (56.3 MB)\n",
            "\u001b[2K   \u001b[90m━━━━━━━━━━━━━━━━━━━━━━━━━━━━━━━━━━━━━━━━\u001b[0m \u001b[32m56.3/56.3 MB\u001b[0m \u001b[31m45.8 MB/s\u001b[0m eta \u001b[36m0:00:00\u001b[0m\n",
            "\u001b[?25hDownloading nvidia_cusolver_cu12-11.6.1.9-py3-none-manylinux2014_x86_64.whl (127.9 MB)\n",
            "\u001b[2K   \u001b[90m━━━━━━━━━━━━━━━━━━━━━━━━━━━━━━━━━━━━━━━━\u001b[0m \u001b[32m127.9/127.9 MB\u001b[0m \u001b[31m20.0 MB/s\u001b[0m eta \u001b[36m0:00:00\u001b[0m\n",
            "\u001b[?25hDownloading nvidia_cusparse_cu12-12.3.1.170-py3-none-manylinux2014_x86_64.whl (207.5 MB)\n",
            "\u001b[2K   \u001b[90m━━━━━━━━━━━━━━━━━━━━━━━━━━━━━━━━━━━━━━━━\u001b[0m \u001b[32m207.5/207.5 MB\u001b[0m \u001b[31m3.3 MB/s\u001b[0m eta \u001b[36m0:00:00\u001b[0m\n",
            "\u001b[?25hDownloading nvidia_nvjitlink_cu12-12.4.127-py3-none-manylinux2014_x86_64.whl (21.1 MB)\n",
            "\u001b[2K   \u001b[90m━━━━━━━━━━━━━━━━━━━━━━━━━━━━━━━━━━━━━━━━\u001b[0m \u001b[32m21.1/21.1 MB\u001b[0m \u001b[31m105.9 MB/s\u001b[0m eta \u001b[36m0:00:00\u001b[0m\n",
            "\u001b[?25hDownloading HyperPyYAML-1.2.2-py3-none-any.whl (16 kB)\n",
            "Downloading ruamel.yaml-0.18.14-py3-none-any.whl (118 kB)\n",
            "\u001b[2K   \u001b[90m━━━━━━━━━━━━━━━━━━━━━━━━━━━━━━━━━━━━━━━━\u001b[0m \u001b[32m118.6/118.6 kB\u001b[0m \u001b[31m16.3 MB/s\u001b[0m eta \u001b[36m0:00:00\u001b[0m\n",
            "\u001b[?25hDownloading ruamel.yaml.clib-0.2.12-cp311-cp311-manylinux_2_17_x86_64.manylinux2014_x86_64.whl (739 kB)\n",
            "\u001b[2K   \u001b[90m━━━━━━━━━━━━━━━━━━━━━━━━━━━━━━━━━━━━━━━━\u001b[0m \u001b[32m739.1/739.1 kB\u001b[0m \u001b[31m62.7 MB/s\u001b[0m eta \u001b[36m0:00:00\u001b[0m\n",
            "\u001b[?25hInstalling collected packages: ruamel.yaml.clib, nvidia-nvjitlink-cu12, nvidia-curand-cu12, nvidia-cufft-cu12, nvidia-cuda-runtime-cu12, nvidia-cuda-nvrtc-cu12, nvidia-cuda-cupti-cu12, nvidia-cublas-cu12, ruamel.yaml, nvidia-cusparse-cu12, nvidia-cudnn-cu12, nvidia-cusolver-cu12, hyperpyyaml, speechbrain\n",
            "  Attempting uninstall: nvidia-nvjitlink-cu12\n",
            "    Found existing installation: nvidia-nvjitlink-cu12 12.5.82\n",
            "    Uninstalling nvidia-nvjitlink-cu12-12.5.82:\n",
            "      Successfully uninstalled nvidia-nvjitlink-cu12-12.5.82\n",
            "  Attempting uninstall: nvidia-curand-cu12\n",
            "    Found existing installation: nvidia-curand-cu12 10.3.6.82\n",
            "    Uninstalling nvidia-curand-cu12-10.3.6.82:\n",
            "      Successfully uninstalled nvidia-curand-cu12-10.3.6.82\n",
            "  Attempting uninstall: nvidia-cufft-cu12\n",
            "    Found existing installation: nvidia-cufft-cu12 11.2.3.61\n",
            "    Uninstalling nvidia-cufft-cu12-11.2.3.61:\n",
            "      Successfully uninstalled nvidia-cufft-cu12-11.2.3.61\n",
            "  Attempting uninstall: nvidia-cuda-runtime-cu12\n",
            "    Found existing installation: nvidia-cuda-runtime-cu12 12.5.82\n",
            "    Uninstalling nvidia-cuda-runtime-cu12-12.5.82:\n",
            "      Successfully uninstalled nvidia-cuda-runtime-cu12-12.5.82\n",
            "  Attempting uninstall: nvidia-cuda-nvrtc-cu12\n",
            "    Found existing installation: nvidia-cuda-nvrtc-cu12 12.5.82\n",
            "    Uninstalling nvidia-cuda-nvrtc-cu12-12.5.82:\n",
            "      Successfully uninstalled nvidia-cuda-nvrtc-cu12-12.5.82\n",
            "  Attempting uninstall: nvidia-cuda-cupti-cu12\n",
            "    Found existing installation: nvidia-cuda-cupti-cu12 12.5.82\n",
            "    Uninstalling nvidia-cuda-cupti-cu12-12.5.82:\n",
            "      Successfully uninstalled nvidia-cuda-cupti-cu12-12.5.82\n",
            "  Attempting uninstall: nvidia-cublas-cu12\n",
            "    Found existing installation: nvidia-cublas-cu12 12.5.3.2\n",
            "    Uninstalling nvidia-cublas-cu12-12.5.3.2:\n",
            "      Successfully uninstalled nvidia-cublas-cu12-12.5.3.2\n",
            "  Attempting uninstall: nvidia-cusparse-cu12\n",
            "    Found existing installation: nvidia-cusparse-cu12 12.5.1.3\n",
            "    Uninstalling nvidia-cusparse-cu12-12.5.1.3:\n",
            "      Successfully uninstalled nvidia-cusparse-cu12-12.5.1.3\n",
            "  Attempting uninstall: nvidia-cudnn-cu12\n",
            "    Found existing installation: nvidia-cudnn-cu12 9.3.0.75\n",
            "    Uninstalling nvidia-cudnn-cu12-9.3.0.75:\n",
            "      Successfully uninstalled nvidia-cudnn-cu12-9.3.0.75\n",
            "  Attempting uninstall: nvidia-cusolver-cu12\n",
            "    Found existing installation: nvidia-cusolver-cu12 11.6.3.83\n",
            "    Uninstalling nvidia-cusolver-cu12-11.6.3.83:\n",
            "      Successfully uninstalled nvidia-cusolver-cu12-11.6.3.83\n",
            "Successfully installed hyperpyyaml-1.2.2 nvidia-cublas-cu12-12.4.5.8 nvidia-cuda-cupti-cu12-12.4.127 nvidia-cuda-nvrtc-cu12-12.4.127 nvidia-cuda-runtime-cu12-12.4.127 nvidia-cudnn-cu12-9.1.0.70 nvidia-cufft-cu12-11.2.1.3 nvidia-curand-cu12-10.3.5.147 nvidia-cusolver-cu12-11.6.1.9 nvidia-cusparse-cu12-12.3.1.170 nvidia-nvjitlink-cu12-12.4.127 ruamel.yaml-0.18.14 ruamel.yaml.clib-0.2.12 speechbrain-1.0.3\n",
            "Collecting mir_eval\n",
            "  Downloading mir_eval-0.8.2-py3-none-any.whl.metadata (3.0 kB)\n",
            "Requirement already satisfied: numpy>=1.15.4 in /usr/local/lib/python3.11/dist-packages (from mir_eval) (2.0.2)\n",
            "Requirement already satisfied: scipy>=1.4.0 in /usr/local/lib/python3.11/dist-packages (from mir_eval) (1.16.0)\n",
            "Requirement already satisfied: decorator in /usr/local/lib/python3.11/dist-packages (from mir_eval) (4.4.2)\n",
            "Downloading mir_eval-0.8.2-py3-none-any.whl (102 kB)\n",
            "\u001b[2K   \u001b[90m━━━━━━━━━━━━━━━━━━━━━━━━━━━━━━━━━━━━━━━━\u001b[0m \u001b[32m102.8/102.8 kB\u001b[0m \u001b[31m11.7 MB/s\u001b[0m eta \u001b[36m0:00:00\u001b[0m\n",
            "\u001b[?25hInstalling collected packages: mir_eval\n",
            "Successfully installed mir_eval-0.8.2\n",
            "Collecting asteroid\n",
            "  Downloading asteroid-0.7.0-py3-none-any.whl.metadata (11 kB)\n",
            "Requirement already satisfied: numpy>=1.16.4 in /usr/local/lib/python3.11/dist-packages (from asteroid) (2.0.2)\n",
            "Requirement already satisfied: scipy>=1.10.1 in /usr/local/lib/python3.11/dist-packages (from asteroid) (1.16.0)\n",
            "Requirement already satisfied: torch>=2.0.0 in /usr/local/lib/python3.11/dist-packages (from asteroid) (2.6.0+cu124)\n",
            "Collecting asteroid-filterbanks>=0.4.0 (from asteroid)\n",
            "  Downloading asteroid_filterbanks-0.4.0-py3-none-any.whl.metadata (3.3 kB)\n",
            "Requirement already satisfied: SoundFile>=0.10.2 in /usr/local/lib/python3.11/dist-packages (from asteroid) (0.13.1)\n",
            "Requirement already satisfied: huggingface-hub>=0.0.2 in /usr/local/lib/python3.11/dist-packages (from asteroid) (0.33.4)\n",
            "Requirement already satisfied: PyYAML>=5.0 in /usr/local/lib/python3.11/dist-packages (from asteroid) (6.0.2)\n",
            "Requirement already satisfied: pandas>=0.23.4 in /usr/local/lib/python3.11/dist-packages (from asteroid) (2.2.2)\n",
            "Collecting pytorch-lightning>=2.0.0 (from asteroid)\n",
            "  Downloading pytorch_lightning-2.5.2-py3-none-any.whl.metadata (21 kB)\n",
            "Collecting torchmetrics<=0.11.4 (from asteroid)\n",
            "  Downloading torchmetrics-0.11.4-py3-none-any.whl.metadata (15 kB)\n",
            "Requirement already satisfied: torchaudio>=0.5.0 in /usr/local/lib/python3.11/dist-packages (from asteroid) (2.6.0+cu124)\n",
            "Collecting pb-bss-eval>=0.0.2 (from asteroid)\n",
            "  Downloading pb_bss_eval-0.0.2-py3-none-any.whl.metadata (3.1 kB)\n",
            "Collecting torch-stoi>=0.1.2 (from asteroid)\n",
            "  Downloading torch_stoi-0.2.3-py3-none-any.whl.metadata (3.6 kB)\n",
            "Collecting torch-optimizer<0.2.0,>=0.0.1a12 (from asteroid)\n",
            "  Downloading torch_optimizer-0.1.0-py3-none-any.whl.metadata (53 kB)\n",
            "\u001b[2K     \u001b[90m━━━━━━━━━━━━━━━━━━━━━━━━━━━━━━━━━━━━━━━━\u001b[0m \u001b[32m53.5/53.5 kB\u001b[0m \u001b[31m6.6 MB/s\u001b[0m eta \u001b[36m0:00:00\u001b[0m\n",
            "\u001b[?25hCollecting julius (from asteroid)\n",
            "  Downloading julius-0.2.7.tar.gz (59 kB)\n",
            "\u001b[2K     \u001b[90m━━━━━━━━━━━━━━━━━━━━━━━━━━━━━━━━━━━━━━━━\u001b[0m \u001b[32m59.6/59.6 kB\u001b[0m \u001b[31m7.4 MB/s\u001b[0m eta \u001b[36m0:00:00\u001b[0m\n",
            "\u001b[?25h  Preparing metadata (setup.py) ... \u001b[?25l\u001b[?25hdone\n",
            "Requirement already satisfied: typing-extensions in /usr/local/lib/python3.11/dist-packages (from asteroid-filterbanks>=0.4.0->asteroid) (4.14.1)\n",
            "Requirement already satisfied: filelock in /usr/local/lib/python3.11/dist-packages (from huggingface-hub>=0.0.2->asteroid) (3.18.0)\n",
            "Requirement already satisfied: fsspec>=2023.5.0 in /usr/local/lib/python3.11/dist-packages (from huggingface-hub>=0.0.2->asteroid) (2025.7.0)\n",
            "Requirement already satisfied: packaging>=20.9 in /usr/local/lib/python3.11/dist-packages (from huggingface-hub>=0.0.2->asteroid) (25.0)\n",
            "Requirement already satisfied: requests in /usr/local/lib/python3.11/dist-packages (from huggingface-hub>=0.0.2->asteroid) (2.32.3)\n",
            "Requirement already satisfied: tqdm>=4.42.1 in /usr/local/lib/python3.11/dist-packages (from huggingface-hub>=0.0.2->asteroid) (4.67.1)\n",
            "Requirement already satisfied: hf-xet<2.0.0,>=1.1.2 in /usr/local/lib/python3.11/dist-packages (from huggingface-hub>=0.0.2->asteroid) (1.1.5)\n",
            "Requirement already satisfied: python-dateutil>=2.8.2 in /usr/local/lib/python3.11/dist-packages (from pandas>=0.23.4->asteroid) (2.9.0.post0)\n",
            "Requirement already satisfied: pytz>=2020.1 in /usr/local/lib/python3.11/dist-packages (from pandas>=0.23.4->asteroid) (2025.2)\n",
            "Requirement already satisfied: tzdata>=2022.7 in /usr/local/lib/python3.11/dist-packages (from pandas>=0.23.4->asteroid) (2025.2)\n",
            "Collecting cached-property (from pb-bss-eval>=0.0.2->asteroid)\n",
            "  Downloading cached_property-2.0.1-py3-none-any.whl.metadata (10 kB)\n",
            "Requirement already satisfied: einops in /usr/local/lib/python3.11/dist-packages (from pb-bss-eval>=0.0.2->asteroid) (0.8.1)\n",
            "Collecting pystoi (from pb-bss-eval>=0.0.2->asteroid)\n",
            "  Downloading pystoi-0.4.1-py2.py3-none-any.whl.metadata (4.0 kB)\n",
            "Requirement already satisfied: mir-eval in /usr/local/lib/python3.11/dist-packages (from pb-bss-eval>=0.0.2->asteroid) (0.8.2)\n",
            "Collecting pesq (from pb-bss-eval>=0.0.2->asteroid)\n",
            "  Downloading pesq-0.0.4.tar.gz (38 kB)\n",
            "  Preparing metadata (setup.py) ... \u001b[?25l\u001b[?25hdone\n",
            "Collecting lightning-utilities>=0.10.0 (from pytorch-lightning>=2.0.0->asteroid)\n",
            "  Downloading lightning_utilities-0.14.3-py3-none-any.whl.metadata (5.6 kB)\n",
            "Requirement already satisfied: cffi>=1.0 in /usr/local/lib/python3.11/dist-packages (from SoundFile>=0.10.2->asteroid) (1.17.1)\n",
            "Requirement already satisfied: networkx in /usr/local/lib/python3.11/dist-packages (from torch>=2.0.0->asteroid) (3.5)\n",
            "Requirement already satisfied: jinja2 in /usr/local/lib/python3.11/dist-packages (from torch>=2.0.0->asteroid) (3.1.6)\n",
            "Requirement already satisfied: nvidia-cuda-nvrtc-cu12==12.4.127 in /usr/local/lib/python3.11/dist-packages (from torch>=2.0.0->asteroid) (12.4.127)\n",
            "Requirement already satisfied: nvidia-cuda-runtime-cu12==12.4.127 in /usr/local/lib/python3.11/dist-packages (from torch>=2.0.0->asteroid) (12.4.127)\n",
            "Requirement already satisfied: nvidia-cuda-cupti-cu12==12.4.127 in /usr/local/lib/python3.11/dist-packages (from torch>=2.0.0->asteroid) (12.4.127)\n",
            "Requirement already satisfied: nvidia-cudnn-cu12==9.1.0.70 in /usr/local/lib/python3.11/dist-packages (from torch>=2.0.0->asteroid) (9.1.0.70)\n",
            "Requirement already satisfied: nvidia-cublas-cu12==12.4.5.8 in /usr/local/lib/python3.11/dist-packages (from torch>=2.0.0->asteroid) (12.4.5.8)\n",
            "Requirement already satisfied: nvidia-cufft-cu12==11.2.1.3 in /usr/local/lib/python3.11/dist-packages (from torch>=2.0.0->asteroid) (11.2.1.3)\n",
            "Requirement already satisfied: nvidia-curand-cu12==10.3.5.147 in /usr/local/lib/python3.11/dist-packages (from torch>=2.0.0->asteroid) (10.3.5.147)\n",
            "Requirement already satisfied: nvidia-cusolver-cu12==11.6.1.9 in /usr/local/lib/python3.11/dist-packages (from torch>=2.0.0->asteroid) (11.6.1.9)\n",
            "Requirement already satisfied: nvidia-cusparse-cu12==12.3.1.170 in /usr/local/lib/python3.11/dist-packages (from torch>=2.0.0->asteroid) (12.3.1.170)\n",
            "Requirement already satisfied: nvidia-cusparselt-cu12==0.6.2 in /usr/local/lib/python3.11/dist-packages (from torch>=2.0.0->asteroid) (0.6.2)\n",
            "Requirement already satisfied: nvidia-nccl-cu12==2.21.5 in /usr/local/lib/python3.11/dist-packages (from torch>=2.0.0->asteroid) (2.21.5)\n",
            "Requirement already satisfied: nvidia-nvtx-cu12==12.4.127 in /usr/local/lib/python3.11/dist-packages (from torch>=2.0.0->asteroid) (12.4.127)\n",
            "Requirement already satisfied: nvidia-nvjitlink-cu12==12.4.127 in /usr/local/lib/python3.11/dist-packages (from torch>=2.0.0->asteroid) (12.4.127)\n",
            "Requirement already satisfied: triton==3.2.0 in /usr/local/lib/python3.11/dist-packages (from torch>=2.0.0->asteroid) (3.2.0)\n",
            "Requirement already satisfied: sympy==1.13.1 in /usr/local/lib/python3.11/dist-packages (from torch>=2.0.0->asteroid) (1.13.1)\n",
            "Requirement already satisfied: mpmath<1.4,>=1.1.0 in /usr/local/lib/python3.11/dist-packages (from sympy==1.13.1->torch>=2.0.0->asteroid) (1.3.0)\n",
            "Collecting pytorch-ranger>=0.1.1 (from torch-optimizer<0.2.0,>=0.0.1a12->asteroid)\n",
            "  Downloading pytorch_ranger-0.1.1-py3-none-any.whl.metadata (509 bytes)\n",
            "Requirement already satisfied: pycparser in /usr/local/lib/python3.11/dist-packages (from cffi>=1.0->SoundFile>=0.10.2->asteroid) (2.22)\n",
            "Requirement already satisfied: aiohttp!=4.0.0a0,!=4.0.0a1 in /usr/local/lib/python3.11/dist-packages (from fsspec[http]>=2022.5.0->pytorch-lightning>=2.0.0->asteroid) (3.11.15)\n",
            "Requirement already satisfied: setuptools in /usr/local/lib/python3.11/dist-packages (from lightning-utilities>=0.10.0->pytorch-lightning>=2.0.0->asteroid) (75.2.0)\n",
            "Requirement already satisfied: six>=1.5 in /usr/local/lib/python3.11/dist-packages (from python-dateutil>=2.8.2->pandas>=0.23.4->asteroid) (1.17.0)\n",
            "Requirement already satisfied: MarkupSafe>=2.0 in /usr/local/lib/python3.11/dist-packages (from jinja2->torch>=2.0.0->asteroid) (3.0.2)\n",
            "Requirement already satisfied: decorator in /usr/local/lib/python3.11/dist-packages (from mir-eval->pb-bss-eval>=0.0.2->asteroid) (4.4.2)\n",
            "Requirement already satisfied: charset-normalizer<4,>=2 in /usr/local/lib/python3.11/dist-packages (from requests->huggingface-hub>=0.0.2->asteroid) (3.4.2)\n",
            "Requirement already satisfied: idna<4,>=2.5 in /usr/local/lib/python3.11/dist-packages (from requests->huggingface-hub>=0.0.2->asteroid) (3.10)\n",
            "Requirement already satisfied: urllib3<3,>=1.21.1 in /usr/local/lib/python3.11/dist-packages (from requests->huggingface-hub>=0.0.2->asteroid) (2.5.0)\n",
            "Requirement already satisfied: certifi>=2017.4.17 in /usr/local/lib/python3.11/dist-packages (from requests->huggingface-hub>=0.0.2->asteroid) (2025.7.14)\n",
            "Requirement already satisfied: aiohappyeyeballs>=2.3.0 in /usr/local/lib/python3.11/dist-packages (from aiohttp!=4.0.0a0,!=4.0.0a1->fsspec[http]>=2022.5.0->pytorch-lightning>=2.0.0->asteroid) (2.6.1)\n",
            "Requirement already satisfied: aiosignal>=1.1.2 in /usr/local/lib/python3.11/dist-packages (from aiohttp!=4.0.0a0,!=4.0.0a1->fsspec[http]>=2022.5.0->pytorch-lightning>=2.0.0->asteroid) (1.4.0)\n",
            "Requirement already satisfied: attrs>=17.3.0 in /usr/local/lib/python3.11/dist-packages (from aiohttp!=4.0.0a0,!=4.0.0a1->fsspec[http]>=2022.5.0->pytorch-lightning>=2.0.0->asteroid) (25.3.0)\n",
            "Requirement already satisfied: frozenlist>=1.1.1 in /usr/local/lib/python3.11/dist-packages (from aiohttp!=4.0.0a0,!=4.0.0a1->fsspec[http]>=2022.5.0->pytorch-lightning>=2.0.0->asteroid) (1.7.0)\n",
            "Requirement already satisfied: multidict<7.0,>=4.5 in /usr/local/lib/python3.11/dist-packages (from aiohttp!=4.0.0a0,!=4.0.0a1->fsspec[http]>=2022.5.0->pytorch-lightning>=2.0.0->asteroid) (6.6.3)\n",
            "Requirement already satisfied: propcache>=0.2.0 in /usr/local/lib/python3.11/dist-packages (from aiohttp!=4.0.0a0,!=4.0.0a1->fsspec[http]>=2022.5.0->pytorch-lightning>=2.0.0->asteroid) (0.3.2)\n",
            "Requirement already satisfied: yarl<2.0,>=1.17.0 in /usr/local/lib/python3.11/dist-packages (from aiohttp!=4.0.0a0,!=4.0.0a1->fsspec[http]>=2022.5.0->pytorch-lightning>=2.0.0->asteroid) (1.20.1)\n",
            "Downloading asteroid-0.7.0-py3-none-any.whl (156 kB)\n",
            "\u001b[2K   \u001b[90m━━━━━━━━━━━━━━━━━━━━━━━━━━━━━━━━━━━━━━━━\u001b[0m \u001b[32m156.4/156.4 kB\u001b[0m \u001b[31m18.5 MB/s\u001b[0m eta \u001b[36m0:00:00\u001b[0m\n",
            "\u001b[?25hDownloading asteroid_filterbanks-0.4.0-py3-none-any.whl (29 kB)\n",
            "Downloading pb_bss_eval-0.0.2-py3-none-any.whl (14 kB)\n",
            "Downloading pytorch_lightning-2.5.2-py3-none-any.whl (825 kB)\n",
            "\u001b[2K   \u001b[90m━━━━━━━━━━━━━━━━━━━━━━━━━━━━━━━━━━━━━━━━\u001b[0m \u001b[32m825.4/825.4 kB\u001b[0m \u001b[31m63.5 MB/s\u001b[0m eta \u001b[36m0:00:00\u001b[0m\n",
            "\u001b[?25hDownloading torch_optimizer-0.1.0-py3-none-any.whl (72 kB)\n",
            "\u001b[2K   \u001b[90m━━━━━━━━━━━━━━━━━━━━━━━━━━━━━━━━━━━━━━━━\u001b[0m \u001b[32m72.5/72.5 kB\u001b[0m \u001b[31m10.1 MB/s\u001b[0m eta \u001b[36m0:00:00\u001b[0m\n",
            "\u001b[?25hDownloading torch_stoi-0.2.3-py3-none-any.whl (8.1 kB)\n",
            "Downloading torchmetrics-0.11.4-py3-none-any.whl (519 kB)\n",
            "\u001b[2K   \u001b[90m━━━━━━━━━━━━━━━━━━━━━━━━━━━━━━━━━━━━━━━━\u001b[0m \u001b[32m519.2/519.2 kB\u001b[0m \u001b[31m44.5 MB/s\u001b[0m eta \u001b[36m0:00:00\u001b[0m\n",
            "\u001b[?25hDownloading lightning_utilities-0.14.3-py3-none-any.whl (28 kB)\n",
            "Downloading pytorch_ranger-0.1.1-py3-none-any.whl (14 kB)\n",
            "Downloading cached_property-2.0.1-py3-none-any.whl (7.4 kB)\n",
            "Downloading pystoi-0.4.1-py2.py3-none-any.whl (8.2 kB)\n",
            "Building wheels for collected packages: julius, pesq\n",
            "  Building wheel for julius (setup.py) ... \u001b[?25l\u001b[?25hdone\n",
            "  Created wheel for julius: filename=julius-0.2.7-py3-none-any.whl size=21870 sha256=ba5615bb57985776b733ba4532e6dfd35fdcaabd8771a2c0ddabf163e0f2ded9\n",
            "  Stored in directory: /root/.cache/pip/wheels/16/15/d4/edd724cefe78050a6ba3344b8b0c6672db829a799dbb9f81ff\n",
            "  Building wheel for pesq (setup.py) ... \u001b[?25l\u001b[?25hdone\n",
            "  Created wheel for pesq: filename=pesq-0.0.4-cp311-cp311-linux_x86_64.whl size=274955 sha256=b33ca926105148da4e3966a9794ae65040a06c7c43c33d0668badb5e8ef3e2b0\n",
            "  Stored in directory: /root/.cache/pip/wheels/ae/f1/23/2698d0bf31eec2b2aa50623b5d93b6206c49c7155d0e31345d\n",
            "Successfully built julius pesq\n",
            "Installing collected packages: pesq, lightning-utilities, cached-property, pystoi, pb-bss-eval, torchmetrics, pytorch-ranger, julius, asteroid-filterbanks, torch-stoi, torch-optimizer, pytorch-lightning, asteroid\n",
            "Successfully installed asteroid-0.7.0 asteroid-filterbanks-0.4.0 cached-property-2.0.1 julius-0.2.7 lightning-utilities-0.14.3 pb-bss-eval-0.0.2 pesq-0.0.4 pystoi-0.4.1 pytorch-lightning-2.5.2 pytorch-ranger-0.1.1 torch-optimizer-0.1.0 torch-stoi-0.2.3 torchmetrics-0.11.4\n"
          ]
        }
      ],
      "source": [
        "!pip install --upgrade speechbrain\n",
        "!pip install mir_eval\n",
        "!pip install -U asteroid"
      ]
    },
    {
      "cell_type": "markdown",
      "metadata": {
        "id": "kRvbNfp-K63d"
      },
      "source": [
        "Generate data set"
      ]
    },
    {
      "cell_type": "code",
      "execution_count": 2,
      "metadata": {
        "colab": {
          "base_uri": "https://localhost:8080/"
        },
        "id": "yyRYdH_E1vqc",
        "outputId": "3876465d-3901-4042-ba68-f10f9a359dd5"
      },
      "outputs": [
        {
          "output_type": "stream",
          "name": "stdout",
          "text": [
            "Mounted at /content/drive\n"
          ]
        }
      ],
      "source": [
        "from google.colab import drive\n",
        "import zipfile\n",
        "drive.mount('/content/drive')\n",
        "zip_path = '/content/drive/MyDrive/Project/dataset_2500.zip'\n",
        "with zipfile.ZipFile(zip_path, \"r\") as zip_ref:\n",
        "  zip_ref.extractall('./dataset')\n",
        "results_path = '/content/drive/MyDrive/Results.zip'\n",
        "with zipfile.ZipFile(results_path, \"r\") as zip_ref:\n",
        "  zip_ref.extractall('./convTasNet')"
      ]
    },
    {
      "cell_type": "markdown",
      "metadata": {
        "id": "3rOGCKEMhw9Q"
      },
      "source": [
        "Hparams yaml File\n"
      ]
    },
    {
      "cell_type": "code",
      "execution_count": 3,
      "metadata": {
        "id": "X3gEuzUMh0PF",
        "colab": {
          "base_uri": "https://localhost:8080/"
        },
        "outputId": "65ada651-c282-4761-f958-8f359cb3b45d"
      },
      "outputs": [
        {
          "output_type": "stream",
          "name": "stdout",
          "text": [
            "cp: cannot stat '/content/drive/MyDrive/Project/results_80': No such file or directory\n"
          ]
        }
      ],
      "source": [
        "\n",
        "!mkdir /content/dataset/metadata\n",
        "!mkdir /content/dataset/metadata/test\n",
        "!mkdir /content/dataset/metadata/train\n",
        "!mkdir /content/dataset/metadata/validate\n",
        "!mv /content/dataset/test/metadata.csv /content/dataset/metadata/test/\n",
        "!mv /content/dataset/train/metadata.csv /content/dataset/metadata/train/\n",
        "!mv /content/dataset/validate/metadata.csv /content/dataset/metadata/validate/\n",
        "# !rm -rf './hparams'\n",
        "!mkdir './hparams'\n",
        "!cp '/content/drive/MyDrive/Project/sepformer.yml' './hparams/'\n",
        "!cp -r '/content/drive/MyDrive/Project/pretrained_convtasnet' './'\n",
        "!cp -r '/content/drive/MyDrive/Project/VoxLingua' './'\n",
        "# !cp '/content/drive/MyDrive/Project/conVasNet.yml' './hparams/'\n",
        "!cp '/content/drive/MyDrive/Project/conVasNet_p.yml' './hparams/'\n",
        "!cp '/content/drive/MyDrive/Project/preprocess_dynamic_mixing.py' './'\n",
        "!cp '/content/drive/MyDrive/Project/dynamic_mixing.py' './'\n",
        "!cp '/content/drive/MyDrive/Project/prepare_data.py' './'\n",
        "!cp -r '/content/drive/MyDrive/Project/results_80' './'\n",
        "# !cp -r '/content/drive/MyDrive/Project/results' './'\n",
        "# !cp -r '/content/drive/MyDrive/Project/results_200' './'\n",
        "!cp '/content/drive/MyDrive/Project/conVasNet_asteroid.yml' './hparams'\n",
        "!cp '/content/drive/MyDrive/Project/label_encoder.txt' './'"
      ]
    },
    {
      "cell_type": "markdown",
      "metadata": {
        "id": "TUfwK5NkrdkV"
      },
      "source": [
        "Prepare dataset"
      ]
    },
    {
      "cell_type": "code",
      "execution_count": 4,
      "metadata": {
        "id": "RaUKQYBJrbz8"
      },
      "outputs": [],
      "source": [
        "def assign_lang_label(language):\n",
        "  if language =='as':\n",
        "    return 'as: Assamese'\n",
        "\n",
        "  elif language == 'bn':\n",
        "    return 'bn: Bengali'\n",
        "\n",
        "  elif language == 'en' or language == 'Indian_eng':\n",
        "    return 'en: English'\n",
        "\n",
        "  elif language == 'gu':\n",
        "    return 'gu: Gujarati'\n",
        "\n",
        "  elif language == 'hi':\n",
        "    return 'hi: Hindi'\n",
        "\n",
        "  elif language == 'kn':\n",
        "    return 'kn: Kannada'\n",
        "\n",
        "  elif language == 'ml':\n",
        "    return 'ml: Malayalam'\n",
        "\n",
        "  elif language == 'mr':\n",
        "    return 'mr: Marathi'\n",
        "\n",
        "  elif language == 'ne':\n",
        "    return 'ne: Nepali'\n",
        "\n",
        "  elif language == 'pa':\n",
        "    return 'pa: Panjabi'\n",
        "\n",
        "  elif language == 'sa':\n",
        "    return 'sa: Sanskrit'\n",
        "\n",
        "  elif language == 'sd':\n",
        "    return 'sd: Sindhi'\n",
        "\n",
        "  elif language == 'ta':\n",
        "    return 'ta: Tamil'\n",
        "\n",
        "  elif language == 'te':\n",
        "    return 'te: Telugu'\n",
        "\n",
        "  elif language == 'ur':\n",
        "    return 'ur: Urdu'\n",
        "\n",
        "\n",
        "\n",
        "def dataio_prep(hparams):\n",
        "    \"\"\"Creates data processing pipeline\"\"\"\n",
        "\n",
        "    # 1. Define datasets\n",
        "    train_data = sb.dataio.dataset.DynamicItemDataset.from_csv(\n",
        "        csv_path=hparams[\"train_data\"],\n",
        "        replacements={\"data_root\": hparams[\"data_folder\"]},\n",
        "    )\n",
        "\n",
        "    valid_data = sb.dataio.dataset.DynamicItemDataset.from_csv(\n",
        "        csv_path=hparams[\"valid_data\"],\n",
        "        replacements={\"data_root\": hparams[\"data_folder\"]},\n",
        "    )\n",
        "\n",
        "    test_data = sb.dataio.dataset.DynamicItemDataset.from_csv(\n",
        "        csv_path=hparams[\"test_data\"],\n",
        "        replacements={\"data_root\": hparams[\"data_folder\"]},\n",
        "    )\n",
        "\n",
        "    datasets = [train_data, valid_data, test_data]\n",
        "\n",
        "    # 2. Provide audio pipelines\n",
        "\n",
        "    @sb.utils.data_pipeline.takes(\"mix_wav\")\n",
        "    @sb.utils.data_pipeline.provides(\"mix_sig\")\n",
        "    def audio_pipeline_mix(mix_wav):\n",
        "        mix_sig = sb.dataio.dataio.read_audio(mix_wav)\n",
        "        return mix_sig\n",
        "\n",
        "    @sb.utils.data_pipeline.takes(\"s1_wav\")\n",
        "    @sb.utils.data_pipeline.provides(\"s1_sig\")\n",
        "    def audio_pipeline_s1(s1_wav):\n",
        "        s1_sig = sb.dataio.dataio.read_audio(s1_wav)\n",
        "        return s1_sig\n",
        "\n",
        "    @sb.utils.data_pipeline.takes(\"s2_wav\")\n",
        "    @sb.utils.data_pipeline.provides(\"s2_sig\")\n",
        "    def audio_pipeline_s2(s2_wav):\n",
        "        s2_sig = sb.dataio.dataio.read_audio(s2_wav)\n",
        "        return s2_sig\n",
        "\n",
        "    @sb.utils.data_pipeline.takes(\"languages\")\n",
        "    @sb.utils.data_pipeline.provides(\"lang_id\")\n",
        "    def lang_id_pipeline(lang_str):\n",
        "      lang_id = lang_str.split(',')\n",
        "      # print(f\"language String = {lang_str}, lang_id = {lang_id}\")\n",
        "      lang_id = [assign_lang_label(lang) for lang in lang_id]\n",
        "      yield encode_languages(lang_id)\n",
        "\n",
        "    @sb.utils.data_pipeline.takes(\"length\")\n",
        "    @sb.utils.data_pipeline.provides(\"lens\")\n",
        "    def length_pipeline(length):\n",
        "      return length\n",
        "\n",
        "    if hparams[\"num_spks\"] == 3:\n",
        "\n",
        "        @sb.utils.data_pipeline.takes(\"s3_wav\")\n",
        "        @sb.utils.data_pipeline.provides(\"s3_sig\")\n",
        "        def audio_pipeline_s3(s3_wav):\n",
        "            s3_sig = sb.dataio.dataio.read_audio(s3_wav)\n",
        "            return s3_sig\n",
        "\n",
        "    sb.dataio.dataset.add_dynamic_item(datasets, audio_pipeline_mix)\n",
        "    sb.dataio.dataset.add_dynamic_item(datasets, audio_pipeline_s1)\n",
        "    sb.dataio.dataset.add_dynamic_item(datasets, audio_pipeline_s2)\n",
        "    sb.dataio.dataset.add_dynamic_item(datasets, lang_id_pipeline)\n",
        "    sb.dataio.dataset.add_dynamic_item(datasets, length_pipeline)\n",
        "    if hparams[\"num_spks\"] == 3:\n",
        "      sb.dataio.dataset.add_dynamic_item(datasets, audio_pipeline_s3)\n",
        "      sb.dataio.dataset.set_output_keys(datasets, [\"id\", \"mix_sig\", \"s1_sig\", \"s2_sig\", \"s3_sig\", \"lang_id\", \"lens\"])\n",
        "    else:\n",
        "      sb.dataio.dataset.set_output_keys(datasets, [\"id\", \"mix_sig\", \"s1_sig\", \"s2_sig\", \"lang_id\", \"lens\"])\n",
        "\n",
        "    return train_data, valid_data, test_data\n",
        "\n",
        "def encode_languages(language_list):\n",
        "  label = []\n",
        "\n",
        "  for lang in language_list:\n",
        "    idx = label_encoder.encode_label(lang)\n",
        "    label.append(idx)\n",
        "  label = torch.tensor(label)\n",
        "  # print(f\"Label = {label}\")\n",
        "  return label"
      ]
    },
    {
      "cell_type": "markdown",
      "metadata": {
        "id": "2MTNQ4PCLC6S"
      },
      "source": [
        "Model"
      ]
    },
    {
      "cell_type": "code",
      "execution_count": 8,
      "metadata": {
        "id": "0GhUXxc4Y9o3"
      },
      "outputs": [],
      "source": [
        "import csv\n",
        "import os\n",
        "import sys\n",
        "import io\n",
        "\n",
        "import numpy as np\n",
        "import math\n",
        "import torch\n",
        "from  speechbrain.nnet.losses import PitWrapper\n",
        "import torch.nn as nn\n",
        "import torch.nn.functional as F\n",
        "import torchaudio\n",
        "import matplotlib.pyplot as plt\n",
        "from hyperpyyaml import load_hyperpyyaml\n",
        "from tqdm import tqdm\n",
        "\n",
        "import speechbrain as sb\n",
        "import speechbrain.nnet.schedulers as schedulers\n",
        "from speechbrain.utils.distributed import run_on_main\n",
        "from speechbrain.utils.logger import get_logger\n",
        "from speechbrain.utils.train_logger import FileTrainLogger\n",
        "from speechbrain.nnet.losses import bce_loss, PitWrapper\n",
        "from speechbrain.utils.metric_stats import ClassificationStats\n",
        "from speechbrain.utils.Accuracy import AccuracyStats\n",
        "\n",
        "class MultiTask(sb.Brain):\n",
        "  def on_stage_start(self, stage, epoch):\n",
        "    # if stage != sb.Stage.TRAIN:\n",
        "      # self.error_metrics = self.hparams.error_stats()\n",
        "    self.epoch_acc_p = []\n",
        "    self.epoch_acc = []\n",
        "    self.print_num =0;\n",
        "    if stage == sb.Stage.TRAIN and epoch<21:\n",
        "      self.hparams.delta_separate_loss = 1.0\n",
        "      self.hparams.delta_lang_loss = 0.0\n",
        "      for name in ['compute_features', 'embedding_model', 'classifier', 'mean_var_norm']:\n",
        "        for param in getattr(self.modules, name).parameters():\n",
        "            param.requires_grad = False\n",
        "    elif stage == sb.Stage.TRAIN and epoch == 21:\n",
        "      self.hparams.delta_separate_loss =0.8\n",
        "      self.hparams.delta_lang_loss = 0.2\n",
        "      logger.info(\"Unfreezing ECAPA\")\n",
        "      for name in ['compute_features', 'embedding_model', 'classifier', 'mean_var_norm' ]:\n",
        "          for param in getattr(self.modules, name).parameters():\n",
        "              param.requires_grad = True\n",
        "      unfrozen_params = filter(lambda p: p.requires_grad, self.modules.parameters())\n",
        "      self.optimizer = torch.optim.Adam(unfrozen_params, lr=0.0001, weight_decay=0)\n",
        "    print(f\"Delta lang loss = {self.hparams.delta_lang_loss}, Delta separate loss = {self.hparams.delta_separate_loss}\")\n",
        "    self.uttid = [0]\n",
        "    if stage in [sb.Stage.VALID, sb.Stage.TEST]:\n",
        "      self.valid_acc = AccuracyStats()\n",
        "      self.error_metrics = self.hparams.error_stats\n",
        "    self.file_logger = FileTrainLogger(\"/content/results/print_statements\")\n",
        "\n",
        "  def dump_waveform(self, waveform, name,  sample_rate=16000, out_dir=\"debug_audio\"):\n",
        "    os.makedirs(out_dir, exist_ok=True)\n",
        "\n",
        "    # Save waveform\n",
        "    path = os.path.join(out_dir, f\"{name}.wav\")\n",
        "    torchaudio.save(path, waveform.unsqueeze(0).cpu(), sample_rate)\n",
        "    wav = waveform\n",
        "    wav = wav.detach().cpu().numpy()\n",
        "    # Plot\n",
        "    plt.figure(figsize=(10, 3))\n",
        "    plt.plot(wav)\n",
        "    plt.title(name)\n",
        "    plt.tight_layout()\n",
        "    plt.savefig(os.path.join(out_dir, f\"{name}_{self.uttid[0]}.png\"))\n",
        "    plt.close()\n",
        "\n",
        "\n",
        "  def compute_forward(self, mix, targets, lang_id,  stage):\n",
        "    mix, mix_lens = mix\n",
        "    mix, mix_lens = mix.to(self.device), mix_lens.to(self.device)\n",
        "    targets = torch.stack([t.data for t in targets], dim=-1).to(self.device)\n",
        "    if stage == sb.Stage.TRAIN:\n",
        "      with torch.no_grad():\n",
        "        if self.hparams.use_speedperturb:\n",
        "            mix, targets = self.add_speed_perturb(targets, mix_lens)\n",
        "\n",
        "            mix = targets.sum(-1)\n",
        "\n",
        "        if self.hparams.use_wavedrop:\n",
        "            mix = self.hparams.drop_chunk(mix, mix_lens)\n",
        "            mix = self.hparams.drop_freq(mix)\n",
        "\n",
        "        if self.hparams.limit_training_signal_len:\n",
        "            mix, targets = self.cut_signals(mix, targets)\n",
        "    #ConvTasNet\n",
        "    est_source = self.modules.convTasNet(mix)\n",
        "    #Making two batches\n",
        "    est_source = est_source.permute(0,2,1)\n",
        "    batch_size, seq_len, num_spks = est_source.shape\n",
        "    est_source_permute = est_source.permute(2, 0, 1)  # Now shape is [num_spks, batch, time]\n",
        "    est_source_combined = est_source_permute.reshape(batch_size * num_spks, seq_len)\n",
        "    est_source_combined = est_source_combined / (est_source_combined.abs().max(dim=1, keepdim=True)[0] + 1e-8)\n",
        "    mix_len_combined = mix_lens.repeat(num_spks)\n",
        "    #ECAPA\n",
        "    feats = self.modules.compute_features(est_source_combined)\n",
        "    feats = self.modules.mean_var_norm(feats, mix_len_combined)\n",
        "    embeddings = self.modules.embedding_model(feats, mix_len_combined)\n",
        "    outputs = self.modules.classifier(embeddings)\n",
        "    pred_lang_id = outputs.view(batch_size, num_spks, -1)\n",
        "    #Check Infinite\n",
        "    if torch.isnan(embeddings).any() or torch.isnan(outputs).any():\n",
        "      print(\"Embeddings min/max:\", embeddings.min(), embeddings.max())\n",
        "      print(f\"Embeddings: {embeddings}, Embeddings length: {embeddings.shape}\")\n",
        "      print(\"Classifier output min/max:\", outputs.min(), outputs.max())\n",
        "      print(f\"outputs: {outputs}, outputs length: {outputs.shape}\")\n",
        "      print(f\"pred_lang_id: {pred_lang_id}, pred_lang_id length: {pred_lang_id.shape}\")\n",
        "    #Print\n",
        "    if self.uttid[0] % 1000 == 0:\n",
        "      probs = torch.sigmoid(pred_lang_id)  # limit how often you dump\n",
        "      target_lang = lang_id.squeeze(0)\n",
        "      pred_lang = torch.argmax(probs, dim = -1)\n",
        "      for spk_idx in range(2):\n",
        "        # print(f\"est_source: {est_source_combined}\")\n",
        "        wav = wav = est_source_combined[spk_idx]\n",
        "        self.dump_waveform(wav,f\"{stage}_{pred_lang[0]}_{target_lang}_12_utt{self.uttid[0]}_spk{spk_idx}\")\n",
        "    return est_source, targets, lang_id, mix_lens, pred_lang_id, embeddings\n",
        "\n",
        "  def lang_accuracy(self, lang_id, pred_lang_id, log):\n",
        "    # lang_id_new = lang_id.squeeze(0)\n",
        "    probs = torch.sigmoid(pred_lang_id)\n",
        "    targets = lang_id.data.squeeze(0).long()\n",
        "    # print(f\"probs = {probs}, targets = {targets}\")\n",
        "    # print(f\"probs = {probs}, pred_lang_id {pred_lang_id}\")\n",
        "    # print(f\"lang_id = {lang_id}\")\n",
        "    acc1_s = max((probs[0,targets[0]]+ probs[1,targets[1]]), (probs[0,targets[1]]+ probs[1,targets[0]]))/2\n",
        "    preds = torch.argmax(pred_lang_id, dim=-1)\n",
        "    # print(f\"preds = {preds}\")\n",
        "    # targets = torch.argmax(lang_id_new, dim=-1)\n",
        "    if(log):\n",
        "      self.file_logger.log_stats(\n",
        "          stats_meta = {\n",
        "              \"stage\": \"VALID\",\n",
        "              \"preds\": preds,\n",
        "              \"targets\": targets,\n",
        "              \"probs\": probs\n",
        "          },verbose=False\n",
        "\n",
        "      )\n",
        "    acc1_p = int(preds[0] == targets[0]) + int(preds[1] == targets[1])\n",
        "    acc2_p = int(preds[0] == targets[1]) + int(preds[1] == targets[0])\n",
        "    return acc1_s, max(acc1_p, acc2_p)/2\n",
        "\n",
        "  def compute_objectives(self, est_source, targets, lang_id, lens, pred_lang_id,stage, uttid):\n",
        "    lang_id = lang_id.data.float().to(pred_lang_id.device)\n",
        "    predicted_lang_id = pred_lang_id.squeeze(0)\n",
        "    target = lang_id.squeeze(0).long()\n",
        "    # print(f\"target = {target}, pred_lang_id = {pred_lang_id}\")\n",
        "    separate_loss = self.hparams.loss(targets, est_source)\n",
        "    lang_loss = torch.min(torch.stack([self.hparams.lang_loss(predicted_lang_id, target), self.hparams.lang_loss(predicted_lang_id,target.flip(0))]))\n",
        "    loss = self.hparams.delta_lang_loss*lang_loss + self.hparams.delta_separate_loss*separate_loss\n",
        "    return loss,lang_loss,separate_loss\n",
        "\n",
        "  def fit_batch(self,batch):\n",
        "    mixture = batch.mix_sig\n",
        "    targets = [batch.s1_sig, batch.s2_sig]\n",
        "    lang_id = batch.lang_id.data\n",
        "    self.uttid[0] = self.uttid[0] + 1\n",
        "    with torch.amp.autocast(device_type='cuda', enabled=False):\n",
        "      est_source, targets, lang_id, lens, pred_lang_id,embeddings = self.compute_forward(\n",
        "        mixture, targets, lang_id, sb.Stage.TRAIN\n",
        "      )\n",
        "      # print(f\"predictions: {pred_lang_id}, targets: {targets}\")\n",
        "      loss,lang_loss,separate_loss = self.compute_objectives(\n",
        "        est_source, targets, lang_id, lens, pred_lang_id,sb.Stage.TRAIN, self.uttid\n",
        "      )\n",
        "      if self.uttid[0]%1000 == 0:\n",
        "        self.file_logger.log_stats(stats_meta={\n",
        "            \"stage\": \"Train\",\n",
        "            \"Loss\":loss,\n",
        "            \"Lang loss\":lang_loss,\n",
        "            \"separate loss\":separate_loss,\n",
        "            \"Est_source\" :est_source,\n",
        "            \"targets\": targets,\n",
        "            \"lang_id\":lang_id,\n",
        "            \"lens\":lens,\n",
        "            \"pred_lang_id\":pred_lang_id}, verbose=False)\n",
        "\n",
        "      # print(f\"loss: {loss}\")\n",
        "      if self.hparams.threshold_byloss:\n",
        "        th = self.hparams.threshold\n",
        "        loss = loss[loss > th]\n",
        "        if loss.nelement() > 0:\n",
        "            loss = loss.mean()\n",
        "            lang_loss = lang_loss.mean()\n",
        "            separate_loss = separate_loss.mean()\n",
        "      else:\n",
        "        loss = loss.mean()\n",
        "        lang_loss = lang_loss.mean()\n",
        "        separate_loss = separate_loss.mean()\n",
        "\n",
        "    if loss.nelement() > 0 and loss < self.hparams.loss_upper_lim:\n",
        "      self.scaler.scale(loss).backward()\n",
        "      if self.hparams.clip_grad_norm >= 0:\n",
        "        self.scaler.unscale_(self.optimizer)\n",
        "        torch.nn.utils.clip_grad_norm_(\n",
        "          self.modules.parameters(),\n",
        "          self.hparams.clip_grad_norm,\n",
        "        )\n",
        "      self.scaler.step(self.optimizer)\n",
        "      self.scaler.update()\n",
        "    else:\n",
        "      self.nonfinite_count += 1\n",
        "      logger.info(\n",
        "        \"infinite loss or empty loss! it happened {} times so far - skipping this batch\".format(\n",
        "          self.nonfinite_count\n",
        "        )\n",
        "      )\n",
        "      loss.data = torch.tensor(0.0).to(self.device)\n",
        "      lang_loss.data = torch.tensor(0.0).to(self.device)\n",
        "      separate_loss.data = torch.tensor(0.0).to(self.device)\n",
        "    self.optimizer.zero_grad()\n",
        "\n",
        "    return loss.detach().cpu()\n",
        "\n",
        "\n",
        "  def evaluate_batch(self, batch, stage):\n",
        "\n",
        "    \"\"\"Computations needed for validation/test batches\"\"\"\n",
        "    snt_id = batch.id\n",
        "    mixture = batch.mix_sig\n",
        "    targets = [batch.s1_sig, batch.s2_sig]\n",
        "    lang_id = batch.lang_id.data\n",
        "    self.uttid[0] = self.uttid[0] + 1\n",
        "    if self.hparams.num_spks == 3:\n",
        "      targets.append(batch.s3_sig)\n",
        "\n",
        "    with torch.no_grad():\n",
        "      # compute_forward returns multiple values for multi-task\n",
        "      est_source, targets, lang_id, lens, pred_lang_id, embeddings = self.compute_forward(\n",
        "        mixture, targets, lang_id,  stage\n",
        "      )\n",
        "      # compute_objectives combines both tasks into a single loss\n",
        "      loss,lang_loss,separate_loss = self.compute_objectives(\n",
        "        est_source, targets, lang_id, lens, pred_lang_id, stage, self.uttid\n",
        "      )\n",
        "      lang_id = lang_id.data.float().to(pred_lang_id.device)\n",
        "      if(self.uttid[0]%20 ==0):\n",
        "        log_valid = True\n",
        "      else:\n",
        "        log_valid = False\n",
        "      # self.accuracy.append(pred_lang_id, lang_id.unsqueeze(1), lens)\n",
        "      for i in range(0,self.hparams.batch_size):\n",
        "        lang_acc_s,lang_acc_p = self.lang_accuracy(lang_id[i],pred_lang_id[i].squeeze(0),log_valid)\n",
        "        self.epoch_acc.append(lang_acc_s)\n",
        "        self.epoch_acc_p.append(lang_acc_p)\n",
        "    if stage == sb.Stage.TEST and self.hparams.save_audio:\n",
        "\n",
        "      if hasattr(self.hparams, \"n_audio_to_save\"):\n",
        "        if self.hparams.n_audio_to_save > 0:\n",
        "          self.save_audio(snt_id[0], mixture, targets, est_source)\n",
        "          self.hparams.n_audio_to_save += -1\n",
        "      else:\n",
        "        self.save_audio(snt_id[0], mixture, targets, est_source)\n",
        "\n",
        "\n",
        "    return loss.mean().detach()\n",
        "\n",
        "  def on_stage_end(self, stage, stage_loss, epoch):\n",
        "    stage_stats = {\"final_loss\": stage_loss}\n",
        "    if stage == sb.Stage.TRAIN:\n",
        "      self.train_stats = stage_stats\n",
        "      # train_loss.append(self.train_stats[\"final_loss\"])\n",
        "      file_loc = f\"/content/results_{epoch}\"\n",
        "      if(epoch%20 ==0):\n",
        "        os.rename(r\"/content/results\", file_loc)\n",
        "        !cp -r $file_loc '/content/drive/MyDrive/Project'\n",
        "        if(epoch > 20):\n",
        "          prev_file_loc = f\"/content/drive/MyDrive/Project/results_{epoch-20}\"\n",
        "          !rm -rf $prev_file_loc\n",
        "          logger.info(f\"Removed file {prev_file_loc}\")\n",
        "        os.rename(file_loc,r\"/content/results\")\n",
        "        logger.info(\"Saved file succesfully\")\n",
        "    accuracy_soft = torch.tensor(self.epoch_acc)\n",
        "    accuracy_partial = torch.tensor(self.epoch_acc_p)\n",
        "    if stage == sb.Stage.VALID:\n",
        "      if isinstance(self.hparams.lr_scheduler, schedulers.ReduceLROnPlateau):\n",
        "        current_lr, next_lr = self.hparams.lr_scheduler(\n",
        "            [self.optimizer], epoch, stage_loss\n",
        "        )\n",
        "        schedulers.update_learning_rate(self.optimizer, next_lr)\n",
        "      else:\n",
        "        # if we do not use the reducelronplateau, we do not change the lr\n",
        "        current_lr = self.hparams.optimizer.optim.param_groups[0][\"lr\"]\n",
        "\n",
        "      self.hparams.train_logger.log_stats(\n",
        "          stats_meta={\"epoch\": epoch, \"lr\": current_lr},\n",
        "          train_stats=self.train_stats,\n",
        "          valid_stats={\"final_loss\": stage_loss,\"Accuracy soft\": accuracy_soft.mean(), \"Accuracy Partial\" : accuracy_partial.mean()}\n",
        "      )\n",
        "      self.checkpointer.save_and_keep_only(\n",
        "          meta={\"final_loss\": stage_stats[\"final_loss\"]}, min_keys=[\"final_loss\"]\n",
        "      )\n",
        "    elif stage == sb.Stage.TEST:\n",
        "      self.hparams.train_logger.log_stats(\n",
        "        stats_meta={\"Epoch loaded\": self.hparams.epoch_counter.current},\n",
        "        test_stats={\"final_loss\": stage_loss, \"Accuracy soft\": accuracy_soft.mean(), \"Accuracy Partial\" : accuracy_partial.mean()},\n",
        "      )\n",
        "\n",
        "  def add_speed_perturb(self, targets, targ_lens):\n",
        "    \"\"\"Adds speed perturbation and random_shift to the input signals\"\"\"\n",
        "\n",
        "    min_len = -1\n",
        "    recombine = False\n",
        "\n",
        "    if self.hparams.use_speedperturb or self.hparams.use_rand_shift:\n",
        "      # Performing speed change (independently on each source)\n",
        "      new_targets = []\n",
        "      recombine = True\n",
        "\n",
        "      for i in range(targets.shape[-1]):\n",
        "        new_target = self.hparams.speed_perturb(targets[:, :, i])\n",
        "        new_targets.append(new_target)\n",
        "        if i == 0:\n",
        "          min_len = new_target.shape[-1]\n",
        "        else:\n",
        "          if new_target.shape[-1] < min_len:\n",
        "            min_len = new_target.shape[-1]\n",
        "\n",
        "      if self.hparams.use_rand_shift:\n",
        "        # Performing random_shift (independently on each source)\n",
        "        recombine = True\n",
        "        for i in range(targets.shape[-1]):\n",
        "            rand_shift = torch.randint(\n",
        "                self.hparams.min_shift, self.hparams.max_shift, (1,)\n",
        "            )\n",
        "            new_targets[i] = new_targets[i].to(self.device)\n",
        "            new_targets[i] = torch.roll(\n",
        "                new_targets[i], shifts=(rand_shift[0],), dims=1\n",
        "            )\n",
        "\n",
        "        # Re-combination\n",
        "        if recombine:\n",
        "            if self.hparams.use_speedperturb:\n",
        "                targets = torch.zeros(\n",
        "                    targets.shape[0],\n",
        "                    min_len,\n",
        "                    targets.shape[-1],\n",
        "                    device=targets.device,\n",
        "                    dtype=torch.float,\n",
        "                )\n",
        "            for i, new_target in enumerate(new_targets):\n",
        "                targets[:, :, i] = new_targets[i][:, 0:min_len]\n",
        "\n",
        "    mix = targets.sum(-1)\n",
        "    return mix, targets\n",
        "\n",
        "  def cut_signals(self, mixture, targets):\n",
        "      \"\"\"This function selects a random segment of a given length within the mixture.\n",
        "      The corresponding targets are selected accordingly\"\"\"\n",
        "      randstart = torch.randint(\n",
        "          0,\n",
        "          1 + max(0, mixture.shape[1] - self.hparams.training_signal_len),\n",
        "          (1,),\n",
        "      ).item()\n",
        "      targets = targets[\n",
        "          :, randstart : randstart + self.hparams.training_signal_len, :\n",
        "      ]\n",
        "      mixture = mixture[\n",
        "          :, randstart : randstart + self.hparams.training_signal_len\n",
        "      ]\n",
        "      return mixture, targets\n",
        "\n",
        "\n",
        "  def reset_layer_recursively(self, layer):\n",
        "      \"\"\"Reinitializes the parameters of the neural networks\"\"\"\n",
        "      if hasattr(layer, \"reset_parameters\"):\n",
        "          layer.reset_parameters()\n",
        "      for child_layer in layer.modules():\n",
        "          if layer != child_layer:\n",
        "              self.reset_layer_recursively(child_layer)\n",
        "\n",
        "  def save_results(self, test_data):\n",
        "\n",
        "    \"\"\"This script computes the SDR and SI-SNR metrics and saves\n",
        "    them into a csv file\"\"\"\n",
        "\n",
        "    # This package is required for SDR computation\n",
        "    from mir_eval.separation import bss_eval_sources\n",
        "\n",
        "    # Create folders where to store audio\n",
        "    save_file = os.path.join(self.hparams.output_folder, \"test_results.csv\")\n",
        "\n",
        "    # Variable init\n",
        "    all_sdrs = []\n",
        "    all_sdrs_i = []\n",
        "    all_sisnrs = []\n",
        "    all_sisnrs_i = []\n",
        "    csv_columns = [\"snt_id\", \"sdr\", \"sdr_i\", \"si-snr\", \"si-snr_i\"]\n",
        "\n",
        "    test_loader = sb.dataio.dataloader.make_dataloader(\n",
        "      test_data, **self.hparams.dataloader_opts\n",
        "    )\n",
        "\n",
        "    with open(save_file, \"w\", newline=\"\", encoding=\"utf-8\") as results_csv:\n",
        "      writer = csv.DictWriter(results_csv, fieldnames=csv_columns)\n",
        "      writer.writeheader()\n",
        "\n",
        "      # Loop over all test sentence\n",
        "      with tqdm(test_loader, dynamic_ncols=True) as t:\n",
        "          for i, batch in enumerate(t):\n",
        "            # Apply Separation\n",
        "            mixture, mix_len = batch.mix_sig\n",
        "            snt_id = batch.id\n",
        "            targets = [batch.s1_sig, batch.s2_sig]\n",
        "            lang_id = batch.lang_id\n",
        "            # lens = batch.lens\n",
        "            self.uttid[0] = self.uttid[0] + 1\n",
        "            if self.hparams.num_spks == 3:\n",
        "              targets.append(batch.s3_sig)\n",
        "\n",
        "            with torch.no_grad():\n",
        "              predictions, targets, lang_id, lens, pred_lang_id, embeddings = self.compute_forward(\n",
        "                  batch.mix_sig, targets, lang_id,  sb.Stage.TEST\n",
        "              )\n",
        "\n",
        "            # Compute SI-SNR\n",
        "            total_loss,lang_loss,sisnr = self.compute_objectives(predictions, targets,lang_id,lens,pred_lang_id, sb.Stage.TEST, self.uttid)\n",
        "\n",
        "            # Compute SI-SNR improvement\n",
        "            mixture_signal = torch.stack(\n",
        "              [mixture] * self.hparams.num_spks, dim=-1\n",
        "            )\n",
        "            mixture_signal = mixture_signal.to(targets.device)\n",
        "            total_loss,lang_loss,sisnr_baseline = self.compute_objectives(\n",
        "              mixture_signal, targets, lang_id, lens, pred_lang_id, sb.Stage.TEST, self.uttid\n",
        "            )\n",
        "            sisnr_i = sisnr - sisnr_baseline\n",
        "\n",
        "            # Compute SDR\n",
        "            ref = targets[0].t().cpu().numpy()\n",
        "            est = predictions[0].t().detach().cpu().numpy()\n",
        "            if np.any(np.all(ref == 0, axis=1)):\n",
        "              print(f\"Skipping uttid: {self.uttid[0]} as all the targets are zero\")\n",
        "              continue\n",
        "            sdr, _, _, _ = bss_eval_sources(ref,est)\n",
        "\n",
        "            sdr_baseline, _, _, _ = bss_eval_sources(ref,est)\n",
        "\n",
        "\n",
        "            sdr_i = sdr.mean() - sdr_baseline.mean()\n",
        "\n",
        "            # Saving on a csv file\n",
        "            row = {\n",
        "              \"snt_id\": snt_id[0],\n",
        "              \"sdr\": sdr.mean(),\n",
        "              \"sdr_i\": sdr_i,\n",
        "              \"si-snr\": -sisnr.item(),\n",
        "              \"si-snr_i\": -sisnr_i.item(),\n",
        "            }\n",
        "            writer.writerow(row)\n",
        "\n",
        "            # Metric Accumulation\n",
        "            all_sdrs.append(sdr.mean())\n",
        "            all_sdrs_i.append(sdr_i.mean())\n",
        "            all_sisnrs.append(-sisnr.item())\n",
        "            all_sisnrs_i.append(-sisnr_i.item())\n",
        "\n",
        "          row = {\n",
        "            \"snt_id\": \"avg\",\n",
        "            \"sdr\": np.array(all_sdrs).mean(),\n",
        "            \"sdr_i\": np.array(all_sdrs_i).mean(),\n",
        "            \"si-snr\": np.array(all_sisnrs).mean(),\n",
        "            \"si-snr_i\": np.array(all_sisnrs_i).mean(),\n",
        "          }\n",
        "          writer.writerow(row)\n",
        "\n",
        "    logger.info(\"Mean SISNR is {}\".format(np.array(all_sisnrs).mean()))\n",
        "    logger.info(\"Mean SISNRi is {}\".format(np.array(all_sisnrs_i).mean()))\n",
        "    logger.info(\"Mean SDR is {}\".format(np.array(all_sdrs).mean()))\n",
        "    logger.info(\"Mean SDRi is {}\".format(np.array(all_sisnrs_i).mean()))\n",
        "\n",
        "  def save_audio(self, snt_id, mixture, targets, predictions):\n",
        "    \"saves the test audio (mixture, targets, and estimated sources) on disk\"\n",
        "\n",
        "    # Create output folder\n",
        "    save_path = os.path.join(self.hparams.save_folder, \"audio_results\")\n",
        "    if not os.path.exists(save_path):\n",
        "      os.mkdir(save_path)\n",
        "\n",
        "    for ns in range(self.hparams.num_spks):\n",
        "      # Estimated source\n",
        "      signal = predictions[0, :, ns]\n",
        "      signal = signal / signal.abs().max()\n",
        "      save_file = os.path.join(\n",
        "        save_path, \"item{}_source{}hat.wav\".format(snt_id, ns + 1)\n",
        "      )\n",
        "      torchaudio.save(\n",
        "        save_file, signal.unsqueeze(0).cpu(), self.hparams.sample_rate\n",
        "      )\n",
        "\n",
        "      # Original source\n",
        "      signal = targets[0, :, ns]\n",
        "      signal = signal / signal.abs().max()\n",
        "      save_file = os.path.join(\n",
        "        save_path, \"item{}_source{}.wav\".format(snt_id, ns + 1)\n",
        "      )\n",
        "      torchaudio.save(\n",
        "        save_file, signal.unsqueeze(0).cpu(), self.hparams.sample_rate\n",
        "      )\n",
        "\n",
        "    # Mixture\n",
        "    signal = mixture[0][0, :]\n",
        "    signal = signal / signal.abs().max()\n",
        "    save_file = os.path.join(save_path, \"item{}_mix.wav\".format(snt_id))\n",
        "    torchaudio.save(\n",
        "      save_file, signal.unsqueeze(0).cpu(), self.hparams.sample_rate\n",
        "    )\n",
        "  # def get_language(path):\n",
        "  #   mixture = sb.dataio.dataio.read_audio(torchaudio.load())\n"
      ]
    },
    {
      "cell_type": "markdown",
      "metadata": {
        "id": "ZoJv4IAnLFmI"
      },
      "source": [
        "Main"
      ]
    },
    {
      "cell_type": "code",
      "execution_count": 9,
      "metadata": {
        "colab": {
          "base_uri": "https://localhost:8080/",
          "height": 1000
        },
        "id": "INi7eq9HqIzm",
        "outputId": "75346bc7-72af-44ff-b773-d83f23b02569"
      },
      "outputs": [
        {
          "output_type": "stream",
          "name": "stdout",
          "text": [
            "speechbrain.utils.seed - Setting seed to 1234\n",
            "speechbrain.utils.quirks - Applied quirks (see `speechbrain.utils.quirks`): [allow_tf32, disable_jit_profiling]\n",
            "speechbrain.utils.quirks - Excluded quirks specified by the `SB_DISABLE_QUIRKS` environment (comma-separated list): []\n",
            "speechbrain.core - Beginning experiment!\n",
            "speechbrain.core - Experiment folder: results/convtasnet/1234\n",
            "Creating a csv file for a custom dataset\n",
            "__main__ - Train sampling rate:16000\n",
            "speechbrain.core - Info: precision arg from hparam file is used\n",
            "speechbrain.core - Info: noprogressbar arg from hparam file is used\n",
            "speechbrain.core - Gradscaler enabled: `False`\n",
            "speechbrain.core - Using training precision: `--precision=fp32`\n",
            "speechbrain.core - Using evaluation precision: `--eval_precision=fp32`\n",
            "speechbrain.core - MultiTask Model Statistics:\n",
            "* Total Number of Trainable Parameters: 26.3M\n",
            "* Total Number of Parameters: 26.3M\n",
            "* Trainable Parameters represent 100.0000% of the total size.\n",
            "__main__ - Loading pretrained weights:<__main__.MultiTask object at 0x7a2ba8874a10>\n",
            "speechbrain.utils.fetching - Fetch embedding_model.ckpt: Fetching from HuggingFace Hub 'speechbrain/lang-id-voxlingua107-ecapa' if not cached\n",
            "speechbrain.utils.fetching - Fetch classifier.ckpt: Fetching from HuggingFace Hub 'speechbrain/lang-id-voxlingua107-ecapa' if not cached\n",
            "speechbrain.utils.fetching - Fetch label_encoder.txt: Fetching from HuggingFace Hub 'speechbrain/lang-id-voxlingua107-ecapa' if not cached\n",
            "speechbrain.utils.parameter_transfer - Loading pretrained files for: embedding_model, classifier, label_encoder\n",
            "speechbrain.dataio.encoder - Load called, but CategoricalEncoder is not empty. Loaded data will overwrite everything. This is normal if there is e.g. an unk label defined at init.\n",
            "speechbrain.utils.checkpoints - Would load a checkpoint here, but none found yet.\n",
            "speechbrain.utils.epoch_loop - Going into epoch 1\n",
            "Delta lang loss = 0.0, Delta separate loss = 1.0\n"
          ]
        },
        {
          "output_type": "stream",
          "name": "stderr",
          "text": [
            "100%|██████████| 1250/1250 [02:23<00:00,  8.74it/s, train_loss=-10.6]\n"
          ]
        },
        {
          "output_type": "stream",
          "name": "stdout",
          "text": [
            "Delta lang loss = 0.0, Delta separate loss = 1.0\n"
          ]
        },
        {
          "output_type": "stream",
          "name": "stderr",
          "text": [
            "100%|██████████| 500/500 [00:21<00:00, 23.29it/s]"
          ]
        },
        {
          "output_type": "stream",
          "name": "stdout",
          "text": [
            "speechbrain.utils.train_logger - epoch: 1, lr: 1.50e-03 - train final_loss: -1.06e+01 - valid final_loss: -1.11e+01, valid Accuracy soft: 0.26060324907302856, valid Accuracy Partial: 0.5260000228881836\n"
          ]
        },
        {
          "output_type": "stream",
          "name": "stderr",
          "text": [
            "\n"
          ]
        },
        {
          "output_type": "stream",
          "name": "stdout",
          "text": [
            "speechbrain.utils.checkpoints - Saved an end-of-epoch checkpoint in results/convtasnet/1234/save/CKPT+2025-07-24+21-24-03+00\n",
            "speechbrain.utils.epoch_loop - Going into epoch 2\n",
            "Delta lang loss = 0.0, Delta separate loss = 1.0\n"
          ]
        },
        {
          "output_type": "stream",
          "name": "stderr",
          "text": [
            "100%|██████████| 1250/1250 [02:22<00:00,  8.78it/s, train_loss=-11.8]\n"
          ]
        },
        {
          "output_type": "stream",
          "name": "stdout",
          "text": [
            "Delta lang loss = 0.0, Delta separate loss = 1.0\n"
          ]
        },
        {
          "output_type": "stream",
          "name": "stderr",
          "text": [
            "100%|██████████| 500/500 [00:20<00:00, 23.95it/s]"
          ]
        },
        {
          "output_type": "stream",
          "name": "stdout",
          "text": [
            "speechbrain.utils.train_logger - epoch: 2, lr: 1.50e-03 - train final_loss: -1.18e+01 - valid final_loss: -1.10e+01, valid Accuracy soft: 0.2735414505004883, valid Accuracy Partial: 0.5569999814033508\n"
          ]
        },
        {
          "output_type": "stream",
          "name": "stderr",
          "text": [
            "\n"
          ]
        },
        {
          "output_type": "stream",
          "name": "stdout",
          "text": [
            "speechbrain.utils.checkpoints - Saved an end-of-epoch checkpoint in results/convtasnet/1234/save/CKPT+2025-07-24+21-26-47+00\n",
            "speechbrain.utils.epoch_loop - Going into epoch 3\n",
            "Delta lang loss = 0.0, Delta separate loss = 1.0\n"
          ]
        },
        {
          "output_type": "stream",
          "name": "stderr",
          "text": [
            " 97%|█████████▋| 1210/1250 [02:17<00:04,  9.26it/s, train_loss=-12.5]"
          ]
        },
        {
          "output_type": "stream",
          "name": "stdout",
          "text": [
            "__main__ - infinite loss or empty loss! it happened 1 times so far - skipping this batch\n"
          ]
        },
        {
          "output_type": "stream",
          "name": "stderr",
          "text": [
            "100%|██████████| 1250/1250 [02:21<00:00,  8.81it/s, train_loss=-12.6]\n"
          ]
        },
        {
          "output_type": "stream",
          "name": "stdout",
          "text": [
            "Delta lang loss = 0.0, Delta separate loss = 1.0\n"
          ]
        },
        {
          "output_type": "stream",
          "name": "stderr",
          "text": [
            "100%|██████████| 500/500 [00:20<00:00, 23.83it/s]"
          ]
        },
        {
          "output_type": "stream",
          "name": "stdout",
          "text": [
            "speechbrain.utils.train_logger - epoch: 3, lr: 1.50e-03 - train final_loss: -1.26e+01 - valid final_loss: -1.13e+01, valid Accuracy soft: 0.2624942660331726, valid Accuracy Partial: 0.5289999842643738\n"
          ]
        },
        {
          "output_type": "stream",
          "name": "stderr",
          "text": [
            "\n"
          ]
        },
        {
          "output_type": "stream",
          "name": "stdout",
          "text": [
            "speechbrain.utils.checkpoints - Saved an end-of-epoch checkpoint in results/convtasnet/1234/save/CKPT+2025-07-24+21-29-30+00\n",
            "speechbrain.utils.checkpoints - Deleted checkpoint in results/convtasnet/1234/save/CKPT+2025-07-24+21-24-03+00\n",
            "speechbrain.utils.checkpoints - Deleted checkpoint in results/convtasnet/1234/save/CKPT+2025-07-24+21-26-47+00\n",
            "speechbrain.utils.epoch_loop - Going into epoch 4\n",
            "Delta lang loss = 0.0, Delta separate loss = 1.0\n"
          ]
        },
        {
          "output_type": "stream",
          "name": "stderr",
          "text": [
            " 97%|█████████▋| 1210/1250 [02:17<00:04,  9.31it/s, train_loss=-13.2]"
          ]
        },
        {
          "output_type": "stream",
          "name": "stdout",
          "text": [
            "__main__ - infinite loss or empty loss! it happened 1 times so far - skipping this batch\n"
          ]
        },
        {
          "output_type": "stream",
          "name": "stderr",
          "text": [
            "100%|██████████| 1250/1250 [02:21<00:00,  8.80it/s, train_loss=-13.2]\n"
          ]
        },
        {
          "output_type": "stream",
          "name": "stdout",
          "text": [
            "Delta lang loss = 0.0, Delta separate loss = 1.0\n"
          ]
        },
        {
          "output_type": "stream",
          "name": "stderr",
          "text": [
            "100%|██████████| 500/500 [00:20<00:00, 23.86it/s]"
          ]
        },
        {
          "output_type": "stream",
          "name": "stdout",
          "text": [
            "speechbrain.utils.train_logger - epoch: 4, lr: 1.50e-03 - train final_loss: -1.32e+01 - valid final_loss: -1.13e+01, valid Accuracy soft: 0.25923168659210205, valid Accuracy Partial: 0.5299999713897705\n"
          ]
        },
        {
          "output_type": "stream",
          "name": "stderr",
          "text": [
            "\n"
          ]
        },
        {
          "output_type": "stream",
          "name": "stdout",
          "text": [
            "speechbrain.utils.checkpoints - Saved an end-of-epoch checkpoint in results/convtasnet/1234/save/CKPT+2025-07-24+21-32-13+00\n",
            "speechbrain.utils.checkpoints - Deleted checkpoint in results/convtasnet/1234/save/CKPT+2025-07-24+21-29-30+00\n",
            "speechbrain.utils.epoch_loop - Going into epoch 5\n",
            "Delta lang loss = 0.0, Delta separate loss = 1.0\n"
          ]
        },
        {
          "output_type": "stream",
          "name": "stderr",
          "text": [
            "100%|██████████| 1250/1250 [02:22<00:00,  8.77it/s, train_loss=-13.6]\n"
          ]
        },
        {
          "output_type": "stream",
          "name": "stdout",
          "text": [
            "Delta lang loss = 0.0, Delta separate loss = 1.0\n"
          ]
        },
        {
          "output_type": "stream",
          "name": "stderr",
          "text": [
            "100%|██████████| 500/500 [00:20<00:00, 23.90it/s]"
          ]
        },
        {
          "output_type": "stream",
          "name": "stdout",
          "text": [
            "speechbrain.utils.train_logger - epoch: 5, lr: 1.50e-03 - train final_loss: -1.36e+01 - valid final_loss: -1.16e+01, valid Accuracy soft: 0.2581145167350769, valid Accuracy Partial: 0.5220000147819519\n"
          ]
        },
        {
          "output_type": "stream",
          "name": "stderr",
          "text": [
            "\n"
          ]
        },
        {
          "output_type": "stream",
          "name": "stdout",
          "text": [
            "speechbrain.utils.checkpoints - Saved an end-of-epoch checkpoint in results/convtasnet/1234/save/CKPT+2025-07-24+21-34-57+00\n",
            "speechbrain.utils.checkpoints - Deleted checkpoint in results/convtasnet/1234/save/CKPT+2025-07-24+21-32-13+00\n",
            "speechbrain.utils.epoch_loop - Going into epoch 6\n",
            "Delta lang loss = 0.0, Delta separate loss = 1.0\n"
          ]
        },
        {
          "output_type": "stream",
          "name": "stderr",
          "text": [
            " 97%|█████████▋| 1210/1250 [02:18<00:04,  9.00it/s, train_loss=-13.8]"
          ]
        },
        {
          "output_type": "stream",
          "name": "stdout",
          "text": [
            "__main__ - infinite loss or empty loss! it happened 1 times so far - skipping this batch\n"
          ]
        },
        {
          "output_type": "stream",
          "name": "stderr",
          "text": [
            "100%|██████████| 1250/1250 [02:23<00:00,  8.74it/s, train_loss=-13.8]\n"
          ]
        },
        {
          "output_type": "stream",
          "name": "stdout",
          "text": [
            "Delta lang loss = 0.0, Delta separate loss = 1.0\n"
          ]
        },
        {
          "output_type": "stream",
          "name": "stderr",
          "text": [
            "100%|██████████| 500/500 [00:20<00:00, 24.10it/s]"
          ]
        },
        {
          "output_type": "stream",
          "name": "stdout",
          "text": [
            "speechbrain.utils.train_logger - epoch: 6, lr: 1.50e-03 - train final_loss: -1.38e+01 - valid final_loss: -1.17e+01, valid Accuracy soft: 0.26650935411453247, valid Accuracy Partial: 0.5350000262260437\n"
          ]
        },
        {
          "output_type": "stream",
          "name": "stderr",
          "text": [
            "\n"
          ]
        },
        {
          "output_type": "stream",
          "name": "stdout",
          "text": [
            "speechbrain.utils.checkpoints - Saved an end-of-epoch checkpoint in results/convtasnet/1234/save/CKPT+2025-07-24+21-37-42+00\n",
            "speechbrain.utils.checkpoints - Deleted checkpoint in results/convtasnet/1234/save/CKPT+2025-07-24+21-34-57+00\n",
            "speechbrain.utils.epoch_loop - Going into epoch 7\n",
            "Delta lang loss = 0.0, Delta separate loss = 1.0\n"
          ]
        },
        {
          "output_type": "stream",
          "name": "stderr",
          "text": [
            " 97%|█████████▋| 1210/1250 [02:18<00:04,  9.07it/s, train_loss=-14.2]"
          ]
        },
        {
          "output_type": "stream",
          "name": "stdout",
          "text": [
            "__main__ - infinite loss or empty loss! it happened 1 times so far - skipping this batch\n"
          ]
        },
        {
          "output_type": "stream",
          "name": "stderr",
          "text": [
            "100%|██████████| 1250/1250 [02:23<00:00,  8.73it/s, train_loss=-14.2]\n"
          ]
        },
        {
          "output_type": "stream",
          "name": "stdout",
          "text": [
            "Delta lang loss = 0.0, Delta separate loss = 1.0\n"
          ]
        },
        {
          "output_type": "stream",
          "name": "stderr",
          "text": [
            "100%|██████████| 500/500 [00:21<00:00, 23.71it/s]"
          ]
        },
        {
          "output_type": "stream",
          "name": "stdout",
          "text": [
            "speechbrain.utils.train_logger - epoch: 7, lr: 1.50e-03 - train final_loss: -1.42e+01 - valid final_loss: -1.15e+01, valid Accuracy soft: 0.2676876187324524, valid Accuracy Partial: 0.5379999876022339\n"
          ]
        },
        {
          "output_type": "stream",
          "name": "stderr",
          "text": [
            "\n"
          ]
        },
        {
          "output_type": "stream",
          "name": "stdout",
          "text": [
            "speechbrain.utils.checkpoints - Saved an end-of-epoch checkpoint in results/convtasnet/1234/save/CKPT+2025-07-24+21-40-26+00\n",
            "speechbrain.utils.epoch_loop - Going into epoch 8\n",
            "Delta lang loss = 0.0, Delta separate loss = 1.0\n"
          ]
        },
        {
          "output_type": "stream",
          "name": "stderr",
          "text": [
            " 97%|█████████▋| 1210/1250 [02:18<00:04,  9.29it/s, train_loss=-14.5]"
          ]
        },
        {
          "output_type": "stream",
          "name": "stdout",
          "text": [
            "__main__ - infinite loss or empty loss! it happened 1 times so far - skipping this batch\n"
          ]
        },
        {
          "output_type": "stream",
          "name": "stderr",
          "text": [
            "100%|██████████| 1250/1250 [02:22<00:00,  8.76it/s, train_loss=-14.5]\n"
          ]
        },
        {
          "output_type": "stream",
          "name": "stdout",
          "text": [
            "Delta lang loss = 0.0, Delta separate loss = 1.0\n"
          ]
        },
        {
          "output_type": "stream",
          "name": "stderr",
          "text": [
            "100%|██████████| 500/500 [00:20<00:00, 24.10it/s]"
          ]
        },
        {
          "output_type": "stream",
          "name": "stdout",
          "text": [
            "speechbrain.utils.train_logger - epoch: 8, lr: 1.50e-03 - train final_loss: -1.45e+01 - valid final_loss: -1.17e+01, valid Accuracy soft: 0.25599077343940735, valid Accuracy Partial: 0.5090000033378601\n"
          ]
        },
        {
          "output_type": "stream",
          "name": "stderr",
          "text": [
            "\n"
          ]
        },
        {
          "output_type": "stream",
          "name": "stdout",
          "text": [
            "speechbrain.utils.checkpoints - Saved an end-of-epoch checkpoint in results/convtasnet/1234/save/CKPT+2025-07-24+21-43-10+00\n",
            "speechbrain.utils.checkpoints - Deleted checkpoint in results/convtasnet/1234/save/CKPT+2025-07-24+21-40-26+00\n",
            "speechbrain.utils.epoch_loop - Going into epoch 9\n",
            "Delta lang loss = 0.0, Delta separate loss = 1.0\n"
          ]
        },
        {
          "output_type": "stream",
          "name": "stderr",
          "text": [
            "100%|██████████| 1250/1250 [02:21<00:00,  8.82it/s, train_loss=-14.6]\n"
          ]
        },
        {
          "output_type": "stream",
          "name": "stdout",
          "text": [
            "Delta lang loss = 0.0, Delta separate loss = 1.0\n"
          ]
        },
        {
          "output_type": "stream",
          "name": "stderr",
          "text": [
            "100%|██████████| 500/500 [00:20<00:00, 24.13it/s]"
          ]
        },
        {
          "output_type": "stream",
          "name": "stdout",
          "text": [
            "speechbrain.utils.train_logger - epoch: 9, lr: 1.50e-03 - train final_loss: -1.46e+01 - valid final_loss: -1.15e+01, valid Accuracy soft: 0.2662825584411621, valid Accuracy Partial: 0.5379999876022339\n"
          ]
        },
        {
          "output_type": "stream",
          "name": "stderr",
          "text": [
            "\n"
          ]
        },
        {
          "output_type": "stream",
          "name": "stdout",
          "text": [
            "speechbrain.utils.checkpoints - Saved an end-of-epoch checkpoint in results/convtasnet/1234/save/CKPT+2025-07-24+21-45-53+00\n",
            "speechbrain.utils.checkpoints - Deleted checkpoint in results/convtasnet/1234/save/CKPT+2025-07-24+21-43-10+00\n",
            "speechbrain.utils.epoch_loop - Going into epoch 10\n",
            "Delta lang loss = 0.0, Delta separate loss = 1.0\n"
          ]
        },
        {
          "output_type": "stream",
          "name": "stderr",
          "text": [
            " 97%|█████████▋| 1210/1250 [02:17<00:04,  9.55it/s, train_loss=-14.8]"
          ]
        },
        {
          "output_type": "stream",
          "name": "stdout",
          "text": [
            "__main__ - infinite loss or empty loss! it happened 1 times so far - skipping this batch\n"
          ]
        },
        {
          "output_type": "stream",
          "name": "stderr",
          "text": [
            "100%|██████████| 1250/1250 [02:22<00:00,  8.80it/s, train_loss=-14.8]\n"
          ]
        },
        {
          "output_type": "stream",
          "name": "stdout",
          "text": [
            "Delta lang loss = 0.0, Delta separate loss = 1.0\n"
          ]
        },
        {
          "output_type": "stream",
          "name": "stderr",
          "text": [
            "100%|██████████| 500/500 [00:20<00:00, 24.19it/s]"
          ]
        },
        {
          "output_type": "stream",
          "name": "stdout",
          "text": [
            "speechbrain.utils.train_logger - epoch: 10, lr: 1.50e-03 - train final_loss: -1.48e+01 - valid final_loss: -1.16e+01, valid Accuracy soft: 0.2632535398006439, valid Accuracy Partial: 0.5329999923706055\n"
          ]
        },
        {
          "output_type": "stream",
          "name": "stderr",
          "text": [
            "\n"
          ]
        },
        {
          "output_type": "stream",
          "name": "stdout",
          "text": [
            "speechbrain.utils.checkpoints - Saved an end-of-epoch checkpoint in results/convtasnet/1234/save/CKPT+2025-07-24+21-48-36+00\n",
            "speechbrain.utils.checkpoints - Deleted checkpoint in results/convtasnet/1234/save/CKPT+2025-07-24+21-45-53+00\n",
            "speechbrain.utils.epoch_loop - Going into epoch 11\n",
            "Delta lang loss = 0.0, Delta separate loss = 1.0\n"
          ]
        },
        {
          "output_type": "stream",
          "name": "stderr",
          "text": [
            " 18%|█▊        | 219/1250 [00:25<01:54,  9.03it/s, train_loss=-14.9]"
          ]
        },
        {
          "output_type": "stream",
          "name": "stdout",
          "text": [
            "__main__ - infinite loss or empty loss! it happened 1 times so far - skipping this batch\n"
          ]
        },
        {
          "output_type": "stream",
          "name": "stderr",
          "text": [
            "100%|██████████| 1250/1250 [02:21<00:00,  8.81it/s, train_loss=-15]\n"
          ]
        },
        {
          "output_type": "stream",
          "name": "stdout",
          "text": [
            "Delta lang loss = 0.0, Delta separate loss = 1.0\n"
          ]
        },
        {
          "output_type": "stream",
          "name": "stderr",
          "text": [
            "100%|██████████| 500/500 [00:20<00:00, 24.03it/s]"
          ]
        },
        {
          "output_type": "stream",
          "name": "stdout",
          "text": [
            "speechbrain.utils.train_logger - epoch: 11, lr: 1.50e-03 - train final_loss: -1.50e+01 - valid final_loss: -1.13e+01, valid Accuracy soft: 0.2690833806991577, valid Accuracy Partial: 0.5460000038146973\n"
          ]
        },
        {
          "output_type": "stream",
          "name": "stderr",
          "text": [
            "\n"
          ]
        },
        {
          "output_type": "stream",
          "name": "stdout",
          "text": [
            "speechbrain.utils.checkpoints - Saved an end-of-epoch checkpoint in results/convtasnet/1234/save/CKPT+2025-07-24+21-51-19+00\n",
            "speechbrain.utils.checkpoints - Deleted checkpoint in results/convtasnet/1234/save/CKPT+2025-07-24+21-48-36+00\n",
            "speechbrain.utils.epoch_loop - Going into epoch 12\n",
            "Delta lang loss = 0.0, Delta separate loss = 1.0\n"
          ]
        },
        {
          "output_type": "stream",
          "name": "stderr",
          "text": [
            " 18%|█▊        | 219/1250 [00:25<01:55,  8.95it/s, train_loss=-15.2]"
          ]
        },
        {
          "output_type": "stream",
          "name": "stdout",
          "text": [
            "__main__ - infinite loss or empty loss! it happened 1 times so far - skipping this batch\n"
          ]
        },
        {
          "output_type": "stream",
          "name": "stderr",
          "text": [
            " 97%|█████████▋| 1210/1250 [02:17<00:04,  9.17it/s, train_loss=-15.2]"
          ]
        },
        {
          "output_type": "stream",
          "name": "stdout",
          "text": [
            "__main__ - infinite loss or empty loss! it happened 2 times so far - skipping this batch\n"
          ]
        },
        {
          "output_type": "stream",
          "name": "stderr",
          "text": [
            "100%|██████████| 1250/1250 [02:21<00:00,  8.81it/s, train_loss=-15.1]\n"
          ]
        },
        {
          "output_type": "stream",
          "name": "stdout",
          "text": [
            "Delta lang loss = 0.0, Delta separate loss = 1.0\n"
          ]
        },
        {
          "output_type": "stream",
          "name": "stderr",
          "text": [
            "100%|██████████| 500/500 [00:20<00:00, 24.07it/s]"
          ]
        },
        {
          "output_type": "stream",
          "name": "stdout",
          "text": [
            "speechbrain.utils.train_logger - epoch: 12, lr: 1.50e-03 - train final_loss: -1.51e+01 - valid final_loss: -1.15e+01, valid Accuracy soft: 0.2641163170337677, valid Accuracy Partial: 0.5360000133514404\n"
          ]
        },
        {
          "output_type": "stream",
          "name": "stderr",
          "text": [
            "\n"
          ]
        },
        {
          "output_type": "stream",
          "name": "stdout",
          "text": [
            "speechbrain.utils.checkpoints - Saved an end-of-epoch checkpoint in results/convtasnet/1234/save/CKPT+2025-07-24+21-54-03+00\n",
            "speechbrain.utils.checkpoints - Deleted checkpoint in results/convtasnet/1234/save/CKPT+2025-07-24+21-51-19+00\n",
            "speechbrain.utils.epoch_loop - Going into epoch 13\n",
            "Delta lang loss = 0.0, Delta separate loss = 1.0\n"
          ]
        },
        {
          "output_type": "stream",
          "name": "stderr",
          "text": [
            "100%|██████████| 1250/1250 [02:21<00:00,  8.80it/s, train_loss=-15.5]\n"
          ]
        },
        {
          "output_type": "stream",
          "name": "stdout",
          "text": [
            "Delta lang loss = 0.0, Delta separate loss = 1.0\n"
          ]
        },
        {
          "output_type": "stream",
          "name": "stderr",
          "text": [
            "100%|██████████| 500/500 [00:20<00:00, 24.07it/s]"
          ]
        },
        {
          "output_type": "stream",
          "name": "stdout",
          "text": [
            "speechbrain.utils.train_logger - epoch: 13, lr: 1.50e-03 - train final_loss: -1.55e+01 - valid final_loss: -1.15e+01, valid Accuracy soft: 0.26330843567848206, valid Accuracy Partial: 0.5299999713897705\n"
          ]
        },
        {
          "output_type": "stream",
          "name": "stderr",
          "text": [
            "\n"
          ]
        },
        {
          "output_type": "stream",
          "name": "stdout",
          "text": [
            "speechbrain.utils.checkpoints - Saved an end-of-epoch checkpoint in results/convtasnet/1234/save/CKPT+2025-07-24+21-56-46+00\n",
            "speechbrain.utils.checkpoints - Deleted checkpoint in results/convtasnet/1234/save/CKPT+2025-07-24+21-54-03+00\n",
            "speechbrain.utils.epoch_loop - Going into epoch 14\n",
            "Delta lang loss = 0.0, Delta separate loss = 1.0\n"
          ]
        },
        {
          "output_type": "stream",
          "name": "stderr",
          "text": [
            " 18%|█▊        | 219/1250 [00:25<01:52,  9.15it/s, train_loss=-15.5]"
          ]
        },
        {
          "output_type": "stream",
          "name": "stdout",
          "text": [
            "__main__ - infinite loss or empty loss! it happened 1 times so far - skipping this batch\n"
          ]
        },
        {
          "output_type": "stream",
          "name": "stderr",
          "text": [
            " 97%|█████████▋| 1210/1250 [02:17<00:04,  9.30it/s, train_loss=-15.5]"
          ]
        },
        {
          "output_type": "stream",
          "name": "stdout",
          "text": [
            "__main__ - infinite loss or empty loss! it happened 2 times so far - skipping this batch\n"
          ]
        },
        {
          "output_type": "stream",
          "name": "stderr",
          "text": [
            "100%|██████████| 1250/1250 [02:21<00:00,  8.83it/s, train_loss=-15.5]\n"
          ]
        },
        {
          "output_type": "stream",
          "name": "stdout",
          "text": [
            "Delta lang loss = 0.0, Delta separate loss = 1.0\n"
          ]
        },
        {
          "output_type": "stream",
          "name": "stderr",
          "text": [
            "100%|██████████| 500/500 [00:20<00:00, 24.05it/s]"
          ]
        },
        {
          "output_type": "stream",
          "name": "stdout",
          "text": [
            "speechbrain.utils.train_logger - epoch: 14, lr: 1.50e-03 - train final_loss: -1.55e+01 - valid final_loss: -1.14e+01, valid Accuracy soft: 0.2624979317188263, valid Accuracy Partial: 0.5299999713897705\n"
          ]
        },
        {
          "output_type": "stream",
          "name": "stderr",
          "text": [
            "\n"
          ]
        },
        {
          "output_type": "stream",
          "name": "stdout",
          "text": [
            "speechbrain.utils.checkpoints - Saved an end-of-epoch checkpoint in results/convtasnet/1234/save/CKPT+2025-07-24+21-59-29+00\n",
            "speechbrain.utils.checkpoints - Deleted checkpoint in results/convtasnet/1234/save/CKPT+2025-07-24+21-56-46+00\n",
            "speechbrain.utils.epoch_loop - Going into epoch 15\n",
            "Delta lang loss = 0.0, Delta separate loss = 1.0\n"
          ]
        },
        {
          "output_type": "stream",
          "name": "stderr",
          "text": [
            " 18%|█▊        | 219/1250 [00:25<01:55,  8.93it/s, train_loss=-15.8]"
          ]
        },
        {
          "output_type": "stream",
          "name": "stdout",
          "text": [
            "__main__ - infinite loss or empty loss! it happened 1 times so far - skipping this batch\n"
          ]
        },
        {
          "output_type": "stream",
          "name": "stderr",
          "text": [
            " 97%|█████████▋| 1210/1250 [02:16<00:04,  9.25it/s, train_loss=-15.7]"
          ]
        },
        {
          "output_type": "stream",
          "name": "stdout",
          "text": [
            "__main__ - infinite loss or empty loss! it happened 2 times so far - skipping this batch\n"
          ]
        },
        {
          "output_type": "stream",
          "name": "stderr",
          "text": [
            "100%|██████████| 1250/1250 [02:21<00:00,  8.84it/s, train_loss=-15.7]\n"
          ]
        },
        {
          "output_type": "stream",
          "name": "stdout",
          "text": [
            "Delta lang loss = 0.0, Delta separate loss = 1.0\n"
          ]
        },
        {
          "output_type": "stream",
          "name": "stderr",
          "text": [
            "100%|██████████| 500/500 [00:20<00:00, 24.10it/s]"
          ]
        },
        {
          "output_type": "stream",
          "name": "stdout",
          "text": [
            "speechbrain.utils.train_logger - epoch: 15, lr: 1.50e-03 - train final_loss: -1.57e+01 - valid final_loss: -1.14e+01, valid Accuracy soft: 0.26187464594841003, valid Accuracy Partial: 0.5270000100135803\n"
          ]
        },
        {
          "output_type": "stream",
          "name": "stderr",
          "text": [
            "\n"
          ]
        },
        {
          "output_type": "stream",
          "name": "stdout",
          "text": [
            "speechbrain.utils.checkpoints - Saved an end-of-epoch checkpoint in results/convtasnet/1234/save/CKPT+2025-07-24+22-02-11+00\n",
            "speechbrain.utils.checkpoints - Deleted checkpoint in results/convtasnet/1234/save/CKPT+2025-07-24+21-59-29+00\n",
            "speechbrain.utils.epoch_loop - Going into epoch 16\n",
            "Delta lang loss = 0.0, Delta separate loss = 1.0\n"
          ]
        },
        {
          "output_type": "stream",
          "name": "stderr",
          "text": [
            " 18%|█▊        | 219/1250 [00:25<01:51,  9.23it/s, train_loss=-15.9]"
          ]
        },
        {
          "output_type": "stream",
          "name": "stdout",
          "text": [
            "__main__ - infinite loss or empty loss! it happened 1 times so far - skipping this batch\n"
          ]
        },
        {
          "output_type": "stream",
          "name": "stderr",
          "text": [
            " 97%|█████████▋| 1210/1250 [02:16<00:04,  9.09it/s, train_loss=-15.9]"
          ]
        },
        {
          "output_type": "stream",
          "name": "stdout",
          "text": [
            "__main__ - infinite loss or empty loss! it happened 2 times so far - skipping this batch\n"
          ]
        },
        {
          "output_type": "stream",
          "name": "stderr",
          "text": [
            "100%|██████████| 1250/1250 [02:21<00:00,  8.84it/s, train_loss=-15.9]\n"
          ]
        },
        {
          "output_type": "stream",
          "name": "stdout",
          "text": [
            "Delta lang loss = 0.0, Delta separate loss = 1.0\n"
          ]
        },
        {
          "output_type": "stream",
          "name": "stderr",
          "text": [
            "100%|██████████| 500/500 [00:20<00:00, 23.90it/s]"
          ]
        },
        {
          "output_type": "stream",
          "name": "stdout",
          "text": [
            "speechbrain.utils.train_logger - epoch: 16, lr: 1.50e-03 - train final_loss: -1.59e+01 - valid final_loss: -1.16e+01, valid Accuracy soft: 0.26218506693840027, valid Accuracy Partial: 0.5289999842643738\n"
          ]
        },
        {
          "output_type": "stream",
          "name": "stderr",
          "text": [
            "\n"
          ]
        },
        {
          "output_type": "stream",
          "name": "stdout",
          "text": [
            "speechbrain.utils.checkpoints - Saved an end-of-epoch checkpoint in results/convtasnet/1234/save/CKPT+2025-07-24+22-04-54+00\n",
            "speechbrain.utils.checkpoints - Deleted checkpoint in results/convtasnet/1234/save/CKPT+2025-07-24+22-02-11+00\n",
            "speechbrain.utils.epoch_loop - Going into epoch 17\n",
            "Delta lang loss = 0.0, Delta separate loss = 1.0\n"
          ]
        },
        {
          "output_type": "stream",
          "name": "stderr",
          "text": [
            " 18%|█▊        | 219/1250 [00:25<01:54,  9.00it/s, train_loss=-16.1]"
          ]
        },
        {
          "output_type": "stream",
          "name": "stdout",
          "text": [
            "__main__ - infinite loss or empty loss! it happened 1 times so far - skipping this batch\n"
          ]
        },
        {
          "output_type": "stream",
          "name": "stderr",
          "text": [
            " 97%|█████████▋| 1210/1250 [02:17<00:04,  8.87it/s, train_loss=-16]"
          ]
        },
        {
          "output_type": "stream",
          "name": "stdout",
          "text": [
            "__main__ - infinite loss or empty loss! it happened 2 times so far - skipping this batch\n"
          ]
        },
        {
          "output_type": "stream",
          "name": "stderr",
          "text": [
            "100%|██████████| 1250/1250 [02:22<00:00,  8.78it/s, train_loss=-16]\n"
          ]
        },
        {
          "output_type": "stream",
          "name": "stdout",
          "text": [
            "Delta lang loss = 0.0, Delta separate loss = 1.0\n"
          ]
        },
        {
          "output_type": "stream",
          "name": "stderr",
          "text": [
            "100%|██████████| 500/500 [00:21<00:00, 23.50it/s]"
          ]
        },
        {
          "output_type": "stream",
          "name": "stdout",
          "text": [
            "speechbrain.utils.train_logger - epoch: 17, lr: 1.50e-03 - train final_loss: -1.60e+01 - valid final_loss: -1.15e+01, valid Accuracy soft: 0.26458966732025146, valid Accuracy Partial: 0.5339999794960022\n"
          ]
        },
        {
          "output_type": "stream",
          "name": "stderr",
          "text": [
            "\n"
          ]
        },
        {
          "output_type": "stream",
          "name": "stdout",
          "text": [
            "speechbrain.utils.checkpoints - Saved an end-of-epoch checkpoint in results/convtasnet/1234/save/CKPT+2025-07-24+22-07-38+00\n",
            "speechbrain.utils.checkpoints - Deleted checkpoint in results/convtasnet/1234/save/CKPT+2025-07-24+22-04-54+00\n",
            "speechbrain.utils.epoch_loop - Going into epoch 18\n",
            "Delta lang loss = 0.0, Delta separate loss = 1.0\n"
          ]
        },
        {
          "output_type": "stream",
          "name": "stderr",
          "text": [
            " 18%|█▊        | 219/1250 [00:26<02:01,  8.45it/s, train_loss=-16.2]"
          ]
        },
        {
          "output_type": "stream",
          "name": "stdout",
          "text": [
            "__main__ - infinite loss or empty loss! it happened 1 times so far - skipping this batch\n"
          ]
        },
        {
          "output_type": "stream",
          "name": "stderr",
          "text": [
            " 97%|█████████▋| 1210/1250 [02:20<00:04,  9.15it/s, train_loss=-16.1]"
          ]
        },
        {
          "output_type": "stream",
          "name": "stdout",
          "text": [
            "__main__ - infinite loss or empty loss! it happened 2 times so far - skipping this batch\n"
          ]
        },
        {
          "output_type": "stream",
          "name": "stderr",
          "text": [
            "100%|██████████| 1250/1250 [02:25<00:00,  8.61it/s, train_loss=-16.1]\n"
          ]
        },
        {
          "output_type": "stream",
          "name": "stdout",
          "text": [
            "Delta lang loss = 0.0, Delta separate loss = 1.0\n"
          ]
        },
        {
          "output_type": "stream",
          "name": "stderr",
          "text": [
            "100%|██████████| 500/500 [00:21<00:00, 23.60it/s]"
          ]
        },
        {
          "output_type": "stream",
          "name": "stdout",
          "text": [
            "speechbrain.utils.train_logger - epoch: 18, lr: 1.50e-03 - train final_loss: -1.61e+01 - valid final_loss: -1.15e+01, valid Accuracy soft: 0.2625887393951416, valid Accuracy Partial: 0.5289999842643738\n"
          ]
        },
        {
          "output_type": "stream",
          "name": "stderr",
          "text": [
            "\n"
          ]
        },
        {
          "output_type": "stream",
          "name": "stdout",
          "text": [
            "speechbrain.utils.checkpoints - Saved an end-of-epoch checkpoint in results/convtasnet/1234/save/CKPT+2025-07-24+22-10-25+00\n",
            "speechbrain.utils.checkpoints - Deleted checkpoint in results/convtasnet/1234/save/CKPT+2025-07-24+22-07-38+00\n",
            "speechbrain.utils.epoch_loop - Going into epoch 19\n",
            "Delta lang loss = 0.0, Delta separate loss = 1.0\n"
          ]
        },
        {
          "output_type": "stream",
          "name": "stderr",
          "text": [
            "  6%|▌         | 74/1250 [00:09<02:14,  8.72it/s, train_loss=-16]"
          ]
        },
        {
          "output_type": "stream",
          "name": "stdout",
          "text": [
            "__main__ - infinite loss or empty loss! it happened 1 times so far - skipping this batch\n"
          ]
        },
        {
          "output_type": "stream",
          "name": "stderr",
          "text": [
            " 18%|█▊        | 219/1250 [00:25<01:58,  8.71it/s, train_loss=-16.3]"
          ]
        },
        {
          "output_type": "stream",
          "name": "stdout",
          "text": [
            "__main__ - infinite loss or empty loss! it happened 2 times so far - skipping this batch\n"
          ]
        },
        {
          "output_type": "stream",
          "name": "stderr",
          "text": [
            " 24%|██▍       | 298/1250 [00:35<01:44,  9.10it/s, train_loss=-16.2]"
          ]
        },
        {
          "output_type": "stream",
          "name": "stdout",
          "text": [
            "__main__ - infinite loss or empty loss! it happened 3 times so far - skipping this batch\n"
          ]
        },
        {
          "output_type": "stream",
          "name": "stderr",
          "text": [
            " 97%|█████████▋| 1210/1250 [02:18<00:04,  9.12it/s, train_loss=-16.2]"
          ]
        },
        {
          "output_type": "stream",
          "name": "stdout",
          "text": [
            "__main__ - infinite loss or empty loss! it happened 4 times so far - skipping this batch\n"
          ]
        },
        {
          "output_type": "stream",
          "name": "stderr",
          "text": [
            "100%|██████████| 1250/1250 [02:22<00:00,  8.74it/s, train_loss=-16.2]\n"
          ]
        },
        {
          "output_type": "stream",
          "name": "stdout",
          "text": [
            "Delta lang loss = 0.0, Delta separate loss = 1.0\n"
          ]
        },
        {
          "output_type": "stream",
          "name": "stderr",
          "text": [
            "100%|██████████| 500/500 [00:20<00:00, 23.97it/s]"
          ]
        },
        {
          "output_type": "stream",
          "name": "stdout",
          "text": [
            "speechbrain.utils.train_logger - epoch: 19, lr: 1.50e-03 - train final_loss: -1.62e+01 - valid final_loss: -1.15e+01, valid Accuracy soft: 0.2479049116373062, valid Accuracy Partial: 0.5049999952316284\n"
          ]
        },
        {
          "output_type": "stream",
          "name": "stderr",
          "text": [
            "\n"
          ]
        },
        {
          "output_type": "stream",
          "name": "stdout",
          "text": [
            "speechbrain.utils.checkpoints - Saved an end-of-epoch checkpoint in results/convtasnet/1234/save/CKPT+2025-07-24+22-13-09+00\n",
            "speechbrain.utils.checkpoints - Deleted checkpoint in results/convtasnet/1234/save/CKPT+2025-07-24+22-10-25+00\n",
            "speechbrain.utils.epoch_loop - Going into epoch 20\n",
            "Delta lang loss = 0.0, Delta separate loss = 1.0\n"
          ]
        },
        {
          "output_type": "stream",
          "name": "stderr",
          "text": [
            "  6%|▌         | 74/1250 [00:08<02:12,  8.87it/s, train_loss=-16.2]"
          ]
        },
        {
          "output_type": "stream",
          "name": "stdout",
          "text": [
            "__main__ - infinite loss or empty loss! it happened 1 times so far - skipping this batch\n"
          ]
        },
        {
          "output_type": "stream",
          "name": "stderr",
          "text": [
            " 24%|██▍       | 298/1250 [00:33<01:47,  8.90it/s, train_loss=-16.3]"
          ]
        },
        {
          "output_type": "stream",
          "name": "stdout",
          "text": [
            "__main__ - infinite loss or empty loss! it happened 2 times so far - skipping this batch\n"
          ]
        },
        {
          "output_type": "stream",
          "name": "stderr",
          "text": [
            "100%|██████████| 1250/1250 [02:21<00:00,  8.86it/s, train_loss=-16.3]\n"
          ]
        },
        {
          "output_type": "stream",
          "name": "stdout",
          "text": [
            "__main__ - Saved file succesfully\n",
            "Delta lang loss = 0.0, Delta separate loss = 1.0\n"
          ]
        },
        {
          "output_type": "stream",
          "name": "stderr",
          "text": [
            "100%|██████████| 500/500 [00:20<00:00, 23.92it/s]"
          ]
        },
        {
          "output_type": "stream",
          "name": "stdout",
          "text": [
            "speechbrain.utils.train_logger - epoch: 20, lr: 1.50e-03 - train final_loss: -1.63e+01 - valid final_loss: -1.13e+01, valid Accuracy soft: 0.264443039894104, valid Accuracy Partial: 0.527999997138977\n"
          ]
        },
        {
          "output_type": "stream",
          "name": "stderr",
          "text": [
            "\n"
          ]
        },
        {
          "output_type": "stream",
          "name": "stdout",
          "text": [
            "speechbrain.utils.checkpoints - Saved an end-of-epoch checkpoint in results/convtasnet/1234/save/CKPT+2025-07-24+22-15-53+00\n",
            "speechbrain.utils.checkpoints - Deleted checkpoint in results/convtasnet/1234/save/CKPT+2025-07-24+22-13-09+00\n",
            "speechbrain.utils.epoch_loop - Going into epoch 21\n",
            "__main__ - Unfreezing ECAPA\n",
            "Delta lang loss = 0.2, Delta separate loss = 0.8\n"
          ]
        },
        {
          "output_type": "stream",
          "name": "stderr",
          "text": [
            "100%|██████████| 1250/1250 [02:37<00:00,  7.93it/s, train_loss=-12.3]\n"
          ]
        },
        {
          "output_type": "stream",
          "name": "stdout",
          "text": [
            "Delta lang loss = 0.2, Delta separate loss = 0.8\n"
          ]
        },
        {
          "output_type": "stream",
          "name": "stderr",
          "text": [
            "100%|██████████| 500/500 [00:20<00:00, 23.98it/s]"
          ]
        },
        {
          "output_type": "stream",
          "name": "stdout",
          "text": [
            "speechbrain.utils.train_logger - epoch: 21, lr: 1.00e-04 - train final_loss: -1.23e+01 - valid final_loss: -8.79e+00, valid Accuracy soft: 0.3191121220588684, valid Accuracy Partial: 0.6480000019073486\n"
          ]
        },
        {
          "output_type": "stream",
          "name": "stderr",
          "text": [
            "\n"
          ]
        },
        {
          "output_type": "stream",
          "name": "stdout",
          "text": [
            "speechbrain.utils.checkpoints - Saved an end-of-epoch checkpoint in results/convtasnet/1234/save/CKPT+2025-07-24+22-18-52+00\n",
            "speechbrain.utils.checkpoints - Deleted checkpoint in results/convtasnet/1234/save/CKPT+2025-07-24+22-15-53+00\n",
            "speechbrain.utils.epoch_loop - Going into epoch 22\n",
            "Delta lang loss = 0.2, Delta separate loss = 0.8\n"
          ]
        },
        {
          "output_type": "stream",
          "name": "stderr",
          "text": [
            "100%|██████████| 1250/1250 [02:38<00:00,  7.90it/s, train_loss=-12.7]\n"
          ]
        },
        {
          "output_type": "stream",
          "name": "stdout",
          "text": [
            "Delta lang loss = 0.2, Delta separate loss = 0.8\n"
          ]
        },
        {
          "output_type": "stream",
          "name": "stderr",
          "text": [
            "100%|██████████| 500/500 [00:20<00:00, 23.88it/s]"
          ]
        },
        {
          "output_type": "stream",
          "name": "stdout",
          "text": [
            "speechbrain.utils.train_logger - epoch: 22, lr: 1.00e-04 - train final_loss: -1.27e+01 - valid final_loss: -8.68e+00, valid Accuracy soft: 0.32101452350616455, valid Accuracy Partial: 0.6489999890327454\n"
          ]
        },
        {
          "output_type": "stream",
          "name": "stderr",
          "text": [
            "\n"
          ]
        },
        {
          "output_type": "stream",
          "name": "stdout",
          "text": [
            "speechbrain.utils.checkpoints - Saved an end-of-epoch checkpoint in results/convtasnet/1234/save/CKPT+2025-07-24+22-21-51+00\n",
            "speechbrain.utils.checkpoints - Deleted checkpoint in results/convtasnet/1234/save/CKPT+2025-07-24+22-18-52+00\n",
            "speechbrain.utils.epoch_loop - Going into epoch 23\n",
            "Delta lang loss = 0.2, Delta separate loss = 0.8\n"
          ]
        },
        {
          "output_type": "stream",
          "name": "stderr",
          "text": [
            "100%|██████████| 1250/1250 [02:38<00:00,  7.86it/s, train_loss=-12.9]\n"
          ]
        },
        {
          "output_type": "stream",
          "name": "stdout",
          "text": [
            "Delta lang loss = 0.2, Delta separate loss = 0.8\n"
          ]
        },
        {
          "output_type": "stream",
          "name": "stderr",
          "text": [
            "100%|██████████| 500/500 [00:20<00:00, 24.10it/s]"
          ]
        },
        {
          "output_type": "stream",
          "name": "stdout",
          "text": [
            "speechbrain.utils.train_logger - epoch: 23, lr: 1.00e-04 - train final_loss: -1.29e+01 - valid final_loss: -8.70e+00, valid Accuracy soft: 0.32997453212738037, valid Accuracy Partial: 0.6639999747276306\n"
          ]
        },
        {
          "output_type": "stream",
          "name": "stderr",
          "text": [
            "\n"
          ]
        },
        {
          "output_type": "stream",
          "name": "stdout",
          "text": [
            "speechbrain.utils.checkpoints - Saved an end-of-epoch checkpoint in results/convtasnet/1234/save/CKPT+2025-07-24+22-24-52+00\n",
            "speechbrain.utils.checkpoints - Deleted checkpoint in results/convtasnet/1234/save/CKPT+2025-07-24+22-21-51+00\n",
            "speechbrain.utils.epoch_loop - Going into epoch 24\n",
            "Delta lang loss = 0.2, Delta separate loss = 0.8\n"
          ]
        },
        {
          "output_type": "stream",
          "name": "stderr",
          "text": [
            "100%|██████████| 1250/1250 [02:38<00:00,  7.88it/s, train_loss=-13]\n"
          ]
        },
        {
          "output_type": "stream",
          "name": "stdout",
          "text": [
            "Delta lang loss = 0.2, Delta separate loss = 0.8\n"
          ]
        },
        {
          "output_type": "stream",
          "name": "stderr",
          "text": [
            "100%|██████████| 500/500 [00:20<00:00, 24.02it/s]"
          ]
        },
        {
          "output_type": "stream",
          "name": "stdout",
          "text": [
            "speechbrain.utils.train_logger - epoch: 24, lr: 1.00e-04 - train final_loss: -1.30e+01 - valid final_loss: -8.70e+00, valid Accuracy soft: 0.32454270124435425, valid Accuracy Partial: 0.652999997138977\n"
          ]
        },
        {
          "output_type": "stream",
          "name": "stderr",
          "text": [
            "\n"
          ]
        },
        {
          "output_type": "stream",
          "name": "stdout",
          "text": [
            "speechbrain.utils.checkpoints - Saved an end-of-epoch checkpoint in results/convtasnet/1234/save/CKPT+2025-07-24+22-27-52+00\n",
            "speechbrain.utils.checkpoints - Deleted checkpoint in results/convtasnet/1234/save/CKPT+2025-07-24+22-24-52+00\n",
            "speechbrain.utils.epoch_loop - Going into epoch 25\n",
            "Delta lang loss = 0.2, Delta separate loss = 0.8\n"
          ]
        },
        {
          "output_type": "stream",
          "name": "stderr",
          "text": [
            "100%|██████████| 1250/1250 [02:42<00:00,  7.69it/s, train_loss=-13.1]\n"
          ]
        },
        {
          "output_type": "stream",
          "name": "stdout",
          "text": [
            "Delta lang loss = 0.2, Delta separate loss = 0.8\n"
          ]
        },
        {
          "output_type": "stream",
          "name": "stderr",
          "text": [
            "100%|██████████| 500/500 [00:20<00:00, 23.97it/s]"
          ]
        },
        {
          "output_type": "stream",
          "name": "stdout",
          "text": [
            "speechbrain.utils.train_logger - epoch: 25, lr: 1.00e-04 - train final_loss: -1.31e+01 - valid final_loss: -8.91e+00, valid Accuracy soft: 0.3298475444316864, valid Accuracy Partial: 0.6610000133514404\n"
          ]
        },
        {
          "output_type": "stream",
          "name": "stderr",
          "text": [
            "\n"
          ]
        },
        {
          "output_type": "stream",
          "name": "stdout",
          "text": [
            "speechbrain.utils.checkpoints - Saved an end-of-epoch checkpoint in results/convtasnet/1234/save/CKPT+2025-07-24+22-30-56+00\n",
            "speechbrain.utils.checkpoints - Deleted checkpoint in results/convtasnet/1234/save/CKPT+2025-07-24+22-27-52+00\n",
            "speechbrain.utils.epoch_loop - Going into epoch 26\n",
            "Delta lang loss = 0.2, Delta separate loss = 0.8\n"
          ]
        },
        {
          "output_type": "stream",
          "name": "stderr",
          "text": [
            "100%|██████████| 1250/1250 [02:40<00:00,  7.79it/s, train_loss=-13.1]\n"
          ]
        },
        {
          "output_type": "stream",
          "name": "stdout",
          "text": [
            "Delta lang loss = 0.2, Delta separate loss = 0.8\n"
          ]
        },
        {
          "output_type": "stream",
          "name": "stderr",
          "text": [
            "100%|██████████| 500/500 [00:20<00:00, 24.10it/s]"
          ]
        },
        {
          "output_type": "stream",
          "name": "stdout",
          "text": [
            "speechbrain.utils.train_logger - epoch: 26, lr: 1.00e-04 - train final_loss: -1.31e+01 - valid final_loss: -9.04e+00, valid Accuracy soft: 0.33773332834243774, valid Accuracy Partial: 0.6790000200271606\n"
          ]
        },
        {
          "output_type": "stream",
          "name": "stderr",
          "text": [
            "\n"
          ]
        },
        {
          "output_type": "stream",
          "name": "stdout",
          "text": [
            "speechbrain.utils.checkpoints - Saved an end-of-epoch checkpoint in results/convtasnet/1234/save/CKPT+2025-07-24+22-33-57+00\n",
            "speechbrain.utils.checkpoints - Deleted checkpoint in results/convtasnet/1234/save/CKPT+2025-07-24+22-30-56+00\n",
            "speechbrain.utils.epoch_loop - Going into epoch 27\n",
            "Delta lang loss = 0.2, Delta separate loss = 0.8\n"
          ]
        },
        {
          "output_type": "stream",
          "name": "stderr",
          "text": [
            "100%|██████████| 1250/1250 [02:39<00:00,  7.84it/s, train_loss=-13.2]\n"
          ]
        },
        {
          "output_type": "stream",
          "name": "stdout",
          "text": [
            "Delta lang loss = 0.2, Delta separate loss = 0.8\n"
          ]
        },
        {
          "output_type": "stream",
          "name": "stderr",
          "text": [
            "100%|██████████| 500/500 [00:20<00:00, 23.96it/s]"
          ]
        },
        {
          "output_type": "stream",
          "name": "stdout",
          "text": [
            "speechbrain.utils.train_logger - epoch: 27, lr: 1.00e-04 - train final_loss: -1.32e+01 - valid final_loss: -8.96e+00, valid Accuracy soft: 0.3370331823825836, valid Accuracy Partial: 0.6790000200271606\n"
          ]
        },
        {
          "output_type": "stream",
          "name": "stderr",
          "text": [
            "\n"
          ]
        },
        {
          "output_type": "stream",
          "name": "stdout",
          "text": [
            "speechbrain.utils.checkpoints - Saved an end-of-epoch checkpoint in results/convtasnet/1234/save/CKPT+2025-07-24+22-36-58+00\n",
            "speechbrain.utils.checkpoints - Deleted checkpoint in results/convtasnet/1234/save/CKPT+2025-07-24+22-33-57+00\n",
            "speechbrain.utils.epoch_loop - Going into epoch 28\n",
            "Delta lang loss = 0.2, Delta separate loss = 0.8\n"
          ]
        },
        {
          "output_type": "stream",
          "name": "stderr",
          "text": [
            "100%|██████████| 1250/1250 [02:39<00:00,  7.83it/s, train_loss=-13.2]\n"
          ]
        },
        {
          "output_type": "stream",
          "name": "stdout",
          "text": [
            "Delta lang loss = 0.2, Delta separate loss = 0.8\n"
          ]
        },
        {
          "output_type": "stream",
          "name": "stderr",
          "text": [
            "100%|██████████| 500/500 [00:20<00:00, 23.92it/s]"
          ]
        },
        {
          "output_type": "stream",
          "name": "stdout",
          "text": [
            "speechbrain.utils.train_logger - epoch: 28, lr: 1.00e-04 - train final_loss: -1.32e+01 - valid final_loss: -9.07e+00, valid Accuracy soft: 0.340036004781723, valid Accuracy Partial: 0.6990000009536743\n"
          ]
        },
        {
          "output_type": "stream",
          "name": "stderr",
          "text": [
            "\n"
          ]
        },
        {
          "output_type": "stream",
          "name": "stdout",
          "text": [
            "speechbrain.utils.checkpoints - Saved an end-of-epoch checkpoint in results/convtasnet/1234/save/CKPT+2025-07-24+22-39-59+00\n",
            "speechbrain.utils.checkpoints - Deleted checkpoint in results/convtasnet/1234/save/CKPT+2025-07-24+22-36-58+00\n",
            "speechbrain.utils.epoch_loop - Going into epoch 29\n",
            "Delta lang loss = 0.2, Delta separate loss = 0.8\n"
          ]
        },
        {
          "output_type": "stream",
          "name": "stderr",
          "text": [
            "100%|██████████| 1250/1250 [02:39<00:00,  7.83it/s, train_loss=-13.2]\n"
          ]
        },
        {
          "output_type": "stream",
          "name": "stdout",
          "text": [
            "Delta lang loss = 0.2, Delta separate loss = 0.8\n"
          ]
        },
        {
          "output_type": "stream",
          "name": "stderr",
          "text": [
            "100%|██████████| 500/500 [00:20<00:00, 23.96it/s]"
          ]
        },
        {
          "output_type": "stream",
          "name": "stdout",
          "text": [
            "speechbrain.utils.train_logger - epoch: 29, lr: 1.00e-04 - train final_loss: -1.32e+01 - valid final_loss: -8.94e+00, valid Accuracy soft: 0.32965922355651855, valid Accuracy Partial: 0.6779999732971191\n"
          ]
        },
        {
          "output_type": "stream",
          "name": "stderr",
          "text": [
            "\n"
          ]
        },
        {
          "output_type": "stream",
          "name": "stdout",
          "text": [
            "speechbrain.utils.checkpoints - Saved an end-of-epoch checkpoint in results/convtasnet/1234/save/CKPT+2025-07-24+22-43-00+00\n",
            "speechbrain.utils.checkpoints - Deleted checkpoint in results/convtasnet/1234/save/CKPT+2025-07-24+22-39-59+00\n",
            "speechbrain.utils.epoch_loop - Going into epoch 30\n",
            "Delta lang loss = 0.2, Delta separate loss = 0.8\n"
          ]
        },
        {
          "output_type": "stream",
          "name": "stderr",
          "text": [
            "100%|██████████| 1250/1250 [02:39<00:00,  7.83it/s, train_loss=-13.3]\n"
          ]
        },
        {
          "output_type": "stream",
          "name": "stdout",
          "text": [
            "Delta lang loss = 0.2, Delta separate loss = 0.8\n"
          ]
        },
        {
          "output_type": "stream",
          "name": "stderr",
          "text": [
            "100%|██████████| 500/500 [00:20<00:00, 23.99it/s]"
          ]
        },
        {
          "output_type": "stream",
          "name": "stdout",
          "text": [
            "speechbrain.utils.train_logger - epoch: 30, lr: 1.00e-04 - train final_loss: -1.33e+01 - valid final_loss: -8.94e+00, valid Accuracy soft: 0.31693771481513977, valid Accuracy Partial: 0.6439999938011169\n"
          ]
        },
        {
          "output_type": "stream",
          "name": "stderr",
          "text": [
            "\n"
          ]
        },
        {
          "output_type": "stream",
          "name": "stdout",
          "text": [
            "speechbrain.utils.checkpoints - Saved an end-of-epoch checkpoint in results/convtasnet/1234/save/CKPT+2025-07-24+22-46-01+00\n",
            "speechbrain.utils.checkpoints - Deleted checkpoint in results/convtasnet/1234/save/CKPT+2025-07-24+22-43-00+00\n",
            "speechbrain.utils.epoch_loop - Going into epoch 31\n",
            "Delta lang loss = 0.2, Delta separate loss = 0.8\n"
          ]
        },
        {
          "output_type": "stream",
          "name": "stderr",
          "text": [
            "100%|██████████| 1250/1250 [02:39<00:00,  7.84it/s, train_loss=-13.3]\n"
          ]
        },
        {
          "output_type": "stream",
          "name": "stdout",
          "text": [
            "Delta lang loss = 0.2, Delta separate loss = 0.8\n"
          ]
        },
        {
          "output_type": "stream",
          "name": "stderr",
          "text": [
            "100%|██████████| 500/500 [00:20<00:00, 23.85it/s]"
          ]
        },
        {
          "output_type": "stream",
          "name": "stdout",
          "text": [
            "speechbrain.utils.train_logger - epoch: 31, lr: 1.00e-04 - train final_loss: -1.33e+01 - valid final_loss: -9.00e+00, valid Accuracy soft: 0.311827152967453, valid Accuracy Partial: 0.6349999904632568\n"
          ]
        },
        {
          "output_type": "stream",
          "name": "stderr",
          "text": [
            "\n"
          ]
        },
        {
          "output_type": "stream",
          "name": "stdout",
          "text": [
            "speechbrain.utils.checkpoints - Saved an end-of-epoch checkpoint in results/convtasnet/1234/save/CKPT+2025-07-24+22-49-02+00\n",
            "speechbrain.utils.checkpoints - Deleted checkpoint in results/convtasnet/1234/save/CKPT+2025-07-24+22-46-01+00\n",
            "speechbrain.utils.epoch_loop - Going into epoch 32\n",
            "Delta lang loss = 0.2, Delta separate loss = 0.8\n"
          ]
        },
        {
          "output_type": "stream",
          "name": "stderr",
          "text": [
            "100%|██████████| 1250/1250 [02:38<00:00,  7.89it/s, train_loss=-13.3]\n"
          ]
        },
        {
          "output_type": "stream",
          "name": "stdout",
          "text": [
            "Delta lang loss = 0.2, Delta separate loss = 0.8\n"
          ]
        },
        {
          "output_type": "stream",
          "name": "stderr",
          "text": [
            "100%|██████████| 500/500 [00:20<00:00, 24.01it/s]"
          ]
        },
        {
          "output_type": "stream",
          "name": "stdout",
          "text": [
            "speechbrain.utils.train_logger - epoch: 32, lr: 1.00e-04 - train final_loss: -1.33e+01 - valid final_loss: -8.97e+00, valid Accuracy soft: 0.3077455461025238, valid Accuracy Partial: 0.621999979019165\n"
          ]
        },
        {
          "output_type": "stream",
          "name": "stderr",
          "text": [
            "\n"
          ]
        },
        {
          "output_type": "stream",
          "name": "stdout",
          "text": [
            "speechbrain.utils.checkpoints - Saved an end-of-epoch checkpoint in results/convtasnet/1234/save/CKPT+2025-07-24+22-52-02+00\n",
            "speechbrain.utils.checkpoints - Deleted checkpoint in results/convtasnet/1234/save/CKPT+2025-07-24+22-49-02+00\n",
            "speechbrain.utils.epoch_loop - Going into epoch 33\n",
            "Delta lang loss = 0.2, Delta separate loss = 0.8\n"
          ]
        },
        {
          "output_type": "stream",
          "name": "stderr",
          "text": [
            "100%|██████████| 1250/1250 [02:38<00:00,  7.86it/s, train_loss=-13.3]\n"
          ]
        },
        {
          "output_type": "stream",
          "name": "stdout",
          "text": [
            "Delta lang loss = 0.2, Delta separate loss = 0.8\n"
          ]
        },
        {
          "output_type": "stream",
          "name": "stderr",
          "text": [
            "100%|██████████| 500/500 [00:20<00:00, 24.04it/s]"
          ]
        },
        {
          "output_type": "stream",
          "name": "stdout",
          "text": [
            "speechbrain.utils.train_logger - epoch: 33, lr: 1.00e-04 - train final_loss: -1.33e+01 - valid final_loss: -9.02e+00, valid Accuracy soft: 0.2990318536758423, valid Accuracy Partial: 0.6100000143051147\n"
          ]
        },
        {
          "output_type": "stream",
          "name": "stderr",
          "text": [
            "\n"
          ]
        },
        {
          "output_type": "stream",
          "name": "stdout",
          "text": [
            "speechbrain.utils.checkpoints - Saved an end-of-epoch checkpoint in results/convtasnet/1234/save/CKPT+2025-07-24+22-55-02+00\n",
            "speechbrain.utils.checkpoints - Deleted checkpoint in results/convtasnet/1234/save/CKPT+2025-07-24+22-52-02+00\n",
            "speechbrain.utils.epoch_loop - Going into epoch 34\n",
            "Delta lang loss = 0.2, Delta separate loss = 0.8\n"
          ]
        },
        {
          "output_type": "stream",
          "name": "stderr",
          "text": [
            "100%|██████████| 1250/1250 [02:39<00:00,  7.85it/s, train_loss=-13.3]\n"
          ]
        },
        {
          "output_type": "stream",
          "name": "stdout",
          "text": [
            "Delta lang loss = 0.2, Delta separate loss = 0.8\n"
          ]
        },
        {
          "output_type": "stream",
          "name": "stderr",
          "text": [
            "100%|██████████| 500/500 [00:20<00:00, 23.88it/s]"
          ]
        },
        {
          "output_type": "stream",
          "name": "stdout",
          "text": [
            "speechbrain.utils.train_logger - epoch: 34, lr: 1.00e-04 - train final_loss: -1.33e+01 - valid final_loss: -8.95e+00, valid Accuracy soft: 0.29629045724868774, valid Accuracy Partial: 0.6100000143051147\n"
          ]
        },
        {
          "output_type": "stream",
          "name": "stderr",
          "text": [
            "\n"
          ]
        },
        {
          "output_type": "stream",
          "name": "stdout",
          "text": [
            "speechbrain.utils.checkpoints - Saved an end-of-epoch checkpoint in results/convtasnet/1234/save/CKPT+2025-07-24+22-58-03+00\n",
            "speechbrain.utils.checkpoints - Deleted checkpoint in results/convtasnet/1234/save/CKPT+2025-07-24+22-55-02+00\n",
            "speechbrain.utils.epoch_loop - Going into epoch 35\n",
            "Delta lang loss = 0.2, Delta separate loss = 0.8\n"
          ]
        },
        {
          "output_type": "stream",
          "name": "stderr",
          "text": [
            "100%|██████████| 1250/1250 [02:38<00:00,  7.88it/s, train_loss=-13.3]\n"
          ]
        },
        {
          "output_type": "stream",
          "name": "stdout",
          "text": [
            "Delta lang loss = 0.2, Delta separate loss = 0.8\n"
          ]
        },
        {
          "output_type": "stream",
          "name": "stderr",
          "text": [
            "100%|██████████| 500/500 [00:20<00:00, 24.08it/s]"
          ]
        },
        {
          "output_type": "stream",
          "name": "stdout",
          "text": [
            "speechbrain.utils.train_logger - epoch: 35, lr: 1.00e-04 - train final_loss: -1.33e+01 - valid final_loss: -8.96e+00, valid Accuracy soft: 0.2895146906375885, valid Accuracy Partial: 0.5989999771118164\n"
          ]
        },
        {
          "output_type": "stream",
          "name": "stderr",
          "text": [
            "\n"
          ]
        },
        {
          "output_type": "stream",
          "name": "stdout",
          "text": [
            "speechbrain.utils.checkpoints - Saved an end-of-epoch checkpoint in results/convtasnet/1234/save/CKPT+2025-07-24+23-01-03+00\n",
            "speechbrain.utils.checkpoints - Deleted checkpoint in results/convtasnet/1234/save/CKPT+2025-07-24+22-58-03+00\n",
            "speechbrain.utils.epoch_loop - Going into epoch 36\n",
            "Delta lang loss = 0.2, Delta separate loss = 0.8\n"
          ]
        },
        {
          "output_type": "stream",
          "name": "stderr",
          "text": [
            "100%|██████████| 1250/1250 [02:38<00:00,  7.87it/s, train_loss=-13.3]\n"
          ]
        },
        {
          "output_type": "stream",
          "name": "stdout",
          "text": [
            "Delta lang loss = 0.2, Delta separate loss = 0.8\n"
          ]
        },
        {
          "output_type": "stream",
          "name": "stderr",
          "text": [
            "100%|██████████| 500/500 [00:20<00:00, 23.97it/s]"
          ]
        },
        {
          "output_type": "stream",
          "name": "stdout",
          "text": [
            "speechbrain.utils.train_logger - epoch: 36, lr: 1.00e-04 - train final_loss: -1.33e+01 - valid final_loss: -8.91e+00, valid Accuracy soft: 0.2804814577102661, valid Accuracy Partial: 0.5849999785423279\n"
          ]
        },
        {
          "output_type": "stream",
          "name": "stderr",
          "text": [
            "\n"
          ]
        },
        {
          "output_type": "stream",
          "name": "stdout",
          "text": [
            "speechbrain.utils.checkpoints - Saved an end-of-epoch checkpoint in results/convtasnet/1234/save/CKPT+2025-07-24+23-04-03+00\n",
            "speechbrain.utils.checkpoints - Deleted checkpoint in results/convtasnet/1234/save/CKPT+2025-07-24+23-01-03+00\n",
            "speechbrain.utils.epoch_loop - Going into epoch 37\n",
            "Delta lang loss = 0.2, Delta separate loss = 0.8\n"
          ]
        },
        {
          "output_type": "stream",
          "name": "stderr",
          "text": [
            "100%|██████████| 1250/1250 [02:38<00:00,  7.89it/s, train_loss=-13.3]\n"
          ]
        },
        {
          "output_type": "stream",
          "name": "stdout",
          "text": [
            "Delta lang loss = 0.2, Delta separate loss = 0.8\n"
          ]
        },
        {
          "output_type": "stream",
          "name": "stderr",
          "text": [
            "100%|██████████| 500/500 [00:21<00:00, 23.78it/s]"
          ]
        },
        {
          "output_type": "stream",
          "name": "stdout",
          "text": [
            "speechbrain.utils.train_logger - epoch: 37, lr: 1.00e-04 - train final_loss: -1.33e+01 - valid final_loss: -8.90e+00, valid Accuracy soft: 0.26773130893707275, valid Accuracy Partial: 0.5600000023841858\n"
          ]
        },
        {
          "output_type": "stream",
          "name": "stderr",
          "text": [
            "\n"
          ]
        },
        {
          "output_type": "stream",
          "name": "stdout",
          "text": [
            "speechbrain.utils.checkpoints - Saved an end-of-epoch checkpoint in results/convtasnet/1234/save/CKPT+2025-07-24+23-07-03+00\n",
            "speechbrain.utils.checkpoints - Deleted checkpoint in results/convtasnet/1234/save/CKPT+2025-07-24+23-04-03+00\n",
            "speechbrain.utils.epoch_loop - Going into epoch 38\n",
            "Delta lang loss = 0.2, Delta separate loss = 0.8\n"
          ]
        },
        {
          "output_type": "stream",
          "name": "stderr",
          "text": [
            "100%|██████████| 1250/1250 [02:39<00:00,  7.86it/s, train_loss=-13.4]\n"
          ]
        },
        {
          "output_type": "stream",
          "name": "stdout",
          "text": [
            "Delta lang loss = 0.2, Delta separate loss = 0.8\n"
          ]
        },
        {
          "output_type": "stream",
          "name": "stderr",
          "text": [
            "100%|██████████| 500/500 [00:21<00:00, 23.79it/s]"
          ]
        },
        {
          "output_type": "stream",
          "name": "stdout",
          "text": [
            "speechbrain.utils.train_logger - epoch: 38, lr: 1.00e-04 - train final_loss: -1.34e+01 - valid final_loss: -8.94e+00, valid Accuracy soft: 0.271639883518219, valid Accuracy Partial: 0.546999990940094\n"
          ]
        },
        {
          "output_type": "stream",
          "name": "stderr",
          "text": [
            "\n"
          ]
        },
        {
          "output_type": "stream",
          "name": "stdout",
          "text": [
            "speechbrain.utils.checkpoints - Saved an end-of-epoch checkpoint in results/convtasnet/1234/save/CKPT+2025-07-24+23-10-04+00\n",
            "speechbrain.utils.checkpoints - Deleted checkpoint in results/convtasnet/1234/save/CKPT+2025-07-24+23-07-03+00\n",
            "speechbrain.utils.epoch_loop - Going into epoch 39\n",
            "Delta lang loss = 0.2, Delta separate loss = 0.8\n"
          ]
        },
        {
          "output_type": "stream",
          "name": "stderr",
          "text": [
            "100%|██████████| 1250/1250 [02:39<00:00,  7.83it/s, train_loss=-13.4]\n"
          ]
        },
        {
          "output_type": "stream",
          "name": "stdout",
          "text": [
            "Delta lang loss = 0.2, Delta separate loss = 0.8\n"
          ]
        },
        {
          "output_type": "stream",
          "name": "stderr",
          "text": [
            "100%|██████████| 500/500 [00:20<00:00, 24.06it/s]"
          ]
        },
        {
          "output_type": "stream",
          "name": "stdout",
          "text": [
            "speechbrain.utils.train_logger - epoch: 39, lr: 1.00e-04 - train final_loss: -1.34e+01 - valid final_loss: -8.91e+00, valid Accuracy soft: 0.26210474967956543, valid Accuracy Partial: 0.5360000133514404\n"
          ]
        },
        {
          "output_type": "stream",
          "name": "stderr",
          "text": [
            "\n"
          ]
        },
        {
          "output_type": "stream",
          "name": "stdout",
          "text": [
            "speechbrain.utils.checkpoints - Saved an end-of-epoch checkpoint in results/convtasnet/1234/save/CKPT+2025-07-24+23-13-05+00\n",
            "speechbrain.utils.checkpoints - Deleted checkpoint in results/convtasnet/1234/save/CKPT+2025-07-24+23-10-04+00\n",
            "speechbrain.utils.epoch_loop - Going into epoch 40\n",
            "Delta lang loss = 0.2, Delta separate loss = 0.8\n"
          ]
        },
        {
          "output_type": "stream",
          "name": "stderr",
          "text": [
            "100%|██████████| 1250/1250 [02:40<00:00,  7.79it/s, train_loss=-13.4]\n"
          ]
        },
        {
          "output_type": "stream",
          "name": "stdout",
          "text": [
            "__main__ - Removed file /content/drive/MyDrive/Project/results_20\n",
            "__main__ - Saved file succesfully\n",
            "Delta lang loss = 0.2, Delta separate loss = 0.8\n"
          ]
        },
        {
          "output_type": "stream",
          "name": "stderr",
          "text": [
            "100%|██████████| 500/500 [00:21<00:00, 23.46it/s]"
          ]
        },
        {
          "output_type": "stream",
          "name": "stdout",
          "text": [
            "speechbrain.utils.train_logger - epoch: 40, lr: 1.00e-04 - train final_loss: -1.34e+01 - valid final_loss: -8.77e+00, valid Accuracy soft: 0.24368524551391602, valid Accuracy Partial: 0.5049999952316284\n"
          ]
        },
        {
          "output_type": "stream",
          "name": "stderr",
          "text": [
            "\n"
          ]
        },
        {
          "output_type": "stream",
          "name": "stdout",
          "text": [
            "speechbrain.utils.checkpoints - Saved an end-of-epoch checkpoint in results/convtasnet/1234/save/CKPT+2025-07-24+23-16-18+00\n",
            "speechbrain.utils.checkpoints - Deleted checkpoint in results/convtasnet/1234/save/CKPT+2025-07-24+23-13-05+00\n",
            "speechbrain.utils.epoch_loop - Going into epoch 41\n",
            "Delta lang loss = 0.2, Delta separate loss = 0.8\n"
          ]
        },
        {
          "output_type": "stream",
          "name": "stderr",
          "text": [
            " 97%|█████████▋| 1210/1250 [02:34<00:04,  8.23it/s, train_loss=-13.4]"
          ]
        },
        {
          "output_type": "stream",
          "name": "stdout",
          "text": [
            "__main__ - infinite loss or empty loss! it happened 1 times so far - skipping this batch\n"
          ]
        },
        {
          "output_type": "stream",
          "name": "stderr",
          "text": [
            "100%|██████████| 1250/1250 [02:39<00:00,  7.83it/s, train_loss=-13.4]\n"
          ]
        },
        {
          "output_type": "stream",
          "name": "stdout",
          "text": [
            "Delta lang loss = 0.2, Delta separate loss = 0.8\n"
          ]
        },
        {
          "output_type": "stream",
          "name": "stderr",
          "text": [
            "100%|██████████| 500/500 [00:21<00:00, 23.78it/s]"
          ]
        },
        {
          "output_type": "stream",
          "name": "stdout",
          "text": [
            "speechbrain.utils.train_logger - epoch: 41, lr: 1.00e-04 - train final_loss: -1.34e+01 - valid final_loss: -8.81e+00, valid Accuracy soft: 0.24513553082942963, valid Accuracy Partial: 0.5049999952316284\n"
          ]
        },
        {
          "output_type": "stream",
          "name": "stderr",
          "text": [
            "\n"
          ]
        },
        {
          "output_type": "stream",
          "name": "stdout",
          "text": [
            "speechbrain.utils.checkpoints - Saved an end-of-epoch checkpoint in results/convtasnet/1234/save/CKPT+2025-07-24+23-19-19+00\n",
            "speechbrain.utils.checkpoints - Deleted checkpoint in results/convtasnet/1234/save/CKPT+2025-07-24+23-16-18+00\n",
            "speechbrain.utils.epoch_loop - Going into epoch 42\n",
            "Delta lang loss = 0.2, Delta separate loss = 0.8\n"
          ]
        },
        {
          "output_type": "stream",
          "name": "stderr",
          "text": [
            " 97%|█████████▋| 1210/1250 [02:34<00:04,  8.54it/s, train_loss=-13.4]"
          ]
        },
        {
          "output_type": "stream",
          "name": "stdout",
          "text": [
            "__main__ - infinite loss or empty loss! it happened 1 times so far - skipping this batch\n"
          ]
        },
        {
          "output_type": "stream",
          "name": "stderr",
          "text": [
            "100%|██████████| 1250/1250 [02:40<00:00,  7.81it/s, train_loss=-13.4]\n"
          ]
        },
        {
          "output_type": "stream",
          "name": "stdout",
          "text": [
            "Delta lang loss = 0.2, Delta separate loss = 0.8\n"
          ]
        },
        {
          "output_type": "stream",
          "name": "stderr",
          "text": [
            "100%|██████████| 500/500 [00:21<00:00, 23.69it/s]"
          ]
        },
        {
          "output_type": "stream",
          "name": "stdout",
          "text": [
            "speechbrain.utils.train_logger - epoch: 42, lr: 1.00e-04 - train final_loss: -1.34e+01 - valid final_loss: -8.55e+00, valid Accuracy soft: 0.2174147367477417, valid Accuracy Partial: 0.46000000834465027\n"
          ]
        },
        {
          "output_type": "stream",
          "name": "stderr",
          "text": [
            "\n"
          ]
        },
        {
          "output_type": "stream",
          "name": "stdout",
          "text": [
            "speechbrain.utils.checkpoints - Saved an end-of-epoch checkpoint in results/convtasnet/1234/save/CKPT+2025-07-24+23-22-21+00\n",
            "speechbrain.utils.checkpoints - Deleted checkpoint in results/convtasnet/1234/save/CKPT+2025-07-24+23-19-19+00\n",
            "speechbrain.utils.epoch_loop - Going into epoch 43\n",
            "Delta lang loss = 0.2, Delta separate loss = 0.8\n"
          ]
        },
        {
          "output_type": "stream",
          "name": "stderr",
          "text": [
            "100%|██████████| 1250/1250 [02:40<00:00,  7.79it/s, train_loss=-13.4]\n"
          ]
        },
        {
          "output_type": "stream",
          "name": "stdout",
          "text": [
            "Delta lang loss = 0.2, Delta separate loss = 0.8\n"
          ]
        },
        {
          "output_type": "stream",
          "name": "stderr",
          "text": [
            "100%|██████████| 500/500 [00:21<00:00, 23.47it/s]"
          ]
        },
        {
          "output_type": "stream",
          "name": "stdout",
          "text": [
            "speechbrain.utils.train_logger - epoch: 43, lr: 1.00e-04 - train final_loss: -1.34e+01 - valid final_loss: -6.54e+00, valid Accuracy soft: 0.1937171071767807, valid Accuracy Partial: 0.4050000011920929\n"
          ]
        },
        {
          "output_type": "stream",
          "name": "stderr",
          "text": [
            "\n"
          ]
        },
        {
          "output_type": "stream",
          "name": "stdout",
          "text": [
            "speechbrain.utils.checkpoints - Saved an end-of-epoch checkpoint in results/convtasnet/1234/save/CKPT+2025-07-24+23-25-23+00\n",
            "speechbrain.utils.checkpoints - Deleted checkpoint in results/convtasnet/1234/save/CKPT+2025-07-24+23-22-21+00\n",
            "speechbrain.utils.epoch_loop - Going into epoch 44\n",
            "Delta lang loss = 0.2, Delta separate loss = 0.8\n"
          ]
        },
        {
          "output_type": "stream",
          "name": "stderr",
          "text": [
            "100%|██████████| 1250/1250 [02:42<00:00,  7.70it/s, train_loss=-13.4]\n"
          ]
        },
        {
          "output_type": "stream",
          "name": "stdout",
          "text": [
            "Delta lang loss = 0.2, Delta separate loss = 0.8\n"
          ]
        },
        {
          "output_type": "stream",
          "name": "stderr",
          "text": [
            "100%|██████████| 500/500 [00:21<00:00, 23.33it/s]"
          ]
        },
        {
          "output_type": "stream",
          "name": "stdout",
          "text": [
            "speechbrain.utils.train_logger - epoch: 44, lr: 1.00e-04 - train final_loss: -1.34e+01 - valid final_loss: -8.73e+00, valid Accuracy soft: 0.2044454663991928, valid Accuracy Partial: 0.4429999887943268\n"
          ]
        },
        {
          "output_type": "stream",
          "name": "stderr",
          "text": [
            "\n"
          ]
        },
        {
          "output_type": "stream",
          "name": "stdout",
          "text": [
            "speechbrain.utils.checkpoints - Saved an end-of-epoch checkpoint in results/convtasnet/1234/save/CKPT+2025-07-24+23-28-27+00\n",
            "speechbrain.utils.checkpoints - Deleted checkpoint in results/convtasnet/1234/save/CKPT+2025-07-24+23-25-23+00\n",
            "speechbrain.utils.epoch_loop - Going into epoch 45\n",
            "Delta lang loss = 0.2, Delta separate loss = 0.8\n"
          ]
        },
        {
          "output_type": "stream",
          "name": "stderr",
          "text": [
            " 97%|█████████▋| 1210/1250 [02:36<00:04,  8.51it/s, train_loss=-13.4]"
          ]
        },
        {
          "output_type": "stream",
          "name": "stdout",
          "text": [
            "__main__ - infinite loss or empty loss! it happened 1 times so far - skipping this batch\n"
          ]
        },
        {
          "output_type": "stream",
          "name": "stderr",
          "text": [
            "100%|██████████| 1250/1250 [02:41<00:00,  7.72it/s, train_loss=-13.4]\n"
          ]
        },
        {
          "output_type": "stream",
          "name": "stdout",
          "text": [
            "Delta lang loss = 0.2, Delta separate loss = 0.8\n"
          ]
        },
        {
          "output_type": "stream",
          "name": "stderr",
          "text": [
            "100%|██████████| 500/500 [00:21<00:00, 23.78it/s]"
          ]
        },
        {
          "output_type": "stream",
          "name": "stdout",
          "text": [
            "speechbrain.utils.train_logger - epoch: 45, lr: 1.00e-04 - train final_loss: -1.34e+01 - valid final_loss: -2.82e+00, valid Accuracy soft: 0.2022155523300171, valid Accuracy Partial: 0.4259999990463257\n"
          ]
        },
        {
          "output_type": "stream",
          "name": "stderr",
          "text": [
            "\n"
          ]
        },
        {
          "output_type": "stream",
          "name": "stdout",
          "text": [
            "speechbrain.utils.checkpoints - Saved an end-of-epoch checkpoint in results/convtasnet/1234/save/CKPT+2025-07-24+23-31-31+00\n",
            "speechbrain.utils.checkpoints - Deleted checkpoint in results/convtasnet/1234/save/CKPT+2025-07-24+23-28-27+00\n",
            "speechbrain.utils.epoch_loop - Going into epoch 46\n",
            "Delta lang loss = 0.2, Delta separate loss = 0.8\n"
          ]
        },
        {
          "output_type": "stream",
          "name": "stderr",
          "text": [
            "100%|██████████| 1250/1250 [02:41<00:00,  7.76it/s, train_loss=-13.5]\n"
          ]
        },
        {
          "output_type": "stream",
          "name": "stdout",
          "text": [
            "Delta lang loss = 0.2, Delta separate loss = 0.8\n"
          ]
        },
        {
          "output_type": "stream",
          "name": "stderr",
          "text": [
            "100%|██████████| 500/500 [00:21<00:00, 23.60it/s]"
          ]
        },
        {
          "output_type": "stream",
          "name": "stdout",
          "text": [
            "speechbrain.utils.train_logger - epoch: 46, lr: 1.00e-04 - train final_loss: -1.35e+01 - valid final_loss: 2.49e-01, valid Accuracy soft: 0.18387900292873383, valid Accuracy Partial: 0.3869999945163727\n"
          ]
        },
        {
          "output_type": "stream",
          "name": "stderr",
          "text": [
            "\n"
          ]
        },
        {
          "output_type": "stream",
          "name": "stdout",
          "text": [
            "speechbrain.utils.checkpoints - Saved an end-of-epoch checkpoint in results/convtasnet/1234/save/CKPT+2025-07-24+23-34-33+00\n",
            "speechbrain.utils.checkpoints - Deleted checkpoint in results/convtasnet/1234/save/CKPT+2025-07-24+23-31-31+00\n",
            "speechbrain.utils.epoch_loop - Going into epoch 47\n",
            "Delta lang loss = 0.2, Delta separate loss = 0.8\n"
          ]
        },
        {
          "output_type": "stream",
          "name": "stderr",
          "text": [
            " 97%|█████████▋| 1210/1250 [02:36<00:04,  8.07it/s, train_loss=-13.5]"
          ]
        },
        {
          "output_type": "stream",
          "name": "stdout",
          "text": [
            "__main__ - infinite loss or empty loss! it happened 1 times so far - skipping this batch\n"
          ]
        },
        {
          "output_type": "stream",
          "name": "stderr",
          "text": [
            "100%|██████████| 1250/1250 [02:42<00:00,  7.71it/s, train_loss=-13.5]\n"
          ]
        },
        {
          "output_type": "stream",
          "name": "stdout",
          "text": [
            "Delta lang loss = 0.2, Delta separate loss = 0.8\n"
          ]
        },
        {
          "output_type": "stream",
          "name": "stderr",
          "text": [
            "100%|██████████| 500/500 [00:21<00:00, 23.63it/s]"
          ]
        },
        {
          "output_type": "stream",
          "name": "stdout",
          "text": [
            "speechbrain.utils.train_logger - epoch: 47, lr: 1.00e-04 - train final_loss: -1.35e+01 - valid final_loss: 18.84, valid Accuracy soft: 0.17531149089336395, valid Accuracy Partial: 0.3779999911785126\n"
          ]
        },
        {
          "output_type": "stream",
          "name": "stderr",
          "text": [
            "\n"
          ]
        },
        {
          "output_type": "stream",
          "name": "stdout",
          "text": [
            "speechbrain.utils.checkpoints - Saved an end-of-epoch checkpoint in results/convtasnet/1234/save/CKPT+2025-07-24+23-37-37+00\n",
            "speechbrain.utils.checkpoints - Deleted checkpoint in results/convtasnet/1234/save/CKPT+2025-07-24+23-34-33+00\n",
            "speechbrain.utils.epoch_loop - Going into epoch 48\n",
            "Delta lang loss = 0.2, Delta separate loss = 0.8\n"
          ]
        },
        {
          "output_type": "stream",
          "name": "stderr",
          "text": [
            " 97%|█████████▋| 1210/1250 [02:36<00:04,  8.62it/s, train_loss=-13.5]"
          ]
        },
        {
          "output_type": "stream",
          "name": "stdout",
          "text": [
            "__main__ - infinite loss or empty loss! it happened 1 times so far - skipping this batch\n"
          ]
        },
        {
          "output_type": "stream",
          "name": "stderr",
          "text": [
            "100%|██████████| 1250/1250 [02:41<00:00,  7.76it/s, train_loss=-13.5]\n"
          ]
        },
        {
          "output_type": "stream",
          "name": "stdout",
          "text": [
            "Delta lang loss = 0.2, Delta separate loss = 0.8\n"
          ]
        },
        {
          "output_type": "stream",
          "name": "stderr",
          "text": [
            "100%|██████████| 500/500 [00:21<00:00, 23.43it/s]"
          ]
        },
        {
          "output_type": "stream",
          "name": "stdout",
          "text": [
            "speechbrain.utils.train_logger - epoch: 48, lr: 1.00e-04 - train final_loss: -1.35e+01 - valid final_loss: -6.42e+00, valid Accuracy soft: 0.1606675684452057, valid Accuracy Partial: 0.35499998927116394\n"
          ]
        },
        {
          "output_type": "stream",
          "name": "stderr",
          "text": [
            "\n"
          ]
        },
        {
          "output_type": "stream",
          "name": "stdout",
          "text": [
            "speechbrain.utils.checkpoints - Saved an end-of-epoch checkpoint in results/convtasnet/1234/save/CKPT+2025-07-24+23-40-40+00\n",
            "speechbrain.utils.checkpoints - Deleted checkpoint in results/convtasnet/1234/save/CKPT+2025-07-24+23-37-37+00\n",
            "speechbrain.utils.epoch_loop - Going into epoch 49\n",
            "Delta lang loss = 0.2, Delta separate loss = 0.8\n"
          ]
        },
        {
          "output_type": "stream",
          "name": "stderr",
          "text": [
            " 97%|█████████▋| 1210/1250 [02:36<00:04,  8.52it/s, train_loss=-13.5]"
          ]
        },
        {
          "output_type": "stream",
          "name": "stdout",
          "text": [
            "__main__ - infinite loss or empty loss! it happened 1 times so far - skipping this batch\n"
          ]
        },
        {
          "output_type": "stream",
          "name": "stderr",
          "text": [
            "100%|██████████| 1250/1250 [02:41<00:00,  7.72it/s, train_loss=-13.5]\n"
          ]
        },
        {
          "output_type": "stream",
          "name": "stdout",
          "text": [
            "Delta lang loss = 0.2, Delta separate loss = 0.8\n"
          ]
        },
        {
          "output_type": "stream",
          "name": "stderr",
          "text": [
            "100%|██████████| 500/500 [00:21<00:00, 23.03it/s]"
          ]
        },
        {
          "output_type": "stream",
          "name": "stdout",
          "text": [
            "speechbrain.utils.train_logger - epoch: 49, lr: 1.00e-04 - train final_loss: -1.35e+01 - valid final_loss: -7.44e+00, valid Accuracy soft: 0.1720876842737198, valid Accuracy Partial: 0.375\n"
          ]
        },
        {
          "output_type": "stream",
          "name": "stderr",
          "text": [
            "\n"
          ]
        },
        {
          "output_type": "stream",
          "name": "stdout",
          "text": [
            "speechbrain.utils.checkpoints - Saved an end-of-epoch checkpoint in results/convtasnet/1234/save/CKPT+2025-07-24+23-43-45+00\n",
            "speechbrain.utils.checkpoints - Deleted checkpoint in results/convtasnet/1234/save/CKPT+2025-07-24+23-40-40+00\n",
            "speechbrain.utils.epoch_loop - Going into epoch 50\n",
            "Delta lang loss = 0.2, Delta separate loss = 0.8\n"
          ]
        },
        {
          "output_type": "stream",
          "name": "stderr",
          "text": [
            " 97%|█████████▋| 1210/1250 [02:36<00:04,  8.16it/s, train_loss=-13.5]"
          ]
        },
        {
          "output_type": "stream",
          "name": "stdout",
          "text": [
            "__main__ - infinite loss or empty loss! it happened 1 times so far - skipping this batch\n"
          ]
        },
        {
          "output_type": "stream",
          "name": "stderr",
          "text": [
            "100%|██████████| 1250/1250 [02:41<00:00,  7.74it/s, train_loss=-13.5]\n"
          ]
        },
        {
          "output_type": "stream",
          "name": "stdout",
          "text": [
            "Delta lang loss = 0.2, Delta separate loss = 0.8\n"
          ]
        },
        {
          "output_type": "stream",
          "name": "stderr",
          "text": [
            "100%|██████████| 500/500 [00:21<00:00, 23.65it/s]"
          ]
        },
        {
          "output_type": "stream",
          "name": "stdout",
          "text": [
            "speechbrain.utils.train_logger - epoch: 50, lr: 1.00e-04 - train final_loss: -1.35e+01 - valid final_loss: -8.31e+00, valid Accuracy soft: 0.16537122428417206, valid Accuracy Partial: 0.3630000054836273\n"
          ]
        },
        {
          "output_type": "stream",
          "name": "stderr",
          "text": [
            "\n"
          ]
        },
        {
          "output_type": "stream",
          "name": "stdout",
          "text": [
            "speechbrain.utils.checkpoints - Saved an end-of-epoch checkpoint in results/convtasnet/1234/save/CKPT+2025-07-24+23-46-48+00\n",
            "speechbrain.utils.checkpoints - Deleted checkpoint in results/convtasnet/1234/save/CKPT+2025-07-24+23-43-45+00\n",
            "speechbrain.utils.epoch_loop - Going into epoch 51\n",
            "Delta lang loss = 0.2, Delta separate loss = 0.8\n"
          ]
        },
        {
          "output_type": "stream",
          "name": "stderr",
          "text": [
            " 97%|█████████▋| 1210/1250 [02:37<00:04,  8.56it/s, train_loss=-13.5]"
          ]
        },
        {
          "output_type": "stream",
          "name": "stdout",
          "text": [
            "__main__ - infinite loss or empty loss! it happened 1 times so far - skipping this batch\n"
          ]
        },
        {
          "output_type": "stream",
          "name": "stderr",
          "text": [
            "100%|██████████| 1250/1250 [02:42<00:00,  7.69it/s, train_loss=-13.5]\n"
          ]
        },
        {
          "output_type": "stream",
          "name": "stdout",
          "text": [
            "Delta lang loss = 0.2, Delta separate loss = 0.8\n"
          ]
        },
        {
          "output_type": "stream",
          "name": "stderr",
          "text": [
            "100%|██████████| 500/500 [00:21<00:00, 23.62it/s]"
          ]
        },
        {
          "output_type": "stream",
          "name": "stdout",
          "text": [
            "speechbrain.utils.train_logger - epoch: 51, lr: 1.00e-04 - train final_loss: -1.35e+01 - valid final_loss: 15.81, valid Accuracy soft: 0.14815086126327515, valid Accuracy Partial: 0.3160000145435333\n"
          ]
        },
        {
          "output_type": "stream",
          "name": "stderr",
          "text": [
            "\n"
          ]
        },
        {
          "output_type": "stream",
          "name": "stdout",
          "text": [
            "speechbrain.utils.checkpoints - Saved an end-of-epoch checkpoint in results/convtasnet/1234/save/CKPT+2025-07-24+23-49-52+00\n",
            "speechbrain.utils.checkpoints - Deleted checkpoint in results/convtasnet/1234/save/CKPT+2025-07-24+23-46-48+00\n",
            "speechbrain.utils.epoch_loop - Going into epoch 52\n",
            "Delta lang loss = 0.2, Delta separate loss = 0.8\n"
          ]
        },
        {
          "output_type": "stream",
          "name": "stderr",
          "text": [
            "100%|██████████| 1250/1250 [02:41<00:00,  7.73it/s, train_loss=-13.6]\n"
          ]
        },
        {
          "output_type": "stream",
          "name": "stdout",
          "text": [
            "Delta lang loss = 0.2, Delta separate loss = 0.8\n"
          ]
        },
        {
          "output_type": "stream",
          "name": "stderr",
          "text": [
            "100%|██████████| 500/500 [00:21<00:00, 23.52it/s]"
          ]
        },
        {
          "output_type": "stream",
          "name": "stdout",
          "text": [
            "speechbrain.utils.train_logger - epoch: 52, lr: 1.00e-04 - train final_loss: -1.36e+01 - valid final_loss: -1.88e+00, valid Accuracy soft: 0.1349971443414688, valid Accuracy Partial: 0.28600001335144043\n"
          ]
        },
        {
          "output_type": "stream",
          "name": "stderr",
          "text": [
            "\n"
          ]
        },
        {
          "output_type": "stream",
          "name": "stdout",
          "text": [
            "speechbrain.utils.checkpoints - Saved an end-of-epoch checkpoint in results/convtasnet/1234/save/CKPT+2025-07-24+23-52-56+00\n",
            "speechbrain.utils.checkpoints - Deleted checkpoint in results/convtasnet/1234/save/CKPT+2025-07-24+23-49-52+00\n",
            "speechbrain.utils.epoch_loop - Going into epoch 53\n",
            "Delta lang loss = 0.2, Delta separate loss = 0.8\n"
          ]
        },
        {
          "output_type": "stream",
          "name": "stderr",
          "text": [
            " 97%|█████████▋| 1210/1250 [02:36<00:04,  8.65it/s, train_loss=-13.5]"
          ]
        },
        {
          "output_type": "stream",
          "name": "stdout",
          "text": [
            "__main__ - infinite loss or empty loss! it happened 1 times so far - skipping this batch\n"
          ]
        },
        {
          "output_type": "stream",
          "name": "stderr",
          "text": [
            "100%|██████████| 1250/1250 [02:41<00:00,  7.72it/s, train_loss=-13.5]\n"
          ]
        },
        {
          "output_type": "stream",
          "name": "stdout",
          "text": [
            "Delta lang loss = 0.2, Delta separate loss = 0.8\n"
          ]
        },
        {
          "output_type": "stream",
          "name": "stderr",
          "text": [
            "100%|██████████| 500/500 [00:20<00:00, 23.83it/s]"
          ]
        },
        {
          "output_type": "stream",
          "name": "stdout",
          "text": [
            "speechbrain.utils.train_logger - epoch: 53, lr: 1.00e-04 - train final_loss: -1.35e+01 - valid final_loss: -2.79e+00, valid Accuracy soft: 0.13127943873405457, valid Accuracy Partial: 0.2639999985694885\n"
          ]
        },
        {
          "output_type": "stream",
          "name": "stderr",
          "text": [
            "\n"
          ]
        },
        {
          "output_type": "stream",
          "name": "stdout",
          "text": [
            "speechbrain.utils.checkpoints - Saved an end-of-epoch checkpoint in results/convtasnet/1234/save/CKPT+2025-07-24+23-55-59+00\n",
            "speechbrain.utils.checkpoints - Deleted checkpoint in results/convtasnet/1234/save/CKPT+2025-07-24+23-52-56+00\n",
            "speechbrain.utils.epoch_loop - Going into epoch 54\n",
            "Delta lang loss = 0.2, Delta separate loss = 0.8\n"
          ]
        },
        {
          "output_type": "stream",
          "name": "stderr",
          "text": [
            " 97%|█████████▋| 1210/1250 [02:35<00:04,  8.35it/s, train_loss=-13.6]"
          ]
        },
        {
          "output_type": "stream",
          "name": "stdout",
          "text": [
            "__main__ - infinite loss or empty loss! it happened 1 times so far - skipping this batch\n"
          ]
        },
        {
          "output_type": "stream",
          "name": "stderr",
          "text": [
            "100%|██████████| 1250/1250 [02:41<00:00,  7.76it/s, train_loss=-13.6]\n"
          ]
        },
        {
          "output_type": "stream",
          "name": "stdout",
          "text": [
            "Delta lang loss = 0.2, Delta separate loss = 0.8\n"
          ]
        },
        {
          "output_type": "stream",
          "name": "stderr",
          "text": [
            "100%|██████████| 500/500 [00:21<00:00, 23.26it/s]"
          ]
        },
        {
          "output_type": "stream",
          "name": "stdout",
          "text": [
            "speechbrain.utils.train_logger - epoch: 54, lr: 1.00e-04 - train final_loss: -1.36e+01 - valid final_loss: -4.75e+00, valid Accuracy soft: 0.12011922895908356, valid Accuracy Partial: 0.2460000067949295\n"
          ]
        },
        {
          "output_type": "stream",
          "name": "stderr",
          "text": [
            "\n"
          ]
        },
        {
          "output_type": "stream",
          "name": "stdout",
          "text": [
            "speechbrain.utils.checkpoints - Saved an end-of-epoch checkpoint in results/convtasnet/1234/save/CKPT+2025-07-24+23-59-02+00\n",
            "speechbrain.utils.checkpoints - Deleted checkpoint in results/convtasnet/1234/save/CKPT+2025-07-24+23-55-59+00\n",
            "speechbrain.utils.epoch_loop - Going into epoch 55\n",
            "Delta lang loss = 0.2, Delta separate loss = 0.8\n"
          ]
        },
        {
          "output_type": "stream",
          "name": "stderr",
          "text": [
            "100%|██████████| 1250/1250 [02:42<00:00,  7.69it/s, train_loss=-13.6]\n"
          ]
        },
        {
          "output_type": "stream",
          "name": "stdout",
          "text": [
            "Delta lang loss = 0.2, Delta separate loss = 0.8\n"
          ]
        },
        {
          "output_type": "stream",
          "name": "stderr",
          "text": [
            "100%|██████████| 500/500 [00:21<00:00, 23.57it/s]"
          ]
        },
        {
          "output_type": "stream",
          "name": "stdout",
          "text": [
            "speechbrain.utils.train_logger - epoch: 55, lr: 1.00e-04 - train final_loss: -1.36e+01 - valid final_loss: -8.00e+00, valid Accuracy soft: 0.12585054337978363, valid Accuracy Partial: 0.27300000190734863\n"
          ]
        },
        {
          "output_type": "stream",
          "name": "stderr",
          "text": [
            "\n"
          ]
        },
        {
          "output_type": "stream",
          "name": "stdout",
          "text": [
            "speechbrain.utils.checkpoints - Saved an end-of-epoch checkpoint in results/convtasnet/1234/save/CKPT+2025-07-25+00-02-06+00\n",
            "speechbrain.utils.checkpoints - Deleted checkpoint in results/convtasnet/1234/save/CKPT+2025-07-24+23-59-02+00\n",
            "speechbrain.utils.epoch_loop - Going into epoch 56\n",
            "Delta lang loss = 0.2, Delta separate loss = 0.8\n"
          ]
        },
        {
          "output_type": "stream",
          "name": "stderr",
          "text": [
            " 97%|█████████▋| 1210/1250 [02:36<00:04,  8.40it/s, train_loss=-13.6]"
          ]
        },
        {
          "output_type": "stream",
          "name": "stdout",
          "text": [
            "__main__ - infinite loss or empty loss! it happened 1 times so far - skipping this batch\n"
          ]
        },
        {
          "output_type": "stream",
          "name": "stderr",
          "text": [
            "100%|██████████| 1250/1250 [02:42<00:00,  7.71it/s, train_loss=-13.6]\n"
          ]
        },
        {
          "output_type": "stream",
          "name": "stdout",
          "text": [
            "Delta lang loss = 0.2, Delta separate loss = 0.8\n"
          ]
        },
        {
          "output_type": "stream",
          "name": "stderr",
          "text": [
            "100%|██████████| 500/500 [00:21<00:00, 23.77it/s]"
          ]
        },
        {
          "output_type": "stream",
          "name": "stdout",
          "text": [
            "speechbrain.utils.train_logger - epoch: 56, lr: 1.00e-04 - train final_loss: -1.36e+01 - valid final_loss: -5.75e+00, valid Accuracy soft: 0.11788266152143478, valid Accuracy Partial: 0.24199999868869781\n"
          ]
        },
        {
          "output_type": "stream",
          "name": "stderr",
          "text": [
            "\n"
          ]
        },
        {
          "output_type": "stream",
          "name": "stdout",
          "text": [
            "speechbrain.utils.checkpoints - Saved an end-of-epoch checkpoint in results/convtasnet/1234/save/CKPT+2025-07-25+00-05-10+00\n",
            "speechbrain.utils.checkpoints - Deleted checkpoint in results/convtasnet/1234/save/CKPT+2025-07-25+00-02-06+00\n",
            "speechbrain.utils.epoch_loop - Going into epoch 57\n",
            "Delta lang loss = 0.2, Delta separate loss = 0.8\n"
          ]
        },
        {
          "output_type": "stream",
          "name": "stderr",
          "text": [
            " 97%|█████████▋| 1210/1250 [02:34<00:04,  8.65it/s, train_loss=-13.6]"
          ]
        },
        {
          "output_type": "stream",
          "name": "stdout",
          "text": [
            "__main__ - infinite loss or empty loss! it happened 1 times so far - skipping this batch\n"
          ]
        },
        {
          "output_type": "stream",
          "name": "stderr",
          "text": [
            "100%|██████████| 1250/1250 [02:39<00:00,  7.86it/s, train_loss=-13.6]\n"
          ]
        },
        {
          "output_type": "stream",
          "name": "stdout",
          "text": [
            "Delta lang loss = 0.2, Delta separate loss = 0.8\n"
          ]
        },
        {
          "output_type": "stream",
          "name": "stderr",
          "text": [
            "100%|██████████| 500/500 [00:21<00:00, 23.78it/s]"
          ]
        },
        {
          "output_type": "stream",
          "name": "stdout",
          "text": [
            "speechbrain.utils.train_logger - epoch: 57, lr: 1.00e-04 - train final_loss: -1.36e+01 - valid final_loss: -2.31e+00, valid Accuracy soft: 0.11125555634498596, valid Accuracy Partial: 0.23100000619888306\n"
          ]
        },
        {
          "output_type": "stream",
          "name": "stderr",
          "text": [
            "\n"
          ]
        },
        {
          "output_type": "stream",
          "name": "stdout",
          "text": [
            "speechbrain.utils.checkpoints - Saved an end-of-epoch checkpoint in results/convtasnet/1234/save/CKPT+2025-07-25+00-08-11+00\n",
            "speechbrain.utils.checkpoints - Deleted checkpoint in results/convtasnet/1234/save/CKPT+2025-07-25+00-05-10+00\n",
            "speechbrain.utils.epoch_loop - Going into epoch 58\n",
            "Delta lang loss = 0.2, Delta separate loss = 0.8\n"
          ]
        },
        {
          "output_type": "stream",
          "name": "stderr",
          "text": [
            " 97%|█████████▋| 1210/1250 [02:34<00:04,  8.40it/s, train_loss=-13.7]"
          ]
        },
        {
          "output_type": "stream",
          "name": "stdout",
          "text": [
            "__main__ - infinite loss or empty loss! it happened 1 times so far - skipping this batch\n"
          ]
        },
        {
          "output_type": "stream",
          "name": "stderr",
          "text": [
            "100%|██████████| 1250/1250 [02:39<00:00,  7.82it/s, train_loss=-13.6]\n"
          ]
        },
        {
          "output_type": "stream",
          "name": "stdout",
          "text": [
            "Delta lang loss = 0.2, Delta separate loss = 0.8\n"
          ]
        },
        {
          "output_type": "stream",
          "name": "stderr",
          "text": [
            "100%|██████████| 500/500 [00:21<00:00, 23.66it/s]"
          ]
        },
        {
          "output_type": "stream",
          "name": "stdout",
          "text": [
            "speechbrain.utils.train_logger - epoch: 58, lr: 1.00e-04 - train final_loss: -1.36e+01 - valid final_loss: -7.44e+00, valid Accuracy soft: 0.1168251782655716, valid Accuracy Partial: 0.25200000405311584\n"
          ]
        },
        {
          "output_type": "stream",
          "name": "stderr",
          "text": [
            "\n"
          ]
        },
        {
          "output_type": "stream",
          "name": "stdout",
          "text": [
            "speechbrain.utils.checkpoints - Saved an end-of-epoch checkpoint in results/convtasnet/1234/save/CKPT+2025-07-25+00-11-12+00\n",
            "speechbrain.utils.checkpoints - Deleted checkpoint in results/convtasnet/1234/save/CKPT+2025-07-25+00-08-11+00\n",
            "speechbrain.utils.epoch_loop - Going into epoch 59\n",
            "Delta lang loss = 0.2, Delta separate loss = 0.8\n"
          ]
        },
        {
          "output_type": "stream",
          "name": "stderr",
          "text": [
            " 97%|█████████▋| 1210/1250 [02:34<00:04,  8.71it/s, train_loss=-13.7]"
          ]
        },
        {
          "output_type": "stream",
          "name": "stdout",
          "text": [
            "__main__ - infinite loss or empty loss! it happened 1 times so far - skipping this batch\n"
          ]
        },
        {
          "output_type": "stream",
          "name": "stderr",
          "text": [
            "100%|██████████| 1250/1250 [02:39<00:00,  7.84it/s, train_loss=-13.7]\n"
          ]
        },
        {
          "output_type": "stream",
          "name": "stdout",
          "text": [
            "Delta lang loss = 0.2, Delta separate loss = 0.8\n"
          ]
        },
        {
          "output_type": "stream",
          "name": "stderr",
          "text": [
            "100%|██████████| 500/500 [00:21<00:00, 23.66it/s]"
          ]
        },
        {
          "output_type": "stream",
          "name": "stdout",
          "text": [
            "speechbrain.utils.train_logger - epoch: 59, lr: 1.00e-04 - train final_loss: -1.37e+01 - valid final_loss: 4.35, valid Accuracy soft: 0.11669126152992249, valid Accuracy Partial: 0.24699999392032623\n"
          ]
        },
        {
          "output_type": "stream",
          "name": "stderr",
          "text": [
            "\n"
          ]
        },
        {
          "output_type": "stream",
          "name": "stdout",
          "text": [
            "speechbrain.utils.checkpoints - Saved an end-of-epoch checkpoint in results/convtasnet/1234/save/CKPT+2025-07-25+00-14-13+00\n",
            "speechbrain.utils.checkpoints - Deleted checkpoint in results/convtasnet/1234/save/CKPT+2025-07-25+00-11-12+00\n",
            "speechbrain.utils.epoch_loop - Going into epoch 60\n",
            "Delta lang loss = 0.2, Delta separate loss = 0.8\n"
          ]
        },
        {
          "output_type": "stream",
          "name": "stderr",
          "text": [
            " 97%|█████████▋| 1210/1250 [02:36<00:04,  8.53it/s, train_loss=-13.7]"
          ]
        },
        {
          "output_type": "stream",
          "name": "stdout",
          "text": [
            "__main__ - infinite loss or empty loss! it happened 1 times so far - skipping this batch\n"
          ]
        },
        {
          "output_type": "stream",
          "name": "stderr",
          "text": [
            "100%|██████████| 1250/1250 [02:41<00:00,  7.76it/s, train_loss=-13.7]\n"
          ]
        },
        {
          "output_type": "stream",
          "name": "stdout",
          "text": [
            "__main__ - Removed file /content/drive/MyDrive/Project/results_40\n",
            "__main__ - Saved file succesfully\n",
            "Delta lang loss = 0.2, Delta separate loss = 0.8\n"
          ]
        },
        {
          "output_type": "stream",
          "name": "stderr",
          "text": [
            "100%|██████████| 500/500 [00:21<00:00, 22.84it/s]"
          ]
        },
        {
          "output_type": "stream",
          "name": "stdout",
          "text": [
            "speechbrain.utils.train_logger - epoch: 60, lr: 1.00e-04 - train final_loss: -1.37e+01 - valid final_loss: 24.26, valid Accuracy soft: 0.11842546612024307, valid Accuracy Partial: 0.23899999260902405\n"
          ]
        },
        {
          "output_type": "stream",
          "name": "stderr",
          "text": [
            "\n"
          ]
        },
        {
          "output_type": "stream",
          "name": "stdout",
          "text": [
            "speechbrain.utils.checkpoints - Saved an end-of-epoch checkpoint in results/convtasnet/1234/save/CKPT+2025-07-25+00-17-18+00\n",
            "speechbrain.utils.checkpoints - Deleted checkpoint in results/convtasnet/1234/save/CKPT+2025-07-25+00-14-13+00\n",
            "speechbrain.utils.epoch_loop - Going into epoch 61\n",
            "Delta lang loss = 0.2, Delta separate loss = 0.8\n"
          ]
        },
        {
          "output_type": "stream",
          "name": "stderr",
          "text": [
            " 97%|█████████▋| 1210/1250 [02:36<00:04,  8.51it/s, train_loss=-13.7]"
          ]
        },
        {
          "output_type": "stream",
          "name": "stdout",
          "text": [
            "__main__ - infinite loss or empty loss! it happened 1 times so far - skipping this batch\n"
          ]
        },
        {
          "output_type": "stream",
          "name": "stderr",
          "text": [
            "100%|██████████| 1250/1250 [02:41<00:00,  7.74it/s, train_loss=-13.7]\n"
          ]
        },
        {
          "output_type": "stream",
          "name": "stdout",
          "text": [
            "Delta lang loss = 0.2, Delta separate loss = 0.8\n"
          ]
        },
        {
          "output_type": "stream",
          "name": "stderr",
          "text": [
            "100%|██████████| 500/500 [00:21<00:00, 23.29it/s]"
          ]
        },
        {
          "output_type": "stream",
          "name": "stdout",
          "text": [
            "speechbrain.utils.train_logger - epoch: 61, lr: 1.00e-04 - train final_loss: -1.37e+01 - valid final_loss: -1.81e+00, valid Accuracy soft: 0.1355929970741272, valid Accuracy Partial: 0.29600000381469727\n"
          ]
        },
        {
          "output_type": "stream",
          "name": "stderr",
          "text": [
            "\n"
          ]
        },
        {
          "output_type": "stream",
          "name": "stdout",
          "text": [
            "speechbrain.utils.checkpoints - Saved an end-of-epoch checkpoint in results/convtasnet/1234/save/CKPT+2025-07-25+00-20-22+00\n",
            "speechbrain.utils.checkpoints - Deleted checkpoint in results/convtasnet/1234/save/CKPT+2025-07-25+00-17-18+00\n",
            "speechbrain.utils.epoch_loop - Going into epoch 62\n",
            "Delta lang loss = 0.2, Delta separate loss = 0.8\n"
          ]
        },
        {
          "output_type": "stream",
          "name": "stderr",
          "text": [
            " 97%|█████████▋| 1210/1250 [02:37<00:04,  8.42it/s, train_loss=-13.7]"
          ]
        },
        {
          "output_type": "stream",
          "name": "stdout",
          "text": [
            "__main__ - infinite loss or empty loss! it happened 1 times so far - skipping this batch\n"
          ]
        },
        {
          "output_type": "stream",
          "name": "stderr",
          "text": [
            "100%|██████████| 1250/1250 [02:43<00:00,  7.66it/s, train_loss=-13.7]\n"
          ]
        },
        {
          "output_type": "stream",
          "name": "stdout",
          "text": [
            "Delta lang loss = 0.2, Delta separate loss = 0.8\n"
          ]
        },
        {
          "output_type": "stream",
          "name": "stderr",
          "text": [
            "100%|██████████| 500/500 [00:21<00:00, 23.25it/s]"
          ]
        },
        {
          "output_type": "stream",
          "name": "stdout",
          "text": [
            "speechbrain.utils.train_logger - epoch: 62, lr: 1.00e-04 - train final_loss: -1.37e+01 - valid final_loss: 12.84, valid Accuracy soft: 0.12877383828163147, valid Accuracy Partial: 0.28700000047683716\n"
          ]
        },
        {
          "output_type": "stream",
          "name": "stderr",
          "text": [
            "\n"
          ]
        },
        {
          "output_type": "stream",
          "name": "stdout",
          "text": [
            "speechbrain.utils.checkpoints - Saved an end-of-epoch checkpoint in results/convtasnet/1234/save/CKPT+2025-07-25+00-23-27+00\n",
            "speechbrain.utils.checkpoints - Deleted checkpoint in results/convtasnet/1234/save/CKPT+2025-07-25+00-20-22+00\n",
            "speechbrain.utils.epoch_loop - Going into epoch 63\n",
            "Delta lang loss = 0.2, Delta separate loss = 0.8\n"
          ]
        },
        {
          "output_type": "stream",
          "name": "stderr",
          "text": [
            " 97%|█████████▋| 1210/1250 [02:36<00:04,  8.40it/s, train_loss=-13.7]"
          ]
        },
        {
          "output_type": "stream",
          "name": "stdout",
          "text": [
            "__main__ - infinite loss or empty loss! it happened 1 times so far - skipping this batch\n"
          ]
        },
        {
          "output_type": "stream",
          "name": "stderr",
          "text": [
            "100%|██████████| 1250/1250 [02:41<00:00,  7.73it/s, train_loss=-13.7]\n"
          ]
        },
        {
          "output_type": "stream",
          "name": "stdout",
          "text": [
            "Delta lang loss = 0.2, Delta separate loss = 0.8\n"
          ]
        },
        {
          "output_type": "stream",
          "name": "stderr",
          "text": [
            "100%|██████████| 500/500 [00:21<00:00, 23.38it/s]"
          ]
        },
        {
          "output_type": "stream",
          "name": "stdout",
          "text": [
            "speechbrain.utils.train_logger - epoch: 63, lr: 1.00e-04 - train final_loss: -1.37e+01 - valid final_loss: -8.41e+00, valid Accuracy soft: 0.1373780220746994, valid Accuracy Partial: 0.3009999990463257\n"
          ]
        },
        {
          "output_type": "stream",
          "name": "stderr",
          "text": [
            "\n"
          ]
        },
        {
          "output_type": "stream",
          "name": "stdout",
          "text": [
            "speechbrain.utils.checkpoints - Saved an end-of-epoch checkpoint in results/convtasnet/1234/save/CKPT+2025-07-25+00-26-31+00\n",
            "speechbrain.utils.checkpoints - Deleted checkpoint in results/convtasnet/1234/save/CKPT+2025-07-25+00-23-27+00\n",
            "speechbrain.utils.epoch_loop - Going into epoch 64\n",
            "Delta lang loss = 0.2, Delta separate loss = 0.8\n"
          ]
        },
        {
          "output_type": "stream",
          "name": "stderr",
          "text": [
            " 97%|█████████▋| 1210/1250 [02:36<00:04,  8.33it/s, train_loss=-13.7]"
          ]
        },
        {
          "output_type": "stream",
          "name": "stdout",
          "text": [
            "__main__ - infinite loss or empty loss! it happened 1 times so far - skipping this batch\n"
          ]
        },
        {
          "output_type": "stream",
          "name": "stderr",
          "text": [
            "100%|██████████| 1250/1250 [02:41<00:00,  7.72it/s, train_loss=-13.7]\n"
          ]
        },
        {
          "output_type": "stream",
          "name": "stdout",
          "text": [
            "Delta lang loss = 0.2, Delta separate loss = 0.8\n"
          ]
        },
        {
          "output_type": "stream",
          "name": "stderr",
          "text": [
            "100%|██████████| 500/500 [00:21<00:00, 23.57it/s]"
          ]
        },
        {
          "output_type": "stream",
          "name": "stdout",
          "text": [
            "speechbrain.utils.train_logger - epoch: 64, lr: 1.00e-04 - train final_loss: -1.37e+01 - valid final_loss: -8.74e+00, valid Accuracy soft: 0.12996850907802582, valid Accuracy Partial: 0.28200000524520874\n"
          ]
        },
        {
          "output_type": "stream",
          "name": "stderr",
          "text": [
            "\n"
          ]
        },
        {
          "output_type": "stream",
          "name": "stdout",
          "text": [
            "speechbrain.utils.checkpoints - Saved an end-of-epoch checkpoint in results/convtasnet/1234/save/CKPT+2025-07-25+00-29-34+00\n",
            "speechbrain.utils.checkpoints - Deleted checkpoint in results/convtasnet/1234/save/CKPT+2025-07-25+00-26-31+00\n",
            "speechbrain.utils.epoch_loop - Going into epoch 65\n",
            "Delta lang loss = 0.2, Delta separate loss = 0.8\n"
          ]
        },
        {
          "output_type": "stream",
          "name": "stderr",
          "text": [
            " 97%|█████████▋| 1210/1250 [02:36<00:04,  8.42it/s, train_loss=-13.7]"
          ]
        },
        {
          "output_type": "stream",
          "name": "stdout",
          "text": [
            "__main__ - infinite loss or empty loss! it happened 1 times so far - skipping this batch\n"
          ]
        },
        {
          "output_type": "stream",
          "name": "stderr",
          "text": [
            "100%|██████████| 1250/1250 [02:41<00:00,  7.75it/s, train_loss=-13.7]\n"
          ]
        },
        {
          "output_type": "stream",
          "name": "stdout",
          "text": [
            "Delta lang loss = 0.2, Delta separate loss = 0.8\n"
          ]
        },
        {
          "output_type": "stream",
          "name": "stderr",
          "text": [
            "100%|██████████| 500/500 [00:21<00:00, 23.58it/s]"
          ]
        },
        {
          "output_type": "stream",
          "name": "stdout",
          "text": [
            "speechbrain.utils.train_logger - epoch: 65, lr: 1.00e-04 - train final_loss: -1.37e+01 - valid final_loss: -7.47e+00, valid Accuracy soft: 0.12139350920915604, valid Accuracy Partial: 0.2750000059604645\n"
          ]
        },
        {
          "output_type": "stream",
          "name": "stderr",
          "text": [
            "\n"
          ]
        },
        {
          "output_type": "stream",
          "name": "stdout",
          "text": [
            "speechbrain.utils.checkpoints - Saved an end-of-epoch checkpoint in results/convtasnet/1234/save/CKPT+2025-07-25+00-32-37+00\n",
            "speechbrain.utils.checkpoints - Deleted checkpoint in results/convtasnet/1234/save/CKPT+2025-07-25+00-29-34+00\n",
            "speechbrain.utils.epoch_loop - Going into epoch 66\n",
            "Delta lang loss = 0.2, Delta separate loss = 0.8\n"
          ]
        },
        {
          "output_type": "stream",
          "name": "stderr",
          "text": [
            " 97%|█████████▋| 1210/1250 [02:37<00:04,  8.30it/s, train_loss=-13.8]"
          ]
        },
        {
          "output_type": "stream",
          "name": "stdout",
          "text": [
            "__main__ - infinite loss or empty loss! it happened 1 times so far - skipping this batch\n"
          ]
        },
        {
          "output_type": "stream",
          "name": "stderr",
          "text": [
            "100%|██████████| 1250/1250 [02:43<00:00,  7.66it/s, train_loss=-13.7]\n"
          ]
        },
        {
          "output_type": "stream",
          "name": "stdout",
          "text": [
            "Delta lang loss = 0.2, Delta separate loss = 0.8\n"
          ]
        },
        {
          "output_type": "stream",
          "name": "stderr",
          "text": [
            "100%|██████████| 500/500 [00:21<00:00, 23.46it/s]"
          ]
        },
        {
          "output_type": "stream",
          "name": "stdout",
          "text": [
            "speechbrain.utils.train_logger - epoch: 66, lr: 1.00e-04 - train final_loss: -1.37e+01 - valid final_loss: -8.38e+00, valid Accuracy soft: 0.12119186669588089, valid Accuracy Partial: 0.26899999380111694\n"
          ]
        },
        {
          "output_type": "stream",
          "name": "stderr",
          "text": [
            "\n"
          ]
        },
        {
          "output_type": "stream",
          "name": "stdout",
          "text": [
            "speechbrain.utils.checkpoints - Saved an end-of-epoch checkpoint in results/convtasnet/1234/save/CKPT+2025-07-25+00-35-42+00\n",
            "speechbrain.utils.checkpoints - Deleted checkpoint in results/convtasnet/1234/save/CKPT+2025-07-25+00-32-37+00\n",
            "speechbrain.utils.epoch_loop - Going into epoch 67\n",
            "Delta lang loss = 0.2, Delta separate loss = 0.8\n"
          ]
        },
        {
          "output_type": "stream",
          "name": "stderr",
          "text": [
            " 97%|█████████▋| 1210/1250 [02:36<00:04,  8.26it/s, train_loss=-13.8]"
          ]
        },
        {
          "output_type": "stream",
          "name": "stdout",
          "text": [
            "__main__ - infinite loss or empty loss! it happened 1 times so far - skipping this batch\n"
          ]
        },
        {
          "output_type": "stream",
          "name": "stderr",
          "text": [
            "100%|██████████| 1250/1250 [02:42<00:00,  7.71it/s, train_loss=-13.8]\n"
          ]
        },
        {
          "output_type": "stream",
          "name": "stdout",
          "text": [
            "Delta lang loss = 0.2, Delta separate loss = 0.8\n"
          ]
        },
        {
          "output_type": "stream",
          "name": "stderr",
          "text": [
            "100%|██████████| 500/500 [00:21<00:00, 23.53it/s]"
          ]
        },
        {
          "output_type": "stream",
          "name": "stdout",
          "text": [
            "speechbrain.utils.train_logger - epoch: 67, lr: 1.00e-04 - train final_loss: -1.38e+01 - valid final_loss: -7.62e+00, valid Accuracy soft: 0.11526425927877426, valid Accuracy Partial: 0.24400000274181366\n"
          ]
        },
        {
          "output_type": "stream",
          "name": "stderr",
          "text": [
            "\n"
          ]
        },
        {
          "output_type": "stream",
          "name": "stdout",
          "text": [
            "speechbrain.utils.checkpoints - Saved an end-of-epoch checkpoint in results/convtasnet/1234/save/CKPT+2025-07-25+00-38-46+00\n",
            "speechbrain.utils.checkpoints - Deleted checkpoint in results/convtasnet/1234/save/CKPT+2025-07-25+00-35-42+00\n",
            "speechbrain.utils.epoch_loop - Going into epoch 68\n",
            "Delta lang loss = 0.2, Delta separate loss = 0.8\n"
          ]
        },
        {
          "output_type": "stream",
          "name": "stderr",
          "text": [
            " 97%|█████████▋| 1210/1250 [02:36<00:04,  8.43it/s, train_loss=-13.8]"
          ]
        },
        {
          "output_type": "stream",
          "name": "stdout",
          "text": [
            "__main__ - infinite loss or empty loss! it happened 1 times so far - skipping this batch\n"
          ]
        },
        {
          "output_type": "stream",
          "name": "stderr",
          "text": [
            "100%|██████████| 1250/1250 [02:41<00:00,  7.76it/s, train_loss=-13.8]\n"
          ]
        },
        {
          "output_type": "stream",
          "name": "stdout",
          "text": [
            "Delta lang loss = 0.2, Delta separate loss = 0.8\n"
          ]
        },
        {
          "output_type": "stream",
          "name": "stderr",
          "text": [
            "100%|██████████| 500/500 [00:21<00:00, 23.62it/s]"
          ]
        },
        {
          "output_type": "stream",
          "name": "stdout",
          "text": [
            "speechbrain.utils.train_logger - epoch: 68, lr: 1.00e-04 - train final_loss: -1.38e+01 - valid final_loss: -7.88e+00, valid Accuracy soft: 0.11452354490756989, valid Accuracy Partial: 0.25699999928474426\n"
          ]
        },
        {
          "output_type": "stream",
          "name": "stderr",
          "text": [
            "\n"
          ]
        },
        {
          "output_type": "stream",
          "name": "stdout",
          "text": [
            "speechbrain.utils.checkpoints - Saved an end-of-epoch checkpoint in results/convtasnet/1234/save/CKPT+2025-07-25+00-41-49+00\n",
            "speechbrain.utils.checkpoints - Deleted checkpoint in results/convtasnet/1234/save/CKPT+2025-07-25+00-38-46+00\n",
            "speechbrain.utils.epoch_loop - Going into epoch 69\n",
            "Delta lang loss = 0.2, Delta separate loss = 0.8\n"
          ]
        },
        {
          "output_type": "stream",
          "name": "stderr",
          "text": [
            " 97%|█████████▋| 1210/1250 [02:34<00:04,  8.41it/s, train_loss=-13.8]"
          ]
        },
        {
          "output_type": "stream",
          "name": "stdout",
          "text": [
            "__main__ - infinite loss or empty loss! it happened 1 times so far - skipping this batch\n"
          ]
        },
        {
          "output_type": "stream",
          "name": "stderr",
          "text": [
            "100%|██████████| 1250/1250 [02:40<00:00,  7.81it/s, train_loss=-13.8]\n"
          ]
        },
        {
          "output_type": "stream",
          "name": "stdout",
          "text": [
            "Delta lang loss = 0.2, Delta separate loss = 0.8\n"
          ]
        },
        {
          "output_type": "stream",
          "name": "stderr",
          "text": [
            "100%|██████████| 500/500 [00:21<00:00, 23.64it/s]"
          ]
        },
        {
          "output_type": "stream",
          "name": "stdout",
          "text": [
            "speechbrain.utils.train_logger - epoch: 69, lr: 1.00e-04 - train final_loss: -1.38e+01 - valid final_loss: -6.48e+00, valid Accuracy soft: 0.10701943933963776, valid Accuracy Partial: 0.2280000001192093\n"
          ]
        },
        {
          "output_type": "stream",
          "name": "stderr",
          "text": [
            "\n"
          ]
        },
        {
          "output_type": "stream",
          "name": "stdout",
          "text": [
            "speechbrain.utils.checkpoints - Saved an end-of-epoch checkpoint in results/convtasnet/1234/save/CKPT+2025-07-25+00-44-51+00\n",
            "speechbrain.utils.checkpoints - Deleted checkpoint in results/convtasnet/1234/save/CKPT+2025-07-25+00-41-49+00\n",
            "speechbrain.utils.epoch_loop - Going into epoch 70\n",
            "Delta lang loss = 0.2, Delta separate loss = 0.8\n"
          ]
        },
        {
          "output_type": "stream",
          "name": "stderr",
          "text": [
            " 97%|█████████▋| 1210/1250 [02:35<00:04,  8.43it/s, train_loss=-13.8]"
          ]
        },
        {
          "output_type": "stream",
          "name": "stdout",
          "text": [
            "__main__ - infinite loss or empty loss! it happened 1 times so far - skipping this batch\n"
          ]
        },
        {
          "output_type": "stream",
          "name": "stderr",
          "text": [
            "100%|██████████| 1250/1250 [02:40<00:00,  7.78it/s, train_loss=-13.8]\n"
          ]
        },
        {
          "output_type": "stream",
          "name": "stdout",
          "text": [
            "Delta lang loss = 0.2, Delta separate loss = 0.8\n"
          ]
        },
        {
          "output_type": "stream",
          "name": "stderr",
          "text": [
            "100%|██████████| 500/500 [00:21<00:00, 23.33it/s]"
          ]
        },
        {
          "output_type": "stream",
          "name": "stdout",
          "text": [
            "speechbrain.utils.train_logger - epoch: 70, lr: 1.00e-04 - train final_loss: -1.38e+01 - valid final_loss: -7.80e+00, valid Accuracy soft: 0.1125832125544548, valid Accuracy Partial: 0.23000000417232513\n"
          ]
        },
        {
          "output_type": "stream",
          "name": "stderr",
          "text": [
            "\n"
          ]
        },
        {
          "output_type": "stream",
          "name": "stdout",
          "text": [
            "speechbrain.utils.checkpoints - Saved an end-of-epoch checkpoint in results/convtasnet/1234/save/CKPT+2025-07-25+00-47-54+00\n",
            "speechbrain.utils.checkpoints - Deleted checkpoint in results/convtasnet/1234/save/CKPT+2025-07-25+00-44-51+00\n",
            "speechbrain.utils.epoch_loop - Going into epoch 71\n",
            "Delta lang loss = 0.2, Delta separate loss = 0.8\n"
          ]
        },
        {
          "output_type": "stream",
          "name": "stderr",
          "text": [
            " 97%|█████████▋| 1210/1250 [02:35<00:04,  8.38it/s, train_loss=-13.8]"
          ]
        },
        {
          "output_type": "stream",
          "name": "stdout",
          "text": [
            "__main__ - infinite loss or empty loss! it happened 1 times so far - skipping this batch\n"
          ]
        },
        {
          "output_type": "stream",
          "name": "stderr",
          "text": [
            "100%|██████████| 1250/1250 [02:40<00:00,  7.78it/s, train_loss=-13.8]\n"
          ]
        },
        {
          "output_type": "stream",
          "name": "stdout",
          "text": [
            "Delta lang loss = 0.2, Delta separate loss = 0.8\n"
          ]
        },
        {
          "output_type": "stream",
          "name": "stderr",
          "text": [
            "100%|██████████| 500/500 [00:21<00:00, 23.49it/s]"
          ]
        },
        {
          "output_type": "stream",
          "name": "stdout",
          "text": [
            "speechbrain.utils.train_logger - epoch: 71, lr: 1.00e-04 - train final_loss: -1.38e+01 - valid final_loss: -8.33e+00, valid Accuracy soft: 0.10446842759847641, valid Accuracy Partial: 0.22100000083446503\n"
          ]
        },
        {
          "output_type": "stream",
          "name": "stderr",
          "text": [
            "\n"
          ]
        },
        {
          "output_type": "stream",
          "name": "stdout",
          "text": [
            "speechbrain.utils.checkpoints - Saved an end-of-epoch checkpoint in results/convtasnet/1234/save/CKPT+2025-07-25+00-50-56+00\n",
            "speechbrain.utils.checkpoints - Deleted checkpoint in results/convtasnet/1234/save/CKPT+2025-07-25+00-47-54+00\n",
            "speechbrain.utils.epoch_loop - Going into epoch 72\n",
            "Delta lang loss = 0.2, Delta separate loss = 0.8\n"
          ]
        },
        {
          "output_type": "stream",
          "name": "stderr",
          "text": [
            " 97%|█████████▋| 1210/1250 [02:36<00:04,  8.36it/s, train_loss=-13.8]"
          ]
        },
        {
          "output_type": "stream",
          "name": "stdout",
          "text": [
            "__main__ - infinite loss or empty loss! it happened 1 times so far - skipping this batch\n"
          ]
        },
        {
          "output_type": "stream",
          "name": "stderr",
          "text": [
            "100%|██████████| 1250/1250 [02:41<00:00,  7.73it/s, train_loss=-13.8]\n"
          ]
        },
        {
          "output_type": "stream",
          "name": "stdout",
          "text": [
            "Delta lang loss = 0.2, Delta separate loss = 0.8\n"
          ]
        },
        {
          "output_type": "stream",
          "name": "stderr",
          "text": [
            "100%|██████████| 500/500 [00:21<00:00, 23.41it/s]"
          ]
        },
        {
          "output_type": "stream",
          "name": "stdout",
          "text": [
            "speechbrain.utils.train_logger - epoch: 72, lr: 1.00e-04 - train final_loss: -1.38e+01 - valid final_loss: -8.20e+00, valid Accuracy soft: 0.11124411225318909, valid Accuracy Partial: 0.23600000143051147\n"
          ]
        },
        {
          "output_type": "stream",
          "name": "stderr",
          "text": [
            "\n"
          ]
        },
        {
          "output_type": "stream",
          "name": "stdout",
          "text": [
            "speechbrain.utils.checkpoints - Saved an end-of-epoch checkpoint in results/convtasnet/1234/save/CKPT+2025-07-25+00-54-00+00\n",
            "speechbrain.utils.checkpoints - Deleted checkpoint in results/convtasnet/1234/save/CKPT+2025-07-25+00-50-56+00\n",
            "speechbrain.utils.epoch_loop - Going into epoch 73\n",
            "Delta lang loss = 0.2, Delta separate loss = 0.8\n"
          ]
        },
        {
          "output_type": "stream",
          "name": "stderr",
          "text": [
            " 97%|█████████▋| 1210/1250 [02:36<00:04,  8.48it/s, train_loss=-13.8]"
          ]
        },
        {
          "output_type": "stream",
          "name": "stdout",
          "text": [
            "__main__ - infinite loss or empty loss! it happened 1 times so far - skipping this batch\n"
          ]
        },
        {
          "output_type": "stream",
          "name": "stderr",
          "text": [
            "100%|██████████| 1250/1250 [02:41<00:00,  7.73it/s, train_loss=-13.8]\n"
          ]
        },
        {
          "output_type": "stream",
          "name": "stdout",
          "text": [
            "Delta lang loss = 0.2, Delta separate loss = 0.8\n"
          ]
        },
        {
          "output_type": "stream",
          "name": "stderr",
          "text": [
            "100%|██████████| 500/500 [00:21<00:00, 23.63it/s]"
          ]
        },
        {
          "output_type": "stream",
          "name": "stdout",
          "text": [
            "speechbrain.utils.train_logger - epoch: 73, lr: 1.00e-04 - train final_loss: -1.38e+01 - valid final_loss: -6.58e+00, valid Accuracy soft: 0.09787268191576004, valid Accuracy Partial: 0.20399999618530273\n"
          ]
        },
        {
          "output_type": "stream",
          "name": "stderr",
          "text": [
            "\n"
          ]
        },
        {
          "output_type": "stream",
          "name": "stdout",
          "text": [
            "speechbrain.utils.checkpoints - Saved an end-of-epoch checkpoint in results/convtasnet/1234/save/CKPT+2025-07-25+00-57-04+00\n",
            "speechbrain.utils.checkpoints - Deleted checkpoint in results/convtasnet/1234/save/CKPT+2025-07-25+00-54-00+00\n",
            "speechbrain.utils.epoch_loop - Going into epoch 74\n",
            "Delta lang loss = 0.2, Delta separate loss = 0.8\n"
          ]
        },
        {
          "output_type": "stream",
          "name": "stderr",
          "text": [
            " 97%|█████████▋| 1210/1250 [02:34<00:05,  8.00it/s, train_loss=-13.9]"
          ]
        },
        {
          "output_type": "stream",
          "name": "stdout",
          "text": [
            "__main__ - infinite loss or empty loss! it happened 1 times so far - skipping this batch\n"
          ]
        },
        {
          "output_type": "stream",
          "name": "stderr",
          "text": [
            "100%|██████████| 1250/1250 [02:40<00:00,  7.81it/s, train_loss=-13.9]\n"
          ]
        },
        {
          "output_type": "stream",
          "name": "stdout",
          "text": [
            "Delta lang loss = 0.2, Delta separate loss = 0.8\n"
          ]
        },
        {
          "output_type": "stream",
          "name": "stderr",
          "text": [
            "100%|██████████| 500/500 [00:21<00:00, 23.49it/s]"
          ]
        },
        {
          "output_type": "stream",
          "name": "stdout",
          "text": [
            "speechbrain.utils.train_logger - epoch: 74, lr: 1.00e-04 - train final_loss: -1.39e+01 - valid final_loss: -4.52e+00, valid Accuracy soft: 0.09966550767421722, valid Accuracy Partial: 0.2070000022649765\n"
          ]
        },
        {
          "output_type": "stream",
          "name": "stderr",
          "text": [
            "\n"
          ]
        },
        {
          "output_type": "stream",
          "name": "stdout",
          "text": [
            "speechbrain.utils.checkpoints - Saved an end-of-epoch checkpoint in results/convtasnet/1234/save/CKPT+2025-07-25+01-00-06+00\n",
            "speechbrain.utils.checkpoints - Deleted checkpoint in results/convtasnet/1234/save/CKPT+2025-07-25+00-57-04+00\n",
            "speechbrain.utils.epoch_loop - Going into epoch 75\n",
            "Delta lang loss = 0.2, Delta separate loss = 0.8\n"
          ]
        },
        {
          "output_type": "stream",
          "name": "stderr",
          "text": [
            " 97%|█████████▋| 1210/1250 [02:35<00:04,  8.28it/s, train_loss=-13.9]"
          ]
        },
        {
          "output_type": "stream",
          "name": "stdout",
          "text": [
            "__main__ - infinite loss or empty loss! it happened 1 times so far - skipping this batch\n"
          ]
        },
        {
          "output_type": "stream",
          "name": "stderr",
          "text": [
            "100%|██████████| 1250/1250 [02:40<00:00,  7.80it/s, train_loss=-13.9]\n"
          ]
        },
        {
          "output_type": "stream",
          "name": "stdout",
          "text": [
            "Delta lang loss = 0.2, Delta separate loss = 0.8\n"
          ]
        },
        {
          "output_type": "stream",
          "name": "stderr",
          "text": [
            "100%|██████████| 500/500 [00:20<00:00, 23.82it/s]"
          ]
        },
        {
          "output_type": "stream",
          "name": "stdout",
          "text": [
            "speechbrain.utils.train_logger - epoch: 75, lr: 1.00e-04 - train final_loss: -1.39e+01 - valid final_loss: 86.41, valid Accuracy soft: 0.09462377429008484, valid Accuracy Partial: 0.2029999941587448\n"
          ]
        },
        {
          "output_type": "stream",
          "name": "stderr",
          "text": [
            "\n"
          ]
        },
        {
          "output_type": "stream",
          "name": "stdout",
          "text": [
            "speechbrain.utils.checkpoints - Saved an end-of-epoch checkpoint in results/convtasnet/1234/save/CKPT+2025-07-25+01-03-08+00\n",
            "speechbrain.utils.checkpoints - Deleted checkpoint in results/convtasnet/1234/save/CKPT+2025-07-25+01-00-06+00\n",
            "speechbrain.utils.epoch_loop - Going into epoch 76\n",
            "Delta lang loss = 0.2, Delta separate loss = 0.8\n"
          ]
        },
        {
          "output_type": "stream",
          "name": "stderr",
          "text": [
            " 97%|█████████▋| 1210/1250 [02:34<00:04,  8.66it/s, train_loss=-13.9]"
          ]
        },
        {
          "output_type": "stream",
          "name": "stdout",
          "text": [
            "__main__ - infinite loss or empty loss! it happened 1 times so far - skipping this batch\n"
          ]
        },
        {
          "output_type": "stream",
          "name": "stderr",
          "text": [
            "100%|██████████| 1250/1250 [02:39<00:00,  7.83it/s, train_loss=-13.9]\n"
          ]
        },
        {
          "output_type": "stream",
          "name": "stdout",
          "text": [
            "Delta lang loss = 0.2, Delta separate loss = 0.8\n"
          ]
        },
        {
          "output_type": "stream",
          "name": "stderr",
          "text": [
            "100%|██████████| 500/500 [00:20<00:00, 23.81it/s]"
          ]
        },
        {
          "output_type": "stream",
          "name": "stdout",
          "text": [
            "speechbrain.utils.train_logger - epoch: 76, lr: 1.00e-04 - train final_loss: -1.39e+01 - valid final_loss: -3.84e-01, valid Accuracy soft: 0.09723840653896332, valid Accuracy Partial: 0.19900000095367432\n"
          ]
        },
        {
          "output_type": "stream",
          "name": "stderr",
          "text": [
            "\n"
          ]
        },
        {
          "output_type": "stream",
          "name": "stdout",
          "text": [
            "speechbrain.utils.checkpoints - Saved an end-of-epoch checkpoint in results/convtasnet/1234/save/CKPT+2025-07-25+01-06-09+00\n",
            "speechbrain.utils.checkpoints - Deleted checkpoint in results/convtasnet/1234/save/CKPT+2025-07-25+01-03-08+00\n",
            "speechbrain.utils.epoch_loop - Going into epoch 77\n",
            "Delta lang loss = 0.2, Delta separate loss = 0.8\n"
          ]
        },
        {
          "output_type": "stream",
          "name": "stderr",
          "text": [
            " 97%|█████████▋| 1210/1250 [02:35<00:04,  8.60it/s, train_loss=-13.9]"
          ]
        },
        {
          "output_type": "stream",
          "name": "stdout",
          "text": [
            "__main__ - infinite loss or empty loss! it happened 1 times so far - skipping this batch\n"
          ]
        },
        {
          "output_type": "stream",
          "name": "stderr",
          "text": [
            "100%|██████████| 1250/1250 [02:41<00:00,  7.76it/s, train_loss=-13.9]\n"
          ]
        },
        {
          "output_type": "stream",
          "name": "stdout",
          "text": [
            "Delta lang loss = 0.2, Delta separate loss = 0.8\n"
          ]
        },
        {
          "output_type": "stream",
          "name": "stderr",
          "text": [
            "100%|██████████| 500/500 [00:21<00:00, 23.73it/s]"
          ]
        },
        {
          "output_type": "stream",
          "name": "stdout",
          "text": [
            "speechbrain.utils.train_logger - epoch: 77, lr: 1.00e-04 - train final_loss: -1.39e+01 - valid final_loss: 9.34e+02, valid Accuracy soft: 0.09629347175359726, valid Accuracy Partial: 0.20999999344348907\n"
          ]
        },
        {
          "output_type": "stream",
          "name": "stderr",
          "text": [
            "\n"
          ]
        },
        {
          "output_type": "stream",
          "name": "stdout",
          "text": [
            "speechbrain.utils.checkpoints - Saved an end-of-epoch checkpoint in results/convtasnet/1234/save/CKPT+2025-07-25+01-09-12+00\n",
            "speechbrain.utils.checkpoints - Deleted checkpoint in results/convtasnet/1234/save/CKPT+2025-07-25+01-06-09+00\n",
            "speechbrain.utils.epoch_loop - Going into epoch 78\n",
            "Delta lang loss = 0.2, Delta separate loss = 0.8\n"
          ]
        },
        {
          "output_type": "stream",
          "name": "stderr",
          "text": [
            " 97%|█████████▋| 1210/1250 [02:34<00:04,  8.64it/s, train_loss=-14]"
          ]
        },
        {
          "output_type": "stream",
          "name": "stdout",
          "text": [
            "__main__ - infinite loss or empty loss! it happened 1 times so far - skipping this batch\n"
          ]
        },
        {
          "output_type": "stream",
          "name": "stderr",
          "text": [
            "100%|██████████| 1250/1250 [02:39<00:00,  7.83it/s, train_loss=-13.9]\n"
          ]
        },
        {
          "output_type": "stream",
          "name": "stdout",
          "text": [
            "Delta lang loss = 0.2, Delta separate loss = 0.8\n"
          ]
        },
        {
          "output_type": "stream",
          "name": "stderr",
          "text": [
            "100%|██████████| 500/500 [00:21<00:00, 23.67it/s]"
          ]
        },
        {
          "output_type": "stream",
          "name": "stdout",
          "text": [
            "speechbrain.utils.train_logger - epoch: 78, lr: 1.00e-04 - train final_loss: -1.39e+01 - valid final_loss: 1.14, valid Accuracy soft: 0.0875551775097847, valid Accuracy Partial: 0.15399999916553497\n"
          ]
        },
        {
          "output_type": "stream",
          "name": "stderr",
          "text": [
            "\n"
          ]
        },
        {
          "output_type": "stream",
          "name": "stdout",
          "text": [
            "speechbrain.utils.checkpoints - Saved an end-of-epoch checkpoint in results/convtasnet/1234/save/CKPT+2025-07-25+01-12-13+00\n",
            "speechbrain.utils.checkpoints - Deleted checkpoint in results/convtasnet/1234/save/CKPT+2025-07-25+01-09-12+00\n",
            "speechbrain.utils.epoch_loop - Going into epoch 79\n",
            "Delta lang loss = 0.2, Delta separate loss = 0.8\n"
          ]
        },
        {
          "output_type": "stream",
          "name": "stderr",
          "text": [
            " 97%|█████████▋| 1210/1250 [02:36<00:04,  8.54it/s, train_loss=-14]"
          ]
        },
        {
          "output_type": "stream",
          "name": "stdout",
          "text": [
            "__main__ - infinite loss or empty loss! it happened 1 times so far - skipping this batch\n"
          ]
        },
        {
          "output_type": "stream",
          "name": "stderr",
          "text": [
            "100%|██████████| 1250/1250 [02:41<00:00,  7.72it/s, train_loss=-14]\n"
          ]
        },
        {
          "output_type": "stream",
          "name": "stdout",
          "text": [
            "Delta lang loss = 0.2, Delta separate loss = 0.8\n"
          ]
        },
        {
          "output_type": "stream",
          "name": "stderr",
          "text": [
            "100%|██████████| 500/500 [00:21<00:00, 23.61it/s]\n"
          ]
        },
        {
          "output_type": "stream",
          "name": "stdout",
          "text": [
            "speechbrain.utils.train_logger - epoch: 79, lr: 1.00e-04 - train final_loss: -1.40e+01 - valid final_loss: -8.29e+00, valid Accuracy soft: 0.08908529579639435, valid Accuracy Partial: 0.15800000727176666\n",
            "speechbrain.utils.checkpoints - Saved an end-of-epoch checkpoint in results/convtasnet/1234/save/CKPT+2025-07-25+01-15-17+00\n",
            "speechbrain.utils.checkpoints - Deleted checkpoint in results/convtasnet/1234/save/CKPT+2025-07-25+01-12-13+00\n",
            "speechbrain.utils.epoch_loop - Going into epoch 80\n",
            "Delta lang loss = 0.2, Delta separate loss = 0.8\n"
          ]
        },
        {
          "output_type": "stream",
          "name": "stderr",
          "text": [
            " 97%|█████████▋| 1210/1250 [02:35<00:04,  8.76it/s, train_loss=-14]"
          ]
        },
        {
          "output_type": "stream",
          "name": "stdout",
          "text": [
            "__main__ - infinite loss or empty loss! it happened 1 times so far - skipping this batch\n"
          ]
        },
        {
          "output_type": "stream",
          "name": "stderr",
          "text": [
            "100%|██████████| 1250/1250 [02:40<00:00,  7.80it/s, train_loss=-14]\n"
          ]
        },
        {
          "output_type": "stream",
          "name": "stdout",
          "text": [
            "__main__ - Removed file /content/drive/MyDrive/Project/results_60\n",
            "__main__ - Saved file succesfully\n",
            "Delta lang loss = 0.2, Delta separate loss = 0.8\n"
          ]
        },
        {
          "output_type": "stream",
          "name": "stderr",
          "text": [
            "100%|██████████| 500/500 [00:21<00:00, 23.27it/s]"
          ]
        },
        {
          "output_type": "stream",
          "name": "stdout",
          "text": [
            "speechbrain.utils.train_logger - epoch: 80, lr: 1.00e-04 - train final_loss: -1.40e+01 - valid final_loss: -8.61e+00, valid Accuracy soft: 0.0929829552769661, valid Accuracy Partial: 0.16699999570846558\n"
          ]
        },
        {
          "output_type": "stream",
          "name": "stderr",
          "text": [
            "\n"
          ]
        },
        {
          "output_type": "stream",
          "name": "stdout",
          "text": [
            "speechbrain.utils.checkpoints - Saved an end-of-epoch checkpoint in results/convtasnet/1234/save/CKPT+2025-07-25+01-18-21+00\n",
            "speechbrain.utils.checkpoints - Deleted checkpoint in results/convtasnet/1234/save/CKPT+2025-07-25+01-15-17+00\n",
            "speechbrain.utils.epoch_loop - Going into epoch 81\n",
            "Delta lang loss = 0.2, Delta separate loss = 0.8\n"
          ]
        },
        {
          "output_type": "stream",
          "name": "stderr",
          "text": [
            " 97%|█████████▋| 1210/1250 [02:35<00:04,  8.33it/s, train_loss=-14]"
          ]
        },
        {
          "output_type": "stream",
          "name": "stdout",
          "text": [
            "__main__ - infinite loss or empty loss! it happened 1 times so far - skipping this batch\n"
          ]
        },
        {
          "output_type": "stream",
          "name": "stderr",
          "text": [
            "100%|██████████| 1250/1250 [02:40<00:00,  7.79it/s, train_loss=-14]\n"
          ]
        },
        {
          "output_type": "stream",
          "name": "stdout",
          "text": [
            "Delta lang loss = 0.2, Delta separate loss = 0.8\n"
          ]
        },
        {
          "output_type": "stream",
          "name": "stderr",
          "text": [
            "100%|██████████| 500/500 [00:21<00:00, 23.56it/s]"
          ]
        },
        {
          "output_type": "stream",
          "name": "stdout",
          "text": [
            "speechbrain.utils.train_logger - epoch: 81, lr: 1.00e-04 - train final_loss: -1.40e+01 - valid final_loss: -7.41e+00, valid Accuracy soft: 0.08723882585763931, valid Accuracy Partial: 0.1720000058412552\n"
          ]
        },
        {
          "output_type": "stream",
          "name": "stderr",
          "text": [
            "\n"
          ]
        },
        {
          "output_type": "stream",
          "name": "stdout",
          "text": [
            "speechbrain.utils.checkpoints - Saved an end-of-epoch checkpoint in results/convtasnet/1234/save/CKPT+2025-07-25+01-21-23+00\n",
            "speechbrain.utils.checkpoints - Deleted checkpoint in results/convtasnet/1234/save/CKPT+2025-07-25+01-18-21+00\n",
            "speechbrain.utils.epoch_loop - Going into epoch 82\n",
            "Delta lang loss = 0.2, Delta separate loss = 0.8\n"
          ]
        },
        {
          "output_type": "stream",
          "name": "stderr",
          "text": [
            " 97%|█████████▋| 1210/1250 [02:34<00:04,  8.52it/s, train_loss=-14.1]"
          ]
        },
        {
          "output_type": "stream",
          "name": "stdout",
          "text": [
            "__main__ - infinite loss or empty loss! it happened 1 times so far - skipping this batch\n"
          ]
        },
        {
          "output_type": "stream",
          "name": "stderr",
          "text": [
            "100%|██████████| 1250/1250 [02:39<00:00,  7.82it/s, train_loss=-14]\n"
          ]
        },
        {
          "output_type": "stream",
          "name": "stdout",
          "text": [
            "Delta lang loss = 0.2, Delta separate loss = 0.8\n"
          ]
        },
        {
          "output_type": "stream",
          "name": "stderr",
          "text": [
            "100%|██████████| 500/500 [00:21<00:00, 23.50it/s]"
          ]
        },
        {
          "output_type": "stream",
          "name": "stdout",
          "text": [
            "speechbrain.utils.train_logger - epoch: 82, lr: 1.00e-04 - train final_loss: -1.40e+01 - valid final_loss: -7.31e-01, valid Accuracy soft: 0.07351495325565338, valid Accuracy Partial: 0.11599999666213989\n"
          ]
        },
        {
          "output_type": "stream",
          "name": "stderr",
          "text": [
            "\n"
          ]
        },
        {
          "output_type": "stream",
          "name": "stdout",
          "text": [
            "speechbrain.utils.checkpoints - Saved an end-of-epoch checkpoint in results/convtasnet/1234/save/CKPT+2025-07-25+01-24-25+00\n",
            "speechbrain.utils.checkpoints - Deleted checkpoint in results/convtasnet/1234/save/CKPT+2025-07-25+01-21-23+00\n",
            "speechbrain.utils.epoch_loop - Going into epoch 83\n",
            "Delta lang loss = 0.2, Delta separate loss = 0.8\n"
          ]
        },
        {
          "output_type": "stream",
          "name": "stderr",
          "text": [
            " 97%|█████████▋| 1210/1250 [02:34<00:04,  8.36it/s, train_loss=-14.1]"
          ]
        },
        {
          "output_type": "stream",
          "name": "stdout",
          "text": [
            "__main__ - infinite loss or empty loss! it happened 1 times so far - skipping this batch\n"
          ]
        },
        {
          "output_type": "stream",
          "name": "stderr",
          "text": [
            "100%|██████████| 1250/1250 [02:40<00:00,  7.81it/s, train_loss=-14.1]\n"
          ]
        },
        {
          "output_type": "stream",
          "name": "stdout",
          "text": [
            "Delta lang loss = 0.2, Delta separate loss = 0.8\n"
          ]
        },
        {
          "output_type": "stream",
          "name": "stderr",
          "text": [
            "100%|██████████| 500/500 [00:21<00:00, 23.69it/s]"
          ]
        },
        {
          "output_type": "stream",
          "name": "stdout",
          "text": [
            "speechbrain.utils.train_logger - epoch: 83, lr: 1.00e-04 - train final_loss: -1.41e+01 - valid final_loss: 22.64, valid Accuracy soft: 0.06759379059076309, valid Accuracy Partial: 0.1120000034570694\n"
          ]
        },
        {
          "output_type": "stream",
          "name": "stderr",
          "text": [
            "\n"
          ]
        },
        {
          "output_type": "stream",
          "name": "stdout",
          "text": [
            "speechbrain.utils.checkpoints - Saved an end-of-epoch checkpoint in results/convtasnet/1234/save/CKPT+2025-07-25+01-27-27+00\n",
            "speechbrain.utils.checkpoints - Deleted checkpoint in results/convtasnet/1234/save/CKPT+2025-07-25+01-24-25+00\n",
            "speechbrain.utils.epoch_loop - Going into epoch 84\n",
            "Delta lang loss = 0.2, Delta separate loss = 0.8\n"
          ]
        },
        {
          "output_type": "stream",
          "name": "stderr",
          "text": [
            " 97%|█████████▋| 1210/1250 [02:36<00:04,  8.44it/s, train_loss=-14.1]"
          ]
        },
        {
          "output_type": "stream",
          "name": "stdout",
          "text": [
            "__main__ - infinite loss or empty loss! it happened 1 times so far - skipping this batch\n"
          ]
        },
        {
          "output_type": "stream",
          "name": "stderr",
          "text": [
            "100%|██████████| 1250/1250 [02:41<00:00,  7.76it/s, train_loss=-14.1]\n"
          ]
        },
        {
          "output_type": "stream",
          "name": "stdout",
          "text": [
            "Delta lang loss = 0.2, Delta separate loss = 0.8\n"
          ]
        },
        {
          "output_type": "stream",
          "name": "stderr",
          "text": [
            "100%|██████████| 500/500 [00:21<00:00, 23.56it/s]"
          ]
        },
        {
          "output_type": "stream",
          "name": "stdout",
          "text": [
            "speechbrain.utils.train_logger - epoch: 84, lr: 1.00e-04 - train final_loss: -1.41e+01 - valid final_loss: 37.16, valid Accuracy soft: 0.08601918816566467, valid Accuracy Partial: 0.16099999845027924\n"
          ]
        },
        {
          "output_type": "stream",
          "name": "stderr",
          "text": [
            "\n"
          ]
        },
        {
          "output_type": "stream",
          "name": "stdout",
          "text": [
            "speechbrain.utils.checkpoints - Saved an end-of-epoch checkpoint in results/convtasnet/1234/save/CKPT+2025-07-25+01-30-30+00\n",
            "speechbrain.utils.checkpoints - Deleted checkpoint in results/convtasnet/1234/save/CKPT+2025-07-25+01-27-27+00\n",
            "speechbrain.utils.epoch_loop - Going into epoch 85\n",
            "Delta lang loss = 0.2, Delta separate loss = 0.8\n"
          ]
        },
        {
          "output_type": "stream",
          "name": "stderr",
          "text": [
            " 97%|█████████▋| 1210/1250 [02:35<00:04,  8.42it/s, train_loss=-14.1]"
          ]
        },
        {
          "output_type": "stream",
          "name": "stdout",
          "text": [
            "__main__ - infinite loss or empty loss! it happened 1 times so far - skipping this batch\n"
          ]
        },
        {
          "output_type": "stream",
          "name": "stderr",
          "text": [
            "100%|██████████| 1250/1250 [02:40<00:00,  7.79it/s, train_loss=-14.1]\n"
          ]
        },
        {
          "output_type": "stream",
          "name": "stdout",
          "text": [
            "Delta lang loss = 0.2, Delta separate loss = 0.8\n"
          ]
        },
        {
          "output_type": "stream",
          "name": "stderr",
          "text": [
            "100%|██████████| 500/500 [00:21<00:00, 23.61it/s]"
          ]
        },
        {
          "output_type": "stream",
          "name": "stdout",
          "text": [
            "speechbrain.utils.train_logger - epoch: 85, lr: 1.00e-04 - train final_loss: -1.41e+01 - valid final_loss: -1.97e-01, valid Accuracy soft: 0.0747130811214447, valid Accuracy Partial: 0.13199999928474426\n"
          ]
        },
        {
          "output_type": "stream",
          "name": "stderr",
          "text": [
            "\n"
          ]
        },
        {
          "output_type": "stream",
          "name": "stdout",
          "text": [
            "speechbrain.utils.checkpoints - Saved an end-of-epoch checkpoint in results/convtasnet/1234/save/CKPT+2025-07-25+01-33-32+00\n",
            "speechbrain.utils.checkpoints - Deleted checkpoint in results/convtasnet/1234/save/CKPT+2025-07-25+01-30-30+00\n",
            "speechbrain.utils.epoch_loop - Going into epoch 86\n",
            "Delta lang loss = 0.2, Delta separate loss = 0.8\n"
          ]
        },
        {
          "output_type": "stream",
          "name": "stderr",
          "text": [
            " 97%|█████████▋| 1210/1250 [02:34<00:04,  8.59it/s, train_loss=-14.1]"
          ]
        },
        {
          "output_type": "stream",
          "name": "stdout",
          "text": [
            "__main__ - infinite loss or empty loss! it happened 1 times so far - skipping this batch\n"
          ]
        },
        {
          "output_type": "stream",
          "name": "stderr",
          "text": [
            "100%|██████████| 1250/1250 [02:39<00:00,  7.82it/s, train_loss=-14.1]\n"
          ]
        },
        {
          "output_type": "stream",
          "name": "stdout",
          "text": [
            "Delta lang loss = 0.2, Delta separate loss = 0.8\n"
          ]
        },
        {
          "output_type": "stream",
          "name": "stderr",
          "text": [
            "100%|██████████| 500/500 [00:21<00:00, 23.63it/s]"
          ]
        },
        {
          "output_type": "stream",
          "name": "stdout",
          "text": [
            "speechbrain.utils.train_logger - epoch: 86, lr: 1.00e-04 - train final_loss: -1.41e+01 - valid final_loss: 1.65e+02, valid Accuracy soft: 0.08245234191417694, valid Accuracy Partial: 0.1589999943971634\n"
          ]
        },
        {
          "output_type": "stream",
          "name": "stderr",
          "text": [
            "\n"
          ]
        },
        {
          "output_type": "stream",
          "name": "stdout",
          "text": [
            "speechbrain.utils.checkpoints - Saved an end-of-epoch checkpoint in results/convtasnet/1234/save/CKPT+2025-07-25+01-36-34+00\n",
            "speechbrain.utils.checkpoints - Deleted checkpoint in results/convtasnet/1234/save/CKPT+2025-07-25+01-33-32+00\n",
            "speechbrain.utils.epoch_loop - Going into epoch 87\n",
            "Delta lang loss = 0.2, Delta separate loss = 0.8\n"
          ]
        },
        {
          "output_type": "stream",
          "name": "stderr",
          "text": [
            " 97%|█████████▋| 1210/1250 [02:36<00:04,  8.55it/s, train_loss=-14.2]"
          ]
        },
        {
          "output_type": "stream",
          "name": "stdout",
          "text": [
            "__main__ - infinite loss or empty loss! it happened 1 times so far - skipping this batch\n"
          ]
        },
        {
          "output_type": "stream",
          "name": "stderr",
          "text": [
            "100%|██████████| 1250/1250 [02:41<00:00,  7.75it/s, train_loss=-14.2]\n"
          ]
        },
        {
          "output_type": "stream",
          "name": "stdout",
          "text": [
            "Delta lang loss = 0.2, Delta separate loss = 0.8\n"
          ]
        },
        {
          "output_type": "stream",
          "name": "stderr",
          "text": [
            "100%|██████████| 500/500 [00:21<00:00, 23.48it/s]"
          ]
        },
        {
          "output_type": "stream",
          "name": "stdout",
          "text": [
            "speechbrain.utils.train_logger - epoch: 87, lr: 1.00e-04 - train final_loss: -1.42e+01 - valid final_loss: -8.61e+00, valid Accuracy soft: 0.08956318348646164, valid Accuracy Partial: 0.15800000727176666\n"
          ]
        },
        {
          "output_type": "stream",
          "name": "stderr",
          "text": [
            "\n"
          ]
        },
        {
          "output_type": "stream",
          "name": "stdout",
          "text": [
            "speechbrain.utils.checkpoints - Saved an end-of-epoch checkpoint in results/convtasnet/1234/save/CKPT+2025-07-25+01-39-37+00\n",
            "speechbrain.utils.checkpoints - Deleted checkpoint in results/convtasnet/1234/save/CKPT+2025-07-25+01-36-34+00\n",
            "speechbrain.utils.epoch_loop - Going into epoch 88\n",
            "Delta lang loss = 0.2, Delta separate loss = 0.8\n"
          ]
        },
        {
          "output_type": "stream",
          "name": "stderr",
          "text": [
            " 97%|█████████▋| 1210/1250 [02:37<00:05,  7.88it/s, train_loss=-14.2]"
          ]
        },
        {
          "output_type": "stream",
          "name": "stdout",
          "text": [
            "__main__ - infinite loss or empty loss! it happened 1 times so far - skipping this batch\n"
          ]
        },
        {
          "output_type": "stream",
          "name": "stderr",
          "text": [
            "100%|██████████| 1250/1250 [02:43<00:00,  7.65it/s, train_loss=-14.2]\n"
          ]
        },
        {
          "output_type": "stream",
          "name": "stdout",
          "text": [
            "Delta lang loss = 0.2, Delta separate loss = 0.8\n"
          ]
        },
        {
          "output_type": "stream",
          "name": "stderr",
          "text": [
            "100%|██████████| 500/500 [00:22<00:00, 22.24it/s]"
          ]
        },
        {
          "output_type": "stream",
          "name": "stdout",
          "text": [
            "speechbrain.utils.train_logger - epoch: 88, lr: 1.00e-04 - train final_loss: -1.42e+01 - valid final_loss: -8.39e+00, valid Accuracy soft: 0.09237872064113617, valid Accuracy Partial: 0.1770000010728836\n"
          ]
        },
        {
          "output_type": "stream",
          "name": "stderr",
          "text": [
            "\n"
          ]
        },
        {
          "output_type": "stream",
          "name": "stdout",
          "text": [
            "speechbrain.utils.checkpoints - Saved an end-of-epoch checkpoint in results/convtasnet/1234/save/CKPT+2025-07-25+01-42-44+00\n",
            "speechbrain.utils.checkpoints - Deleted checkpoint in results/convtasnet/1234/save/CKPT+2025-07-25+01-39-37+00\n",
            "speechbrain.utils.epoch_loop - Going into epoch 89\n",
            "Delta lang loss = 0.2, Delta separate loss = 0.8\n"
          ]
        },
        {
          "output_type": "stream",
          "name": "stderr",
          "text": [
            " 97%|█████████▋| 1210/1250 [02:46<00:04,  8.04it/s, train_loss=-14.2]"
          ]
        },
        {
          "output_type": "stream",
          "name": "stdout",
          "text": [
            "__main__ - infinite loss or empty loss! it happened 1 times so far - skipping this batch\n"
          ]
        },
        {
          "output_type": "stream",
          "name": "stderr",
          "text": [
            "100%|██████████| 1250/1250 [02:52<00:00,  7.25it/s, train_loss=-14.2]\n"
          ]
        },
        {
          "output_type": "stream",
          "name": "stdout",
          "text": [
            "Delta lang loss = 0.2, Delta separate loss = 0.8\n"
          ]
        },
        {
          "output_type": "stream",
          "name": "stderr",
          "text": [
            "100%|██████████| 500/500 [00:22<00:00, 22.25it/s]\n"
          ]
        },
        {
          "output_type": "stream",
          "name": "stdout",
          "text": [
            "speechbrain.utils.train_logger - epoch: 89, lr: 1.00e-04 - train final_loss: -1.42e+01 - valid final_loss: -8.47e+00, valid Accuracy soft: 0.08576524257659912, valid Accuracy Partial: 0.1589999943971634\n",
            "speechbrain.utils.checkpoints - Saved an end-of-epoch checkpoint in results/convtasnet/1234/save/CKPT+2025-07-25+01-45-59+00\n",
            "speechbrain.utils.checkpoints - Deleted checkpoint in results/convtasnet/1234/save/CKPT+2025-07-25+01-42-44+00\n",
            "speechbrain.utils.epoch_loop - Going into epoch 90\n",
            "Delta lang loss = 0.2, Delta separate loss = 0.8\n"
          ]
        },
        {
          "output_type": "stream",
          "name": "stderr",
          "text": [
            " 97%|█████████▋| 1210/1250 [02:47<00:05,  7.83it/s, train_loss=-14.2]"
          ]
        },
        {
          "output_type": "stream",
          "name": "stdout",
          "text": [
            "__main__ - infinite loss or empty loss! it happened 1 times so far - skipping this batch\n"
          ]
        },
        {
          "output_type": "stream",
          "name": "stderr",
          "text": [
            "100%|██████████| 1250/1250 [02:52<00:00,  7.23it/s, train_loss=-14.2]\n"
          ]
        },
        {
          "output_type": "stream",
          "name": "stdout",
          "text": [
            "Delta lang loss = 0.2, Delta separate loss = 0.8\n"
          ]
        },
        {
          "output_type": "stream",
          "name": "stderr",
          "text": [
            "100%|██████████| 500/500 [00:22<00:00, 22.39it/s]"
          ]
        },
        {
          "output_type": "stream",
          "name": "stdout",
          "text": [
            "speechbrain.utils.train_logger - epoch: 90, lr: 1.00e-04 - train final_loss: -1.42e+01 - valid final_loss: -7.90e+00, valid Accuracy soft: 0.08755586296319962, valid Accuracy Partial: 0.15399999916553497\n"
          ]
        },
        {
          "output_type": "stream",
          "name": "stderr",
          "text": [
            "\n"
          ]
        },
        {
          "output_type": "stream",
          "name": "stdout",
          "text": [
            "speechbrain.utils.checkpoints - Saved an end-of-epoch checkpoint in results/convtasnet/1234/save/CKPT+2025-07-25+01-49-15+00\n",
            "speechbrain.utils.checkpoints - Deleted checkpoint in results/convtasnet/1234/save/CKPT+2025-07-25+01-45-59+00\n",
            "speechbrain.utils.epoch_loop - Going into epoch 91\n",
            "Delta lang loss = 0.2, Delta separate loss = 0.8\n"
          ]
        },
        {
          "output_type": "stream",
          "name": "stderr",
          "text": [
            " 97%|█████████▋| 1210/1250 [02:46<00:05,  7.85it/s, train_loss=-14.2]"
          ]
        },
        {
          "output_type": "stream",
          "name": "stdout",
          "text": [
            "__main__ - infinite loss or empty loss! it happened 1 times so far - skipping this batch\n"
          ]
        },
        {
          "output_type": "stream",
          "name": "stderr",
          "text": [
            "100%|██████████| 1250/1250 [02:52<00:00,  7.26it/s, train_loss=-14.2]\n"
          ]
        },
        {
          "output_type": "stream",
          "name": "stdout",
          "text": [
            "Delta lang loss = 0.2, Delta separate loss = 0.8\n"
          ]
        },
        {
          "output_type": "stream",
          "name": "stderr",
          "text": [
            "100%|██████████| 500/500 [00:22<00:00, 22.12it/s]"
          ]
        },
        {
          "output_type": "stream",
          "name": "stdout",
          "text": [
            "speechbrain.utils.train_logger - epoch: 91, lr: 1.00e-04 - train final_loss: -1.42e+01 - valid final_loss: -8.44e+00, valid Accuracy soft: 0.08332417905330658, valid Accuracy Partial: 0.16300000250339508\n"
          ]
        },
        {
          "output_type": "stream",
          "name": "stderr",
          "text": [
            "\n"
          ]
        },
        {
          "output_type": "stream",
          "name": "stdout",
          "text": [
            "speechbrain.utils.checkpoints - Saved an end-of-epoch checkpoint in results/convtasnet/1234/save/CKPT+2025-07-25+01-52-31+00\n",
            "speechbrain.utils.checkpoints - Deleted checkpoint in results/convtasnet/1234/save/CKPT+2025-07-25+01-49-15+00\n",
            "speechbrain.utils.epoch_loop - Going into epoch 92\n",
            "Delta lang loss = 0.2, Delta separate loss = 0.8\n"
          ]
        },
        {
          "output_type": "stream",
          "name": "stderr",
          "text": [
            "100%|██████████| 1250/1250 [02:52<00:00,  7.24it/s, train_loss=-14.3]\n"
          ]
        },
        {
          "output_type": "stream",
          "name": "stdout",
          "text": [
            "Delta lang loss = 0.2, Delta separate loss = 0.8\n"
          ]
        },
        {
          "output_type": "stream",
          "name": "stderr",
          "text": [
            "100%|██████████| 500/500 [00:22<00:00, 22.35it/s]\n"
          ]
        },
        {
          "output_type": "stream",
          "name": "stdout",
          "text": [
            "speechbrain.utils.train_logger - epoch: 92, lr: 1.00e-04 - train final_loss: -1.43e+01 - valid final_loss: -7.51e+00, valid Accuracy soft: 0.08266837149858475, valid Accuracy Partial: 0.14000000059604645\n",
            "speechbrain.utils.checkpoints - Saved an end-of-epoch checkpoint in results/convtasnet/1234/save/CKPT+2025-07-25+01-55-46+00\n",
            "speechbrain.utils.checkpoints - Deleted checkpoint in results/convtasnet/1234/save/CKPT+2025-07-25+01-52-31+00\n",
            "speechbrain.utils.epoch_loop - Going into epoch 93\n",
            "Delta lang loss = 0.2, Delta separate loss = 0.8\n"
          ]
        },
        {
          "output_type": "stream",
          "name": "stderr",
          "text": [
            " 97%|█████████▋| 1210/1250 [02:40<00:04,  8.43it/s, train_loss=-14.3]"
          ]
        },
        {
          "output_type": "stream",
          "name": "stdout",
          "text": [
            "__main__ - infinite loss or empty loss! it happened 1 times so far - skipping this batch\n"
          ]
        },
        {
          "output_type": "stream",
          "name": "stderr",
          "text": [
            "100%|██████████| 1250/1250 [02:45<00:00,  7.56it/s, train_loss=-14.3]\n"
          ]
        },
        {
          "output_type": "stream",
          "name": "stdout",
          "text": [
            "Delta lang loss = 0.2, Delta separate loss = 0.8\n"
          ]
        },
        {
          "output_type": "stream",
          "name": "stderr",
          "text": [
            "100%|██████████| 500/500 [00:21<00:00, 23.69it/s]"
          ]
        },
        {
          "output_type": "stream",
          "name": "stdout",
          "text": [
            "speechbrain.utils.train_logger - epoch: 93, lr: 1.00e-04 - train final_loss: -1.43e+01 - valid final_loss: -4.25e+00, valid Accuracy soft: 0.08403202891349792, valid Accuracy Partial: 0.1420000046491623\n"
          ]
        },
        {
          "output_type": "stream",
          "name": "stderr",
          "text": [
            "\n"
          ]
        },
        {
          "output_type": "stream",
          "name": "stdout",
          "text": [
            "speechbrain.utils.checkpoints - Saved an end-of-epoch checkpoint in results/convtasnet/1234/save/CKPT+2025-07-25+01-58-53+00\n",
            "speechbrain.utils.checkpoints - Deleted checkpoint in results/convtasnet/1234/save/CKPT+2025-07-25+01-55-46+00\n",
            "speechbrain.utils.epoch_loop - Going into epoch 94\n",
            "Delta lang loss = 0.2, Delta separate loss = 0.8\n"
          ]
        },
        {
          "output_type": "stream",
          "name": "stderr",
          "text": [
            " 97%|█████████▋| 1210/1250 [02:35<00:04,  8.41it/s, train_loss=-14.3]"
          ]
        },
        {
          "output_type": "stream",
          "name": "stdout",
          "text": [
            "__main__ - infinite loss or empty loss! it happened 1 times so far - skipping this batch\n"
          ]
        },
        {
          "output_type": "stream",
          "name": "stderr",
          "text": [
            "100%|██████████| 1250/1250 [02:40<00:00,  7.80it/s, train_loss=-14.3]\n"
          ]
        },
        {
          "output_type": "stream",
          "name": "stdout",
          "text": [
            "Delta lang loss = 0.2, Delta separate loss = 0.8\n"
          ]
        },
        {
          "output_type": "stream",
          "name": "stderr",
          "text": [
            "100%|██████████| 500/500 [00:21<00:00, 23.65it/s]"
          ]
        },
        {
          "output_type": "stream",
          "name": "stdout",
          "text": [
            "speechbrain.utils.train_logger - epoch: 94, lr: 1.00e-04 - train final_loss: -1.43e+01 - valid final_loss: 23.25, valid Accuracy soft: 0.087126724421978, valid Accuracy Partial: 0.164000004529953\n"
          ]
        },
        {
          "output_type": "stream",
          "name": "stderr",
          "text": [
            "\n"
          ]
        },
        {
          "output_type": "stream",
          "name": "stdout",
          "text": [
            "speechbrain.utils.checkpoints - Saved an end-of-epoch checkpoint in results/convtasnet/1234/save/CKPT+2025-07-25+02-01-56+00\n",
            "speechbrain.utils.checkpoints - Deleted checkpoint in results/convtasnet/1234/save/CKPT+2025-07-25+01-58-53+00\n",
            "speechbrain.utils.epoch_loop - Going into epoch 95\n",
            "Delta lang loss = 0.2, Delta separate loss = 0.8\n"
          ]
        },
        {
          "output_type": "stream",
          "name": "stderr",
          "text": [
            " 97%|█████████▋| 1210/1250 [02:41<00:04,  8.10it/s, train_loss=-14.3]"
          ]
        },
        {
          "output_type": "stream",
          "name": "stdout",
          "text": [
            "__main__ - infinite loss or empty loss! it happened 1 times so far - skipping this batch\n"
          ]
        },
        {
          "output_type": "stream",
          "name": "stderr",
          "text": [
            "100%|██████████| 1250/1250 [02:46<00:00,  7.51it/s, train_loss=-14.3]\n"
          ]
        },
        {
          "output_type": "stream",
          "name": "stdout",
          "text": [
            "Delta lang loss = 0.2, Delta separate loss = 0.8\n"
          ]
        },
        {
          "output_type": "stream",
          "name": "stderr",
          "text": [
            "100%|██████████| 500/500 [00:22<00:00, 22.65it/s]"
          ]
        },
        {
          "output_type": "stream",
          "name": "stdout",
          "text": [
            "speechbrain.utils.train_logger - epoch: 95, lr: 1.00e-04 - train final_loss: -1.43e+01 - valid final_loss: 1.65e+02, valid Accuracy soft: 0.053694192320108414, valid Accuracy Partial: 0.08799999952316284\n"
          ]
        },
        {
          "output_type": "stream",
          "name": "stderr",
          "text": [
            "\n"
          ]
        },
        {
          "output_type": "stream",
          "name": "stdout",
          "text": [
            "speechbrain.utils.checkpoints - Saved an end-of-epoch checkpoint in results/convtasnet/1234/save/CKPT+2025-07-25+02-05-05+00\n",
            "speechbrain.utils.checkpoints - Deleted checkpoint in results/convtasnet/1234/save/CKPT+2025-07-25+02-01-56+00\n",
            "speechbrain.utils.epoch_loop - Going into epoch 96\n",
            "Delta lang loss = 0.2, Delta separate loss = 0.8\n"
          ]
        },
        {
          "output_type": "stream",
          "name": "stderr",
          "text": [
            " 97%|█████████▋| 1210/1250 [02:41<00:04,  8.01it/s, train_loss=-14.3]"
          ]
        },
        {
          "output_type": "stream",
          "name": "stdout",
          "text": [
            "__main__ - infinite loss or empty loss! it happened 1 times so far - skipping this batch\n"
          ]
        },
        {
          "output_type": "stream",
          "name": "stderr",
          "text": [
            "100%|██████████| 1250/1250 [02:47<00:00,  7.48it/s, train_loss=-14.3]\n"
          ]
        },
        {
          "output_type": "stream",
          "name": "stdout",
          "text": [
            "Delta lang loss = 0.2, Delta separate loss = 0.8\n"
          ]
        },
        {
          "output_type": "stream",
          "name": "stderr",
          "text": [
            "100%|██████████| 500/500 [00:22<00:00, 22.66it/s]"
          ]
        },
        {
          "output_type": "stream",
          "name": "stdout",
          "text": [
            "speechbrain.utils.train_logger - epoch: 96, lr: 1.00e-04 - train final_loss: -1.43e+01 - valid final_loss: 42.10, valid Accuracy soft: 0.07048840075731277, valid Accuracy Partial: 0.12999999523162842\n"
          ]
        },
        {
          "output_type": "stream",
          "name": "stderr",
          "text": [
            "\n"
          ]
        },
        {
          "output_type": "stream",
          "name": "stdout",
          "text": [
            "speechbrain.utils.checkpoints - Saved an end-of-epoch checkpoint in results/convtasnet/1234/save/CKPT+2025-07-25+02-08-15+00\n",
            "speechbrain.utils.checkpoints - Deleted checkpoint in results/convtasnet/1234/save/CKPT+2025-07-25+02-05-05+00\n",
            "speechbrain.utils.epoch_loop - Going into epoch 97\n",
            "Delta lang loss = 0.2, Delta separate loss = 0.8\n"
          ]
        },
        {
          "output_type": "stream",
          "name": "stderr",
          "text": [
            " 97%|█████████▋| 1210/1250 [02:41<00:04,  8.21it/s, train_loss=-14.3]"
          ]
        },
        {
          "output_type": "stream",
          "name": "stdout",
          "text": [
            "__main__ - infinite loss or empty loss! it happened 1 times so far - skipping this batch\n"
          ]
        },
        {
          "output_type": "stream",
          "name": "stderr",
          "text": [
            "100%|██████████| 1250/1250 [02:47<00:00,  7.47it/s, train_loss=-14.3]\n"
          ]
        },
        {
          "output_type": "stream",
          "name": "stdout",
          "text": [
            "Delta lang loss = 0.2, Delta separate loss = 0.8\n"
          ]
        },
        {
          "output_type": "stream",
          "name": "stderr",
          "text": [
            "100%|██████████| 500/500 [00:21<00:00, 23.07it/s]"
          ]
        },
        {
          "output_type": "stream",
          "name": "stdout",
          "text": [
            "speechbrain.utils.train_logger - epoch: 97, lr: 1.00e-04 - train final_loss: -1.43e+01 - valid final_loss: -2.40e-02, valid Accuracy soft: 0.0834614560008049, valid Accuracy Partial: 0.1459999978542328\n"
          ]
        },
        {
          "output_type": "stream",
          "name": "stderr",
          "text": [
            "\n"
          ]
        },
        {
          "output_type": "stream",
          "name": "stdout",
          "text": [
            "speechbrain.utils.checkpoints - Saved an end-of-epoch checkpoint in results/convtasnet/1234/save/CKPT+2025-07-25+02-11-24+00\n",
            "speechbrain.utils.checkpoints - Deleted checkpoint in results/convtasnet/1234/save/CKPT+2025-07-25+02-08-15+00\n",
            "speechbrain.utils.epoch_loop - Going into epoch 98\n",
            "Delta lang loss = 0.2, Delta separate loss = 0.8\n"
          ]
        },
        {
          "output_type": "stream",
          "name": "stderr",
          "text": [
            " 97%|█████████▋| 1210/1250 [02:41<00:05,  7.93it/s, train_loss=-14.4]"
          ]
        },
        {
          "output_type": "stream",
          "name": "stdout",
          "text": [
            "__main__ - infinite loss or empty loss! it happened 1 times so far - skipping this batch\n"
          ]
        },
        {
          "output_type": "stream",
          "name": "stderr",
          "text": [
            "100%|██████████| 1250/1250 [02:47<00:00,  7.47it/s, train_loss=-14.4]\n"
          ]
        },
        {
          "output_type": "stream",
          "name": "stdout",
          "text": [
            "Delta lang loss = 0.2, Delta separate loss = 0.8\n"
          ]
        },
        {
          "output_type": "stream",
          "name": "stderr",
          "text": [
            "100%|██████████| 500/500 [00:22<00:00, 22.73it/s]"
          ]
        },
        {
          "output_type": "stream",
          "name": "stdout",
          "text": [
            "speechbrain.utils.train_logger - epoch: 98, lr: 1.00e-04 - train final_loss: -1.44e+01 - valid final_loss: 19.51, valid Accuracy soft: 0.08359981328248978, valid Accuracy Partial: 0.14800000190734863\n"
          ]
        },
        {
          "output_type": "stream",
          "name": "stderr",
          "text": [
            "\n"
          ]
        },
        {
          "output_type": "stream",
          "name": "stdout",
          "text": [
            "speechbrain.utils.checkpoints - Saved an end-of-epoch checkpoint in results/convtasnet/1234/save/CKPT+2025-07-25+02-14-34+00\n",
            "speechbrain.utils.checkpoints - Deleted checkpoint in results/convtasnet/1234/save/CKPT+2025-07-25+02-11-24+00\n",
            "speechbrain.utils.epoch_loop - Going into epoch 99\n",
            "Delta lang loss = 0.2, Delta separate loss = 0.8\n"
          ]
        },
        {
          "output_type": "stream",
          "name": "stderr",
          "text": [
            " 97%|█████████▋| 1210/1250 [02:42<00:04,  8.22it/s, train_loss=-14.4]"
          ]
        },
        {
          "output_type": "stream",
          "name": "stdout",
          "text": [
            "__main__ - infinite loss or empty loss! it happened 1 times so far - skipping this batch\n"
          ]
        },
        {
          "output_type": "stream",
          "name": "stderr",
          "text": [
            "100%|██████████| 1250/1250 [02:47<00:00,  7.46it/s, train_loss=-14.4]\n"
          ]
        },
        {
          "output_type": "stream",
          "name": "stdout",
          "text": [
            "Delta lang loss = 0.2, Delta separate loss = 0.8\n"
          ]
        },
        {
          "output_type": "stream",
          "name": "stderr",
          "text": [
            "100%|██████████| 500/500 [00:21<00:00, 22.95it/s]"
          ]
        },
        {
          "output_type": "stream",
          "name": "stdout",
          "text": [
            "speechbrain.utils.train_logger - epoch: 99, lr: 1.00e-04 - train final_loss: -1.44e+01 - valid final_loss: 42.69, valid Accuracy soft: 0.07502792775630951, valid Accuracy Partial: 0.12800000607967377\n"
          ]
        },
        {
          "output_type": "stream",
          "name": "stderr",
          "text": [
            "\n"
          ]
        },
        {
          "output_type": "stream",
          "name": "stdout",
          "text": [
            "speechbrain.utils.checkpoints - Saved an end-of-epoch checkpoint in results/convtasnet/1234/save/CKPT+2025-07-25+02-17-44+00\n",
            "speechbrain.utils.checkpoints - Deleted checkpoint in results/convtasnet/1234/save/CKPT+2025-07-25+02-14-34+00\n",
            "speechbrain.utils.epoch_loop - Going into epoch 100\n",
            "Delta lang loss = 0.2, Delta separate loss = 0.8\n"
          ]
        },
        {
          "output_type": "stream",
          "name": "stderr",
          "text": [
            " 97%|█████████▋| 1210/1250 [02:42<00:04,  8.09it/s, train_loss=-14.4]"
          ]
        },
        {
          "output_type": "stream",
          "name": "stdout",
          "text": [
            "__main__ - infinite loss or empty loss! it happened 1 times so far - skipping this batch\n"
          ]
        },
        {
          "output_type": "stream",
          "name": "stderr",
          "text": [
            "100%|██████████| 1250/1250 [02:47<00:00,  7.46it/s, train_loss=-14.4]\n"
          ]
        },
        {
          "output_type": "stream",
          "name": "stdout",
          "text": [
            "__main__ - Removed file /content/drive/MyDrive/Project/results_80\n",
            "__main__ - Saved file succesfully\n",
            "Delta lang loss = 0.2, Delta separate loss = 0.8\n"
          ]
        },
        {
          "output_type": "stream",
          "name": "stderr",
          "text": [
            "100%|██████████| 500/500 [00:22<00:00, 22.27it/s]"
          ]
        },
        {
          "output_type": "stream",
          "name": "stdout",
          "text": [
            "speechbrain.utils.train_logger - epoch: 100, lr: 1.00e-04 - train final_loss: -1.44e+01 - valid final_loss: 6.56, valid Accuracy soft: 0.07714110612869263, valid Accuracy Partial: 0.14399999380111694\n"
          ]
        },
        {
          "output_type": "stream",
          "name": "stderr",
          "text": [
            "\n"
          ]
        },
        {
          "output_type": "stream",
          "name": "stdout",
          "text": [
            "speechbrain.utils.checkpoints - Saved an end-of-epoch checkpoint in results/convtasnet/1234/save/CKPT+2025-07-25+02-20-56+00\n",
            "speechbrain.utils.checkpoints - Deleted checkpoint in results/convtasnet/1234/save/CKPT+2025-07-25+02-17-44+00\n",
            "speechbrain.utils.epoch_loop - Going into epoch 101\n",
            "Delta lang loss = 0.2, Delta separate loss = 0.8\n"
          ]
        },
        {
          "output_type": "stream",
          "name": "stderr",
          "text": [
            " 97%|█████████▋| 1210/1250 [02:41<00:04,  8.32it/s, train_loss=-14.4]"
          ]
        },
        {
          "output_type": "stream",
          "name": "stdout",
          "text": [
            "__main__ - infinite loss or empty loss! it happened 1 times so far - skipping this batch\n"
          ]
        },
        {
          "output_type": "stream",
          "name": "stderr",
          "text": [
            "100%|██████████| 1250/1250 [02:47<00:00,  7.48it/s, train_loss=-14.4]\n"
          ]
        },
        {
          "output_type": "stream",
          "name": "stdout",
          "text": [
            "Delta lang loss = 0.2, Delta separate loss = 0.8\n"
          ]
        },
        {
          "output_type": "stream",
          "name": "stderr",
          "text": [
            "100%|██████████| 500/500 [00:22<00:00, 22.55it/s]"
          ]
        },
        {
          "output_type": "stream",
          "name": "stdout",
          "text": [
            "speechbrain.utils.train_logger - epoch: 101, lr: 1.00e-04 - train final_loss: -1.44e+01 - valid final_loss: -4.20e+00, valid Accuracy soft: 0.08860253542661667, valid Accuracy Partial: 0.15800000727176666\n"
          ]
        },
        {
          "output_type": "stream",
          "name": "stderr",
          "text": [
            "\n"
          ]
        },
        {
          "output_type": "stream",
          "name": "stdout",
          "text": [
            "speechbrain.utils.checkpoints - Saved an end-of-epoch checkpoint in results/convtasnet/1234/save/CKPT+2025-07-25+02-24-06+00\n",
            "speechbrain.utils.checkpoints - Deleted checkpoint in results/convtasnet/1234/save/CKPT+2025-07-25+02-20-56+00\n",
            "speechbrain.utils.epoch_loop - Going into epoch 102\n",
            "Delta lang loss = 0.2, Delta separate loss = 0.8\n"
          ]
        },
        {
          "output_type": "stream",
          "name": "stderr",
          "text": [
            " 97%|█████████▋| 1210/1250 [02:42<00:05,  8.00it/s, train_loss=-14.4]"
          ]
        },
        {
          "output_type": "stream",
          "name": "stdout",
          "text": [
            "__main__ - infinite loss or empty loss! it happened 1 times so far - skipping this batch\n"
          ]
        },
        {
          "output_type": "stream",
          "name": "stderr",
          "text": [
            "100%|██████████| 1250/1250 [02:47<00:00,  7.46it/s, train_loss=-14.4]\n"
          ]
        },
        {
          "output_type": "stream",
          "name": "stdout",
          "text": [
            "Delta lang loss = 0.2, Delta separate loss = 0.8\n"
          ]
        },
        {
          "output_type": "stream",
          "name": "stderr",
          "text": [
            "100%|██████████| 500/500 [00:21<00:00, 22.78it/s]"
          ]
        },
        {
          "output_type": "stream",
          "name": "stdout",
          "text": [
            "speechbrain.utils.train_logger - epoch: 102, lr: 1.00e-04 - train final_loss: -1.44e+01 - valid final_loss: -7.55e+00, valid Accuracy soft: 0.0831136628985405, valid Accuracy Partial: 0.14399999380111694\n"
          ]
        },
        {
          "output_type": "stream",
          "name": "stderr",
          "text": [
            "\n"
          ]
        },
        {
          "output_type": "stream",
          "name": "stdout",
          "text": [
            "speechbrain.utils.checkpoints - Saved an end-of-epoch checkpoint in results/convtasnet/1234/save/CKPT+2025-07-25+02-27-16+00\n",
            "speechbrain.utils.checkpoints - Deleted checkpoint in results/convtasnet/1234/save/CKPT+2025-07-25+02-24-06+00\n",
            "speechbrain.utils.epoch_loop - Going into epoch 103\n",
            "Delta lang loss = 0.2, Delta separate loss = 0.8\n"
          ]
        },
        {
          "output_type": "stream",
          "name": "stderr",
          "text": [
            " 97%|█████████▋| 1210/1250 [02:42<00:05,  7.89it/s, train_loss=-14.4]"
          ]
        },
        {
          "output_type": "stream",
          "name": "stdout",
          "text": [
            "__main__ - infinite loss or empty loss! it happened 1 times so far - skipping this batch\n"
          ]
        },
        {
          "output_type": "stream",
          "name": "stderr",
          "text": [
            "100%|██████████| 1250/1250 [02:48<00:00,  7.43it/s, train_loss=-14.4]\n"
          ]
        },
        {
          "output_type": "stream",
          "name": "stdout",
          "text": [
            "Delta lang loss = 0.2, Delta separate loss = 0.8\n"
          ]
        },
        {
          "output_type": "stream",
          "name": "stderr",
          "text": [
            "100%|██████████| 500/500 [00:22<00:00, 22.52it/s]"
          ]
        },
        {
          "output_type": "stream",
          "name": "stdout",
          "text": [
            "speechbrain.utils.train_logger - epoch: 103, lr: 1.00e-04 - train final_loss: -1.44e+01 - valid final_loss: -6.82e+00, valid Accuracy soft: 0.08388201147317886, valid Accuracy Partial: 0.14399999380111694\n"
          ]
        },
        {
          "output_type": "stream",
          "name": "stderr",
          "text": [
            "\n"
          ]
        },
        {
          "output_type": "stream",
          "name": "stdout",
          "text": [
            "speechbrain.utils.checkpoints - Saved an end-of-epoch checkpoint in results/convtasnet/1234/save/CKPT+2025-07-25+02-30-28+00\n",
            "speechbrain.utils.checkpoints - Deleted checkpoint in results/convtasnet/1234/save/CKPT+2025-07-25+02-27-16+00\n",
            "speechbrain.utils.epoch_loop - Going into epoch 104\n",
            "Delta lang loss = 0.2, Delta separate loss = 0.8\n"
          ]
        },
        {
          "output_type": "stream",
          "name": "stderr",
          "text": [
            " 97%|█████████▋| 1210/1250 [02:41<00:04,  8.11it/s, train_loss=-14.5]"
          ]
        },
        {
          "output_type": "stream",
          "name": "stdout",
          "text": [
            "__main__ - infinite loss or empty loss! it happened 1 times so far - skipping this batch\n"
          ]
        },
        {
          "output_type": "stream",
          "name": "stderr",
          "text": [
            "100%|██████████| 1250/1250 [02:47<00:00,  7.47it/s, train_loss=-14.4]\n"
          ]
        },
        {
          "output_type": "stream",
          "name": "stdout",
          "text": [
            "Delta lang loss = 0.2, Delta separate loss = 0.8\n"
          ]
        },
        {
          "output_type": "stream",
          "name": "stderr",
          "text": [
            "100%|██████████| 500/500 [00:22<00:00, 22.67it/s]"
          ]
        },
        {
          "output_type": "stream",
          "name": "stdout",
          "text": [
            "speechbrain.utils.train_logger - epoch: 104, lr: 1.00e-04 - train final_loss: -1.44e+01 - valid final_loss: 3.40e+03, valid Accuracy soft: 0.08664117008447647, valid Accuracy Partial: 0.16500000655651093\n"
          ]
        },
        {
          "output_type": "stream",
          "name": "stderr",
          "text": [
            "\n"
          ]
        },
        {
          "output_type": "stream",
          "name": "stdout",
          "text": [
            "speechbrain.utils.checkpoints - Saved an end-of-epoch checkpoint in results/convtasnet/1234/save/CKPT+2025-07-25+02-33-38+00\n",
            "speechbrain.utils.checkpoints - Deleted checkpoint in results/convtasnet/1234/save/CKPT+2025-07-25+02-30-28+00\n",
            "speechbrain.utils.epoch_loop - Going into epoch 105\n",
            "Delta lang loss = 0.2, Delta separate loss = 0.8\n"
          ]
        },
        {
          "output_type": "stream",
          "name": "stderr",
          "text": [
            " 97%|█████████▋| 1210/1250 [02:41<00:04,  8.60it/s, train_loss=-14.5]"
          ]
        },
        {
          "output_type": "stream",
          "name": "stdout",
          "text": [
            "__main__ - infinite loss or empty loss! it happened 1 times so far - skipping this batch\n"
          ]
        },
        {
          "output_type": "stream",
          "name": "stderr",
          "text": [
            "100%|██████████| 1250/1250 [02:47<00:00,  7.48it/s, train_loss=-14.4]\n"
          ]
        },
        {
          "output_type": "stream",
          "name": "stdout",
          "text": [
            "Delta lang loss = 0.2, Delta separate loss = 0.8\n"
          ]
        },
        {
          "output_type": "stream",
          "name": "stderr",
          "text": [
            "100%|██████████| 500/500 [00:21<00:00, 23.67it/s]"
          ]
        },
        {
          "output_type": "stream",
          "name": "stdout",
          "text": [
            "speechbrain.utils.train_logger - epoch: 105, lr: 1.00e-04 - train final_loss: -1.44e+01 - valid final_loss: 3.51e+03, valid Accuracy soft: 0.06689918786287308, valid Accuracy Partial: 0.10400000214576721\n"
          ]
        },
        {
          "output_type": "stream",
          "name": "stderr",
          "text": [
            "\n"
          ]
        },
        {
          "output_type": "stream",
          "name": "stdout",
          "text": [
            "speechbrain.utils.checkpoints - Saved an end-of-epoch checkpoint in results/convtasnet/1234/save/CKPT+2025-07-25+02-36-47+00\n",
            "speechbrain.utils.checkpoints - Deleted checkpoint in results/convtasnet/1234/save/CKPT+2025-07-25+02-33-38+00\n",
            "speechbrain.utils.epoch_loop - Going into epoch 106\n",
            "Delta lang loss = 0.2, Delta separate loss = 0.8\n"
          ]
        },
        {
          "output_type": "stream",
          "name": "stderr",
          "text": [
            " 97%|█████████▋| 1210/1250 [02:35<00:04,  8.48it/s, train_loss=-14.5]"
          ]
        },
        {
          "output_type": "stream",
          "name": "stdout",
          "text": [
            "__main__ - infinite loss or empty loss! it happened 1 times so far - skipping this batch\n"
          ]
        },
        {
          "output_type": "stream",
          "name": "stderr",
          "text": [
            "100%|██████████| 1250/1250 [02:40<00:00,  7.79it/s, train_loss=-14.5]\n"
          ]
        },
        {
          "output_type": "stream",
          "name": "stdout",
          "text": [
            "Delta lang loss = 0.2, Delta separate loss = 0.8\n"
          ]
        },
        {
          "output_type": "stream",
          "name": "stderr",
          "text": [
            "100%|██████████| 500/500 [00:21<00:00, 23.64it/s]\n"
          ]
        },
        {
          "output_type": "stream",
          "name": "stdout",
          "text": [
            "speechbrain.utils.train_logger - epoch: 106, lr: 1.00e-04 - train final_loss: -1.45e+01 - valid final_loss: 2.71e+03, valid Accuracy soft: 0.07672928273677826, valid Accuracy Partial: 0.1340000033378601\n",
            "speechbrain.utils.checkpoints - Saved an end-of-epoch checkpoint in results/convtasnet/1234/save/CKPT+2025-07-25+02-39-49+00\n",
            "speechbrain.utils.checkpoints - Deleted checkpoint in results/convtasnet/1234/save/CKPT+2025-07-25+02-36-47+00\n",
            "speechbrain.utils.epoch_loop - Going into epoch 107\n",
            "Delta lang loss = 0.2, Delta separate loss = 0.8\n"
          ]
        },
        {
          "output_type": "stream",
          "name": "stderr",
          "text": [
            " 97%|█████████▋| 1210/1250 [02:34<00:04,  8.68it/s, train_loss=-14.5]"
          ]
        },
        {
          "output_type": "stream",
          "name": "stdout",
          "text": [
            "__main__ - infinite loss or empty loss! it happened 1 times so far - skipping this batch\n"
          ]
        },
        {
          "output_type": "stream",
          "name": "stderr",
          "text": [
            "100%|██████████| 1250/1250 [02:40<00:00,  7.81it/s, train_loss=-14.5]\n"
          ]
        },
        {
          "output_type": "stream",
          "name": "stdout",
          "text": [
            "Delta lang loss = 0.2, Delta separate loss = 0.8\n"
          ]
        },
        {
          "output_type": "stream",
          "name": "stderr",
          "text": [
            "100%|██████████| 500/500 [00:21<00:00, 23.64it/s]"
          ]
        },
        {
          "output_type": "stream",
          "name": "stdout",
          "text": [
            "speechbrain.utils.train_logger - epoch: 107, lr: 1.00e-04 - train final_loss: -1.45e+01 - valid final_loss: 5.22, valid Accuracy soft: 0.07722479850053787, valid Accuracy Partial: 0.12300000339746475\n"
          ]
        },
        {
          "output_type": "stream",
          "name": "stderr",
          "text": [
            "\n"
          ]
        },
        {
          "output_type": "stream",
          "name": "stdout",
          "text": [
            "speechbrain.utils.checkpoints - Saved an end-of-epoch checkpoint in results/convtasnet/1234/save/CKPT+2025-07-25+02-42-51+00\n",
            "speechbrain.utils.checkpoints - Deleted checkpoint in results/convtasnet/1234/save/CKPT+2025-07-25+02-39-49+00\n",
            "speechbrain.utils.epoch_loop - Going into epoch 108\n",
            "Delta lang loss = 0.2, Delta separate loss = 0.8\n"
          ]
        },
        {
          "output_type": "stream",
          "name": "stderr",
          "text": [
            " 97%|█████████▋| 1210/1250 [02:35<00:04,  8.60it/s, train_loss=-14.5]"
          ]
        },
        {
          "output_type": "stream",
          "name": "stdout",
          "text": [
            "__main__ - infinite loss or empty loss! it happened 1 times so far - skipping this batch\n"
          ]
        },
        {
          "output_type": "stream",
          "name": "stderr",
          "text": [
            "100%|██████████| 1250/1250 [02:40<00:00,  7.79it/s, train_loss=-14.5]\n"
          ]
        },
        {
          "output_type": "stream",
          "name": "stdout",
          "text": [
            "Delta lang loss = 0.2, Delta separate loss = 0.8\n"
          ]
        },
        {
          "output_type": "stream",
          "name": "stderr",
          "text": [
            "100%|██████████| 500/500 [00:21<00:00, 23.47it/s]"
          ]
        },
        {
          "output_type": "stream",
          "name": "stdout",
          "text": [
            "speechbrain.utils.train_logger - epoch: 108, lr: 1.00e-04 - train final_loss: -1.45e+01 - valid final_loss: -7.74e+00, valid Accuracy soft: 0.08752244710922241, valid Accuracy Partial: 0.16300000250339508\n"
          ]
        },
        {
          "output_type": "stream",
          "name": "stderr",
          "text": [
            "\n"
          ]
        },
        {
          "output_type": "stream",
          "name": "stdout",
          "text": [
            "speechbrain.utils.checkpoints - Saved an end-of-epoch checkpoint in results/convtasnet/1234/save/CKPT+2025-07-25+02-45-53+00\n",
            "speechbrain.utils.checkpoints - Deleted checkpoint in results/convtasnet/1234/save/CKPT+2025-07-25+02-42-51+00\n",
            "speechbrain.utils.epoch_loop - Going into epoch 109\n",
            "Delta lang loss = 0.2, Delta separate loss = 0.8\n"
          ]
        },
        {
          "output_type": "stream",
          "name": "stderr",
          "text": [
            " 97%|█████████▋| 1210/1250 [02:35<00:04,  8.59it/s, train_loss=-14.5]"
          ]
        },
        {
          "output_type": "stream",
          "name": "stdout",
          "text": [
            "__main__ - infinite loss or empty loss! it happened 1 times so far - skipping this batch\n"
          ]
        },
        {
          "output_type": "stream",
          "name": "stderr",
          "text": [
            "100%|██████████| 1250/1250 [02:40<00:00,  7.80it/s, train_loss=-14.5]\n"
          ]
        },
        {
          "output_type": "stream",
          "name": "stdout",
          "text": [
            "Delta lang loss = 0.2, Delta separate loss = 0.8\n"
          ]
        },
        {
          "output_type": "stream",
          "name": "stderr",
          "text": [
            "100%|██████████| 500/500 [00:21<00:00, 23.45it/s]\n"
          ]
        },
        {
          "output_type": "stream",
          "name": "stdout",
          "text": [
            "speechbrain.utils.train_logger - epoch: 109, lr: 1.00e-04 - train final_loss: -1.45e+01 - valid final_loss: 4.84, valid Accuracy soft: 0.07971034198999405, valid Accuracy Partial: 0.15800000727176666\n",
            "speechbrain.utils.checkpoints - Saved an end-of-epoch checkpoint in results/convtasnet/1234/save/CKPT+2025-07-25+02-48-56+00\n",
            "speechbrain.utils.checkpoints - Deleted checkpoint in results/convtasnet/1234/save/CKPT+2025-07-25+02-45-53+00\n",
            "speechbrain.utils.epoch_loop - Going into epoch 110\n",
            "Delta lang loss = 0.2, Delta separate loss = 0.8\n"
          ]
        },
        {
          "output_type": "stream",
          "name": "stderr",
          "text": [
            " 97%|█████████▋| 1210/1250 [02:39<00:04,  8.00it/s, train_loss=-14.5]"
          ]
        },
        {
          "output_type": "stream",
          "name": "stdout",
          "text": [
            "__main__ - infinite loss or empty loss! it happened 1 times so far - skipping this batch\n"
          ]
        },
        {
          "output_type": "stream",
          "name": "stderr",
          "text": [
            "100%|██████████| 1250/1250 [02:45<00:00,  7.57it/s, train_loss=-14.5]\n"
          ]
        },
        {
          "output_type": "stream",
          "name": "stdout",
          "text": [
            "Delta lang loss = 0.2, Delta separate loss = 0.8\n"
          ]
        },
        {
          "output_type": "stream",
          "name": "stderr",
          "text": [
            "100%|██████████| 500/500 [00:22<00:00, 22.65it/s]"
          ]
        },
        {
          "output_type": "stream",
          "name": "stdout",
          "text": [
            "speechbrain.utils.train_logger - epoch: 110, lr: 1.00e-04 - train final_loss: -1.45e+01 - valid final_loss: 1.36e+05, valid Accuracy soft: 0.07926224172115326, valid Accuracy Partial: 0.1469999998807907\n"
          ]
        },
        {
          "output_type": "stream",
          "name": "stderr",
          "text": [
            "\n"
          ]
        },
        {
          "output_type": "stream",
          "name": "stdout",
          "text": [
            "speechbrain.utils.checkpoints - Saved an end-of-epoch checkpoint in results/convtasnet/1234/save/CKPT+2025-07-25+02-52-04+00\n",
            "speechbrain.utils.checkpoints - Deleted checkpoint in results/convtasnet/1234/save/CKPT+2025-07-25+02-48-56+00\n",
            "speechbrain.utils.epoch_loop - Going into epoch 111\n",
            "Delta lang loss = 0.2, Delta separate loss = 0.8\n"
          ]
        },
        {
          "output_type": "stream",
          "name": "stderr",
          "text": [
            " 97%|█████████▋| 1210/1250 [02:41<00:04,  8.15it/s, train_loss=-14.5]"
          ]
        },
        {
          "output_type": "stream",
          "name": "stdout",
          "text": [
            "__main__ - infinite loss or empty loss! it happened 1 times so far - skipping this batch\n"
          ]
        },
        {
          "output_type": "stream",
          "name": "stderr",
          "text": [
            "100%|██████████| 1250/1250 [02:47<00:00,  7.48it/s, train_loss=-14.5]\n"
          ]
        },
        {
          "output_type": "stream",
          "name": "stdout",
          "text": [
            "Delta lang loss = 0.2, Delta separate loss = 0.8\n"
          ]
        },
        {
          "output_type": "stream",
          "name": "stderr",
          "text": [
            "100%|██████████| 500/500 [00:22<00:00, 22.70it/s]"
          ]
        },
        {
          "output_type": "stream",
          "name": "stdout",
          "text": [
            "speechbrain.utils.train_logger - epoch: 111, lr: 1.00e-04 - train final_loss: -1.45e+01 - valid final_loss: 1.29e+04, valid Accuracy soft: 0.08536471426486969, valid Accuracy Partial: 0.15600000321865082\n"
          ]
        },
        {
          "output_type": "stream",
          "name": "stderr",
          "text": [
            "\n"
          ]
        },
        {
          "output_type": "stream",
          "name": "stdout",
          "text": [
            "speechbrain.utils.checkpoints - Saved an end-of-epoch checkpoint in results/convtasnet/1234/save/CKPT+2025-07-25+02-55-13+00\n",
            "speechbrain.utils.checkpoints - Deleted checkpoint in results/convtasnet/1234/save/CKPT+2025-07-25+02-52-04+00\n",
            "speechbrain.utils.epoch_loop - Going into epoch 112\n",
            "Delta lang loss = 0.2, Delta separate loss = 0.8\n"
          ]
        },
        {
          "output_type": "stream",
          "name": "stderr",
          "text": [
            " 97%|█████████▋| 1210/1250 [02:41<00:05,  7.87it/s, train_loss=-14.6]"
          ]
        },
        {
          "output_type": "stream",
          "name": "stdout",
          "text": [
            "__main__ - infinite loss or empty loss! it happened 1 times so far - skipping this batch\n"
          ]
        },
        {
          "output_type": "stream",
          "name": "stderr",
          "text": [
            "100%|██████████| 1250/1250 [02:47<00:00,  7.48it/s, train_loss=-14.6]\n"
          ]
        },
        {
          "output_type": "stream",
          "name": "stdout",
          "text": [
            "Delta lang loss = 0.2, Delta separate loss = 0.8\n"
          ]
        },
        {
          "output_type": "stream",
          "name": "stderr",
          "text": [
            "100%|██████████| 500/500 [00:22<00:00, 22.65it/s]"
          ]
        },
        {
          "output_type": "stream",
          "name": "stdout",
          "text": [
            "speechbrain.utils.train_logger - epoch: 112, lr: 1.00e-04 - train final_loss: -1.46e+01 - valid final_loss: 7.01e+02, valid Accuracy soft: 0.0768769234418869, valid Accuracy Partial: 0.1420000046491623\n"
          ]
        },
        {
          "output_type": "stream",
          "name": "stderr",
          "text": [
            "\n"
          ]
        },
        {
          "output_type": "stream",
          "name": "stdout",
          "text": [
            "speechbrain.utils.checkpoints - Saved an end-of-epoch checkpoint in results/convtasnet/1234/save/CKPT+2025-07-25+02-58-23+00\n",
            "speechbrain.utils.checkpoints - Deleted checkpoint in results/convtasnet/1234/save/CKPT+2025-07-25+02-55-13+00\n",
            "speechbrain.utils.epoch_loop - Going into epoch 113\n",
            "Delta lang loss = 0.2, Delta separate loss = 0.8\n"
          ]
        },
        {
          "output_type": "stream",
          "name": "stderr",
          "text": [
            " 97%|█████████▋| 1210/1250 [02:42<00:05,  7.88it/s, train_loss=-14.6]"
          ]
        },
        {
          "output_type": "stream",
          "name": "stdout",
          "text": [
            "__main__ - infinite loss or empty loss! it happened 1 times so far - skipping this batch\n"
          ]
        },
        {
          "output_type": "stream",
          "name": "stderr",
          "text": [
            "100%|██████████| 1250/1250 [02:47<00:00,  7.45it/s, train_loss=-14.5]\n"
          ]
        },
        {
          "output_type": "stream",
          "name": "stdout",
          "text": [
            "Delta lang loss = 0.2, Delta separate loss = 0.8\n"
          ]
        },
        {
          "output_type": "stream",
          "name": "stderr",
          "text": [
            "100%|██████████| 500/500 [00:22<00:00, 22.64it/s]"
          ]
        },
        {
          "output_type": "stream",
          "name": "stdout",
          "text": [
            "speechbrain.utils.train_logger - epoch: 113, lr: 1.00e-04 - train final_loss: -1.45e+01 - valid final_loss: -7.39e+00, valid Accuracy soft: 0.07974660396575928, valid Accuracy Partial: 0.14900000393390656\n"
          ]
        },
        {
          "output_type": "stream",
          "name": "stderr",
          "text": [
            "\n"
          ]
        },
        {
          "output_type": "stream",
          "name": "stdout",
          "text": [
            "speechbrain.utils.checkpoints - Saved an end-of-epoch checkpoint in results/convtasnet/1234/save/CKPT+2025-07-25+03-01-34+00\n",
            "speechbrain.utils.checkpoints - Deleted checkpoint in results/convtasnet/1234/save/CKPT+2025-07-25+02-58-23+00\n",
            "speechbrain.utils.epoch_loop - Going into epoch 114\n",
            "Delta lang loss = 0.2, Delta separate loss = 0.8\n"
          ]
        },
        {
          "output_type": "stream",
          "name": "stderr",
          "text": [
            " 97%|█████████▋| 1210/1250 [02:41<00:04,  8.34it/s, train_loss=-14.6]"
          ]
        },
        {
          "output_type": "stream",
          "name": "stdout",
          "text": [
            "__main__ - infinite loss or empty loss! it happened 1 times so far - skipping this batch\n"
          ]
        },
        {
          "output_type": "stream",
          "name": "stderr",
          "text": [
            "100%|██████████| 1250/1250 [02:46<00:00,  7.50it/s, train_loss=-14.6]\n"
          ]
        },
        {
          "output_type": "stream",
          "name": "stdout",
          "text": [
            "Delta lang loss = 0.2, Delta separate loss = 0.8\n"
          ]
        },
        {
          "output_type": "stream",
          "name": "stderr",
          "text": [
            "100%|██████████| 500/500 [00:22<00:00, 22.67it/s]"
          ]
        },
        {
          "output_type": "stream",
          "name": "stdout",
          "text": [
            "speechbrain.utils.train_logger - epoch: 114, lr: 1.00e-04 - train final_loss: -1.46e+01 - valid final_loss: 2.33e+02, valid Accuracy soft: 0.07034149765968323, valid Accuracy Partial: 0.12600000202655792\n"
          ]
        },
        {
          "output_type": "stream",
          "name": "stderr",
          "text": [
            "\n"
          ]
        },
        {
          "output_type": "stream",
          "name": "stdout",
          "text": [
            "speechbrain.utils.checkpoints - Saved an end-of-epoch checkpoint in results/convtasnet/1234/save/CKPT+2025-07-25+03-04-43+00\n",
            "speechbrain.utils.checkpoints - Deleted checkpoint in results/convtasnet/1234/save/CKPT+2025-07-25+03-01-34+00\n",
            "speechbrain.utils.epoch_loop - Going into epoch 115\n",
            "Delta lang loss = 0.2, Delta separate loss = 0.8\n"
          ]
        },
        {
          "output_type": "stream",
          "name": "stderr",
          "text": [
            " 97%|█████████▋| 1210/1250 [02:41<00:04,  8.20it/s, train_loss=-14.6]"
          ]
        },
        {
          "output_type": "stream",
          "name": "stdout",
          "text": [
            "__main__ - infinite loss or empty loss! it happened 1 times so far - skipping this batch\n"
          ]
        },
        {
          "output_type": "stream",
          "name": "stderr",
          "text": [
            "100%|██████████| 1250/1250 [02:47<00:00,  7.47it/s, train_loss=-14.6]\n"
          ]
        },
        {
          "output_type": "stream",
          "name": "stdout",
          "text": [
            "Delta lang loss = 0.2, Delta separate loss = 0.8\n"
          ]
        },
        {
          "output_type": "stream",
          "name": "stderr",
          "text": [
            "100%|██████████| 500/500 [00:21<00:00, 22.79it/s]"
          ]
        },
        {
          "output_type": "stream",
          "name": "stdout",
          "text": [
            "speechbrain.utils.train_logger - epoch: 115, lr: 1.00e-04 - train final_loss: -1.46e+01 - valid final_loss: -2.39e+00, valid Accuracy soft: 0.08343765139579773, valid Accuracy Partial: 0.1599999964237213\n"
          ]
        },
        {
          "output_type": "stream",
          "name": "stderr",
          "text": [
            "\n"
          ]
        },
        {
          "output_type": "stream",
          "name": "stdout",
          "text": [
            "speechbrain.utils.checkpoints - Saved an end-of-epoch checkpoint in results/convtasnet/1234/save/CKPT+2025-07-25+03-07-53+00\n",
            "speechbrain.utils.checkpoints - Deleted checkpoint in results/convtasnet/1234/save/CKPT+2025-07-25+03-04-43+00\n",
            "speechbrain.utils.epoch_loop - Going into epoch 116\n",
            "Delta lang loss = 0.2, Delta separate loss = 0.8\n"
          ]
        },
        {
          "output_type": "stream",
          "name": "stderr",
          "text": [
            " 97%|█████████▋| 1210/1250 [02:42<00:04,  8.03it/s, train_loss=-14.6]"
          ]
        },
        {
          "output_type": "stream",
          "name": "stdout",
          "text": [
            "__main__ - infinite loss or empty loss! it happened 1 times so far - skipping this batch\n"
          ]
        },
        {
          "output_type": "stream",
          "name": "stderr",
          "text": [
            "100%|██████████| 1250/1250 [02:47<00:00,  7.46it/s, train_loss=-14.6]\n"
          ]
        },
        {
          "output_type": "stream",
          "name": "stdout",
          "text": [
            "Delta lang loss = 0.2, Delta separate loss = 0.8\n"
          ]
        },
        {
          "output_type": "stream",
          "name": "stderr",
          "text": [
            "100%|██████████| 500/500 [00:21<00:00, 22.80it/s]"
          ]
        },
        {
          "output_type": "stream",
          "name": "stdout",
          "text": [
            "speechbrain.utils.train_logger - epoch: 116, lr: 1.00e-04 - train final_loss: -1.46e+01 - valid final_loss: 18.41, valid Accuracy soft: 0.08261159062385559, valid Accuracy Partial: 0.1550000011920929\n"
          ]
        },
        {
          "output_type": "stream",
          "name": "stderr",
          "text": [
            "\n"
          ]
        },
        {
          "output_type": "stream",
          "name": "stdout",
          "text": [
            "speechbrain.utils.checkpoints - Saved an end-of-epoch checkpoint in results/convtasnet/1234/save/CKPT+2025-07-25+03-11-04+00\n",
            "speechbrain.utils.checkpoints - Deleted checkpoint in results/convtasnet/1234/save/CKPT+2025-07-25+03-07-53+00\n",
            "speechbrain.utils.epoch_loop - Going into epoch 117\n",
            "Delta lang loss = 0.2, Delta separate loss = 0.8\n"
          ]
        },
        {
          "output_type": "stream",
          "name": "stderr",
          "text": [
            " 97%|█████████▋| 1210/1250 [02:41<00:04,  8.33it/s, train_loss=-14.6]"
          ]
        },
        {
          "output_type": "stream",
          "name": "stdout",
          "text": [
            "__main__ - infinite loss or empty loss! it happened 1 times so far - skipping this batch\n"
          ]
        },
        {
          "output_type": "stream",
          "name": "stderr",
          "text": [
            "100%|██████████| 1250/1250 [02:46<00:00,  7.49it/s, train_loss=-14.6]\n"
          ]
        },
        {
          "output_type": "stream",
          "name": "stdout",
          "text": [
            "Delta lang loss = 0.2, Delta separate loss = 0.8\n"
          ]
        },
        {
          "output_type": "stream",
          "name": "stderr",
          "text": [
            "100%|██████████| 500/500 [00:22<00:00, 22.57it/s]"
          ]
        },
        {
          "output_type": "stream",
          "name": "stdout",
          "text": [
            "speechbrain.utils.train_logger - epoch: 117, lr: 1.00e-04 - train final_loss: -1.46e+01 - valid final_loss: -8.35e+00, valid Accuracy soft: 0.07903716713190079, valid Accuracy Partial: 0.13300000131130219\n"
          ]
        },
        {
          "output_type": "stream",
          "name": "stderr",
          "text": [
            "\n"
          ]
        },
        {
          "output_type": "stream",
          "name": "stdout",
          "text": [
            "speechbrain.utils.checkpoints - Saved an end-of-epoch checkpoint in results/convtasnet/1234/save/CKPT+2025-07-25+03-14-13+00\n",
            "speechbrain.utils.checkpoints - Deleted checkpoint in results/convtasnet/1234/save/CKPT+2025-07-25+03-11-04+00\n",
            "speechbrain.utils.epoch_loop - Going into epoch 118\n",
            "Delta lang loss = 0.2, Delta separate loss = 0.8\n"
          ]
        },
        {
          "output_type": "stream",
          "name": "stderr",
          "text": [
            " 97%|█████████▋| 1210/1250 [02:41<00:04,  8.11it/s, train_loss=-14.6]"
          ]
        },
        {
          "output_type": "stream",
          "name": "stdout",
          "text": [
            "__main__ - infinite loss or empty loss! it happened 1 times so far - skipping this batch\n"
          ]
        },
        {
          "output_type": "stream",
          "name": "stderr",
          "text": [
            "100%|██████████| 1250/1250 [02:46<00:00,  7.50it/s, train_loss=-14.6]\n"
          ]
        },
        {
          "output_type": "stream",
          "name": "stdout",
          "text": [
            "Delta lang loss = 0.2, Delta separate loss = 0.8\n"
          ]
        },
        {
          "output_type": "stream",
          "name": "stderr",
          "text": [
            "100%|██████████| 500/500 [00:22<00:00, 22.68it/s]"
          ]
        },
        {
          "output_type": "stream",
          "name": "stdout",
          "text": [
            "speechbrain.utils.train_logger - epoch: 118, lr: 1.00e-04 - train final_loss: -1.46e+01 - valid final_loss: -6.35e+00, valid Accuracy soft: 0.08070876449346542, valid Accuracy Partial: 0.14900000393390656\n"
          ]
        },
        {
          "output_type": "stream",
          "name": "stderr",
          "text": [
            "\n"
          ]
        },
        {
          "output_type": "stream",
          "name": "stdout",
          "text": [
            "speechbrain.utils.checkpoints - Saved an end-of-epoch checkpoint in results/convtasnet/1234/save/CKPT+2025-07-25+03-17-23+00\n",
            "speechbrain.utils.checkpoints - Deleted checkpoint in results/convtasnet/1234/save/CKPT+2025-07-25+03-14-13+00\n",
            "speechbrain.utils.epoch_loop - Going into epoch 119\n",
            "Delta lang loss = 0.2, Delta separate loss = 0.8\n"
          ]
        },
        {
          "output_type": "stream",
          "name": "stderr",
          "text": [
            " 97%|█████████▋| 1210/1250 [02:42<00:04,  8.08it/s, train_loss=-14.6]"
          ]
        },
        {
          "output_type": "stream",
          "name": "stdout",
          "text": [
            "__main__ - infinite loss or empty loss! it happened 1 times so far - skipping this batch\n"
          ]
        },
        {
          "output_type": "stream",
          "name": "stderr",
          "text": [
            "100%|██████████| 1250/1250 [02:47<00:00,  7.46it/s, train_loss=-14.6]\n"
          ]
        },
        {
          "output_type": "stream",
          "name": "stdout",
          "text": [
            "Delta lang loss = 0.2, Delta separate loss = 0.8\n"
          ]
        },
        {
          "output_type": "stream",
          "name": "stderr",
          "text": [
            "100%|██████████| 500/500 [00:22<00:00, 22.68it/s]"
          ]
        },
        {
          "output_type": "stream",
          "name": "stdout",
          "text": [
            "speechbrain.utils.train_logger - epoch: 119, lr: 1.00e-04 - train final_loss: -1.46e+01 - valid final_loss: -8.19e+00, valid Accuracy soft: 0.08308444172143936, valid Accuracy Partial: 0.164000004529953\n"
          ]
        },
        {
          "output_type": "stream",
          "name": "stderr",
          "text": [
            "\n"
          ]
        },
        {
          "output_type": "stream",
          "name": "stdout",
          "text": [
            "speechbrain.utils.checkpoints - Saved an end-of-epoch checkpoint in results/convtasnet/1234/save/CKPT+2025-07-25+03-20-33+00\n",
            "speechbrain.utils.checkpoints - Deleted checkpoint in results/convtasnet/1234/save/CKPT+2025-07-25+03-17-23+00\n",
            "speechbrain.utils.epoch_loop - Going into epoch 120\n",
            "Delta lang loss = 0.2, Delta separate loss = 0.8\n"
          ]
        },
        {
          "output_type": "stream",
          "name": "stderr",
          "text": [
            " 97%|█████████▋| 1210/1250 [02:41<00:04,  8.11it/s, train_loss=-14.6]"
          ]
        },
        {
          "output_type": "stream",
          "name": "stdout",
          "text": [
            "__main__ - infinite loss or empty loss! it happened 1 times so far - skipping this batch\n"
          ]
        },
        {
          "output_type": "stream",
          "name": "stderr",
          "text": [
            "100%|██████████| 1250/1250 [02:46<00:00,  7.49it/s, train_loss=-14.6]\n"
          ]
        },
        {
          "output_type": "stream",
          "name": "stdout",
          "text": [
            "__main__ - Removed file /content/drive/MyDrive/Project/results_100\n",
            "__main__ - Saved file succesfully\n",
            "Delta lang loss = 0.2, Delta separate loss = 0.8\n"
          ]
        },
        {
          "output_type": "stream",
          "name": "stderr",
          "text": [
            "100%|██████████| 500/500 [00:22<00:00, 22.53it/s]"
          ]
        },
        {
          "output_type": "stream",
          "name": "stdout",
          "text": [
            "speechbrain.utils.train_logger - epoch: 120, lr: 1.00e-04 - train final_loss: -1.46e+01 - valid final_loss: 2.60, valid Accuracy soft: 0.08829654008150101, valid Accuracy Partial: 0.16200000047683716\n"
          ]
        },
        {
          "output_type": "stream",
          "name": "stderr",
          "text": [
            "\n"
          ]
        },
        {
          "output_type": "stream",
          "name": "stdout",
          "text": [
            "speechbrain.utils.checkpoints - Saved an end-of-epoch checkpoint in results/convtasnet/1234/save/CKPT+2025-07-25+03-23-44+00\n",
            "speechbrain.utils.checkpoints - Deleted checkpoint in results/convtasnet/1234/save/CKPT+2025-07-25+03-20-33+00\n",
            "speechbrain.utils.epoch_loop - Going into epoch 121\n",
            "Delta lang loss = 0.2, Delta separate loss = 0.8\n"
          ]
        },
        {
          "output_type": "stream",
          "name": "stderr",
          "text": [
            " 97%|█████████▋| 1210/1250 [02:42<00:04,  8.16it/s, train_loss=-14.6]"
          ]
        },
        {
          "output_type": "stream",
          "name": "stdout",
          "text": [
            "__main__ - infinite loss or empty loss! it happened 1 times so far - skipping this batch\n"
          ]
        },
        {
          "output_type": "stream",
          "name": "stderr",
          "text": [
            "100%|██████████| 1250/1250 [02:47<00:00,  7.44it/s, train_loss=-14.6]\n"
          ]
        },
        {
          "output_type": "stream",
          "name": "stdout",
          "text": [
            "Delta lang loss = 0.2, Delta separate loss = 0.8\n"
          ]
        },
        {
          "output_type": "stream",
          "name": "stderr",
          "text": [
            "100%|██████████| 500/500 [00:22<00:00, 22.69it/s]"
          ]
        },
        {
          "output_type": "stream",
          "name": "stdout",
          "text": [
            "speechbrain.utils.train_logger - epoch: 121, lr: 1.00e-04 - train final_loss: -1.46e+01 - valid final_loss: -8.22e+00, valid Accuracy soft: 0.08486942201852798, valid Accuracy Partial: 0.15000000596046448\n"
          ]
        },
        {
          "output_type": "stream",
          "name": "stderr",
          "text": [
            "\n"
          ]
        },
        {
          "output_type": "stream",
          "name": "stdout",
          "text": [
            "speechbrain.utils.checkpoints - Saved an end-of-epoch checkpoint in results/convtasnet/1234/save/CKPT+2025-07-25+03-26-55+00\n",
            "speechbrain.utils.checkpoints - Deleted checkpoint in results/convtasnet/1234/save/CKPT+2025-07-25+03-23-44+00\n",
            "speechbrain.utils.epoch_loop - Going into epoch 122\n",
            "Delta lang loss = 0.2, Delta separate loss = 0.8\n"
          ]
        },
        {
          "output_type": "stream",
          "name": "stderr",
          "text": [
            " 97%|█████████▋| 1210/1250 [02:41<00:04,  8.39it/s, train_loss=-14.7]"
          ]
        },
        {
          "output_type": "stream",
          "name": "stdout",
          "text": [
            "__main__ - infinite loss or empty loss! it happened 1 times so far - skipping this batch\n"
          ]
        },
        {
          "output_type": "stream",
          "name": "stderr",
          "text": [
            "100%|██████████| 1250/1250 [02:46<00:00,  7.49it/s, train_loss=-14.7]\n"
          ]
        },
        {
          "output_type": "stream",
          "name": "stdout",
          "text": [
            "Delta lang loss = 0.2, Delta separate loss = 0.8\n"
          ]
        },
        {
          "output_type": "stream",
          "name": "stderr",
          "text": [
            "100%|██████████| 500/500 [00:21<00:00, 22.86it/s]"
          ]
        },
        {
          "output_type": "stream",
          "name": "stdout",
          "text": [
            "speechbrain.utils.train_logger - epoch: 122, lr: 1.00e-04 - train final_loss: -1.47e+01 - valid final_loss: -7.40e+00, valid Accuracy soft: 0.08515442162752151, valid Accuracy Partial: 0.14300000667572021\n"
          ]
        },
        {
          "output_type": "stream",
          "name": "stderr",
          "text": [
            "\n"
          ]
        },
        {
          "output_type": "stream",
          "name": "stdout",
          "text": [
            "speechbrain.utils.checkpoints - Saved an end-of-epoch checkpoint in results/convtasnet/1234/save/CKPT+2025-07-25+03-30-04+00\n",
            "speechbrain.utils.checkpoints - Deleted checkpoint in results/convtasnet/1234/save/CKPT+2025-07-25+03-26-55+00\n",
            "speechbrain.utils.epoch_loop - Going into epoch 123\n",
            "Delta lang loss = 0.2, Delta separate loss = 0.8\n"
          ]
        },
        {
          "output_type": "stream",
          "name": "stderr",
          "text": [
            " 97%|█████████▋| 1210/1250 [02:41<00:04,  8.19it/s, train_loss=-14.7]"
          ]
        },
        {
          "output_type": "stream",
          "name": "stdout",
          "text": [
            "__main__ - infinite loss or empty loss! it happened 1 times so far - skipping this batch\n"
          ]
        },
        {
          "output_type": "stream",
          "name": "stderr",
          "text": [
            "100%|██████████| 1250/1250 [02:47<00:00,  7.48it/s, train_loss=-14.6]\n"
          ]
        },
        {
          "output_type": "stream",
          "name": "stdout",
          "text": [
            "Delta lang loss = 0.2, Delta separate loss = 0.8\n"
          ]
        },
        {
          "output_type": "stream",
          "name": "stderr",
          "text": [
            "100%|██████████| 500/500 [00:22<00:00, 22.63it/s]"
          ]
        },
        {
          "output_type": "stream",
          "name": "stdout",
          "text": [
            "speechbrain.utils.train_logger - epoch: 123, lr: 1.00e-04 - train final_loss: -1.46e+01 - valid final_loss: -8.16e+00, valid Accuracy soft: 0.08709459751844406, valid Accuracy Partial: 0.15800000727176666\n"
          ]
        },
        {
          "output_type": "stream",
          "name": "stderr",
          "text": [
            "\n"
          ]
        },
        {
          "output_type": "stream",
          "name": "stdout",
          "text": [
            "speechbrain.utils.checkpoints - Saved an end-of-epoch checkpoint in results/convtasnet/1234/save/CKPT+2025-07-25+03-33-14+00\n",
            "speechbrain.utils.checkpoints - Deleted checkpoint in results/convtasnet/1234/save/CKPT+2025-07-25+03-30-04+00\n",
            "speechbrain.utils.epoch_loop - Going into epoch 124\n",
            "Delta lang loss = 0.2, Delta separate loss = 0.8\n"
          ]
        },
        {
          "output_type": "stream",
          "name": "stderr",
          "text": [
            " 97%|█████████▋| 1210/1250 [02:39<00:04,  8.62it/s, train_loss=-14.7]"
          ]
        },
        {
          "output_type": "stream",
          "name": "stdout",
          "text": [
            "__main__ - infinite loss or empty loss! it happened 1 times so far - skipping this batch\n"
          ]
        },
        {
          "output_type": "stream",
          "name": "stderr",
          "text": [
            "100%|██████████| 1250/1250 [02:45<00:00,  7.57it/s, train_loss=-14.7]\n"
          ]
        },
        {
          "output_type": "stream",
          "name": "stdout",
          "text": [
            "Delta lang loss = 0.2, Delta separate loss = 0.8\n"
          ]
        },
        {
          "output_type": "stream",
          "name": "stderr",
          "text": [
            "100%|██████████| 500/500 [00:21<00:00, 23.58it/s]"
          ]
        },
        {
          "output_type": "stream",
          "name": "stdout",
          "text": [
            "speechbrain.utils.train_logger - epoch: 124, lr: 1.00e-04 - train final_loss: -1.47e+01 - valid final_loss: -7.06e+00, valid Accuracy soft: 0.08105184137821198, valid Accuracy Partial: 0.1550000011920929\n"
          ]
        },
        {
          "output_type": "stream",
          "name": "stderr",
          "text": [
            "\n"
          ]
        },
        {
          "output_type": "stream",
          "name": "stdout",
          "text": [
            "speechbrain.utils.checkpoints - Saved an end-of-epoch checkpoint in results/convtasnet/1234/save/CKPT+2025-07-25+03-36-21+00\n",
            "speechbrain.utils.checkpoints - Deleted checkpoint in results/convtasnet/1234/save/CKPT+2025-07-25+03-33-14+00\n",
            "speechbrain.utils.epoch_loop - Going into epoch 125\n",
            "Delta lang loss = 0.2, Delta separate loss = 0.8\n"
          ]
        },
        {
          "output_type": "stream",
          "name": "stderr",
          "text": [
            " 97%|█████████▋| 1210/1250 [02:34<00:04,  8.58it/s, train_loss=-14.7]"
          ]
        },
        {
          "output_type": "stream",
          "name": "stdout",
          "text": [
            "__main__ - infinite loss or empty loss! it happened 1 times so far - skipping this batch\n"
          ]
        },
        {
          "output_type": "stream",
          "name": "stderr",
          "text": [
            "100%|██████████| 1250/1250 [02:39<00:00,  7.83it/s, train_loss=-14.7]\n"
          ]
        },
        {
          "output_type": "stream",
          "name": "stdout",
          "text": [
            "Delta lang loss = 0.2, Delta separate loss = 0.8\n"
          ]
        },
        {
          "output_type": "stream",
          "name": "stderr",
          "text": [
            "100%|██████████| 500/500 [00:21<00:00, 23.45it/s]"
          ]
        },
        {
          "output_type": "stream",
          "name": "stdout",
          "text": [
            "speechbrain.utils.train_logger - epoch: 125, lr: 1.00e-04 - train final_loss: -1.47e+01 - valid final_loss: 45.71, valid Accuracy soft: 0.08057085424661636, valid Accuracy Partial: 0.14300000667572021\n"
          ]
        },
        {
          "output_type": "stream",
          "name": "stderr",
          "text": [
            "\n"
          ]
        },
        {
          "output_type": "stream",
          "name": "stdout",
          "text": [
            "speechbrain.utils.checkpoints - Saved an end-of-epoch checkpoint in results/convtasnet/1234/save/CKPT+2025-07-25+03-39-23+00\n",
            "speechbrain.utils.checkpoints - Deleted checkpoint in results/convtasnet/1234/save/CKPT+2025-07-25+03-36-21+00\n",
            "speechbrain.utils.epoch_loop - Going into epoch 126\n",
            "Delta lang loss = 0.2, Delta separate loss = 0.8\n"
          ]
        },
        {
          "output_type": "stream",
          "name": "stderr",
          "text": [
            " 97%|█████████▋| 1210/1250 [02:35<00:04,  8.49it/s, train_loss=-14.7]"
          ]
        },
        {
          "output_type": "stream",
          "name": "stdout",
          "text": [
            "__main__ - infinite loss or empty loss! it happened 1 times so far - skipping this batch\n"
          ]
        },
        {
          "output_type": "stream",
          "name": "stderr",
          "text": [
            "100%|██████████| 1250/1250 [02:41<00:00,  7.76it/s, train_loss=-14.7]\n"
          ]
        },
        {
          "output_type": "stream",
          "name": "stdout",
          "text": [
            "Delta lang loss = 0.2, Delta separate loss = 0.8\n"
          ]
        },
        {
          "output_type": "stream",
          "name": "stderr",
          "text": [
            "100%|██████████| 500/500 [00:21<00:00, 23.33it/s]"
          ]
        },
        {
          "output_type": "stream",
          "name": "stdout",
          "text": [
            "speechbrain.utils.train_logger - epoch: 126, lr: 1.00e-04 - train final_loss: -1.47e+01 - valid final_loss: 18.22, valid Accuracy soft: 0.07950038462877274, valid Accuracy Partial: 0.13699999451637268\n"
          ]
        },
        {
          "output_type": "stream",
          "name": "stderr",
          "text": [
            "\n"
          ]
        },
        {
          "output_type": "stream",
          "name": "stdout",
          "text": [
            "speechbrain.utils.checkpoints - Saved an end-of-epoch checkpoint in results/convtasnet/1234/save/CKPT+2025-07-25+03-42-27+00\n",
            "speechbrain.utils.checkpoints - Deleted checkpoint in results/convtasnet/1234/save/CKPT+2025-07-25+03-39-23+00\n",
            "speechbrain.utils.epoch_loop - Going into epoch 127\n",
            "Delta lang loss = 0.2, Delta separate loss = 0.8\n"
          ]
        },
        {
          "output_type": "stream",
          "name": "stderr",
          "text": [
            " 97%|█████████▋| 1210/1250 [02:36<00:04,  8.40it/s, train_loss=-14.7]"
          ]
        },
        {
          "output_type": "stream",
          "name": "stdout",
          "text": [
            "__main__ - infinite loss or empty loss! it happened 1 times so far - skipping this batch\n"
          ]
        },
        {
          "output_type": "stream",
          "name": "stderr",
          "text": [
            "100%|██████████| 1250/1250 [02:41<00:00,  7.74it/s, train_loss=-14.7]\n"
          ]
        },
        {
          "output_type": "stream",
          "name": "stdout",
          "text": [
            "Delta lang loss = 0.2, Delta separate loss = 0.8\n"
          ]
        },
        {
          "output_type": "stream",
          "name": "stderr",
          "text": [
            "100%|██████████| 500/500 [00:22<00:00, 22.72it/s]"
          ]
        },
        {
          "output_type": "stream",
          "name": "stdout",
          "text": [
            "speechbrain.utils.train_logger - epoch: 127, lr: 1.00e-04 - train final_loss: -1.47e+01 - valid final_loss: -7.59e+00, valid Accuracy soft: 0.09016568958759308, valid Accuracy Partial: 0.16699999570846558\n"
          ]
        },
        {
          "output_type": "stream",
          "name": "stderr",
          "text": [
            "\n"
          ]
        },
        {
          "output_type": "stream",
          "name": "stdout",
          "text": [
            "speechbrain.utils.checkpoints - Saved an end-of-epoch checkpoint in results/convtasnet/1234/save/CKPT+2025-07-25+03-45-31+00\n",
            "speechbrain.utils.checkpoints - Deleted checkpoint in results/convtasnet/1234/save/CKPT+2025-07-25+03-42-27+00\n",
            "speechbrain.utils.epoch_loop - Going into epoch 128\n",
            "Delta lang loss = 0.2, Delta separate loss = 0.8\n"
          ]
        },
        {
          "output_type": "stream",
          "name": "stderr",
          "text": [
            " 97%|█████████▋| 1210/1250 [02:36<00:04,  8.54it/s, train_loss=-14.7]"
          ]
        },
        {
          "output_type": "stream",
          "name": "stdout",
          "text": [
            "__main__ - infinite loss or empty loss! it happened 1 times so far - skipping this batch\n"
          ]
        },
        {
          "output_type": "stream",
          "name": "stderr",
          "text": [
            "100%|██████████| 1250/1250 [02:42<00:00,  7.71it/s, train_loss=-14.7]\n"
          ]
        },
        {
          "output_type": "stream",
          "name": "stdout",
          "text": [
            "Delta lang loss = 0.2, Delta separate loss = 0.8\n"
          ]
        },
        {
          "output_type": "stream",
          "name": "stderr",
          "text": [
            "100%|██████████| 500/500 [00:21<00:00, 23.50it/s]"
          ]
        },
        {
          "output_type": "stream",
          "name": "stdout",
          "text": [
            "speechbrain.utils.train_logger - epoch: 128, lr: 1.00e-04 - train final_loss: -1.47e+01 - valid final_loss: 37.34, valid Accuracy soft: 0.08306998014450073, valid Accuracy Partial: 0.15299999713897705\n"
          ]
        },
        {
          "output_type": "stream",
          "name": "stderr",
          "text": [
            "\n"
          ]
        },
        {
          "output_type": "stream",
          "name": "stdout",
          "text": [
            "speechbrain.utils.checkpoints - Saved an end-of-epoch checkpoint in results/convtasnet/1234/save/CKPT+2025-07-25+03-48-35+00\n",
            "speechbrain.utils.checkpoints - Deleted checkpoint in results/convtasnet/1234/save/CKPT+2025-07-25+03-45-31+00\n",
            "speechbrain.utils.epoch_loop - Going into epoch 129\n",
            "Delta lang loss = 0.2, Delta separate loss = 0.8\n"
          ]
        },
        {
          "output_type": "stream",
          "name": "stderr",
          "text": [
            " 97%|█████████▋| 1210/1250 [02:39<00:05,  7.96it/s, train_loss=-14.7]"
          ]
        },
        {
          "output_type": "stream",
          "name": "stdout",
          "text": [
            "__main__ - infinite loss or empty loss! it happened 1 times so far - skipping this batch\n"
          ]
        },
        {
          "output_type": "stream",
          "name": "stderr",
          "text": [
            "100%|██████████| 1250/1250 [02:44<00:00,  7.60it/s, train_loss=-14.7]\n"
          ]
        },
        {
          "output_type": "stream",
          "name": "stdout",
          "text": [
            "Delta lang loss = 0.2, Delta separate loss = 0.8\n"
          ]
        },
        {
          "output_type": "stream",
          "name": "stderr",
          "text": [
            "100%|██████████| 500/500 [00:22<00:00, 22.68it/s]"
          ]
        },
        {
          "output_type": "stream",
          "name": "stdout",
          "text": [
            "speechbrain.utils.train_logger - epoch: 129, lr: 1.00e-04 - train final_loss: -1.47e+01 - valid final_loss: -8.28e+00, valid Accuracy soft: 0.08598071336746216, valid Accuracy Partial: 0.15399999916553497\n"
          ]
        },
        {
          "output_type": "stream",
          "name": "stderr",
          "text": [
            "\n"
          ]
        },
        {
          "output_type": "stream",
          "name": "stdout",
          "text": [
            "speechbrain.utils.checkpoints - Saved an end-of-epoch checkpoint in results/convtasnet/1234/save/CKPT+2025-07-25+03-51-42+00\n",
            "speechbrain.utils.checkpoints - Deleted checkpoint in results/convtasnet/1234/save/CKPT+2025-07-25+03-48-35+00\n",
            "speechbrain.utils.epoch_loop - Going into epoch 130\n",
            "Delta lang loss = 0.2, Delta separate loss = 0.8\n"
          ]
        },
        {
          "output_type": "stream",
          "name": "stderr",
          "text": [
            " 97%|█████████▋| 1210/1250 [02:42<00:04,  8.07it/s, train_loss=-14.7]"
          ]
        },
        {
          "output_type": "stream",
          "name": "stdout",
          "text": [
            "__main__ - infinite loss or empty loss! it happened 1 times so far - skipping this batch\n"
          ]
        },
        {
          "output_type": "stream",
          "name": "stderr",
          "text": [
            "100%|██████████| 1250/1250 [02:48<00:00,  7.43it/s, train_loss=-14.7]\n"
          ]
        },
        {
          "output_type": "stream",
          "name": "stdout",
          "text": [
            "Delta lang loss = 0.2, Delta separate loss = 0.8\n"
          ]
        },
        {
          "output_type": "stream",
          "name": "stderr",
          "text": [
            "100%|██████████| 500/500 [00:22<00:00, 22.61it/s]"
          ]
        },
        {
          "output_type": "stream",
          "name": "stdout",
          "text": [
            "speechbrain.utils.train_logger - epoch: 130, lr: 1.00e-04 - train final_loss: -1.47e+01 - valid final_loss: -2.27e-01, valid Accuracy soft: 0.08429794758558273, valid Accuracy Partial: 0.16699999570846558\n"
          ]
        },
        {
          "output_type": "stream",
          "name": "stderr",
          "text": [
            "\n"
          ]
        },
        {
          "output_type": "stream",
          "name": "stdout",
          "text": [
            "speechbrain.utils.checkpoints - Saved an end-of-epoch checkpoint in results/convtasnet/1234/save/CKPT+2025-07-25+03-54-53+00\n",
            "speechbrain.utils.checkpoints - Deleted checkpoint in results/convtasnet/1234/save/CKPT+2025-07-25+03-51-42+00\n",
            "speechbrain.utils.epoch_loop - Going into epoch 131\n",
            "Delta lang loss = 0.2, Delta separate loss = 0.8\n"
          ]
        },
        {
          "output_type": "stream",
          "name": "stderr",
          "text": [
            " 97%|█████████▋| 1210/1250 [02:42<00:04,  8.08it/s, train_loss=-14.7]"
          ]
        },
        {
          "output_type": "stream",
          "name": "stdout",
          "text": [
            "__main__ - infinite loss or empty loss! it happened 1 times so far - skipping this batch\n"
          ]
        },
        {
          "output_type": "stream",
          "name": "stderr",
          "text": [
            "100%|██████████| 1250/1250 [02:47<00:00,  7.46it/s, train_loss=-14.7]\n"
          ]
        },
        {
          "output_type": "stream",
          "name": "stdout",
          "text": [
            "Delta lang loss = 0.2, Delta separate loss = 0.8\n"
          ]
        },
        {
          "output_type": "stream",
          "name": "stderr",
          "text": [
            "100%|██████████| 500/500 [00:22<00:00, 22.44it/s]"
          ]
        },
        {
          "output_type": "stream",
          "name": "stdout",
          "text": [
            "speechbrain.utils.train_logger - epoch: 131, lr: 1.00e-04 - train final_loss: -1.47e+01 - valid final_loss: -2.63e+00, valid Accuracy soft: 0.08491704612970352, valid Accuracy Partial: 0.15700000524520874\n"
          ]
        },
        {
          "output_type": "stream",
          "name": "stderr",
          "text": [
            "\n"
          ]
        },
        {
          "output_type": "stream",
          "name": "stdout",
          "text": [
            "speechbrain.utils.checkpoints - Saved an end-of-epoch checkpoint in results/convtasnet/1234/save/CKPT+2025-07-25+03-58-04+00\n",
            "speechbrain.utils.checkpoints - Deleted checkpoint in results/convtasnet/1234/save/CKPT+2025-07-25+03-54-53+00\n",
            "speechbrain.utils.epoch_loop - Going into epoch 132\n",
            "Delta lang loss = 0.2, Delta separate loss = 0.8\n"
          ]
        },
        {
          "output_type": "stream",
          "name": "stderr",
          "text": [
            " 97%|█████████▋| 1210/1250 [02:41<00:05,  7.95it/s, train_loss=-14.8]"
          ]
        },
        {
          "output_type": "stream",
          "name": "stdout",
          "text": [
            "__main__ - infinite loss or empty loss! it happened 1 times so far - skipping this batch\n"
          ]
        },
        {
          "output_type": "stream",
          "name": "stderr",
          "text": [
            "100%|██████████| 1250/1250 [02:47<00:00,  7.48it/s, train_loss=-14.8]\n"
          ]
        },
        {
          "output_type": "stream",
          "name": "stdout",
          "text": [
            "Delta lang loss = 0.2, Delta separate loss = 0.8\n"
          ]
        },
        {
          "output_type": "stream",
          "name": "stderr",
          "text": [
            "100%|██████████| 500/500 [00:21<00:00, 22.79it/s]"
          ]
        },
        {
          "output_type": "stream",
          "name": "stdout",
          "text": [
            "speechbrain.utils.train_logger - epoch: 132, lr: 1.00e-04 - train final_loss: -1.48e+01 - valid final_loss: 2.25, valid Accuracy soft: 0.07504624873399734, valid Accuracy Partial: 0.12300000339746475\n"
          ]
        },
        {
          "output_type": "stream",
          "name": "stderr",
          "text": [
            "\n"
          ]
        },
        {
          "output_type": "stream",
          "name": "stdout",
          "text": [
            "speechbrain.utils.checkpoints - Saved an end-of-epoch checkpoint in results/convtasnet/1234/save/CKPT+2025-07-25+04-01-14+00\n",
            "speechbrain.utils.checkpoints - Deleted checkpoint in results/convtasnet/1234/save/CKPT+2025-07-25+03-58-04+00\n",
            "speechbrain.utils.epoch_loop - Going into epoch 133\n",
            "Delta lang loss = 0.2, Delta separate loss = 0.8\n"
          ]
        },
        {
          "output_type": "stream",
          "name": "stderr",
          "text": [
            "100%|██████████| 1250/1250 [02:48<00:00,  7.42it/s, train_loss=-14.8]\n"
          ]
        },
        {
          "output_type": "stream",
          "name": "stdout",
          "text": [
            "Delta lang loss = 0.2, Delta separate loss = 0.8\n"
          ]
        },
        {
          "output_type": "stream",
          "name": "stderr",
          "text": [
            "100%|██████████| 500/500 [00:21<00:00, 22.75it/s]"
          ]
        },
        {
          "output_type": "stream",
          "name": "stdout",
          "text": [
            "speechbrain.utils.train_logger - epoch: 133, lr: 1.00e-04 - train final_loss: -1.48e+01 - valid final_loss: -7.56e+00, valid Accuracy soft: 0.08450610935688019, valid Accuracy Partial: 0.15299999713897705\n"
          ]
        },
        {
          "output_type": "stream",
          "name": "stderr",
          "text": [
            "\n"
          ]
        },
        {
          "output_type": "stream",
          "name": "stdout",
          "text": [
            "speechbrain.utils.checkpoints - Saved an end-of-epoch checkpoint in results/convtasnet/1234/save/CKPT+2025-07-25+04-04-25+00\n",
            "speechbrain.utils.checkpoints - Deleted checkpoint in results/convtasnet/1234/save/CKPT+2025-07-25+04-01-14+00\n",
            "speechbrain.utils.epoch_loop - Going into epoch 134\n",
            "Delta lang loss = 0.2, Delta separate loss = 0.8\n"
          ]
        },
        {
          "output_type": "stream",
          "name": "stderr",
          "text": [
            " 97%|█████████▋| 1210/1250 [02:41<00:04,  8.03it/s, train_loss=-14.8]"
          ]
        },
        {
          "output_type": "stream",
          "name": "stdout",
          "text": [
            "__main__ - infinite loss or empty loss! it happened 1 times so far - skipping this batch\n"
          ]
        },
        {
          "output_type": "stream",
          "name": "stderr",
          "text": [
            "100%|██████████| 1250/1250 [02:47<00:00,  7.47it/s, train_loss=-14.8]\n"
          ]
        },
        {
          "output_type": "stream",
          "name": "stdout",
          "text": [
            "Delta lang loss = 0.2, Delta separate loss = 0.8\n"
          ]
        },
        {
          "output_type": "stream",
          "name": "stderr",
          "text": [
            "100%|██████████| 500/500 [00:22<00:00, 22.57it/s]"
          ]
        },
        {
          "output_type": "stream",
          "name": "stdout",
          "text": [
            "speechbrain.utils.train_logger - epoch: 134, lr: 1.00e-04 - train final_loss: -1.48e+01 - valid final_loss: -4.03e+00, valid Accuracy soft: 0.0843757763504982, valid Accuracy Partial: 0.15299999713897705\n"
          ]
        },
        {
          "output_type": "stream",
          "name": "stderr",
          "text": [
            "\n"
          ]
        },
        {
          "output_type": "stream",
          "name": "stdout",
          "text": [
            "speechbrain.utils.checkpoints - Saved an end-of-epoch checkpoint in results/convtasnet/1234/save/CKPT+2025-07-25+04-07-35+00\n",
            "speechbrain.utils.checkpoints - Deleted checkpoint in results/convtasnet/1234/save/CKPT+2025-07-25+04-04-25+00\n",
            "speechbrain.utils.epoch_loop - Going into epoch 135\n",
            "Delta lang loss = 0.2, Delta separate loss = 0.8\n"
          ]
        },
        {
          "output_type": "stream",
          "name": "stderr",
          "text": [
            " 97%|█████████▋| 1210/1250 [02:42<00:04,  8.17it/s, train_loss=-14.8]"
          ]
        },
        {
          "output_type": "stream",
          "name": "stdout",
          "text": [
            "__main__ - infinite loss or empty loss! it happened 1 times so far - skipping this batch\n"
          ]
        },
        {
          "output_type": "stream",
          "name": "stderr",
          "text": [
            "100%|██████████| 1250/1250 [02:47<00:00,  7.46it/s, train_loss=-14.8]\n"
          ]
        },
        {
          "output_type": "stream",
          "name": "stdout",
          "text": [
            "Delta lang loss = 0.2, Delta separate loss = 0.8\n"
          ]
        },
        {
          "output_type": "stream",
          "name": "stderr",
          "text": [
            "100%|██████████| 500/500 [00:22<00:00, 22.57it/s]"
          ]
        },
        {
          "output_type": "stream",
          "name": "stdout",
          "text": [
            "speechbrain.utils.train_logger - epoch: 135, lr: 1.00e-04 - train final_loss: -1.48e+01 - valid final_loss: -8.08e+00, valid Accuracy soft: 0.07693658024072647, valid Accuracy Partial: 0.13899999856948853\n"
          ]
        },
        {
          "output_type": "stream",
          "name": "stderr",
          "text": [
            "\n"
          ]
        },
        {
          "output_type": "stream",
          "name": "stdout",
          "text": [
            "speechbrain.utils.checkpoints - Saved an end-of-epoch checkpoint in results/convtasnet/1234/save/CKPT+2025-07-25+04-10-46+00\n",
            "speechbrain.utils.checkpoints - Deleted checkpoint in results/convtasnet/1234/save/CKPT+2025-07-25+04-07-35+00\n",
            "speechbrain.utils.epoch_loop - Going into epoch 136\n",
            "Delta lang loss = 0.2, Delta separate loss = 0.8\n"
          ]
        },
        {
          "output_type": "stream",
          "name": "stderr",
          "text": [
            " 97%|█████████▋| 1210/1250 [02:42<00:04,  8.07it/s, train_loss=-14.8]"
          ]
        },
        {
          "output_type": "stream",
          "name": "stdout",
          "text": [
            "__main__ - infinite loss or empty loss! it happened 1 times so far - skipping this batch\n"
          ]
        },
        {
          "output_type": "stream",
          "name": "stderr",
          "text": [
            "100%|██████████| 1250/1250 [02:48<00:00,  7.44it/s, train_loss=-14.8]\n"
          ]
        },
        {
          "output_type": "stream",
          "name": "stdout",
          "text": [
            "Delta lang loss = 0.2, Delta separate loss = 0.8\n"
          ]
        },
        {
          "output_type": "stream",
          "name": "stderr",
          "text": [
            "100%|██████████| 500/500 [00:22<00:00, 22.58it/s]"
          ]
        },
        {
          "output_type": "stream",
          "name": "stdout",
          "text": [
            "speechbrain.utils.train_logger - epoch: 136, lr: 1.00e-04 - train final_loss: -1.48e+01 - valid final_loss: -8.28e+00, valid Accuracy soft: 0.08565933257341385, valid Accuracy Partial: 0.1550000011920929\n"
          ]
        },
        {
          "output_type": "stream",
          "name": "stderr",
          "text": [
            "\n"
          ]
        },
        {
          "output_type": "stream",
          "name": "stdout",
          "text": [
            "speechbrain.utils.checkpoints - Saved an end-of-epoch checkpoint in results/convtasnet/1234/save/CKPT+2025-07-25+04-13-57+00\n",
            "speechbrain.utils.checkpoints - Deleted checkpoint in results/convtasnet/1234/save/CKPT+2025-07-25+04-10-46+00\n",
            "speechbrain.utils.epoch_loop - Going into epoch 137\n",
            "Delta lang loss = 0.2, Delta separate loss = 0.8\n"
          ]
        },
        {
          "output_type": "stream",
          "name": "stderr",
          "text": [
            " 97%|█████████▋| 1210/1250 [02:42<00:05,  7.88it/s, train_loss=-14.8]"
          ]
        },
        {
          "output_type": "stream",
          "name": "stdout",
          "text": [
            "__main__ - infinite loss or empty loss! it happened 1 times so far - skipping this batch\n"
          ]
        },
        {
          "output_type": "stream",
          "name": "stderr",
          "text": [
            "100%|██████████| 1250/1250 [02:47<00:00,  7.46it/s, train_loss=-14.8]\n"
          ]
        },
        {
          "output_type": "stream",
          "name": "stdout",
          "text": [
            "Delta lang loss = 0.2, Delta separate loss = 0.8\n"
          ]
        },
        {
          "output_type": "stream",
          "name": "stderr",
          "text": [
            "100%|██████████| 500/500 [00:22<00:00, 22.48it/s]"
          ]
        },
        {
          "output_type": "stream",
          "name": "stdout",
          "text": [
            "speechbrain.utils.train_logger - epoch: 137, lr: 1.00e-04 - train final_loss: -1.48e+01 - valid final_loss: -8.39e+00, valid Accuracy soft: 0.0797320157289505, valid Accuracy Partial: 0.14000000059604645\n"
          ]
        },
        {
          "output_type": "stream",
          "name": "stderr",
          "text": [
            "\n"
          ]
        },
        {
          "output_type": "stream",
          "name": "stdout",
          "text": [
            "speechbrain.utils.checkpoints - Saved an end-of-epoch checkpoint in results/convtasnet/1234/save/CKPT+2025-07-25+04-17-07+00\n",
            "speechbrain.utils.checkpoints - Deleted checkpoint in results/convtasnet/1234/save/CKPT+2025-07-25+04-13-57+00\n",
            "speechbrain.utils.epoch_loop - Going into epoch 138\n",
            "Delta lang loss = 0.2, Delta separate loss = 0.8\n"
          ]
        },
        {
          "output_type": "stream",
          "name": "stderr",
          "text": [
            " 97%|█████████▋| 1210/1250 [02:41<00:04,  8.21it/s, train_loss=-14.8]"
          ]
        },
        {
          "output_type": "stream",
          "name": "stdout",
          "text": [
            "__main__ - infinite loss or empty loss! it happened 1 times so far - skipping this batch\n"
          ]
        },
        {
          "output_type": "stream",
          "name": "stderr",
          "text": [
            "100%|██████████| 1250/1250 [02:47<00:00,  7.47it/s, train_loss=-14.8]\n"
          ]
        },
        {
          "output_type": "stream",
          "name": "stdout",
          "text": [
            "Delta lang loss = 0.2, Delta separate loss = 0.8\n"
          ]
        },
        {
          "output_type": "stream",
          "name": "stderr",
          "text": [
            "100%|██████████| 500/500 [00:22<00:00, 22.64it/s]"
          ]
        },
        {
          "output_type": "stream",
          "name": "stdout",
          "text": [
            "speechbrain.utils.train_logger - epoch: 138, lr: 1.00e-04 - train final_loss: -1.48e+01 - valid final_loss: -1.30e+00, valid Accuracy soft: 0.08084370195865631, valid Accuracy Partial: 0.14300000667572021\n"
          ]
        },
        {
          "output_type": "stream",
          "name": "stderr",
          "text": [
            "\n"
          ]
        },
        {
          "output_type": "stream",
          "name": "stdout",
          "text": [
            "speechbrain.utils.checkpoints - Saved an end-of-epoch checkpoint in results/convtasnet/1234/save/CKPT+2025-07-25+04-20-17+00\n",
            "speechbrain.utils.checkpoints - Deleted checkpoint in results/convtasnet/1234/save/CKPT+2025-07-25+04-17-07+00\n",
            "speechbrain.utils.epoch_loop - Going into epoch 139\n",
            "Delta lang loss = 0.2, Delta separate loss = 0.8\n"
          ]
        },
        {
          "output_type": "stream",
          "name": "stderr",
          "text": [
            " 97%|█████████▋| 1210/1250 [02:42<00:05,  7.91it/s, train_loss=-14.8]"
          ]
        },
        {
          "output_type": "stream",
          "name": "stdout",
          "text": [
            "__main__ - infinite loss or empty loss! it happened 1 times so far - skipping this batch\n"
          ]
        },
        {
          "output_type": "stream",
          "name": "stderr",
          "text": [
            "100%|██████████| 1250/1250 [02:48<00:00,  7.44it/s, train_loss=-14.8]\n"
          ]
        },
        {
          "output_type": "stream",
          "name": "stdout",
          "text": [
            "Delta lang loss = 0.2, Delta separate loss = 0.8\n"
          ]
        },
        {
          "output_type": "stream",
          "name": "stderr",
          "text": [
            "100%|██████████| 500/500 [00:22<00:00, 22.55it/s]"
          ]
        },
        {
          "output_type": "stream",
          "name": "stdout",
          "text": [
            "speechbrain.utils.train_logger - epoch: 139, lr: 1.00e-04 - train final_loss: -1.48e+01 - valid final_loss: -8.11e+00, valid Accuracy soft: 0.07771024107933044, valid Accuracy Partial: 0.1289999932050705\n"
          ]
        },
        {
          "output_type": "stream",
          "name": "stderr",
          "text": [
            "\n"
          ]
        },
        {
          "output_type": "stream",
          "name": "stdout",
          "text": [
            "speechbrain.utils.checkpoints - Saved an end-of-epoch checkpoint in results/convtasnet/1234/save/CKPT+2025-07-25+04-23-28+00\n",
            "speechbrain.utils.checkpoints - Deleted checkpoint in results/convtasnet/1234/save/CKPT+2025-07-25+04-20-17+00\n",
            "speechbrain.utils.epoch_loop - Going into epoch 140\n",
            "Delta lang loss = 0.2, Delta separate loss = 0.8\n"
          ]
        },
        {
          "output_type": "stream",
          "name": "stderr",
          "text": [
            " 97%|█████████▋| 1210/1250 [02:41<00:04,  8.31it/s, train_loss=-14.9]"
          ]
        },
        {
          "output_type": "stream",
          "name": "stdout",
          "text": [
            "__main__ - infinite loss or empty loss! it happened 1 times so far - skipping this batch\n"
          ]
        },
        {
          "output_type": "stream",
          "name": "stderr",
          "text": [
            "100%|██████████| 1250/1250 [02:46<00:00,  7.49it/s, train_loss=-14.8]\n"
          ]
        },
        {
          "output_type": "stream",
          "name": "stdout",
          "text": [
            "__main__ - Removed file /content/drive/MyDrive/Project/results_120\n",
            "__main__ - Saved file succesfully\n",
            "Delta lang loss = 0.2, Delta separate loss = 0.8\n"
          ]
        },
        {
          "output_type": "stream",
          "name": "stderr",
          "text": [
            "100%|██████████| 500/500 [00:22<00:00, 22.21it/s]"
          ]
        },
        {
          "output_type": "stream",
          "name": "stdout",
          "text": [
            "speechbrain.nnet.schedulers - Changing lr from 0.0001 to 5e-05\n",
            "speechbrain.utils.train_logger - epoch: 140, lr: 1.00e-04 - train final_loss: -1.48e+01 - valid final_loss: -7.76e+00, valid Accuracy soft: 0.0797882229089737, valid Accuracy Partial: 0.13500000536441803\n"
          ]
        },
        {
          "output_type": "stream",
          "name": "stderr",
          "text": [
            "\n"
          ]
        },
        {
          "output_type": "stream",
          "name": "stdout",
          "text": [
            "speechbrain.utils.checkpoints - Saved an end-of-epoch checkpoint in results/convtasnet/1234/save/CKPT+2025-07-25+04-26-40+00\n",
            "speechbrain.utils.checkpoints - Deleted checkpoint in results/convtasnet/1234/save/CKPT+2025-07-25+04-23-28+00\n",
            "speechbrain.utils.epoch_loop - Going into epoch 141\n",
            "Delta lang loss = 0.2, Delta separate loss = 0.8\n"
          ]
        },
        {
          "output_type": "stream",
          "name": "stderr",
          "text": [
            " 97%|█████████▋| 1210/1250 [02:42<00:04,  8.14it/s, train_loss=-14.9]"
          ]
        },
        {
          "output_type": "stream",
          "name": "stdout",
          "text": [
            "__main__ - infinite loss or empty loss! it happened 1 times so far - skipping this batch\n"
          ]
        },
        {
          "output_type": "stream",
          "name": "stderr",
          "text": [
            "100%|██████████| 1250/1250 [02:47<00:00,  7.47it/s, train_loss=-14.9]\n"
          ]
        },
        {
          "output_type": "stream",
          "name": "stdout",
          "text": [
            "Delta lang loss = 0.2, Delta separate loss = 0.8\n"
          ]
        },
        {
          "output_type": "stream",
          "name": "stderr",
          "text": [
            "100%|██████████| 500/500 [00:22<00:00, 22.72it/s]"
          ]
        },
        {
          "output_type": "stream",
          "name": "stdout",
          "text": [
            "speechbrain.utils.train_logger - epoch: 141, lr: 5.00e-05 - train final_loss: -1.49e+01 - valid final_loss: 58.87, valid Accuracy soft: 0.07489562034606934, valid Accuracy Partial: 0.11999999731779099\n"
          ]
        },
        {
          "output_type": "stream",
          "name": "stderr",
          "text": [
            "\n"
          ]
        },
        {
          "output_type": "stream",
          "name": "stdout",
          "text": [
            "speechbrain.utils.checkpoints - Saved an end-of-epoch checkpoint in results/convtasnet/1234/save/CKPT+2025-07-25+04-29-50+00\n",
            "speechbrain.utils.checkpoints - Deleted checkpoint in results/convtasnet/1234/save/CKPT+2025-07-25+04-26-40+00\n",
            "speechbrain.utils.epoch_loop - Going into epoch 142\n",
            "Delta lang loss = 0.2, Delta separate loss = 0.8\n"
          ]
        },
        {
          "output_type": "stream",
          "name": "stderr",
          "text": [
            " 18%|█▊        | 219/1250 [00:30<02:17,  7.50it/s, train_loss=-15.1]"
          ]
        },
        {
          "output_type": "stream",
          "name": "stdout",
          "text": [
            "__main__ - infinite loss or empty loss! it happened 1 times so far - skipping this batch\n"
          ]
        },
        {
          "output_type": "stream",
          "name": "stderr",
          "text": [
            " 97%|█████████▋| 1210/1250 [02:42<00:04,  8.17it/s, train_loss=-14.9]"
          ]
        },
        {
          "output_type": "stream",
          "name": "stdout",
          "text": [
            "__main__ - infinite loss or empty loss! it happened 2 times so far - skipping this batch\n"
          ]
        },
        {
          "output_type": "stream",
          "name": "stderr",
          "text": [
            "100%|██████████| 1250/1250 [02:47<00:00,  7.44it/s, train_loss=-14.9]\n"
          ]
        },
        {
          "output_type": "stream",
          "name": "stdout",
          "text": [
            "Delta lang loss = 0.2, Delta separate loss = 0.8\n"
          ]
        },
        {
          "output_type": "stream",
          "name": "stderr",
          "text": [
            "100%|██████████| 500/500 [00:22<00:00, 22.54it/s]"
          ]
        },
        {
          "output_type": "stream",
          "name": "stdout",
          "text": [
            "speechbrain.utils.train_logger - epoch: 142, lr: 5.00e-05 - train final_loss: -1.49e+01 - valid final_loss: -5.58e+00, valid Accuracy soft: 0.08023685216903687, valid Accuracy Partial: 0.14399999380111694\n"
          ]
        },
        {
          "output_type": "stream",
          "name": "stderr",
          "text": [
            "\n"
          ]
        },
        {
          "output_type": "stream",
          "name": "stdout",
          "text": [
            "speechbrain.utils.checkpoints - Saved an end-of-epoch checkpoint in results/convtasnet/1234/save/CKPT+2025-07-25+04-33-01+00\n",
            "speechbrain.utils.checkpoints - Deleted checkpoint in results/convtasnet/1234/save/CKPT+2025-07-25+04-29-50+00\n",
            "speechbrain.utils.epoch_loop - Going into epoch 143\n",
            "Delta lang loss = 0.2, Delta separate loss = 0.8\n"
          ]
        },
        {
          "output_type": "stream",
          "name": "stderr",
          "text": [
            " 97%|█████████▋| 1210/1250 [02:42<00:04,  8.14it/s, train_loss=-14.9]"
          ]
        },
        {
          "output_type": "stream",
          "name": "stdout",
          "text": [
            "__main__ - infinite loss or empty loss! it happened 1 times so far - skipping this batch\n"
          ]
        },
        {
          "output_type": "stream",
          "name": "stderr",
          "text": [
            "100%|██████████| 1250/1250 [02:47<00:00,  7.46it/s, train_loss=-14.9]\n"
          ]
        },
        {
          "output_type": "stream",
          "name": "stdout",
          "text": [
            "Delta lang loss = 0.2, Delta separate loss = 0.8\n"
          ]
        },
        {
          "output_type": "stream",
          "name": "stderr",
          "text": [
            "100%|██████████| 500/500 [00:22<00:00, 22.58it/s]"
          ]
        },
        {
          "output_type": "stream",
          "name": "stdout",
          "text": [
            "speechbrain.nnet.schedulers - Changing lr from 5e-05 to 2.5e-05\n",
            "speechbrain.utils.train_logger - epoch: 143, lr: 5.00e-05 - train final_loss: -1.49e+01 - valid final_loss: 6.31, valid Accuracy soft: 0.07473795115947723, valid Accuracy Partial: 0.1340000033378601\n"
          ]
        },
        {
          "output_type": "stream",
          "name": "stderr",
          "text": [
            "\n"
          ]
        },
        {
          "output_type": "stream",
          "name": "stdout",
          "text": [
            "speechbrain.utils.checkpoints - Saved an end-of-epoch checkpoint in results/convtasnet/1234/save/CKPT+2025-07-25+04-36-12+00\n",
            "speechbrain.utils.checkpoints - Deleted checkpoint in results/convtasnet/1234/save/CKPT+2025-07-25+04-33-01+00\n",
            "speechbrain.utils.epoch_loop - Going into epoch 144\n",
            "Delta lang loss = 0.2, Delta separate loss = 0.8\n"
          ]
        },
        {
          "output_type": "stream",
          "name": "stderr",
          "text": [
            "  5%|▌         | 68/1250 [00:09<02:50,  6.93it/s, train_loss=-14.6]\n"
          ]
        },
        {
          "output_type": "error",
          "ename": "KeyboardInterrupt",
          "evalue": "",
          "traceback": [
            "\u001b[0;31m---------------------------------------------------------------------------\u001b[0m",
            "\u001b[0;31mKeyboardInterrupt\u001b[0m                         Traceback (most recent call last)",
            "\u001b[0;32m/tmp/ipython-input-9-149951838.py\u001b[0m in \u001b[0;36m<cell line: 0>\u001b[0;34m()\u001b[0m\n\u001b[1;32m    140\u001b[0m \u001b[0;34m\u001b[0m\u001b[0m\n\u001b[1;32m    141\u001b[0m \u001b[0;34m\u001b[0m\u001b[0m\n\u001b[0;32m--> 142\u001b[0;31m separator.fit(\n\u001b[0m\u001b[1;32m    143\u001b[0m     \u001b[0mseparator\u001b[0m\u001b[0;34m.\u001b[0m\u001b[0mhparams\u001b[0m\u001b[0;34m.\u001b[0m\u001b[0mepoch_counter\u001b[0m\u001b[0;34m,\u001b[0m\u001b[0;34m\u001b[0m\u001b[0;34m\u001b[0m\u001b[0m\n\u001b[1;32m    144\u001b[0m     \u001b[0mtrain_data\u001b[0m\u001b[0;34m,\u001b[0m\u001b[0;34m\u001b[0m\u001b[0;34m\u001b[0m\u001b[0m\n",
            "\u001b[0;32m/usr/local/lib/python3.11/dist-packages/speechbrain/core.py\u001b[0m in \u001b[0;36mfit\u001b[0;34m(self, epoch_counter, train_set, valid_set, progressbar, train_loader_kwargs, valid_loader_kwargs)\u001b[0m\n\u001b[1;32m   1573\u001b[0m         \u001b[0;31m# Iterate epochs\u001b[0m\u001b[0;34m\u001b[0m\u001b[0;34m\u001b[0m\u001b[0m\n\u001b[1;32m   1574\u001b[0m         \u001b[0;32mfor\u001b[0m \u001b[0mepoch\u001b[0m \u001b[0;32min\u001b[0m \u001b[0mepoch_counter\u001b[0m\u001b[0;34m:\u001b[0m\u001b[0;34m\u001b[0m\u001b[0;34m\u001b[0m\u001b[0m\n\u001b[0;32m-> 1575\u001b[0;31m             \u001b[0mself\u001b[0m\u001b[0;34m.\u001b[0m\u001b[0m_fit_train\u001b[0m\u001b[0;34m(\u001b[0m\u001b[0mtrain_set\u001b[0m\u001b[0;34m=\u001b[0m\u001b[0mtrain_set\u001b[0m\u001b[0;34m,\u001b[0m \u001b[0mepoch\u001b[0m\u001b[0;34m=\u001b[0m\u001b[0mepoch\u001b[0m\u001b[0;34m,\u001b[0m \u001b[0menable\u001b[0m\u001b[0;34m=\u001b[0m\u001b[0menable\u001b[0m\u001b[0;34m)\u001b[0m\u001b[0;34m\u001b[0m\u001b[0;34m\u001b[0m\u001b[0m\n\u001b[0m\u001b[1;32m   1576\u001b[0m             \u001b[0mself\u001b[0m\u001b[0;34m.\u001b[0m\u001b[0m_fit_valid\u001b[0m\u001b[0;34m(\u001b[0m\u001b[0mvalid_set\u001b[0m\u001b[0;34m=\u001b[0m\u001b[0mvalid_set\u001b[0m\u001b[0;34m,\u001b[0m \u001b[0mepoch\u001b[0m\u001b[0;34m=\u001b[0m\u001b[0mepoch\u001b[0m\u001b[0;34m,\u001b[0m \u001b[0menable\u001b[0m\u001b[0;34m=\u001b[0m\u001b[0menable\u001b[0m\u001b[0;34m)\u001b[0m\u001b[0;34m\u001b[0m\u001b[0;34m\u001b[0m\u001b[0m\n\u001b[1;32m   1577\u001b[0m \u001b[0;34m\u001b[0m\u001b[0m\n",
            "\u001b[0;32m/usr/local/lib/python3.11/dist-packages/speechbrain/core.py\u001b[0m in \u001b[0;36m_fit_train\u001b[0;34m(self, train_set, epoch, enable)\u001b[0m\n\u001b[1;32m   1398\u001b[0m                 \u001b[0mself\u001b[0m\u001b[0;34m.\u001b[0m\u001b[0mstep\u001b[0m \u001b[0;34m+=\u001b[0m \u001b[0;36m1\u001b[0m\u001b[0;34m\u001b[0m\u001b[0;34m\u001b[0m\u001b[0m\n\u001b[1;32m   1399\u001b[0m                 \u001b[0msteps_since_ckpt\u001b[0m \u001b[0;34m+=\u001b[0m \u001b[0;36m1\u001b[0m\u001b[0;34m\u001b[0m\u001b[0;34m\u001b[0m\u001b[0m\n\u001b[0;32m-> 1400\u001b[0;31m                 \u001b[0mloss\u001b[0m \u001b[0;34m=\u001b[0m \u001b[0mself\u001b[0m\u001b[0;34m.\u001b[0m\u001b[0mfit_batch\u001b[0m\u001b[0;34m(\u001b[0m\u001b[0mbatch\u001b[0m\u001b[0;34m)\u001b[0m\u001b[0;34m\u001b[0m\u001b[0;34m\u001b[0m\u001b[0m\n\u001b[0m\u001b[1;32m   1401\u001b[0m                 self.avg_train_loss = self.update_average(\n\u001b[1;32m   1402\u001b[0m                     \u001b[0mloss\u001b[0m\u001b[0;34m,\u001b[0m \u001b[0mself\u001b[0m\u001b[0;34m.\u001b[0m\u001b[0mavg_train_loss\u001b[0m\u001b[0;34m\u001b[0m\u001b[0;34m\u001b[0m\u001b[0m\n",
            "\u001b[0;32m/tmp/ipython-input-8-379416217.py\u001b[0m in \u001b[0;36mfit_batch\u001b[0;34m(self, batch)\u001b[0m\n\u001b[1;32m    194\u001b[0m \u001b[0;34m\u001b[0m\u001b[0m\n\u001b[1;32m    195\u001b[0m     \u001b[0;32mif\u001b[0m \u001b[0mloss\u001b[0m\u001b[0;34m.\u001b[0m\u001b[0mnelement\u001b[0m\u001b[0;34m(\u001b[0m\u001b[0;34m)\u001b[0m \u001b[0;34m>\u001b[0m \u001b[0;36m0\u001b[0m \u001b[0;32mand\u001b[0m \u001b[0mloss\u001b[0m \u001b[0;34m<\u001b[0m \u001b[0mself\u001b[0m\u001b[0;34m.\u001b[0m\u001b[0mhparams\u001b[0m\u001b[0;34m.\u001b[0m\u001b[0mloss_upper_lim\u001b[0m\u001b[0;34m:\u001b[0m\u001b[0;34m\u001b[0m\u001b[0;34m\u001b[0m\u001b[0m\n\u001b[0;32m--> 196\u001b[0;31m       \u001b[0mself\u001b[0m\u001b[0;34m.\u001b[0m\u001b[0mscaler\u001b[0m\u001b[0;34m.\u001b[0m\u001b[0mscale\u001b[0m\u001b[0;34m(\u001b[0m\u001b[0mloss\u001b[0m\u001b[0;34m)\u001b[0m\u001b[0;34m.\u001b[0m\u001b[0mbackward\u001b[0m\u001b[0;34m(\u001b[0m\u001b[0;34m)\u001b[0m\u001b[0;34m\u001b[0m\u001b[0;34m\u001b[0m\u001b[0m\n\u001b[0m\u001b[1;32m    197\u001b[0m       \u001b[0;32mif\u001b[0m \u001b[0mself\u001b[0m\u001b[0;34m.\u001b[0m\u001b[0mhparams\u001b[0m\u001b[0;34m.\u001b[0m\u001b[0mclip_grad_norm\u001b[0m \u001b[0;34m>=\u001b[0m \u001b[0;36m0\u001b[0m\u001b[0;34m:\u001b[0m\u001b[0;34m\u001b[0m\u001b[0;34m\u001b[0m\u001b[0m\n\u001b[1;32m    198\u001b[0m         \u001b[0mself\u001b[0m\u001b[0;34m.\u001b[0m\u001b[0mscaler\u001b[0m\u001b[0;34m.\u001b[0m\u001b[0munscale_\u001b[0m\u001b[0;34m(\u001b[0m\u001b[0mself\u001b[0m\u001b[0;34m.\u001b[0m\u001b[0moptimizer\u001b[0m\u001b[0;34m)\u001b[0m\u001b[0;34m\u001b[0m\u001b[0;34m\u001b[0m\u001b[0m\n",
            "\u001b[0;32m/usr/local/lib/python3.11/dist-packages/torch/_tensor.py\u001b[0m in \u001b[0;36mbackward\u001b[0;34m(self, gradient, retain_graph, create_graph, inputs)\u001b[0m\n\u001b[1;32m    624\u001b[0m                 \u001b[0minputs\u001b[0m\u001b[0;34m=\u001b[0m\u001b[0minputs\u001b[0m\u001b[0;34m,\u001b[0m\u001b[0;34m\u001b[0m\u001b[0;34m\u001b[0m\u001b[0m\n\u001b[1;32m    625\u001b[0m             )\n\u001b[0;32m--> 626\u001b[0;31m         torch.autograd.backward(\n\u001b[0m\u001b[1;32m    627\u001b[0m             \u001b[0mself\u001b[0m\u001b[0;34m,\u001b[0m \u001b[0mgradient\u001b[0m\u001b[0;34m,\u001b[0m \u001b[0mretain_graph\u001b[0m\u001b[0;34m,\u001b[0m \u001b[0mcreate_graph\u001b[0m\u001b[0;34m,\u001b[0m \u001b[0minputs\u001b[0m\u001b[0;34m=\u001b[0m\u001b[0minputs\u001b[0m\u001b[0;34m\u001b[0m\u001b[0;34m\u001b[0m\u001b[0m\n\u001b[1;32m    628\u001b[0m         )\n",
            "\u001b[0;32m/usr/local/lib/python3.11/dist-packages/torch/autograd/__init__.py\u001b[0m in \u001b[0;36mbackward\u001b[0;34m(tensors, grad_tensors, retain_graph, create_graph, grad_variables, inputs)\u001b[0m\n\u001b[1;32m    345\u001b[0m     \u001b[0;31m# some Python versions print out the first line of a multi-line function\u001b[0m\u001b[0;34m\u001b[0m\u001b[0;34m\u001b[0m\u001b[0m\n\u001b[1;32m    346\u001b[0m     \u001b[0;31m# calls in the traceback and some print out the last line\u001b[0m\u001b[0;34m\u001b[0m\u001b[0;34m\u001b[0m\u001b[0m\n\u001b[0;32m--> 347\u001b[0;31m     _engine_run_backward(\n\u001b[0m\u001b[1;32m    348\u001b[0m         \u001b[0mtensors\u001b[0m\u001b[0;34m,\u001b[0m\u001b[0;34m\u001b[0m\u001b[0;34m\u001b[0m\u001b[0m\n\u001b[1;32m    349\u001b[0m         \u001b[0mgrad_tensors_\u001b[0m\u001b[0;34m,\u001b[0m\u001b[0;34m\u001b[0m\u001b[0;34m\u001b[0m\u001b[0m\n",
            "\u001b[0;32m/usr/local/lib/python3.11/dist-packages/torch/autograd/graph.py\u001b[0m in \u001b[0;36m_engine_run_backward\u001b[0;34m(t_outputs, *args, **kwargs)\u001b[0m\n\u001b[1;32m    821\u001b[0m         \u001b[0munregister_hooks\u001b[0m \u001b[0;34m=\u001b[0m \u001b[0m_register_logging_hooks_on_whole_graph\u001b[0m\u001b[0;34m(\u001b[0m\u001b[0mt_outputs\u001b[0m\u001b[0;34m)\u001b[0m\u001b[0;34m\u001b[0m\u001b[0;34m\u001b[0m\u001b[0m\n\u001b[1;32m    822\u001b[0m     \u001b[0;32mtry\u001b[0m\u001b[0;34m:\u001b[0m\u001b[0;34m\u001b[0m\u001b[0;34m\u001b[0m\u001b[0m\n\u001b[0;32m--> 823\u001b[0;31m         return Variable._execution_engine.run_backward(  # Calls into the C++ engine to run the backward pass\n\u001b[0m\u001b[1;32m    824\u001b[0m             \u001b[0mt_outputs\u001b[0m\u001b[0;34m,\u001b[0m \u001b[0;34m*\u001b[0m\u001b[0margs\u001b[0m\u001b[0;34m,\u001b[0m \u001b[0;34m**\u001b[0m\u001b[0mkwargs\u001b[0m\u001b[0;34m\u001b[0m\u001b[0;34m\u001b[0m\u001b[0m\n\u001b[1;32m    825\u001b[0m         )  # Calls into the C++ engine to run the backward pass\n",
            "\u001b[0;31mKeyboardInterrupt\u001b[0m: "
          ]
        }
      ],
      "source": [
        "# Load hyperparameters file with command-line overrides\n",
        "import os\n",
        "os.environ[\"PYTORCH_CUDA_ALLOC_CONF\"] = \"expandable_segments:True\"\n",
        "\n",
        "import torch\n",
        "torch.cuda.empty_cache()\n",
        "args = [\"/content/hparams/conVasNet_asteroid.yml\"]\n",
        "hparams_file, run_opts, overrides = sb.parse_arguments(args)\n",
        "\n",
        "\n",
        "epochs = 200\n",
        "with open(hparams_file, encoding=\"utf-8\") as fin:\n",
        "  hparams = load_hyperpyyaml(fin, overrides)\n",
        "\n",
        "# Initialize ddp (useful only for multi-GPU DDP training)\n",
        "sb.utils.distributed.ddp_init_group(run_opts)\n",
        "\n",
        "# Logger info\n",
        "logger = get_logger(__name__)\n",
        "\n",
        "# Create experiment directory\n",
        "sb.create_experiment_directory(\n",
        "  experiment_directory=hparams[\"output_folder\"],\n",
        "  hyperparams_to_save=hparams_file,\n",
        "  overrides=overrides,\n",
        ")\n",
        "\n",
        "# Update precision to bf16 if the device is CPU and precision is fp16\n",
        "if run_opts.get(\"device\") == \"cpu\" and hparams.get(\"precision\") == \"fp16\":\n",
        "  hparams[\"precision\"] = \"bf16\"\n",
        "\n",
        "# Check if wsj0_tr is set with dynamic mixing\n",
        "if hparams[\"dynamic_mixing\"] and not os.path.exists(hparams[\"base_folder_dm\"]):\n",
        "  raise ValueError(\"Please, specify a valid base_folder_dm folder when using dynamic mixing\")\n",
        "\n",
        "import sys\n",
        "sys.path.append('/content/')\n",
        "\n",
        "label_encoder = hparams[\"label_encoder\"]\n",
        "label_encoder.expect_len(107) #new Line Added\n",
        "label_encoder.load('/content/label_encoder.txt')\n",
        "# Data preparation\n",
        "from prepare_data import prepare_wsjmix  # noqa\n",
        "\n",
        "run_on_main(\n",
        "    prepare_wsjmix,\n",
        "    kwargs={\n",
        "        \"datapath\": hparams[\"data_folder\"],\n",
        "        \"savepath\": hparams[\"save_folder\"],\n",
        "        \"n_spks\": hparams[\"num_spks\"],\n",
        "        \"skip_prep\": hparams[\"skip_prep\"],\n",
        "        \"fs\": hparams[\"sample_rate\"],\n",
        "    },\n",
        ")\n",
        "\n",
        "# Create dataset objects\n",
        "if hparams[\"dynamic_mixing\"]:\n",
        "    from dynamic_mixing import dynamic_mix_data_prep\n",
        "\n",
        "    # if the base_folder for dm is not processed, preprocess them\n",
        "    if \"processed\" not in hparams[\"base_folder_dm\"]:\n",
        "        # if the processed folder already exists we just use it otherwise we do the preprocessing\n",
        "        if not os.path.exists(\n",
        "            os.path.normpath(hparams[\"base_folder_dm\"]) + \"_processed\"\n",
        "        ):\n",
        "            from preprocess_dynamic_mixing import resample_folder\n",
        "\n",
        "            print(\"Resampling the base folder\")\n",
        "            run_on_main(\n",
        "                resample_folder,\n",
        "                kwargs={\n",
        "                    \"input_folder\": hparams[\"base_folder_dm\"],\n",
        "                    \"output_folder\": os.path.normpath(\n",
        "                        hparams[\"base_folder_dm\"]\n",
        "                    )\n",
        "                    + \"_processed\",\n",
        "                    \"fs\": hparams[\"sample_rate\"],\n",
        "                    \"regex\": \"**/*.wav\",\n",
        "                },\n",
        "            )\n",
        "            # adjust the base_folder_dm path\n",
        "            hparams[\"base_folder_dm\"] = (\n",
        "                os.path.normpath(hparams[\"base_folder_dm\"]) + \"_processed\"\n",
        "            )\n",
        "        else:\n",
        "            print(\n",
        "                \"Using the existing processed folder on the same directory as base_folder_dm\"\n",
        "            )\n",
        "            hparams[\"base_folder_dm\"] = (\n",
        "                os.path.normpath(hparams[\"base_folder_dm\"]) + \"_processed\"\n",
        "            )\n",
        "\n",
        "    # Collecting the hparams for dynamic batching\n",
        "    dm_hparams = {\n",
        "        \"train_data\": hparams[\"train_data\"],\n",
        "        \"data_folder\": hparams[\"data_folder\"],\n",
        "        \"base_folder_dm\": hparams[\"base_folder_dm\"],\n",
        "        \"sample_rate\": hparams[\"sample_rate\"],\n",
        "        \"num_spks\": hparams[\"num_spks\"],\n",
        "        \"training_signal_len\": hparams[\"training_signal_len\"],\n",
        "        \"dataloader_opts\": hparams[\"dataloader_opts\"],\n",
        "    }\n",
        "    train_data = dynamic_mix_data_prep(dm_hparams)\n",
        "    _, valid_data, test_data = dataio_prep(hparams)\n",
        "else:\n",
        "    train_data, valid_data, test_data = dataio_prep(hparams)\n",
        "\n",
        "trainfile_test,sr = torchaudio.load(\"/content/dataset/train/mix/Indian_eng_as_9000.wav\")\n",
        "\n",
        "logger.info(f\"Train sampling rate:{sr}\")\n",
        "\n",
        "# Load pretrained model if pretrained_separator is present in the yaml\n",
        "# if \"pretrained_separator\" in hparams:\n",
        "#     run_on_main(hparams[\"pretrained_separator\"].collect_files, kwargs={\"default_source\": \"speechbrain/sepformer-wsj02mix\"})\n",
        "#     hparams[\"pretrained_separator\"].load_collected()\n",
        "\n",
        "# Brain class initialization\n",
        "separator = MultiTask(\n",
        "    modules=hparams[\"modules\"],\n",
        "    opt_class=hparams[\"optimizer\"],\n",
        "    hparams=hparams,\n",
        "    run_opts=run_opts,\n",
        "    checkpointer=hparams[\"checkpointer\"],\n",
        ")\n",
        "\n",
        "\n",
        "\n",
        "\n",
        "# re-initialize the parameters if we don't use a pretrained model\n",
        "if \"pretrained_separator\" not in hparams:\n",
        "  for module in separator.modules.values():\n",
        "      separator.reset_layer_recursively(module)\n",
        "else:\n",
        "  logger.info(f\"Loading pretrained weights:{separator}\")\n",
        "  pretrain = hparams[\"pretrained_separator\"]\n",
        "  pretrain.collect_files()\n",
        "  pretrain.load_collected()\n",
        "\n",
        "separator.modules.convTasNet.load_state_dict(torch.load('/content/convTasNet/Results/04-02-2024/model_state_dict(2).pt'))\n",
        "\n",
        "\n",
        "separator.fit(\n",
        "    separator.hparams.epoch_counter,\n",
        "    train_data,\n",
        "    valid_data,\n",
        "    train_loader_kwargs=hparams[\"dataloader_opts\"],\n",
        "    valid_loader_kwargs=hparams[\"dataloader_opts\"],\n",
        ")"
      ]
    },
    {
      "cell_type": "code",
      "source": [],
      "metadata": {
        "id": "bMVk9UiTeq84"
      },
      "execution_count": null,
      "outputs": []
    },
    {
      "cell_type": "code",
      "source": [
        "!cp /content/hparams/conVasNet_asteroid.yml /content/drive/MyDrive/Project"
      ],
      "metadata": {
        "id": "P_OPWR9jzQSu"
      },
      "execution_count": null,
      "outputs": []
    },
    {
      "cell_type": "code",
      "source": [
        "!rm -rf /content/results"
      ],
      "metadata": {
        "id": "BjvxRqWk95hn"
      },
      "execution_count": 7,
      "outputs": []
    },
    {
      "cell_type": "markdown",
      "metadata": {
        "id": "FPKbPnBVVCVP"
      },
      "source": [
        "Graph loss and accuracy"
      ]
    },
    {
      "cell_type": "code",
      "execution_count": 10,
      "metadata": {
        "id": "62Q9ZRCgB3Cu",
        "colab": {
          "base_uri": "https://localhost:8080/",
          "height": 679
        },
        "outputId": "4cdece9e-fb42-4b17-8919-ea996f67960e"
      },
      "outputs": [
        {
          "output_type": "stream",
          "name": "stdout",
          "text": [
            "[-10.6, -11.8, -12.6, -13.2, -13.6, -13.8, -14.2, -14.5, -14.6, -14.8, -15.0, -15.1, -15.5, -15.5, -15.7, -15.9, -16.0, -16.1, -16.2, -16.3, -12.3, -12.7, -12.9, -13.0, -13.1, -13.1, -13.2, -13.2, -13.2, -13.3, -13.3, -13.3, -13.3, -13.3, -13.3, -13.3, -13.3, -13.4, -13.4, -13.4, -13.4, -13.4, -13.4, -13.4, -13.4, -13.5, -13.5, -13.5, -13.5, -13.5, -13.5, -13.6, -13.5, -13.6, -13.6, -13.6, -13.6, -13.6, -13.7, -13.7, -13.7, -13.7, -13.7, -13.7, -13.7, -13.7, -13.8, -13.8, -13.8, -13.8, -13.8, -13.8, -13.8, -13.9, -13.9, -13.9, -13.9, -13.9, -14.0, -14.0, -14.0, -14.0, -14.1, -14.1, -14.1, -14.1, -14.2, -14.2, -14.2, -14.2, -14.2, -14.3, -14.3, -14.3, -14.3, -14.3, -14.3, -14.4, -14.4, -14.4, -14.4, -14.4, -14.4, -14.4, -14.4, -14.5, -14.5, -14.5, -14.5, -14.5, -14.5, -14.6, -14.5, -14.6, -14.6, -14.6, -14.6, -14.6, -14.6, -14.6, -14.6, -14.7, -14.6, -14.7, -14.7, -14.7, -14.7, -14.7, -14.7, -14.7, -14.7, -14.8, -14.8, -14.8, -14.8, -14.8, -14.8, -14.8, -14.8, -14.8, -14.9, -14.9, -14.9]\n",
            "[-11.1, -11.0, -11.3, -11.3, -11.6, -11.7, -11.5, -11.7, -11.5, -11.6, -11.3, -11.5, -11.5, -11.4, -11.4, -11.6, -11.5, -11.5, -11.5, -11.3, -8.79, -8.68, -8.7, -8.7, -8.91, -9.04, -8.96, -9.07, -8.94, -8.94, -9.0, -8.97, -9.02, -8.95, -8.96, -8.91, -8.9, -8.94, -8.91, -8.77, -8.81, -8.55, -6.54, -8.73, -2.82, 0.249, 18.84, -6.42, -7.44, -8.31, 15.81, -1.88, -2.79, -4.75, -8.0, -5.75, -2.31, -7.44, 4.35, 24.26, -1.81, 12.84, -8.41, -8.74, -7.47, -8.38, -7.62, -7.88, -6.48, -7.8, -8.33, -8.2, -6.58, -4.52, 86.41, -0.384, 934.0, 1.14, -8.29, -8.61, -7.41, -0.731, 22.64, 37.16, -0.197, 165.0, -8.61, -8.39, -8.47, -7.9, -8.44, -7.51, -4.25, 23.25, 165.0, 42.1, -0.024, 19.51, 42.69, 6.56, -4.2, -7.55, -6.82, 3400.0, 3510.0, 2710.0, 5.22, -7.74, 4.84, 136000.0, 12900.0, 701.0, -7.39, 233.0, -2.39, 18.41, -8.35, -6.35, -8.19, 2.6, -8.22, -7.4, -8.16, -7.06, 45.71, 18.22, -7.59, 37.34, -8.28, -0.227, -2.63, 2.25, -7.56, -4.03, -8.08, -8.28, -8.39, -1.3, -8.11, -7.76, 58.87, -5.58, 6.31]\n",
            "[0.5260000228881836, 0.5569999814033508, 0.5289999842643738, 0.5299999713897705, 0.5220000147819519, 0.5350000262260437, 0.5379999876022339, 0.5090000033378601, 0.5379999876022339, 0.5329999923706055, 0.5460000038146973, 0.5360000133514404, 0.5299999713897705, 0.5299999713897705, 0.5270000100135803, 0.5289999842643738, 0.5339999794960022, 0.5289999842643738, 0.5049999952316284, 0.527999997138977, 0.6480000019073486, 0.6489999890327454, 0.6639999747276306, 0.652999997138977, 0.6610000133514404, 0.6790000200271606, 0.6790000200271606, 0.6990000009536743, 0.6779999732971191, 0.6439999938011169, 0.6349999904632568, 0.621999979019165, 0.6100000143051147, 0.6100000143051147, 0.5989999771118164, 0.5849999785423279, 0.5600000023841858, 0.546999990940094, 0.5360000133514404, 0.5049999952316284, 0.5049999952316284, 0.46000000834465027, 0.4050000011920929, 0.4429999887943268, 0.4259999990463257, 0.3869999945163727, 0.3779999911785126, 0.35499998927116394, 0.375, 0.3630000054836273, 0.3160000145435333, 0.28600001335144043, 0.2639999985694885, 0.2460000067949295, 0.27300000190734863, 0.24199999868869781, 0.23100000619888306, 0.25200000405311584, 0.24699999392032623, 0.23899999260902405, 0.29600000381469727, 0.28700000047683716, 0.3009999990463257, 0.28200000524520874, 0.2750000059604645, 0.26899999380111694, 0.24400000274181366, 0.25699999928474426, 0.2280000001192093, 0.23000000417232513, 0.22100000083446503, 0.23600000143051147, 0.20399999618530273, 0.2070000022649765, 0.2029999941587448, 0.19900000095367432, 0.20999999344348907, 0.15399999916553497, 0.15800000727176666, 0.16699999570846558, 0.1720000058412552, 0.11599999666213989, 0.1120000034570694, 0.16099999845027924, 0.13199999928474426, 0.1589999943971634, 0.15800000727176666, 0.1770000010728836, 0.1589999943971634, 0.15399999916553497, 0.16300000250339508, 0.14000000059604645, 0.1420000046491623, 0.164000004529953, 0.08799999952316284, 0.12999999523162842, 0.1459999978542328, 0.14800000190734863, 0.12800000607967377, 0.14399999380111694, 0.15800000727176666, 0.14399999380111694, 0.14399999380111694, 0.16500000655651093, 0.10400000214576721, 0.1340000033378601, 0.12300000339746475, 0.16300000250339508, 0.15800000727176666, 0.1469999998807907, 0.15600000321865082, 0.1420000046491623, 0.14900000393390656, 0.12600000202655792, 0.1599999964237213, 0.1550000011920929, 0.13300000131130219, 0.14900000393390656, 0.164000004529953, 0.16200000047683716, 0.15000000596046448, 0.14300000667572021, 0.15800000727176666, 0.1550000011920929, 0.14300000667572021, 0.13699999451637268, 0.16699999570846558, 0.15299999713897705, 0.15399999916553497, 0.16699999570846558, 0.15700000524520874, 0.12300000339746475, 0.15299999713897705, 0.15299999713897705, 0.13899999856948853, 0.1550000011920929, 0.14000000059604645, 0.14300000667572021, 0.1289999932050705, 0.13500000536441803, 0.11999999731779099, 0.14399999380111694, 0.1340000033378601]\n"
          ]
        },
        {
          "output_type": "display_data",
          "data": {
            "text/plain": [
              "<Figure size 1200x600 with 2 Axes>"
            ],
            "image/png": "[encoded data removed]"
          },
          "metadata": {}
        }
      ],
      "source": [
        "from logging import NullHandler\n",
        "import re\n",
        "import matplotlib.pyplot as plt\n",
        "\n",
        "# Initialize empty lists\n",
        "epochs = []\n",
        "valid_accuracies = []\n",
        "train_losses = []\n",
        "valid_losses = []\n",
        "separate_loss = []\n",
        "lang_loss = []\n",
        "\n",
        "# Read and parse the log file\n",
        "with open('/content/results/convtasnet/1234/train_log.txt', 'r') as file:\n",
        "  epoch_match = None\n",
        "  train_loss_match = None\n",
        "  valid_loss_match = None\n",
        "  acc_match = None\n",
        "  for line in file:\n",
        "      # Use regular expressions to extract values\n",
        "      if(epoch_match == None):\n",
        "        epoch_match = re.search(r'epoch: (\\d+)', line)\n",
        "      if(acc_match == None):\n",
        "        acc_match = re.search(r'valid Accuracy Partial: ([\\deE\\+\\-\\.]+)', line)\n",
        "      if(train_loss_match == None):\n",
        "        train_loss_match = re.search(r'train final_loss: ([\\deE\\+\\-\\.]+)', line)\n",
        "      if(valid_loss_match == None):\n",
        "        valid_loss_match = re.search(r'valid final_loss: ([\\deE\\+\\-\\.]+)', line)\n",
        "      # print(valid_loss_match)\n",
        "      # separate_loss_match = re.search(r'valid separate_loss: ([\\deE\\+\\-\\.]+)', line)\n",
        "      # lang_loss_match = re.search(r'valid lang_loss: ([\\deE\\+\\-\\.]+)', line)\n",
        "\n",
        "      if epoch_match and train_loss_match and valid_loss_match :\n",
        "          epochs.append(int(epoch_match.group(1)))\n",
        "          valid_accuracies.append(float(acc_match.group(1)))\n",
        "          train_losses.append(float(train_loss_match.group(1)))\n",
        "          valid_losses.append(float(valid_loss_match.group(1)))\n",
        "          epoch_match = None\n",
        "          train_loss_match = None\n",
        "          valid_loss_match = None\n",
        "\n",
        "          acc_match = None\n",
        "\n",
        "print(train_losses)\n",
        "print(valid_losses)\n",
        "print(valid_accuracies)\n",
        "# Plotting\n",
        "plt.figure(figsize=(12, 6))\n",
        "\n",
        "plt.subplot(1, 2, 1)\n",
        "plt.plot(epochs, valid_accuracies, marker='o', label='Valid Accuracy', color='green')\n",
        "plt.title(\"Epoch vs Valid Accuracy\")\n",
        "plt.xlabel(\"Epoch\")\n",
        "plt.ylabel(\"Accuracy\")\n",
        "plt.grid(True)\n",
        "plt.legend()\n",
        "\n",
        "plt.subplot(1, 2, 2)\n",
        "plt.plot(epochs, train_losses, marker='o', label='Train Loss', color='blue')\n",
        "plt.plot(epochs, valid_losses, marker='o', label='Valid Loss', color='orange')\n",
        "# plt.plot(epochs, separate_loss, marker='o', label='Separate Loss', color='red')\n",
        "# plt.plot(epochs, lang_loss, marker='o', label='Lang Loss', color='purple')\n",
        "plt.title(\"Epoch vs Final Losses\")\n",
        "plt.xlabel(\"Epoch\")\n",
        "plt.ylabel(\"Loss\")\n",
        "plt.grid(True)\n",
        "plt.legend()\n",
        "\n",
        "plt.tight_layout()\n",
        "plt.show()"
      ]
    },
    {
      "cell_type": "markdown",
      "metadata": {
        "id": "4EbZRnqoLHN2"
      },
      "source": [
        "Evaluate"
      ]
    },
    {
      "cell_type": "code",
      "execution_count": 11,
      "metadata": {
        "id": "hqunrgl_LIii",
        "colab": {
          "base_uri": "https://localhost:8080/"
        },
        "outputId": "da4ad1d0-f7e5-4fbf-8ccf-4f3973a8b11d"
      },
      "outputs": [
        {
          "output_type": "stream",
          "name": "stdout",
          "text": [
            "speechbrain.utils.checkpoints - Would load a checkpoint here, but none found yet.\n",
            "Delta lang loss = 0.2, Delta separate loss = 0.8\n"
          ]
        },
        {
          "output_type": "stream",
          "name": "stderr",
          "text": [
            "100%|██████████| 750/750 [00:55<00:00, 13.54it/s]"
          ]
        },
        {
          "output_type": "stream",
          "name": "stdout",
          "text": [
            "speechbrain.utils.train_logger - Epoch loaded: 144 - test final_loss: 5.57e+02, test Accuracy soft: 0.07627981901168823, test Accuracy Partial: 0.14266666769981384\n"
          ]
        },
        {
          "output_type": "stream",
          "name": "stderr",
          "text": [
            "\n"
          ]
        },
        {
          "output_type": "execute_result",
          "data": {
            "text/plain": [
              "557.2297070588596"
            ]
          },
          "metadata": {},
          "execution_count": 11
        }
      ],
      "source": [
        "# Eval\n",
        "separator.evaluate( test_data, min_key=\"si-snr\")"
      ]
    },
    {
      "cell_type": "code",
      "execution_count": null,
      "metadata": {
        "id": "T5DXWBB4nE47"
      },
      "outputs": [],
      "source": [
        "import warnings\n",
        "warnings.filterwarnings(\"ignore\", category=FutureWarning)\n",
        "separator.save_results(test_data)"
      ]
    },
    {
      "cell_type": "markdown",
      "metadata": {
        "id": "Rhv8AFvfH3GF"
      },
      "source": [
        "End Run"
      ]
    },
    {
      "cell_type": "code",
      "execution_count": null,
      "metadata": {
        "id": "3Dotxyi4D42F"
      },
      "outputs": [],
      "source": [
        "!rm -rf /content/results\n",
        "# !cp -r /content/results /content/drive/MyDrive/Project/\n",
        "# !cp -r /content/hparams/conVasNet.yml /content/drive/MyDrive/Project/results/"
      ]
    },
    {
      "cell_type": "code",
      "execution_count": null,
      "metadata": {
        "id": "dLCcz960OCEr"
      },
      "outputs": [],
      "source": [
        "from google.colab import runtime\n",
        "runtime.unassign()"
      ]
    },
    {
      "cell_type": "code",
      "execution_count": null,
      "metadata": {
        "id": "E9iOhxM7dHxb"
      },
      "outputs": [],
      "source": [
        "!cp /content/hparams/conVasNet_p.yml /content/drive/MyDrive/Project"
      ]
    },
    {
      "cell_type": "code",
      "execution_count": null,
      "metadata": {
        "id": "5MrEwuI_u-11"
      },
      "outputs": [],
      "source": [
        "# import torch\n",
        "# import torch.nn as nn\n",
        "# # from speechbrain.nnet.losses import PitWrapper\n",
        "# # pit_bceeee = PitWrapper(nn.NLLLoss(reduction ='none'))\n",
        "# loss_1 = nn.CrossEntropyLoss(reduction = 'none')\n",
        "# loss_2 = nn.CrossEntropyLoss(reduction='mean')\n",
        "# n = 0\n",
        "# while n!=100:\n",
        "#   input = torch.randn(1,2, 16, requires_grad=True)\n",
        "#   target = torch.empty(1,2,16, dtype=torch.long).random_(1)\n",
        "#   target[0][1][5] = 1\n",
        "#   target[0][0][8] = 1\n",
        "#   input = input.squeeze(0)\n",
        "#   target = target.squeeze(0)\n",
        "#   targets = (target == 1).nonzero(as_tuple=False)\n",
        "#   input_first, input_second = torch.chunk(input, chunks = 2, dim=0)\n",
        "#   target_first, target_second = torch.chunk(targets, chunks = 2, dim=0)\n",
        "#   target_first = target_first.squeeze(0)[1:]\n",
        "#   target_second = target_second.squeeze(0)[1:]\n",
        "#   # print(type(input_first),target_first,target_second)\n",
        "#   lang_loss = 0.5*torch.min(torch.stack([(loss_1(input_first,target_first)+loss_1(input_second,target_second)), (loss_1(input_first,target_second)+loss_1(input_second,target_first))]))\n",
        "#   # print(lang_loss)\n",
        "#   target_2 = target.argmax(dim = 1)\n",
        "#   # print(input,target_2,target_2.flip(0))\n",
        "#   lang_loss_2 = torch.min(torch.stack([loss_2(input,target_2),loss_2(input,target_2.flip(0))]))\n",
        "#   # print(lang_loss_2)\n",
        "#   if(lang_loss != lang_loss_2):\n",
        "#     print(f\"Different for {input}\")\n",
        "#   n = n +1"
      ]
    }
  ],
  "metadata": {
    "accelerator": "GPU",
    "colab": {
      "gpuType": "A100",
      "machine_shape": "hm",
      "provenance": []
    },
    "kernelspec": {
      "display_name": "Python 3",
      "name": "python3"
    },
    "language_info": {
      "name": "python"
    }
  },
  "nbformat": 4,
  "nbformat_minor": 0
}